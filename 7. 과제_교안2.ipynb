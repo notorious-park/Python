{
 "cells": [
  {
   "cell_type": "code",
   "execution_count": 1,
   "id": "9586709f",
   "metadata": {},
   "outputs": [],
   "source": [
    "from bs4 import BeautifulSoup \n",
    "from urllib.request import urlopen\n",
    "\n",
    "import pandas as pd\n",
    "import re"
   ]
  },
  {
   "cell_type": "code",
   "execution_count": 2,
   "id": "1ba6bfd5",
   "metadata": {},
   "outputs": [
    {
     "data": {
      "text/html": [
       "<div>\n",
       "<style scoped>\n",
       "    .dataframe tbody tr th:only-of-type {\n",
       "        vertical-align: middle;\n",
       "    }\n",
       "\n",
       "    .dataframe tbody tr th {\n",
       "        vertical-align: top;\n",
       "    }\n",
       "\n",
       "    .dataframe thead th {\n",
       "        text-align: right;\n",
       "    }\n",
       "</style>\n",
       "<table border=\"1\" class=\"dataframe\">\n",
       "  <thead>\n",
       "    <tr style=\"text-align: right;\">\n",
       "      <th></th>\n",
       "      <th>영화명</th>\n",
       "      <th>변동폭</th>\n",
       "      <th>링크</th>\n",
       "    </tr>\n",
       "    <tr>\n",
       "      <th>순위</th>\n",
       "      <th></th>\n",
       "      <th></th>\n",
       "      <th></th>\n",
       "    </tr>\n",
       "  </thead>\n",
       "  <tbody>\n",
       "    <tr>\n",
       "      <th>1</th>\n",
       "      <td>범죄도시2</td>\n",
       "      <td>0</td>\n",
       "      <td>https://movie.naver.com/movie/bi/mi/basic.nave...</td>\n",
       "    </tr>\n",
       "    <tr>\n",
       "      <th>2</th>\n",
       "      <td>쥬라기 월드: 도미니언</td>\n",
       "      <td>0</td>\n",
       "      <td>https://movie.naver.com/movie/bi/mi/basic.nave...</td>\n",
       "    </tr>\n",
       "    <tr>\n",
       "      <th>3</th>\n",
       "      <td>브로커</td>\n",
       "      <td>0</td>\n",
       "      <td>https://movie.naver.com/movie/bi/mi/basic.nave...</td>\n",
       "    </tr>\n",
       "    <tr>\n",
       "      <th>4</th>\n",
       "      <td>닥터 스트레인지: 대혼돈의 멀티버스</td>\n",
       "      <td>0</td>\n",
       "      <td>https://movie.naver.com/movie/bi/mi/basic.nave...</td>\n",
       "    </tr>\n",
       "    <tr>\n",
       "      <th>5</th>\n",
       "      <td>마녀(魔女) Part2. The Other One</td>\n",
       "      <td>2</td>\n",
       "      <td>https://movie.naver.com/movie/bi/mi/basic.nave...</td>\n",
       "    </tr>\n",
       "    <tr>\n",
       "      <th>6</th>\n",
       "      <td>그대가 조국</td>\n",
       "      <td>0</td>\n",
       "      <td>https://movie.naver.com/movie/bi/mi/basic.nave...</td>\n",
       "    </tr>\n",
       "    <tr>\n",
       "      <th>6</th>\n",
       "      <td>니 부모 얼굴이 보고 싶다</td>\n",
       "      <td>-1</td>\n",
       "      <td>https://movie.naver.com/movie/bi/mi/basic.nave...</td>\n",
       "    </tr>\n",
       "    <tr>\n",
       "      <th>8</th>\n",
       "      <td>카시오페아</td>\n",
       "      <td>0</td>\n",
       "      <td>https://movie.naver.com/movie/bi/mi/basic.nave...</td>\n",
       "    </tr>\n",
       "    <tr>\n",
       "      <th>9</th>\n",
       "      <td>탑건: 매버릭</td>\n",
       "      <td>0</td>\n",
       "      <td>https://movie.naver.com/movie/bi/mi/basic.nave...</td>\n",
       "    </tr>\n",
       "    <tr>\n",
       "      <th>10</th>\n",
       "      <td>피는 물보다 진하다</td>\n",
       "      <td>2</td>\n",
       "      <td>https://movie.naver.com/movie/bi/mi/basic.nave...</td>\n",
       "    </tr>\n",
       "  </tbody>\n",
       "</table>\n",
       "</div>"
      ],
      "text/plain": [
       "                            영화명  변동폭  \\\n",
       "순위                                     \n",
       "1                         범죄도시2    0   \n",
       "2                  쥬라기 월드: 도미니언    0   \n",
       "3                           브로커    0   \n",
       "4           닥터 스트레인지: 대혼돈의 멀티버스    0   \n",
       "5   마녀(魔女) Part2. The Other One    2   \n",
       "6                        그대가 조국    0   \n",
       "6                니 부모 얼굴이 보고 싶다   -1   \n",
       "8                         카시오페아    0   \n",
       "9                       탑건: 매버릭    0   \n",
       "10                   피는 물보다 진하다    2   \n",
       "\n",
       "                                                   링크  \n",
       "순위                                                     \n",
       "1   https://movie.naver.com/movie/bi/mi/basic.nave...  \n",
       "2   https://movie.naver.com/movie/bi/mi/basic.nave...  \n",
       "3   https://movie.naver.com/movie/bi/mi/basic.nave...  \n",
       "4   https://movie.naver.com/movie/bi/mi/basic.nave...  \n",
       "5   https://movie.naver.com/movie/bi/mi/basic.nave...  \n",
       "6   https://movie.naver.com/movie/bi/mi/basic.nave...  \n",
       "6   https://movie.naver.com/movie/bi/mi/basic.nave...  \n",
       "8   https://movie.naver.com/movie/bi/mi/basic.nave...  \n",
       "9   https://movie.naver.com/movie/bi/mi/basic.nave...  \n",
       "10  https://movie.naver.com/movie/bi/mi/basic.nave...  "
      ]
     },
     "execution_count": 2,
     "metadata": {},
     "output_type": "execute_result"
    }
   ],
   "source": [
    "df = pd.read_csv('data/movie_top10.csv', encoding='UTF-8', index_col='순위')\n",
    "df"
   ]
  },
  {
   "cell_type": "code",
   "execution_count": 3,
   "id": "bde59e29",
   "metadata": {},
   "outputs": [
    {
     "data": {
      "text/plain": [
       "'https://movie.naver.com/movie/bi/mi/basic.naver?code=192608'"
      ]
     },
     "execution_count": 3,
     "metadata": {},
     "output_type": "execute_result"
    }
   ],
   "source": [
    "url_page = df['링크'][1]\n",
    "url_page"
   ]
  },
  {
   "cell_type": "code",
   "execution_count": 4,
   "id": "9bca7721",
   "metadata": {},
   "outputs": [
    {
     "data": {
      "text/plain": [
       "<title>범죄도시2 : 네이버 영화</title>"
      ]
     },
     "execution_count": 4,
     "metadata": {},
     "output_type": "execute_result"
    }
   ],
   "source": [
    "html = urlopen(url_page)\n",
    "soup = BeautifulSoup(html, \"lxml\")\n",
    "soup.title"
   ]
  },
  {
   "cell_type": "code",
   "execution_count": 5,
   "id": "3d8d573f",
   "metadata": {},
   "outputs": [
    {
     "data": {
      "text/plain": [
       "2"
      ]
     },
     "execution_count": 5,
     "metadata": {},
     "output_type": "execute_result"
    }
   ],
   "source": [
    "tag_infos = soup.find_all('div', 'mv_info')\n",
    "len(tag_infos)\n",
    "# 미사용"
   ]
  },
  {
   "cell_type": "code",
   "execution_count": 11,
   "id": "c5da83b3",
   "metadata": {},
   "outputs": [
    {
     "data": {
      "text/plain": [
       "1"
      ]
     },
     "execution_count": 11,
     "metadata": {},
     "output_type": "execute_result"
    }
   ],
   "source": [
    "tag_infos = soup.find_all('div', 'mv_info_area')\n",
    "len(tag_infos)"
   ]
  },
  {
   "cell_type": "code",
   "execution_count": 12,
   "id": "fcf093d0",
   "metadata": {},
   "outputs": [
    {
     "data": {
      "text/plain": [
       "bs4.element.Tag"
      ]
     },
     "execution_count": 12,
     "metadata": {},
     "output_type": "execute_result"
    }
   ],
   "source": [
    "# 작업할 범위 설정\n",
    "mv_info_area = soup.find('div', 'mv_info_area')\n",
    "type(mv_info_area) # find"
   ]
  },
  {
   "cell_type": "code",
   "execution_count": 17,
   "id": "36a2abb1",
   "metadata": {},
   "outputs": [],
   "source": [
    "# tag_infos[0] 인경우, 네티즌 평가정보를 못가져 옴\n",
    "mv_info = mv_info_area.get_text()\n",
    "mv_info = mv_info.replace('\\n', ' ')\n",
    "mv_info = mv_info.replace('\\r', ' ')\n",
    "mv_info = mv_info.replace('\\t', ' ')\n",
    "# mv_info"
   ]
  },
  {
   "cell_type": "code",
   "execution_count": 18,
   "id": "4d22731e",
   "metadata": {},
   "outputs": [
    {
     "name": "stdout",
     "output_type": "stream",
     "text": [
      "   범죄도시2 상영중 the roundup, 2022     관람객 평점 관람객 평점 도움말            관람객 평점은 네이버영화에서예매하고 실제 관람 후 이용자들이작성한 평점입니다.         닫기            참여 2,418명            관람객 평점 9.07점9.07       기자 · 평론가 평점  6.56        네티즌 평점네티즌 평점 도움말    네티즌 평점 도움말                                    국내 개봉작입니다. 관람하신 영화에 대한 평점을 남겨주세요. 네티즌 평점 뿐 아니라 블로그 영화 리뷰작성 시 등록한 별점도 함께 반영됩니다.                         닫기           참여 21,448명          9.51       내 평점  0점 등록         내 평점       삭제 닫기      개요()    범죄,                            액션   한국  106분    2022 .05.18 개봉                                 감독 이상용 출연 마동석(마석도), 손석구(강해상), 최귀화(전일만)더보기 등급          [국내]                  15세 관람가   흥행    누적관객누적관객 도움말   네티즌 평점 도움말           영화진흥위원회 영화관 입장권 통합전산망 제공           닫기   9,686,860명(06.09 기준)      성별·나이별 관람추이        남자 여자      3%    10대   34%    20대   40%    30대   18%    40대   5%    50대 이상          예매하기  영화관람후 평점을 작성하시면 네이버페이 포인트 500원을 드립니다! 닫기               포스터 크게보기   \n"
     ]
    }
   ],
   "source": [
    "print(mv_info)"
   ]
  },
  {
   "cell_type": "code",
   "execution_count": null,
   "id": "81b983f2",
   "metadata": {},
   "outputs": [],
   "source": []
  },
  {
   "cell_type": "markdown",
   "id": "87ea6e18",
   "metadata": {},
   "source": [
    "### 평점 : 관람객 / 평론가 / 네티즌"
   ]
  },
  {
   "cell_type": "code",
   "execution_count": 19,
   "id": "7fcc41d9",
   "metadata": {},
   "outputs": [
    {
     "data": {
      "text/plain": [
       "1"
      ]
     },
     "execution_count": 19,
     "metadata": {},
     "output_type": "execute_result"
    }
   ],
   "source": [
    "main_score = mv_info_area.find_all('div', 'main_score')\n",
    "len(main_score)"
   ]
  },
  {
   "cell_type": "code",
   "execution_count": 20,
   "id": "eaaeb5d8",
   "metadata": {},
   "outputs": [
    {
     "data": {
      "text/plain": [
       "5"
      ]
     },
     "execution_count": 20,
     "metadata": {},
     "output_type": "execute_result"
    }
   ],
   "source": [
    "star_scores = mv_info_area.find_all('div', 'star_score')\n",
    "len(star_scores)"
   ]
  },
  {
   "cell_type": "code",
   "execution_count": 21,
   "id": "d3583ebe",
   "metadata": {},
   "outputs": [
    {
     "data": {
      "text/plain": [
       "'관람객 평점 9.07점9.07'"
      ]
     },
     "execution_count": 21,
     "metadata": {},
     "output_type": "execute_result"
    }
   ],
   "source": [
    "star_scores[0].get_text().strip()"
   ]
  },
  {
   "cell_type": "code",
   "execution_count": 22,
   "id": "345264d3",
   "metadata": {},
   "outputs": [
    {
     "name": "stdout",
     "output_type": "stream",
     "text": [
      "[1] 관람객 평점 9.07점9.07\n",
      "[2] 6.56\n",
      "[3] 9.51\n",
      "[4] 0점\n",
      "등록\n",
      "[5] \n"
     ]
    }
   ],
   "source": [
    "for idx in range(len(star_scores)):\n",
    "    print('[{}] {}'.format(idx+1, star_scores[idx].get_text().strip()))"
   ]
  },
  {
   "cell_type": "code",
   "execution_count": 23,
   "id": "81d524e8",
   "metadata": {},
   "outputs": [
    {
     "data": {
      "text/plain": [
       "['9.07', '6.56', '9.51']"
      ]
     },
     "execution_count": 23,
     "metadata": {},
     "output_type": "execute_result"
    }
   ],
   "source": [
    "Scores = list()\n",
    "\n",
    "for star_score in star_scores:\n",
    "    each_score = star_score.get_text()\n",
    "    re_score = re.search('\\d{1,2}\\.\\d{1,2}', each_score)\n",
    "    \n",
    "    if re_score is not None:\n",
    "        score = re_score.group()\n",
    "        # print('[{}]'.format(score))\n",
    "        Scores.append(score)\n",
    "    else :\n",
    "        pass\n",
    "        # print('평점 아님!!!')\n",
    "        \n",
    "\n",
    "Scores"
   ]
  },
  {
   "cell_type": "code",
   "execution_count": 24,
   "id": "438fe56c",
   "metadata": {},
   "outputs": [
    {
     "data": {
      "text/plain": [
       "'관람객:9.07 / 평론가:6.56 / 네티즌:9.51'"
      ]
     },
     "execution_count": 24,
     "metadata": {},
     "output_type": "execute_result"
    }
   ],
   "source": [
    "if len(Scores) > 2:\n",
    "    score1 = Scores[0]\n",
    "    score2 = Scores[1]\n",
    "    score3 = Scores[2]\n",
    "else:\n",
    "    score1 = '0.00'\n",
    "    score2 = '0.00'\n",
    "    score3 = '0.00'\n",
    "    \n",
    "\"관람객:{} / 평론가:{} / 네티즌:{}\".format(score1, score2, score3)"
   ]
  },
  {
   "cell_type": "markdown",
   "id": "f3d00636",
   "metadata": {},
   "source": [
    "### 영화정보 : 개요, 감독, 출연, 등급, 흥행"
   ]
  },
  {
   "cell_type": "code",
   "execution_count": 25,
   "id": "617783fc",
   "metadata": {},
   "outputs": [],
   "source": [
    "info_spec = mv_info_area.find('dl', 'info_spec')\n",
    "# info_spec = info_spec.get_text()\n",
    "# info_spec\n",
    "# print(info_spec.prettify())"
   ]
  },
  {
   "cell_type": "code",
   "execution_count": 26,
   "id": "df16e57d",
   "metadata": {},
   "outputs": [
    {
     "data": {
      "text/plain": [
       "5"
      ]
     },
     "execution_count": 26,
     "metadata": {},
     "output_type": "execute_result"
    }
   ],
   "source": [
    "arr_dt = info_spec.find_all('dt')\n",
    "len(arr_dt)"
   ]
  },
  {
   "cell_type": "code",
   "execution_count": 27,
   "id": "cc07eee0",
   "metadata": {},
   "outputs": [
    {
     "data": {
      "text/plain": [
       "5"
      ]
     },
     "execution_count": 27,
     "metadata": {},
     "output_type": "execute_result"
    }
   ],
   "source": [
    "arr_dd = info_spec.find_all('dd')\n",
    "len(arr_dd)"
   ]
  },
  {
   "cell_type": "code",
   "execution_count": 28,
   "id": "7345501f",
   "metadata": {},
   "outputs": [],
   "source": [
    "dt_step = [ 'step1', 'step2', 'step3', 'step4', 'step9' ]"
   ]
  },
  {
   "cell_type": "code",
   "execution_count": 29,
   "id": "ccecc2c3",
   "metadata": {},
   "outputs": [
    {
     "data": {
      "text/plain": [
       "<dt class=\"step1\"><em>개요()</em></dt>"
      ]
     },
     "execution_count": 29,
     "metadata": {},
     "output_type": "execute_result"
    }
   ],
   "source": [
    "arr_dt[0]"
   ]
  },
  {
   "cell_type": "code",
   "execution_count": 30,
   "id": "132b31d0",
   "metadata": {},
   "outputs": [
    {
     "data": {
      "text/plain": [
       "'step1'"
      ]
     },
     "execution_count": 30,
     "metadata": {},
     "output_type": "execute_result"
    }
   ],
   "source": [
    "idx = 0\n",
    "dt_class = arr_dt[idx]['class'][0]\n",
    "dt_class"
   ]
  },
  {
   "cell_type": "code",
   "execution_count": 31,
   "id": "97411d39",
   "metadata": {},
   "outputs": [
    {
     "data": {
      "text/plain": [
       "bs4.element.Tag"
      ]
     },
     "execution_count": 31,
     "metadata": {},
     "output_type": "execute_result"
    }
   ],
   "source": [
    "type(arr_dt[idx])"
   ]
  },
  {
   "cell_type": "code",
   "execution_count": 32,
   "id": "a54b2a4a",
   "metadata": {},
   "outputs": [
    {
     "data": {
      "text/plain": [
       "<dt class=\"step1\"><em>개요()</em></dt>"
      ]
     },
     "execution_count": 32,
     "metadata": {},
     "output_type": "execute_result"
    }
   ],
   "source": [
    "arr_dt[idx]"
   ]
  },
  {
   "cell_type": "code",
   "execution_count": 33,
   "id": "8a9ed02d",
   "metadata": {},
   "outputs": [
    {
     "name": "stdout",
     "output_type": "stream",
     "text": [
      "0 : step1 -> <class 'bs4.element.Tag'>\n",
      "1 : step2 -> <class 'bs4.element.Tag'>\n",
      "2 : step3 -> <class 'bs4.element.Tag'>\n",
      "3 : step4 -> <class 'bs4.element.Tag'>\n",
      "4 : step9 -> <class 'bs4.element.Tag'>\n"
     ]
    }
   ],
   "source": [
    "genre     = None\n",
    "director  = None\n",
    "casting   = None\n",
    "rating    = None\n",
    "ticketing = None\n",
    "\n",
    "for idx in range(len(arr_dt)):\n",
    "    dt_class = arr_dt[idx]['class'][0]\n",
    "    dd_value = arr_dd[idx]\n",
    "    print('{} : {} -> {}'.format(idx, dt_class, type(dd_value)))\n",
    "    \n",
    "    if dt_class=='step1':\n",
    "        genreTag =  dd_value\n",
    "        \n",
    "    elif dt_class=='step2':\n",
    "        directorTag =  dd_value\n",
    "        \n",
    "    elif dt_class=='step3':\n",
    "        castingTag =  dd_value\n",
    "        \n",
    "    elif dt_class=='step4':\n",
    "        ratingTag =  dd_value\n",
    "        \n",
    "    elif dt_class=='step9':\n",
    "        ticketingTag =  dd_value"
   ]
  },
  {
   "cell_type": "markdown",
   "id": "4ab07923",
   "metadata": {},
   "source": [
    "### 장르"
   ]
  },
  {
   "cell_type": "code",
   "execution_count": 42,
   "id": "86f689eb",
   "metadata": {},
   "outputs": [
    {
     "data": {
      "text/plain": [
       "'범죄, 액션'"
      ]
     },
     "execution_count": 42,
     "metadata": {},
     "output_type": "execute_result"
    }
   ],
   "source": [
    "genre = genreTag\n",
    "genre = genreTag.find('span').get_text()\n",
    "genre = genre.replace('\\n', '')\n",
    "genre = genre.replace('\\r', '')\n",
    "genre = genre.replace('\\t', '')\n",
    "genre = genre.strip()\n",
    "genre"
   ]
  },
  {
   "cell_type": "markdown",
   "id": "f5ba8d75",
   "metadata": {},
   "source": [
    "### 감독"
   ]
  },
  {
   "cell_type": "code",
   "execution_count": 43,
   "id": "231efea5",
   "metadata": {},
   "outputs": [
    {
     "data": {
      "text/plain": [
       "'이상용'"
      ]
     },
     "execution_count": 43,
     "metadata": {},
     "output_type": "execute_result"
    }
   ],
   "source": [
    "director = directorTag\n",
    "director = directorTag.get_text()\n",
    "director = director.strip()\n",
    "director"
   ]
  },
  {
   "cell_type": "markdown",
   "id": "5357ae04",
   "metadata": {},
   "source": [
    "### 출연"
   ]
  },
  {
   "cell_type": "code",
   "execution_count": 44,
   "id": "485db4fa",
   "metadata": {},
   "outputs": [
    {
     "data": {
      "text/plain": [
       "'마동석(마석도), 손석구(강해상), 최귀화(전일만)'"
      ]
     },
     "execution_count": 44,
     "metadata": {},
     "output_type": "execute_result"
    }
   ],
   "source": [
    "casting = castingTag\n",
    "casting = castingTag.get_text()\n",
    "casting = casting.replace('더보기', '')\n",
    "casting = casting.strip()\n",
    "casting"
   ]
  },
  {
   "cell_type": "markdown",
   "id": "ab78d0de",
   "metadata": {},
   "source": [
    "### 등급"
   ]
  },
  {
   "cell_type": "code",
   "execution_count": 50,
   "id": "07517666",
   "metadata": {},
   "outputs": [
    {
     "data": {
      "text/plain": [
       "'[국내] 15세 관람가'"
      ]
     },
     "execution_count": 50,
     "metadata": {},
     "output_type": "execute_result"
    }
   ],
   "source": [
    "rating = ratingTag\n",
    "rating = ratingTag.get_text()\n",
    "rating = rating.replace('\\n', '')\n",
    "rating = rating.replace('\\r', '')\n",
    "rating = rating.replace('\\t', '')\n",
    "rating = rating.strip()\n",
    "rating"
   ]
  },
  {
   "cell_type": "markdown",
   "id": "0ba0cc1e",
   "metadata": {},
   "source": [
    "### 흥행"
   ]
  },
  {
   "cell_type": "code",
   "execution_count": 46,
   "id": "6e8a3d56",
   "metadata": {},
   "outputs": [
    {
     "data": {
      "text/plain": [
       "'9,686,860명(06.09 기준)'"
      ]
     },
     "execution_count": 46,
     "metadata": {},
     "output_type": "execute_result"
    }
   ],
   "source": [
    "ticketing = ticketingTag\n",
    "ticketing = ticketingTag.find('p').get_text()\n",
    "ticketing = ticketing.strip()\n",
    "ticketing"
   ]
  },
  {
   "cell_type": "code",
   "execution_count": null,
   "id": "5b96b536",
   "metadata": {},
   "outputs": [],
   "source": []
  },
  {
   "cell_type": "markdown",
   "id": "5d664ce7",
   "metadata": {},
   "source": [
    "## OK! 이제부터 모듈로 묶자!"
   ]
  },
  {
   "cell_type": "code",
   "execution_count": 51,
   "id": "ba6b3156",
   "metadata": {},
   "outputs": [],
   "source": [
    "# star_scores = mv_info_area.find_all('div', 'star_score')\n",
    "def get_scores(star_scores):\n",
    "    '''\n",
    "    관람객, 평론가, 네티즌의 평점을 리턴\n",
    "    Return : str()\n",
    "    '''\n",
    "    arr_score = list()\n",
    "    for star_score in star_scores:\n",
    "        each_score = star_score.get_text()\n",
    "        re_score = re.search('\\d{1,2}\\.\\d{1,2}', each_score)\n",
    "\n",
    "        if re_score is not None:\n",
    "            score = re_score.group()\n",
    "            arr_score.append(score)\n",
    "            # print('[{}]'.format(score))\n",
    "        else :\n",
    "            pass\n",
    "\n",
    "    if len(arr_score) > 2:\n",
    "        score1 = arr_score[0]\n",
    "        score2 = arr_score[1]\n",
    "        score3 = arr_score[2]\n",
    "    else:\n",
    "        score1 = '0.00'\n",
    "        score2 = '0.00'\n",
    "        score3 = '0.00'\n",
    "\n",
    "    scores = \"관람객:{} / 평론가:{} / 네티즌:{}\".format(score1, score2, score3)\n",
    "    return scores"
   ]
  },
  {
   "cell_type": "code",
   "execution_count": 52,
   "id": "1cccff1b",
   "metadata": {},
   "outputs": [
    {
     "data": {
      "text/plain": [
       "'관람객:9.07 / 평론가:6.56 / 네티즌:9.51'"
      ]
     },
     "execution_count": 52,
     "metadata": {},
     "output_type": "execute_result"
    }
   ],
   "source": [
    "star_scores = mv_info_area.find_all('div', 'star_score')\n",
    "scores = get_scores(star_scores)\n",
    "scores"
   ]
  },
  {
   "cell_type": "code",
   "execution_count": 53,
   "id": "73d33dd1",
   "metadata": {},
   "outputs": [],
   "source": [
    "# info_spec = mv_info_area.find('dl', 'info_spec')\n",
    "def get_movie_info(info_spec):\n",
    "    '''\n",
    "    영화정보(장르, 감독, 출연, 등급, 관객수)를 리턴\n",
    "    Return : dict()\n",
    "    '''\n",
    "    arr_dt = info_spec.find_all('dt')\n",
    "    arr_dd = info_spec.find_all('dd')\n",
    "\n",
    "    dt_step = [ 'step1', 'step2', 'step3', 'step4', 'step9' ]\n",
    "    mv_dict = {\n",
    "        'genre'     : None,\n",
    "        'director'  : None,\n",
    "        'casting'   : None,\n",
    "        'rating'    : None,\n",
    "        'ticketing' : None,\n",
    "    }\n",
    "\n",
    "    for idx in range(len(arr_dt)):\n",
    "        dt_class = arr_dt[idx]['class'][0]\n",
    "        dd_value = arr_dd[idx]\n",
    "        # print('{} : {} -> {}'.format(idx, dt_class, type(dd_value)))\n",
    "\n",
    "        mv_dict = collect_mv_dict(mv_dict, dt_class, dd_value)\n",
    "        \n",
    "    return mv_dict\n",
    "    \n",
    "\n",
    "def collect_mv_dict(mv_dict, dt_class, dd_value):\n",
    "    if dt_class=='step1':\n",
    "        genreTag =  dd_value\n",
    "        genre = genreTag\n",
    "        genre = genreTag.find('span').get_text()\n",
    "        genre = genre.replace('\\n', '')\n",
    "        genre = genre.replace('\\r', '')\n",
    "        genre = genre.replace('\\t', '')\n",
    "        genre = genre.strip()\n",
    "        mv_dict['genre'] = genre        \n",
    "        \n",
    "    elif dt_class=='step2':\n",
    "        directorTag =  dd_value\n",
    "        director = directorTag\n",
    "        director = directorTag.get_text()\n",
    "        director = director.strip()\n",
    "        mv_dict['director'] = director        \n",
    "        \n",
    "    elif dt_class=='step3':\n",
    "        castingTag =  dd_value\n",
    "        casting = castingTag\n",
    "        casting = castingTag.get_text()\n",
    "        casting = casting.replace('더보기', '')\n",
    "        casting = casting.strip()\n",
    "        mv_dict['casting'] = casting\n",
    "\n",
    "    elif dt_class=='step4':\n",
    "        ratingTag =  dd_value\n",
    "        rating = ratingTag\n",
    "        rating = ratingTag.get_text()\n",
    "        rating = rating.replace('\\n', '')\n",
    "        rating = rating.replace('\\r', '')\n",
    "        rating = rating.replace('\\t', '')\n",
    "        rating = rating.strip()\n",
    "        mv_dict['rating'] = rating\n",
    "\n",
    "    elif dt_class=='step9':\n",
    "        ticketingTag =  dd_value\n",
    "        ticketing = ticketingTag\n",
    "        ticketing = ticketingTag.find('p').get_text()\n",
    "        ticketing = ticketing.strip()\n",
    "        mv_dict['ticketing'] = ticketing\n",
    "\n",
    "    return mv_dict"
   ]
  },
  {
   "cell_type": "code",
   "execution_count": 54,
   "id": "74b5dc05",
   "metadata": {},
   "outputs": [
    {
     "data": {
      "text/plain": [
       "bs4.element.Tag"
      ]
     },
     "execution_count": 54,
     "metadata": {},
     "output_type": "execute_result"
    }
   ],
   "source": [
    "info_spec = mv_info_area.find('dl', 'info_spec')\n",
    "type(info_spec)"
   ]
  },
  {
   "cell_type": "code",
   "execution_count": 55,
   "id": "0dff329c",
   "metadata": {},
   "outputs": [
    {
     "data": {
      "text/plain": [
       "{'genre': '범죄, 액션',\n",
       " 'director': '이상용',\n",
       " 'casting': '마동석(마석도), 손석구(강해상), 최귀화(전일만)',\n",
       " 'rating': '[국내] 15세 관람가',\n",
       " 'ticketing': '9,686,860명(06.09 기준)'}"
      ]
     },
     "execution_count": 55,
     "metadata": {},
     "output_type": "execute_result"
    }
   ],
   "source": [
    "mv_dict = get_movie_info(info_spec)\n",
    "mv_dict"
   ]
  },
  {
   "cell_type": "code",
   "execution_count": 56,
   "id": "f352e914",
   "metadata": {},
   "outputs": [],
   "source": [
    "# from tqdm import tqdm_notebook\n",
    "from tqdm.notebook import tqdm\n",
    "\n",
    "def crawl_movie_detail_page(df) :\n",
    "    '''\n",
    "    영화상세페이지를 크롤링 한후, DataFrame에 컬럼정보를 추가한다.\n",
    "    Return : DataFrame\n",
    "    '''\n",
    "\n",
    "    Score     = []\n",
    "    Genre     = []\n",
    "    Director  = []\n",
    "    Casting   = []\n",
    "    Rating    = []\n",
    "    Ticketing = []\n",
    "\n",
    "    for url_page in tqdm(df['링크']):\n",
    "\n",
    "        html = urlopen(url_page)\n",
    "        soup = BeautifulSoup(html, \"lxml\")\n",
    "\n",
    "        mv_info_area = soup.find('div', 'mv_info_area')\n",
    "\n",
    "        # 스코어\n",
    "        star_scores = mv_info_area.find_all('div', 'star_score')\n",
    "        scores = get_scores(star_scores)\n",
    "\n",
    "        # 영화정보\n",
    "        info_spec = mv_info_area.find('dl', 'info_spec')\n",
    "        mv_dict = get_movie_info(info_spec)\n",
    "\n",
    "        # 리스트에 담기\n",
    "        Score.append(scores)\n",
    "        Genre.append(mv_dict['genre'])\n",
    "        Director.append(mv_dict['director'])\n",
    "        Casting.append(mv_dict['casting'])\n",
    "        Rating.append(mv_dict['rating'])\n",
    "        Ticketing.append(mv_dict['ticketing'])\n",
    "\n",
    "    # DataFrame에 추가\n",
    "    df['평점'] = Score\n",
    "    df['장르'] = Genre\n",
    "    df['감독'] = Director\n",
    "    df['출연'] = Casting\n",
    "    df['등급'] = Rating\n",
    "    df['흥행'] = Ticketing\n",
    "\n",
    "    print('Crawling is Finished !!!')\n",
    "        \n",
    "    return df"
   ]
  },
  {
   "cell_type": "markdown",
   "id": "eb1b724f",
   "metadata": {},
   "source": [
    "### 크롤링 시뮬레이션"
   ]
  },
  {
   "cell_type": "code",
   "execution_count": 57,
   "id": "a411b2e8",
   "metadata": {},
   "outputs": [
    {
     "data": {
      "text/html": [
       "<div>\n",
       "<style scoped>\n",
       "    .dataframe tbody tr th:only-of-type {\n",
       "        vertical-align: middle;\n",
       "    }\n",
       "\n",
       "    .dataframe tbody tr th {\n",
       "        vertical-align: top;\n",
       "    }\n",
       "\n",
       "    .dataframe thead th {\n",
       "        text-align: right;\n",
       "    }\n",
       "</style>\n",
       "<table border=\"1\" class=\"dataframe\">\n",
       "  <thead>\n",
       "    <tr style=\"text-align: right;\">\n",
       "      <th></th>\n",
       "      <th>영화명</th>\n",
       "      <th>변동폭</th>\n",
       "      <th>링크</th>\n",
       "    </tr>\n",
       "    <tr>\n",
       "      <th>순위</th>\n",
       "      <th></th>\n",
       "      <th></th>\n",
       "      <th></th>\n",
       "    </tr>\n",
       "  </thead>\n",
       "  <tbody>\n",
       "    <tr>\n",
       "      <th>1</th>\n",
       "      <td>범죄도시2</td>\n",
       "      <td>0</td>\n",
       "      <td>https://movie.naver.com/movie/bi/mi/basic.nave...</td>\n",
       "    </tr>\n",
       "    <tr>\n",
       "      <th>2</th>\n",
       "      <td>쥬라기 월드: 도미니언</td>\n",
       "      <td>0</td>\n",
       "      <td>https://movie.naver.com/movie/bi/mi/basic.nave...</td>\n",
       "    </tr>\n",
       "    <tr>\n",
       "      <th>3</th>\n",
       "      <td>브로커</td>\n",
       "      <td>0</td>\n",
       "      <td>https://movie.naver.com/movie/bi/mi/basic.nave...</td>\n",
       "    </tr>\n",
       "    <tr>\n",
       "      <th>4</th>\n",
       "      <td>닥터 스트레인지: 대혼돈의 멀티버스</td>\n",
       "      <td>0</td>\n",
       "      <td>https://movie.naver.com/movie/bi/mi/basic.nave...</td>\n",
       "    </tr>\n",
       "    <tr>\n",
       "      <th>5</th>\n",
       "      <td>마녀(魔女) Part2. The Other One</td>\n",
       "      <td>2</td>\n",
       "      <td>https://movie.naver.com/movie/bi/mi/basic.nave...</td>\n",
       "    </tr>\n",
       "    <tr>\n",
       "      <th>6</th>\n",
       "      <td>그대가 조국</td>\n",
       "      <td>0</td>\n",
       "      <td>https://movie.naver.com/movie/bi/mi/basic.nave...</td>\n",
       "    </tr>\n",
       "    <tr>\n",
       "      <th>6</th>\n",
       "      <td>니 부모 얼굴이 보고 싶다</td>\n",
       "      <td>-1</td>\n",
       "      <td>https://movie.naver.com/movie/bi/mi/basic.nave...</td>\n",
       "    </tr>\n",
       "    <tr>\n",
       "      <th>8</th>\n",
       "      <td>카시오페아</td>\n",
       "      <td>0</td>\n",
       "      <td>https://movie.naver.com/movie/bi/mi/basic.nave...</td>\n",
       "    </tr>\n",
       "    <tr>\n",
       "      <th>9</th>\n",
       "      <td>탑건: 매버릭</td>\n",
       "      <td>0</td>\n",
       "      <td>https://movie.naver.com/movie/bi/mi/basic.nave...</td>\n",
       "    </tr>\n",
       "    <tr>\n",
       "      <th>10</th>\n",
       "      <td>피는 물보다 진하다</td>\n",
       "      <td>2</td>\n",
       "      <td>https://movie.naver.com/movie/bi/mi/basic.nave...</td>\n",
       "    </tr>\n",
       "  </tbody>\n",
       "</table>\n",
       "</div>"
      ],
      "text/plain": [
       "                            영화명  변동폭  \\\n",
       "순위                                     \n",
       "1                         범죄도시2    0   \n",
       "2                  쥬라기 월드: 도미니언    0   \n",
       "3                           브로커    0   \n",
       "4           닥터 스트레인지: 대혼돈의 멀티버스    0   \n",
       "5   마녀(魔女) Part2. The Other One    2   \n",
       "6                        그대가 조국    0   \n",
       "6                니 부모 얼굴이 보고 싶다   -1   \n",
       "8                         카시오페아    0   \n",
       "9                       탑건: 매버릭    0   \n",
       "10                   피는 물보다 진하다    2   \n",
       "\n",
       "                                                   링크  \n",
       "순위                                                     \n",
       "1   https://movie.naver.com/movie/bi/mi/basic.nave...  \n",
       "2   https://movie.naver.com/movie/bi/mi/basic.nave...  \n",
       "3   https://movie.naver.com/movie/bi/mi/basic.nave...  \n",
       "4   https://movie.naver.com/movie/bi/mi/basic.nave...  \n",
       "5   https://movie.naver.com/movie/bi/mi/basic.nave...  \n",
       "6   https://movie.naver.com/movie/bi/mi/basic.nave...  \n",
       "6   https://movie.naver.com/movie/bi/mi/basic.nave...  \n",
       "8   https://movie.naver.com/movie/bi/mi/basic.nave...  \n",
       "9   https://movie.naver.com/movie/bi/mi/basic.nave...  \n",
       "10  https://movie.naver.com/movie/bi/mi/basic.nave...  "
      ]
     },
     "execution_count": 57,
     "metadata": {},
     "output_type": "execute_result"
    }
   ],
   "source": [
    "df"
   ]
  },
  {
   "cell_type": "code",
   "execution_count": 58,
   "id": "7554cbae",
   "metadata": {},
   "outputs": [
    {
     "data": {
      "application/vnd.jupyter.widget-view+json": {
       "model_id": "4f534c7d16994c33b9664f870f3e6797",
       "version_major": 2,
       "version_minor": 0
      },
      "text/plain": [
       "  0%|          | 0/10 [00:00<?, ?it/s]"
      ]
     },
     "metadata": {},
     "output_type": "display_data"
    },
    {
     "name": "stdout",
     "output_type": "stream",
     "text": [
      "Crawling is Finished !!!\n"
     ]
    }
   ],
   "source": [
    "result_df = crawl_movie_detail_page(df)"
   ]
  },
  {
   "cell_type": "code",
   "execution_count": 59,
   "id": "b38b8958",
   "metadata": {},
   "outputs": [
    {
     "data": {
      "text/html": [
       "<div>\n",
       "<style scoped>\n",
       "    .dataframe tbody tr th:only-of-type {\n",
       "        vertical-align: middle;\n",
       "    }\n",
       "\n",
       "    .dataframe tbody tr th {\n",
       "        vertical-align: top;\n",
       "    }\n",
       "\n",
       "    .dataframe thead th {\n",
       "        text-align: right;\n",
       "    }\n",
       "</style>\n",
       "<table border=\"1\" class=\"dataframe\">\n",
       "  <thead>\n",
       "    <tr style=\"text-align: right;\">\n",
       "      <th></th>\n",
       "      <th>영화명</th>\n",
       "      <th>변동폭</th>\n",
       "      <th>링크</th>\n",
       "      <th>평점</th>\n",
       "      <th>장르</th>\n",
       "      <th>감독</th>\n",
       "      <th>출연</th>\n",
       "      <th>등급</th>\n",
       "      <th>흥행</th>\n",
       "    </tr>\n",
       "    <tr>\n",
       "      <th>순위</th>\n",
       "      <th></th>\n",
       "      <th></th>\n",
       "      <th></th>\n",
       "      <th></th>\n",
       "      <th></th>\n",
       "      <th></th>\n",
       "      <th></th>\n",
       "      <th></th>\n",
       "      <th></th>\n",
       "    </tr>\n",
       "  </thead>\n",
       "  <tbody>\n",
       "    <tr>\n",
       "      <th>1</th>\n",
       "      <td>범죄도시2</td>\n",
       "      <td>0</td>\n",
       "      <td>https://movie.naver.com/movie/bi/mi/basic.nave...</td>\n",
       "      <td>관람객:9.07 / 평론가:6.56 / 네티즌:9.51</td>\n",
       "      <td>범죄, 액션</td>\n",
       "      <td>이상용</td>\n",
       "      <td>마동석(마석도), 손석구(강해상), 최귀화(전일만)</td>\n",
       "      <td>[국내] 15세 관람가</td>\n",
       "      <td>9,686,860명(06.09 기준)</td>\n",
       "    </tr>\n",
       "    <tr>\n",
       "      <th>2</th>\n",
       "      <td>쥬라기 월드: 도미니언</td>\n",
       "      <td>0</td>\n",
       "      <td>https://movie.naver.com/movie/bi/mi/basic.nave...</td>\n",
       "      <td>관람객:6.85 / 평론가:6.40 / 네티즌:6.18</td>\n",
       "      <td>액션, 모험</td>\n",
       "      <td>콜린 트레보로우</td>\n",
       "      <td>크리스 프랫(오웬 그래디), 브라이스 달라스 하워드(클레어 디어링)</td>\n",
       "      <td>[국내] 12세 관람가</td>\n",
       "      <td>2,302,724명(06.09 기준)</td>\n",
       "    </tr>\n",
       "    <tr>\n",
       "      <th>3</th>\n",
       "      <td>브로커</td>\n",
       "      <td>0</td>\n",
       "      <td>https://movie.naver.com/movie/bi/mi/basic.nave...</td>\n",
       "      <td>관람객:7.48 / 평론가:6.80 / 네티즌:6.18</td>\n",
       "      <td>드라마</td>\n",
       "      <td>고레에다 히로카즈</td>\n",
       "      <td>송강호, 강동원, 배두나</td>\n",
       "      <td>[국내] 12세 관람가</td>\n",
       "      <td>257,989명(06.09 기준)</td>\n",
       "    </tr>\n",
       "    <tr>\n",
       "      <th>4</th>\n",
       "      <td>닥터 스트레인지: 대혼돈의 멀티버스</td>\n",
       "      <td>0</td>\n",
       "      <td>https://movie.naver.com/movie/bi/mi/basic.nave...</td>\n",
       "      <td>관람객:7.79 / 평론가:6.80 / 네티즌:7.33</td>\n",
       "      <td>액션, 판타지, 모험</td>\n",
       "      <td>샘 레이미</td>\n",
       "      <td>베네딕트 컴버배치(닥터 스트레인지), 엘리자베스 올슨(완다 막시모프 / 스칼렛 위치)</td>\n",
       "      <td>[국내] 12세 관람가</td>\n",
       "      <td>5,863,047명(06.09 기준)</td>\n",
       "    </tr>\n",
       "    <tr>\n",
       "      <th>5</th>\n",
       "      <td>마녀(魔女) Part2. The Other One</td>\n",
       "      <td>2</td>\n",
       "      <td>https://movie.naver.com/movie/bi/mi/basic.nave...</td>\n",
       "      <td>관람객:0.00 / 평론가:0.00 / 네티즌:0.00</td>\n",
       "      <td>액션</td>\n",
       "      <td>박훈정</td>\n",
       "      <td>신시아, 박은빈, 서은수</td>\n",
       "      <td>[국내] 15세 관람가</td>\n",
       "      <td>None</td>\n",
       "    </tr>\n",
       "    <tr>\n",
       "      <th>6</th>\n",
       "      <td>그대가 조국</td>\n",
       "      <td>0</td>\n",
       "      <td>https://movie.naver.com/movie/bi/mi/basic.nave...</td>\n",
       "      <td>관람객:9.80 / 평론가:5.00 / 네티즌:7.21</td>\n",
       "      <td>다큐멘터리</td>\n",
       "      <td>이승준</td>\n",
       "      <td>None</td>\n",
       "      <td>[국내] 12세 관람가</td>\n",
       "      <td>303,132명(06.09 기준)</td>\n",
       "    </tr>\n",
       "    <tr>\n",
       "      <th>6</th>\n",
       "      <td>니 부모 얼굴이 보고 싶다</td>\n",
       "      <td>-1</td>\n",
       "      <td>https://movie.naver.com/movie/bi/mi/basic.nave...</td>\n",
       "      <td>관람객:7.75 / 평론가:6.14 / 네티즌:7.68</td>\n",
       "      <td>드라마</td>\n",
       "      <td>김지훈</td>\n",
       "      <td>설경구</td>\n",
       "      <td>[국내] 15세 관람가</td>\n",
       "      <td>None</td>\n",
       "    </tr>\n",
       "    <tr>\n",
       "      <th>8</th>\n",
       "      <td>카시오페아</td>\n",
       "      <td>0</td>\n",
       "      <td>https://movie.naver.com/movie/bi/mi/basic.nave...</td>\n",
       "      <td>관람객:8.38 / 평론가:6.50 / 네티즌:9.22</td>\n",
       "      <td>드라마</td>\n",
       "      <td>신연식</td>\n",
       "      <td>안성기(인우), 서현진(수진), 주예림(지나)</td>\n",
       "      <td>[국내] 12세 관람가</td>\n",
       "      <td>18,025명(06.09 기준)</td>\n",
       "    </tr>\n",
       "    <tr>\n",
       "      <th>9</th>\n",
       "      <td>탑건: 매버릭</td>\n",
       "      <td>0</td>\n",
       "      <td>https://movie.naver.com/movie/bi/mi/basic.nave...</td>\n",
       "      <td>관람객:0.00 / 평론가:0.00 / 네티즌:0.00</td>\n",
       "      <td>액션</td>\n",
       "      <td>조셉 코신스키</td>\n",
       "      <td>톰 크루즈(매버릭), 마일즈 텔러(루스터), 제니퍼 코넬리(페니)</td>\n",
       "      <td>[국내] 12세 관람가</td>\n",
       "      <td>None</td>\n",
       "    </tr>\n",
       "    <tr>\n",
       "      <th>10</th>\n",
       "      <td>피는 물보다 진하다</td>\n",
       "      <td>2</td>\n",
       "      <td>https://movie.naver.com/movie/bi/mi/basic.nave...</td>\n",
       "      <td>관람객:5.50 / 평론가:3.00 / 네티즌:6.17</td>\n",
       "      <td>액션</td>\n",
       "      <td>김희성</td>\n",
       "      <td>조동혁(두현), 이완(영민), 임정은(지영)</td>\n",
       "      <td>[국내] 15세 관람가</td>\n",
       "      <td>None</td>\n",
       "    </tr>\n",
       "  </tbody>\n",
       "</table>\n",
       "</div>"
      ],
      "text/plain": [
       "                            영화명  변동폭  \\\n",
       "순위                                     \n",
       "1                         범죄도시2    0   \n",
       "2                  쥬라기 월드: 도미니언    0   \n",
       "3                           브로커    0   \n",
       "4           닥터 스트레인지: 대혼돈의 멀티버스    0   \n",
       "5   마녀(魔女) Part2. The Other One    2   \n",
       "6                        그대가 조국    0   \n",
       "6                니 부모 얼굴이 보고 싶다   -1   \n",
       "8                         카시오페아    0   \n",
       "9                       탑건: 매버릭    0   \n",
       "10                   피는 물보다 진하다    2   \n",
       "\n",
       "                                                   링크  \\\n",
       "순위                                                      \n",
       "1   https://movie.naver.com/movie/bi/mi/basic.nave...   \n",
       "2   https://movie.naver.com/movie/bi/mi/basic.nave...   \n",
       "3   https://movie.naver.com/movie/bi/mi/basic.nave...   \n",
       "4   https://movie.naver.com/movie/bi/mi/basic.nave...   \n",
       "5   https://movie.naver.com/movie/bi/mi/basic.nave...   \n",
       "6   https://movie.naver.com/movie/bi/mi/basic.nave...   \n",
       "6   https://movie.naver.com/movie/bi/mi/basic.nave...   \n",
       "8   https://movie.naver.com/movie/bi/mi/basic.nave...   \n",
       "9   https://movie.naver.com/movie/bi/mi/basic.nave...   \n",
       "10  https://movie.naver.com/movie/bi/mi/basic.nave...   \n",
       "\n",
       "                                평점           장르         감독  \\\n",
       "순위                                                           \n",
       "1   관람객:9.07 / 평론가:6.56 / 네티즌:9.51       범죄, 액션        이상용   \n",
       "2   관람객:6.85 / 평론가:6.40 / 네티즌:6.18       액션, 모험   콜린 트레보로우   \n",
       "3   관람객:7.48 / 평론가:6.80 / 네티즌:6.18          드라마  고레에다 히로카즈   \n",
       "4   관람객:7.79 / 평론가:6.80 / 네티즌:7.33  액션, 판타지, 모험      샘 레이미   \n",
       "5   관람객:0.00 / 평론가:0.00 / 네티즌:0.00           액션        박훈정   \n",
       "6   관람객:9.80 / 평론가:5.00 / 네티즌:7.21        다큐멘터리        이승준   \n",
       "6   관람객:7.75 / 평론가:6.14 / 네티즌:7.68          드라마        김지훈   \n",
       "8   관람객:8.38 / 평론가:6.50 / 네티즌:9.22          드라마        신연식   \n",
       "9   관람객:0.00 / 평론가:0.00 / 네티즌:0.00           액션    조셉 코신스키   \n",
       "10  관람객:5.50 / 평론가:3.00 / 네티즌:6.17           액션        김희성   \n",
       "\n",
       "                                                 출연            등급  \\\n",
       "순위                                                                  \n",
       "1                      마동석(마석도), 손석구(강해상), 최귀화(전일만)  [국내] 15세 관람가   \n",
       "2             크리스 프랫(오웬 그래디), 브라이스 달라스 하워드(클레어 디어링)  [국내] 12세 관람가   \n",
       "3                                     송강호, 강동원, 배두나  [국내] 12세 관람가   \n",
       "4   베네딕트 컴버배치(닥터 스트레인지), 엘리자베스 올슨(완다 막시모프 / 스칼렛 위치)  [국내] 12세 관람가   \n",
       "5                                     신시아, 박은빈, 서은수  [국내] 15세 관람가   \n",
       "6                                              None  [국내] 12세 관람가   \n",
       "6                                               설경구  [국내] 15세 관람가   \n",
       "8                         안성기(인우), 서현진(수진), 주예림(지나)  [국내] 12세 관람가   \n",
       "9              톰 크루즈(매버릭), 마일즈 텔러(루스터), 제니퍼 코넬리(페니)  [국내] 12세 관람가   \n",
       "10                         조동혁(두현), 이완(영민), 임정은(지영)  [국내] 15세 관람가   \n",
       "\n",
       "                      흥행  \n",
       "순위                        \n",
       "1   9,686,860명(06.09 기준)  \n",
       "2   2,302,724명(06.09 기준)  \n",
       "3     257,989명(06.09 기준)  \n",
       "4   5,863,047명(06.09 기준)  \n",
       "5                   None  \n",
       "6     303,132명(06.09 기준)  \n",
       "6                   None  \n",
       "8      18,025명(06.09 기준)  \n",
       "9                   None  \n",
       "10                  None  "
      ]
     },
     "execution_count": 59,
     "metadata": {},
     "output_type": "execute_result"
    }
   ],
   "source": [
    "result_df"
   ]
  },
  {
   "cell_type": "code",
   "execution_count": 60,
   "id": "963c346f",
   "metadata": {},
   "outputs": [
    {
     "data": {
      "text/plain": [
       "['영화명', '변동폭', '링크', '평점', '장르', '감독', '출연', '등급', '흥행']"
      ]
     },
     "execution_count": 60,
     "metadata": {},
     "output_type": "execute_result"
    }
   ],
   "source": [
    "columns = list(result_df.columns)\n",
    "columns"
   ]
  },
  {
   "cell_type": "code",
   "execution_count": 61,
   "id": "62da6b91",
   "metadata": {},
   "outputs": [
    {
     "data": {
      "text/plain": [
       "['영화명', '변동폭', '평점', '장르', '감독', '출연', '등급', '흥행', '링크']"
      ]
     },
     "execution_count": 61,
     "metadata": {},
     "output_type": "execute_result"
    }
   ],
   "source": [
    "columns.append(columns.pop(2))\n",
    "columns"
   ]
  },
  {
   "cell_type": "code",
   "execution_count": 62,
   "id": "c05b2b7e",
   "metadata": {},
   "outputs": [
    {
     "data": {
      "text/html": [
       "<div>\n",
       "<style scoped>\n",
       "    .dataframe tbody tr th:only-of-type {\n",
       "        vertical-align: middle;\n",
       "    }\n",
       "\n",
       "    .dataframe tbody tr th {\n",
       "        vertical-align: top;\n",
       "    }\n",
       "\n",
       "    .dataframe thead th {\n",
       "        text-align: right;\n",
       "    }\n",
       "</style>\n",
       "<table border=\"1\" class=\"dataframe\">\n",
       "  <thead>\n",
       "    <tr style=\"text-align: right;\">\n",
       "      <th></th>\n",
       "      <th>영화명</th>\n",
       "      <th>변동폭</th>\n",
       "      <th>평점</th>\n",
       "      <th>장르</th>\n",
       "      <th>감독</th>\n",
       "      <th>출연</th>\n",
       "      <th>등급</th>\n",
       "      <th>흥행</th>\n",
       "    </tr>\n",
       "    <tr>\n",
       "      <th>순위</th>\n",
       "      <th></th>\n",
       "      <th></th>\n",
       "      <th></th>\n",
       "      <th></th>\n",
       "      <th></th>\n",
       "      <th></th>\n",
       "      <th></th>\n",
       "      <th></th>\n",
       "    </tr>\n",
       "  </thead>\n",
       "  <tbody>\n",
       "    <tr>\n",
       "      <th>1</th>\n",
       "      <td>범죄도시2</td>\n",
       "      <td>0</td>\n",
       "      <td>관람객:9.07 / 평론가:6.56 / 네티즌:9.51</td>\n",
       "      <td>범죄, 액션</td>\n",
       "      <td>이상용</td>\n",
       "      <td>마동석(마석도), 손석구(강해상), 최귀화(전일만)</td>\n",
       "      <td>[국내] 15세 관람가</td>\n",
       "      <td>9,686,860명(06.09 기준)</td>\n",
       "    </tr>\n",
       "    <tr>\n",
       "      <th>2</th>\n",
       "      <td>쥬라기 월드: 도미니언</td>\n",
       "      <td>0</td>\n",
       "      <td>관람객:6.85 / 평론가:6.40 / 네티즌:6.18</td>\n",
       "      <td>액션, 모험</td>\n",
       "      <td>콜린 트레보로우</td>\n",
       "      <td>크리스 프랫(오웬 그래디), 브라이스 달라스 하워드(클레어 디어링)</td>\n",
       "      <td>[국내] 12세 관람가</td>\n",
       "      <td>2,302,724명(06.09 기준)</td>\n",
       "    </tr>\n",
       "    <tr>\n",
       "      <th>3</th>\n",
       "      <td>브로커</td>\n",
       "      <td>0</td>\n",
       "      <td>관람객:7.48 / 평론가:6.80 / 네티즌:6.18</td>\n",
       "      <td>드라마</td>\n",
       "      <td>고레에다 히로카즈</td>\n",
       "      <td>송강호, 강동원, 배두나</td>\n",
       "      <td>[국내] 12세 관람가</td>\n",
       "      <td>257,989명(06.09 기준)</td>\n",
       "    </tr>\n",
       "    <tr>\n",
       "      <th>4</th>\n",
       "      <td>닥터 스트레인지: 대혼돈의 멀티버스</td>\n",
       "      <td>0</td>\n",
       "      <td>관람객:7.79 / 평론가:6.80 / 네티즌:7.33</td>\n",
       "      <td>액션, 판타지, 모험</td>\n",
       "      <td>샘 레이미</td>\n",
       "      <td>베네딕트 컴버배치(닥터 스트레인지), 엘리자베스 올슨(완다 막시모프 / 스칼렛 위치)</td>\n",
       "      <td>[국내] 12세 관람가</td>\n",
       "      <td>5,863,047명(06.09 기준)</td>\n",
       "    </tr>\n",
       "    <tr>\n",
       "      <th>5</th>\n",
       "      <td>마녀(魔女) Part2. The Other One</td>\n",
       "      <td>2</td>\n",
       "      <td>관람객:0.00 / 평론가:0.00 / 네티즌:0.00</td>\n",
       "      <td>액션</td>\n",
       "      <td>박훈정</td>\n",
       "      <td>신시아, 박은빈, 서은수</td>\n",
       "      <td>[국내] 15세 관람가</td>\n",
       "      <td>None</td>\n",
       "    </tr>\n",
       "    <tr>\n",
       "      <th>6</th>\n",
       "      <td>그대가 조국</td>\n",
       "      <td>0</td>\n",
       "      <td>관람객:9.80 / 평론가:5.00 / 네티즌:7.21</td>\n",
       "      <td>다큐멘터리</td>\n",
       "      <td>이승준</td>\n",
       "      <td>None</td>\n",
       "      <td>[국내] 12세 관람가</td>\n",
       "      <td>303,132명(06.09 기준)</td>\n",
       "    </tr>\n",
       "    <tr>\n",
       "      <th>6</th>\n",
       "      <td>니 부모 얼굴이 보고 싶다</td>\n",
       "      <td>-1</td>\n",
       "      <td>관람객:7.75 / 평론가:6.14 / 네티즌:7.68</td>\n",
       "      <td>드라마</td>\n",
       "      <td>김지훈</td>\n",
       "      <td>설경구</td>\n",
       "      <td>[국내] 15세 관람가</td>\n",
       "      <td>None</td>\n",
       "    </tr>\n",
       "    <tr>\n",
       "      <th>8</th>\n",
       "      <td>카시오페아</td>\n",
       "      <td>0</td>\n",
       "      <td>관람객:8.38 / 평론가:6.50 / 네티즌:9.22</td>\n",
       "      <td>드라마</td>\n",
       "      <td>신연식</td>\n",
       "      <td>안성기(인우), 서현진(수진), 주예림(지나)</td>\n",
       "      <td>[국내] 12세 관람가</td>\n",
       "      <td>18,025명(06.09 기준)</td>\n",
       "    </tr>\n",
       "    <tr>\n",
       "      <th>9</th>\n",
       "      <td>탑건: 매버릭</td>\n",
       "      <td>0</td>\n",
       "      <td>관람객:0.00 / 평론가:0.00 / 네티즌:0.00</td>\n",
       "      <td>액션</td>\n",
       "      <td>조셉 코신스키</td>\n",
       "      <td>톰 크루즈(매버릭), 마일즈 텔러(루스터), 제니퍼 코넬리(페니)</td>\n",
       "      <td>[국내] 12세 관람가</td>\n",
       "      <td>None</td>\n",
       "    </tr>\n",
       "    <tr>\n",
       "      <th>10</th>\n",
       "      <td>피는 물보다 진하다</td>\n",
       "      <td>2</td>\n",
       "      <td>관람객:5.50 / 평론가:3.00 / 네티즌:6.17</td>\n",
       "      <td>액션</td>\n",
       "      <td>김희성</td>\n",
       "      <td>조동혁(두현), 이완(영민), 임정은(지영)</td>\n",
       "      <td>[국내] 15세 관람가</td>\n",
       "      <td>None</td>\n",
       "    </tr>\n",
       "  </tbody>\n",
       "</table>\n",
       "</div>"
      ],
      "text/plain": [
       "                            영화명  변동폭                              평점  \\\n",
       "순위                                                                     \n",
       "1                         범죄도시2    0  관람객:9.07 / 평론가:6.56 / 네티즌:9.51   \n",
       "2                  쥬라기 월드: 도미니언    0  관람객:6.85 / 평론가:6.40 / 네티즌:6.18   \n",
       "3                           브로커    0  관람객:7.48 / 평론가:6.80 / 네티즌:6.18   \n",
       "4           닥터 스트레인지: 대혼돈의 멀티버스    0  관람객:7.79 / 평론가:6.80 / 네티즌:7.33   \n",
       "5   마녀(魔女) Part2. The Other One    2  관람객:0.00 / 평론가:0.00 / 네티즌:0.00   \n",
       "6                        그대가 조국    0  관람객:9.80 / 평론가:5.00 / 네티즌:7.21   \n",
       "6                니 부모 얼굴이 보고 싶다   -1  관람객:7.75 / 평론가:6.14 / 네티즌:7.68   \n",
       "8                         카시오페아    0  관람객:8.38 / 평론가:6.50 / 네티즌:9.22   \n",
       "9                       탑건: 매버릭    0  관람객:0.00 / 평론가:0.00 / 네티즌:0.00   \n",
       "10                   피는 물보다 진하다    2  관람객:5.50 / 평론가:3.00 / 네티즌:6.17   \n",
       "\n",
       "             장르         감독                                               출연  \\\n",
       "순위                                                                            \n",
       "1        범죄, 액션        이상용                     마동석(마석도), 손석구(강해상), 최귀화(전일만)   \n",
       "2        액션, 모험   콜린 트레보로우            크리스 프랫(오웬 그래디), 브라이스 달라스 하워드(클레어 디어링)   \n",
       "3           드라마  고레에다 히로카즈                                    송강호, 강동원, 배두나   \n",
       "4   액션, 판타지, 모험      샘 레이미  베네딕트 컴버배치(닥터 스트레인지), 엘리자베스 올슨(완다 막시모프 / 스칼렛 위치)   \n",
       "5            액션        박훈정                                    신시아, 박은빈, 서은수   \n",
       "6         다큐멘터리        이승준                                             None   \n",
       "6           드라마        김지훈                                              설경구   \n",
       "8           드라마        신연식                        안성기(인우), 서현진(수진), 주예림(지나)   \n",
       "9            액션    조셉 코신스키             톰 크루즈(매버릭), 마일즈 텔러(루스터), 제니퍼 코넬리(페니)   \n",
       "10           액션        김희성                         조동혁(두현), 이완(영민), 임정은(지영)   \n",
       "\n",
       "              등급                    흥행  \n",
       "순위                                      \n",
       "1   [국내] 15세 관람가  9,686,860명(06.09 기준)  \n",
       "2   [국내] 12세 관람가  2,302,724명(06.09 기준)  \n",
       "3   [국내] 12세 관람가    257,989명(06.09 기준)  \n",
       "4   [국내] 12세 관람가  5,863,047명(06.09 기준)  \n",
       "5   [국내] 15세 관람가                  None  \n",
       "6   [국내] 12세 관람가    303,132명(06.09 기준)  \n",
       "6   [국내] 15세 관람가                  None  \n",
       "8   [국내] 12세 관람가     18,025명(06.09 기준)  \n",
       "9   [국내] 12세 관람가                  None  \n",
       "10  [국내] 15세 관람가                  None  "
      ]
     },
     "execution_count": 62,
     "metadata": {},
     "output_type": "execute_result"
    }
   ],
   "source": [
    "result_df = result_df.loc[:, columns[:-1]]\n",
    "result_df"
   ]
  },
  {
   "cell_type": "code",
   "execution_count": 63,
   "id": "fd85bda0",
   "metadata": {},
   "outputs": [
    {
     "data": {
      "text/plain": [
       "영화명                             범죄도시2\n",
       "변동폭                                 0\n",
       "평점     관람객:9.07 / 평론가:6.56 / 네티즌:9.51\n",
       "장르                             범죄, 액션\n",
       "감독                                이상용\n",
       "출연       마동석(마석도), 손석구(강해상), 최귀화(전일만)\n",
       "등급                       [국내] 15세 관람가\n",
       "흥행               9,686,860명(06.09 기준)\n",
       "Name: 1, dtype: object"
      ]
     },
     "execution_count": 63,
     "metadata": {},
     "output_type": "execute_result"
    }
   ],
   "source": [
    "result_df.loc[1]"
   ]
  },
  {
   "cell_type": "code",
   "execution_count": 64,
   "id": "43564851",
   "metadata": {},
   "outputs": [],
   "source": [
    "file_name='data/movie_top10_final.csv'\n",
    "result_df.to_csv(file_name, sep=',', encoding='UTF-8')"
   ]
  },
  {
   "cell_type": "code",
   "execution_count": null,
   "id": "7c182e87",
   "metadata": {},
   "outputs": [],
   "source": []
  }
 ],
 "metadata": {
  "kernelspec": {
   "display_name": "Python 3 (ipykernel)",
   "language": "python",
   "name": "python3"
  },
  "language_info": {
   "codemirror_mode": {
    "name": "ipython",
    "version": 3
   },
   "file_extension": ".py",
   "mimetype": "text/x-python",
   "name": "python",
   "nbconvert_exporter": "python",
   "pygments_lexer": "ipython3",
   "version": "3.9.12"
  }
 },
 "nbformat": 4,
 "nbformat_minor": 5
}
