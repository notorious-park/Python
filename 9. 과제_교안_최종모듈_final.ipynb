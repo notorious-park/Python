{
 "cells": [
  {
   "cell_type": "code",
   "execution_count": 11,
   "id": "16862ad9",
   "metadata": {},
   "outputs": [],
   "source": [
    "from package import mvr_step1_crawler as crawler1\n",
    "from package import mvr_step2_crawler as crawler2\n",
    "\n",
    "import pandas as pd"
   ]
  },
  {
   "cell_type": "code",
   "execution_count": 12,
   "id": "057fb1b0",
   "metadata": {},
   "outputs": [
    {
     "ename": "TypeError",
     "evalue": "'NoneType' object is not subscriptable",
     "output_type": "error",
     "traceback": [
      "\u001b[1;31m---------------------------------------------------------------------------\u001b[0m",
      "\u001b[1;31mTypeError\u001b[0m                                 Traceback (most recent call last)",
      "Input \u001b[1;32mIn [12]\u001b[0m, in \u001b[0;36m<cell line: 2>\u001b[1;34m()\u001b[0m\n\u001b[0;32m      1\u001b[0m url \u001b[38;5;241m=\u001b[39m \u001b[38;5;124m'\u001b[39m\u001b[38;5;124mhttps://movie.naver.com/movie/sdb/rank/rmovie.naver\u001b[39m\u001b[38;5;124m'\u001b[39m\n\u001b[1;32m----> 2\u001b[0m top10_df \u001b[38;5;241m=\u001b[39m \u001b[43mcrawler1\u001b[49m\u001b[38;5;241;43m.\u001b[39;49m\u001b[43mcrawl_movie_list_top10\u001b[49m\u001b[43m(\u001b[49m\u001b[43murl\u001b[49m\u001b[43m)\u001b[49m\n",
      "File \u001b[1;32m~\\Anaconda_src\\S12_웹크롤링\\package\\mvr_step1_crawler.py:30\u001b[0m, in \u001b[0;36mcrawl_movie_list_top10\u001b[1;34m(url)\u001b[0m\n\u001b[0;32m     28\u001b[0m \u001b[38;5;66;03m# 순위\u001b[39;00m\n\u001b[0;32m     29\u001b[0m ranking \u001b[38;5;241m=\u001b[39m td_tags[\u001b[38;5;241m0\u001b[39m]\u001b[38;5;241m.\u001b[39mfind(\u001b[38;5;124m'\u001b[39m\u001b[38;5;124mimg\u001b[39m\u001b[38;5;124m'\u001b[39m)\n\u001b[1;32m---> 30\u001b[0m ranking \u001b[38;5;241m=\u001b[39m \u001b[43mranking\u001b[49m\u001b[43m[\u001b[49m\u001b[38;5;124;43m'\u001b[39;49m\u001b[38;5;124;43malt\u001b[39;49m\u001b[38;5;124;43m'\u001b[39;49m\u001b[43m]\u001b[49m   \n\u001b[0;32m     31\u001b[0m ranking \u001b[38;5;241m=\u001b[39m \u001b[38;5;28mint\u001b[39m(ranking)\n\u001b[0;32m     33\u001b[0m \u001b[38;5;66;03m# 영화명\u001b[39;00m\n",
      "\u001b[1;31mTypeError\u001b[0m: 'NoneType' object is not subscriptable"
     ]
    }
   ],
   "source": [
    "url = 'https://movie.naver.com/movie/sdb/rank/rmovie.naver'\n",
    "top10_df = crawler1.crawl_movie_list_top10(url)"
   ]
  },
  {
   "cell_type": "code",
   "execution_count": null,
   "id": "095128e7",
   "metadata": {},
   "outputs": [],
   "source": []
  },
  {
   "cell_type": "code",
   "execution_count": null,
   "id": "6bbc6293",
   "metadata": {},
   "outputs": [],
   "source": []
  },
  {
   "cell_type": "code",
   "execution_count": null,
   "id": "5b678035",
   "metadata": {},
   "outputs": [],
   "source": []
  },
  {
   "cell_type": "code",
   "execution_count": null,
   "id": "f0f2f83d",
   "metadata": {},
   "outputs": [],
   "source": []
  },
  {
   "cell_type": "code",
   "execution_count": null,
   "id": "d2446fd4",
   "metadata": {},
   "outputs": [],
   "source": []
  }
 ],
 "metadata": {
  "kernelspec": {
   "display_name": "Python 3 (ipykernel)",
   "language": "python",
   "name": "python3"
  },
  "language_info": {
   "codemirror_mode": {
    "name": "ipython",
    "version": 3
   },
   "file_extension": ".py",
   "mimetype": "text/x-python",
   "name": "python",
   "nbconvert_exporter": "python",
   "pygments_lexer": "ipython3",
   "version": "3.9.12"
  }
 },
 "nbformat": 4,
 "nbformat_minor": 5
}
