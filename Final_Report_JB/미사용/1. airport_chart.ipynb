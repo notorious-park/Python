{
 "cells": [
  {
   "cell_type": "code",
   "execution_count": 37,
   "id": "ca92e200",
   "metadata": {},
   "outputs": [],
   "source": [
    "import matplotlib.pyplot as plt\n",
    "import pandas as pd\n",
    "import numpy as np\n",
    "import seaborn as sns\n",
    "sns.set()\n",
    "\n",
    "%matplotlib inline"
   ]
  },
  {
   "cell_type": "code",
   "execution_count": 38,
   "id": "aaf2db91",
   "metadata": {},
   "outputs": [],
   "source": [
    "filename = 'data/airports.xlsx'"
   ]
  },
  {
   "cell_type": "code",
   "execution_count": 40,
   "id": "f398caa1",
   "metadata": {},
   "outputs": [
    {
     "data": {
      "text/html": [
       "<div>\n",
       "<style scoped>\n",
       "    .dataframe tbody tr th:only-of-type {\n",
       "        vertical-align: middle;\n",
       "    }\n",
       "\n",
       "    .dataframe tbody tr th {\n",
       "        vertical-align: top;\n",
       "    }\n",
       "\n",
       "    .dataframe thead th {\n",
       "        text-align: right;\n",
       "    }\n",
       "</style>\n",
       "<table border=\"1\" class=\"dataframe\">\n",
       "  <thead>\n",
       "    <tr style=\"text-align: right;\">\n",
       "      <th></th>\n",
       "      <th>Unnamed: 0</th>\n",
       "      <th>Unnamed: 1</th>\n",
       "      <th>Unnamed: 2</th>\n",
       "      <th>시계열 통계</th>\n",
       "      <th>Unnamed: 4</th>\n",
       "      <th>Unnamed: 5</th>\n",
       "      <th>Unnamed: 6</th>\n",
       "      <th>Unnamed: 7</th>\n",
       "      <th>Unnamed: 8</th>\n",
       "      <th>Unnamed: 9</th>\n",
       "      <th>Unnamed: 10</th>\n",
       "      <th>Unnamed: 11</th>\n",
       "    </tr>\n",
       "  </thead>\n",
       "  <tbody>\n",
       "    <tr>\n",
       "      <th>0</th>\n",
       "      <td>NaN</td>\n",
       "      <td>NaN</td>\n",
       "      <td>NaN</td>\n",
       "      <td>NaN</td>\n",
       "      <td>NaN</td>\n",
       "      <td>NaN</td>\n",
       "      <td>NaN</td>\n",
       "      <td>NaN</td>\n",
       "      <td>NaN</td>\n",
       "      <td>NaN</td>\n",
       "      <td>NaN</td>\n",
       "      <td>NaN</td>\n",
       "    </tr>\n",
       "    <tr>\n",
       "      <th>1</th>\n",
       "      <td>검색 기간</td>\n",
       "      <td>2019.01~2022.12</td>\n",
       "      <td>NaN</td>\n",
       "      <td>NaN</td>\n",
       "      <td>NaN</td>\n",
       "      <td>NaN</td>\n",
       "      <td>NaN</td>\n",
       "      <td>NaN</td>\n",
       "      <td>NaN</td>\n",
       "      <td>NaN</td>\n",
       "      <td>NaN</td>\n",
       "      <td>NaN</td>\n",
       "    </tr>\n",
       "    <tr>\n",
       "      <th>2</th>\n",
       "      <td>공항 구분</td>\n",
       "      <td>전체</td>\n",
       "      <td>NaN</td>\n",
       "      <td>NaN</td>\n",
       "      <td>NaN</td>\n",
       "      <td>NaN</td>\n",
       "      <td>NaN</td>\n",
       "      <td>NaN</td>\n",
       "      <td>NaN</td>\n",
       "      <td>NaN</td>\n",
       "      <td>NaN</td>\n",
       "      <td>NaN</td>\n",
       "    </tr>\n",
       "    <tr>\n",
       "      <th>3</th>\n",
       "      <td>노선 구분</td>\n",
       "      <td>전체</td>\n",
       "      <td>운항 구분</td>\n",
       "      <td>전체</td>\n",
       "      <td>여객화물 구분</td>\n",
       "      <td>전체</td>\n",
       "      <td>여객 구분</td>\n",
       "      <td>전체</td>\n",
       "      <td>화물 구분</td>\n",
       "      <td>전체</td>\n",
       "      <td>연도/월 구분</td>\n",
       "      <td>전체</td>\n",
       "    </tr>\n",
       "    <tr>\n",
       "      <th>4</th>\n",
       "      <td>NaN</td>\n",
       "      <td>NaN</td>\n",
       "      <td>NaN</td>\n",
       "      <td>NaN</td>\n",
       "      <td>NaN</td>\n",
       "      <td>NaN</td>\n",
       "      <td>NaN</td>\n",
       "      <td>NaN</td>\n",
       "      <td>NaN</td>\n",
       "      <td>NaN</td>\n",
       "      <td>NaN</td>\n",
       "      <td>NaN</td>\n",
       "    </tr>\n",
       "    <tr>\n",
       "      <th>5</th>\n",
       "      <td>공항명</td>\n",
       "      <td>연도</td>\n",
       "      <td>월</td>\n",
       "      <td>운항(편)</td>\n",
       "      <td>NaN</td>\n",
       "      <td>NaN</td>\n",
       "      <td>여객(명)</td>\n",
       "      <td>NaN</td>\n",
       "      <td>NaN</td>\n",
       "      <td>화물(톤)</td>\n",
       "      <td>NaN</td>\n",
       "      <td>NaN</td>\n",
       "    </tr>\n",
       "    <tr>\n",
       "      <th>6</th>\n",
       "      <td>NaN</td>\n",
       "      <td>NaN</td>\n",
       "      <td>NaN</td>\n",
       "      <td>도착</td>\n",
       "      <td>출발</td>\n",
       "      <td>계</td>\n",
       "      <td>도착</td>\n",
       "      <td>출발</td>\n",
       "      <td>계</td>\n",
       "      <td>도착</td>\n",
       "      <td>출발</td>\n",
       "      <td>계</td>\n",
       "    </tr>\n",
       "    <tr>\n",
       "      <th>7</th>\n",
       "      <td>전체</td>\n",
       "      <td>2019</td>\n",
       "      <td>01</td>\n",
       "      <td>38,580</td>\n",
       "      <td>38,624</td>\n",
       "      <td>77,204</td>\n",
       "      <td>6,492,609</td>\n",
       "      <td>6,716,902</td>\n",
       "      <td>13,209,511</td>\n",
       "      <td>187,445.6</td>\n",
       "      <td>194,870.7</td>\n",
       "      <td>382,316.3</td>\n",
       "    </tr>\n",
       "    <tr>\n",
       "      <th>8</th>\n",
       "      <td>전체</td>\n",
       "      <td>2019</td>\n",
       "      <td>02</td>\n",
       "      <td>35,057</td>\n",
       "      <td>35,048</td>\n",
       "      <td>70,105</td>\n",
       "      <td>6,277,383</td>\n",
       "      <td>6,176,872</td>\n",
       "      <td>12,454,255</td>\n",
       "      <td>165,762.5</td>\n",
       "      <td>162,783.7</td>\n",
       "      <td>328,546.2</td>\n",
       "    </tr>\n",
       "    <tr>\n",
       "      <th>9</th>\n",
       "      <td>전체</td>\n",
       "      <td>2019</td>\n",
       "      <td>03</td>\n",
       "      <td>38,369</td>\n",
       "      <td>38,359</td>\n",
       "      <td>76,728</td>\n",
       "      <td>6,503,371</td>\n",
       "      <td>6,243,715</td>\n",
       "      <td>12,747,086</td>\n",
       "      <td>199,865.1</td>\n",
       "      <td>196,202.5</td>\n",
       "      <td>396,067.7</td>\n",
       "    </tr>\n",
       "  </tbody>\n",
       "</table>\n",
       "</div>"
      ],
      "text/plain": [
       "  Unnamed: 0       Unnamed: 1 Unnamed: 2  시계열 통계 Unnamed: 4 Unnamed: 5  \\\n",
       "0        NaN              NaN        NaN     NaN        NaN        NaN   \n",
       "1      검색 기간  2019.01~2022.12        NaN     NaN        NaN        NaN   \n",
       "2      공항 구분               전체        NaN     NaN        NaN        NaN   \n",
       "3      노선 구분               전체      운항 구분      전체    여객화물 구분         전체   \n",
       "4        NaN              NaN        NaN     NaN        NaN        NaN   \n",
       "5        공항명               연도          월   운항(편)        NaN        NaN   \n",
       "6        NaN              NaN        NaN      도착         출발          계   \n",
       "7         전체             2019         01  38,580     38,624     77,204   \n",
       "8         전체             2019         02  35,057     35,048     70,105   \n",
       "9         전체             2019         03  38,369     38,359     76,728   \n",
       "\n",
       "  Unnamed: 6 Unnamed: 7  Unnamed: 8 Unnamed: 9 Unnamed: 10 Unnamed: 11  \n",
       "0        NaN        NaN         NaN        NaN         NaN         NaN  \n",
       "1        NaN        NaN         NaN        NaN         NaN         NaN  \n",
       "2        NaN        NaN         NaN        NaN         NaN         NaN  \n",
       "3      여객 구분         전체       화물 구분         전체     연도/월 구분          전체  \n",
       "4        NaN        NaN         NaN        NaN         NaN         NaN  \n",
       "5      여객(명)        NaN         NaN      화물(톤)         NaN         NaN  \n",
       "6         도착         출발           계         도착          출발           계  \n",
       "7  6,492,609  6,716,902  13,209,511  187,445.6   194,870.7   382,316.3  \n",
       "8  6,277,383  6,176,872  12,454,255  165,762.5   162,783.7   328,546.2  \n",
       "9  6,503,371  6,243,715  12,747,086  199,865.1   196,202.5   396,067.7  "
      ]
     },
     "execution_count": 40,
     "metadata": {},
     "output_type": "execute_result"
    }
   ],
   "source": [
    "airports_df = pd.read_excel(filename)\n",
    "airports_df.head(10)"
   ]
  },
  {
   "cell_type": "code",
   "execution_count": 41,
   "id": "0422db29",
   "metadata": {},
   "outputs": [
    {
     "data": {
      "text/html": [
       "<div>\n",
       "<style scoped>\n",
       "    .dataframe tbody tr th:only-of-type {\n",
       "        vertical-align: middle;\n",
       "    }\n",
       "\n",
       "    .dataframe tbody tr th {\n",
       "        vertical-align: top;\n",
       "    }\n",
       "\n",
       "    .dataframe thead th {\n",
       "        text-align: right;\n",
       "    }\n",
       "</style>\n",
       "<table border=\"1\" class=\"dataframe\">\n",
       "  <thead>\n",
       "    <tr style=\"text-align: right;\">\n",
       "      <th></th>\n",
       "      <th>Unnamed: 0</th>\n",
       "      <th>Unnamed: 1</th>\n",
       "      <th>Unnamed: 2</th>\n",
       "      <th>도착</th>\n",
       "      <th>출발</th>\n",
       "      <th>계</th>\n",
       "      <th>도착.1</th>\n",
       "      <th>출발.1</th>\n",
       "      <th>계.1</th>\n",
       "      <th>도착.2</th>\n",
       "      <th>출발.2</th>\n",
       "      <th>계.2</th>\n",
       "    </tr>\n",
       "  </thead>\n",
       "  <tbody>\n",
       "    <tr>\n",
       "      <th>0</th>\n",
       "      <td>전체</td>\n",
       "      <td>2019</td>\n",
       "      <td>01</td>\n",
       "      <td>38,580</td>\n",
       "      <td>38,624</td>\n",
       "      <td>77,204</td>\n",
       "      <td>6,492,609</td>\n",
       "      <td>6,716,902</td>\n",
       "      <td>13,209,511</td>\n",
       "      <td>187,445.6</td>\n",
       "      <td>194,870.7</td>\n",
       "      <td>382,316.3</td>\n",
       "    </tr>\n",
       "    <tr>\n",
       "      <th>1</th>\n",
       "      <td>전체</td>\n",
       "      <td>2019</td>\n",
       "      <td>02</td>\n",
       "      <td>35,057</td>\n",
       "      <td>35,048</td>\n",
       "      <td>70,105</td>\n",
       "      <td>6,277,383</td>\n",
       "      <td>6,176,872</td>\n",
       "      <td>12,454,255</td>\n",
       "      <td>165,762.5</td>\n",
       "      <td>162,783.7</td>\n",
       "      <td>328,546.2</td>\n",
       "    </tr>\n",
       "    <tr>\n",
       "      <th>2</th>\n",
       "      <td>전체</td>\n",
       "      <td>2019</td>\n",
       "      <td>03</td>\n",
       "      <td>38,369</td>\n",
       "      <td>38,359</td>\n",
       "      <td>76,728</td>\n",
       "      <td>6,503,371</td>\n",
       "      <td>6,243,715</td>\n",
       "      <td>12,747,086</td>\n",
       "      <td>199,865.1</td>\n",
       "      <td>196,202.5</td>\n",
       "      <td>396,067.7</td>\n",
       "    </tr>\n",
       "    <tr>\n",
       "      <th>3</th>\n",
       "      <td>전체</td>\n",
       "      <td>2019</td>\n",
       "      <td>04</td>\n",
       "      <td>37,647</td>\n",
       "      <td>37,645</td>\n",
       "      <td>75,292</td>\n",
       "      <td>6,543,247</td>\n",
       "      <td>6,475,271</td>\n",
       "      <td>13,018,518</td>\n",
       "      <td>183,666.3</td>\n",
       "      <td>187,525.2</td>\n",
       "      <td>371,191.5</td>\n",
       "    </tr>\n",
       "    <tr>\n",
       "      <th>4</th>\n",
       "      <td>전체</td>\n",
       "      <td>2019</td>\n",
       "      <td>05</td>\n",
       "      <td>39,521</td>\n",
       "      <td>39,537</td>\n",
       "      <td>79,058</td>\n",
       "      <td>6,610,475</td>\n",
       "      <td>6,687,916</td>\n",
       "      <td>13,298,391</td>\n",
       "      <td>185,191</td>\n",
       "      <td>184,893.9</td>\n",
       "      <td>370,084.9</td>\n",
       "    </tr>\n",
       "  </tbody>\n",
       "</table>\n",
       "</div>"
      ],
      "text/plain": [
       "  Unnamed: 0 Unnamed: 1 Unnamed: 2      도착      출발       계       도착.1  \\\n",
       "0         전체       2019         01  38,580  38,624  77,204  6,492,609   \n",
       "1         전체       2019         02  35,057  35,048  70,105  6,277,383   \n",
       "2         전체       2019         03  38,369  38,359  76,728  6,503,371   \n",
       "3         전체       2019         04  37,647  37,645  75,292  6,543,247   \n",
       "4         전체       2019         05  39,521  39,537  79,058  6,610,475   \n",
       "\n",
       "        출발.1         계.1       도착.2       출발.2        계.2  \n",
       "0  6,716,902  13,209,511  187,445.6  194,870.7  382,316.3  \n",
       "1  6,176,872  12,454,255  165,762.5  162,783.7  328,546.2  \n",
       "2  6,243,715  12,747,086  199,865.1  196,202.5  396,067.7  \n",
       "3  6,475,271  13,018,518  183,666.3  187,525.2  371,191.5  \n",
       "4  6,687,916  13,298,391    185,191  184,893.9  370,084.9  "
      ]
     },
     "execution_count": 41,
     "metadata": {},
     "output_type": "execute_result"
    }
   ],
   "source": [
    "df = pd.read_excel(filename, sheet_name=0, header=[7], dtype='str')\n",
    "df.head(5)"
   ]
  },
  {
   "cell_type": "code",
   "execution_count": 11,
   "id": "7abb7384",
   "metadata": {},
   "outputs": [
    {
     "data": {
      "text/plain": [
       "Index(['Unnamed: 0', 'Unnamed: 1', 'Unnamed: 2', '도착', '출발', '계', '도착.1',\n",
       "       '출발.1', '계.1', '도착.2', '출발.2', '계.2'],\n",
       "      dtype='object')"
      ]
     },
     "execution_count": 11,
     "metadata": {},
     "output_type": "execute_result"
    }
   ],
   "source": [
    "df.columns"
   ]
  },
  {
   "cell_type": "code",
   "execution_count": 12,
   "id": "b382af51",
   "metadata": {},
   "outputs": [],
   "source": [
    "df = df.drop(['Unnamed: 0', '도착', '출발', '도착.1', '출발.1', '도착.2', '출발.2'], axis=1)"
   ]
  },
  {
   "cell_type": "code",
   "execution_count": 13,
   "id": "e1257695",
   "metadata": {},
   "outputs": [
    {
     "data": {
      "text/html": [
       "<div>\n",
       "<style scoped>\n",
       "    .dataframe tbody tr th:only-of-type {\n",
       "        vertical-align: middle;\n",
       "    }\n",
       "\n",
       "    .dataframe tbody tr th {\n",
       "        vertical-align: top;\n",
       "    }\n",
       "\n",
       "    .dataframe thead th {\n",
       "        text-align: right;\n",
       "    }\n",
       "</style>\n",
       "<table border=\"1\" class=\"dataframe\">\n",
       "  <thead>\n",
       "    <tr style=\"text-align: right;\">\n",
       "      <th></th>\n",
       "      <th>Unnamed: 1</th>\n",
       "      <th>Unnamed: 2</th>\n",
       "      <th>계</th>\n",
       "      <th>계.1</th>\n",
       "      <th>계.2</th>\n",
       "    </tr>\n",
       "  </thead>\n",
       "  <tbody>\n",
       "    <tr>\n",
       "      <th>0</th>\n",
       "      <td>2019</td>\n",
       "      <td>1.0</td>\n",
       "      <td>77,204</td>\n",
       "      <td>13,209,511</td>\n",
       "      <td>382,316.3</td>\n",
       "    </tr>\n",
       "    <tr>\n",
       "      <th>1</th>\n",
       "      <td>2019</td>\n",
       "      <td>2.0</td>\n",
       "      <td>70,105</td>\n",
       "      <td>12,454,255</td>\n",
       "      <td>328,546.2</td>\n",
       "    </tr>\n",
       "    <tr>\n",
       "      <th>2</th>\n",
       "      <td>2019</td>\n",
       "      <td>3.0</td>\n",
       "      <td>76,728</td>\n",
       "      <td>12,747,086</td>\n",
       "      <td>396,067.7</td>\n",
       "    </tr>\n",
       "    <tr>\n",
       "      <th>3</th>\n",
       "      <td>2019</td>\n",
       "      <td>4.0</td>\n",
       "      <td>75,292</td>\n",
       "      <td>13,018,518</td>\n",
       "      <td>371,191.5</td>\n",
       "    </tr>\n",
       "    <tr>\n",
       "      <th>4</th>\n",
       "      <td>2019</td>\n",
       "      <td>5.0</td>\n",
       "      <td>79,058</td>\n",
       "      <td>13,298,391</td>\n",
       "      <td>370,084.9</td>\n",
       "    </tr>\n",
       "  </tbody>\n",
       "</table>\n",
       "</div>"
      ],
      "text/plain": [
       "  Unnamed: 1  Unnamed: 2       계         계.1        계.2\n",
       "0       2019         1.0  77,204  13,209,511  382,316.3\n",
       "1       2019         2.0  70,105  12,454,255  328,546.2\n",
       "2       2019         3.0  76,728  12,747,086  396,067.7\n",
       "3       2019         4.0  75,292  13,018,518  371,191.5\n",
       "4       2019         5.0  79,058  13,298,391  370,084.9"
      ]
     },
     "execution_count": 13,
     "metadata": {},
     "output_type": "execute_result"
    }
   ],
   "source": [
    "df.head(5)"
   ]
  },
  {
   "cell_type": "code",
   "execution_count": 14,
   "id": "bb0b7e67",
   "metadata": {},
   "outputs": [
    {
     "data": {
      "text/plain": [
       "Index(['Unnamed: 1', 'Unnamed: 2', '계', '계.1', '계.2'], dtype='object')"
      ]
     },
     "execution_count": 14,
     "metadata": {},
     "output_type": "execute_result"
    }
   ],
   "source": [
    "df.columns"
   ]
  },
  {
   "cell_type": "code",
   "execution_count": 15,
   "id": "4fdd378a",
   "metadata": {},
   "outputs": [],
   "source": [
    "# df.columns['연도', '월', '운항(편)', '여객(명)', '화물(톤)']\n",
    "df.rename(columns = {'Unnamed: 1':'연도','Unnamed: 2':'월', '계':'운항(편)', '계.1':'여객(명)', '계.2':'화물(톤)' },inplace=True)"
   ]
  },
  {
   "cell_type": "code",
   "execution_count": 16,
   "id": "a4b948b2",
   "metadata": {},
   "outputs": [
    {
     "data": {
      "text/html": [
       "<div>\n",
       "<style scoped>\n",
       "    .dataframe tbody tr th:only-of-type {\n",
       "        vertical-align: middle;\n",
       "    }\n",
       "\n",
       "    .dataframe tbody tr th {\n",
       "        vertical-align: top;\n",
       "    }\n",
       "\n",
       "    .dataframe thead th {\n",
       "        text-align: right;\n",
       "    }\n",
       "</style>\n",
       "<table border=\"1\" class=\"dataframe\">\n",
       "  <thead>\n",
       "    <tr style=\"text-align: right;\">\n",
       "      <th></th>\n",
       "      <th>연도</th>\n",
       "      <th>월</th>\n",
       "      <th>운항(편)</th>\n",
       "      <th>여객(명)</th>\n",
       "      <th>화물(톤)</th>\n",
       "    </tr>\n",
       "  </thead>\n",
       "  <tbody>\n",
       "    <tr>\n",
       "      <th>0</th>\n",
       "      <td>2019</td>\n",
       "      <td>1.0</td>\n",
       "      <td>77,204</td>\n",
       "      <td>13,209,511</td>\n",
       "      <td>382,316.3</td>\n",
       "    </tr>\n",
       "    <tr>\n",
       "      <th>1</th>\n",
       "      <td>2019</td>\n",
       "      <td>2.0</td>\n",
       "      <td>70,105</td>\n",
       "      <td>12,454,255</td>\n",
       "      <td>328,546.2</td>\n",
       "    </tr>\n",
       "    <tr>\n",
       "      <th>2</th>\n",
       "      <td>2019</td>\n",
       "      <td>3.0</td>\n",
       "      <td>76,728</td>\n",
       "      <td>12,747,086</td>\n",
       "      <td>396,067.7</td>\n",
       "    </tr>\n",
       "    <tr>\n",
       "      <th>3</th>\n",
       "      <td>2019</td>\n",
       "      <td>4.0</td>\n",
       "      <td>75,292</td>\n",
       "      <td>13,018,518</td>\n",
       "      <td>371,191.5</td>\n",
       "    </tr>\n",
       "    <tr>\n",
       "      <th>4</th>\n",
       "      <td>2019</td>\n",
       "      <td>5.0</td>\n",
       "      <td>79,058</td>\n",
       "      <td>13,298,391</td>\n",
       "      <td>370,084.9</td>\n",
       "    </tr>\n",
       "  </tbody>\n",
       "</table>\n",
       "</div>"
      ],
      "text/plain": [
       "     연도    월   운항(편)       여객(명)      화물(톤)\n",
       "0  2019  1.0  77,204  13,209,511  382,316.3\n",
       "1  2019  2.0  70,105  12,454,255  328,546.2\n",
       "2  2019  3.0  76,728  12,747,086  396,067.7\n",
       "3  2019  4.0  75,292  13,018,518  371,191.5\n",
       "4  2019  5.0  79,058  13,298,391  370,084.9"
      ]
     },
     "execution_count": 16,
     "metadata": {},
     "output_type": "execute_result"
    }
   ],
   "source": [
    "df.head()"
   ]
  },
  {
   "cell_type": "code",
   "execution_count": 17,
   "id": "4f68ef66",
   "metadata": {},
   "outputs": [
    {
     "data": {
      "text/html": [
       "<div>\n",
       "<style scoped>\n",
       "    .dataframe tbody tr th:only-of-type {\n",
       "        vertical-align: middle;\n",
       "    }\n",
       "\n",
       "    .dataframe tbody tr th {\n",
       "        vertical-align: top;\n",
       "    }\n",
       "\n",
       "    .dataframe thead th {\n",
       "        text-align: right;\n",
       "    }\n",
       "</style>\n",
       "<table border=\"1\" class=\"dataframe\">\n",
       "  <thead>\n",
       "    <tr style=\"text-align: right;\">\n",
       "      <th></th>\n",
       "      <th>연도</th>\n",
       "      <th>월</th>\n",
       "      <th>운항(편)</th>\n",
       "      <th>여객(명)</th>\n",
       "      <th>화물(톤)</th>\n",
       "    </tr>\n",
       "  </thead>\n",
       "  <tbody>\n",
       "    <tr>\n",
       "      <th>0</th>\n",
       "      <td>2019</td>\n",
       "      <td>1.0</td>\n",
       "      <td>77,204</td>\n",
       "      <td>13,209,511</td>\n",
       "      <td>382,316.3</td>\n",
       "    </tr>\n",
       "    <tr>\n",
       "      <th>1</th>\n",
       "      <td>2019</td>\n",
       "      <td>2.0</td>\n",
       "      <td>70,105</td>\n",
       "      <td>12,454,255</td>\n",
       "      <td>328,546.2</td>\n",
       "    </tr>\n",
       "    <tr>\n",
       "      <th>2</th>\n",
       "      <td>2019</td>\n",
       "      <td>3.0</td>\n",
       "      <td>76,728</td>\n",
       "      <td>12,747,086</td>\n",
       "      <td>396,067.7</td>\n",
       "    </tr>\n",
       "    <tr>\n",
       "      <th>3</th>\n",
       "      <td>2019</td>\n",
       "      <td>4.0</td>\n",
       "      <td>75,292</td>\n",
       "      <td>13,018,518</td>\n",
       "      <td>371,191.5</td>\n",
       "    </tr>\n",
       "    <tr>\n",
       "      <th>4</th>\n",
       "      <td>2019</td>\n",
       "      <td>5.0</td>\n",
       "      <td>79,058</td>\n",
       "      <td>13,298,391</td>\n",
       "      <td>370,084.9</td>\n",
       "    </tr>\n",
       "  </tbody>\n",
       "</table>\n",
       "</div>"
      ],
      "text/plain": [
       "     연도    월   운항(편)       여객(명)      화물(톤)\n",
       "0  2019  1.0  77,204  13,209,511  382,316.3\n",
       "1  2019  2.0  70,105  12,454,255  328,546.2\n",
       "2  2019  3.0  76,728  12,747,086  396,067.7\n",
       "3  2019  4.0  75,292  13,018,518  371,191.5\n",
       "4  2019  5.0  79,058  13,298,391  370,084.9"
      ]
     },
     "execution_count": 17,
     "metadata": {},
     "output_type": "execute_result"
    }
   ],
   "source": [
    "df1 = df.drop([12, 25, 38, 44, 45], axis=0)\n",
    "df1.head(5)"
   ]
  },
  {
   "cell_type": "code",
   "execution_count": 18,
   "id": "1328b547",
   "metadata": {},
   "outputs": [
    {
     "data": {
      "text/html": [
       "<div>\n",
       "<style scoped>\n",
       "    .dataframe tbody tr th:only-of-type {\n",
       "        vertical-align: middle;\n",
       "    }\n",
       "\n",
       "    .dataframe tbody tr th {\n",
       "        vertical-align: top;\n",
       "    }\n",
       "\n",
       "    .dataframe thead th {\n",
       "        text-align: right;\n",
       "    }\n",
       "</style>\n",
       "<table border=\"1\" class=\"dataframe\">\n",
       "  <thead>\n",
       "    <tr style=\"text-align: right;\">\n",
       "      <th></th>\n",
       "      <th>연도</th>\n",
       "      <th>월</th>\n",
       "      <th>운항(편)</th>\n",
       "      <th>여객(명)</th>\n",
       "      <th>화물(톤)</th>\n",
       "      <th>기준년월</th>\n",
       "    </tr>\n",
       "  </thead>\n",
       "  <tbody>\n",
       "    <tr>\n",
       "      <th>0</th>\n",
       "      <td>2019</td>\n",
       "      <td>1.0</td>\n",
       "      <td>77,204</td>\n",
       "      <td>13,209,511</td>\n",
       "      <td>382,316.3</td>\n",
       "      <td></td>\n",
       "    </tr>\n",
       "    <tr>\n",
       "      <th>1</th>\n",
       "      <td>2019</td>\n",
       "      <td>2.0</td>\n",
       "      <td>70,105</td>\n",
       "      <td>12,454,255</td>\n",
       "      <td>328,546.2</td>\n",
       "      <td></td>\n",
       "    </tr>\n",
       "    <tr>\n",
       "      <th>2</th>\n",
       "      <td>2019</td>\n",
       "      <td>3.0</td>\n",
       "      <td>76,728</td>\n",
       "      <td>12,747,086</td>\n",
       "      <td>396,067.7</td>\n",
       "      <td></td>\n",
       "    </tr>\n",
       "    <tr>\n",
       "      <th>3</th>\n",
       "      <td>2019</td>\n",
       "      <td>4.0</td>\n",
       "      <td>75,292</td>\n",
       "      <td>13,018,518</td>\n",
       "      <td>371,191.5</td>\n",
       "      <td></td>\n",
       "    </tr>\n",
       "    <tr>\n",
       "      <th>4</th>\n",
       "      <td>2019</td>\n",
       "      <td>5.0</td>\n",
       "      <td>79,058</td>\n",
       "      <td>13,298,391</td>\n",
       "      <td>370,084.9</td>\n",
       "      <td></td>\n",
       "    </tr>\n",
       "  </tbody>\n",
       "</table>\n",
       "</div>"
      ],
      "text/plain": [
       "     연도    월   운항(편)       여객(명)      화물(톤) 기준년월\n",
       "0  2019  1.0  77,204  13,209,511  382,316.3     \n",
       "1  2019  2.0  70,105  12,454,255  328,546.2     \n",
       "2  2019  3.0  76,728  12,747,086  396,067.7     \n",
       "3  2019  4.0  75,292  13,018,518  371,191.5     \n",
       "4  2019  5.0  79,058  13,298,391  370,084.9     "
      ]
     },
     "execution_count": 18,
     "metadata": {},
     "output_type": "execute_result"
    }
   ],
   "source": [
    "df1['기준년월'] = ''\n",
    "df1.head(5)"
   ]
  },
  {
   "cell_type": "code",
   "execution_count": 19,
   "id": "37887d51",
   "metadata": {},
   "outputs": [
    {
     "data": {
      "text/plain": [
       "연도        object\n",
       "월        float64\n",
       "운항(편)     object\n",
       "여객(명)     object\n",
       "화물(톤)     object\n",
       "기준년월      object\n",
       "dtype: object"
      ]
     },
     "execution_count": 19,
     "metadata": {},
     "output_type": "execute_result"
    }
   ],
   "source": [
    "df1.dtypes"
   ]
  },
  {
   "cell_type": "code",
   "execution_count": 20,
   "id": "7f6af85c",
   "metadata": {},
   "outputs": [],
   "source": [
    "# pd.options.display.float_format = '{:,.0f}'.format\n",
    "# df1.head()"
   ]
  },
  {
   "cell_type": "code",
   "execution_count": 21,
   "id": "e7e9ca10",
   "metadata": {},
   "outputs": [
    {
     "data": {
      "text/plain": [
       "연도        int32\n",
       "월         int32\n",
       "운항(편)    object\n",
       "여객(명)    object\n",
       "화물(톤)    object\n",
       "기준년월     object\n",
       "dtype: object"
      ]
     },
     "execution_count": 21,
     "metadata": {},
     "output_type": "execute_result"
    }
   ],
   "source": [
    "df2 = df1.astype({'월':'int'})\n",
    "df2 = df2.astype({'연도':'int'})\n",
    "df2.dtypes"
   ]
  },
  {
   "cell_type": "code",
   "execution_count": 22,
   "id": "dd5ef61c",
   "metadata": {},
   "outputs": [
    {
     "data": {
      "text/plain": [
       "연도        int32\n",
       "월         int32\n",
       "운항(편)    object\n",
       "여객(명)    object\n",
       "화물(톤)    object\n",
       "기준년월     object\n",
       "dtype: object"
      ]
     },
     "execution_count": 22,
     "metadata": {},
     "output_type": "execute_result"
    }
   ],
   "source": [
    "df2.dtypes"
   ]
  },
  {
   "cell_type": "code",
   "execution_count": 23,
   "id": "7380a783",
   "metadata": {},
   "outputs": [
    {
     "data": {
      "text/plain": [
       "연도       object\n",
       "월        object\n",
       "운항(편)    object\n",
       "여객(명)    object\n",
       "화물(톤)    object\n",
       "기준년월     object\n",
       "dtype: object"
      ]
     },
     "execution_count": 23,
     "metadata": {},
     "output_type": "execute_result"
    }
   ],
   "source": [
    "df2 = df2.astype({'연도':'str'})\n",
    "df2 = df2.astype({'월':'str'})\n",
    "df2.dtypes"
   ]
  },
  {
   "cell_type": "code",
   "execution_count": 24,
   "id": "d796e0dd",
   "metadata": {},
   "outputs": [
    {
     "data": {
      "text/html": [
       "<div>\n",
       "<style scoped>\n",
       "    .dataframe tbody tr th:only-of-type {\n",
       "        vertical-align: middle;\n",
       "    }\n",
       "\n",
       "    .dataframe tbody tr th {\n",
       "        vertical-align: top;\n",
       "    }\n",
       "\n",
       "    .dataframe thead th {\n",
       "        text-align: right;\n",
       "    }\n",
       "</style>\n",
       "<table border=\"1\" class=\"dataframe\">\n",
       "  <thead>\n",
       "    <tr style=\"text-align: right;\">\n",
       "      <th></th>\n",
       "      <th>연도</th>\n",
       "      <th>월</th>\n",
       "      <th>운항(편)</th>\n",
       "      <th>여객(명)</th>\n",
       "      <th>화물(톤)</th>\n",
       "      <th>기준년월</th>\n",
       "    </tr>\n",
       "  </thead>\n",
       "  <tbody>\n",
       "    <tr>\n",
       "      <th>0</th>\n",
       "      <td>2019</td>\n",
       "      <td>1</td>\n",
       "      <td>77,204</td>\n",
       "      <td>13,209,511</td>\n",
       "      <td>382,316.3</td>\n",
       "      <td>2019.1</td>\n",
       "    </tr>\n",
       "    <tr>\n",
       "      <th>1</th>\n",
       "      <td>2019</td>\n",
       "      <td>2</td>\n",
       "      <td>70,105</td>\n",
       "      <td>12,454,255</td>\n",
       "      <td>328,546.2</td>\n",
       "      <td>2019.2</td>\n",
       "    </tr>\n",
       "    <tr>\n",
       "      <th>2</th>\n",
       "      <td>2019</td>\n",
       "      <td>3</td>\n",
       "      <td>76,728</td>\n",
       "      <td>12,747,086</td>\n",
       "      <td>396,067.7</td>\n",
       "      <td>2019.3</td>\n",
       "    </tr>\n",
       "    <tr>\n",
       "      <th>3</th>\n",
       "      <td>2019</td>\n",
       "      <td>4</td>\n",
       "      <td>75,292</td>\n",
       "      <td>13,018,518</td>\n",
       "      <td>371,191.5</td>\n",
       "      <td>2019.4</td>\n",
       "    </tr>\n",
       "    <tr>\n",
       "      <th>4</th>\n",
       "      <td>2019</td>\n",
       "      <td>5</td>\n",
       "      <td>79,058</td>\n",
       "      <td>13,298,391</td>\n",
       "      <td>370,084.9</td>\n",
       "      <td>2019.5</td>\n",
       "    </tr>\n",
       "  </tbody>\n",
       "</table>\n",
       "</div>"
      ],
      "text/plain": [
       "     연도  월   운항(편)       여객(명)      화물(톤)    기준년월\n",
       "0  2019  1  77,204  13,209,511  382,316.3  2019.1\n",
       "1  2019  2  70,105  12,454,255  328,546.2  2019.2\n",
       "2  2019  3  76,728  12,747,086  396,067.7  2019.3\n",
       "3  2019  4  75,292  13,018,518  371,191.5  2019.4\n",
       "4  2019  5  79,058  13,298,391  370,084.9  2019.5"
      ]
     },
     "execution_count": 24,
     "metadata": {},
     "output_type": "execute_result"
    }
   ],
   "source": [
    "df2['기준년월'] = df2['연도'] + \".\" + df2['월']\n",
    "df2.head()"
   ]
  },
  {
   "cell_type": "code",
   "execution_count": 25,
   "id": "f694edec",
   "metadata": {},
   "outputs": [
    {
     "data": {
      "text/plain": [
       "[77204, 70105, 76728, 75292, 79058]"
      ]
     },
     "execution_count": 25,
     "metadata": {},
     "output_type": "execute_result"
    }
   ],
   "source": [
    "y_val = list()\n",
    "for val in list(df2[\"운항(편)\"].values):\n",
    "    val = val.replace(',', '')\n",
    "    val = val.strip()\n",
    "    val = int(val)\n",
    "    y_val.append(val)\n",
    "    \n",
    "y_val[:5]    "
   ]
  },
  {
   "cell_type": "code",
   "execution_count": 42,
   "id": "f9f5e3ce",
   "metadata": {},
   "outputs": [
    {
     "data": {
      "image/png": "[encoded data removed]",
      "text/plain": [
       "<Figure size 1152x720 with 1 Axes>"
      ]
     },
     "metadata": {
      "needs_background": "light"
     },
     "output_type": "display_data"
    }
   ],
   "source": [
    "fig = plt.figure(figsize=(16, 10))\n",
    "sns.set(style=\"white\", font=\"Malgun Gothic\")\n",
    "\n",
    "plt.plot(df2['기준년월'], y_val,  color='r', label=\"운항(편)\")\n",
    "# plt.plot(df2['기준년월'], y_val2, color='b', label=\"여객(명)\")\n",
    "# plt.plot(df2['기준년월'], y_val3, color='y', label=\"화물(톤)\")\n",
    "plt.rc('font', family='Malgun Gothic')\n",
    "plt.grid()\n",
    "plt.ylabel(\"항공기 운용 수\")\n",
    "plt.xlabel(\"기준년월\")\n",
    "plt.title('항공 운용 현황')\n",
    "# plt.legend()\n",
    "plt.show()"
   ]
  },
  {
   "cell_type": "code",
   "execution_count": 26,
   "id": "190c4df9",
   "metadata": {},
   "outputs": [
    {
     "data": {
      "text/plain": [
       "[13209511, 12454255, 12747086, 13018518, 13298391]"
      ]
     },
     "execution_count": 26,
     "metadata": {},
     "output_type": "execute_result"
    }
   ],
   "source": [
    "y_val2 = list()\n",
    "for val in list(df2[\"여객(명)\"].values):\n",
    "    val = val.replace(',', '')\n",
    "    val = val.strip()\n",
    "    val = int(val)\n",
    "    y_val2.append(val)\n",
    "    \n",
    "y_val2[:5]   "
   ]
  },
  {
   "cell_type": "code",
   "execution_count": 43,
   "id": "39c0eaad",
   "metadata": {},
   "outputs": [
    {
     "data": {
      "image/png": "[encoded data removed]",
      "text/plain": [
       "<Figure size 1152x720 with 1 Axes>"
      ]
     },
     "metadata": {},
     "output_type": "display_data"
    }
   ],
   "source": [
    "fig = plt.figure(figsize=(16, 10))\n",
    "sns.set(style=\"white\", font=\"Malgun Gothic\")\n",
    "\n",
    "# plt.plot(df2['기준년월'], y_val,  color='r', label=\"운항(편)\")\n",
    "plt.plot(df2['기준년월'], y_val2, color='b', label=\"여객(명)\")\n",
    "# plt.plot(df2['기준년월'], y_val3, color='y', label=\"화물(톤)\")\n",
    "\n",
    "plt.rc('font', family='Malgun Gothic')\n",
    "plt.grid()\n",
    "plt.ylabel(\"탑승인원(천만명)\")\n",
    "plt.xlabel(\"기준년월\")\n",
    "plt.title('항공기 탑승객 현황')\n",
    "# plt.legend()\n",
    "plt.show()"
   ]
  },
  {
   "cell_type": "code",
   "execution_count": 32,
   "id": "92a874b8",
   "metadata": {},
   "outputs": [
    {
     "data": {
      "text/plain": [
       "[382316.3, 328546.2, 396067.7, 371191.5, 370084.9]"
      ]
     },
     "execution_count": 32,
     "metadata": {},
     "output_type": "execute_result"
    }
   ],
   "source": [
    "y_val3 = list()\n",
    "for val in list(df2[\"화물(톤)\"].values):\n",
    "    val = val.replace(',', '')\n",
    "    val = val.strip()\n",
    "    val = float(val)\n",
    "    y_val3.append(val)\n",
    "    \n",
    "y_val3[:5]"
   ]
  },
  {
   "cell_type": "code",
   "execution_count": 44,
   "id": "d0039f70",
   "metadata": {},
   "outputs": [
    {
     "data": {
      "image/png": "[encoded data removed]",
      "text/plain": [
       "<Figure size 1152x720 with 1 Axes>"
      ]
     },
     "metadata": {},
     "output_type": "display_data"
    }
   ],
   "source": [
    "fig = plt.figure(figsize=(16, 10))\n",
    "sns.set(style=\"white\", font=\"Malgun Gothic\")\n",
    "\n",
    "# plt.plot(df2['기준년월'], y_val,  color='r', label=\"운항(편)\")\n",
    "# plt.plot(df2['기준년월'], y_val2, color='b', label=\"여객(명)\")\n",
    "plt.plot(df2['기준년월'], y_val3, color='y', label=\"화물(톤)\")\n",
    "\n",
    "plt.rc('font', family='Malgun Gothic')\n",
    "plt.grid()\n",
    "plt.ylabel(\"화물(톤)\")\n",
    "plt.xlabel(\"기준년월\")\n",
    "plt.title('항공기 화물운송 현황')\n",
    "# plt.legend()\n",
    "plt.show()"
   ]
  },
  {
   "cell_type": "code",
   "execution_count": null,
   "id": "bf563997",
   "metadata": {},
   "outputs": [],
   "source": []
  }
 ],
 "metadata": {
  "kernelspec": {
   "display_name": "Python 3 (ipykernel)",
   "language": "python",
   "name": "python3"
  },
  "language_info": {
   "codemirror_mode": {
    "name": "ipython",
    "version": 3
   },
   "file_extension": ".py",
   "mimetype": "text/x-python",
   "name": "python",
   "nbconvert_exporter": "python",
   "pygments_lexer": "ipython3",
   "version": "3.9.12"
  }
 },
 "nbformat": 4,
 "nbformat_minor": 5
}
