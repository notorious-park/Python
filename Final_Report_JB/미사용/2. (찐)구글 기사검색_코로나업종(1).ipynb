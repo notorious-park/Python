{
 "cells": [
  {
   "cell_type": "markdown",
   "metadata": {},
   "source": [
    "## 코로나 업종 뉴스 기사 검색"
   ]
  },
  {
   "cell_type": "code",
   "execution_count": 1,
   "metadata": {},
   "outputs": [],
   "source": [
    "from bs4 import BeautifulSoup\n",
    "from selenium import webdriver\n",
    "from selenium.webdriver.common.by import By\n",
    "from IPython.display import Image\n",
    "from datetime import datetime\n",
    "\n",
    "import pandas as pd\n",
    "import time\n",
    "import re\n"
   ]
  },
  {
   "cell_type": "markdown",
   "metadata": {},
   "source": [
    "### # 구글 뉴스 10페이지까지 크롤링"
   ]
  },
  {
   "cell_type": "code",
   "execution_count": 2,
   "metadata": {},
   "outputs": [],
   "source": [
    "# 웹드라이브로 크롬브라우즈 띄운다.\n",
    "driver_path = \"../driver/chromedriver.exe\"\n",
    "driver = webdriver.Chrome(executable_path=driver_path)"
   ]
  },
  {
   "cell_type": "code",
   "execution_count": 3,
   "metadata": {},
   "outputs": [],
   "source": [
    "url_page = 'https://www.google.com/'\n",
    "driver.get(url_page)"
   ]
  },
  {
   "cell_type": "code",
   "execution_count": 4,
   "metadata": {},
   "outputs": [],
   "source": [
    "# 검색창 검색어 입력\n",
    "css_selector = 'body > div.L3eUgb > div.o3j99.ikrT4e.om7nvf > form > div:nth-child(1) > div.A8SBwf > div.RNNXgb > div > div.a4bIc > input'\n",
    "driver.find_element(by=By.CSS_SELECTOR, value=css_selector).send_keys('코로나 업종')"
   ]
  },
  {
   "cell_type": "code",
   "execution_count": 5,
   "metadata": {},
   "outputs": [],
   "source": [
    "# 검색클릭\n",
    "css_selector = 'body > div.L3eUgb > div.o3j99.ikrT4e.om7nvf > form > div:nth-child(1) > div.A8SBwf.emcav > div.UUbT9 > div.aajZCb > div.CqAVzb.lJ9FBc > center > input.gNO89b'\n",
    "driver.find_element(by=By.CSS_SELECTOR, value=css_selector).click()"
   ]
  },
  {
   "cell_type": "code",
   "execution_count": 6,
   "metadata": {},
   "outputs": [],
   "source": [
    "# 뉴스메뉴 클릭\n",
    "css_selector = '#hdtb-msb > div:nth-child(1) > div > div:nth-child(3) > a'\n",
    "driver.find_element(by=By.CSS_SELECTOR, value=css_selector).click()"
   ]
  },
  {
   "cell_type": "code",
   "execution_count": 7,
   "metadata": {},
   "outputs": [],
   "source": [
    "dateTime = []\n",
    "newsTime = []\n",
    "newsTitle = []\n",
    "newsUrl =[]\n",
    "\n",
    "for i in range(1,11):\n",
    "    # 페이지 BeautifulSoup 객체로 가져온다\n",
    "    html = driver.page_source\n",
    "    soup = BeautifulSoup(html, \"lxml\")\n",
    "    news_tag = soup.find('div', 'v7W49e')\n",
    "    news_tag2 = news_tag.find_all('div', 'xuvV6b BGxR7d')\n",
    "\n",
    "    for idx in range(len(news_tag2)):\n",
    "        \n",
    "        date = str(datetime.now()) \n",
    "        date = date[:date.rfind(':')].replace(' ', '_') \n",
    "        date = date.replace(':','시') + '분' \n",
    "\n",
    "        # 기사시간    \n",
    "        newstime = news_tag2[idx].find('div', 'OSrXXb ZE0LJd').get_text().strip()\n",
    "\n",
    "        # 기사제목\n",
    "        newstitle = news_tag2[idx].find('div', 'mCBkyc y355M ynAwRc MBeuO nDgy9d').get_text().strip()    \n",
    "\n",
    "        # 기사URL\n",
    "        newsurl = news_tag2[idx].find('a')['href']    \n",
    "\n",
    "        dateTime.append(date)\n",
    "        newsTime.append(newstime)\n",
    "        newsTitle.append(newstitle)\n",
    "        newsUrl.append(newsurl)\n",
    "    \n",
    "    css_selector = '#pnnext > span:nth-child(2)'\n",
    "    driver.find_element(by=By.CSS_SELECTOR, value=css_selector).click()"
   ]
  },
  {
   "cell_type": "code",
   "execution_count": 8,
   "metadata": {},
   "outputs": [
    {
     "data": {
      "text/plain": [
       "(100, 100, 100, 100)"
      ]
     },
     "execution_count": 8,
     "metadata": {},
     "output_type": "execute_result"
    }
   ],
   "source": [
    "len(dateTime), len(newsTime), len(newsTitle), len(newsUrl)"
   ]
  },
  {
   "cell_type": "code",
   "execution_count": 11,
   "metadata": {},
   "outputs": [
    {
     "data": {
      "text/plain": [
       "['https://www.idaegu.com/newsView/idg202206190033',\n",
       " 'https://www.hani.co.kr/arti/economy/finance/1046220.html',\n",
       " 'https://www.hankyung.com/international/article/2022061907601',\n",
       " 'https://mediahub.seoul.go.kr/archives/2004628',\n",
       " 'https://www.hankyung.com/society/article/202206166033Y',\n",
       " 'http://vip.mk.co.kr/news/view/21/21/3537362.html',\n",
       " 'https://www.hankyung.com/economy/article/2022061647586',\n",
       " 'https://www.labortoday.co.kr/news/articleView.html?idxno=209427',\n",
       " 'http://m.jeollailbo.com/news/articleView.html?idxno=658455',\n",
       " 'http://vip.mk.co.kr/news/view/21/26/226204.html',\n",
       " 'https://biz.newdaily.co.kr/site/data/html/2022/06/19/2022061900009.html',\n",
       " 'https://news.kbs.co.kr/news/view.do?ncd=5487596',\n",
       " 'https://www.hankyung.com/economy/article/202206151781i',\n",
       " 'https://www.labortoday.co.kr/news/articleView.html?idxno=209412',\n",
       " 'http://www.daejonilbo.com/news/articleView.html?idxno=2009372',\n",
       " 'https://biz.newdaily.co.kr/site/data/html/2022/06/13/2022061300162.html',\n",
       " 'https://www.hani.co.kr/arti/society/health/1046707.html',\n",
       " 'http://www.knnews.co.kr/news/articleView.php?idxno=1379182&gubun=',\n",
       " 'https://www.hankyung.com/finance/article/202206152284i',\n",
       " 'http://www.hotelrestaurant.co.kr/news/article.html?no=10666',\n",
       " 'https://www.hankyung.com/finance/article/202206152284i',\n",
       " 'http://www.hotelrestaurant.co.kr/news/article.html?no=10666',\n",
       " 'https://biz.sbs.co.kr/article/20000067386',\n",
       " 'https://www.hankyung.com/finance/article/2022061482037',\n",
       " 'https://www.etnews.com/20220328000208',\n",
       " 'https://www.yna.co.kr/view/AKR20220613062300009',\n",
       " 'https://www.hankyung.com/economy/article/202206165800i',\n",
       " 'https://www.hankyung.com/finance/article/2022061907121',\n",
       " 'https://www.bbc.com/korean/news-60460376',\n",
       " 'https://m.korea.kr/news/pressReleaseView.do?newsId=156499865',\n",
       " 'https://m.korea.kr/news/policyNewsView.do?newsId=148899998',\n",
       " 'https://www.hankyung.com/economy/article/202111241606Y',\n",
       " 'https://m.hani.co.kr/arti/economy/finance/1039868.html',\n",
       " 'https://www.hankyung.com/economy/article/202112263972i',\n",
       " 'https://www.yna.co.kr/view/AKR20211229117900002',\n",
       " 'https://m.yna.co.kr/view/AKR20220222039700064',\n",
       " 'https://www.hani.co.kr/arti/economy/economy_general/1028657.html',\n",
       " 'https://www.hankyung.com/economy/article/202112276124i',\n",
       " 'https://magazine.hankyung.com/business/article/202111020089b',\n",
       " 'http://www.taxtimes.co.kr/news/article.html?no=252857',\n",
       " 'https://www.hankyung.com/society/article/202203107111i',\n",
       " 'https://www.hani.co.kr/arti/area/honam/1036932.html',\n",
       " 'https://www.newswire.co.kr/newsRead.php?no=928457',\n",
       " 'http://www.hotelrestaurant.co.kr/news/article.html?no=10727',\n",
       " 'https://www.hankyung.com/finance/article/2021123056911',\n",
       " 'https://www.hani.co.kr/arti/economy/economy_general/1030990.html',\n",
       " 'https://www.hani.co.kr/arti/economy/economy_general/1042574.html',\n",
       " 'https://www.hankyung.com/finance/article/2021110823926',\n",
       " 'https://www.hankyung.com/economy/article/202108039166Y',\n",
       " 'https://www.korea.kr/news/policyNewsView.do?newsId=148896952',\n",
       " 'http://tbs.seoul.kr/news/newsView.do?typ_800=1&idx_800=3455932&seq_800=20448519',\n",
       " 'https://www.hankyung.com/life/article/2020082490287',\n",
       " 'http://taxtimes.co.kr/mobile/article.html?no=254086',\n",
       " 'https://www.hankyung.com/finance/article/2022041954006',\n",
       " 'https://www.hankyung.com/economy/article/2021111741926',\n",
       " 'https://www.hankyung.com/finance/article/202110085106i',\n",
       " 'https://www.yna.co.kr/view/AKR20211030051600003',\n",
       " 'http://www.taxtimes.co.kr/news/article.html?no=253557',\n",
       " 'https://www.hankyung.com/society/article/2022010454531',\n",
       " 'https://www.khan.co.kr/article/202111281736001',\n",
       " 'https://m.yna.co.kr/view/AKR20211115129000002',\n",
       " 'https://www.thinkfood.co.kr/news/articleView.html?idxno=94048',\n",
       " 'https://www.hani.co.kr/arti/economy/economy_general/1024140.html',\n",
       " 'https://cosinkorea.com/mobile/article.html?no=40957',\n",
       " 'https://cosinkorea.com/mobile/article.html?no=42247',\n",
       " 'https://www.yna.co.kr/view/AKR20220211151300003',\n",
       " 'https://www.hani.co.kr/arti/society/health/1034361.html',\n",
       " 'https://imnews.imbc.com/replay/2022/nwtoday/article/6350167_35752.html',\n",
       " 'https://www.hankyung.com/finance/article/2022020764801',\n",
       " 'https://www.hankyung.com/finance/article/2021112134251',\n",
       " 'http://www.pharmnews.com/news/articleView.html?idxno=106304',\n",
       " 'https://www.traveltimes.co.kr/news/articleView.html?idxno=400656',\n",
       " 'https://www.kongje.or.kr/news/articleView.html?idxno=2023',\n",
       " 'https://sgsg.hankyung.com/article/2022040166131',\n",
       " 'https://www.hankyung.com/economy/article/202202103361i',\n",
       " 'http://www.peoplepower21.org/StableLife/1850383',\n",
       " 'http://www.taxtimes.co.kr/news/article.html?no=251036',\n",
       " 'http://taxtimes.co.kr/mobile/article.html?no=254615',\n",
       " 'https://mediahub.seoul.go.kr/archives/2004044',\n",
       " 'https://m.ecomedia.co.kr/news/newsview.php?ncode=1065573453322919',\n",
       " 'http://www.peoplepower21.org/StableLife/1821337',\n",
       " 'http://hotelrestaurant.co.kr/mobile/article.html?no=9630',\n",
       " 'https://m.dongascience.com/news.php?idx=54023',\n",
       " 'https://m.dongascience.com/news.php?idx=52881',\n",
       " 'http://taxtimes.co.kr/mobile/article.html?no=253602',\n",
       " 'https://cosinkorea.com/mobile/article.html?no=41856',\n",
       " 'https://www.khan.co.kr/article/202105252211005',\n",
       " 'https://biz.newdaily.co.kr/site/data/html/2021/07/08/2021070800192.html',\n",
       " 'https://www.hani.co.kr/arti/economy/economy_general/1028311.html',\n",
       " 'http://www.taxtimes.co.kr/mobile/article.html?no=251208',\n",
       " 'https://www.korea.kr/news/pressReleaseView.do?newsId=156489002',\n",
       " 'https://www.hankyung.com/economy/article/2020090384297',\n",
       " 'https://m.korea.kr/news/reporterView.do?newsId=148901714',\n",
       " 'http://www.cncnews.co.kr/news/article.html?no=6677',\n",
       " 'http://www.cncnews.co.kr/news/article.html?no=6211',\n",
       " 'https://tbs.seoul.kr/news/newsView.do?typ_800=6&idx_800=3462630&seq_800=20455263',\n",
       " 'http://www.taxtimes.co.kr/mobile/article.html?no=252495',\n",
       " 'http://www.taxtimes.co.kr/news/article.html?no=251262',\n",
       " 'https://www.hankyung.com/economy/article/2021073015151',\n",
       " 'https://m.hani.co.kr/arti/economy/economy_general/988595.html']"
      ]
     },
     "execution_count": 11,
     "metadata": {},
     "output_type": "execute_result"
    }
   ],
   "source": [
    "newsUrl"
   ]
  },
  {
   "cell_type": "markdown",
   "metadata": {},
   "source": [
    "### # 가져온 데이터를 데이터프레임으로 정라한 후, 파일로 저장하기"
   ]
  },
  {
   "cell_type": "code",
   "execution_count": 12,
   "metadata": {},
   "outputs": [],
   "source": [
    "data = {'오늘날짜':dateTime, '기사시점':newsTime, '기사제목':newsTitle, 'URL':newsUrl}\n",
    "df = pd.DataFrame(data)"
   ]
  },
  {
   "cell_type": "code",
   "execution_count": 13,
   "metadata": {},
   "outputs": [
    {
     "data": {
      "text/html": [
       "<div>\n",
       "<style scoped>\n",
       "    .dataframe tbody tr th:only-of-type {\n",
       "        vertical-align: middle;\n",
       "    }\n",
       "\n",
       "    .dataframe tbody tr th {\n",
       "        vertical-align: top;\n",
       "    }\n",
       "\n",
       "    .dataframe thead th {\n",
       "        text-align: right;\n",
       "    }\n",
       "</style>\n",
       "<table border=\"1\" class=\"dataframe\">\n",
       "  <thead>\n",
       "    <tr style=\"text-align: right;\">\n",
       "      <th></th>\n",
       "      <th>오늘날짜</th>\n",
       "      <th>기사시점</th>\n",
       "      <th>기사제목</th>\n",
       "      <th>URL</th>\n",
       "    </tr>\n",
       "  </thead>\n",
       "  <tbody>\n",
       "    <tr>\n",
       "      <th>0</th>\n",
       "      <td>2022-06-19_21시44분</td>\n",
       "      <td>6시간 전</td>\n",
       "      <td>엔데믹에도 돌아오지 않는 외국인 근로자…대구지역 3D업종 ...</td>\n",
       "      <td>https://www.idaegu.com/newsView/idg202206190033</td>\n",
       "    </tr>\n",
       "    <tr>\n",
       "      <th>1</th>\n",
       "      <td>2022-06-19_21시44분</td>\n",
       "      <td>1주 전</td>\n",
       "      <td>코로나기간 IT·운수배달 비대면 업종 '활황'</td>\n",
       "      <td>https://www.hani.co.kr/arti/economy/finance/10...</td>\n",
       "    </tr>\n",
       "    <tr>\n",
       "      <th>2</th>\n",
       "      <td>2022-06-19_21시44분</td>\n",
       "      <td>4시간 전</td>\n",
       "      <td>푸틴 리스크…글로벌 금융社 순이익 37% 날아갔다</td>\n",
       "      <td>https://www.hankyung.com/international/article...</td>\n",
       "    </tr>\n",
       "    <tr>\n",
       "      <th>3</th>\n",
       "      <td>2022-06-19_21시44분</td>\n",
       "      <td>1개월 전</td>\n",
       "      <td>손실보상 사각지대 소상공인에 '경영위기지원금' 100만원</td>\n",
       "      <td>https://mediahub.seoul.go.kr/archives/2004628</td>\n",
       "    </tr>\n",
       "    <tr>\n",
       "      <th>4</th>\n",
       "      <td>2022-06-19_21시44분</td>\n",
       "      <td>3일 전</td>\n",
       "      <td>최저임금 업종별 구분 적용 논의 본격화…노사 팽팽히 맞서</td>\n",
       "      <td>https://www.hankyung.com/society/article/20220...</td>\n",
       "    </tr>\n",
       "    <tr>\n",
       "      <th>5</th>\n",
       "      <td>2022-06-19_21시44분</td>\n",
       "      <td>4일 전</td>\n",
       "      <td>미국증시 하락장, 코로나19 수혜주가 주도 - 매일경제 증권센터</td>\n",
       "      <td>http://vip.mk.co.kr/news/view/21/21/3537362.html</td>\n",
       "    </tr>\n",
       "    <tr>\n",
       "      <th>6</th>\n",
       "      <td>2022-06-19_21시44분</td>\n",
       "      <td>3일 전</td>\n",
       "      <td>'코로나 확산' 1분기 기업들 '선방'…순이익률 8.1% 달성</td>\n",
       "      <td>https://www.hankyung.com/economy/article/20220...</td>\n",
       "    </tr>\n",
       "    <tr>\n",
       "      <th>7</th>\n",
       "      <td>2022-06-19_21시44분</td>\n",
       "      <td>3일 전</td>\n",
       "      <td>민주노총 '고용유지지원금 연장' 촉구 &lt; 노동시장 &lt; 정치ㆍ경제 ...</td>\n",
       "      <td>https://www.labortoday.co.kr/news/articleView....</td>\n",
       "    </tr>\n",
       "    <tr>\n",
       "      <th>8</th>\n",
       "      <td>2022-06-19_21시44분</td>\n",
       "      <td>2주 전</td>\n",
       "      <td>전북 익산 코로나 피해 업종 개인지방소득세 납기 연장</td>\n",
       "      <td>http://m.jeollailbo.com/news/articleView.html?...</td>\n",
       "    </tr>\n",
       "    <tr>\n",
       "      <th>9</th>\n",
       "      <td>2022-06-19_21시44분</td>\n",
       "      <td>2일 전</td>\n",
       "      <td>[0617퇴근길] \"高물가에 투자·수출 약화\"…정부, 코로나 후 첫 ...</td>\n",
       "      <td>http://vip.mk.co.kr/news/view/21/26/226204.html</td>\n",
       "    </tr>\n",
       "  </tbody>\n",
       "</table>\n",
       "</div>"
      ],
      "text/plain": [
       "                오늘날짜   기사시점                                       기사제목  \\\n",
       "0  2022-06-19_21시44분  6시간 전        엔데믹에도 돌아오지 않는 외국인 근로자…대구지역 3D업종 ...   \n",
       "1  2022-06-19_21시44분   1주 전                  코로나기간 IT·운수배달 비대면 업종 '활황'   \n",
       "2  2022-06-19_21시44분  4시간 전                푸틴 리스크…글로벌 금융社 순이익 37% 날아갔다   \n",
       "3  2022-06-19_21시44분  1개월 전            손실보상 사각지대 소상공인에 '경영위기지원금' 100만원   \n",
       "4  2022-06-19_21시44분   3일 전            최저임금 업종별 구분 적용 논의 본격화…노사 팽팽히 맞서   \n",
       "5  2022-06-19_21시44분   4일 전        미국증시 하락장, 코로나19 수혜주가 주도 - 매일경제 증권센터   \n",
       "6  2022-06-19_21시44분   3일 전         '코로나 확산' 1분기 기업들 '선방'…순이익률 8.1% 달성   \n",
       "7  2022-06-19_21시44분   3일 전    민주노총 '고용유지지원금 연장' 촉구 < 노동시장 < 정치ㆍ경제 ...   \n",
       "8  2022-06-19_21시44분   2주 전              전북 익산 코로나 피해 업종 개인지방소득세 납기 연장   \n",
       "9  2022-06-19_21시44분   2일 전  [0617퇴근길] \"高물가에 투자·수출 약화\"…정부, 코로나 후 첫 ...   \n",
       "\n",
       "                                                 URL  \n",
       "0    https://www.idaegu.com/newsView/idg202206190033  \n",
       "1  https://www.hani.co.kr/arti/economy/finance/10...  \n",
       "2  https://www.hankyung.com/international/article...  \n",
       "3      https://mediahub.seoul.go.kr/archives/2004628  \n",
       "4  https://www.hankyung.com/society/article/20220...  \n",
       "5   http://vip.mk.co.kr/news/view/21/21/3537362.html  \n",
       "6  https://www.hankyung.com/economy/article/20220...  \n",
       "7  https://www.labortoday.co.kr/news/articleView....  \n",
       "8  http://m.jeollailbo.com/news/articleView.html?...  \n",
       "9    http://vip.mk.co.kr/news/view/21/26/226204.html  "
      ]
     },
     "execution_count": 13,
     "metadata": {},
     "output_type": "execute_result"
    }
   ],
   "source": [
    "df.head(10)"
   ]
  },
  {
   "cell_type": "markdown",
   "metadata": {},
   "source": [
    "### # 웹파싱한 데이터 파일로 저장하기"
   ]
  },
  {
   "cell_type": "code",
   "execution_count": 15,
   "metadata": {},
   "outputs": [],
   "source": [
    "df.to_csv('data/covid_info.csv', sep=',', encoding='UTF-8')"
   ]
  },
  {
   "cell_type": "code",
   "execution_count": null,
   "metadata": {},
   "outputs": [],
   "source": []
  }
 ],
 "metadata": {
  "kernelspec": {
   "display_name": "Python 3 (ipykernel)",
   "language": "python",
   "name": "python3"
  },
  "language_info": {
   "codemirror_mode": {
    "name": "ipython",
    "version": 3
   },
   "file_extension": ".py",
   "mimetype": "text/x-python",
   "name": "python",
   "nbconvert_exporter": "python",
   "pygments_lexer": "ipython3",
   "version": "3.9.12"
  }
 },
 "nbformat": 4,
 "nbformat_minor": 4
}
