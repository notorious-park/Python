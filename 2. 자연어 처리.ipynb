{
 "cells": [
  {
   "cell_type": "markdown",
   "id": "dd37719c",
   "metadata": {},
   "source": [
    "# 자연어 처리, NLP(Natural Language Processing)\n",
    "> 설치 목록\n",
    "\n",
    "- JDK (Java SE Downloads)\n",
    "- JAVA_HOME 설정\n",
    "- NLP Package 설치\n",
    "  1) JPype 설치\n",
    "  2) KoNLPy 설치\n",
    "  3) Word Cloud 설치"
   ]
  },
  {
   "cell_type": "markdown",
   "id": "f4655598",
   "metadata": {},
   "source": [
    "### KoNLPy 및 필요 모듈의 설치\n",
    "- JAVA 환경 : JDK (>=1.8) Install & JAVA Environmnmet Variable Setting\n",
    "- MS Visual C++ 설치 : Build Tools for Visual Studio 2017 (>=14.0) Install\n",
    "- JPype 설치 : JPype1 (>=0.5.7) Install\n",
    "(Anaconda Prompt) C:\\Users\\user> pip install --upgrade pip\n",
    "(Anaconda Prompt) C:\\Users\\user> pip install JPype1-1.2.0-cp38-cp38-win_amd64.whl\n",
    "- KoNLPy 설치 :\n",
    "(Anaconda Prompt) C:\\Users\\user> pip install konlpy"
   ]
  },
  {
   "cell_type": "markdown",
   "id": "0b8773a2",
   "metadata": {},
   "source": [
    "### KoNLPy 패키지\n",
    "> tag Package\n",
    "\n",
    "- Hannanum Class\n",
    "- Kkma Class\n",
    "- Komoran Class\n",
    "- Mecab Class\n",
    "- Twitter Class       →    Okt"
   ]
  },
  {
   "cell_type": "code",
   "execution_count": 1,
   "id": "83b3703c",
   "metadata": {},
   "outputs": [],
   "source": [
    "from IPython.display import Image as Show"
   ]
  },
  {
   "cell_type": "code",
   "execution_count": 2,
   "id": "8946a829",
   "metadata": {},
   "outputs": [],
   "source": [
    "import platform\n",
    "\n",
    "import numpy as np\n",
    "import pandas as pd\n",
    "import matplotlib.pyplot as plt\n",
    "import seaborn as sns\n",
    "# sns.set()\n",
    "\n",
    "from matplotlib import font_manager, rc\n",
    "if platform.system() == 'Darwin':\n",
    "    rc('font', family='AppleGothic')\n",
    "elif platform.system() == 'Windows':\n",
    "    font_name = font_manager.FontProperties(fname=\"C:/Windows/Fonts/malgun.ttf\").get_name()\n",
    "    rc('font', family=font_name)\n",
    "else:\n",
    "    print(\"It's unknown system. Hangul fonts are not supported!\")\n",
    "    \n",
    "# plt.rcParams['axes.unicode_minus'] = False\n",
    "plt.rcParams[\"figure.figsize\"] = [12,6]\n",
    "\n",
    "%matplotlib inline"
   ]
  },
  {
   "cell_type": "code",
   "execution_count": 3,
   "id": "b582a72a",
   "metadata": {},
   "outputs": [],
   "source": [
    "text_0 = '한국어 분석을 시작합니다. 재미있어요'\n",
    "text_1 = '나는 이제 너 없이도 너를 좋아할 수 있다.'\n",
    "text_2 = '순간이 시간이 되고, 시간이 세월이 되고, 세월은 추억이 된다.'\n",
    "text_3 = '''\n",
    "    자신의 능력을 감추지 마라. \n",
    "    재능은 쓰라고 주어진 것이다. \n",
    "    그늘속의 해시계가 무슨 소용이랴.'\n",
    "'''\n",
    "text_4 = '''\n",
    "    If I only had an hour to chop down a tree, \n",
    "    I would spend the first 45 minutes sharpening my axe.\n",
    "    만일 내게 나무를 베기 위해 한 시간만 주어진다면, \n",
    "    우선 나는 도끼를 가는데 45분을 쓸 것이다.'\n",
    "    - 에이브러햄 링컨\n",
    "'''\n",
    "text_5 = '''\n",
    "아름답지만 다소 복잡하기도한 한국어는 전세계에서 13번째로 많이 사용되는 언어입니다.\n",
    "KoNLPy는 파이썬 프로그래밍 언어로 사용할 수 있도록 만들어졌는데, \n",
    "그것은 파이썬이 간결하고 우아한 문법구조, 강력한 스트링 연산 기능을 가지고 있을 뿐 아니라 \n",
    "크롤링, 웹프로그래밍, 그리고 데이터 분석을 수행할 수 있는 다양한 패키지를 사용할 수 있는 언어이기 때문입니다.\n",
    "'''\n",
    "\n",
    "cool_sentences = [ text_0, text_1, text_2, text_3, text_4, text_5 ]"
   ]
  },
  {
   "cell_type": "code",
   "execution_count": 4,
   "id": "5a28c989",
   "metadata": {},
   "outputs": [],
   "source": [
    "# !pip install konlpy"
   ]
  },
  {
   "cell_type": "code",
   "execution_count": 5,
   "id": "e3da50b3",
   "metadata": {},
   "outputs": [
    {
     "name": "stdout",
     "output_type": "stream",
     "text": [
      "\n",
      "아름답지만 다소 복잡하기도한 한국어는 전세계에서 13번째로 많이 사용되는 언어입니다.\n",
      "KoNLPy는 파이썬 프로그래밍 언어로 사용할 수 있도록 만들어졌는데, \n",
      "그것은 파이썬이 간결하고 우아한 문법구조, 강력한 스트링 연산 기능을 가지고 있을 뿐 아니라 \n",
      "크롤링, 웹프로그래밍, 그리고 데이터 분석을 수행할 수 있는 다양한 패키지를 사용할 수 있는 언어이기 때문입니다.\n",
      "\n"
     ]
    }
   ],
   "source": [
    "selected_text = cool_sentences[-1]\n",
    "print(selected_text)"
   ]
  },
  {
   "cell_type": "code",
   "execution_count": 6,
   "id": "0bfb6c7a",
   "metadata": {},
   "outputs": [],
   "source": [
    "# selected_text = cool_sentences[4]\n",
    "# print(selected_text)"
   ]
  },
  {
   "cell_type": "code",
   "execution_count": null,
   "id": "b4ef3990",
   "metadata": {},
   "outputs": [],
   "source": []
  },
  {
   "cell_type": "markdown",
   "id": "8d6e5fe9",
   "metadata": {},
   "source": [
    "### KoNLPy - Kkma"
   ]
  },
  {
   "cell_type": "code",
   "execution_count": 7,
   "id": "50097ec3",
   "metadata": {},
   "outputs": [],
   "source": [
    "from konlpy.tag import Kkma"
   ]
  },
  {
   "cell_type": "code",
   "execution_count": 22,
   "id": "535f2e43",
   "metadata": {},
   "outputs": [
    {
     "name": "stdout",
     "output_type": "stream",
     "text": [
      "한국어 분석을 시작합니다. 재미있어요\n"
     ]
    }
   ],
   "source": [
    "kkma = Kkma()\n",
    "\n",
    "selected_text = cool_sentences[0]\n",
    "print(selected_text)"
   ]
  },
  {
   "cell_type": "code",
   "execution_count": 23,
   "id": "d14c002f",
   "metadata": {},
   "outputs": [
    {
     "data": {
      "text/plain": [
       "['한국어 분석을 시작합니다.', '재미있어요']"
      ]
     },
     "execution_count": 23,
     "metadata": {},
     "output_type": "execute_result"
    }
   ],
   "source": [
    "sent = kkma.sentences(selected_text)   # sentences : 문장구분\n",
    "sent"
   ]
  },
  {
   "cell_type": "code",
   "execution_count": 24,
   "id": "0ce272c9",
   "metadata": {},
   "outputs": [
    {
     "data": {
      "text/plain": [
       "2"
      ]
     },
     "execution_count": 24,
     "metadata": {},
     "output_type": "execute_result"
    }
   ],
   "source": [
    "len(sent)"
   ]
  },
  {
   "cell_type": "code",
   "execution_count": 25,
   "id": "9b9d6d59",
   "metadata": {},
   "outputs": [
    {
     "data": {
      "text/plain": [
       "['한국어', '분석']"
      ]
     },
     "execution_count": 25,
     "metadata": {},
     "output_type": "execute_result"
    }
   ],
   "source": [
    "kkma.nouns(selected_text)    # nouns : 명사"
   ]
  },
  {
   "cell_type": "code",
   "execution_count": 26,
   "id": "be8e5f44",
   "metadata": {},
   "outputs": [
    {
     "data": {
      "text/plain": [
       "['한국어', '분석', '을', '시작하', 'ㅂ니다', '.', '재미있', '어요']"
      ]
     },
     "execution_count": 26,
     "metadata": {},
     "output_type": "execute_result"
    }
   ],
   "source": [
    "kkma.morphs(selected_text)   # morphs : 형태소"
   ]
  },
  {
   "cell_type": "code",
   "execution_count": 27,
   "id": "c3f73aa9",
   "metadata": {},
   "outputs": [
    {
     "data": {
      "text/plain": [
       "[('한국어', 'NNG'),\n",
       " ('분석', 'NNG'),\n",
       " ('을', 'JKO'),\n",
       " ('시작하', 'VV'),\n",
       " ('ㅂ니다', 'EFN'),\n",
       " ('.', 'SF'),\n",
       " ('재미있', 'VA'),\n",
       " ('어요', 'EFN')]"
      ]
     },
     "execution_count": 27,
     "metadata": {},
     "output_type": "execute_result"
    }
   ],
   "source": [
    "kkma.pos(selected_text)   # pos : 형태소별 의미(tuple)"
   ]
  },
  {
   "cell_type": "code",
   "execution_count": 28,
   "id": "f50f7f37",
   "metadata": {},
   "outputs": [
    {
     "data": {
      "text/plain": [
       "{'EC': '연결 어미',\n",
       " 'ECD': '의존적 연결 어미',\n",
       " 'ECE': '대등 연결 어미',\n",
       " 'ECS': '보조적 연결 어미',\n",
       " 'EF': '종결 어미',\n",
       " 'EFA': '청유형 종결 어미',\n",
       " 'EFI': '감탄형 종결 어미',\n",
       " 'EFN': '평서형 종결 어미',\n",
       " 'EFO': '명령형 종결 어미',\n",
       " 'EFQ': '의문형 종결 어미',\n",
       " 'EFR': '존칭형 종결 어미',\n",
       " 'EP': '선어말 어미',\n",
       " 'EPH': '존칭 선어말 어미',\n",
       " 'EPP': '공손 선어말 어미',\n",
       " 'EPT': '시제 선어말 어미',\n",
       " 'ET': '전성 어미',\n",
       " 'ETD': '관형형 전성 어미',\n",
       " 'ETN': '명사형 전성 어미',\n",
       " 'IC': '감탄사',\n",
       " 'JC': '접속 조사',\n",
       " 'JK': '조사',\n",
       " 'JKC': '보격 조사',\n",
       " 'JKG': '관형격 조사',\n",
       " 'JKI': '호격 조사',\n",
       " 'JKM': '부사격 조사',\n",
       " 'JKO': '목적격 조사',\n",
       " 'JKQ': '인용격 조사',\n",
       " 'JKS': '주격 조사',\n",
       " 'JX': '보조사',\n",
       " 'MA': '부사',\n",
       " 'MAC': '접속 부사',\n",
       " 'MAG': '일반 부사',\n",
       " 'MD': '관형사',\n",
       " 'MDN': '수 관형사',\n",
       " 'MDT': '일반 관형사',\n",
       " 'NN': '명사',\n",
       " 'NNB': '일반 의존 명사',\n",
       " 'NNG': '보통명사',\n",
       " 'NNM': '단위 의존 명사',\n",
       " 'NNP': '고유명사',\n",
       " 'NP': '대명사',\n",
       " 'NR': '수사',\n",
       " 'OH': '한자',\n",
       " 'OL': '외국어',\n",
       " 'ON': '숫자',\n",
       " 'SE': '줄임표',\n",
       " 'SF': '마침표, 물음표, 느낌표',\n",
       " 'SO': '붙임표(물결,숨김,빠짐)',\n",
       " 'SP': '쉼표,가운뎃점,콜론,빗금',\n",
       " 'SS': '따옴표,괄호표,줄표',\n",
       " 'SW': '기타기호 (논리수학기호,화폐기호)',\n",
       " 'UN': '명사추정범주',\n",
       " 'VA': '형용사',\n",
       " 'VC': '지정사',\n",
       " 'VCN': \"부정 지정사, 형용사 '아니다'\",\n",
       " 'VCP': \"긍정 지정사, 서술격 조사 '이다'\",\n",
       " 'VV': '동사',\n",
       " 'VX': '보조 용언',\n",
       " 'VXA': '보조 형용사',\n",
       " 'VXV': '보조 동사',\n",
       " 'XP': '접두사',\n",
       " 'XPN': '체언 접두사',\n",
       " 'XPV': '용언 접두사',\n",
       " 'XR': '어근',\n",
       " 'XSA': '형용사 파생 접미사',\n",
       " 'XSN': '명사파생 접미사',\n",
       " 'XSV': '동사 파생 접미사'}"
      ]
     },
     "execution_count": 28,
     "metadata": {},
     "output_type": "execute_result"
    }
   ],
   "source": [
    "kkma.tagset"
   ]
  },
  {
   "cell_type": "code",
   "execution_count": null,
   "id": "5f011015",
   "metadata": {},
   "outputs": [],
   "source": []
  },
  {
   "cell_type": "markdown",
   "id": "55ed1fa9",
   "metadata": {},
   "source": [
    "### KoNLPy - Hnananum"
   ]
  },
  {
   "cell_type": "code",
   "execution_count": 29,
   "id": "f2d37c0a",
   "metadata": {},
   "outputs": [],
   "source": [
    "from konlpy.tag import Hannanum"
   ]
  },
  {
   "cell_type": "code",
   "execution_count": 30,
   "id": "0501a054",
   "metadata": {},
   "outputs": [],
   "source": [
    "hannanum = Hannanum()"
   ]
  },
  {
   "cell_type": "code",
   "execution_count": 31,
   "id": "c4e13bdf",
   "metadata": {},
   "outputs": [
    {
     "name": "stdout",
     "output_type": "stream",
     "text": [
      "한국어 분석을 시작합니다. 재미있어요\n"
     ]
    }
   ],
   "source": [
    "selected_text = cool_sentences[0]\n",
    "print(selected_text)"
   ]
  },
  {
   "cell_type": "code",
   "execution_count": 32,
   "id": "4cb2b711",
   "metadata": {},
   "outputs": [
    {
     "data": {
      "text/plain": [
       "['한국어', '분석', '시작']"
      ]
     },
     "execution_count": 32,
     "metadata": {},
     "output_type": "execute_result"
    }
   ],
   "source": [
    "hannanum.nouns(selected_text)   # kkma랑 조금씩 다름"
   ]
  },
  {
   "cell_type": "code",
   "execution_count": 33,
   "id": "48e2eeaf",
   "metadata": {},
   "outputs": [
    {
     "data": {
      "text/plain": [
       "['한국어', '분석', '을', '시작', '하', 'ㅂ니다', '.', '재미있', '어요']"
      ]
     },
     "execution_count": 33,
     "metadata": {},
     "output_type": "execute_result"
    }
   ],
   "source": [
    "hannanum.morphs(selected_text)"
   ]
  },
  {
   "cell_type": "code",
   "execution_count": 34,
   "id": "87218db0",
   "metadata": {},
   "outputs": [
    {
     "data": {
      "text/plain": [
       "[[[('한국어', 'ncn')]],\n",
       " [[('분석', 'ncpa'), ('을', 'jco')]],\n",
       " [[('시작', 'ncpa'), ('하', 'xsva'), ('ㅂ니다', 'ef')]],\n",
       " [[('.', 'sf')], [('.', 'sy')]],\n",
       " [],\n",
       " [[('재미있', 'pvg'), ('어요', 'ef')],\n",
       "  [('재미있', 'pvg'), ('어', 'ef'), ('요', 'jxf')],\n",
       "  [('재미', 'ncn'), ('있', 'xsmn'), ('어요', 'ef')],\n",
       "  [('재미', 'ncn'), ('있', 'xsmn'), ('어', 'ef'), ('요', 'jxf')]]]"
      ]
     },
     "execution_count": 34,
     "metadata": {},
     "output_type": "execute_result"
    }
   ],
   "source": [
    "hannanum.analyze(selected_text)"
   ]
  },
  {
   "cell_type": "code",
   "execution_count": 35,
   "id": "77c5c213",
   "metadata": {},
   "outputs": [
    {
     "data": {
      "text/plain": [
       "[('한국어', 'N'),\n",
       " ('분석', 'N'),\n",
       " ('을', 'J'),\n",
       " ('시작', 'N'),\n",
       " ('하', 'X'),\n",
       " ('ㅂ니다', 'E'),\n",
       " ('.', 'S'),\n",
       " ('재미있', 'P'),\n",
       " ('어요', 'E')]"
      ]
     },
     "execution_count": 35,
     "metadata": {},
     "output_type": "execute_result"
    }
   ],
   "source": [
    "hannanum.pos(selected_text)"
   ]
  },
  {
   "cell_type": "code",
   "execution_count": 36,
   "id": "87ce9a4c",
   "metadata": {},
   "outputs": [
    {
     "data": {
      "text/plain": [
       "{'E': '어미',\n",
       " 'EC': '연결 어미',\n",
       " 'EF': '종결 어미',\n",
       " 'EP': '선어말어미',\n",
       " 'ET': '전성 어미',\n",
       " 'F': '외국어',\n",
       " 'I': '독립언',\n",
       " 'II': '감탄사',\n",
       " 'J': '관계언',\n",
       " 'JC': '격조사',\n",
       " 'JP': '서술격 조사',\n",
       " 'JX': '보조사',\n",
       " 'M': '수식언',\n",
       " 'MA': '부사',\n",
       " 'MM': '관형사',\n",
       " 'N': '체언',\n",
       " 'NB': '의존명사',\n",
       " 'NC': '보통명사',\n",
       " 'NN': '수사',\n",
       " 'NP': '대명사',\n",
       " 'NQ': '고유명사',\n",
       " 'P': '용언',\n",
       " 'PA': '형용사',\n",
       " 'PV': '동사',\n",
       " 'PX': '보조 용언',\n",
       " 'S': '기호',\n",
       " 'X': '접사',\n",
       " 'XP': '접두사',\n",
       " 'XS': '접미사'}"
      ]
     },
     "execution_count": 36,
     "metadata": {},
     "output_type": "execute_result"
    }
   ],
   "source": [
    "hannanum.tagset"
   ]
  },
  {
   "cell_type": "markdown",
   "id": "bf884f85",
   "metadata": {},
   "source": [
    "### KoNLPy - Twitter (x) → Okt (o)</font>\n",
    "> \"Twitter\" has changed to \"Okt\" since KoNLPy v0.4.5."
   ]
  },
  {
   "cell_type": "code",
   "execution_count": 37,
   "id": "4f0c7cc4",
   "metadata": {},
   "outputs": [],
   "source": [
    "from konlpy.tag import Twitter"
   ]
  },
  {
   "cell_type": "code",
   "execution_count": 38,
   "id": "293513d1",
   "metadata": {},
   "outputs": [
    {
     "name": "stderr",
     "output_type": "stream",
     "text": [
      "C:\\Python\\anaconda3\\lib\\site-packages\\konlpy\\tag\\_okt.py:17: UserWarning: \"Twitter\" has changed to \"Okt\" since KoNLPy v0.4.5.\n",
      "  warn('\"Twitter\" has changed to \"Okt\" since KoNLPy v0.4.5.')\n"
     ]
    }
   ],
   "source": [
    "t = Twitter()"
   ]
  },
  {
   "cell_type": "code",
   "execution_count": 39,
   "id": "3075b246",
   "metadata": {},
   "outputs": [
    {
     "name": "stdout",
     "output_type": "stream",
     "text": [
      "한국어 분석을 시작합니다. 재미있어요\n"
     ]
    }
   ],
   "source": [
    "selected_text = cool_sentences[0]\n",
    "print(selected_text)"
   ]
  },
  {
   "cell_type": "code",
   "execution_count": 40,
   "id": "f225107e",
   "metadata": {},
   "outputs": [
    {
     "data": {
      "text/plain": [
       "['한국어', '분석', '시작']"
      ]
     },
     "execution_count": 40,
     "metadata": {},
     "output_type": "execute_result"
    }
   ],
   "source": [
    "t.nouns(selected_text)"
   ]
  },
  {
   "cell_type": "code",
   "execution_count": 41,
   "id": "f9f55413",
   "metadata": {},
   "outputs": [
    {
     "data": {
      "text/plain": [
       "['한국어', '한국어 분석', '시작', '분석']"
      ]
     },
     "execution_count": 41,
     "metadata": {},
     "output_type": "execute_result"
    }
   ],
   "source": [
    "t.phrases(selected_text)   # phrases : 구문"
   ]
  },
  {
   "cell_type": "code",
   "execution_count": 42,
   "id": "bfa2c1cd",
   "metadata": {},
   "outputs": [
    {
     "data": {
      "text/plain": [
       "['한국어', '분석', '을', '시작', '합니다', '.', '재미있어요']"
      ]
     },
     "execution_count": 42,
     "metadata": {},
     "output_type": "execute_result"
    }
   ],
   "source": [
    "t.morphs(selected_text)"
   ]
  },
  {
   "cell_type": "code",
   "execution_count": 43,
   "id": "0ffa4c2f",
   "metadata": {},
   "outputs": [
    {
     "data": {
      "text/plain": [
       "[('한국어', 'Noun'),\n",
       " ('분석', 'Noun'),\n",
       " ('을', 'Josa'),\n",
       " ('시작', 'Noun'),\n",
       " ('합니다', 'Verb'),\n",
       " ('.', 'Punctuation'),\n",
       " ('재미있어요', 'Adjective')]"
      ]
     },
     "execution_count": 43,
     "metadata": {},
     "output_type": "execute_result"
    }
   ],
   "source": [
    "t.pos(selected_text)"
   ]
  },
  {
   "cell_type": "code",
   "execution_count": 44,
   "id": "49a49398",
   "metadata": {},
   "outputs": [
    {
     "data": {
      "text/plain": [
       "{'Adjective': '형용사',\n",
       " 'Adverb': '부사',\n",
       " 'Alpha': '알파벳',\n",
       " 'Conjunction': '접속사',\n",
       " 'Determiner': '관형사',\n",
       " 'Eomi': '어미',\n",
       " 'Exclamation': '감탄사',\n",
       " 'Foreign': '외국어, 한자 및 기타기호',\n",
       " 'Hashtag': '트위터 해쉬태그',\n",
       " 'Josa': '조사',\n",
       " 'KoreanParticle': '(ex: ㅋㅋ)',\n",
       " 'Noun': '명사',\n",
       " 'Number': '숫자',\n",
       " 'PreEomi': '선어말어미',\n",
       " 'Punctuation': '구두점',\n",
       " 'ScreenName': '트위터 아이디',\n",
       " 'Suffix': '접미사',\n",
       " 'Unknown': '미등록어',\n",
       " 'Verb': '동사'}"
      ]
     },
     "execution_count": 44,
     "metadata": {},
     "output_type": "execute_result"
    }
   ],
   "source": [
    "t.tagset"
   ]
  },
  {
   "cell_type": "markdown",
   "id": "b8dd4c7e",
   "metadata": {},
   "source": [
    "### KoNLPy - Okt"
   ]
  },
  {
   "cell_type": "code",
   "execution_count": 45,
   "id": "13fb7b36",
   "metadata": {},
   "outputs": [],
   "source": [
    "from konlpy.tag import Okt"
   ]
  },
  {
   "cell_type": "code",
   "execution_count": 46,
   "id": "164fc512",
   "metadata": {},
   "outputs": [],
   "source": [
    "okt = Okt()"
   ]
  },
  {
   "cell_type": "code",
   "execution_count": 47,
   "id": "a1c54686",
   "metadata": {},
   "outputs": [
    {
     "name": "stdout",
     "output_type": "stream",
     "text": [
      "한국어 분석을 시작합니다. 재미있어요\n"
     ]
    }
   ],
   "source": [
    "selected_text = cool_sentences[0]\n",
    "print(selected_text)"
   ]
  },
  {
   "cell_type": "code",
   "execution_count": 48,
   "id": "bd8c6bfd",
   "metadata": {},
   "outputs": [
    {
     "data": {
      "text/plain": [
       "['한국어', '분석', '시작']"
      ]
     },
     "execution_count": 48,
     "metadata": {},
     "output_type": "execute_result"
    }
   ],
   "source": [
    "okt.nouns(selected_text)"
   ]
  },
  {
   "cell_type": "code",
   "execution_count": 49,
   "id": "1ea10948",
   "metadata": {},
   "outputs": [
    {
     "data": {
      "text/plain": [
       "['한국어', '한국어 분석', '시작', '분석']"
      ]
     },
     "execution_count": 49,
     "metadata": {},
     "output_type": "execute_result"
    }
   ],
   "source": [
    "okt.phrases(selected_text)"
   ]
  },
  {
   "cell_type": "code",
   "execution_count": 50,
   "id": "631a6f84",
   "metadata": {},
   "outputs": [
    {
     "data": {
      "text/plain": [
       "['한국어', '분석', '을', '시작', '합니다', '.', '재미있어요']"
      ]
     },
     "execution_count": 50,
     "metadata": {},
     "output_type": "execute_result"
    }
   ],
   "source": [
    "okt.morphs(selected_text)"
   ]
  },
  {
   "cell_type": "code",
   "execution_count": 51,
   "id": "6cb2dfc5",
   "metadata": {},
   "outputs": [
    {
     "data": {
      "text/plain": [
       "[('한국어', 'Noun'),\n",
       " ('분석', 'Noun'),\n",
       " ('을', 'Josa'),\n",
       " ('시작', 'Noun'),\n",
       " ('합니다', 'Verb'),\n",
       " ('.', 'Punctuation'),\n",
       " ('재미있어요', 'Adjective')]"
      ]
     },
     "execution_count": 51,
     "metadata": {},
     "output_type": "execute_result"
    }
   ],
   "source": [
    "okt.pos(selected_text)"
   ]
  },
  {
   "cell_type": "code",
   "execution_count": 52,
   "id": "d0f10db7",
   "metadata": {},
   "outputs": [
    {
     "data": {
      "text/plain": [
       "{'Adjective': '형용사',\n",
       " 'Adverb': '부사',\n",
       " 'Alpha': '알파벳',\n",
       " 'Conjunction': '접속사',\n",
       " 'Determiner': '관형사',\n",
       " 'Eomi': '어미',\n",
       " 'Exclamation': '감탄사',\n",
       " 'Foreign': '외국어, 한자 및 기타기호',\n",
       " 'Hashtag': '트위터 해쉬태그',\n",
       " 'Josa': '조사',\n",
       " 'KoreanParticle': '(ex: ㅋㅋ)',\n",
       " 'Noun': '명사',\n",
       " 'Number': '숫자',\n",
       " 'PreEomi': '선어말어미',\n",
       " 'Punctuation': '구두점',\n",
       " 'ScreenName': '트위터 아이디',\n",
       " 'Suffix': '접미사',\n",
       " 'Unknown': '미등록어',\n",
       " 'Verb': '동사'}"
      ]
     },
     "execution_count": 52,
     "metadata": {},
     "output_type": "execute_result"
    }
   ],
   "source": [
    "okt.tagset"
   ]
  },
  {
   "cell_type": "code",
   "execution_count": null,
   "id": "71557e02",
   "metadata": {},
   "outputs": [],
   "source": []
  }
 ],
 "metadata": {
  "kernelspec": {
   "display_name": "Python 3 (ipykernel)",
   "language": "python",
   "name": "python3"
  },
  "language_info": {
   "codemirror_mode": {
    "name": "ipython",
    "version": 3
   },
   "file_extension": ".py",
   "mimetype": "text/x-python",
   "name": "python",
   "nbconvert_exporter": "python",
   "pygments_lexer": "ipython3",
   "version": "3.9.12"
  }
 },
 "nbformat": 4,
 "nbformat_minor": 5
}
