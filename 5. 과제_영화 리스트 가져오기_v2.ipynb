{
 "cells": [
  {
   "cell_type": "code",
   "execution_count": 1,
   "id": "e85f122f",
   "metadata": {},
   "outputs": [],
   "source": [
    "from bs4 import BeautifulSoup \n",
    "from urllib.request import Request, urlopen\n",
    "\n",
    "import pandas as pd\n",
    "import re"
   ]
  },
  {
   "cell_type": "code",
   "execution_count": 2,
   "id": "97fcc381",
   "metadata": {},
   "outputs": [
    {
     "data": {
      "text/html": [
       "<div>\n",
       "<style scoped>\n",
       "    .dataframe tbody tr th:only-of-type {\n",
       "        vertical-align: middle;\n",
       "    }\n",
       "\n",
       "    .dataframe tbody tr th {\n",
       "        vertical-align: top;\n",
       "    }\n",
       "\n",
       "    .dataframe thead th {\n",
       "        text-align: right;\n",
       "    }\n",
       "</style>\n",
       "<table border=\"1\" class=\"dataframe\">\n",
       "  <thead>\n",
       "    <tr style=\"text-align: right;\">\n",
       "      <th></th>\n",
       "      <th>Unnamed: 0</th>\n",
       "      <th>Movie</th>\n",
       "      <th>Compare</th>\n",
       "      <th>URL</th>\n",
       "    </tr>\n",
       "    <tr>\n",
       "      <th>Rank</th>\n",
       "      <th></th>\n",
       "      <th></th>\n",
       "      <th></th>\n",
       "      <th></th>\n",
       "    </tr>\n",
       "  </thead>\n",
       "  <tbody>\n",
       "    <tr>\n",
       "      <th>1</th>\n",
       "      <td>0</td>\n",
       "      <td>범죄도시2</td>\n",
       "      <td>0</td>\n",
       "      <td>https://movie.naver.com//movie/bi/mi/basic.nav...</td>\n",
       "    </tr>\n",
       "    <tr>\n",
       "      <th>2</th>\n",
       "      <td>1</td>\n",
       "      <td>쥬라기 월드: 도미니언</td>\n",
       "      <td>0</td>\n",
       "      <td>https://movie.naver.com//movie/bi/mi/basic.nav...</td>\n",
       "    </tr>\n",
       "    <tr>\n",
       "      <th>3</th>\n",
       "      <td>2</td>\n",
       "      <td>브로커</td>\n",
       "      <td>0</td>\n",
       "      <td>https://movie.naver.com//movie/bi/mi/basic.nav...</td>\n",
       "    </tr>\n",
       "    <tr>\n",
       "      <th>4</th>\n",
       "      <td>3</td>\n",
       "      <td>닥터 스트레인지: 대혼돈의 멀티버스</td>\n",
       "      <td>0</td>\n",
       "      <td>https://movie.naver.com//movie/bi/mi/basic.nav...</td>\n",
       "    </tr>\n",
       "    <tr>\n",
       "      <th>5</th>\n",
       "      <td>4</td>\n",
       "      <td>니 부모 얼굴이 보고 싶다</td>\n",
       "      <td>1</td>\n",
       "      <td>https://movie.naver.com//movie/bi/mi/basic.nav...</td>\n",
       "    </tr>\n",
       "  </tbody>\n",
       "</table>\n",
       "</div>"
      ],
      "text/plain": [
       "      Unnamed: 0                Movie  Compare  \\\n",
       "Rank                                             \n",
       "1              0                범죄도시2        0   \n",
       "2              1         쥬라기 월드: 도미니언        0   \n",
       "3              2                  브로커        0   \n",
       "4              3  닥터 스트레인지: 대혼돈의 멀티버스        0   \n",
       "5              4       니 부모 얼굴이 보고 싶다        1   \n",
       "\n",
       "                                                    URL  \n",
       "Rank                                                     \n",
       "1     https://movie.naver.com//movie/bi/mi/basic.nav...  \n",
       "2     https://movie.naver.com//movie/bi/mi/basic.nav...  \n",
       "3     https://movie.naver.com//movie/bi/mi/basic.nav...  \n",
       "4     https://movie.naver.com//movie/bi/mi/basic.nav...  \n",
       "5     https://movie.naver.com//movie/bi/mi/basic.nav...  "
      ]
     },
     "execution_count": 2,
     "metadata": {},
     "output_type": "execute_result"
    }
   ],
   "source": [
    "# df = pd.read_csv('data/exam-WebParsing.csv')       \n",
    "df = pd.read_csv('data/moviechart.csv', index_col='Rank') \n",
    "df.head()"
   ]
  },
  {
   "cell_type": "code",
   "execution_count": 3,
   "id": "a2c69076",
   "metadata": {},
   "outputs": [
    {
     "data": {
      "text/html": [
       "<div>\n",
       "<style scoped>\n",
       "    .dataframe tbody tr th:only-of-type {\n",
       "        vertical-align: middle;\n",
       "    }\n",
       "\n",
       "    .dataframe tbody tr th {\n",
       "        vertical-align: top;\n",
       "    }\n",
       "\n",
       "    .dataframe thead th {\n",
       "        text-align: right;\n",
       "    }\n",
       "</style>\n",
       "<table border=\"1\" class=\"dataframe\">\n",
       "  <thead>\n",
       "    <tr style=\"text-align: right;\">\n",
       "      <th></th>\n",
       "      <th>Movie</th>\n",
       "      <th>Compare</th>\n",
       "      <th>URL</th>\n",
       "    </tr>\n",
       "    <tr>\n",
       "      <th>Rank</th>\n",
       "      <th></th>\n",
       "      <th></th>\n",
       "      <th></th>\n",
       "    </tr>\n",
       "  </thead>\n",
       "  <tbody>\n",
       "    <tr>\n",
       "      <th>1</th>\n",
       "      <td>범죄도시2</td>\n",
       "      <td>0</td>\n",
       "      <td>https://movie.naver.com//movie/bi/mi/basic.nav...</td>\n",
       "    </tr>\n",
       "    <tr>\n",
       "      <th>2</th>\n",
       "      <td>쥬라기 월드: 도미니언</td>\n",
       "      <td>0</td>\n",
       "      <td>https://movie.naver.com//movie/bi/mi/basic.nav...</td>\n",
       "    </tr>\n",
       "    <tr>\n",
       "      <th>3</th>\n",
       "      <td>브로커</td>\n",
       "      <td>0</td>\n",
       "      <td>https://movie.naver.com//movie/bi/mi/basic.nav...</td>\n",
       "    </tr>\n",
       "    <tr>\n",
       "      <th>4</th>\n",
       "      <td>닥터 스트레인지: 대혼돈의 멀티버스</td>\n",
       "      <td>0</td>\n",
       "      <td>https://movie.naver.com//movie/bi/mi/basic.nav...</td>\n",
       "    </tr>\n",
       "    <tr>\n",
       "      <th>5</th>\n",
       "      <td>니 부모 얼굴이 보고 싶다</td>\n",
       "      <td>1</td>\n",
       "      <td>https://movie.naver.com//movie/bi/mi/basic.nav...</td>\n",
       "    </tr>\n",
       "  </tbody>\n",
       "</table>\n",
       "</div>"
      ],
      "text/plain": [
       "                    Movie  Compare  \\\n",
       "Rank                                 \n",
       "1                   범죄도시2        0   \n",
       "2            쥬라기 월드: 도미니언        0   \n",
       "3                     브로커        0   \n",
       "4     닥터 스트레인지: 대혼돈의 멀티버스        0   \n",
       "5          니 부모 얼굴이 보고 싶다        1   \n",
       "\n",
       "                                                    URL  \n",
       "Rank                                                     \n",
       "1     https://movie.naver.com//movie/bi/mi/basic.nav...  \n",
       "2     https://movie.naver.com//movie/bi/mi/basic.nav...  \n",
       "3     https://movie.naver.com//movie/bi/mi/basic.nav...  \n",
       "4     https://movie.naver.com//movie/bi/mi/basic.nav...  \n",
       "5     https://movie.naver.com//movie/bi/mi/basic.nav...  "
      ]
     },
     "execution_count": 3,
     "metadata": {},
     "output_type": "execute_result"
    }
   ],
   "source": [
    "# index_col='Unnamed: 0'') 삭제\n",
    "del df['Unnamed: 0']\n",
    "df.head()"
   ]
  },
  {
   "cell_type": "code",
   "execution_count": 4,
   "id": "819d81e2",
   "metadata": {},
   "outputs": [
    {
     "data": {
      "text/plain": [
       "'https://movie.naver.com//movie/bi/mi/basic.naver?code=192608'"
      ]
     },
     "execution_count": 4,
     "metadata": {},
     "output_type": "execute_result"
    }
   ],
   "source": [
    "df['URL'][1]"
   ]
  },
  {
   "cell_type": "markdown",
   "id": "833ceb49",
   "metadata": {},
   "source": [
    "### # 첫번째 URL 페이지 크롤링하기"
   ]
  },
  {
   "cell_type": "code",
   "execution_count": 5,
   "id": "2b3620c0",
   "metadata": {},
   "outputs": [],
   "source": [
    "def get_read_web(url):    \n",
    "    req = Request(url, headers={'User-Agent': 'Mozilla/5.0'})\n",
    "    html = urlopen(req).read()\n",
    "    soup = BeautifulSoup(html, \"lxml\")    \n",
    "    return soup"
   ]
  },
  {
   "cell_type": "code",
   "execution_count": 6,
   "id": "5d761656",
   "metadata": {},
   "outputs": [
    {
     "data": {
      "text/plain": [
       "<title>범죄도시2 : 네이버 영화</title>"
      ]
     },
     "execution_count": 6,
     "metadata": {},
     "output_type": "execute_result"
    }
   ],
   "source": [
    "soup = get_read_web(df['URL'][1])\n",
    "soup.title"
   ]
  },
  {
   "cell_type": "markdown",
   "id": "bac9f0e6",
   "metadata": {},
   "source": [
    "> 필요 : 평점3개 / 장르 / 감독 / 출연 / 등급"
   ]
  },
  {
   "cell_type": "code",
   "execution_count": 7,
   "id": "938a23ef",
   "metadata": {},
   "outputs": [
    {
     "data": {
      "text/plain": [
       "11"
      ]
     },
     "execution_count": 7,
     "metadata": {},
     "output_type": "execute_result"
    }
   ],
   "source": [
    "# 평점 불러오기\n",
    "main_score = soup.find('div', 'main_score')\n",
    "len(main_score)"
   ]
  },
  {
   "cell_type": "code",
   "execution_count": 8,
   "id": "9265ebef",
   "metadata": {},
   "outputs": [
    {
     "data": {
      "text/plain": [
       "5"
      ]
     },
     "execution_count": 8,
     "metadata": {},
     "output_type": "execute_result"
    }
   ],
   "source": [
    "score = main_score.find_all('div','star_score')\n",
    "len(score)"
   ]
  },
  {
   "cell_type": "code",
   "execution_count": 9,
   "id": "7a41a440",
   "metadata": {},
   "outputs": [
    {
     "data": {
      "text/plain": [
       "<div class=\"star_score\">\n",
       "<span class=\"st_off\"><span class=\"st_on\" style=\"width:90.7%\">관람객 평점 9.07점</span></span><em class=\"num9\">9</em><em class=\"dot\">.</em><em class=\"num0\">0</em><em class=\"num7\">7</em>\n",
       "</div>"
      ]
     },
     "execution_count": 9,
     "metadata": {},
     "output_type": "execute_result"
    }
   ],
   "source": [
    "tmp1 = score[0]\n",
    "tmp1"
   ]
  },
  {
   "cell_type": "code",
   "execution_count": 10,
   "id": "5a11694a",
   "metadata": {},
   "outputs": [
    {
     "data": {
      "text/plain": [
       "[<em class=\"num9\">9</em>,\n",
       " <em class=\"dot\">.</em>,\n",
       " <em class=\"num0\">0</em>,\n",
       " <em class=\"num7\">7</em>]"
      ]
     },
     "execution_count": 10,
     "metadata": {},
     "output_type": "execute_result"
    }
   ],
   "source": [
    "tmp2 = score[0]('em')\n",
    "tmp2"
   ]
  },
  {
   "cell_type": "markdown",
   "id": "d77bc9ce",
   "metadata": {},
   "source": [
    "##### 점수 패스!"
   ]
  },
  {
   "cell_type": "code",
   "execution_count": null,
   "id": "907ba65b",
   "metadata": {},
   "outputs": [],
   "source": []
  },
  {
   "cell_type": "code",
   "execution_count": 11,
   "id": "f664c6c2",
   "metadata": {},
   "outputs": [],
   "source": [
    "# 장르 불러오기"
   ]
  },
  {
   "cell_type": "code",
   "execution_count": 12,
   "id": "1a3f8897",
   "metadata": {},
   "outputs": [
    {
     "data": {
      "text/plain": [
       "21"
      ]
     },
     "execution_count": 12,
     "metadata": {},
     "output_type": "execute_result"
    }
   ],
   "source": [
    "gubun = soup.find('dl', 'info_spec')\n",
    "len(gubun)"
   ]
  },
  {
   "cell_type": "code",
   "execution_count": 13,
   "id": "90a1fe66",
   "metadata": {},
   "outputs": [
    {
     "data": {
      "text/plain": [
       "'개요()'"
      ]
     },
     "execution_count": 13,
     "metadata": {},
     "output_type": "execute_result"
    }
   ],
   "source": [
    "genre = gubun.find_all('dt','step1')\n",
    "genre[0].get_text()"
   ]
  },
  {
   "cell_type": "code",
   "execution_count": null,
   "id": "4b49b5fe",
   "metadata": {},
   "outputs": [],
   "source": []
  },
  {
   "cell_type": "code",
   "execution_count": null,
   "id": "da002fe6",
   "metadata": {},
   "outputs": [],
   "source": []
  },
  {
   "cell_type": "code",
   "execution_count": null,
   "id": "aa5efae6",
   "metadata": {},
   "outputs": [],
   "source": []
  }
 ],
 "metadata": {
  "kernelspec": {
   "display_name": "Python 3 (ipykernel)",
   "language": "python",
   "name": "python3"
  },
  "language_info": {
   "codemirror_mode": {
    "name": "ipython",
    "version": 3
   },
   "file_extension": ".py",
   "mimetype": "text/x-python",
   "name": "python",
   "nbconvert_exporter": "python",
   "pygments_lexer": "ipython3",
   "version": "3.9.12"
  }
 },
 "nbformat": 4,
 "nbformat_minor": 5
}
