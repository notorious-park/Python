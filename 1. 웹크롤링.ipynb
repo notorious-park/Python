{
 "cells": [
  {
   "cell_type": "markdown",
   "id": "6088cdcb",
   "metadata": {},
   "source": [
    "# 웹 크롤링 실습\n",
    "### 위키피디어 정보 크롤링"
   ]
  },
  {
   "cell_type": "markdown",
   "id": "ae1dfdb6",
   "metadata": {},
   "source": [
    "- 주제키워드 : 안토니오 비발디\n",
    "\n",
    "- 인물 기본정보 : 출생, 사망, 직업, 장르, 악기, 활동시기, 배우자, 종교\n",
    "\n",
    "- 미디어 리스트 : list [ (작품제목, 작품설명) ]\n",
    "\n",
    "- 수집된 자료 파일로 저장"
   ]
  },
  {
   "cell_type": "markdown",
   "id": "711dc938",
   "metadata": {},
   "source": [
    "### Step1 : 웹페이지 정보를 읽어오기"
   ]
  },
  {
   "cell_type": "code",
   "execution_count": 1,
   "id": "dbcaf6dc",
   "metadata": {},
   "outputs": [],
   "source": [
    "from bs4 import BeautifulSoup \n",
    "from urllib.request import urlopen\n",
    "from urllib import parse\n",
    "\n",
    "from IPython.display import Image \n",
    "from pandas import Series, DataFrame\n",
    "import pandas as pd\n",
    "import numpy as np"
   ]
  },
  {
   "cell_type": "code",
   "execution_count": 2,
   "id": "c90a6f78",
   "metadata": {},
   "outputs": [
    {
     "data": {
      "text/plain": [
       "'https://ko.wikipedia.org/wiki/%EC%95%88%ED%86%A0%EB%8B%88%EC%98%A4_%EB%B9%84%EB%B0%9C%EB%94%94'"
      ]
     },
     "execution_count": 2,
     "metadata": {},
     "output_type": "execute_result"
    }
   ],
   "source": [
    "# 구글에서 '50 Best Sandwiches' 검색\n",
    "keyword = '안토니오_비발디'\n",
    "url = 'https://ko.wikipedia.org/wiki/{}'.format(parse.quote(keyword))\n",
    "url"
   ]
  },
  {
   "cell_type": "code",
   "execution_count": 3,
   "id": "5c6ce3b7",
   "metadata": {},
   "outputs": [
    {
     "data": {
      "text/plain": [
       "<title>안토니오 비발디 - 위키백과, 우리 모두의 백과사전</title>"
      ]
     },
     "execution_count": 3,
     "metadata": {},
     "output_type": "execute_result"
    }
   ],
   "source": [
    "html = urlopen(url)\n",
    "soup = BeautifulSoup(html, \"lxml\")\n",
    "soup.title"
   ]
  },
  {
   "cell_type": "markdown",
   "id": "cbf00ba7",
   "metadata": {},
   "source": [
    "#### 기본정보 수집"
   ]
  },
  {
   "cell_type": "code",
   "execution_count": 4,
   "id": "7804f958",
   "metadata": {},
   "outputs": [
    {
     "data": {
      "text/plain": [
       "<table class=\"infobox vcard\" style=\"width:22em;text-align:left\"><tbody><tr><th class=\"summary\" colspan=\"2\" style=\"text-align:center;font-size:125%;font-weight:bold;background:silver;\"><div style=\"position:relative; width:100%; height:34px; display:table;\"><div style=\"position:absolute; top:0; right:0;\"><img alt=\"Picto infobox music.png\" data-file-height=\"45\" data-file-width=\"44\" decoding=\"async\" height=\"34\" src=\"//upload.wikimedia.org/wikipedia/commons/thumb/6/60/Picto_infobox_music.png/33px-Picto_infobox_music.png\" srcset=\"//upload.wikimedia.org/wikipedia/commons/6/60/Picto_infobox_music.png 1.5x\" width=\"33\"/></div><span style=\"position:relative; width:100%; display:table-cell; vertical-align:middle;\">안토니오 비발디<br/>Antonio Lucio Vivaldi</span></div></th></tr><tr><td colspan=\"2\" style=\"text-align:center\"><a class=\"image\" href=\"/wiki/%ED%8C%8C%EC%9D%BC:Vivaldi.jpg\"><img alt=\"Vivaldi.jpg\" data-file-height=\"1533\" data-file-width=\"1284\" decoding=\"async\" height=\"298\" src=\"//upload.wikimedia.org/wikipedia/commons/thumb/b/bd/Vivaldi.jpg/250px-Vivaldi.jpg\" srcset=\"//upload.wikimedia.org/wikipedia/commons/thumb/b/bd/Vivaldi.jpg/375px-Vivaldi.jpg 1.5x, //upload.wikimedia.org/wikipedia/commons/thumb/b/bd/Vivaldi.jpg/500px-Vivaldi.jpg 2x\" width=\"250\"/></a></td></tr><tr><th colspan=\"2\" style=\"text-align:center;background:silver;\">기본 정보</th></tr><tr><th scope=\"row\">출생</th><td>1678년 3월 4일<span style=\"display:none\">(<span class=\"bday\">1678-03-04</span>)</span><br/><span class=\"birthplace\"><span class=\"flagicon\"><a class=\"image\" href=\"/wiki/%ED%8C%8C%EC%9D%BC:Flag_of_Italy.svg\"><img alt=\"이탈리아의 기\" class=\"thumbborder\" data-file-height=\"1000\" data-file-width=\"1500\" decoding=\"async\" height=\"15\" src=\"//upload.wikimedia.org/wikipedia/commons/thumb/0/03/Flag_of_Italy.svg/22px-Flag_of_Italy.svg.png\" srcset=\"//upload.wikimedia.org/wikipedia/commons/thumb/0/03/Flag_of_Italy.svg/33px-Flag_of_Italy.svg.png 1.5x, //upload.wikimedia.org/wikipedia/commons/thumb/0/03/Flag_of_Italy.svg/44px-Flag_of_Italy.svg.png 2x\" width=\"22\"/></a></span> <a href=\"/wiki/%EC%9D%B4%ED%83%88%EB%A6%AC%EC%95%84\" title=\"이탈리아\">이탈리아</a> <a href=\"/wiki/%EB%B2%A0%EB%84%A4%ED%86%A0%EC%A3%BC\" title=\"베네토주\">베네토주</a> <a href=\"/wiki/%EB%B2%A0%EB%84%A4%EC%B9%98%EC%95%84_%EA%B4%91%EC%97%AD%EC%8B%9C\" title=\"베네치아 광역시\">베네치아 광역시</a> <a class=\"mw-redirect\" href=\"/wiki/%EB%B2%A0%EB%8B%88%EC%8A%A4\" title=\"베니스\">베니스</a></span></td></tr><tr><th scope=\"row\">사망</th><td>1741년 7월 28일<span style=\"display:none\">(<span class=\"dday deathdate\">1741-07-28</span>)</span>(63세)<br/><span class=\"deathplace\"><span class=\"flagicon\"><a class=\"image\" href=\"/wiki/%ED%8C%8C%EC%9D%BC:Flag_of_Austria.svg\"><img alt=\"오스트리아의 기\" class=\"thumbborder\" data-file-height=\"600\" data-file-width=\"900\" decoding=\"async\" height=\"15\" src=\"//upload.wikimedia.org/wikipedia/commons/thumb/4/41/Flag_of_Austria.svg/22px-Flag_of_Austria.svg.png\" srcset=\"//upload.wikimedia.org/wikipedia/commons/thumb/4/41/Flag_of_Austria.svg/33px-Flag_of_Austria.svg.png 1.5x, //upload.wikimedia.org/wikipedia/commons/thumb/4/41/Flag_of_Austria.svg/44px-Flag_of_Austria.svg.png 2x\" width=\"22\"/></a></span> <a href=\"/wiki/%EC%98%A4%EC%8A%A4%ED%8A%B8%EB%A6%AC%EC%95%84\" title=\"오스트리아\">오스트리아</a> <a class=\"mw-redirect\" href=\"/wiki/%EB%B9%84%EC%97%94%EB%82%98\" title=\"비엔나\">비엔나</a></span></td></tr><tr><th scope=\"row\">직업</th><td>바이올린 연주가, <a href=\"/wiki/%EC%9E%91%EA%B3%A1%EA%B0%80\" title=\"작곡가\">작곡가</a></td></tr><tr><th scope=\"row\">장르</th><td><a class=\"mw-redirect\" href=\"/wiki/%EC%84%9C%EC%96%91_%EA%B3%A0%EC%A0%84_%EC%9D%8C%EC%95%85\" title=\"서양 고전 음악\">클래식 음악</a></td></tr><tr><th scope=\"row\">악기</th><td><a href=\"/wiki/%EB%B0%94%EC%9D%B4%EC%98%AC%EB%A6%B0\" title=\"바이올린\">바이올린</a></td></tr><tr><th scope=\"row\">활동 시기</th><td><a href=\"/wiki/1695%EB%85%84\" title=\"1695년\">1695년</a> ~ <a href=\"/wiki/1741%EB%85%84\" title=\"1741년\">1741년</a></td></tr><tr><th scope=\"row\">배우자</th><td>없음</td></tr><tr><th scope=\"row\">종교</th><td><a class=\"mw-redirect\" href=\"/wiki/%EB%A1%9C%EB%A7%88_%EA%B0%80%ED%86%A8%EB%A6%AD\" title=\"로마 가톨릭\">로마 가톨릭</a>(사제)</td></tr></tbody></table>"
      ]
     },
     "execution_count": 4,
     "metadata": {},
     "output_type": "execute_result"
    }
   ],
   "source": [
    "infobox_table = soup.find('table', 'infobox vcard')\n",
    "infobox_table"
   ]
  },
  {
   "cell_type": "code",
   "execution_count": 5,
   "id": "047e498b",
   "metadata": {},
   "outputs": [
    {
     "data": {
      "text/plain": [
       "11"
      ]
     },
     "execution_count": 5,
     "metadata": {},
     "output_type": "execute_result"
    }
   ],
   "source": [
    "infobox_tr = infobox_table.find_all('tr')\n",
    "len(infobox_tr)"
   ]
  },
  {
   "cell_type": "code",
   "execution_count": 7,
   "id": "aaf04627",
   "metadata": {},
   "outputs": [
    {
     "name": "stdout",
     "output_type": "stream",
     "text": [
      "line 1 (1,0): 안토니오 비발디Antonio Lucio Vivaldi\n",
      "------------------------------\n",
      "line 2 (0,1): \n",
      "------------------------------\n",
      "line 3 (1,0): 기본 정보\n",
      "------------------------------\n",
      "line 4 (1,1): 출생1678년 3월 4일(1678-03-04) 이탈리아 베네토주 베네치아 광역시 베니스\n",
      "------------------------------\n",
      "line 5 (1,1): 사망1741년 7월 28일(1741-07-28)(63세) 오스트리아 비엔나\n",
      "------------------------------\n",
      "line 6 (1,1): 직업바이올린 연주가, 작곡가\n",
      "------------------------------\n",
      "line 7 (1,1): 장르클래식 음악\n",
      "------------------------------\n",
      "line 8 (1,1): 악기바이올린\n",
      "------------------------------\n",
      "line 9 (1,1): 활동 시기1695년 ~ 1741년\n",
      "------------------------------\n",
      "line 10 (1,1): 배우자없음\n",
      "------------------------------\n",
      "line 11 (1,1): 종교로마 가톨릭(사제)\n",
      "------------------------------\n"
     ]
    }
   ],
   "source": [
    "tr_num = 0\n",
    "for tr_tag in infobox_tr:\n",
    "    tr_num += 1\n",
    "    tr_text = tr_tag.get_text()\n",
    "    th_cnt  = len(tr_tag.find_all('th'))\n",
    "    td_cnt  = len(tr_tag.find_all('td'))\n",
    "    print('line {} ({},{}): {}'.format(tr_num, th_cnt, td_cnt, tr_text))\n",
    "    print('-'*30)"
   ]
  },
  {
   "cell_type": "code",
   "execution_count": 9,
   "id": "d4c2136d",
   "metadata": {},
   "outputs": [
    {
     "data": {
      "text/plain": [
       "{'출생': '1678년 3월 4일(1678-03-04) 이탈리아 베네토주 베네치아 광역시 베니스',\n",
       " '사망': '1741년 7월 28일(1741-07-28)(63세) 오스트리아 비엔나',\n",
       " '직업': '바이올린 연주가, 작곡가',\n",
       " '장르': '클래식 음악',\n",
       " '악기': '바이올린',\n",
       " '활동 시기': '1695년 ~ 1741년',\n",
       " '배우자': '없음',\n",
       " '종교': '로마 가톨릭(사제)'}"
      ]
     },
     "execution_count": 9,
     "metadata": {},
     "output_type": "execute_result"
    }
   ],
   "source": [
    "tr_num = 0\n",
    "\n",
    "info_dict = dict()\n",
    "info_key = ''\n",
    "info_val = ''\n",
    "\n",
    "for tr_tag in infobox_tr:\n",
    "    tr_num += 1\n",
    "    tr_text = tr_tag.get_text()\n",
    "    th_cnt  = len(tr_tag.find_all('th'))\n",
    "    td_cnt  = len(tr_tag.find_all('td'))\n",
    "    \n",
    "    if th_cnt > 0 and td_cnt > 0:\n",
    "        info_key = tr_tag.find('th').get_text().strip()\n",
    "        info_val = tr_tag.find('td').get_text().strip()\n",
    "        info_dict[info_key] = info_val\n",
    "        \n",
    "info_dict"
   ]
  },
  {
   "cell_type": "code",
   "execution_count": 10,
   "id": "0158f0c6",
   "metadata": {},
   "outputs": [
    {
     "data": {
      "text/plain": [
       "출생       1678년 3월 4일(1678-03-04) 이탈리아 베네토주 베네치아 광역시 베니스\n",
       "사망              1741년 7월 28일(1741-07-28)(63세) 오스트리아 비엔나\n",
       "직업                                        바이올린 연주가, 작곡가\n",
       "장르                                               클래식 음악\n",
       "악기                                                 바이올린\n",
       "활동 시기                                     1695년 ~ 1741년\n",
       "배우자                                                  없음\n",
       "종교                                           로마 가톨릭(사제)\n",
       "Name: 기본정보, dtype: object"
      ]
     },
     "execution_count": 10,
     "metadata": {},
     "output_type": "execute_result"
    }
   ],
   "source": [
    "info_ser = Series(info_dict, name = '기본정보')\n",
    "info_ser"
   ]
  },
  {
   "cell_type": "code",
   "execution_count": null,
   "id": "798ab00d",
   "metadata": {},
   "outputs": [],
   "source": []
  },
  {
   "cell_type": "markdown",
   "id": "164515ca",
   "metadata": {},
   "source": [
    "### 미디어 리스트 수집"
   ]
  },
  {
   "cell_type": "code",
   "execution_count": 12,
   "id": "336a6c8e",
   "metadata": {},
   "outputs": [],
   "source": [
    "media_div = soup.find('div', 'medialist listenlist noprint')"
   ]
  },
  {
   "cell_type": "code",
   "execution_count": 13,
   "id": "dcad4b4d",
   "metadata": {},
   "outputs": [
    {
     "data": {
      "text/plain": [
       "19"
      ]
     },
     "execution_count": 13,
     "metadata": {},
     "output_type": "execute_result"
    }
   ],
   "source": [
    "media_list = media_div.find_all('table')\n",
    "len(media_list)"
   ]
  },
  {
   "cell_type": "code",
   "execution_count": 16,
   "id": "889db821",
   "metadata": {},
   "outputs": [
    {
     "data": {
      "text/plain": [
       "3"
      ]
     },
     "execution_count": 16,
     "metadata": {},
     "output_type": "execute_result"
    }
   ],
   "source": [
    "media_tr = media_list[0].find_all('tr')\n",
    "# media_tr\n",
    "len(media_tr)"
   ]
  },
  {
   "cell_type": "code",
   "execution_count": 17,
   "id": "394c795c",
   "metadata": {},
   "outputs": [
    {
     "name": "stdout",
     "output_type": "stream",
     "text": [
      "Op. 4 Concerto 1 \"Spring\" mvt 1: Allegro\n",
      "\n",
      "비발디의 사계 중 봄 1악장 알레그로, 요한 해리슨 바이올린\n"
     ]
    }
   ],
   "source": [
    "for idx in range(len(media_tr)):\n",
    "    tr_text = media_tr[idx].get_text().strip()\n",
    "    print(tr_text)"
   ]
  },
  {
   "cell_type": "code",
   "execution_count": 18,
   "id": "3179d361",
   "metadata": {},
   "outputs": [],
   "source": [
    "def getMediaList(soup):\n",
    "    media_op_list = list()\n",
    "    media_kr_list = list()\n",
    "    \n",
    "    media_div = soup.find('div', 'medialist listenlist noprint')\n",
    "    media_list = media_div.find_all('table')\n",
    "    \n",
    "    for idx in range(len(media_list)):\n",
    "        media_tr = media_list[idx].find_all('tr')\n",
    "        \n",
    "        text_op = media_tr[0].get_text().strip()\n",
    "        text_kr = media_tr[2].get_text().strip()\n",
    "        \n",
    "        media_op_list.append(text_op)\n",
    "        media_kr_list.append(text_kr)\n",
    "        \n",
    "    return media_op_list, media_kr_list"
   ]
  },
  {
   "cell_type": "code",
   "execution_count": 19,
   "id": "c230277d",
   "metadata": {},
   "outputs": [],
   "source": [
    "media_op_list, media_kr_list = getMediaList(soup)"
   ]
  },
  {
   "cell_type": "code",
   "execution_count": 20,
   "id": "4c9936a4",
   "metadata": {},
   "outputs": [
    {
     "data": {
      "text/plain": [
       "['Op. 4 Concerto 1 \"Spring\" mvt 1: Allegro',\n",
       " 'Op. 4 Concerto 1 \"Spring\" mvt 2: Largo',\n",
       " 'Op. 4 Concerto 1 \"Spring\" mvt 3: Allegro',\n",
       " 'Op. 4 Concerto 2 \"Summer\" mvt 1: Allegro non molto',\n",
       " 'Op. 4 Concerto 2 \"Summer\" mvt 2: Adagio',\n",
       " 'Op. 4 Concerto 2 \"Summer\" mvt 3: Presto',\n",
       " 'Op. 4 Concerto 3 \"Autumn\" mvt 1: Allegro',\n",
       " 'Op. 4 Concerto 3 \"Autumn\" mvt 2: Adagio molto',\n",
       " 'Op. 4 Concerto 3 \"Autumn\" mvt 3: Allegro',\n",
       " 'Op. 4 Concerto 4 \"Winter\" mvt 1: Allegro non molto',\n",
       " 'Op. 4 Concerto 4 \"Winter\" mvt 2: Largo',\n",
       " 'Op. 4 Concerto 4 \"Winter\" mvt 3: Allegro',\n",
       " 'Concerto for Oboe and Orchestra in C major (RV 447) - 2. Andante',\n",
       " 'Credo (RV 591) - 1. Credo in Unum Deum',\n",
       " 'Credo (RV 591) - 2. Et Incarnatus Est',\n",
       " 'Credo (RV 591) - 3. Crucifixus',\n",
       " 'Nulla in mundo pax sincera (RV 630) - 1. Larghetto',\n",
       " 'Nulla in mundo pax sincera (RV 630) - 2. Recitativ',\n",
       " 'Nulla in mundo pax sincera (RV 630) - 3. Allegro']"
      ]
     },
     "execution_count": 20,
     "metadata": {},
     "output_type": "execute_result"
    }
   ],
   "source": [
    "media_op_list"
   ]
  },
  {
   "cell_type": "code",
   "execution_count": 21,
   "id": "2c1045b7",
   "metadata": {},
   "outputs": [
    {
     "data": {
      "text/plain": [
       "['비발디의 사계 중 봄 1악장 알레그로, 요한 해리슨 바이올린',\n",
       " '비발디의 사계 중 봄 2악장 라르고, 요한 해리슨 바이올린',\n",
       " \"From Vivaldi's Four Seasons. John Harrison, Violin\",\n",
       " \"From Vivaldi's Four Seasons. John Harrison, Violin\",\n",
       " \"From Vivaldi's Four Seasons. John Harrison, Violin\",\n",
       " \"From Vivaldi's Four Seasons. John Harrison, Violin\",\n",
       " \"From Vivaldi's Four Seasons. John Harrison, Violin\",\n",
       " \"From Vivaldi's Four Seasons. John Harrison, Violin\",\n",
       " \"From Vivaldi's Four Seasons. John Harrison, Violin\",\n",
       " \"From Vivaldi's Four Seasons. John Harrison, Violin\",\n",
       " \"From Vivaldi's Four Seasons. John Harrison, Violin\",\n",
       " \"From Vivaldi's Four Seasons. John Harrison, Violin\",\n",
       " 'Performed by the Advent Chamber Orchestra with oboeist                 Edino Biaggi',\n",
       " 'Performed by the Advent Chamber Orchestra with the              Advent Choir directed by Gabriel Pavel',\n",
       " 'Performed by the Advent Chamber Orchestra with the              Advent Choir directed by Gabriel Pavel',\n",
       " 'Performed by the Advent Chamber Orchestra with the              Advent Choir directed by Gabriel Pavel',\n",
       " 'Performed by the Advent Chamber Orchestra with soprano Cristina Piccardi',\n",
       " 'Performed by the Advent Chamber Orchestra with soprano Cristina Piccardi',\n",
       " 'Performed by the Advent Chamber Orchestra with soprano Cristina Piccardi']"
      ]
     },
     "execution_count": 21,
     "metadata": {},
     "output_type": "execute_result"
    }
   ],
   "source": [
    "media_kr_list"
   ]
  },
  {
   "cell_type": "code",
   "execution_count": 22,
   "id": "93fbffd0",
   "metadata": {},
   "outputs": [
    {
     "data": {
      "text/html": [
       "<div>\n",
       "<style scoped>\n",
       "    .dataframe tbody tr th:only-of-type {\n",
       "        vertical-align: middle;\n",
       "    }\n",
       "\n",
       "    .dataframe tbody tr th {\n",
       "        vertical-align: top;\n",
       "    }\n",
       "\n",
       "    .dataframe thead th {\n",
       "        text-align: right;\n",
       "    }\n",
       "</style>\n",
       "<table border=\"1\" class=\"dataframe\">\n",
       "  <thead>\n",
       "    <tr style=\"text-align: right;\">\n",
       "      <th></th>\n",
       "      <th>작품</th>\n",
       "      <th>설명</th>\n",
       "    </tr>\n",
       "  </thead>\n",
       "  <tbody>\n",
       "    <tr>\n",
       "      <th>0</th>\n",
       "      <td>Op. 4 Concerto 1 \"Spring\" mvt 1: Allegro</td>\n",
       "      <td>비발디의 사계 중 봄 1악장 알레그로, 요한 해리슨 바이올린</td>\n",
       "    </tr>\n",
       "    <tr>\n",
       "      <th>1</th>\n",
       "      <td>Op. 4 Concerto 1 \"Spring\" mvt 2: Largo</td>\n",
       "      <td>비발디의 사계 중 봄 2악장 라르고, 요한 해리슨 바이올린</td>\n",
       "    </tr>\n",
       "    <tr>\n",
       "      <th>2</th>\n",
       "      <td>Op. 4 Concerto 1 \"Spring\" mvt 3: Allegro</td>\n",
       "      <td>From Vivaldi's Four Seasons. John Harrison, Vi...</td>\n",
       "    </tr>\n",
       "    <tr>\n",
       "      <th>3</th>\n",
       "      <td>Op. 4 Concerto 2 \"Summer\" mvt 1: Allegro non m...</td>\n",
       "      <td>From Vivaldi's Four Seasons. John Harrison, Vi...</td>\n",
       "    </tr>\n",
       "    <tr>\n",
       "      <th>4</th>\n",
       "      <td>Op. 4 Concerto 2 \"Summer\" mvt 2: Adagio</td>\n",
       "      <td>From Vivaldi's Four Seasons. John Harrison, Vi...</td>\n",
       "    </tr>\n",
       "    <tr>\n",
       "      <th>5</th>\n",
       "      <td>Op. 4 Concerto 2 \"Summer\" mvt 3: Presto</td>\n",
       "      <td>From Vivaldi's Four Seasons. John Harrison, Vi...</td>\n",
       "    </tr>\n",
       "    <tr>\n",
       "      <th>6</th>\n",
       "      <td>Op. 4 Concerto 3 \"Autumn\" mvt 1: Allegro</td>\n",
       "      <td>From Vivaldi's Four Seasons. John Harrison, Vi...</td>\n",
       "    </tr>\n",
       "    <tr>\n",
       "      <th>7</th>\n",
       "      <td>Op. 4 Concerto 3 \"Autumn\" mvt 2: Adagio molto</td>\n",
       "      <td>From Vivaldi's Four Seasons. John Harrison, Vi...</td>\n",
       "    </tr>\n",
       "    <tr>\n",
       "      <th>8</th>\n",
       "      <td>Op. 4 Concerto 3 \"Autumn\" mvt 3: Allegro</td>\n",
       "      <td>From Vivaldi's Four Seasons. John Harrison, Vi...</td>\n",
       "    </tr>\n",
       "    <tr>\n",
       "      <th>9</th>\n",
       "      <td>Op. 4 Concerto 4 \"Winter\" mvt 1: Allegro non m...</td>\n",
       "      <td>From Vivaldi's Four Seasons. John Harrison, Vi...</td>\n",
       "    </tr>\n",
       "    <tr>\n",
       "      <th>10</th>\n",
       "      <td>Op. 4 Concerto 4 \"Winter\" mvt 2: Largo</td>\n",
       "      <td>From Vivaldi's Four Seasons. John Harrison, Vi...</td>\n",
       "    </tr>\n",
       "    <tr>\n",
       "      <th>11</th>\n",
       "      <td>Op. 4 Concerto 4 \"Winter\" mvt 3: Allegro</td>\n",
       "      <td>From Vivaldi's Four Seasons. John Harrison, Vi...</td>\n",
       "    </tr>\n",
       "    <tr>\n",
       "      <th>12</th>\n",
       "      <td>Concerto for Oboe and Orchestra in C major (RV...</td>\n",
       "      <td>Performed by the Advent Chamber Orchestra with...</td>\n",
       "    </tr>\n",
       "    <tr>\n",
       "      <th>13</th>\n",
       "      <td>Credo (RV 591) - 1. Credo in Unum Deum</td>\n",
       "      <td>Performed by the Advent Chamber Orchestra with...</td>\n",
       "    </tr>\n",
       "    <tr>\n",
       "      <th>14</th>\n",
       "      <td>Credo (RV 591) - 2. Et Incarnatus Est</td>\n",
       "      <td>Performed by the Advent Chamber Orchestra with...</td>\n",
       "    </tr>\n",
       "    <tr>\n",
       "      <th>15</th>\n",
       "      <td>Credo (RV 591) - 3. Crucifixus</td>\n",
       "      <td>Performed by the Advent Chamber Orchestra with...</td>\n",
       "    </tr>\n",
       "    <tr>\n",
       "      <th>16</th>\n",
       "      <td>Nulla in mundo pax sincera (RV 630) - 1. Largh...</td>\n",
       "      <td>Performed by the Advent Chamber Orchestra with...</td>\n",
       "    </tr>\n",
       "    <tr>\n",
       "      <th>17</th>\n",
       "      <td>Nulla in mundo pax sincera (RV 630) - 2. Recit...</td>\n",
       "      <td>Performed by the Advent Chamber Orchestra with...</td>\n",
       "    </tr>\n",
       "    <tr>\n",
       "      <th>18</th>\n",
       "      <td>Nulla in mundo pax sincera (RV 630) - 3. Allegro</td>\n",
       "      <td>Performed by the Advent Chamber Orchestra with...</td>\n",
       "    </tr>\n",
       "  </tbody>\n",
       "</table>\n",
       "</div>"
      ],
      "text/plain": [
       "                                                   작품  \\\n",
       "0            Op. 4 Concerto 1 \"Spring\" mvt 1: Allegro   \n",
       "1              Op. 4 Concerto 1 \"Spring\" mvt 2: Largo   \n",
       "2            Op. 4 Concerto 1 \"Spring\" mvt 3: Allegro   \n",
       "3   Op. 4 Concerto 2 \"Summer\" mvt 1: Allegro non m...   \n",
       "4             Op. 4 Concerto 2 \"Summer\" mvt 2: Adagio   \n",
       "5             Op. 4 Concerto 2 \"Summer\" mvt 3: Presto   \n",
       "6            Op. 4 Concerto 3 \"Autumn\" mvt 1: Allegro   \n",
       "7       Op. 4 Concerto 3 \"Autumn\" mvt 2: Adagio molto   \n",
       "8            Op. 4 Concerto 3 \"Autumn\" mvt 3: Allegro   \n",
       "9   Op. 4 Concerto 4 \"Winter\" mvt 1: Allegro non m...   \n",
       "10             Op. 4 Concerto 4 \"Winter\" mvt 2: Largo   \n",
       "11           Op. 4 Concerto 4 \"Winter\" mvt 3: Allegro   \n",
       "12  Concerto for Oboe and Orchestra in C major (RV...   \n",
       "13             Credo (RV 591) - 1. Credo in Unum Deum   \n",
       "14              Credo (RV 591) - 2. Et Incarnatus Est   \n",
       "15                     Credo (RV 591) - 3. Crucifixus   \n",
       "16  Nulla in mundo pax sincera (RV 630) - 1. Largh...   \n",
       "17  Nulla in mundo pax sincera (RV 630) - 2. Recit...   \n",
       "18   Nulla in mundo pax sincera (RV 630) - 3. Allegro   \n",
       "\n",
       "                                                   설명  \n",
       "0                   비발디의 사계 중 봄 1악장 알레그로, 요한 해리슨 바이올린  \n",
       "1                    비발디의 사계 중 봄 2악장 라르고, 요한 해리슨 바이올린  \n",
       "2   From Vivaldi's Four Seasons. John Harrison, Vi...  \n",
       "3   From Vivaldi's Four Seasons. John Harrison, Vi...  \n",
       "4   From Vivaldi's Four Seasons. John Harrison, Vi...  \n",
       "5   From Vivaldi's Four Seasons. John Harrison, Vi...  \n",
       "6   From Vivaldi's Four Seasons. John Harrison, Vi...  \n",
       "7   From Vivaldi's Four Seasons. John Harrison, Vi...  \n",
       "8   From Vivaldi's Four Seasons. John Harrison, Vi...  \n",
       "9   From Vivaldi's Four Seasons. John Harrison, Vi...  \n",
       "10  From Vivaldi's Four Seasons. John Harrison, Vi...  \n",
       "11  From Vivaldi's Four Seasons. John Harrison, Vi...  \n",
       "12  Performed by the Advent Chamber Orchestra with...  \n",
       "13  Performed by the Advent Chamber Orchestra with...  \n",
       "14  Performed by the Advent Chamber Orchestra with...  \n",
       "15  Performed by the Advent Chamber Orchestra with...  \n",
       "16  Performed by the Advent Chamber Orchestra with...  \n",
       "17  Performed by the Advent Chamber Orchestra with...  \n",
       "18  Performed by the Advent Chamber Orchestra with...  "
      ]
     },
     "execution_count": 22,
     "metadata": {},
     "output_type": "execute_result"
    }
   ],
   "source": [
    "media_df = DataFrame({'작품' : media_op_list,\n",
    "                      '설명' : media_kr_list})\n",
    "media_df"
   ]
  },
  {
   "cell_type": "code",
   "execution_count": 23,
   "id": "f0d85bc3",
   "metadata": {},
   "outputs": [],
   "source": [
    "file_xlsx = './data/wiki_vivaldi_v1.xlsx'"
   ]
  },
  {
   "cell_type": "code",
   "execution_count": 30,
   "id": "4bbfe8aa",
   "metadata": {},
   "outputs": [],
   "source": [
    "info_ser.to_excel(file_xlsx, encoding='cp949')"
   ]
  },
  {
   "cell_type": "code",
   "execution_count": null,
   "id": "22f0de85",
   "metadata": {},
   "outputs": [],
   "source": []
  },
  {
   "cell_type": "markdown",
   "id": "70b445d4",
   "metadata": {},
   "source": [
    "#### Multiple Sheet Save"
   ]
  },
  {
   "cell_type": "code",
   "execution_count": 31,
   "id": "ed55563d",
   "metadata": {},
   "outputs": [],
   "source": [
    "file_xlsx2 = './data/wiki_vivaldi_v2.xlsx'"
   ]
  },
  {
   "cell_type": "code",
   "execution_count": 34,
   "id": "14a14fbf",
   "metadata": {},
   "outputs": [],
   "source": [
    "writer = pd.ExcelWriter(file_xlsx2, engine='xlsxwriter')\n",
    "info_ser.to_excel(writer, sheet_name='Vivaldi', encoding='utf-8') \n",
    "media_df.to_excel(writer, sheet_name='Op-List', encoding='utf-8') \n",
    "writer.save()"
   ]
  },
  {
   "cell_type": "code",
   "execution_count": null,
   "id": "a4368c9a",
   "metadata": {},
   "outputs": [],
   "source": []
  },
  {
   "cell_type": "markdown",
   "id": "5cee4541",
   "metadata": {},
   "source": [
    "#### Multiple Sheet Read"
   ]
  },
  {
   "cell_type": "code",
   "execution_count": 35,
   "id": "f4bbc25f",
   "metadata": {},
   "outputs": [
    {
     "data": {
      "text/html": [
       "<div>\n",
       "<style scoped>\n",
       "    .dataframe tbody tr th:only-of-type {\n",
       "        vertical-align: middle;\n",
       "    }\n",
       "\n",
       "    .dataframe tbody tr th {\n",
       "        vertical-align: top;\n",
       "    }\n",
       "\n",
       "    .dataframe thead th {\n",
       "        text-align: right;\n",
       "    }\n",
       "</style>\n",
       "<table border=\"1\" class=\"dataframe\">\n",
       "  <thead>\n",
       "    <tr style=\"text-align: right;\">\n",
       "      <th></th>\n",
       "      <th>기본정보</th>\n",
       "    </tr>\n",
       "  </thead>\n",
       "  <tbody>\n",
       "    <tr>\n",
       "      <th>출생</th>\n",
       "      <td>1678년 3월 4일(1678-03-04) 이탈리아 베네토주 베네치아 광역시 베니스</td>\n",
       "    </tr>\n",
       "    <tr>\n",
       "      <th>사망</th>\n",
       "      <td>1741년 7월 28일(1741-07-28)(63세) 오스트리아 비엔나</td>\n",
       "    </tr>\n",
       "    <tr>\n",
       "      <th>직업</th>\n",
       "      <td>바이올린 연주가, 작곡가</td>\n",
       "    </tr>\n",
       "    <tr>\n",
       "      <th>장르</th>\n",
       "      <td>클래식 음악</td>\n",
       "    </tr>\n",
       "    <tr>\n",
       "      <th>악기</th>\n",
       "      <td>바이올린</td>\n",
       "    </tr>\n",
       "    <tr>\n",
       "      <th>활동 시기</th>\n",
       "      <td>1695년 ~ 1741년</td>\n",
       "    </tr>\n",
       "    <tr>\n",
       "      <th>배우자</th>\n",
       "      <td>없음</td>\n",
       "    </tr>\n",
       "    <tr>\n",
       "      <th>종교</th>\n",
       "      <td>로마 가톨릭(사제)</td>\n",
       "    </tr>\n",
       "  </tbody>\n",
       "</table>\n",
       "</div>"
      ],
      "text/plain": [
       "                                                 기본정보\n",
       "출생     1678년 3월 4일(1678-03-04) 이탈리아 베네토주 베네치아 광역시 베니스\n",
       "사망            1741년 7월 28일(1741-07-28)(63세) 오스트리아 비엔나\n",
       "직업                                      바이올린 연주가, 작곡가\n",
       "장르                                             클래식 음악\n",
       "악기                                               바이올린\n",
       "활동 시기                                   1695년 ~ 1741년\n",
       "배우자                                                없음\n",
       "종교                                         로마 가톨릭(사제)"
      ]
     },
     "execution_count": 35,
     "metadata": {},
     "output_type": "execute_result"
    }
   ],
   "source": [
    "sh1_df = pd.read_excel(file_xlsx2, sheet_name='Vivaldi', index_col=0)\n",
    "sh1_df"
   ]
  },
  {
   "cell_type": "code",
   "execution_count": 36,
   "id": "87315287",
   "metadata": {},
   "outputs": [
    {
     "name": "stdout",
     "output_type": "stream",
     "text": [
      "<class 'pandas.core.frame.DataFrame'>\n",
      "Index: 8 entries, 출생 to 종교\n",
      "Data columns (total 1 columns):\n",
      " #   Column  Non-Null Count  Dtype \n",
      "---  ------  --------------  ----- \n",
      " 0   기본정보    8 non-null      object\n",
      "dtypes: object(1)\n",
      "memory usage: 128.0+ bytes\n"
     ]
    }
   ],
   "source": [
    "sh1_df.info()"
   ]
  },
  {
   "cell_type": "code",
   "execution_count": 37,
   "id": "2e9bc359",
   "metadata": {},
   "outputs": [
    {
     "data": {
      "text/html": [
       "<div>\n",
       "<style scoped>\n",
       "    .dataframe tbody tr th:only-of-type {\n",
       "        vertical-align: middle;\n",
       "    }\n",
       "\n",
       "    .dataframe tbody tr th {\n",
       "        vertical-align: top;\n",
       "    }\n",
       "\n",
       "    .dataframe thead th {\n",
       "        text-align: right;\n",
       "    }\n",
       "</style>\n",
       "<table border=\"1\" class=\"dataframe\">\n",
       "  <thead>\n",
       "    <tr style=\"text-align: right;\">\n",
       "      <th></th>\n",
       "      <th>작품</th>\n",
       "      <th>설명</th>\n",
       "    </tr>\n",
       "  </thead>\n",
       "  <tbody>\n",
       "    <tr>\n",
       "      <th>0</th>\n",
       "      <td>Op. 4 Concerto 1 \"Spring\" mvt 1: Allegro</td>\n",
       "      <td>비발디의 사계 중 봄 1악장 알레그로, 요한 해리슨 바이올린</td>\n",
       "    </tr>\n",
       "    <tr>\n",
       "      <th>1</th>\n",
       "      <td>Op. 4 Concerto 1 \"Spring\" mvt 2: Largo</td>\n",
       "      <td>비발디의 사계 중 봄 2악장 라르고, 요한 해리슨 바이올린</td>\n",
       "    </tr>\n",
       "    <tr>\n",
       "      <th>2</th>\n",
       "      <td>Op. 4 Concerto 1 \"Spring\" mvt 3: Allegro</td>\n",
       "      <td>From Vivaldi's Four Seasons. John Harrison, Vi...</td>\n",
       "    </tr>\n",
       "    <tr>\n",
       "      <th>3</th>\n",
       "      <td>Op. 4 Concerto 2 \"Summer\" mvt 1: Allegro non m...</td>\n",
       "      <td>From Vivaldi's Four Seasons. John Harrison, Vi...</td>\n",
       "    </tr>\n",
       "    <tr>\n",
       "      <th>4</th>\n",
       "      <td>Op. 4 Concerto 2 \"Summer\" mvt 2: Adagio</td>\n",
       "      <td>From Vivaldi's Four Seasons. John Harrison, Vi...</td>\n",
       "    </tr>\n",
       "    <tr>\n",
       "      <th>5</th>\n",
       "      <td>Op. 4 Concerto 2 \"Summer\" mvt 3: Presto</td>\n",
       "      <td>From Vivaldi's Four Seasons. John Harrison, Vi...</td>\n",
       "    </tr>\n",
       "    <tr>\n",
       "      <th>6</th>\n",
       "      <td>Op. 4 Concerto 3 \"Autumn\" mvt 1: Allegro</td>\n",
       "      <td>From Vivaldi's Four Seasons. John Harrison, Vi...</td>\n",
       "    </tr>\n",
       "    <tr>\n",
       "      <th>7</th>\n",
       "      <td>Op. 4 Concerto 3 \"Autumn\" mvt 2: Adagio molto</td>\n",
       "      <td>From Vivaldi's Four Seasons. John Harrison, Vi...</td>\n",
       "    </tr>\n",
       "    <tr>\n",
       "      <th>8</th>\n",
       "      <td>Op. 4 Concerto 3 \"Autumn\" mvt 3: Allegro</td>\n",
       "      <td>From Vivaldi's Four Seasons. John Harrison, Vi...</td>\n",
       "    </tr>\n",
       "    <tr>\n",
       "      <th>9</th>\n",
       "      <td>Op. 4 Concerto 4 \"Winter\" mvt 1: Allegro non m...</td>\n",
       "      <td>From Vivaldi's Four Seasons. John Harrison, Vi...</td>\n",
       "    </tr>\n",
       "    <tr>\n",
       "      <th>10</th>\n",
       "      <td>Op. 4 Concerto 4 \"Winter\" mvt 2: Largo</td>\n",
       "      <td>From Vivaldi's Four Seasons. John Harrison, Vi...</td>\n",
       "    </tr>\n",
       "    <tr>\n",
       "      <th>11</th>\n",
       "      <td>Op. 4 Concerto 4 \"Winter\" mvt 3: Allegro</td>\n",
       "      <td>From Vivaldi's Four Seasons. John Harrison, Vi...</td>\n",
       "    </tr>\n",
       "    <tr>\n",
       "      <th>12</th>\n",
       "      <td>Concerto for Oboe and Orchestra in C major (RV...</td>\n",
       "      <td>Performed by the Advent Chamber Orchestra with...</td>\n",
       "    </tr>\n",
       "    <tr>\n",
       "      <th>13</th>\n",
       "      <td>Credo (RV 591) - 1. Credo in Unum Deum</td>\n",
       "      <td>Performed by the Advent Chamber Orchestra with...</td>\n",
       "    </tr>\n",
       "    <tr>\n",
       "      <th>14</th>\n",
       "      <td>Credo (RV 591) - 2. Et Incarnatus Est</td>\n",
       "      <td>Performed by the Advent Chamber Orchestra with...</td>\n",
       "    </tr>\n",
       "    <tr>\n",
       "      <th>15</th>\n",
       "      <td>Credo (RV 591) - 3. Crucifixus</td>\n",
       "      <td>Performed by the Advent Chamber Orchestra with...</td>\n",
       "    </tr>\n",
       "    <tr>\n",
       "      <th>16</th>\n",
       "      <td>Nulla in mundo pax sincera (RV 630) - 1. Largh...</td>\n",
       "      <td>Performed by the Advent Chamber Orchestra with...</td>\n",
       "    </tr>\n",
       "    <tr>\n",
       "      <th>17</th>\n",
       "      <td>Nulla in mundo pax sincera (RV 630) - 2. Recit...</td>\n",
       "      <td>Performed by the Advent Chamber Orchestra with...</td>\n",
       "    </tr>\n",
       "    <tr>\n",
       "      <th>18</th>\n",
       "      <td>Nulla in mundo pax sincera (RV 630) - 3. Allegro</td>\n",
       "      <td>Performed by the Advent Chamber Orchestra with...</td>\n",
       "    </tr>\n",
       "  </tbody>\n",
       "</table>\n",
       "</div>"
      ],
      "text/plain": [
       "                                                   작품  \\\n",
       "0            Op. 4 Concerto 1 \"Spring\" mvt 1: Allegro   \n",
       "1              Op. 4 Concerto 1 \"Spring\" mvt 2: Largo   \n",
       "2            Op. 4 Concerto 1 \"Spring\" mvt 3: Allegro   \n",
       "3   Op. 4 Concerto 2 \"Summer\" mvt 1: Allegro non m...   \n",
       "4             Op. 4 Concerto 2 \"Summer\" mvt 2: Adagio   \n",
       "5             Op. 4 Concerto 2 \"Summer\" mvt 3: Presto   \n",
       "6            Op. 4 Concerto 3 \"Autumn\" mvt 1: Allegro   \n",
       "7       Op. 4 Concerto 3 \"Autumn\" mvt 2: Adagio molto   \n",
       "8            Op. 4 Concerto 3 \"Autumn\" mvt 3: Allegro   \n",
       "9   Op. 4 Concerto 4 \"Winter\" mvt 1: Allegro non m...   \n",
       "10             Op. 4 Concerto 4 \"Winter\" mvt 2: Largo   \n",
       "11           Op. 4 Concerto 4 \"Winter\" mvt 3: Allegro   \n",
       "12  Concerto for Oboe and Orchestra in C major (RV...   \n",
       "13             Credo (RV 591) - 1. Credo in Unum Deum   \n",
       "14              Credo (RV 591) - 2. Et Incarnatus Est   \n",
       "15                     Credo (RV 591) - 3. Crucifixus   \n",
       "16  Nulla in mundo pax sincera (RV 630) - 1. Largh...   \n",
       "17  Nulla in mundo pax sincera (RV 630) - 2. Recit...   \n",
       "18   Nulla in mundo pax sincera (RV 630) - 3. Allegro   \n",
       "\n",
       "                                                   설명  \n",
       "0                   비발디의 사계 중 봄 1악장 알레그로, 요한 해리슨 바이올린  \n",
       "1                    비발디의 사계 중 봄 2악장 라르고, 요한 해리슨 바이올린  \n",
       "2   From Vivaldi's Four Seasons. John Harrison, Vi...  \n",
       "3   From Vivaldi's Four Seasons. John Harrison, Vi...  \n",
       "4   From Vivaldi's Four Seasons. John Harrison, Vi...  \n",
       "5   From Vivaldi's Four Seasons. John Harrison, Vi...  \n",
       "6   From Vivaldi's Four Seasons. John Harrison, Vi...  \n",
       "7   From Vivaldi's Four Seasons. John Harrison, Vi...  \n",
       "8   From Vivaldi's Four Seasons. John Harrison, Vi...  \n",
       "9   From Vivaldi's Four Seasons. John Harrison, Vi...  \n",
       "10  From Vivaldi's Four Seasons. John Harrison, Vi...  \n",
       "11  From Vivaldi's Four Seasons. John Harrison, Vi...  \n",
       "12  Performed by the Advent Chamber Orchestra with...  \n",
       "13  Performed by the Advent Chamber Orchestra with...  \n",
       "14  Performed by the Advent Chamber Orchestra with...  \n",
       "15  Performed by the Advent Chamber Orchestra with...  \n",
       "16  Performed by the Advent Chamber Orchestra with...  \n",
       "17  Performed by the Advent Chamber Orchestra with...  \n",
       "18  Performed by the Advent Chamber Orchestra with...  "
      ]
     },
     "execution_count": 37,
     "metadata": {},
     "output_type": "execute_result"
    }
   ],
   "source": [
    "sh2_df = pd.read_excel(file_xlsx2, sheet_name='Op-List', usecols='B, C')\n",
    "sh2_df"
   ]
  },
  {
   "cell_type": "code",
   "execution_count": 38,
   "id": "e876ca18",
   "metadata": {},
   "outputs": [
    {
     "name": "stdout",
     "output_type": "stream",
     "text": [
      "<class 'pandas.core.frame.DataFrame'>\n",
      "RangeIndex: 19 entries, 0 to 18\n",
      "Data columns (total 2 columns):\n",
      " #   Column  Non-Null Count  Dtype \n",
      "---  ------  --------------  ----- \n",
      " 0   작품      19 non-null     object\n",
      " 1   설명      19 non-null     object\n",
      "dtypes: object(2)\n",
      "memory usage: 432.0+ bytes\n"
     ]
    }
   ],
   "source": [
    "sh2_df.info()"
   ]
  },
  {
   "cell_type": "code",
   "execution_count": null,
   "id": "c6a5fe2d",
   "metadata": {},
   "outputs": [],
   "source": []
  }
 ],
 "metadata": {
  "kernelspec": {
   "display_name": "Python 3 (ipykernel)",
   "language": "python",
   "name": "python3"
  },
  "language_info": {
   "codemirror_mode": {
    "name": "ipython",
    "version": 3
   },
   "file_extension": ".py",
   "mimetype": "text/x-python",
   "name": "python",
   "nbconvert_exporter": "python",
   "pygments_lexer": "ipython3",
   "version": "3.9.12"
  }
 },
 "nbformat": 4,
 "nbformat_minor": 5
}
