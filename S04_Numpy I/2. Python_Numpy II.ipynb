{
 "cells": [
  {
   "cell_type": "markdown",
   "id": "77b345c0",
   "metadata": {},
   "source": [
    "# NumPy Basics II"
   ]
  },
  {
   "cell_type": "code",
   "execution_count": 1,
   "id": "fc3d932f",
   "metadata": {},
   "outputs": [],
   "source": [
    "from IPython.display import Image"
   ]
  },
  {
   "cell_type": "markdown",
   "id": "1a793e8b",
   "metadata": {},
   "source": [
    "## 2. Universal Functions: Fast element-wise array functions\n",
    ">유니버설 함수\n",
    "\n",
    "- ufunc라고 불리는 유니버설 함수는 ndarray 안에 있는 데이터 원소별로 연산을 수행하는 함수다.\n",
    "- 하나 이상의 스칼라 값을 받아서 하나 이상의 스칼라 결과 값을 반환하는 간단한 함수를 고속으로 수행할 수 있는 벡터화된 래퍼 함수\n",
    "- 많은 ufunc는 sqrt나 exp 같은 간단한 변형을 전체 원소에 적용할 수 있다."
   ]
  },
  {
   "cell_type": "code",
   "execution_count": 1,
   "id": "49499855",
   "metadata": {},
   "outputs": [],
   "source": [
    "from numpy.random import randn\n",
    "import numpy as np"
   ]
  },
  {
   "cell_type": "markdown",
   "id": "086df2ef",
   "metadata": {},
   "source": [
    ">np.random\n",
    "\n",
    "- random.randint 와 np.random.randint : 모두 (시작, n-1) 사이의 랜덤숫자 1개 뽑아내기\n",
    "- np.random.rand(m, n) : 0~1의 균일분포 표준정규분포 난수를 matrix array(m, n) 생성\n",
    "- np.random.randn(m, n) : 평균0, 표준편차1의 가우시안 표준정규분포 난수를 matrix array(m, n) 생성"
   ]
  },
  {
   "cell_type": "code",
   "execution_count": 6,
   "id": "7c9bb15f",
   "metadata": {},
   "outputs": [
    {
     "data": {
      "text/plain": [
       "array([0, 1, 2, 3, 4, 5, 6, 7, 8, 9])"
      ]
     },
     "execution_count": 6,
     "metadata": {},
     "output_type": "execute_result"
    }
   ],
   "source": [
    "arr = np.arange(10)\n",
    "arr"
   ]
  },
  {
   "cell_type": "code",
   "execution_count": 7,
   "id": "7d8efc82",
   "metadata": {},
   "outputs": [
    {
     "data": {
      "text/plain": [
       "array([0.        , 1.        , 1.41421356, 1.73205081, 2.        ,\n",
       "       2.23606798, 2.44948974, 2.64575131, 2.82842712, 3.        ])"
      ]
     },
     "execution_count": 7,
     "metadata": {},
     "output_type": "execute_result"
    }
   ],
   "source": [
    "np.sqrt(arr)"
   ]
  },
  {
   "cell_type": "code",
   "execution_count": 8,
   "id": "ea95eee2",
   "metadata": {},
   "outputs": [
    {
     "data": {
      "text/plain": [
       "array([1.00000000e+00, 2.71828183e+00, 7.38905610e+00, 2.00855369e+01,\n",
       "       5.45981500e+01, 1.48413159e+02, 4.03428793e+02, 1.09663316e+03,\n",
       "       2.98095799e+03, 8.10308393e+03])"
      ]
     },
     "execution_count": 8,
     "metadata": {},
     "output_type": "execute_result"
    }
   ],
   "source": [
    "np.exp(arr)"
   ]
  },
  {
   "cell_type": "code",
   "execution_count": 9,
   "id": "ace132d3",
   "metadata": {},
   "outputs": [
    {
     "data": {
      "text/plain": [
       "array([-0.62217251,  0.38680694,  0.20973313, -1.02098912, -0.99151976,\n",
       "        1.21694417,  0.48085222, -1.01108648])"
      ]
     },
     "execution_count": 9,
     "metadata": {},
     "output_type": "execute_result"
    }
   ],
   "source": [
    "x = randn(8)\n",
    "x"
   ]
  },
  {
   "cell_type": "code",
   "execution_count": 10,
   "id": "32198334",
   "metadata": {},
   "outputs": [
    {
     "data": {
      "text/plain": [
       "array([-0.30200916,  0.55724249, -0.58880251,  0.16121573,  2.13751205,\n",
       "       -0.8857576 , -0.72644109,  0.81449851])"
      ]
     },
     "execution_count": 10,
     "metadata": {},
     "output_type": "execute_result"
    }
   ],
   "source": [
    "y = randn(8)\n",
    "y"
   ]
  },
  {
   "cell_type": "code",
   "execution_count": 11,
   "id": "c46c26f8",
   "metadata": {},
   "outputs": [
    {
     "data": {
      "text/plain": [
       "array([-0.30200916,  0.55724249,  0.20973313,  0.16121573,  2.13751205,\n",
       "        1.21694417,  0.48085222,  0.81449851])"
      ]
     },
     "execution_count": 11,
     "metadata": {},
     "output_type": "execute_result"
    }
   ],
   "source": [
    "np.maximum(x,y)"
   ]
  },
  {
   "cell_type": "code",
   "execution_count": 12,
   "id": "c9bfbe7d",
   "metadata": {},
   "outputs": [
    {
     "data": {
      "text/plain": [
       "array([ 1.49171064,  1.74425194,  6.48767503,  6.67226848,  3.14950795,\n",
       "        4.29149326, -1.53361623])"
      ]
     },
     "execution_count": 12,
     "metadata": {},
     "output_type": "execute_result"
    }
   ],
   "source": [
    "arr = randn(7) * 5\n",
    "arr"
   ]
  },
  {
   "cell_type": "markdown",
   "id": "d9f07982",
   "metadata": {},
   "source": [
    ">np.modf\n",
    "\n",
    "###### modf(x[, out1, out2], / [, out=(None, None)], *, where=True, casting='same_kind', order='K', dtype=None, subok=True[, signature, extobj])\n",
    "\n",
    "- x : array_like\n",
    "- return : 실수파트와 정수파트를 나눠서 반환"
   ]
  },
  {
   "cell_type": "code",
   "execution_count": 13,
   "id": "3d2556dc",
   "metadata": {},
   "outputs": [
    {
     "data": {
      "text/plain": [
       "(array([ 0.49171064,  0.74425194,  0.48767503,  0.67226848,  0.14950795,\n",
       "         0.29149326, -0.53361623]),\n",
       " array([ 1.,  1.,  6.,  6.,  3.,  4., -1.]))"
      ]
     },
     "execution_count": 13,
     "metadata": {},
     "output_type": "execute_result"
    }
   ],
   "source": [
    "np.modf(arr)"
   ]
  },
  {
   "cell_type": "markdown",
   "id": "cba36875",
   "metadata": {},
   "source": [
    "# 3. Data processing using arrays\n",
    ">배열을 사용한 데이터 처리\n",
    "\n",
    "- NupPy 배열을 사용하면 반복문을 작성하지 않고 간결한 배열연산을 통해 많은 종류의 데이터 처리 작업 가능\n",
    "- 벡터화 : 배열연산을 사용해서 반복문을 명시적으로 제거하는 기법\n",
    "- 일반적으로 벡터화된 배열에 대한 산술연산은 순수 파이썬 연산에 비애 2~3배, 많게는 수백배까지 빠름"
   ]
  },
  {
   "cell_type": "code",
   "execution_count": 4,
   "id": "a3eacb73",
   "metadata": {},
   "outputs": [
    {
     "data": {
      "text/plain": [
       "array([-5.0000000e+00, -4.9900000e+00, -4.9800000e+00, -4.9700000e+00,\n",
       "       -4.9600000e+00, -4.9500000e+00, -4.9400000e+00, -4.9300000e+00,\n",
       "       -4.9200000e+00, -4.9100000e+00, -4.9000000e+00, -4.8900000e+00,\n",
       "       -4.8800000e+00, -4.8700000e+00, -4.8600000e+00, -4.8500000e+00,\n",
       "       -4.8400000e+00, -4.8300000e+00, -4.8200000e+00, -4.8100000e+00,\n",
       "       -4.8000000e+00, -4.7900000e+00, -4.7800000e+00, -4.7700000e+00,\n",
       "       -4.7600000e+00, -4.7500000e+00, -4.7400000e+00, -4.7300000e+00,\n",
       "       -4.7200000e+00, -4.7100000e+00, -4.7000000e+00, -4.6900000e+00,\n",
       "       -4.6800000e+00, -4.6700000e+00, -4.6600000e+00, -4.6500000e+00,\n",
       "       -4.6400000e+00, -4.6300000e+00, -4.6200000e+00, -4.6100000e+00,\n",
       "       -4.6000000e+00, -4.5900000e+00, -4.5800000e+00, -4.5700000e+00,\n",
       "       -4.5600000e+00, -4.5500000e+00, -4.5400000e+00, -4.5300000e+00,\n",
       "       -4.5200000e+00, -4.5100000e+00, -4.5000000e+00, -4.4900000e+00,\n",
       "       -4.4800000e+00, -4.4700000e+00, -4.4600000e+00, -4.4500000e+00,\n",
       "       -4.4400000e+00, -4.4300000e+00, -4.4200000e+00, -4.4100000e+00,\n",
       "       -4.4000000e+00, -4.3900000e+00, -4.3800000e+00, -4.3700000e+00,\n",
       "       -4.3600000e+00, -4.3500000e+00, -4.3400000e+00, -4.3300000e+00,\n",
       "       -4.3200000e+00, -4.3100000e+00, -4.3000000e+00, -4.2900000e+00,\n",
       "       -4.2800000e+00, -4.2700000e+00, -4.2600000e+00, -4.2500000e+00,\n",
       "       -4.2400000e+00, -4.2300000e+00, -4.2200000e+00, -4.2100000e+00,\n",
       "       -4.2000000e+00, -4.1900000e+00, -4.1800000e+00, -4.1700000e+00,\n",
       "       -4.1600000e+00, -4.1500000e+00, -4.1400000e+00, -4.1300000e+00,\n",
       "       -4.1200000e+00, -4.1100000e+00, -4.1000000e+00, -4.0900000e+00,\n",
       "       -4.0800000e+00, -4.0700000e+00, -4.0600000e+00, -4.0500000e+00,\n",
       "       -4.0400000e+00, -4.0300000e+00, -4.0200000e+00, -4.0100000e+00,\n",
       "       -4.0000000e+00, -3.9900000e+00, -3.9800000e+00, -3.9700000e+00,\n",
       "       -3.9600000e+00, -3.9500000e+00, -3.9400000e+00, -3.9300000e+00,\n",
       "       -3.9200000e+00, -3.9100000e+00, -3.9000000e+00, -3.8900000e+00,\n",
       "       -3.8800000e+00, -3.8700000e+00, -3.8600000e+00, -3.8500000e+00,\n",
       "       -3.8400000e+00, -3.8300000e+00, -3.8200000e+00, -3.8100000e+00,\n",
       "       -3.8000000e+00, -3.7900000e+00, -3.7800000e+00, -3.7700000e+00,\n",
       "       -3.7600000e+00, -3.7500000e+00, -3.7400000e+00, -3.7300000e+00,\n",
       "       -3.7200000e+00, -3.7100000e+00, -3.7000000e+00, -3.6900000e+00,\n",
       "       -3.6800000e+00, -3.6700000e+00, -3.6600000e+00, -3.6500000e+00,\n",
       "       -3.6400000e+00, -3.6300000e+00, -3.6200000e+00, -3.6100000e+00,\n",
       "       -3.6000000e+00, -3.5900000e+00, -3.5800000e+00, -3.5700000e+00,\n",
       "       -3.5600000e+00, -3.5500000e+00, -3.5400000e+00, -3.5300000e+00,\n",
       "       -3.5200000e+00, -3.5100000e+00, -3.5000000e+00, -3.4900000e+00,\n",
       "       -3.4800000e+00, -3.4700000e+00, -3.4600000e+00, -3.4500000e+00,\n",
       "       -3.4400000e+00, -3.4300000e+00, -3.4200000e+00, -3.4100000e+00,\n",
       "       -3.4000000e+00, -3.3900000e+00, -3.3800000e+00, -3.3700000e+00,\n",
       "       -3.3600000e+00, -3.3500000e+00, -3.3400000e+00, -3.3300000e+00,\n",
       "       -3.3200000e+00, -3.3100000e+00, -3.3000000e+00, -3.2900000e+00,\n",
       "       -3.2800000e+00, -3.2700000e+00, -3.2600000e+00, -3.2500000e+00,\n",
       "       -3.2400000e+00, -3.2300000e+00, -3.2200000e+00, -3.2100000e+00,\n",
       "       -3.2000000e+00, -3.1900000e+00, -3.1800000e+00, -3.1700000e+00,\n",
       "       -3.1600000e+00, -3.1500000e+00, -3.1400000e+00, -3.1300000e+00,\n",
       "       -3.1200000e+00, -3.1100000e+00, -3.1000000e+00, -3.0900000e+00,\n",
       "       -3.0800000e+00, -3.0700000e+00, -3.0600000e+00, -3.0500000e+00,\n",
       "       -3.0400000e+00, -3.0300000e+00, -3.0200000e+00, -3.0100000e+00,\n",
       "       -3.0000000e+00, -2.9900000e+00, -2.9800000e+00, -2.9700000e+00,\n",
       "       -2.9600000e+00, -2.9500000e+00, -2.9400000e+00, -2.9300000e+00,\n",
       "       -2.9200000e+00, -2.9100000e+00, -2.9000000e+00, -2.8900000e+00,\n",
       "       -2.8800000e+00, -2.8700000e+00, -2.8600000e+00, -2.8500000e+00,\n",
       "       -2.8400000e+00, -2.8300000e+00, -2.8200000e+00, -2.8100000e+00,\n",
       "       -2.8000000e+00, -2.7900000e+00, -2.7800000e+00, -2.7700000e+00,\n",
       "       -2.7600000e+00, -2.7500000e+00, -2.7400000e+00, -2.7300000e+00,\n",
       "       -2.7200000e+00, -2.7100000e+00, -2.7000000e+00, -2.6900000e+00,\n",
       "       -2.6800000e+00, -2.6700000e+00, -2.6600000e+00, -2.6500000e+00,\n",
       "       -2.6400000e+00, -2.6300000e+00, -2.6200000e+00, -2.6100000e+00,\n",
       "       -2.6000000e+00, -2.5900000e+00, -2.5800000e+00, -2.5700000e+00,\n",
       "       -2.5600000e+00, -2.5500000e+00, -2.5400000e+00, -2.5300000e+00,\n",
       "       -2.5200000e+00, -2.5100000e+00, -2.5000000e+00, -2.4900000e+00,\n",
       "       -2.4800000e+00, -2.4700000e+00, -2.4600000e+00, -2.4500000e+00,\n",
       "       -2.4400000e+00, -2.4300000e+00, -2.4200000e+00, -2.4100000e+00,\n",
       "       -2.4000000e+00, -2.3900000e+00, -2.3800000e+00, -2.3700000e+00,\n",
       "       -2.3600000e+00, -2.3500000e+00, -2.3400000e+00, -2.3300000e+00,\n",
       "       -2.3200000e+00, -2.3100000e+00, -2.3000000e+00, -2.2900000e+00,\n",
       "       -2.2800000e+00, -2.2700000e+00, -2.2600000e+00, -2.2500000e+00,\n",
       "       -2.2400000e+00, -2.2300000e+00, -2.2200000e+00, -2.2100000e+00,\n",
       "       -2.2000000e+00, -2.1900000e+00, -2.1800000e+00, -2.1700000e+00,\n",
       "       -2.1600000e+00, -2.1500000e+00, -2.1400000e+00, -2.1300000e+00,\n",
       "       -2.1200000e+00, -2.1100000e+00, -2.1000000e+00, -2.0900000e+00,\n",
       "       -2.0800000e+00, -2.0700000e+00, -2.0600000e+00, -2.0500000e+00,\n",
       "       -2.0400000e+00, -2.0300000e+00, -2.0200000e+00, -2.0100000e+00,\n",
       "       -2.0000000e+00, -1.9900000e+00, -1.9800000e+00, -1.9700000e+00,\n",
       "       -1.9600000e+00, -1.9500000e+00, -1.9400000e+00, -1.9300000e+00,\n",
       "       -1.9200000e+00, -1.9100000e+00, -1.9000000e+00, -1.8900000e+00,\n",
       "       -1.8800000e+00, -1.8700000e+00, -1.8600000e+00, -1.8500000e+00,\n",
       "       -1.8400000e+00, -1.8300000e+00, -1.8200000e+00, -1.8100000e+00,\n",
       "       -1.8000000e+00, -1.7900000e+00, -1.7800000e+00, -1.7700000e+00,\n",
       "       -1.7600000e+00, -1.7500000e+00, -1.7400000e+00, -1.7300000e+00,\n",
       "       -1.7200000e+00, -1.7100000e+00, -1.7000000e+00, -1.6900000e+00,\n",
       "       -1.6800000e+00, -1.6700000e+00, -1.6600000e+00, -1.6500000e+00,\n",
       "       -1.6400000e+00, -1.6300000e+00, -1.6200000e+00, -1.6100000e+00,\n",
       "       -1.6000000e+00, -1.5900000e+00, -1.5800000e+00, -1.5700000e+00,\n",
       "       -1.5600000e+00, -1.5500000e+00, -1.5400000e+00, -1.5300000e+00,\n",
       "       -1.5200000e+00, -1.5100000e+00, -1.5000000e+00, -1.4900000e+00,\n",
       "       -1.4800000e+00, -1.4700000e+00, -1.4600000e+00, -1.4500000e+00,\n",
       "       -1.4400000e+00, -1.4300000e+00, -1.4200000e+00, -1.4100000e+00,\n",
       "       -1.4000000e+00, -1.3900000e+00, -1.3800000e+00, -1.3700000e+00,\n",
       "       -1.3600000e+00, -1.3500000e+00, -1.3400000e+00, -1.3300000e+00,\n",
       "       -1.3200000e+00, -1.3100000e+00, -1.3000000e+00, -1.2900000e+00,\n",
       "       -1.2800000e+00, -1.2700000e+00, -1.2600000e+00, -1.2500000e+00,\n",
       "       -1.2400000e+00, -1.2300000e+00, -1.2200000e+00, -1.2100000e+00,\n",
       "       -1.2000000e+00, -1.1900000e+00, -1.1800000e+00, -1.1700000e+00,\n",
       "       -1.1600000e+00, -1.1500000e+00, -1.1400000e+00, -1.1300000e+00,\n",
       "       -1.1200000e+00, -1.1100000e+00, -1.1000000e+00, -1.0900000e+00,\n",
       "       -1.0800000e+00, -1.0700000e+00, -1.0600000e+00, -1.0500000e+00,\n",
       "       -1.0400000e+00, -1.0300000e+00, -1.0200000e+00, -1.0100000e+00,\n",
       "       -1.0000000e+00, -9.9000000e-01, -9.8000000e-01, -9.7000000e-01,\n",
       "       -9.6000000e-01, -9.5000000e-01, -9.4000000e-01, -9.3000000e-01,\n",
       "       -9.2000000e-01, -9.1000000e-01, -9.0000000e-01, -8.9000000e-01,\n",
       "       -8.8000000e-01, -8.7000000e-01, -8.6000000e-01, -8.5000000e-01,\n",
       "       -8.4000000e-01, -8.3000000e-01, -8.2000000e-01, -8.1000000e-01,\n",
       "       -8.0000000e-01, -7.9000000e-01, -7.8000000e-01, -7.7000000e-01,\n",
       "       -7.6000000e-01, -7.5000000e-01, -7.4000000e-01, -7.3000000e-01,\n",
       "       -7.2000000e-01, -7.1000000e-01, -7.0000000e-01, -6.9000000e-01,\n",
       "       -6.8000000e-01, -6.7000000e-01, -6.6000000e-01, -6.5000000e-01,\n",
       "       -6.4000000e-01, -6.3000000e-01, -6.2000000e-01, -6.1000000e-01,\n",
       "       -6.0000000e-01, -5.9000000e-01, -5.8000000e-01, -5.7000000e-01,\n",
       "       -5.6000000e-01, -5.5000000e-01, -5.4000000e-01, -5.3000000e-01,\n",
       "       -5.2000000e-01, -5.1000000e-01, -5.0000000e-01, -4.9000000e-01,\n",
       "       -4.8000000e-01, -4.7000000e-01, -4.6000000e-01, -4.5000000e-01,\n",
       "       -4.4000000e-01, -4.3000000e-01, -4.2000000e-01, -4.1000000e-01,\n",
       "       -4.0000000e-01, -3.9000000e-01, -3.8000000e-01, -3.7000000e-01,\n",
       "       -3.6000000e-01, -3.5000000e-01, -3.4000000e-01, -3.3000000e-01,\n",
       "       -3.2000000e-01, -3.1000000e-01, -3.0000000e-01, -2.9000000e-01,\n",
       "       -2.8000000e-01, -2.7000000e-01, -2.6000000e-01, -2.5000000e-01,\n",
       "       -2.4000000e-01, -2.3000000e-01, -2.2000000e-01, -2.1000000e-01,\n",
       "       -2.0000000e-01, -1.9000000e-01, -1.8000000e-01, -1.7000000e-01,\n",
       "       -1.6000000e-01, -1.5000000e-01, -1.4000000e-01, -1.3000000e-01,\n",
       "       -1.2000000e-01, -1.1000000e-01, -1.0000000e-01, -9.0000000e-02,\n",
       "       -8.0000000e-02, -7.0000000e-02, -6.0000000e-02, -5.0000000e-02,\n",
       "       -4.0000000e-02, -3.0000000e-02, -2.0000000e-02, -1.0000000e-02,\n",
       "       -1.0658141e-13,  1.0000000e-02,  2.0000000e-02,  3.0000000e-02,\n",
       "        4.0000000e-02,  5.0000000e-02,  6.0000000e-02,  7.0000000e-02,\n",
       "        8.0000000e-02,  9.0000000e-02,  1.0000000e-01,  1.1000000e-01,\n",
       "        1.2000000e-01,  1.3000000e-01,  1.4000000e-01,  1.5000000e-01,\n",
       "        1.6000000e-01,  1.7000000e-01,  1.8000000e-01,  1.9000000e-01,\n",
       "        2.0000000e-01,  2.1000000e-01,  2.2000000e-01,  2.3000000e-01,\n",
       "        2.4000000e-01,  2.5000000e-01,  2.6000000e-01,  2.7000000e-01,\n",
       "        2.8000000e-01,  2.9000000e-01,  3.0000000e-01,  3.1000000e-01,\n",
       "        3.2000000e-01,  3.3000000e-01,  3.4000000e-01,  3.5000000e-01,\n",
       "        3.6000000e-01,  3.7000000e-01,  3.8000000e-01,  3.9000000e-01,\n",
       "        4.0000000e-01,  4.1000000e-01,  4.2000000e-01,  4.3000000e-01,\n",
       "        4.4000000e-01,  4.5000000e-01,  4.6000000e-01,  4.7000000e-01,\n",
       "        4.8000000e-01,  4.9000000e-01,  5.0000000e-01,  5.1000000e-01,\n",
       "        5.2000000e-01,  5.3000000e-01,  5.4000000e-01,  5.5000000e-01,\n",
       "        5.6000000e-01,  5.7000000e-01,  5.8000000e-01,  5.9000000e-01,\n",
       "        6.0000000e-01,  6.1000000e-01,  6.2000000e-01,  6.3000000e-01,\n",
       "        6.4000000e-01,  6.5000000e-01,  6.6000000e-01,  6.7000000e-01,\n",
       "        6.8000000e-01,  6.9000000e-01,  7.0000000e-01,  7.1000000e-01,\n",
       "        7.2000000e-01,  7.3000000e-01,  7.4000000e-01,  7.5000000e-01,\n",
       "        7.6000000e-01,  7.7000000e-01,  7.8000000e-01,  7.9000000e-01,\n",
       "        8.0000000e-01,  8.1000000e-01,  8.2000000e-01,  8.3000000e-01,\n",
       "        8.4000000e-01,  8.5000000e-01,  8.6000000e-01,  8.7000000e-01,\n",
       "        8.8000000e-01,  8.9000000e-01,  9.0000000e-01,  9.1000000e-01,\n",
       "        9.2000000e-01,  9.3000000e-01,  9.4000000e-01,  9.5000000e-01,\n",
       "        9.6000000e-01,  9.7000000e-01,  9.8000000e-01,  9.9000000e-01,\n",
       "        1.0000000e+00,  1.0100000e+00,  1.0200000e+00,  1.0300000e+00,\n",
       "        1.0400000e+00,  1.0500000e+00,  1.0600000e+00,  1.0700000e+00,\n",
       "        1.0800000e+00,  1.0900000e+00,  1.1000000e+00,  1.1100000e+00,\n",
       "        1.1200000e+00,  1.1300000e+00,  1.1400000e+00,  1.1500000e+00,\n",
       "        1.1600000e+00,  1.1700000e+00,  1.1800000e+00,  1.1900000e+00,\n",
       "        1.2000000e+00,  1.2100000e+00,  1.2200000e+00,  1.2300000e+00,\n",
       "        1.2400000e+00,  1.2500000e+00,  1.2600000e+00,  1.2700000e+00,\n",
       "        1.2800000e+00,  1.2900000e+00,  1.3000000e+00,  1.3100000e+00,\n",
       "        1.3200000e+00,  1.3300000e+00,  1.3400000e+00,  1.3500000e+00,\n",
       "        1.3600000e+00,  1.3700000e+00,  1.3800000e+00,  1.3900000e+00,\n",
       "        1.4000000e+00,  1.4100000e+00,  1.4200000e+00,  1.4300000e+00,\n",
       "        1.4400000e+00,  1.4500000e+00,  1.4600000e+00,  1.4700000e+00,\n",
       "        1.4800000e+00,  1.4900000e+00,  1.5000000e+00,  1.5100000e+00,\n",
       "        1.5200000e+00,  1.5300000e+00,  1.5400000e+00,  1.5500000e+00,\n",
       "        1.5600000e+00,  1.5700000e+00,  1.5800000e+00,  1.5900000e+00,\n",
       "        1.6000000e+00,  1.6100000e+00,  1.6200000e+00,  1.6300000e+00,\n",
       "        1.6400000e+00,  1.6500000e+00,  1.6600000e+00,  1.6700000e+00,\n",
       "        1.6800000e+00,  1.6900000e+00,  1.7000000e+00,  1.7100000e+00,\n",
       "        1.7200000e+00,  1.7300000e+00,  1.7400000e+00,  1.7500000e+00,\n",
       "        1.7600000e+00,  1.7700000e+00,  1.7800000e+00,  1.7900000e+00,\n",
       "        1.8000000e+00,  1.8100000e+00,  1.8200000e+00,  1.8300000e+00,\n",
       "        1.8400000e+00,  1.8500000e+00,  1.8600000e+00,  1.8700000e+00,\n",
       "        1.8800000e+00,  1.8900000e+00,  1.9000000e+00,  1.9100000e+00,\n",
       "        1.9200000e+00,  1.9300000e+00,  1.9400000e+00,  1.9500000e+00,\n",
       "        1.9600000e+00,  1.9700000e+00,  1.9800000e+00,  1.9900000e+00,\n",
       "        2.0000000e+00,  2.0100000e+00,  2.0200000e+00,  2.0300000e+00,\n",
       "        2.0400000e+00,  2.0500000e+00,  2.0600000e+00,  2.0700000e+00,\n",
       "        2.0800000e+00,  2.0900000e+00,  2.1000000e+00,  2.1100000e+00,\n",
       "        2.1200000e+00,  2.1300000e+00,  2.1400000e+00,  2.1500000e+00,\n",
       "        2.1600000e+00,  2.1700000e+00,  2.1800000e+00,  2.1900000e+00,\n",
       "        2.2000000e+00,  2.2100000e+00,  2.2200000e+00,  2.2300000e+00,\n",
       "        2.2400000e+00,  2.2500000e+00,  2.2600000e+00,  2.2700000e+00,\n",
       "        2.2800000e+00,  2.2900000e+00,  2.3000000e+00,  2.3100000e+00,\n",
       "        2.3200000e+00,  2.3300000e+00,  2.3400000e+00,  2.3500000e+00,\n",
       "        2.3600000e+00,  2.3700000e+00,  2.3800000e+00,  2.3900000e+00,\n",
       "        2.4000000e+00,  2.4100000e+00,  2.4200000e+00,  2.4300000e+00,\n",
       "        2.4400000e+00,  2.4500000e+00,  2.4600000e+00,  2.4700000e+00,\n",
       "        2.4800000e+00,  2.4900000e+00,  2.5000000e+00,  2.5100000e+00,\n",
       "        2.5200000e+00,  2.5300000e+00,  2.5400000e+00,  2.5500000e+00,\n",
       "        2.5600000e+00,  2.5700000e+00,  2.5800000e+00,  2.5900000e+00,\n",
       "        2.6000000e+00,  2.6100000e+00,  2.6200000e+00,  2.6300000e+00,\n",
       "        2.6400000e+00,  2.6500000e+00,  2.6600000e+00,  2.6700000e+00,\n",
       "        2.6800000e+00,  2.6900000e+00,  2.7000000e+00,  2.7100000e+00,\n",
       "        2.7200000e+00,  2.7300000e+00,  2.7400000e+00,  2.7500000e+00,\n",
       "        2.7600000e+00,  2.7700000e+00,  2.7800000e+00,  2.7900000e+00,\n",
       "        2.8000000e+00,  2.8100000e+00,  2.8200000e+00,  2.8300000e+00,\n",
       "        2.8400000e+00,  2.8500000e+00,  2.8600000e+00,  2.8700000e+00,\n",
       "        2.8800000e+00,  2.8900000e+00,  2.9000000e+00,  2.9100000e+00,\n",
       "        2.9200000e+00,  2.9300000e+00,  2.9400000e+00,  2.9500000e+00,\n",
       "        2.9600000e+00,  2.9700000e+00,  2.9800000e+00,  2.9900000e+00,\n",
       "        3.0000000e+00,  3.0100000e+00,  3.0200000e+00,  3.0300000e+00,\n",
       "        3.0400000e+00,  3.0500000e+00,  3.0600000e+00,  3.0700000e+00,\n",
       "        3.0800000e+00,  3.0900000e+00,  3.1000000e+00,  3.1100000e+00,\n",
       "        3.1200000e+00,  3.1300000e+00,  3.1400000e+00,  3.1500000e+00,\n",
       "        3.1600000e+00,  3.1700000e+00,  3.1800000e+00,  3.1900000e+00,\n",
       "        3.2000000e+00,  3.2100000e+00,  3.2200000e+00,  3.2300000e+00,\n",
       "        3.2400000e+00,  3.2500000e+00,  3.2600000e+00,  3.2700000e+00,\n",
       "        3.2800000e+00,  3.2900000e+00,  3.3000000e+00,  3.3100000e+00,\n",
       "        3.3200000e+00,  3.3300000e+00,  3.3400000e+00,  3.3500000e+00,\n",
       "        3.3600000e+00,  3.3700000e+00,  3.3800000e+00,  3.3900000e+00,\n",
       "        3.4000000e+00,  3.4100000e+00,  3.4200000e+00,  3.4300000e+00,\n",
       "        3.4400000e+00,  3.4500000e+00,  3.4600000e+00,  3.4700000e+00,\n",
       "        3.4800000e+00,  3.4900000e+00,  3.5000000e+00,  3.5100000e+00,\n",
       "        3.5200000e+00,  3.5300000e+00,  3.5400000e+00,  3.5500000e+00,\n",
       "        3.5600000e+00,  3.5700000e+00,  3.5800000e+00,  3.5900000e+00,\n",
       "        3.6000000e+00,  3.6100000e+00,  3.6200000e+00,  3.6300000e+00,\n",
       "        3.6400000e+00,  3.6500000e+00,  3.6600000e+00,  3.6700000e+00,\n",
       "        3.6800000e+00,  3.6900000e+00,  3.7000000e+00,  3.7100000e+00,\n",
       "        3.7200000e+00,  3.7300000e+00,  3.7400000e+00,  3.7500000e+00,\n",
       "        3.7600000e+00,  3.7700000e+00,  3.7800000e+00,  3.7900000e+00,\n",
       "        3.8000000e+00,  3.8100000e+00,  3.8200000e+00,  3.8300000e+00,\n",
       "        3.8400000e+00,  3.8500000e+00,  3.8600000e+00,  3.8700000e+00,\n",
       "        3.8800000e+00,  3.8900000e+00,  3.9000000e+00,  3.9100000e+00,\n",
       "        3.9200000e+00,  3.9300000e+00,  3.9400000e+00,  3.9500000e+00,\n",
       "        3.9600000e+00,  3.9700000e+00,  3.9800000e+00,  3.9900000e+00,\n",
       "        4.0000000e+00,  4.0100000e+00,  4.0200000e+00,  4.0300000e+00,\n",
       "        4.0400000e+00,  4.0500000e+00,  4.0600000e+00,  4.0700000e+00,\n",
       "        4.0800000e+00,  4.0900000e+00,  4.1000000e+00,  4.1100000e+00,\n",
       "        4.1200000e+00,  4.1300000e+00,  4.1400000e+00,  4.1500000e+00,\n",
       "        4.1600000e+00,  4.1700000e+00,  4.1800000e+00,  4.1900000e+00,\n",
       "        4.2000000e+00,  4.2100000e+00,  4.2200000e+00,  4.2300000e+00,\n",
       "        4.2400000e+00,  4.2500000e+00,  4.2600000e+00,  4.2700000e+00,\n",
       "        4.2800000e+00,  4.2900000e+00,  4.3000000e+00,  4.3100000e+00,\n",
       "        4.3200000e+00,  4.3300000e+00,  4.3400000e+00,  4.3500000e+00,\n",
       "        4.3600000e+00,  4.3700000e+00,  4.3800000e+00,  4.3900000e+00,\n",
       "        4.4000000e+00,  4.4100000e+00,  4.4200000e+00,  4.4300000e+00,\n",
       "        4.4400000e+00,  4.4500000e+00,  4.4600000e+00,  4.4700000e+00,\n",
       "        4.4800000e+00,  4.4900000e+00,  4.5000000e+00,  4.5100000e+00,\n",
       "        4.5200000e+00,  4.5300000e+00,  4.5400000e+00,  4.5500000e+00,\n",
       "        4.5600000e+00,  4.5700000e+00,  4.5800000e+00,  4.5900000e+00,\n",
       "        4.6000000e+00,  4.6100000e+00,  4.6200000e+00,  4.6300000e+00,\n",
       "        4.6400000e+00,  4.6500000e+00,  4.6600000e+00,  4.6700000e+00,\n",
       "        4.6800000e+00,  4.6900000e+00,  4.7000000e+00,  4.7100000e+00,\n",
       "        4.7200000e+00,  4.7300000e+00,  4.7400000e+00,  4.7500000e+00,\n",
       "        4.7600000e+00,  4.7700000e+00,  4.7800000e+00,  4.7900000e+00,\n",
       "        4.8000000e+00,  4.8100000e+00,  4.8200000e+00,  4.8300000e+00,\n",
       "        4.8400000e+00,  4.8500000e+00,  4.8600000e+00,  4.8700000e+00,\n",
       "        4.8800000e+00,  4.8900000e+00,  4.9000000e+00,  4.9100000e+00,\n",
       "        4.9200000e+00,  4.9300000e+00,  4.9400000e+00,  4.9500000e+00,\n",
       "        4.9600000e+00,  4.9700000e+00,  4.9800000e+00,  4.9900000e+00])"
      ]
     },
     "execution_count": 4,
     "metadata": {},
     "output_type": "execute_result"
    }
   ],
   "source": [
    "points = np.arange(-5, 5, 0.01) # 1000 equally spaced points \n",
    "points"
   ]
  },
  {
   "cell_type": "code",
   "execution_count": 5,
   "id": "c42c61f2",
   "metadata": {},
   "outputs": [],
   "source": [
    "xs, ys = np.meshgrid(points,points)"
   ]
  },
  {
   "cell_type": "code",
   "execution_count": 6,
   "id": "39e01b56",
   "metadata": {},
   "outputs": [
    {
     "data": {
      "text/plain": [
       "array([[-5.  , -4.99, -4.98, ...,  4.97,  4.98,  4.99],\n",
       "       [-5.  , -4.99, -4.98, ...,  4.97,  4.98,  4.99],\n",
       "       [-5.  , -4.99, -4.98, ...,  4.97,  4.98,  4.99],\n",
       "       ...,\n",
       "       [-5.  , -4.99, -4.98, ...,  4.97,  4.98,  4.99],\n",
       "       [-5.  , -4.99, -4.98, ...,  4.97,  4.98,  4.99],\n",
       "       [-5.  , -4.99, -4.98, ...,  4.97,  4.98,  4.99]])"
      ]
     },
     "execution_count": 6,
     "metadata": {},
     "output_type": "execute_result"
    }
   ],
   "source": [
    "xs"
   ]
  },
  {
   "cell_type": "code",
   "execution_count": 7,
   "id": "82dd0645",
   "metadata": {},
   "outputs": [
    {
     "data": {
      "text/plain": [
       "array([[-5.  , -5.  , -5.  , ..., -5.  , -5.  , -5.  ],\n",
       "       [-4.99, -4.99, -4.99, ..., -4.99, -4.99, -4.99],\n",
       "       [-4.98, -4.98, -4.98, ..., -4.98, -4.98, -4.98],\n",
       "       ...,\n",
       "       [ 4.97,  4.97,  4.97, ...,  4.97,  4.97,  4.97],\n",
       "       [ 4.98,  4.98,  4.98, ...,  4.98,  4.98,  4.98],\n",
       "       [ 4.99,  4.99,  4.99, ...,  4.99,  4.99,  4.99]])"
      ]
     },
     "execution_count": 7,
     "metadata": {},
     "output_type": "execute_result"
    }
   ],
   "source": [
    "ys"
   ]
  },
  {
   "cell_type": "code",
   "execution_count": 8,
   "id": "c12361fe",
   "metadata": {},
   "outputs": [],
   "source": [
    "from matplotlib.pyplot import imshow, title\n",
    "import matplotlib.pyplot as plt"
   ]
  },
  {
   "cell_type": "code",
   "execution_count": 9,
   "id": "b5fa9bd1",
   "metadata": {},
   "outputs": [
    {
     "data": {
      "text/plain": [
       "array([[7.07106781, 7.06400028, 7.05693985, ..., 7.04988652, 7.05693985,\n",
       "        7.06400028],\n",
       "       [7.06400028, 7.05692568, 7.04985815, ..., 7.04279774, 7.04985815,\n",
       "        7.05692568],\n",
       "       [7.05693985, 7.04985815, 7.04278354, ..., 7.03571603, 7.04278354,\n",
       "        7.04985815],\n",
       "       ...,\n",
       "       [7.04988652, 7.04279774, 7.03571603, ..., 7.0286414 , 7.03571603,\n",
       "        7.04279774],\n",
       "       [7.05693985, 7.04985815, 7.04278354, ..., 7.03571603, 7.04278354,\n",
       "        7.04985815],\n",
       "       [7.06400028, 7.05692568, 7.04985815, ..., 7.04279774, 7.04985815,\n",
       "        7.05692568]])"
      ]
     },
     "execution_count": 9,
     "metadata": {},
     "output_type": "execute_result"
    }
   ],
   "source": [
    "z = np.sqrt(xs ** 2 + ys ** 2)\n",
    "z"
   ]
  },
  {
   "cell_type": "code",
   "execution_count": 10,
   "id": "00767a66",
   "metadata": {},
   "outputs": [
    {
     "data": {
      "text/plain": [
       "<matplotlib.colorbar.Colorbar at 0x1c7122b46d0>"
      ]
     },
     "execution_count": 10,
     "metadata": {},
     "output_type": "execute_result"
    },
    {
     "data": {
      "image/png": "[encoded data removed]",
      "text/plain": [
       "<Figure size 432x288 with 2 Axes>"
      ]
     },
     "metadata": {
      "needs_background": "light"
     },
     "output_type": "display_data"
    }
   ],
   "source": [
    "plt.imshow(z, cmap = plt.cm.gray)\n",
    "plt.colorbar()"
   ]
  },
  {
   "cell_type": "code",
   "execution_count": 11,
   "id": "246682f3",
   "metadata": {},
   "outputs": [
    {
     "data": {
      "text/plain": [
       "Text(0.5, 1.0, 'Image plot of $\\\\sqrt{x^2 + y^2}$ for a grid of values')"
      ]
     },
     "execution_count": 11,
     "metadata": {},
     "output_type": "execute_result"
    },
    {
     "data": {
      "image/png": "[encoded data removed]",
      "text/plain": [
       "<Figure size 432x288 with 1 Axes>"
      ]
     },
     "metadata": {
      "needs_background": "light"
     },
     "output_type": "display_data"
    }
   ],
   "source": [
    "plt.title(\"Image plot of $\\sqrt{x^2 + y^2}$ for a grid of values\")"
   ]
  },
  {
   "cell_type": "code",
   "execution_count": 12,
   "id": "29a7f646",
   "metadata": {},
   "outputs": [
    {
     "data": {
      "image/png": "[encoded data removed]",
      "text/plain": [
       "<Figure size 432x288 with 2 Axes>"
      ]
     },
     "metadata": {
      "needs_background": "light"
     },
     "output_type": "display_data"
    }
   ],
   "source": [
    "plt.imshow(z, cmap=plt.cm.gray)\n",
    "plt.colorbar()\n",
    "plt.title(\"Image plot of $\\sqrt{x^2 + y^2}$ for a grid of values\")\n",
    "plt.draw()"
   ]
  },
  {
   "cell_type": "markdown",
   "id": "93634a84",
   "metadata": {},
   "source": [
    "### Expressing conditional logic as array operations\n",
    ">배열 연산으로 조건절 표현하기"
   ]
  },
  {
   "cell_type": "code",
   "execution_count": 3,
   "id": "a650d45c",
   "metadata": {},
   "outputs": [],
   "source": [
    "xarr = np.array([1.1,1.2,1.3,1.4,1.5])\n",
    "yarr = np.array([2.1,2.2,2.3,2.4,2.5])\n",
    "cond = np.array([True, False, True, True, False])"
   ]
  },
  {
   "cell_type": "code",
   "execution_count": 4,
   "id": "ffa84007",
   "metadata": {},
   "outputs": [
    {
     "data": {
      "text/plain": [
       "[1.1, 2.2, 1.3, 1.4, 2.5]"
      ]
     },
     "execution_count": 4,
     "metadata": {},
     "output_type": "execute_result"
    }
   ],
   "source": [
    "result = [(x if c else y)\n",
    "        for x, y, c in zip(xarr, yarr, cond)]\n",
    "result"
   ]
  },
  {
   "cell_type": "markdown",
   "id": "c9b1f2d0",
   "metadata": {},
   "source": [
    ">where(condition, [x, y])\n",
    "\n",
    "- condition이 True일 경우 x를 False일 경우 y를 return\n",
    "- where에 넘긴 배열은 같은 크기의 배열이거나 스칼라 값일 수 있다.\n",
    "- where를 사용하면 좀더 복잡한 연산을 수행할 수 있다."
   ]
  },
  {
   "cell_type": "code",
   "execution_count": 5,
   "id": "8a82fd6f",
   "metadata": {},
   "outputs": [
    {
     "data": {
      "text/plain": [
       "array([1.1, 2.2, 1.3, 1.4, 2.5])"
      ]
     },
     "execution_count": 5,
     "metadata": {},
     "output_type": "execute_result"
    }
   ],
   "source": [
    "result = np.where(cond,xarr,yarr)    #  !!!!!!!!!!! 메우 유용 !!!!!!!!!!\n",
    "result"
   ]
  },
  {
   "cell_type": "code",
   "execution_count": 2,
   "id": "ad0badcc",
   "metadata": {},
   "outputs": [
    {
     "data": {
      "text/plain": [
       "array([[ 0.06754777,  0.28329089, -0.38734519,  0.79796016],\n",
       "       [ 0.91246457, -1.45176819, -1.15148266,  1.59658981],\n",
       "       [ 0.22189484, -0.08543997,  2.10830655, -1.00938572],\n",
       "       [ 0.83345069, -0.02822496,  0.08003424,  0.40784637]])"
      ]
     },
     "execution_count": 2,
     "metadata": {},
     "output_type": "execute_result"
    }
   ],
   "source": [
    "arr = randn(4,4)\n",
    "arr"
   ]
  },
  {
   "cell_type": "code",
   "execution_count": 3,
   "id": "06db7658",
   "metadata": {},
   "outputs": [
    {
     "data": {
      "text/plain": [
       "array([[ 2,  2, -2,  2],\n",
       "       [ 2, -2, -2,  2],\n",
       "       [ 2, -2,  2, -2],\n",
       "       [ 2, -2,  2,  2]])"
      ]
     },
     "execution_count": 3,
     "metadata": {},
     "output_type": "execute_result"
    }
   ],
   "source": [
    "np.where(arr > 0 ,2 , -2)"
   ]
  },
  {
   "cell_type": "code",
   "execution_count": 4,
   "id": "862c4a70",
   "metadata": {},
   "outputs": [
    {
     "data": {
      "text/plain": [
       "array([[ 2.        ,  2.        , -0.38734519,  2.        ],\n",
       "       [ 2.        , -1.45176819, -1.15148266,  2.        ],\n",
       "       [ 2.        , -0.08543997,  2.        , -1.00938572],\n",
       "       [ 2.        , -0.02822496,  2.        ,  2.        ]])"
      ]
     },
     "execution_count": 4,
     "metadata": {},
     "output_type": "execute_result"
    }
   ],
   "source": [
    "np.where(arr > 0, 2, arr)"
   ]
  },
  {
   "cell_type": "markdown",
   "id": "2c0e7891",
   "metadata": {},
   "source": [
    "### Mathematical and statistical methods\n",
    "> 수학 메소드와 통계 메소드\n",
    "\n",
    "- 배열 전체 혹은 배열에서 한 축에 따르는 자료에 대한 통계를 계산하기 위한 수학 함수는 배열 메소드를 사용\n",
    "- 전체의 합(sum)이나 평균(mean), 표준편차(std)는 NumPy의 최상위 함수를 이용하거나 배열의 인스턴스 메소드를 사용"
   ]
  },
  {
   "cell_type": "code",
   "execution_count": 5,
   "id": "126643c4",
   "metadata": {},
   "outputs": [
    {
     "data": {
      "text/plain": [
       "array([[-1.05845309,  2.53163711, -0.13143212,  1.07005043],\n",
       "       [-0.32001592,  0.06506914, -0.29077707,  0.43460668],\n",
       "       [-0.34590087, -0.01596873,  1.41260158, -0.23303599],\n",
       "       [ 0.60750673, -1.37350744,  0.35142132, -0.04873696],\n",
       "       [-0.87540457, -0.90919293,  1.07849795, -0.50697194]])"
      ]
     },
     "execution_count": 5,
     "metadata": {},
     "output_type": "execute_result"
    }
   ],
   "source": [
    "arr = np.random.randn(5,4)\n",
    "arr"
   ]
  },
  {
   "cell_type": "code",
   "execution_count": 6,
   "id": "26f91923",
   "metadata": {},
   "outputs": [
    {
     "data": {
      "text/plain": [
       "0.07209966638518504"
      ]
     },
     "execution_count": 6,
     "metadata": {},
     "output_type": "execute_result"
    }
   ],
   "source": [
    "arr.mean()"
   ]
  },
  {
   "cell_type": "code",
   "execution_count": 7,
   "id": "f924f1bf",
   "metadata": {},
   "outputs": [
    {
     "data": {
      "text/plain": [
       "0.07209966638518504"
      ]
     },
     "execution_count": 7,
     "metadata": {},
     "output_type": "execute_result"
    }
   ],
   "source": [
    "np.mean(arr)"
   ]
  },
  {
   "cell_type": "code",
   "execution_count": 8,
   "id": "cff446da",
   "metadata": {},
   "outputs": [
    {
     "data": {
      "text/plain": [
       "1.441993327703701"
      ]
     },
     "execution_count": 8,
     "metadata": {},
     "output_type": "execute_result"
    }
   ],
   "source": [
    "arr.sum()"
   ]
  },
  {
   "cell_type": "code",
   "execution_count": 9,
   "id": "3913f661",
   "metadata": {},
   "outputs": [
    {
     "data": {
      "text/plain": [
       "array([ 0.60295058, -0.02777929,  0.204424  , -0.11582909, -0.30326787])"
      ]
     },
     "execution_count": 9,
     "metadata": {},
     "output_type": "execute_result"
    }
   ],
   "source": [
    "arr.mean(axis = 1)      # axis = 1 =====> 행별 계산"
   ]
  },
  {
   "cell_type": "code",
   "execution_count": 10,
   "id": "52be0a48",
   "metadata": {},
   "outputs": [
    {
     "data": {
      "text/plain": [
       "array([-0.39845354,  0.05960743,  0.48406233,  0.14318244])"
      ]
     },
     "execution_count": 10,
     "metadata": {},
     "output_type": "execute_result"
    }
   ],
   "source": [
    "arr.mean(axis = 0)      # axis = 0 =====> 열별 계산"
   ]
  },
  {
   "cell_type": "code",
   "execution_count": 12,
   "id": "672491bd",
   "metadata": {},
   "outputs": [
    {
     "data": {
      "text/plain": [
       "array([[0, 1, 2],\n",
       "       [3, 4, 5],\n",
       "       [6, 7, 8]])"
      ]
     },
     "execution_count": 12,
     "metadata": {},
     "output_type": "execute_result"
    }
   ],
   "source": [
    "arr = np.array([[0, 1, 2], [3, 4, 5], [6, 7, 8]])\n",
    "arr"
   ]
  },
  {
   "cell_type": "code",
   "execution_count": 13,
   "id": "e3e2d4b7",
   "metadata": {},
   "outputs": [
    {
     "data": {
      "text/plain": [
       "array([[ 0,  1,  2],\n",
       "       [ 3,  5,  7],\n",
       "       [ 9, 12, 15]], dtype=int32)"
      ]
     },
     "execution_count": 13,
     "metadata": {},
     "output_type": "execute_result"
    }
   ],
   "source": [
    "arr.cumsum(0)   # 각 원소의 누적 합계"
   ]
  },
  {
   "cell_type": "code",
   "execution_count": 14,
   "id": "15adf04d",
   "metadata": {},
   "outputs": [
    {
     "data": {
      "text/plain": [
       "array([[  0,   0,   0],\n",
       "       [  3,  12,  60],\n",
       "       [  6,  42, 336]], dtype=int32)"
      ]
     },
     "execution_count": 14,
     "metadata": {},
     "output_type": "execute_result"
    }
   ],
   "source": [
    "arr.cumprod(1)   # 각 원소의 누적 곱"
   ]
  },
  {
   "cell_type": "markdown",
   "id": "5bd5958a",
   "metadata": {},
   "source": [
    "### Methods for boolean arrays\n",
    "> 불리언 배열을 위한 메소드\n",
    "\n",
    "- 불리언 값은 1(True), 0(False)으로 취급\n",
    "- 따라서 불리언 배열에 대한 sum 메소드를 실행하면 True인 원소의 개수를 반환\n",
    "- any() : 하나 이상의 True 값이 있는 지 검사\n",
    "- all() : 모든 원소가 True 인지 검사"
   ]
  },
  {
   "cell_type": "code",
   "execution_count": 16,
   "id": "639da5a1",
   "metadata": {},
   "outputs": [
    {
     "data": {
      "text/plain": [
       "array([-8.26721629e-01,  6.52313075e-02,  1.43222616e+00,  5.15714257e-01,\n",
       "        1.93419125e-01,  1.16750697e+00, -1.01956371e+00, -1.80332054e+00,\n",
       "       -1.12319798e+00, -2.90474712e-01,  4.98406359e-01, -4.34602170e-01,\n",
       "        8.80095058e-01,  8.47567572e-01,  1.38977189e-01, -2.76644630e-01,\n",
       "       -4.77152669e-01, -1.18820460e+00,  5.70212785e-01, -1.87659385e+00,\n",
       "        3.28548704e-01,  1.30717792e+00,  1.55790197e-01,  4.09178367e-01,\n",
       "        2.21064394e+00, -1.69477150e+00,  1.53228546e+00,  8.79650351e-01,\n",
       "       -6.18133450e-01, -3.22247023e-01, -5.00116141e-01, -8.52815292e-01,\n",
       "       -1.42401687e+00, -3.68150804e-01,  4.59336636e-01,  1.12365171e+00,\n",
       "        7.58945647e-01, -6.69001047e-01,  2.31001259e-01,  4.91319024e-01,\n",
       "       -1.61791173e+00,  8.28029294e-01,  5.92135875e-01,  1.41407779e-01,\n",
       "       -3.18153404e-01, -1.31012928e+00,  1.41724182e+00,  1.16977734e+00,\n",
       "       -1.72282868e+00,  6.18061033e-01, -3.92185753e-01, -9.75257114e-01,\n",
       "       -2.33411510e+00, -1.26117391e-01, -1.21357960e+00,  2.62217381e-01,\n",
       "       -6.95424319e-01, -2.29984969e-01, -1.10490080e+00, -6.88423378e-01,\n",
       "       -1.58485177e+00,  1.96379930e-01,  9.91247682e-01,  7.48008273e-01,\n",
       "       -7.05204870e-01,  3.75078310e-01,  2.91133695e-01,  1.21306174e-01,\n",
       "       -2.91107589e-01,  7.81089398e-01,  3.33898818e-01, -2.16507012e+00,\n",
       "        1.90299893e+00,  3.91869824e-01, -1.02870202e+00, -2.06953055e+00,\n",
       "        1.58238601e+00, -6.24284493e-04, -1.42923816e+00, -1.31608484e+00,\n",
       "        2.40674527e-01, -7.00158883e-01, -2.75199344e-01, -1.99893318e+00,\n",
       "       -1.08772067e-01,  1.88401367e-01,  5.78515463e-02, -6.35005427e-01,\n",
       "        2.87167539e-01, -5.64722245e-02,  7.88656488e-01, -1.43504709e+00,\n",
       "        5.84139204e-01, -1.18480036e+00,  4.81355158e-01,  1.25407460e+00,\n",
       "        7.04286855e-01,  4.21782838e-01, -2.07690646e+00,  7.45617506e-01])"
      ]
     },
     "execution_count": 16,
     "metadata": {},
     "output_type": "execute_result"
    }
   ],
   "source": [
    "arr = randn(100)\n",
    "arr"
   ]
  },
  {
   "cell_type": "code",
   "execution_count": 17,
   "id": "9114a973",
   "metadata": {},
   "outputs": [
    {
     "data": {
      "text/plain": [
       "51"
      ]
     },
     "execution_count": 17,
     "metadata": {},
     "output_type": "execute_result"
    }
   ],
   "source": [
    "(arr > 0).sum()   # (조건).구하고자하는 값"
   ]
  },
  {
   "cell_type": "code",
   "execution_count": 18,
   "id": "bc63a0be",
   "metadata": {},
   "outputs": [
    {
     "data": {
      "text/plain": [
       "array([False, False,  True, False])"
      ]
     },
     "execution_count": 18,
     "metadata": {},
     "output_type": "execute_result"
    }
   ],
   "source": [
    "bools = np.array([False, False, True, False])\n",
    "bools"
   ]
  },
  {
   "cell_type": "code",
   "execution_count": 19,
   "id": "db5d36ed",
   "metadata": {},
   "outputs": [
    {
     "data": {
      "text/plain": [
       "True"
      ]
     },
     "execution_count": 19,
     "metadata": {},
     "output_type": "execute_result"
    }
   ],
   "source": [
    "bools.any()   # 값중에 한개라도 True가 있는지"
   ]
  },
  {
   "cell_type": "code",
   "execution_count": 20,
   "id": "8cd871b3",
   "metadata": {},
   "outputs": [
    {
     "data": {
      "text/plain": [
       "False"
      ]
     },
     "execution_count": 20,
     "metadata": {},
     "output_type": "execute_result"
    }
   ],
   "source": [
    "bools.all()   # 값 전체가 다 True인지"
   ]
  },
  {
   "cell_type": "markdown",
   "id": "00291dfa",
   "metadata": {},
   "source": [
    "### Sorting"
   ]
  },
  {
   "cell_type": "code",
   "execution_count": 21,
   "id": "a6f91dd1",
   "metadata": {},
   "outputs": [
    {
     "data": {
      "text/plain": [
       "array([ 0.0047866 , -0.9401535 ,  0.03097891,  0.03862644, -0.5207326 ,\n",
       "        1.55226679, -0.44201785, -0.17341256])"
      ]
     },
     "execution_count": 21,
     "metadata": {},
     "output_type": "execute_result"
    }
   ],
   "source": [
    "arr = randn(8)\n",
    "arr"
   ]
  },
  {
   "cell_type": "code",
   "execution_count": 22,
   "id": "d094dba0",
   "metadata": {},
   "outputs": [
    {
     "data": {
      "text/plain": [
       "array([-0.9401535 , -0.5207326 , -0.44201785, -0.17341256,  0.0047866 ,\n",
       "        0.03097891,  0.03862644,  1.55226679])"
      ]
     },
     "execution_count": 22,
     "metadata": {},
     "output_type": "execute_result"
    }
   ],
   "source": [
    "arr.sort()\n",
    "arr"
   ]
  },
  {
   "cell_type": "code",
   "execution_count": 23,
   "id": "48ac27cd",
   "metadata": {},
   "outputs": [
    {
     "data": {
      "text/plain": [
       "array([[ 2.25755903,  0.61750747, -1.27867421],\n",
       "       [-0.4428346 ,  1.18698359, -0.47992014],\n",
       "       [ 0.23075822, -0.14726798, -1.1602749 ],\n",
       "       [ 0.86004174, -1.05166194, -1.21689771],\n",
       "       [-0.52305614,  1.50775419,  0.34447232]])"
      ]
     },
     "execution_count": 23,
     "metadata": {},
     "output_type": "execute_result"
    }
   ],
   "source": [
    "arr = randn(5,3)\n",
    "arr"
   ]
  },
  {
   "cell_type": "code",
   "execution_count": 24,
   "id": "8be8cd59",
   "metadata": {},
   "outputs": [
    {
     "data": {
      "text/plain": [
       "array([[-1.27867421,  0.61750747,  2.25755903],\n",
       "       [-0.47992014, -0.4428346 ,  1.18698359],\n",
       "       [-1.1602749 , -0.14726798,  0.23075822],\n",
       "       [-1.21689771, -1.05166194,  0.86004174],\n",
       "       [-0.52305614,  0.34447232,  1.50775419]])"
      ]
     },
     "execution_count": 24,
     "metadata": {},
     "output_type": "execute_result"
    }
   ],
   "source": [
    "arr.sort(1)\n",
    "arr"
   ]
  },
  {
   "cell_type": "code",
   "execution_count": 25,
   "id": "8f82179e",
   "metadata": {},
   "outputs": [
    {
     "data": {
      "text/plain": [
       "array([[-1.27867421, -1.05166194,  0.23075822],\n",
       "       [-1.21689771, -0.4428346 ,  0.86004174],\n",
       "       [-1.1602749 , -0.14726798,  1.18698359],\n",
       "       [-0.52305614,  0.34447232,  1.50775419],\n",
       "       [-0.47992014,  0.61750747,  2.25755903]])"
      ]
     },
     "execution_count": 25,
     "metadata": {},
     "output_type": "execute_result"
    }
   ],
   "source": [
    "arr.sort(0)\n",
    "arr"
   ]
  },
  {
   "cell_type": "code",
   "execution_count": 26,
   "id": "a1b0050f",
   "metadata": {},
   "outputs": [
    {
     "data": {
      "text/plain": [
       "array([-1.39047586e+00, -1.22047046e+00, -4.94109456e-02,  1.83062275e+00,\n",
       "       -1.01257074e+00,  1.23239155e+00, -2.03309336e-01,  1.20515292e-01,\n",
       "       -2.64138361e-01, -1.09765437e+00,  6.73057009e-01, -1.83417415e+00,\n",
       "        9.04722686e-01, -7.70112948e-01,  1.19544128e+00, -9.54251801e-01,\n",
       "        1.71062208e+00,  1.39179959e+00,  8.57391699e-01,  1.04886974e+00,\n",
       "       -1.22047240e+00, -3.02986359e-01, -2.49945472e-01,  1.07116815e-01,\n",
       "       -1.53481419e+00,  6.70349791e-02,  9.25716393e-01,  9.02854753e-01,\n",
       "        1.62539130e+00, -1.23827585e+00, -2.51620621e-01,  1.31480920e+00,\n",
       "       -7.62880004e-01,  8.30720536e-01, -1.07855992e+00,  1.64295776e+00,\n",
       "        1.46958909e-01, -3.71541883e-01, -1.43879037e+00,  8.49165043e-03,\n",
       "        6.10043106e-01, -9.68796753e-01,  9.53447622e-01,  1.01469722e-01,\n",
       "        5.67303603e-01,  7.14101982e-01, -7.85531916e-01, -2.70257422e-01,\n",
       "        9.76529142e-02,  1.82652410e-01,  8.24526928e-01, -3.36139817e-01,\n",
       "        9.52155460e-01,  5.22740189e-01, -2.06029162e-01, -1.21027245e+00,\n",
       "        1.59637525e+00,  2.80737458e-01, -6.50256002e-01,  2.58924040e+00,\n",
       "        2.72152519e-01,  3.29036687e-01, -1.13316715e+00,  1.29270085e+00,\n",
       "        1.75137206e-01,  1.02745799e+00,  7.12713969e-01, -1.04482868e+00,\n",
       "        6.93574225e-01, -9.69950735e-01,  8.37188183e-01,  5.86304055e-01,\n",
       "        4.26786261e-01,  1.85041999e-01,  8.54507940e-01, -9.13389294e-01,\n",
       "       -4.72137885e-01,  1.56421166e-01, -9.93824091e-02, -1.99078501e-01,\n",
       "       -5.71860533e-01, -3.71534800e-01,  3.14958734e-01,  8.17130494e-01,\n",
       "       -1.38969866e+00,  6.92280389e-01,  1.03724286e-01, -1.71628594e+00,\n",
       "       -8.13639295e-01, -1.05884270e+00, -2.31710635e+00, -7.29703338e-01,\n",
       "        7.43807549e-01,  5.52154558e-01, -9.32026284e-01, -1.93722891e-01,\n",
       "        1.26814869e+00, -1.49034551e+00, -5.15618760e-02, -2.38593927e+00,\n",
       "        7.47313842e-01,  1.32440905e+00,  3.38346462e-01,  8.57942863e-01,\n",
       "       -2.10287400e+00,  5.71995295e-01,  8.95524038e-02,  2.58320391e-01,\n",
       "        5.96141386e-01, -2.69904634e-01,  3.44301910e-01, -6.04736466e-01,\n",
       "        1.21062993e-01, -8.42103769e-01,  3.89909183e-01,  1.47253229e+00,\n",
       "        1.32726043e+00,  6.87705210e-01,  1.43477947e+00, -8.33517099e-01,\n",
       "       -1.51751046e+00,  1.33861521e+00, -8.45564925e-01,  4.11645107e-01,\n",
       "       -7.06272789e-01,  8.38807944e-01,  5.30139700e-01,  1.67335879e+00,\n",
       "       -1.29934989e+00, -1.33615142e+00, -4.64718012e-01, -1.60808004e+00,\n",
       "        5.41294146e-01, -3.81615860e-01, -1.52479713e-02,  1.21184590e-02,\n",
       "        5.56584001e-01,  2.26742754e-01,  1.04080554e-01, -2.15986399e+00,\n",
       "       -2.19824600e+00, -1.14256496e+00,  3.37335500e-01,  1.25604608e+00,\n",
       "        3.54673969e-01,  9.93446240e-01, -4.61126074e-01,  1.19733234e+00,\n",
       "       -8.09700424e-01,  1.65689582e-01, -1.22141060e-01,  1.53685103e+00,\n",
       "        4.37201136e-01, -1.19720288e-01,  6.73982143e-01,  4.15576315e-01,\n",
       "        3.45202752e-01, -5.54178734e-01,  4.32705513e-01,  8.10432835e-01,\n",
       "        1.88571791e+00, -9.04808755e-01, -3.91385769e-01,  2.65951787e-01,\n",
       "       -3.94323235e-01, -4.23683928e-01, -7.74054713e-01,  7.42152671e-01,\n",
       "        8.96462095e-01, -1.75343071e+00, -8.00959391e-02, -2.40112926e-01,\n",
       "       -7.13032344e-01,  4.67770725e-01, -3.92270249e-01, -1.27332281e+00,\n",
       "       -1.10339876e+00, -2.06923494e-01,  5.27329608e-01, -8.43006770e-01,\n",
       "       -1.42891577e+00, -2.51795560e-01, -3.29575267e-01,  4.07946063e-01,\n",
       "        1.06224584e+00, -1.56590362e+00,  1.30822060e-01, -2.65046412e+00,\n",
       "       -8.53181042e-01, -9.42466212e-01,  2.06631410e+00, -1.14065233e-01,\n",
       "        3.51544368e-02, -6.57733974e-01,  1.66483682e-01,  1.43731041e+00,\n",
       "       -1.60868239e+00, -3.36041414e-01,  3.58031899e-02,  2.62043079e+00,\n",
       "       -9.18980577e-01, -1.24433169e+00,  5.91748075e-01, -2.40954093e-01,\n",
       "       -6.29666631e-01, -2.91654725e-01, -1.52824103e-01,  6.28843570e-01,\n",
       "       -9.50656298e-01,  1.12953323e+00,  1.07395903e+00, -2.24075893e+00,\n",
       "        5.43079561e-01, -3.09580655e-01,  1.21616724e-01,  8.32164909e-01,\n",
       "        4.60097912e-02,  2.27966825e-01,  4.87278141e-01,  4.63277069e-01,\n",
       "        9.87406494e-01,  5.34079698e-02,  2.64408956e-01,  1.83485063e+00,\n",
       "        1.40118978e-01,  1.49346660e+00, -3.86360571e-02,  2.57113207e-01,\n",
       "       -9.46527106e-01, -3.09225851e-01,  1.13202479e+00,  7.49234705e-01,\n",
       "       -1.54967027e+00,  3.31037469e-01, -5.42334681e-01,  1.45246854e-02,\n",
       "        5.08797724e-01, -1.27752850e+00, -2.26779608e-01, -4.13417260e-01,\n",
       "       -4.43899863e-02, -4.21959902e-01,  7.37628435e-02,  3.19967917e-01,\n",
       "       -1.21877297e+00, -9.19530833e-05, -1.59852604e+00, -8.71087671e-01,\n",
       "        5.81927708e-01, -2.66096329e-01, -1.94721952e+00,  5.61620691e-02,\n",
       "       -1.95534443e-01, -8.49246897e-02, -6.14669393e-01, -2.06402329e-01,\n",
       "        1.58121183e+00,  1.22976460e+00,  1.83530317e-01,  8.85054455e-01,\n",
       "       -2.63958139e-01, -1.58289290e+00,  4.29839184e-01,  3.86373500e-01,\n",
       "        2.88971951e-01,  1.58704259e-01,  2.44786614e+00,  1.53792839e+00,\n",
       "        1.05149616e+00, -1.27551342e-02,  9.39140273e-01, -8.27356546e-01,\n",
       "       -8.80049648e-01,  1.78320930e-01,  2.71001425e-02,  1.77431569e+00,\n",
       "        2.70472793e-01, -5.38668832e-02,  1.49909648e+00, -9.80050865e-02,\n",
       "       -1.27954099e+00,  1.47894435e-01, -1.69572360e-02,  2.98275793e-01,\n",
       "       -2.17849787e+00, -1.67312970e+00, -5.16681258e-01, -4.49764222e-01,\n",
       "       -4.45171425e-01,  3.71814064e-01,  8.19757068e-01,  8.36624792e-01,\n",
       "        1.67649395e-01,  2.07177187e-01,  1.11173366e-01,  2.18992883e-01,\n",
       "       -1.94974628e-01,  8.31578605e-01,  1.43412232e+00, -1.14653391e-01,\n",
       "       -2.76383864e-01, -1.34403521e-01,  4.90566350e-01,  4.10623031e-01,\n",
       "        1.00550201e+00, -3.56030845e-01,  1.37496306e+00, -4.50301287e-01,\n",
       "        1.54604382e-01, -1.56070271e-01, -1.17944361e+00, -1.54345219e+00,\n",
       "       -6.41895886e-01,  2.02344771e-01,  3.24766712e-01,  2.16653248e-01,\n",
       "       -2.69764761e+00, -2.87604056e-01, -1.58166599e+00,  5.33785190e-01,\n",
       "        1.54355240e-01,  9.06608192e-01,  3.94049658e-01,  1.29150830e+00,\n",
       "        1.17575637e+00, -1.13576239e+00,  8.31153387e-01, -4.83341144e-01,\n",
       "       -2.06187390e+00,  8.28911572e-01,  8.96701477e-01, -4.39903224e-01,\n",
       "       -5.01390744e-01,  9.11541045e-02, -1.44396461e+00,  2.33357161e+00,\n",
       "       -1.65342720e-01,  1.71436633e+00,  6.87606401e-01, -4.46454448e-01,\n",
       "       -8.99268916e-01, -8.05104455e-01, -1.24144818e+00,  1.41141796e-02,\n",
       "        1.10762966e+00, -1.26643530e+00, -3.19976217e-01,  1.30310241e+00,\n",
       "       -3.57472404e-01,  1.01284104e+00,  2.45797537e-01,  4.14198583e-01,\n",
       "       -9.27487228e-01, -1.17714715e-01,  6.36037816e-01,  1.94884543e-01,\n",
       "       -4.12783870e-02, -2.37879366e-01, -4.81570252e-01, -5.92150950e-01,\n",
       "       -1.88033650e+00, -1.19506259e+00,  5.91225084e-02, -1.79537415e+00,\n",
       "       -1.59322589e+00,  1.75369991e+00,  7.55672391e-03,  1.04257952e+00,\n",
       "        1.02692609e+00, -4.53018313e-01,  9.32293035e-01, -4.25370166e-01,\n",
       "       -1.41847002e+00,  2.41532430e+00, -6.87696628e-01,  8.88676053e-01,\n",
       "       -2.99230522e-01, -1.92817002e-01,  3.78404780e-01,  1.32364132e-01,\n",
       "        1.97689501e-01,  3.84578835e-01, -1.28921432e+00,  3.00149906e-01,\n",
       "       -6.63400178e-01, -5.44939787e-02,  9.02349859e-02, -4.16547071e-01,\n",
       "       -3.90742710e-01,  6.54361946e-01,  1.76193303e+00, -1.16972236e+00,\n",
       "        2.80835064e+00, -3.79443927e-01, -6.41648501e-01,  1.01183619e+00,\n",
       "       -8.93143898e-02, -4.17481462e-01,  9.95980293e-01,  2.84332029e+00,\n",
       "        2.78119206e-01,  1.75230516e+00, -1.17166352e+00, -9.71757450e-01,\n",
       "       -3.78145799e-01,  2.94399430e-01,  2.88366931e-01, -9.37735259e-01,\n",
       "        9.82841518e-01, -7.35455365e-01, -3.37453527e-02, -4.24266857e-01,\n",
       "       -5.88182892e-01,  5.56922453e-01,  6.29824146e-01, -9.31720702e-01,\n",
       "       -2.15684730e-01, -3.14338898e-01,  1.64713815e-02,  1.48850728e+00,\n",
       "        1.22454634e+00,  2.40326737e-01, -1.13990970e+00, -7.50231458e-01,\n",
       "       -5.36678456e-02, -1.16991008e+00,  9.09526088e-01, -9.01294994e-01,\n",
       "       -6.29532910e-01,  1.94054473e-01,  1.72082257e+00,  1.68868382e+00,\n",
       "        7.86294062e-01,  4.22150099e-01,  8.14227659e-01, -1.15039234e+00,\n",
       "       -1.29071649e+00,  5.73165840e-01,  9.21537074e-01, -7.41062853e-01,\n",
       "       -1.70849341e+00,  3.04887348e-01,  6.57133789e-01,  1.19667114e+00,\n",
       "        1.07057147e+00,  7.23479849e-01,  2.27761619e-01,  1.42477540e+00,\n",
       "        5.20804890e-01, -1.44618207e+00, -1.36265322e+00,  5.44376470e-02,\n",
       "       -9.36358230e-01,  9.19606462e-01, -2.49976107e-01, -2.04580233e+00,\n",
       "        6.49713117e-01,  7.48962234e-01,  9.48110183e-01,  7.98043964e-01,\n",
       "        5.56049998e-01,  6.73326969e-01, -1.07343727e-01,  2.00638872e-02,\n",
       "        1.78775688e+00, -1.28340871e+00, -1.02750558e+00, -1.34279577e+00,\n",
       "       -1.16967021e+00,  2.47119682e-02, -1.28387781e+00, -2.39003909e+00,\n",
       "        3.90622836e-01,  1.74291534e+00,  6.21589964e-01, -4.69572118e-01,\n",
       "        2.78678675e-01,  2.60662455e-01,  2.54841662e-01, -2.71268397e-01,\n",
       "       -8.63265787e-01,  1.20938192e+00, -9.02515469e-02, -5.22870016e-01,\n",
       "       -4.41273374e-01,  1.18039703e+00,  9.93782433e-01,  8.80388380e-01,\n",
       "        9.57023721e-01,  3.31345124e-01, -6.37304362e-01,  2.19787278e+00,\n",
       "       -1.77963765e+00,  2.49164242e+00, -1.44562011e+00, -2.83659891e-01,\n",
       "        7.48413838e-01,  1.66991339e+00, -7.97209234e-01, -5.63732589e-01,\n",
       "       -2.05503826e-01, -6.32117083e-02, -3.10729264e-01,  1.81220776e-01,\n",
       "        9.70608702e-02, -6.13134477e-02, -1.57660831e+00, -5.20894901e-01,\n",
       "        1.44409225e-01,  5.80466876e-01, -2.05726914e+00, -8.60652479e-01,\n",
       "        4.77230794e-01,  6.51973871e-01, -1.02764108e+00, -3.31022905e-01,\n",
       "       -5.32913250e-02,  7.58173875e-02, -9.11775349e-01,  5.61137763e-01,\n",
       "       -1.61537835e-01,  4.10044181e-01, -5.78576236e-01, -1.03041390e+00,\n",
       "       -1.05130102e-03,  3.00040732e-02, -1.21967744e-01, -6.81374839e-01,\n",
       "       -5.27521305e-01, -8.17652120e-03,  3.28064960e-01, -1.08590939e+00,\n",
       "        6.16736872e-01, -1.24374879e-01, -1.89732246e-01, -5.67473477e-01,\n",
       "       -5.42684934e-01,  8.98105602e-01,  8.37511551e-01, -8.15655275e-01,\n",
       "       -1.57258516e+00,  4.45503486e-01,  2.83268037e+00,  1.24522520e-01,\n",
       "       -5.52587929e-01, -5.55599304e-02,  4.60095994e-01,  3.87760047e-02,\n",
       "       -2.21639800e-01, -3.79300762e-01,  4.59164495e-01,  3.64372506e-01,\n",
       "       -9.41954260e-01,  5.62045087e-01,  1.80064231e-02,  3.77662855e-01,\n",
       "        2.68168105e-01,  5.65577103e-01,  4.58916877e-01,  1.36000143e+00,\n",
       "       -4.22378436e-01, -1.81746699e+00, -2.98911599e-01,  1.78305422e-01,\n",
       "        7.05670651e-01, -1.00563797e+00, -1.04188301e-01,  1.55060724e-01,\n",
       "       -1.07271985e+00, -5.50447032e-01, -1.46945579e-01, -7.05465803e-01,\n",
       "        4.81749522e-01, -2.70985827e-01,  4.41974881e-02,  2.98258663e-01,\n",
       "        6.09989251e-01, -1.77001871e+00,  2.04499024e-01,  3.09961654e-01,\n",
       "        2.03980501e+00, -7.58756504e-01,  6.61968245e-01, -1.76856247e-01,\n",
       "       -6.45905514e-01, -6.54499600e-01,  1.66789010e-02,  1.33906190e-01,\n",
       "        1.88183169e-01,  1.12312904e+00,  1.05926635e+00, -1.31303381e+00,\n",
       "       -6.31754656e-01, -6.25245223e-01, -7.39291933e-01,  1.24803521e+00,\n",
       "       -8.96801371e-01, -1.20721409e+00,  9.44192831e-01,  4.24474035e-01,\n",
       "       -2.04179828e-01,  3.51110203e-01,  9.22413213e-01,  6.80759596e-01,\n",
       "       -2.63553924e+00,  1.01825579e-01,  1.99621734e+00,  2.71746240e-01,\n",
       "        1.48455023e-01, -4.16118707e-01,  2.07670402e+00, -1.30302424e+00,\n",
       "        7.44187896e-01, -8.23100976e-01,  8.62648429e-01,  6.57001171e-01,\n",
       "        5.56550813e-01,  1.41028162e-01,  8.24655516e-01, -6.10522136e-01,\n",
       "       -4.04104738e-01,  2.78948338e+00,  2.56097296e-01, -7.29137240e-01,\n",
       "        1.40132061e+00, -3.62164944e-01, -8.10180752e-01,  3.87158277e-01,\n",
       "       -1.66989259e+00,  1.93098885e-01,  1.46288915e+00,  6.74576090e-01,\n",
       "       -1.92063735e+00, -8.68471934e-01, -8.25520071e-02,  4.03003790e-01,\n",
       "        8.74070676e-01, -8.58169647e-01, -9.87149494e-01, -1.17710728e+00,\n",
       "        1.57420902e-01, -8.62292964e-01, -1.00704520e+00,  1.51840933e+00,\n",
       "       -1.31493453e+00, -9.69308245e-02, -2.06177636e+00,  2.02245018e+00,\n",
       "        1.24233738e+00,  1.03610169e+00,  1.36734527e+00,  7.89648352e-01,\n",
       "       -6.26775022e-01,  1.62480430e-01, -3.34672846e-03,  3.31625612e-01,\n",
       "        5.00157574e-01,  4.04962114e-01,  9.51915152e-01,  1.67592300e+00,\n",
       "       -1.00905575e+00,  5.61552096e-01, -1.47524886e+00,  3.94097643e-01,\n",
       "       -6.73463239e-01,  1.76459842e-01, -1.51711620e-01, -1.38321139e+00,\n",
       "       -8.75389935e-01,  1.07653370e+00,  7.43412893e-02, -8.29031609e-01,\n",
       "        7.17182722e-01,  2.42539205e+00, -1.28335425e-01,  6.11968096e-01,\n",
       "       -3.51137283e-01, -1.05077824e-01,  1.08399229e+00,  7.47246820e-02,\n",
       "       -1.02165328e+00, -1.09973171e+00, -7.14248841e-01,  2.60850875e+00,\n",
       "       -1.62378868e+00, -1.12148718e+00,  9.92102602e-01, -5.38570085e-02,\n",
       "       -1.94795908e-01, -7.46828575e-01, -1.80135825e-01,  4.97953478e-02,\n",
       "        1.39577231e+00,  1.69006584e+00, -1.29427360e-01,  1.11436672e+00,\n",
       "        3.47101406e-01,  6.84759004e-01, -8.21074517e-01,  4.27595767e-01,\n",
       "        6.99947677e-01,  1.88161554e+00, -1.15177245e+00,  2.70306872e-01,\n",
       "       -9.35849687e-01,  1.49214201e+00,  7.45152822e-01,  5.40007805e-01,\n",
       "       -1.44091294e+00, -1.28639825e-01, -1.19068356e+00,  9.70122704e-01,\n",
       "        1.50016975e-01,  9.15079677e-01, -1.24463015e+00, -1.32682112e+00,\n",
       "        2.72637175e+00,  8.86049191e-01, -2.42693971e-01, -7.62482300e-01,\n",
       "        1.81715106e-02, -1.13259688e+00, -1.26984542e+00,  1.19462265e-01,\n",
       "       -7.56266187e-01, -1.53684981e+00, -5.38296891e-01,  3.46124034e-01,\n",
       "       -4.90580822e-02, -7.25455727e-01,  8.10615203e-02, -3.17962213e-02,\n",
       "        5.63135563e-01,  9.86873043e-01, -9.27460412e-01,  7.26094956e-01,\n",
       "       -2.06205217e+00, -5.89565786e-01,  7.75326113e-01,  3.96693455e-01,\n",
       "       -6.98606980e-01, -4.20937999e-01, -3.29981350e-01,  8.33543547e-01,\n",
       "       -7.24154628e-01,  1.89106374e+00,  6.43090322e-01,  1.40191796e+00,\n",
       "        2.45982181e-01,  1.60231155e+00,  9.99245169e-01, -2.73819676e+00,\n",
       "       -6.33359195e-01,  9.47275418e-01, -1.89482062e-01,  1.82419552e+00,\n",
       "        5.06537449e-01,  1.71750532e+00, -9.07318390e-01, -1.82381276e+00,\n",
       "       -2.81190907e-01, -1.45326933e+00, -1.13516014e+00, -1.58189439e+00,\n",
       "        4.64251154e-02, -4.82168677e-02,  4.34758525e-01, -1.87571916e+00,\n",
       "       -6.17005971e-01, -3.11756640e-01, -4.45329274e-01,  2.15532395e+00,\n",
       "        1.46946118e+00, -9.36642272e-01, -2.23708986e-01, -6.51843295e-01,\n",
       "       -1.86926933e-01, -6.06498863e-01, -1.69135507e+00,  1.28456416e+00,\n",
       "        1.51006111e+00,  3.90821486e-01,  1.50170452e+00, -6.66278856e-01,\n",
       "        3.63398326e-01, -3.69265620e-01, -7.79878336e-01,  5.34820924e-01,\n",
       "        8.81691901e-01,  5.33472902e-02,  4.37660618e-01, -1.09032145e+00,\n",
       "       -9.63019418e-01,  4.34590228e-01,  1.29202768e-01,  1.32964495e-01,\n",
       "        1.62354124e+00,  3.83130584e-01,  5.24281695e-01,  3.09514576e-02,\n",
       "        6.98151341e-01, -1.15553370e+00, -5.28060486e-01,  5.22833311e-01,\n",
       "       -8.53271846e-01,  1.64394926e-01,  9.39155434e-01, -1.24124859e+00,\n",
       "        1.92732240e-02, -3.94407943e-01, -9.27161457e-01,  1.13343385e+00,\n",
       "       -2.22441302e+00,  3.02319969e-01,  1.16543209e-01, -4.26891884e-01,\n",
       "        4.63667653e-01, -1.08538622e+00, -2.23465682e-01,  9.83273329e-01,\n",
       "        6.22840116e-01,  2.19368341e+00,  4.27815915e-01, -1.37591274e+00,\n",
       "        6.60385535e-01,  2.51800270e+00, -3.81116530e-01, -8.57225517e-01,\n",
       "       -8.42733797e-02,  1.16714490e+00, -9.53906041e-01, -4.07867077e-01,\n",
       "       -3.15139585e-02,  5.05947292e-01, -8.96364442e-01,  6.75209083e-01,\n",
       "        2.10350113e-02, -1.49725794e+00, -4.15639445e-01, -2.57931392e-01,\n",
       "        1.01763305e+00,  1.27762644e+00,  1.49313282e+00,  6.78400433e-01,\n",
       "        1.44791323e-01, -7.15973070e-01, -1.27581030e+00, -1.21356324e+00,\n",
       "       -5.41955693e-01,  6.96421560e-01,  1.74824743e+00, -6.30635398e-01,\n",
       "        9.86965582e-02, -5.63809334e-01,  1.10172539e+00,  1.45152537e+00,\n",
       "       -4.51693381e-01, -8.54557224e-01, -1.52484210e+00, -6.42868442e-01,\n",
       "        8.90229057e-02, -3.17894122e-02, -4.16118455e-01,  1.33845845e+00,\n",
       "       -6.06702154e-01,  1.50547117e+00, -1.49642270e-01, -4.15882413e-01,\n",
       "        2.16227130e+00, -9.82025869e-01, -2.22999103e+00,  4.08651825e-01,\n",
       "        1.10992088e+00, -5.96947203e-01, -6.16551898e-01, -1.38611827e+00,\n",
       "       -9.47122579e-01, -9.52701805e-03,  1.29195502e+00, -8.34365263e-01,\n",
       "       -1.35442535e+00,  5.00745786e-01,  1.16393772e-01,  9.87651630e-01,\n",
       "        2.38973705e+00,  9.06979068e-02, -4.55049984e-02, -8.17863097e-01,\n",
       "       -5.46412708e-01,  1.16971629e+00, -2.61556564e-01,  1.45421552e+00,\n",
       "       -2.12577826e+00, -1.60067503e+00,  6.19991614e-01,  1.67860133e-01,\n",
       "       -6.27255023e-01, -4.53815393e-01,  3.73001739e-01, -1.83458012e-01,\n",
       "        3.77121446e-01,  1.36409084e+00,  7.51769747e-01,  8.58563816e-01,\n",
       "       -3.12690501e-02,  8.30453962e-02, -3.11954515e-01,  1.08442212e+00,\n",
       "        3.48100503e-01, -1.37171489e+00,  1.38347518e+00,  6.74592529e-02,\n",
       "       -1.08678331e-01, -9.51192572e-01,  1.04061361e+00,  4.50273289e-01,\n",
       "       -4.26613529e-01, -9.13267801e-01, -6.97410149e-02, -1.90343839e+00,\n",
       "       -1.19567528e+00,  6.23348089e-01, -1.11671444e+00,  2.47179584e-01,\n",
       "       -7.30285147e-01,  5.06408863e-01,  1.10177393e+00, -1.11940761e-01,\n",
       "        1.62314789e-01,  5.53847739e-02,  9.78846235e-01,  1.25408028e+00,\n",
       "       -5.27449731e-01,  6.02124795e-01,  7.50810946e-01,  5.75609007e-01,\n",
       "       -4.72870570e-01,  6.59397579e-02,  5.98376943e-01,  5.09760867e-01,\n",
       "        3.02895957e-01,  1.39745523e+00,  1.24827331e+00, -9.16643582e-01,\n",
       "       -5.69941959e-01,  4.32779799e-01, -2.28167912e-01,  1.83344708e-01,\n",
       "       -9.72585668e-01, -1.02981386e+00,  1.84806853e+00, -1.03719467e+00,\n",
       "        1.11864867e+00, -6.25979220e-01,  5.38433105e-01, -6.43241111e-01,\n",
       "       -3.49288366e-01, -4.25029956e-01,  4.01586569e-01, -7.14210084e-01,\n",
       "        1.66754800e+00, -1.56766390e+00,  2.22178875e-02, -1.05684448e+00,\n",
       "       -1.15052190e+00, -1.31004983e+00,  1.11687492e+00,  6.64996854e-01,\n",
       "        1.52659500e-01,  1.16152074e+00,  4.96392287e-01,  9.35622779e-03,\n",
       "       -1.75125674e-01, -2.52097028e-01,  3.36731758e-01,  9.74054186e-01,\n",
       "        1.13406324e+00, -8.05952455e-01, -5.32434342e-01, -1.14798701e-01,\n",
       "        3.51680197e-01, -1.30991230e+00, -6.21191152e-01,  2.13680625e+00,\n",
       "       -2.46511354e-01, -1.62960080e-01,  1.19414530e+00, -1.61655157e+00,\n",
       "       -7.25944237e-01,  4.36842064e-01,  1.11290926e+00,  6.18196358e-01,\n",
       "        7.58425593e-01,  1.12753538e+00, -8.59301839e-02, -1.06373284e+00,\n",
       "       -2.22796479e-01,  6.60560580e-01,  1.59452742e+00,  1.19056543e+00])"
      ]
     },
     "execution_count": 26,
     "metadata": {},
     "output_type": "execute_result"
    }
   ],
   "source": [
    "large_arr = randn(1000)\n",
    "large_arr"
   ]
  },
  {
   "cell_type": "code",
   "execution_count": 27,
   "id": "1452daad",
   "metadata": {},
   "outputs": [
    {
     "data": {
      "text/plain": [
       "array([-2.73819676e+00, -2.69764761e+00, -2.65046412e+00, -2.63553924e+00,\n",
       "       -2.39003909e+00, -2.38593927e+00, -2.31710635e+00, -2.24075893e+00,\n",
       "       -2.22999103e+00, -2.22441302e+00, -2.19824600e+00, -2.17849787e+00,\n",
       "       -2.15986399e+00, -2.12577826e+00, -2.10287400e+00, -2.06205217e+00,\n",
       "       -2.06187390e+00, -2.06177636e+00, -2.05726914e+00, -2.04580233e+00,\n",
       "       -1.94721952e+00, -1.92063735e+00, -1.90343839e+00, -1.88033650e+00,\n",
       "       -1.87571916e+00, -1.83417415e+00, -1.82381276e+00, -1.81746699e+00,\n",
       "       -1.79537415e+00, -1.77963765e+00, -1.77001871e+00, -1.75343071e+00,\n",
       "       -1.71628594e+00, -1.70849341e+00, -1.69135507e+00, -1.67312970e+00,\n",
       "       -1.66989259e+00, -1.62378868e+00, -1.61655157e+00, -1.60868239e+00,\n",
       "       -1.60808004e+00, -1.60067503e+00, -1.59852604e+00, -1.59322589e+00,\n",
       "       -1.58289290e+00, -1.58189439e+00, -1.58166599e+00, -1.57660831e+00,\n",
       "       -1.57258516e+00, -1.56766390e+00, -1.56590362e+00, -1.54967027e+00,\n",
       "       -1.54345219e+00, -1.53684981e+00, -1.53481419e+00, -1.52484210e+00,\n",
       "       -1.51751046e+00, -1.49725794e+00, -1.49034551e+00, -1.47524886e+00,\n",
       "       -1.45326933e+00, -1.44618207e+00, -1.44562011e+00, -1.44396461e+00,\n",
       "       -1.44091294e+00, -1.43879037e+00, -1.42891577e+00, -1.41847002e+00,\n",
       "       -1.39047586e+00, -1.38969866e+00, -1.38611827e+00, -1.38321139e+00,\n",
       "       -1.37591274e+00, -1.37171489e+00, -1.36265322e+00, -1.35442535e+00,\n",
       "       -1.34279577e+00, -1.33615142e+00, -1.32682112e+00, -1.31493453e+00,\n",
       "       -1.31303381e+00, -1.31004983e+00, -1.30991230e+00, -1.30302424e+00,\n",
       "       -1.29934989e+00, -1.29071649e+00, -1.28921432e+00, -1.28387781e+00,\n",
       "       -1.28340871e+00, -1.27954099e+00, -1.27752850e+00, -1.27581030e+00,\n",
       "       -1.27332281e+00, -1.26984542e+00, -1.26643530e+00, -1.24463015e+00,\n",
       "       -1.24433169e+00, -1.24144818e+00, -1.24124859e+00, -1.23827585e+00,\n",
       "       -1.22047240e+00, -1.22047046e+00, -1.21877297e+00, -1.21356324e+00,\n",
       "       -1.21027245e+00, -1.20721409e+00, -1.19567528e+00, -1.19506259e+00,\n",
       "       -1.19068356e+00, -1.17944361e+00, -1.17710728e+00, -1.17166352e+00,\n",
       "       -1.16991008e+00, -1.16972236e+00, -1.16967021e+00, -1.15553370e+00,\n",
       "       -1.15177245e+00, -1.15052190e+00, -1.15039234e+00, -1.14256496e+00,\n",
       "       -1.13990970e+00, -1.13576239e+00, -1.13516014e+00, -1.13316715e+00,\n",
       "       -1.13259688e+00, -1.12148718e+00, -1.11671444e+00, -1.10339876e+00,\n",
       "       -1.09973171e+00, -1.09765437e+00, -1.09032145e+00, -1.08590939e+00,\n",
       "       -1.08538622e+00, -1.07855992e+00, -1.07271985e+00, -1.06373284e+00,\n",
       "       -1.05884270e+00, -1.05684448e+00, -1.04482868e+00, -1.03719467e+00,\n",
       "       -1.03041390e+00, -1.02981386e+00, -1.02764108e+00, -1.02750558e+00,\n",
       "       -1.02165328e+00, -1.01257074e+00, -1.00905575e+00, -1.00704520e+00,\n",
       "       -1.00563797e+00, -9.87149494e-01, -9.82025869e-01, -9.72585668e-01,\n",
       "       -9.71757450e-01, -9.69950735e-01, -9.68796753e-01, -9.63019418e-01,\n",
       "       -9.54251801e-01, -9.53906041e-01, -9.51192572e-01, -9.50656298e-01,\n",
       "       -9.47122579e-01, -9.46527106e-01, -9.42466212e-01, -9.41954260e-01,\n",
       "       -9.37735259e-01, -9.36642272e-01, -9.36358230e-01, -9.35849687e-01,\n",
       "       -9.32026284e-01, -9.31720702e-01, -9.27487228e-01, -9.27460412e-01,\n",
       "       -9.27161457e-01, -9.18980577e-01, -9.16643582e-01, -9.13389294e-01,\n",
       "       -9.13267801e-01, -9.11775349e-01, -9.07318390e-01, -9.04808755e-01,\n",
       "       -9.01294994e-01, -8.99268916e-01, -8.96801371e-01, -8.96364442e-01,\n",
       "       -8.80049648e-01, -8.75389935e-01, -8.71087671e-01, -8.68471934e-01,\n",
       "       -8.63265787e-01, -8.62292964e-01, -8.60652479e-01, -8.58169647e-01,\n",
       "       -8.57225517e-01, -8.54557224e-01, -8.53271846e-01, -8.53181042e-01,\n",
       "       -8.45564925e-01, -8.43006770e-01, -8.42103769e-01, -8.34365263e-01,\n",
       "       -8.33517099e-01, -8.29031609e-01, -8.27356546e-01, -8.23100976e-01,\n",
       "       -8.21074517e-01, -8.17863097e-01, -8.15655275e-01, -8.13639295e-01,\n",
       "       -8.10180752e-01, -8.09700424e-01, -8.05952455e-01, -8.05104455e-01,\n",
       "       -7.97209234e-01, -7.85531916e-01, -7.79878336e-01, -7.74054713e-01,\n",
       "       -7.70112948e-01, -7.62880004e-01, -7.62482300e-01, -7.58756504e-01,\n",
       "       -7.56266187e-01, -7.50231458e-01, -7.46828575e-01, -7.41062853e-01,\n",
       "       -7.39291933e-01, -7.35455365e-01, -7.30285147e-01, -7.29703338e-01,\n",
       "       -7.29137240e-01, -7.25944237e-01, -7.25455727e-01, -7.24154628e-01,\n",
       "       -7.15973070e-01, -7.14248841e-01, -7.14210084e-01, -7.13032344e-01,\n",
       "       -7.06272789e-01, -7.05465803e-01, -6.98606980e-01, -6.87696628e-01,\n",
       "       -6.81374839e-01, -6.73463239e-01, -6.66278856e-01, -6.63400178e-01,\n",
       "       -6.57733974e-01, -6.54499600e-01, -6.51843295e-01, -6.50256002e-01,\n",
       "       -6.45905514e-01, -6.43241111e-01, -6.42868442e-01, -6.41895886e-01,\n",
       "       -6.41648501e-01, -6.37304362e-01, -6.33359195e-01, -6.31754656e-01,\n",
       "       -6.30635398e-01, -6.29666631e-01, -6.29532910e-01, -6.27255023e-01,\n",
       "       -6.26775022e-01, -6.25979220e-01, -6.25245223e-01, -6.21191152e-01,\n",
       "       -6.17005971e-01, -6.16551898e-01, -6.14669393e-01, -6.10522136e-01,\n",
       "       -6.06702154e-01, -6.06498863e-01, -6.04736466e-01, -5.96947203e-01,\n",
       "       -5.92150950e-01, -5.89565786e-01, -5.88182892e-01, -5.78576236e-01,\n",
       "       -5.71860533e-01, -5.69941959e-01, -5.67473477e-01, -5.63809334e-01,\n",
       "       -5.63732589e-01, -5.54178734e-01, -5.52587929e-01, -5.50447032e-01,\n",
       "       -5.46412708e-01, -5.42684934e-01, -5.42334681e-01, -5.41955693e-01,\n",
       "       -5.38296891e-01, -5.32434342e-01, -5.28060486e-01, -5.27521305e-01,\n",
       "       -5.27449731e-01, -5.22870016e-01, -5.20894901e-01, -5.16681258e-01,\n",
       "       -5.01390744e-01, -4.83341144e-01, -4.81570252e-01, -4.72870570e-01,\n",
       "       -4.72137885e-01, -4.69572118e-01, -4.64718012e-01, -4.61126074e-01,\n",
       "       -4.53815393e-01, -4.53018313e-01, -4.51693381e-01, -4.50301287e-01,\n",
       "       -4.49764222e-01, -4.46454448e-01, -4.45329274e-01, -4.45171425e-01,\n",
       "       -4.41273374e-01, -4.39903224e-01, -4.26891884e-01, -4.26613529e-01,\n",
       "       -4.25370166e-01, -4.25029956e-01, -4.24266857e-01, -4.23683928e-01,\n",
       "       -4.22378436e-01, -4.21959902e-01, -4.20937999e-01, -4.17481462e-01,\n",
       "       -4.16547071e-01, -4.16118707e-01, -4.16118455e-01, -4.15882413e-01,\n",
       "       -4.15639445e-01, -4.13417260e-01, -4.07867077e-01, -4.04104738e-01,\n",
       "       -3.94407943e-01, -3.94323235e-01, -3.92270249e-01, -3.91385769e-01,\n",
       "       -3.90742710e-01, -3.81615860e-01, -3.81116530e-01, -3.79443927e-01,\n",
       "       -3.79300762e-01, -3.78145799e-01, -3.71541883e-01, -3.71534800e-01,\n",
       "       -3.69265620e-01, -3.62164944e-01, -3.57472404e-01, -3.56030845e-01,\n",
       "       -3.51137283e-01, -3.49288366e-01, -3.36139817e-01, -3.36041414e-01,\n",
       "       -3.31022905e-01, -3.29981350e-01, -3.29575267e-01, -3.19976217e-01,\n",
       "       -3.14338898e-01, -3.11954515e-01, -3.11756640e-01, -3.10729264e-01,\n",
       "       -3.09580655e-01, -3.09225851e-01, -3.02986359e-01, -2.99230522e-01,\n",
       "       -2.98911599e-01, -2.91654725e-01, -2.87604056e-01, -2.83659891e-01,\n",
       "       -2.81190907e-01, -2.76383864e-01, -2.71268397e-01, -2.70985827e-01,\n",
       "       -2.70257422e-01, -2.69904634e-01, -2.66096329e-01, -2.64138361e-01,\n",
       "       -2.63958139e-01, -2.61556564e-01, -2.57931392e-01, -2.52097028e-01,\n",
       "       -2.51795560e-01, -2.51620621e-01, -2.49976107e-01, -2.49945472e-01,\n",
       "       -2.46511354e-01, -2.42693971e-01, -2.40954093e-01, -2.40112926e-01,\n",
       "       -2.37879366e-01, -2.28167912e-01, -2.26779608e-01, -2.23708986e-01,\n",
       "       -2.23465682e-01, -2.22796479e-01, -2.21639800e-01, -2.15684730e-01,\n",
       "       -2.06923494e-01, -2.06402329e-01, -2.06029162e-01, -2.05503826e-01,\n",
       "       -2.04179828e-01, -2.03309336e-01, -1.99078501e-01, -1.95534443e-01,\n",
       "       -1.94974628e-01, -1.94795908e-01, -1.93722891e-01, -1.92817002e-01,\n",
       "       -1.89732246e-01, -1.89482062e-01, -1.86926933e-01, -1.83458012e-01,\n",
       "       -1.80135825e-01, -1.76856247e-01, -1.75125674e-01, -1.65342720e-01,\n",
       "       -1.62960080e-01, -1.61537835e-01, -1.56070271e-01, -1.52824103e-01,\n",
       "       -1.51711620e-01, -1.49642270e-01, -1.46945579e-01, -1.34403521e-01,\n",
       "       -1.29427360e-01, -1.28639825e-01, -1.28335425e-01, -1.24374879e-01,\n",
       "       -1.22141060e-01, -1.21967744e-01, -1.19720288e-01, -1.17714715e-01,\n",
       "       -1.14798701e-01, -1.14653391e-01, -1.14065233e-01, -1.11940761e-01,\n",
       "       -1.08678331e-01, -1.07343727e-01, -1.05077824e-01, -1.04188301e-01,\n",
       "       -9.93824091e-02, -9.80050865e-02, -9.69308245e-02, -9.02515469e-02,\n",
       "       -8.93143898e-02, -8.59301839e-02, -8.49246897e-02, -8.42733797e-02,\n",
       "       -8.25520071e-02, -8.00959391e-02, -6.97410149e-02, -6.32117083e-02,\n",
       "       -6.13134477e-02, -5.55599304e-02, -5.44939787e-02, -5.38668832e-02,\n",
       "       -5.38570085e-02, -5.36678456e-02, -5.32913250e-02, -5.15618760e-02,\n",
       "       -4.94109456e-02, -4.90580822e-02, -4.82168677e-02, -4.55049984e-02,\n",
       "       -4.43899863e-02, -4.12783870e-02, -3.86360571e-02, -3.37453527e-02,\n",
       "       -3.17962213e-02, -3.17894122e-02, -3.15139585e-02, -3.12690501e-02,\n",
       "       -1.69572360e-02, -1.52479713e-02, -1.27551342e-02, -9.52701805e-03,\n",
       "       -8.17652120e-03, -3.34672846e-03, -1.05130102e-03, -9.19530833e-05,\n",
       "        7.55672391e-03,  8.49165043e-03,  9.35622779e-03,  1.21184590e-02,\n",
       "        1.41141796e-02,  1.45246854e-02,  1.64713815e-02,  1.66789010e-02,\n",
       "        1.80064231e-02,  1.81715106e-02,  1.92732240e-02,  2.00638872e-02,\n",
       "        2.10350113e-02,  2.22178875e-02,  2.47119682e-02,  2.71001425e-02,\n",
       "        3.00040732e-02,  3.09514576e-02,  3.51544368e-02,  3.58031899e-02,\n",
       "        3.87760047e-02,  4.41974881e-02,  4.60097912e-02,  4.64251154e-02,\n",
       "        4.97953478e-02,  5.33472902e-02,  5.34079698e-02,  5.44376470e-02,\n",
       "        5.53847739e-02,  5.61620691e-02,  5.91225084e-02,  6.59397579e-02,\n",
       "        6.70349791e-02,  6.74592529e-02,  7.37628435e-02,  7.43412893e-02,\n",
       "        7.47246820e-02,  7.58173875e-02,  8.10615203e-02,  8.30453962e-02,\n",
       "        8.90229057e-02,  8.95524038e-02,  9.02349859e-02,  9.06979068e-02,\n",
       "        9.11541045e-02,  9.70608702e-02,  9.76529142e-02,  9.86965582e-02,\n",
       "        1.01469722e-01,  1.01825579e-01,  1.03724286e-01,  1.04080554e-01,\n",
       "        1.07116815e-01,  1.11173366e-01,  1.16393772e-01,  1.16543209e-01,\n",
       "        1.19462265e-01,  1.20515292e-01,  1.21062993e-01,  1.21616724e-01,\n",
       "        1.24522520e-01,  1.29202768e-01,  1.30822060e-01,  1.32364132e-01,\n",
       "        1.32964495e-01,  1.33906190e-01,  1.40118978e-01,  1.41028162e-01,\n",
       "        1.44409225e-01,  1.44791323e-01,  1.46958909e-01,  1.47894435e-01,\n",
       "        1.48455023e-01,  1.50016975e-01,  1.52659500e-01,  1.54355240e-01,\n",
       "        1.54604382e-01,  1.55060724e-01,  1.56421166e-01,  1.57420902e-01,\n",
       "        1.58704259e-01,  1.62314789e-01,  1.62480430e-01,  1.64394926e-01,\n",
       "        1.65689582e-01,  1.66483682e-01,  1.67649395e-01,  1.67860133e-01,\n",
       "        1.75137206e-01,  1.76459842e-01,  1.78305422e-01,  1.78320930e-01,\n",
       "        1.81220776e-01,  1.82652410e-01,  1.83344708e-01,  1.83530317e-01,\n",
       "        1.85041999e-01,  1.88183169e-01,  1.93098885e-01,  1.94054473e-01,\n",
       "        1.94884543e-01,  1.97689501e-01,  2.02344771e-01,  2.04499024e-01,\n",
       "        2.07177187e-01,  2.16653248e-01,  2.18992883e-01,  2.26742754e-01,\n",
       "        2.27761619e-01,  2.27966825e-01,  2.40326737e-01,  2.45797537e-01,\n",
       "        2.45982181e-01,  2.47179584e-01,  2.54841662e-01,  2.56097296e-01,\n",
       "        2.57113207e-01,  2.58320391e-01,  2.60662455e-01,  2.64408956e-01,\n",
       "        2.65951787e-01,  2.68168105e-01,  2.70306872e-01,  2.70472793e-01,\n",
       "        2.71746240e-01,  2.72152519e-01,  2.78119206e-01,  2.78678675e-01,\n",
       "        2.80737458e-01,  2.88366931e-01,  2.88971951e-01,  2.94399430e-01,\n",
       "        2.98258663e-01,  2.98275793e-01,  3.00149906e-01,  3.02319969e-01,\n",
       "        3.02895957e-01,  3.04887348e-01,  3.09961654e-01,  3.14958734e-01,\n",
       "        3.19967917e-01,  3.24766712e-01,  3.28064960e-01,  3.29036687e-01,\n",
       "        3.31037469e-01,  3.31345124e-01,  3.31625612e-01,  3.36731758e-01,\n",
       "        3.37335500e-01,  3.38346462e-01,  3.44301910e-01,  3.45202752e-01,\n",
       "        3.46124034e-01,  3.47101406e-01,  3.48100503e-01,  3.51110203e-01,\n",
       "        3.51680197e-01,  3.54673969e-01,  3.63398326e-01,  3.64372506e-01,\n",
       "        3.71814064e-01,  3.73001739e-01,  3.77121446e-01,  3.77662855e-01,\n",
       "        3.78404780e-01,  3.83130584e-01,  3.84578835e-01,  3.86373500e-01,\n",
       "        3.87158277e-01,  3.89909183e-01,  3.90622836e-01,  3.90821486e-01,\n",
       "        3.94049658e-01,  3.94097643e-01,  3.96693455e-01,  4.01586569e-01,\n",
       "        4.03003790e-01,  4.04962114e-01,  4.07946063e-01,  4.08651825e-01,\n",
       "        4.10044181e-01,  4.10623031e-01,  4.11645107e-01,  4.14198583e-01,\n",
       "        4.15576315e-01,  4.22150099e-01,  4.24474035e-01,  4.26786261e-01,\n",
       "        4.27595767e-01,  4.27815915e-01,  4.29839184e-01,  4.32705513e-01,\n",
       "        4.32779799e-01,  4.34590228e-01,  4.34758525e-01,  4.36842064e-01,\n",
       "        4.37201136e-01,  4.37660618e-01,  4.45503486e-01,  4.50273289e-01,\n",
       "        4.58916877e-01,  4.59164495e-01,  4.60095994e-01,  4.63277069e-01,\n",
       "        4.63667653e-01,  4.67770725e-01,  4.77230794e-01,  4.81749522e-01,\n",
       "        4.87278141e-01,  4.90566350e-01,  4.96392287e-01,  5.00157574e-01,\n",
       "        5.00745786e-01,  5.05947292e-01,  5.06408863e-01,  5.06537449e-01,\n",
       "        5.08797724e-01,  5.09760867e-01,  5.20804890e-01,  5.22740189e-01,\n",
       "        5.22833311e-01,  5.24281695e-01,  5.27329608e-01,  5.30139700e-01,\n",
       "        5.33785190e-01,  5.34820924e-01,  5.38433105e-01,  5.40007805e-01,\n",
       "        5.41294146e-01,  5.43079561e-01,  5.52154558e-01,  5.56049998e-01,\n",
       "        5.56550813e-01,  5.56584001e-01,  5.56922453e-01,  5.61137763e-01,\n",
       "        5.61552096e-01,  5.62045087e-01,  5.63135563e-01,  5.65577103e-01,\n",
       "        5.67303603e-01,  5.71995295e-01,  5.73165840e-01,  5.75609007e-01,\n",
       "        5.80466876e-01,  5.81927708e-01,  5.86304055e-01,  5.91748075e-01,\n",
       "        5.96141386e-01,  5.98376943e-01,  6.02124795e-01,  6.09989251e-01,\n",
       "        6.10043106e-01,  6.11968096e-01,  6.16736872e-01,  6.18196358e-01,\n",
       "        6.19991614e-01,  6.21589964e-01,  6.22840116e-01,  6.23348089e-01,\n",
       "        6.28843570e-01,  6.29824146e-01,  6.36037816e-01,  6.43090322e-01,\n",
       "        6.49713117e-01,  6.51973871e-01,  6.54361946e-01,  6.57001171e-01,\n",
       "        6.57133789e-01,  6.60385535e-01,  6.60560580e-01,  6.61968245e-01,\n",
       "        6.64996854e-01,  6.73057009e-01,  6.73326969e-01,  6.73982143e-01,\n",
       "        6.74576090e-01,  6.75209083e-01,  6.78400433e-01,  6.80759596e-01,\n",
       "        6.84759004e-01,  6.87606401e-01,  6.87705210e-01,  6.92280389e-01,\n",
       "        6.93574225e-01,  6.96421560e-01,  6.98151341e-01,  6.99947677e-01,\n",
       "        7.05670651e-01,  7.12713969e-01,  7.14101982e-01,  7.17182722e-01,\n",
       "        7.23479849e-01,  7.26094956e-01,  7.42152671e-01,  7.43807549e-01,\n",
       "        7.44187896e-01,  7.45152822e-01,  7.47313842e-01,  7.48413838e-01,\n",
       "        7.48962234e-01,  7.49234705e-01,  7.50810946e-01,  7.51769747e-01,\n",
       "        7.58425593e-01,  7.75326113e-01,  7.86294062e-01,  7.89648352e-01,\n",
       "        7.98043964e-01,  8.10432835e-01,  8.14227659e-01,  8.17130494e-01,\n",
       "        8.19757068e-01,  8.24526928e-01,  8.24655516e-01,  8.28911572e-01,\n",
       "        8.30720536e-01,  8.31153387e-01,  8.31578605e-01,  8.32164909e-01,\n",
       "        8.33543547e-01,  8.36624792e-01,  8.37188183e-01,  8.37511551e-01,\n",
       "        8.38807944e-01,  8.54507940e-01,  8.57391699e-01,  8.57942863e-01,\n",
       "        8.58563816e-01,  8.62648429e-01,  8.74070676e-01,  8.80388380e-01,\n",
       "        8.81691901e-01,  8.85054455e-01,  8.86049191e-01,  8.88676053e-01,\n",
       "        8.96462095e-01,  8.96701477e-01,  8.98105602e-01,  9.02854753e-01,\n",
       "        9.04722686e-01,  9.06608192e-01,  9.09526088e-01,  9.15079677e-01,\n",
       "        9.19606462e-01,  9.21537074e-01,  9.22413213e-01,  9.25716393e-01,\n",
       "        9.32293035e-01,  9.39140273e-01,  9.39155434e-01,  9.44192831e-01,\n",
       "        9.47275418e-01,  9.48110183e-01,  9.51915152e-01,  9.52155460e-01,\n",
       "        9.53447622e-01,  9.57023721e-01,  9.70122704e-01,  9.74054186e-01,\n",
       "        9.78846235e-01,  9.82841518e-01,  9.83273329e-01,  9.86873043e-01,\n",
       "        9.87406494e-01,  9.87651630e-01,  9.92102602e-01,  9.93446240e-01,\n",
       "        9.93782433e-01,  9.95980293e-01,  9.99245169e-01,  1.00550201e+00,\n",
       "        1.01183619e+00,  1.01284104e+00,  1.01763305e+00,  1.02692609e+00,\n",
       "        1.02745799e+00,  1.03610169e+00,  1.04061361e+00,  1.04257952e+00,\n",
       "        1.04886974e+00,  1.05149616e+00,  1.05926635e+00,  1.06224584e+00,\n",
       "        1.07057147e+00,  1.07395903e+00,  1.07653370e+00,  1.08399229e+00,\n",
       "        1.08442212e+00,  1.10172539e+00,  1.10177393e+00,  1.10762966e+00,\n",
       "        1.10992088e+00,  1.11290926e+00,  1.11436672e+00,  1.11687492e+00,\n",
       "        1.11864867e+00,  1.12312904e+00,  1.12753538e+00,  1.12953323e+00,\n",
       "        1.13202479e+00,  1.13343385e+00,  1.13406324e+00,  1.16152074e+00,\n",
       "        1.16714490e+00,  1.16971629e+00,  1.17575637e+00,  1.18039703e+00,\n",
       "        1.19056543e+00,  1.19414530e+00,  1.19544128e+00,  1.19667114e+00,\n",
       "        1.19733234e+00,  1.20938192e+00,  1.22454634e+00,  1.22976460e+00,\n",
       "        1.23239155e+00,  1.24233738e+00,  1.24803521e+00,  1.24827331e+00,\n",
       "        1.25408028e+00,  1.25604608e+00,  1.26814869e+00,  1.27762644e+00,\n",
       "        1.28456416e+00,  1.29150830e+00,  1.29195502e+00,  1.29270085e+00,\n",
       "        1.30310241e+00,  1.31480920e+00,  1.32440905e+00,  1.32726043e+00,\n",
       "        1.33845845e+00,  1.33861521e+00,  1.36000143e+00,  1.36409084e+00,\n",
       "        1.36734527e+00,  1.37496306e+00,  1.38347518e+00,  1.39179959e+00,\n",
       "        1.39577231e+00,  1.39745523e+00,  1.40132061e+00,  1.40191796e+00,\n",
       "        1.42477540e+00,  1.43412232e+00,  1.43477947e+00,  1.43731041e+00,\n",
       "        1.45152537e+00,  1.45421552e+00,  1.46288915e+00,  1.46946118e+00,\n",
       "        1.47253229e+00,  1.48850728e+00,  1.49214201e+00,  1.49313282e+00,\n",
       "        1.49346660e+00,  1.49909648e+00,  1.50170452e+00,  1.50547117e+00,\n",
       "        1.51006111e+00,  1.51840933e+00,  1.53685103e+00,  1.53792839e+00,\n",
       "        1.58121183e+00,  1.59452742e+00,  1.59637525e+00,  1.60231155e+00,\n",
       "        1.62354124e+00,  1.62539130e+00,  1.64295776e+00,  1.66754800e+00,\n",
       "        1.66991339e+00,  1.67335879e+00,  1.67592300e+00,  1.68868382e+00,\n",
       "        1.69006584e+00,  1.71062208e+00,  1.71436633e+00,  1.71750532e+00,\n",
       "        1.72082257e+00,  1.74291534e+00,  1.74824743e+00,  1.75230516e+00,\n",
       "        1.75369991e+00,  1.76193303e+00,  1.77431569e+00,  1.78775688e+00,\n",
       "        1.82419552e+00,  1.83062275e+00,  1.83485063e+00,  1.84806853e+00,\n",
       "        1.88161554e+00,  1.88571791e+00,  1.89106374e+00,  1.99621734e+00,\n",
       "        2.02245018e+00,  2.03980501e+00,  2.06631410e+00,  2.07670402e+00,\n",
       "        2.13680625e+00,  2.15532395e+00,  2.16227130e+00,  2.19368341e+00,\n",
       "        2.19787278e+00,  2.33357161e+00,  2.38973705e+00,  2.41532430e+00,\n",
       "        2.42539205e+00,  2.44786614e+00,  2.49164242e+00,  2.51800270e+00,\n",
       "        2.58924040e+00,  2.60850875e+00,  2.62043079e+00,  2.72637175e+00,\n",
       "        2.78948338e+00,  2.80835064e+00,  2.83268037e+00,  2.84332029e+00])"
      ]
     },
     "execution_count": 27,
     "metadata": {},
     "output_type": "execute_result"
    }
   ],
   "source": [
    "large_arr.sort()\n",
    "large_arr"
   ]
  },
  {
   "cell_type": "code",
   "execution_count": 28,
   "id": "97ca39d2",
   "metadata": {},
   "outputs": [
    {
     "data": {
      "text/plain": [
       "-1.565903622153377"
      ]
     },
     "execution_count": 28,
     "metadata": {},
     "output_type": "execute_result"
    }
   ],
   "source": [
    "large_arr[int(0.05 * len(large_arr))]   # 상위 5% quantile"
   ]
  },
  {
   "cell_type": "markdown",
   "id": "88388c6d",
   "metadata": {},
   "source": [
    "### Unique and other set logic\n",
    ">집합 함수"
   ]
  },
  {
   "cell_type": "code",
   "execution_count": 29,
   "id": "93ccd4f9",
   "metadata": {},
   "outputs": [
    {
     "data": {
      "text/plain": [
       "array(['Bob', 'Joe', 'Will', 'Bob', 'Will', 'Joe', 'Joe'], dtype='<U4')"
      ]
     },
     "execution_count": 29,
     "metadata": {},
     "output_type": "execute_result"
    }
   ],
   "source": [
    "names = np.array(['Bob', 'Joe', 'Will', 'Bob', 'Will', 'Joe', 'Joe'])\n",
    "names"
   ]
  },
  {
   "cell_type": "code",
   "execution_count": 30,
   "id": "1e4e2747",
   "metadata": {},
   "outputs": [
    {
     "data": {
      "text/plain": [
       "array(['Bob', 'Joe', 'Will'], dtype='<U4')"
      ]
     },
     "execution_count": 30,
     "metadata": {},
     "output_type": "execute_result"
    }
   ],
   "source": [
    "np.unique(names)"
   ]
  },
  {
   "cell_type": "code",
   "execution_count": 31,
   "id": "d41e0c92",
   "metadata": {},
   "outputs": [],
   "source": [
    "ints = np.array([3,3,3,2,2,1,1,4,4])"
   ]
  },
  {
   "cell_type": "code",
   "execution_count": 32,
   "id": "1807c6cc",
   "metadata": {},
   "outputs": [
    {
     "data": {
      "text/plain": [
       "array([1, 2, 3, 4])"
      ]
     },
     "execution_count": 32,
     "metadata": {},
     "output_type": "execute_result"
    }
   ],
   "source": [
    "np.unique(ints)"
   ]
  },
  {
   "cell_type": "code",
   "execution_count": 33,
   "id": "21c6ae91",
   "metadata": {},
   "outputs": [
    {
     "data": {
      "text/plain": [
       "['Bob', 'Joe', 'Will']"
      ]
     },
     "execution_count": 33,
     "metadata": {},
     "output_type": "execute_result"
    }
   ],
   "source": [
    "sorted(set(names))"
   ]
  },
  {
   "cell_type": "code",
   "execution_count": 34,
   "id": "8f5286cc",
   "metadata": {},
   "outputs": [
    {
     "data": {
      "text/plain": [
       "array([6, 0, 0, 3, 2, 5, 6])"
      ]
     },
     "execution_count": 34,
     "metadata": {},
     "output_type": "execute_result"
    }
   ],
   "source": [
    "values = np.array([6,0,0,3,2,5,6])\n",
    "values"
   ]
  },
  {
   "cell_type": "code",
   "execution_count": 35,
   "id": "3329491c",
   "metadata": {},
   "outputs": [
    {
     "data": {
      "text/plain": [
       "array([ True, False, False,  True,  True, False,  True])"
      ]
     },
     "execution_count": 35,
     "metadata": {},
     "output_type": "execute_result"
    }
   ],
   "source": [
    "np.in1d(values,[2,3,6])"
   ]
  },
  {
   "cell_type": "code",
   "execution_count": null,
   "id": "5c5a75a9",
   "metadata": {},
   "outputs": [],
   "source": []
  }
 ],
 "metadata": {
  "kernelspec": {
   "display_name": "Python 3 (ipykernel)",
   "language": "python",
   "name": "python3"
  },
  "language_info": {
   "codemirror_mode": {
    "name": "ipython",
    "version": 3
   },
   "file_extension": ".py",
   "mimetype": "text/x-python",
   "name": "python",
   "nbconvert_exporter": "python",
   "pygments_lexer": "ipython3",
   "version": "3.9.12"
  }
 },
 "nbformat": 4,
 "nbformat_minor": 5
}
