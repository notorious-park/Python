{
 "cells": [
  {
   "cell_type": "markdown",
   "id": "af45eae1",
   "metadata": {},
   "source": [
    "# 크롤러 만들기\n",
    ">TextBook. 6장 데이터 수집\n",
    "\n",
    "- 웹 크롤러 이해\n",
    "- urllib 패키지, BeautifulSoup 패키지 이해 및 활용"
   ]
  },
  {
   "cell_type": "markdown",
   "id": "579db4c8",
   "metadata": {},
   "source": [
    "### urllib, BeautifulSoup"
   ]
  },
  {
   "cell_type": "code",
   "execution_count": 1,
   "id": "c8b442ff",
   "metadata": {},
   "outputs": [],
   "source": [
    "from urllib.request import urlopen\n",
    "from bs4 import BeautifulSoup"
   ]
  },
  {
   "cell_type": "code",
   "execution_count": 2,
   "id": "98c2b5c4",
   "metadata": {},
   "outputs": [
    {
     "name": "stdout",
     "output_type": "stream",
     "text": [
      "<strong class=\"title elss\">국내 대표 경차 '2023년형 모닝' 출시…1220만원부터</strong>\n",
      "<strong class=\"title elss\">BMW, 소형 딱지 떼고 등장한 3세대 X1..전기차 주행거리는 438㎞</strong>\n"
     ]
    }
   ],
   "source": [
    "with urlopen('http://naver.com') as response:\n",
    "    html = response.read()\n",
    "    bs = BeautifulSoup(html, 'html.parser')\n",
    "    \n",
    "    for element in bs.find_all(attrs={'class':'title elss'})[0:2]:\n",
    "        print(element)"
   ]
  },
  {
   "cell_type": "code",
   "execution_count": 3,
   "id": "3fec157f",
   "metadata": {},
   "outputs": [
    {
     "name": "stdout",
     "output_type": "stream",
     "text": [
      "<div id=\"veta_top\"> <div id=\"veta_top_inner\" style=\"height:135px\"> </div> <span class=\"veta_bd_t\"></span> <span class=\"veta_bd_b\"></span> <span class=\"veta_bd_l\"></span> <span class=\"veta_bd_r\"></span> </div>\n"
     ]
    }
   ],
   "source": [
    "with urlopen('http://naver.com') as response:\n",
    "    html = response.read()\n",
    "    bs = BeautifulSoup(html, 'html.parser')\n",
    "    \n",
    "    for element in bs.find_all(id='veta_top')[0:2]:\n",
    "        print(element)"
   ]
  },
  {
   "cell_type": "code",
   "execution_count": 4,
   "id": "b5eb58b4",
   "metadata": {},
   "outputs": [
    {
     "name": "stdout",
     "output_type": "stream",
     "text": [
      "<div id=\"veta_top\"> <div id=\"veta_top_inner\" style=\"height:135px\"> </div> <span class=\"veta_bd_t\"></span> <span class=\"veta_bd_b\"></span> <span class=\"veta_bd_l\"></span> <span class=\"veta_bd_r\"></span> </div>\n",
      "----------------------------------------------------------------------------------------------------\n",
      "<strong class=\"title elss\">최소 공간 최대 수납, 드레스룸</strong>\n",
      "<strong class=\"title elss\">집 안 곳곳 반려견을 위한 설계, 애정이 가득한 단독주택 </strong>\n"
     ]
    }
   ],
   "source": [
    "with urlopen('http://naver.com') as response:\n",
    "    html = response.read()\n",
    "    bs = BeautifulSoup(html, 'html.parser')\n",
    "    \n",
    "    for element in bs.find_all(id='veta_top')[0:2]:\n",
    "        print(element)\n",
    "    \n",
    "    print('-'*100)\n",
    "    for element in bs.find_all(attrs = {'class' : 'title elss'})[0:2]:\n",
    "        print(element)"
   ]
  },
  {
   "cell_type": "code",
   "execution_count": 6,
   "id": "8efbe04e",
   "metadata": {},
   "outputs": [
    {
     "name": "stdout",
     "output_type": "stream",
     "text": [
      "[<a href=\"#newsstand\"><span>뉴스스탠드 바로가기</span></a>, <a href=\"#themecast\"><span>주제별캐스트 바로가기</span></a>, <a href=\"#timesquare\"><span>타임스퀘어 바로가기</span></a>, <a href=\"#shopcast\"><span>쇼핑캐스트 바로가기</span></a>, <a href=\"#account\"><span>로그인 바로가기</span></a>, <a class=\"_3h-N8T9V\" data-clk=\"dropbanner1a\" href=\"https://whale.naver.com/banner/details/security/?=main&amp;wpid=RydDy7\"></a>, <a class=\"_2aeXMlrb BMgpjddw\" data-clk=\"dropdownload1a\" href=\"https://installer-whale.pstatic.net/downloads/banner/RydDy7/WhaleSetup.exe\" id=\"NM_whale_download_btn\"><span style=\"background-color: #94a0a9\">다운로드</span></a>, <a class=\"link_set\" data-clk=\"top.mkhome\" href=\"https://help.naver.com/support/welcomePage/guide.help\" id=\"NM_set_home_btn\">네이버를 시작페이지로</a>, <a class=\"link_jrnaver\" data-clk=\"top.jrnaver\" href=\"https://jr.naver.com\"><i class=\"ico_jrnaver\"></i><span class=\"blind\">쥬니어네이버</span></a>, <a class=\"link_happybin\" data-clk=\"top.happybean\" href=\"https://happybean.naver.com\"><i class=\"ico_happybin\"></i><span class=\"blind\">해피빈</span></a>, <a class=\"btn_keyboard\" href=\"#\" id=\"ke_kbd_btn\" onclick=\"return false;\" role=\"button\"><span class=\"blind\">한글 입력기</span><span class=\"ico_keyboard\"></span></a>, <a aria-pressed=\"false\" class=\"btn_arw _btn_arw fold\" data-atcmp-element=\"\" href=\"#\" id=\"nautocomplete\" role=\"button\" tabindex=\"2\"><span class=\"blind\">자동완성 레이어</span><span class=\"ico_arr\"></span></a>, <a aria-pressed=\"false\" class=\"item _delAll\" href=\"#\" role=\"button\">전체삭제</a>, <a class=\"link_item\" href=\"#\">\n",
      "<span class=\"common_ico_kwd\"><i class=\"imsc ico_search\"></i></span>\n",
      "<div class=\"dsc_area\">\n",
      "<span class=\"tit\">@5@회차 당첨번호</span>\n",
      "<span class=\"dsc\">\n",
      "<span class=\"item\">추첨 @13@.</span><span class=\"item\">지급기한 1년</span>\n",
      "</span>\n",
      "</div>\n",
      "<span class=\"etc_area\">\n",
      "<span class=\"etc lotto\">\n",
      "<em class=\"n@6@\">@6@</em><em class=\"n@7@\">@7@</em><em class=\"n@8@\">@8@</em><em class=\"n@9@\">@9@</em><em class=\"n@10@\">@10@</em><em class=\"n@11@\">@11@</em><em class=\"imsc_bf bonus n@12@\">@12@</em>\n",
      "</span>\n",
      "</span>\n",
      "</a>, <a class=\"link_item @11@\" href=\"#\">\n",
      "<!-- [D] 국가별 class 가나다순\n",
      "ZAR 남아프리카 공화국\n",
      "NPR 네팔\n",
      "NOK 노르웨이\n",
      "NZD 뉴질랜드\n",
      "TWD 대만\n",
      "DKK 덴마크\n",
      "RUB 러시아\n",
      "MOP 마카오\n",
      "MYR 말레이시아\n",
      "MXN 멕시코\n",
      "MNT 몽골\n",
      "USD 미국\n",
      "BHD 바레인\n",
      "BDT 방글라데시\n",
      "VND 베트남\n",
      "BRL 브라질\n",
      "SAR 사우디아라비아\n",
      "SEK 스웨덴\n",
      "CHF 스위스\n",
      "SGD 싱가포르\n",
      "AED 아랍에미리트\n",
      "GBP 영국\n",
      "EUR 유럽연합\n",
      "ILS 이스라엘\n",
      "EGP 이집트\n",
      "INR 인도\n",
      "IDR 인도네시아\n",
      "JPY 일본\n",
      "CNY 중국\n",
      "CZK 체코\n",
      "CLP 칠레\n",
      "KZT 카자흐스탄\n",
      "QAR 카타르\n",
      "CAD 캐나다\n",
      "KWD 쿠웨이트\n",
      "THB 태국\n",
      "TRY 터키\n",
      "PKR 파키스탄\n",
      "PLN 폴란드\n",
      "PHP 필리핀\n",
      "HUF 헝가리\n",
      "AUD 호주\n",
      "HKD 홍콩\n",
      "-->\n",
      "<span class=\"common_ico_kwd\"><i class=\"imsc ico @12@\">@14@</i></span>\n",
      "<div class=\"dsc_area\">\n",
      "<span class=\"tit\">@txt@<span class=\"sub\">@currency@</span></span>\n",
      "<span class=\"dsc\">\n",
      "<span class=\"item\"><i class=\"imsc ico_arr\"></i>@8@(@9@%)</span>\n",
      "</span>\n",
      "</div>\n",
      "<span class=\"etc_area\">\n",
      "<span class=\"etc\"><em class=\"num\">@6@</em>원</span>\n",
      "</span>\n",
      "</a>, <a class=\"link_item @12@\" href=\"#\">\n",
      "<span class=\"common_ico_kwd\"><i class=\"imsc ico_search\"></i></span>\n",
      "<div class=\"dsc_area\">\n",
      "<span class=\"tit\">@txt@</span>\n",
      "<span class=\"dsc\">\n",
      "<span class=\"item\">@7@, @message@</span>\n",
      "</span>\n",
      "</div>\n",
      "<span class=\"etc_area\">\n",
      "<span class=\"etc\">\n",
      "<!-- [D] 날씨별 class\n",
      "ico1 맑음(낮)\n",
      "ico2 맑음(밤)\n",
      "ico3 구름조금(낮)\n",
      "ico4 구름조금(밤)\n",
      "ico5 구름많음(낮)\n",
      "ico6 구름많음(밤)\n",
      "ico7 흐림\n",
      "ico8 약한비\n",
      "ico9 비\n",
      "ico10 강한비\n",
      "ico11 약한눈\n",
      "ico12 눈\n",
      "ico13 강한눈\n",
      "ico14 진눈깨비\n",
      "ico15 소나기\n",
      "ico16 안개\n",
      "ico17 소낙눈\n",
      "ico18 번개뇌우\n",
      "ico19 우박\n",
      "ico20 황사\n",
      "ico21 비또는눈\n",
      "ico22 가끔비\n",
      "ico23 가끔눈\n",
      "ico24 가끔비또는눈\n",
      "ico25 흐린후갬\n",
      "ico26 뇌우후갬\n",
      "ico27 비후갬\n",
      "ico28 눈후갬\n",
      "ico29 흐려져비\n",
      "ico30 흐려져눈\n",
      "-->\n",
      "<span class=\"ico_weather\"><i class=\"imsc ico ico@iconNo@\">@7@</i></span>\n",
      "<em class=\"degree\">@8@<sup class=\"celsius\">°</sup></em>\n",
      "</span>\n",
      "</span>\n",
      "</a>, <a class=\"link_item\" href=\"@5@\" target=\"_blank\">\n",
      "<span class=\"common_ico_kwd\"><i class=\"imsc ico_url\"></i></span>\n",
      "<div class=\"dsc_area\">\n",
      "<span class=\"tit\">@txt@</span>\n",
      "<span class=\"dsc\">\n",
      "<span class=\"item\">@5@</span>\n",
      "</span>\n",
      "</div>\n",
      "<span class=\"etc_area\">\n",
      "<span class=\"etc\">바로가기</span>\n",
      "</span>\n",
      "</a>, <a class=\"link_dsc\" data-clk=\"sug.cxhelp\" href=\"https://help.naver.com/support/alias/search/word/word_16.naver\" target=\"_blank\">관심사를 반영한 컨텍스트 자동완성<i class=\"imsc ico_help\">도움말</i></a>, <a aria-pressed=\"false\" class=\"bt_switch active _plus_btn\" href=\"#\" role=\"button\"><i class=\"imsc ico_option\">컨텍스트 자동완성</i></a>, <a class=\"btn btn_view\" data-clk=\"sug.cxlink\" href=\"https://help.naver.com/support/alias/search/word/word_16.naver\" target=\"_blank\">자세히</a>, <a class=\"btn btn_login\" data-clk=\"sug.cxlogin\" href=\"https://nid.naver.com/nidlogin.login\">로그인</a>, <a class=\"btn btn_view\" data-clk=\"sug.cxlink\" href=\"https://help.naver.com/support/alias/search/word/word_16.naver\" target=\"_blank\">자세히</a>, <a class=\"btn_close _plus_layer_close\" href=\"#\" role=\"button\"><i class=\"imsc ico_close\">컨텍스트 자동완성 레이어 닫기</i></a>, <a class=\"btn_more\" data-clk=\"svc.more\" href=\"#\" role=\"button\">더보기</a>, <a class=\"btn NM_FAVORITE_ALL\" data-clk=\"map.svcmore\" href=\"more.html\">서비스 전체보기</a>, <a class=\"btn btn_set\" data-clk=\"map.edit\" href=\"#\" role=\"button\">메뉴설정</a>, <a class=\"btn btn_reset\" data-clk=\"edt.reset\" href=\"#\" role=\"button\">초기화</a>, <a class=\"btn btn_save\" data-clk=\"edt.save\" href=\"#\" role=\"button\">저장</a>, <a class=\"weather_area ico_w07\" data-clk=\"squ.weat\" href=\"https://weather.naver.com/today/09140104\">\n",
      "<div class=\"current_box\">\n",
      "<strong aria-label=\"현재기온\" class=\"current\">20.6°</strong><strong class=\"state\">흐림</strong>\n",
      "</div>\n",
      "<div class=\"degree_box\">\n",
      "<span aria-label=\"최저기온\" class=\"min\">18.0°</span><span aria-label=\"최고기온\" class=\"max\">25.0°</span>\n",
      "</div>\n",
      "<span class=\"location\">을지로1가</span>\n",
      "</a>, <a class=\"air_area\" data-clk=\"squ.dust\" href=\"https://weather.naver.com/today/09140104\">\n",
      "<ul class=\"list_air\">\n",
      "<li class=\"air_item\">미세<strong class=\"state state_good\">좋음</strong></li>\n",
      "<li class=\"air_item\">초미세<strong class=\"state state_good\">좋음</strong></li>\n",
      "</ul>\n",
      "<span class=\"location\">을지로1가</span>\n",
      "</a>, <a class=\"link_media\" data-clk=\"newsflash\" href=\"https://news.naver.com/main/list.naver?mode=LPOD&amp;mid=sec&amp;sid1=001&amp;sid2=140&amp;oid=001&amp;isYeonhapFlash=Y\">연합뉴스</a>, <a class=\"issue\" data-clk=\"quickarticle\" href=\"https://news.naver.com/main/list.naver?mode=LPOD&amp;mid=sec&amp;sid1=001&amp;sid2=140&amp;oid=001&amp;isYeonhapFlash=Y&amp;aid=0013234732\">尹대통령, MB사면론에 \"이십몇년 수감생활 안 맞지 않나\"</a>, <a class=\"issue\" data-clk=\"quickarticle\" href=\"https://news.naver.com/main/list.naver?mode=LPOD&amp;mid=sec&amp;sid1=001&amp;sid2=140&amp;oid=001&amp;isYeonhapFlash=Y&amp;aid=0013234843\">尹대통령 \"권영세·원희룡도 檢출신? 어폐…필요하면 또 해야죠\"</a>, <a class=\"issue\" data-clk=\"quickarticle\" href=\"https://news.naver.com/main/list.naver?mode=LPOD&amp;mid=sec&amp;sid1=001&amp;sid2=140&amp;oid=001&amp;isYeonhapFlash=Y&amp;aid=0013234936\">尹 \"준비 중이나 확정안돼\"…나토 정상회의 참석방침 굳힌듯</a>, <a class=\"issue\" data-clk=\"quickarticle\" href=\"https://news.naver.com/main/list.naver?mode=LPOD&amp;mid=sec&amp;sid1=001&amp;sid2=140&amp;oid=001&amp;isYeonhapFlash=Y&amp;aid=0013234760\">김종인 \"尹에 쓴소리 할사람 한동훈 뿐…'별의 순간' 잡을수도\"</a>, <a class=\"issue\" data-clk=\"quickarticle\" href=\"https://news.naver.com/main/list.naver?mode=LPOD&amp;mid=sec&amp;sid1=001&amp;sid2=140&amp;oid=001&amp;isYeonhapFlash=Y&amp;aid=0013235053\">한총리 \"5개 부처 한 팀 돼 첨단산업 인재양성 방안 노력중\"</a>, <a class=\"issue\" data-clk=\"quickarticle\" href=\"https://news.naver.com/main/list.naver?mode=LPOD&amp;mid=sec&amp;sid1=001&amp;sid2=140&amp;oid=001&amp;isYeonhapFlash=Y&amp;aid=0013234497\">민주→국힘 지방권력 교체…\"원점에서 다시\" 역점사업들 갈림길</a>, <a class=\"issue\" data-clk=\"quickarticle\" href=\"https://news.naver.com/main/list.naver?mode=LPOD&amp;mid=sec&amp;sid1=001&amp;sid2=140&amp;oid=001&amp;isYeonhapFlash=Y&amp;aid=0013234849\">北, 김정은 사회로 당 전원회의 돌입…코로나·경제 논의 예상</a>, <a class=\"issue\" data-clk=\"quickarticle\" href=\"https://news.naver.com/main/list.naver?mode=LPOD&amp;mid=sec&amp;sid1=001&amp;sid2=140&amp;oid=001&amp;isYeonhapFlash=Y&amp;aid=0013234520\">추경호 \"이달 경제 분야 규제혁신 TF 출범…규제 과감히 철폐\"</a>, <a class=\"issue\" data-clk=\"quickarticle\" href=\"https://news.naver.com/main/list.naver?mode=LPOD&amp;mid=sec&amp;sid1=001&amp;sid2=140&amp;oid=001&amp;isYeonhapFlash=Y&amp;aid=0013234572\">'촉법소년 연령 하향' 논의 본격화…한동훈, 검토 지시</a>, <a class=\"issue\" data-clk=\"quickarticle\" href=\"https://news.naver.com/main/list.naver?mode=LPOD&amp;mid=sec&amp;sid1=001&amp;sid2=140&amp;oid=001&amp;isYeonhapFlash=Y&amp;aid=0013234498\">'관광지서 지갑열기 겁난다'…전국 유명맛집도 가격 줄줄이 인상</a>, <a class=\"link_news\" data-clk=\"newshome\" href=\"http://news.naver.com/\">뉴스홈</a>, <a class=\"link_direct\" data-clk=\"entertainment\" href=\"http://entertain.naver.com/home\">연예</a>, <a class=\"link_direct\" data-clk=\"sports\" href=\"http://sports.news.naver.com/\">스포츠</a>, <a class=\"link_direct\" data-clk=\"economy\" href=\"http://news.naver.com/main/main.naver?mode=LSD&amp;mid=shm&amp;sid1=101\">경제</a>, <a class=\"link_newsstand\" data-clk=\"title\" href=\"http://newsstand.naver.com/\" target=\"_blank\">뉴스스탠드</a>, <a aria-controls=\"NM_NEWSSTAND_MY_LIST\" aria-selected=\"false\" class=\"btn_sort\" data-clk=\"my\" data-type=\"my\" href=\"#\" role=\"tab\">구독한 언론사</a>, <a aria-controls=\"NM_NEWSSTAND_DEFAULT_THUMB\" aria-selected=\"true\" class=\"btn_sort\" data-clk=\"all\" data-type=\"all\" href=\"#\" role=\"tab\">전체언론사</a>, <a aria-controls=\"NM_NEWSSTAND_DEFAULT_LIST\" aria-selected=\"false\" class=\"btn_set\" data-clk=\"articleview\" data-type=\"list\" href=\"#\" role=\"tab\"> <i class=\"ico_list\"><span class=\"blind\">리스트형</span></i></a>, <a aria-controls=\"NM_NEWSSTAND_DEFAULT_THUMB\" aria-selected=\"true\" class=\"btn_set\" data-clk=\"pressview\" data-type=\"thumb\" href=\"#\" role=\"tab\"> <i class=\"ico_tile\"><span class=\"blind\">썸네일형</span></i></a>, <a class=\"btn_set\" data-clk=\"set\" href=\"http://newsstand.naver.com/config.html\" target=\"_blank\"> <i class=\"ico_set\"><span class=\"blind\">설정</span></i></a>, <a class=\"pm_btn_prev_l _NM_NEWSSTAND_LIST_prev_btn\" data-clk-custom=\"prev\" href=\"#\" role=\"button\"><i class=\"ico_btn\"><span class=\"blind\">이전</span></i></a>, <a class=\"pm_btn_next_l _NM_NEWSSTAND_LIST_next_btn\" data-clk-custom=\"next\" href=\"#\" role=\"button\"><i class=\"ico_btn\"><span class=\"blind\">다음</span></i></a>, <a class=\"btn_close NM_NEWSSTAND_POPUP_CLOSE\" href=\"#\" role=\"button\"><i class=\"ico_close\"></i><span class=\"blind\">닫기</span></a>, <a class=\"btn_confirm NM_NEWSSTAND_POPUP_CLOSE\" href=\"#\" role=\"button\">확인</a>, <a class=\"btn_close NM_NEWSSTAND_POPUP_CLOSE\" data-clk=\"usclose\" href=\"#\" role=\"button\"><i class=\"ico_close\"></i><span class=\"blind\">닫기</span></a>, <a class=\"btn_confirm NM_NEWSSTAND_POPUP_CONFIRM\" data-clk=\"usdone\" href=\"#\" role=\"button\">확인</a>, <a class=\"btn_confirm NM_NEWSSTAND_POPUP_CLOSE\" data-clk=\"uscancel\" href=\"#\" role=\"button\">취소</a>, <a class=\"pm_btn_prev_l _NM_UI_PAGE_PREV\" data-clk-custom=\"prev\" href=\"#\" role=\"button\"><i class=\"ico_btn\"><span class=\"blind\">이전</span></i></a>, <a class=\"pm_btn_next_l _NM_UI_PAGE_NEXT\" data-clk-custom=\"next\" href=\"#\" role=\"button\"><i class=\"ico_btn\"><span class=\"blind\">다음</span></i></a>, <a class=\"thumb\" href=\"#\">\n",
      "<img alt=\"KBS\" class=\"news_logo\" height=\"20\" src=\"https://s.pstatic.net/static/newsstand/2020/logo/light/0604/056.png\"/>\n",
      "<span class=\"thumb_dim\"></span></a>, <a class=\"btn_popup _NM_NEWSSTAND_THUMB_subscribe_press\" data-clk=\"sub\" data-pid=\"056\" href=\"#\" role=\"button\">구독</a>, <a class=\"btn_popup _NM_NEWSSTAND_THUMB_unsubscribe_press\" data-clk=\"unsub\" data-pid=\"056\" href=\"#\" role=\"button\">해지</a>, <a class=\"btn_popup\" data-clk=\"logo\" data-pid=\"056\" href=\"http://newsstand.naver.com/?list=&amp;pcode=056\" target=\"_blank\">기사보기</a>, <a class=\"thumb\" href=\"#\">\n",
      "<img alt=\"연합뉴스TV\" class=\"news_logo\" height=\"20\" src=\"https://s.pstatic.net/static/newsstand/2020/logo/light/0604/422.png\"/>\n",
      "<span class=\"thumb_dim\"></span></a>, <a class=\"btn_popup _NM_NEWSSTAND_THUMB_subscribe_press\" data-clk=\"sub\" data-pid=\"422\" href=\"#\" role=\"button\">구독</a>, <a class=\"btn_popup _NM_NEWSSTAND_THUMB_unsubscribe_press\" data-clk=\"unsub\" data-pid=\"422\" href=\"#\" role=\"button\">해지</a>, <a class=\"btn_popup\" data-clk=\"logo\" data-pid=\"422\" href=\"http://newsstand.naver.com/?list=&amp;pcode=422\" target=\"_blank\">기사보기</a>, <a class=\"thumb\" href=\"#\">\n",
      "<img alt=\"코리아헤럴드\" class=\"news_logo\" height=\"20\" src=\"https://s.pstatic.net/static/newsstand/2020/logo/light/0604/044.png\"/>\n",
      "<span class=\"thumb_dim\"></span></a>, <a class=\"btn_popup _NM_NEWSSTAND_THUMB_subscribe_press\" data-clk=\"sub\" data-pid=\"044\" href=\"#\" role=\"button\">구독</a>, <a class=\"btn_popup _NM_NEWSSTAND_THUMB_unsubscribe_press\" data-clk=\"unsub\" data-pid=\"044\" href=\"#\" role=\"button\">해지</a>, <a class=\"btn_popup\" data-clk=\"logo\" data-pid=\"044\" href=\"http://newsstand.naver.com/?list=&amp;pcode=044\" target=\"_blank\">기사보기</a>, <a class=\"thumb\" href=\"#\">\n",
      "<img alt=\"스포탈코리아\" class=\"news_logo\" height=\"20\" src=\"https://s.pstatic.net/static/newsstand/2020/logo/light/0604/139.png\"/>\n",
      "<span class=\"thumb_dim\"></span></a>, <a class=\"btn_popup _NM_NEWSSTAND_THUMB_subscribe_press\" data-clk=\"sub\" data-pid=\"139\" href=\"#\" role=\"button\">구독</a>, <a class=\"btn_popup _NM_NEWSSTAND_THUMB_unsubscribe_press\" data-clk=\"unsub\" data-pid=\"139\" href=\"#\" role=\"button\">해지</a>, <a class=\"btn_popup\" data-clk=\"logo\" data-pid=\"139\" href=\"http://newsstand.naver.com/?list=&amp;pcode=139\" target=\"_blank\">기사보기</a>, <a class=\"thumb\" href=\"#\">\n",
      "<img alt=\"스포츠동아\" class=\"news_logo\" height=\"20\" src=\"https://s.pstatic.net/static/newsstand/2020/logo/light/0604/314.png\"/>\n",
      "<span class=\"thumb_dim\"></span></a>, <a class=\"btn_popup _NM_NEWSSTAND_THUMB_subscribe_press\" data-clk=\"sub\" data-pid=\"314\" href=\"#\" role=\"button\">구독</a>, <a class=\"btn_popup _NM_NEWSSTAND_THUMB_unsubscribe_press\" data-clk=\"unsub\" data-pid=\"314\" href=\"#\" role=\"button\">해지</a>, <a class=\"btn_popup\" data-clk=\"logo\" data-pid=\"314\" href=\"http://newsstand.naver.com/?list=&amp;pcode=314\" target=\"_blank\">기사보기</a>, <a class=\"thumb\" href=\"#\">\n",
      "<img alt=\"동아일보\" class=\"news_logo\" height=\"20\" src=\"https://s.pstatic.net/static/newsstand/2020/logo/light/0604/020.png\"/>\n",
      "<span class=\"thumb_dim\"></span></a>, <a class=\"btn_popup _NM_NEWSSTAND_THUMB_subscribe_press\" data-clk=\"sub\" data-pid=\"020\" href=\"#\" role=\"button\">구독</a>, <a class=\"btn_popup _NM_NEWSSTAND_THUMB_unsubscribe_press\" data-clk=\"unsub\" data-pid=\"020\" href=\"#\" role=\"button\">해지</a>, <a class=\"btn_popup\" data-clk=\"logo\" data-pid=\"020\" href=\"http://newsstand.naver.com/?list=&amp;pcode=020\" target=\"_blank\">기사보기</a>, <a class=\"thumb\" href=\"#\">\n",
      "<img alt=\"머니투데이\" class=\"news_logo\" height=\"20\" src=\"https://s.pstatic.net/static/newsstand/2020/logo/light/0604/008.png\"/>\n",
      "<span class=\"thumb_dim\"></span></a>, <a class=\"btn_popup _NM_NEWSSTAND_THUMB_subscribe_press\" data-clk=\"sub\" data-pid=\"008\" href=\"#\" role=\"button\">구독</a>, <a class=\"btn_popup _NM_NEWSSTAND_THUMB_unsubscribe_press\" data-clk=\"unsub\" data-pid=\"008\" href=\"#\" role=\"button\">해지</a>, <a class=\"btn_popup\" data-clk=\"logo\" data-pid=\"008\" href=\"http://newsstand.naver.com/?list=&amp;pcode=008\" target=\"_blank\">기사보기</a>, <a class=\"thumb\" href=\"#\">\n",
      "<img alt=\"MBN\" class=\"news_logo\" height=\"20\" src=\"https://s.pstatic.net/static/newsstand/2020/logo/light/0604/057.png\"/>\n",
      "<span class=\"thumb_dim\"></span></a>, <a class=\"btn_popup _NM_NEWSSTAND_THUMB_subscribe_press\" data-clk=\"sub\" data-pid=\"057\" href=\"#\" role=\"button\">구독</a>, <a class=\"btn_popup _NM_NEWSSTAND_THUMB_unsubscribe_press\" data-clk=\"unsub\" data-pid=\"057\" href=\"#\" role=\"button\">해지</a>, <a class=\"btn_popup\" data-clk=\"logo\" data-pid=\"057\" href=\"http://newsstand.naver.com/?list=&amp;pcode=057\" target=\"_blank\">기사보기</a>, <a class=\"thumb\" href=\"#\">\n",
      "<img alt=\"이데일리\" class=\"news_logo\" height=\"20\" src=\"https://s.pstatic.net/static/newsstand/2020/logo/light/0604/018.png\"/>\n",
      "<span class=\"thumb_dim\"></span></a>, <a class=\"btn_popup _NM_NEWSSTAND_THUMB_subscribe_press\" data-clk=\"sub\" data-pid=\"018\" href=\"#\" role=\"button\">구독</a>, <a class=\"btn_popup _NM_NEWSSTAND_THUMB_unsubscribe_press\" data-clk=\"unsub\" data-pid=\"018\" href=\"#\" role=\"button\">해지</a>, <a class=\"btn_popup\" data-clk=\"logo\" data-pid=\"018\" href=\"http://newsstand.naver.com/?list=&amp;pcode=018\" target=\"_blank\">기사보기</a>, <a class=\"thumb\" href=\"#\">\n",
      "<img alt=\"미디어오늘\" class=\"news_logo\" height=\"20\" src=\"https://s.pstatic.net/static/newsstand/2020/logo/light/0604/006.png\"/>\n",
      "<span class=\"thumb_dim\"></span></a>, <a class=\"btn_popup _NM_NEWSSTAND_THUMB_subscribe_press\" data-clk=\"sub\" data-pid=\"006\" href=\"#\" role=\"button\">구독</a>, <a class=\"btn_popup _NM_NEWSSTAND_THUMB_unsubscribe_press\" data-clk=\"unsub\" data-pid=\"006\" href=\"#\" role=\"button\">해지</a>, <a class=\"btn_popup\" data-clk=\"logo\" data-pid=\"006\" href=\"http://newsstand.naver.com/?list=&amp;pcode=006\" target=\"_blank\">기사보기</a>, <a class=\"thumb\" href=\"#\">\n",
      "<img alt=\"뉴데일리\" class=\"news_logo\" height=\"20\" src=\"https://s.pstatic.net/static/newsstand/2020/logo/light/0604/327.png\"/>\n",
      "<span class=\"thumb_dim\"></span></a>, <a class=\"btn_popup _NM_NEWSSTAND_THUMB_subscribe_press\" data-clk=\"sub\" data-pid=\"327\" href=\"#\" role=\"button\">구독</a>, <a class=\"btn_popup _NM_NEWSSTAND_THUMB_unsubscribe_press\" data-clk=\"unsub\" data-pid=\"327\" href=\"#\" role=\"button\">해지</a>, <a class=\"btn_popup\" data-clk=\"logo\" data-pid=\"327\" href=\"http://newsstand.naver.com/?list=&amp;pcode=327\" target=\"_blank\">기사보기</a>, <a class=\"thumb\" href=\"#\">\n",
      "<img alt=\"데일리안\" class=\"news_logo\" height=\"20\" src=\"https://s.pstatic.net/static/newsstand/2020/logo/light/0604/368.png\"/>\n",
      "<span class=\"thumb_dim\"></span></a>, <a class=\"btn_popup _NM_NEWSSTAND_THUMB_subscribe_press\" data-clk=\"sub\" data-pid=\"368\" href=\"#\" role=\"button\">구독</a>, <a class=\"btn_popup _NM_NEWSSTAND_THUMB_unsubscribe_press\" data-clk=\"unsub\" data-pid=\"368\" href=\"#\" role=\"button\">해지</a>, <a class=\"btn_popup\" data-clk=\"logo\" data-pid=\"368\" href=\"http://newsstand.naver.com/?list=&amp;pcode=368\" target=\"_blank\">기사보기</a>, <a class=\"thumb\" href=\"#\">\n",
      "<img alt=\"조선비즈\" class=\"news_logo\" height=\"20\" src=\"https://s.pstatic.net/static/newsstand/2020/logo/light/0604/366.png\"/>\n",
      "<span class=\"thumb_dim\"></span></a>, <a class=\"btn_popup _NM_NEWSSTAND_THUMB_subscribe_press\" data-clk=\"sub\" data-pid=\"366\" href=\"#\" role=\"button\">구독</a>, <a class=\"btn_popup _NM_NEWSSTAND_THUMB_unsubscribe_press\" data-clk=\"unsub\" data-pid=\"366\" href=\"#\" role=\"button\">해지</a>, <a class=\"btn_popup\" data-clk=\"logo\" data-pid=\"366\" href=\"http://newsstand.naver.com/?list=&amp;pcode=366\" target=\"_blank\">기사보기</a>, <a class=\"thumb\" href=\"#\">\n",
      "<img alt=\"디지털타임스\" class=\"news_logo\" height=\"20\" src=\"https://s.pstatic.net/static/newsstand/2020/logo/light/0604/029.png\"/>\n",
      "<span class=\"thumb_dim\"></span></a>, <a class=\"btn_popup _NM_NEWSSTAND_THUMB_subscribe_press\" data-clk=\"sub\" data-pid=\"029\" href=\"#\" role=\"button\">구독</a>, <a class=\"btn_popup _NM_NEWSSTAND_THUMB_unsubscribe_press\" data-clk=\"unsub\" data-pid=\"029\" href=\"#\" role=\"button\">해지</a>, <a class=\"btn_popup\" data-clk=\"logo\" data-pid=\"029\" href=\"http://newsstand.naver.com/?list=&amp;pcode=029\" target=\"_blank\">기사보기</a>, <a class=\"thumb\" href=\"#\">\n",
      "<img alt=\"스포츠조선\" class=\"news_logo\" height=\"20\" src=\"https://s.pstatic.net/static/newsstand/2020/logo/light/0604/076.png\"/>\n",
      "<span class=\"thumb_dim\"></span></a>, <a class=\"btn_popup _NM_NEWSSTAND_THUMB_subscribe_press\" data-clk=\"sub\" data-pid=\"076\" href=\"#\" role=\"button\">구독</a>, <a class=\"btn_popup _NM_NEWSSTAND_THUMB_unsubscribe_press\" data-clk=\"unsub\" data-pid=\"076\" href=\"#\" role=\"button\">해지</a>, <a class=\"btn_popup\" data-clk=\"logo\" data-pid=\"076\" href=\"http://newsstand.naver.com/?list=&amp;pcode=076\" target=\"_blank\">기사보기</a>, <a class=\"thumb\" href=\"#\">\n",
      "<img alt=\"경기일보\" class=\"news_logo\" height=\"20\" src=\"https://s.pstatic.net/static/newsstand/2020/logo/light/0604/339.png\"/>\n",
      "<span class=\"thumb_dim\"></span></a>, <a class=\"btn_popup _NM_NEWSSTAND_THUMB_subscribe_press\" data-clk=\"sub\" data-pid=\"339\" href=\"#\" role=\"button\">구독</a>, <a class=\"btn_popup _NM_NEWSSTAND_THUMB_unsubscribe_press\" data-clk=\"unsub\" data-pid=\"339\" href=\"#\" role=\"button\">해지</a>, <a class=\"btn_popup\" data-clk=\"logo\" data-pid=\"339\" href=\"http://newsstand.naver.com/?list=&amp;pcode=339\" target=\"_blank\">기사보기</a>, <a class=\"thumb\" href=\"#\">\n",
      "<img alt=\"대전일보\" class=\"news_logo\" height=\"20\" src=\"https://s.pstatic.net/static/newsstand/2020/logo/light/0604/089.png\"/>\n",
      "<span class=\"thumb_dim\"></span></a>, <a class=\"btn_popup _NM_NEWSSTAND_THUMB_subscribe_press\" data-clk=\"sub\" data-pid=\"089\" href=\"#\" role=\"button\">구독</a>, <a class=\"btn_popup _NM_NEWSSTAND_THUMB_unsubscribe_press\" data-clk=\"unsub\" data-pid=\"089\" href=\"#\" role=\"button\">해지</a>, <a class=\"btn_popup\" data-clk=\"logo\" data-pid=\"089\" href=\"http://newsstand.naver.com/?list=&amp;pcode=089\" target=\"_blank\">기사보기</a>, <a class=\"thumb\" href=\"#\">\n",
      "<img alt=\"인천일보\" class=\"news_logo\" height=\"20\" src=\"https://s.pstatic.net/static/newsstand/up/2022/0331/nsd155937506.png\"/>\n",
      "<span class=\"thumb_dim\"></span></a>, <a class=\"btn_popup _NM_NEWSSTAND_THUMB_subscribe_press\" data-clk=\"sub\" data-pid=\"387\" href=\"#\" role=\"button\">구독</a>, <a class=\"btn_popup _NM_NEWSSTAND_THUMB_unsubscribe_press\" data-clk=\"unsub\" data-pid=\"387\" href=\"#\" role=\"button\">해지</a>, <a class=\"btn_popup\" data-clk=\"logo\" data-pid=\"387\" href=\"http://newsstand.naver.com/?list=&amp;pcode=387\" target=\"_blank\">기사보기</a>, <a class=\"thumb\" href=\"#\">\n",
      "<img alt=\"코리아타임스\" class=\"news_logo\" height=\"20\" src=\"https://s.pstatic.net/static/newsstand/2020/logo/light/0604/040.png\"/>\n",
      "<span class=\"thumb_dim\"></span></a>, <a class=\"btn_popup _NM_NEWSSTAND_THUMB_subscribe_press\" data-clk=\"sub\" data-pid=\"040\" href=\"#\" role=\"button\">구독</a>, <a class=\"btn_popup _NM_NEWSSTAND_THUMB_unsubscribe_press\" data-clk=\"unsub\" data-pid=\"040\" href=\"#\" role=\"button\">해지</a>, <a class=\"btn_popup\" data-clk=\"logo\" data-pid=\"040\" href=\"http://newsstand.naver.com/?list=&amp;pcode=040\" target=\"_blank\">기사보기</a>, <a class=\"thumb\" href=\"#\">\n",
      "<img alt=\"헬스조선\" class=\"news_logo\" height=\"20\" src=\"https://s.pstatic.net/static/newsstand/2020/logo/light/0604/346.png\"/>\n",
      "<span class=\"thumb_dim\"></span></a>, <a class=\"btn_popup _NM_NEWSSTAND_THUMB_subscribe_press\" data-clk=\"sub\" data-pid=\"346\" href=\"#\" role=\"button\">구독</a>, <a class=\"btn_popup _NM_NEWSSTAND_THUMB_unsubscribe_press\" data-clk=\"unsub\" data-pid=\"346\" href=\"#\" role=\"button\">해지</a>, <a class=\"btn_popup\" data-clk=\"logo\" data-pid=\"346\" href=\"http://newsstand.naver.com/?list=&amp;pcode=346\" target=\"_blank\">기사보기</a>, <a class=\"thumb\" href=\"#\">\n",
      "<img alt=\"인더스트리뉴스\" class=\"news_logo\" height=\"20\" src=\"https://s.pstatic.net/static/newsstand/up/2021/0907/nsd9423633.png\"/>\n",
      "<span class=\"thumb_dim\"></span></a>, <a class=\"btn_popup _NM_NEWSSTAND_THUMB_subscribe_press\" data-clk=\"sub\" data-pid=\"803\" href=\"#\" role=\"button\">구독</a>, <a class=\"btn_popup _NM_NEWSSTAND_THUMB_unsubscribe_press\" data-clk=\"unsub\" data-pid=\"803\" href=\"#\" role=\"button\">해지</a>, <a class=\"btn_popup\" data-clk=\"logo\" data-pid=\"803\" href=\"http://newsstand.naver.com/?list=&amp;pcode=803\" target=\"_blank\">기사보기</a>, <a class=\"thumb\" href=\"#\">\n",
      "<img alt=\"철강금속신문\" class=\"news_logo\" height=\"20\" src=\"https://s.pstatic.net/static/newsstand/2020/logo/light/0604/956.png\"/>\n",
      "<span class=\"thumb_dim\"></span></a>, <a class=\"btn_popup _NM_NEWSSTAND_THUMB_subscribe_press\" data-clk=\"sub\" data-pid=\"956\" href=\"#\" role=\"button\">구독</a>, <a class=\"btn_popup _NM_NEWSSTAND_THUMB_unsubscribe_press\" data-clk=\"unsub\" data-pid=\"956\" href=\"#\" role=\"button\">해지</a>, <a class=\"btn_popup\" data-clk=\"logo\" data-pid=\"956\" href=\"http://newsstand.naver.com/?list=&amp;pcode=956\" target=\"_blank\">기사보기</a>, <a class=\"thumb\" href=\"#\">\n",
      "<img alt=\"컴퓨터월드\" class=\"news_logo\" height=\"20\" src=\"https://s.pstatic.net/static/newsstand/2020/logo/light/0604/928.png\"/>\n",
      "<span class=\"thumb_dim\"></span></a>, <a class=\"btn_popup _NM_NEWSSTAND_THUMB_subscribe_press\" data-clk=\"sub\" data-pid=\"928\" href=\"#\" role=\"button\">구독</a>, <a class=\"btn_popup _NM_NEWSSTAND_THUMB_unsubscribe_press\" data-clk=\"unsub\" data-pid=\"928\" href=\"#\" role=\"button\">해지</a>, <a class=\"btn_popup\" data-clk=\"logo\" data-pid=\"928\" href=\"http://newsstand.naver.com/?list=&amp;pcode=928\" target=\"_blank\">기사보기</a>, <a class=\"thumb\" href=\"#\">\n",
      "<img alt=\"농민신문\" class=\"news_logo\" height=\"20\" src=\"https://s.pstatic.net/static/newsstand/2020/logo/light/0604/911.png\"/>\n",
      "<span class=\"thumb_dim\"></span></a>, <a class=\"btn_popup _NM_NEWSSTAND_THUMB_subscribe_press\" data-clk=\"sub\" data-pid=\"911\" href=\"#\" role=\"button\">구독</a>, <a class=\"btn_popup _NM_NEWSSTAND_THUMB_unsubscribe_press\" data-clk=\"unsub\" data-pid=\"911\" href=\"#\" role=\"button\">해지</a>, <a class=\"btn_popup\" data-clk=\"logo\" data-pid=\"911\" href=\"http://newsstand.naver.com/?list=&amp;pcode=911\" target=\"_blank\">기사보기</a>, <a class=\"btn_close NM_NEWSSTAND_POPUP_CLOSE\" href=\"#\" role=\"button\"><i class=\"ico_close\"></i><span class=\"blind\">닫기</span></a>, <a class=\"btn_confirm NM_NEWSSTAND_POPUP_CLOSE\" href=\"#\" role=\"button\">확인</a>, <a class=\"btn_close NM_NEWSSTAND_POPUP_CLOSE\" data-clk=\"usclose\" href=\"#\" role=\"button\"><i class=\"ico_close\"></i><span class=\"blind\">닫기</span></a>, <a class=\"btn_confirm NM_NEWSSTAND_POPUP_CONFIRM\" data-clk=\"usdone\" href=\"#\" role=\"button\">확인</a>, <a class=\"btn_confirm NM_NEWSSTAND_POPUP_CLOSE\" data-clk=\"uscancel\" href=\"#\" role=\"button\">취소</a>, <a class=\"pm_btn_prev_l _NM_NEWSSTAND_LIST_prev_btn\" data-clk-custom=\"prev\" href=\"#\" role=\"button\"><i class=\"ico_btn\"></i><span class=\"blind\">이전</span></a>, <a class=\"pm_btn_next_l _NM_NEWSSTAND_LIST_next_btn\" data-clk-custom=\"next\" href=\"#\" role=\"button\"><i class=\"ico_btn\"></i><span class=\"blind\">다음</span><span class=\"blind\">다음</span></a>, <a class=\"btn_close NM_NEWSSTAND_POPUP_CLOSE\" href=\"#\" role=\"button\"><i class=\"ico_close\"></i><span class=\"blind\">닫기</span></a>, <a class=\"btn_confirm NM_NEWSSTAND_POPUP_CLOSE\" href=\"#\" role=\"button\">확인</a>, <a class=\"btn_close NM_NEWSSTAND_POPUP_CLOSE\" data-clk=\"usclose\" href=\"#\" role=\"button\"><i class=\"ico_close\"></i><span class=\"blind\">닫기</span></a>, <a class=\"btn_confirm NM_NEWSSTAND_POPUP_CONFIRM\" data-clk=\"usdone\" href=\"#\" role=\"button\">확인</a>, <a class=\"btn_confirm NM_NEWSSTAND_POPUP_CLOSE\" data-clk=\"uscancel\" href=\"#\" role=\"button\">취소</a>, <a class=\"pm_btn_prev_l _NM_UI_PAGE_PREV\" data-clk-custom=\"prev\" href=\"#\" role=\"button\"><i class=\"ico_btn\"><span class=\"blind\">이전</span></i></a>, <a class=\"pm_btn_next_l _NM_UI_PAGE_NEXT\" data-clk-custom=\"next\" href=\"#\" role=\"button\"><i class=\"ico_btn\"><span class=\"blind\">다음</span></i></a>, <a class=\"btn_close NM_NEWSSTAND_POPUP_CLOSE\" href=\"#\" role=\"button\"><i class=\"ico_close\"></i><span class=\"blind\">닫기</span></a>, <a class=\"btn_confirm NM_NEWSSTAND_POPUP_CLOSE\" href=\"#\" role=\"button\">확인</a>, <a class=\"btn_close NM_NEWSSTAND_POPUP_CLOSE\" data-clk=\"usclose\" href=\"#\" role=\"button\"><i class=\"ico_close\"></i><span class=\"blind\">닫기</span></a>, <a class=\"btn_confirm NM_NEWSSTAND_POPUP_CONFIRM\" data-clk=\"usdone\" href=\"#\" role=\"button\">확인</a>, <a class=\"btn_confirm NM_NEWSSTAND_POPUP_CLOSE\" data-clk=\"uscancel\" href=\"#\" role=\"button\">취소</a>, <a class=\"link_redirect\" href=\"http://newsstand.naver.com/config.html\" target=\"_blank\">언론사 구독 설정하기</a>, <a class=\"btn_set\" data-clk=\"tca.like\" href=\"#\" id=\"NM_THEME_EDIT_SET\" role=\"button\">관심주제 설정</a>, <a class=\"pm_btn_prev NM_THEME_PREV\" data-clk=\"tct.prev\" href=\"#\" role=\"button\" style=\"display: none;\">\n",
      "<i class=\"ico_btn\"><span class=\"blind\">이전</span></i>\n",
      "</a>, <a class=\"pm_btn_next NM_THEME_NEXT\" data-clk=\"tct.next\" href=\"#\" role=\"button\" style=\"display: none;\">\n",
      "<i class=\"ico_btn\"><span class=\"blind\">다음</span></i>\n",
      "</a>, <a class=\"pm_btn_prev _NM_UI_PAGE_PREV\" data-clk=\"tcc_bok.bestapiprev\" href=\"#\" role=\"button\"><i class=\"ico_btn\"><span class=\"blind\">이전</span></i></a>, <a class=\"pm_btn_next _NM_UI_PAGE_NEXT\" data-clk=\"tcc_bok.bestapinext\" href=\"#\" role=\"button\"><i class=\"ico_btn\"><span class=\"blind\">다음</span></i></a>, <a class=\"poster_area\" data-clk=\"tcc_bok.bestapi\" data-gdid=\"PC-THEME-CULTURE-BESTSELLER-API[blocks][0][materials][0]\" href=\"http://book.naver.com/bookdb/book_detail.naver?bid=22353804\" target=\"_blank\">\n",
      "<div class=\"poster_thumb\">\n",
      "<img alt=\"\" data-src=\"https://s.pstatic.net/dthumb.phinf/?src=%22https%3A%2F%2Fbookthumb-phinf.pstatic.net%2Fcover%2F223%2F538%2F22353804.jpg%22&amp;type=nf240_366\" height=\"183\" onerror=\"this.outerHTML='&lt;span class=\\'pm_noimg\\'&gt;&lt;span class=\\'noimg_text\\'&gt;이미지 준비중&lt;/span&gt;&lt;/span&gt;'\" src=\"https://s.pstatic.net/dthumb.phinf/?src=%22https%3A%2F%2Fbookthumb-phinf.pstatic.net%2Fcover%2F223%2F538%2F22353804.jpg%22&amp;type=nf240_366\" width=\"120\"/>\n",
      "<span class=\"thumb_bd\"></span>\n",
      "</div>\n",
      "<div class=\"poster_info\">\n",
      "<strong class=\"title\"><span class=\"rank\">1<span class=\"blind\">위</span></span>작별인사</strong>\n",
      "<dl class=\"list_dsc\">\n",
      "<dt class=\"dsc_tit\">저자</dt>\n",
      "<dd class=\"dsc_data\">김영하</dd>\n",
      "<dt class=\"dsc_tit\">출판</dt>\n",
      "<dd class=\"dsc_data\">복복서가</dd>\n",
      "<dt class=\"dsc_tit\">평점</dt>\n",
      "<dd class=\"dsc_data type_star\">0</dd>\n",
      "</dl>\n",
      "</div>\n",
      "</a>, <a class=\"poster_area\" data-clk=\"tcc_bok.bestapi\" data-gdid=\"PC-THEME-CULTURE-BESTSELLER-API[blocks][0][materials][1]\" href=\"http://book.naver.com/bookdb/book_detail.naver?bid=22485918\" target=\"_blank\">\n",
      "<div class=\"poster_thumb\">\n",
      "<img alt=\"\" data-src=\"https://s.pstatic.net/dthumb.phinf/?src=%22https%3A%2F%2Fbookthumb-phinf.pstatic.net%2Fcover%2F224%2F859%2F22485918.jpg%22&amp;type=nf240_366\" height=\"183\" onerror=\"this.outerHTML='&lt;span class=\\'pm_noimg\\'&gt;&lt;span class=\\'noimg_text\\'&gt;이미지 준비중&lt;/span&gt;&lt;/span&gt;'\" src=\"https://s.pstatic.net/dthumb.phinf/?src=%22https%3A%2F%2Fbookthumb-phinf.pstatic.net%2Fcover%2F224%2F859%2F22485918.jpg%22&amp;type=nf240_366\" width=\"120\"/>\n",
      "<span class=\"thumb_bd\"></span>\n",
      "</div>\n",
      "<div class=\"poster_info\">\n",
      "<strong class=\"title\"><span class=\"rank\">2<span class=\"blind\">위</span></span>역행자</strong>\n",
      "<dl class=\"list_dsc\">\n",
      "<dt class=\"dsc_tit\">저자</dt>\n",
      "<dd class=\"dsc_data\">자청</dd>\n",
      "<dt class=\"dsc_tit\">출판</dt>\n",
      "<dd class=\"dsc_data\">웅진지식하우스</dd>\n",
      "<dt class=\"dsc_tit\">평점</dt>\n",
      "<dd class=\"dsc_data type_star\">0</dd>\n",
      "</dl>\n",
      "</div>\n",
      "</a>, <a class=\"poster_area\" data-clk=\"tcc_bok.bestapi\" data-gdid=\"PC-THEME-CULTURE-BESTSELLER-API[blocks][0][materials][2]\" href=\"http://book.naver.com/bookdb/book_detail.naver?bid=22458391\" target=\"_blank\">\n",
      "<div class=\"poster_thumb\">\n",
      "<img alt=\"\" data-src=\"https://s.pstatic.net/dthumb.phinf/?src=%22https%3A%2F%2Fbookthumb-phinf.pstatic.net%2Fcover%2F224%2F583%2F22458391.jpg%22&amp;type=nf240_366\" height=\"183\" onerror=\"this.outerHTML='&lt;span class=\\'pm_noimg\\'&gt;&lt;span class=\\'noimg_text\\'&gt;이미지 준비중&lt;/span&gt;&lt;/span&gt;'\" src=\"https://s.pstatic.net/dthumb.phinf/?src=%22https%3A%2F%2Fbookthumb-phinf.pstatic.net%2Fcover%2F224%2F583%2F22458391.jpg%22&amp;type=nf240_366\" width=\"120\"/>\n",
      "<span class=\"thumb_bd\"></span>\n",
      "</div>\n",
      "<div class=\"poster_info\">\n",
      "<strong class=\"title\"><span class=\"rank\">3<span class=\"blind\">위</span></span>인플레이션에서 살아남기</strong>\n",
      "<dl class=\"list_dsc\">\n",
      "<dt class=\"dsc_tit\">저자</dt>\n",
      "<dd class=\"dsc_data\">오건영</dd>\n",
      "<dt class=\"dsc_tit\">출판</dt>\n",
      "<dd class=\"dsc_data\">페이지2북스</dd>\n",
      "<dt class=\"dsc_tit\">평점</dt>\n",
      "<dd class=\"dsc_data type_star\">0</dd>\n",
      "</dl>\n",
      "</div>\n",
      "</a>, <a class=\"poster_area\" data-clk=\"tcc_bok.bestapi\" data-gdid=\"PC-THEME-CULTURE-BESTSELLER-API[blocks][0][materials][3]\" href=\"http://book.naver.com/bookdb/book_detail.naver?bid=22452419\" target=\"_blank\">\n",
      "<div class=\"poster_thumb\">\n",
      "<img alt=\"\" data-src=\"https://s.pstatic.net/dthumb.phinf/?src=%22https%3A%2F%2Fbookthumb-phinf.pstatic.net%2Fcover%2F224%2F524%2F22452419.jpg%22&amp;type=nf240_366\" height=\"183\" onerror=\"this.outerHTML='&lt;span class=\\'pm_noimg\\'&gt;&lt;span class=\\'noimg_text\\'&gt;이미지 준비중&lt;/span&gt;&lt;/span&gt;'\" src=\"https://s.pstatic.net/dthumb.phinf/?src=%22https%3A%2F%2Fbookthumb-phinf.pstatic.net%2Fcover%2F224%2F524%2F22452419.jpg%22&amp;type=nf240_366\" width=\"120\"/>\n",
      "<span class=\"thumb_bd\"></span>\n",
      "</div>\n",
      "<div class=\"poster_info\">\n",
      "<strong class=\"title\"><span class=\"rank\">4<span class=\"blind\">위</span></span>나로서 충분히 괜찮은 사...</strong>\n",
      "<dl class=\"list_dsc\">\n",
      "<dt class=\"dsc_tit\">저자</dt>\n",
      "<dd class=\"dsc_data\">김재식</dd>\n",
      "<dt class=\"dsc_tit\">출판</dt>\n",
      "<dd class=\"dsc_data\">북로망스</dd>\n",
      "<dt class=\"dsc_tit\">평점</dt>\n",
      "<dd class=\"dsc_data type_star\">0</dd>\n",
      "</dl>\n",
      "</div>\n",
      "</a>, <a class=\"poster_area\" data-clk=\"tcc_bok.bestapi\" data-gdid=\"PC-THEME-CULTURE-BESTSELLER-API[blocks][0][materials][4]\" href=\"http://book.naver.com/bookdb/book_detail.naver?bid=18926010\" target=\"_blank\">\n",
      "<div class=\"poster_thumb\">\n",
      "<img alt=\"\" data-src=\"https://s.pstatic.net/dthumb.phinf/?src=%22https%3A%2F%2Fbookthumb-phinf.pstatic.net%2Fcover%2F189%2F260%2F18926010.jpg%22&amp;type=nf240_366\" height=\"183\" onerror=\"this.outerHTML='&lt;span class=\\'pm_noimg\\'&gt;&lt;span class=\\'noimg_text\\'&gt;이미지 준비중&lt;/span&gt;&lt;/span&gt;'\" src=\"https://s.pstatic.net/dthumb.phinf/?src=%22https%3A%2F%2Fbookthumb-phinf.pstatic.net%2Fcover%2F189%2F260%2F18926010.jpg%22&amp;type=nf240_366\" width=\"120\"/>\n",
      "<span class=\"thumb_bd\"></span>\n",
      "</div>\n",
      "<div class=\"poster_info\">\n",
      "<strong class=\"title\"><span class=\"rank\">5<span class=\"blind\">위</span></span>불편한 편의점</strong>\n",
      "<dl class=\"list_dsc\">\n",
      "<dt class=\"dsc_tit\">저자</dt>\n",
      "<dd class=\"dsc_data\">김호연</dd>\n",
      "<dt class=\"dsc_tit\">출판</dt>\n",
      "<dd class=\"dsc_data\">나무옆의자</dd>\n",
      "<dt class=\"dsc_tit\">평점</dt>\n",
      "<dd class=\"dsc_data type_star\">8.84</dd>\n",
      "</dl>\n",
      "</div>\n",
      "</a>, <a class=\"poster_area\" data-clk=\"tcc_bok.bestapi\" data-gdid=\"PC-THEME-CULTURE-BESTSELLER-API[blocks][1][materials][0]\" href=\"http://book.naver.com/bookdb/book_detail.naver?bid=22353804\" target=\"_blank\">\n",
      "<div class=\"poster_thumb\">\n",
      "<img alt=\"\" data-src=\"https://s.pstatic.net/dthumb.phinf/?src=%22https%3A%2F%2Fbookthumb-phinf.pstatic.net%2Fcover%2F223%2F538%2F22353804.jpg%22&amp;type=nf240_366\" height=\"183\" onerror=\"this.outerHTML='&lt;span class=\\'pm_noimg\\'&gt;&lt;span class=\\'noimg_text\\'&gt;이미지 준비중&lt;/span&gt;&lt;/span&gt;'\" width=\"120\"/>\n",
      "<span class=\"thumb_bd\"></span>\n",
      "</div>\n",
      "<div class=\"poster_info\">\n",
      "<strong class=\"title\"><span class=\"rank\">1<span class=\"blind\">위</span></span>작별인사</strong>\n",
      "<dl class=\"list_dsc\">\n",
      "<dt class=\"dsc_tit\">저자</dt>\n",
      "<dd class=\"dsc_data\">김영하</dd>\n",
      "<dt class=\"dsc_tit\">출판</dt>\n",
      "<dd class=\"dsc_data\">복복서가</dd>\n",
      "<dt class=\"dsc_tit\">평점</dt>\n",
      "<dd class=\"dsc_data type_star\">0</dd>\n",
      "</dl>\n",
      "</div>\n",
      "</a>, <a class=\"poster_area\" data-clk=\"tcc_bok.bestapi\" data-gdid=\"PC-THEME-CULTURE-BESTSELLER-API[blocks][1][materials][1]\" href=\"http://book.naver.com/bookdb/book_detail.naver?bid=22485918\" target=\"_blank\">\n",
      "<div class=\"poster_thumb\">\n",
      "<img alt=\"\" data-src=\"https://s.pstatic.net/dthumb.phinf/?src=%22https%3A%2F%2Fbookthumb-phinf.pstatic.net%2Fcover%2F224%2F859%2F22485918.jpg%22&amp;type=nf240_366\" height=\"183\" onerror=\"this.outerHTML='&lt;span class=\\'pm_noimg\\'&gt;&lt;span class=\\'noimg_text\\'&gt;이미지 준비중&lt;/span&gt;&lt;/span&gt;'\" width=\"120\"/>\n",
      "<span class=\"thumb_bd\"></span>\n",
      "</div>\n",
      "<div class=\"poster_info\">\n",
      "<strong class=\"title\"><span class=\"rank\">2<span class=\"blind\">위</span></span>역행자</strong>\n",
      "<dl class=\"list_dsc\">\n",
      "<dt class=\"dsc_tit\">저자</dt>\n",
      "<dd class=\"dsc_data\">자청</dd>\n",
      "<dt class=\"dsc_tit\">출판</dt>\n",
      "<dd class=\"dsc_data\">웅진지식하우스</dd>\n",
      "<dt class=\"dsc_tit\">평점</dt>\n",
      "<dd class=\"dsc_data type_star\">0</dd>\n",
      "</dl>\n",
      "</div>\n",
      "</a>, <a class=\"poster_area\" data-clk=\"tcc_bok.bestapi\" data-gdid=\"PC-THEME-CULTURE-BESTSELLER-API[blocks][1][materials][2]\" href=\"http://book.naver.com/bookdb/book_detail.naver?bid=22500308\" target=\"_blank\">\n",
      "<div class=\"poster_thumb\">\n",
      "<img alt=\"\" data-src=\"https://s.pstatic.net/dthumb.phinf/?src=%22https%3A%2F%2Fbookthumb-phinf.pstatic.net%2Fcover%2F225%2F003%2F22500308.jpg%22&amp;type=nf240_366\" height=\"183\" onerror=\"this.outerHTML='&lt;span class=\\'pm_noimg\\'&gt;&lt;span class=\\'noimg_text\\'&gt;이미지 준비중&lt;/span&gt;&lt;/span&gt;'\" width=\"120\"/>\n",
      "<span class=\"thumb_bd\"></span>\n",
      "</div>\n",
      "<div class=\"poster_info\">\n",
      "<strong class=\"title\"><span class=\"rank\">3<span class=\"blind\">위</span></span>설민석의 한국사 대모험 2...</strong>\n",
      "<dl class=\"list_dsc\">\n",
      "<dt class=\"dsc_tit\">저자</dt>\n",
      "<dd class=\"dsc_data\">설민석</dd>\n",
      "<dt class=\"dsc_tit\">출판</dt>\n",
      "<dd class=\"dsc_data\">단꿈아이</dd>\n",
      "<dt class=\"dsc_tit\">평점</dt>\n",
      "<dd class=\"dsc_data type_star\">0</dd>\n",
      "</dl>\n",
      "</div>\n",
      "</a>, <a class=\"poster_area\" data-clk=\"tcc_bok.bestapi\" data-gdid=\"PC-THEME-CULTURE-BESTSELLER-API[blocks][1][materials][3]\" href=\"http://book.naver.com/bookdb/book_detail.naver?bid=18926010\" target=\"_blank\">\n",
      "<div class=\"poster_thumb\">\n",
      "<img alt=\"\" data-src=\"https://s.pstatic.net/dthumb.phinf/?src=%22https%3A%2F%2Fbookthumb-phinf.pstatic.net%2Fcover%2F189%2F260%2F18926010.jpg%22&amp;type=nf240_366\" height=\"183\" onerror=\"this.outerHTML='&lt;span class=\\'pm_noimg\\'&gt;&lt;span class=\\'noimg_text\\'&gt;이미지 준비중&lt;/span&gt;&lt;/span&gt;'\" width=\"120\"/>\n",
      "<span class=\"thumb_bd\"></span>\n",
      "</div>\n",
      "<div class=\"poster_info\">\n",
      "<strong class=\"title\"><span class=\"rank\">4<span class=\"blind\">위</span></span>불편한 편의점</strong>\n",
      "<dl class=\"list_dsc\">\n",
      "<dt class=\"dsc_tit\">저자</dt>\n",
      "<dd class=\"dsc_data\">김호연</dd>\n",
      "<dt class=\"dsc_tit\">출판</dt>\n",
      "<dd class=\"dsc_data\">나무옆의자</dd>\n",
      "<dt class=\"dsc_tit\">평점</dt>\n",
      "<dd class=\"dsc_data type_star\">8.84</dd>\n",
      "</dl>\n",
      "</div>\n",
      "</a>, <a class=\"poster_area\" data-clk=\"tcc_bok.bestapi\" data-gdid=\"PC-THEME-CULTURE-BESTSELLER-API[blocks][1][materials][4]\" href=\"http://book.naver.com/bookdb/book_detail.naver?bid=22458391\" target=\"_blank\">\n",
      "<div class=\"poster_thumb\">\n",
      "<img alt=\"\" data-src=\"https://s.pstatic.net/dthumb.phinf/?src=%22https%3A%2F%2Fbookthumb-phinf.pstatic.net%2Fcover%2F224%2F583%2F22458391.jpg%22&amp;type=nf240_366\" height=\"183\" onerror=\"this.outerHTML='&lt;span class=\\'pm_noimg\\'&gt;&lt;span class=\\'noimg_text\\'&gt;이미지 준비중&lt;/span&gt;&lt;/span&gt;'\" width=\"120\"/>\n",
      "<span class=\"thumb_bd\"></span>\n",
      "</div>\n",
      "<div class=\"poster_info\">\n",
      "<strong class=\"title\"><span class=\"rank\">5<span class=\"blind\">위</span></span>인플레이션에서 살아남기</strong>\n",
      "<dl class=\"list_dsc\">\n",
      "<dt class=\"dsc_tit\">저자</dt>\n",
      "<dd class=\"dsc_data\">오건영</dd>\n",
      "<dt class=\"dsc_tit\">출판</dt>\n",
      "<dd class=\"dsc_data\">페이지2북스</dd>\n",
      "<dt class=\"dsc_tit\">평점</dt>\n",
      "<dd class=\"dsc_data type_star\">0</dd>\n",
      "</dl>\n",
      "</div>\n",
      "</a>, <a class=\"poster_area\" data-clk=\"tcc_bok.bestapi\" data-gdid=\"PC-THEME-CULTURE-BESTSELLER-API[blocks][2][materials][0]\" href=\"http://book.naver.com/bookdb/book_detail.naver?bid=22353804\" target=\"_blank\">\n",
      "<div class=\"poster_thumb\">\n",
      "<img alt=\"\" data-src=\"https://s.pstatic.net/dthumb.phinf/?src=%22https%3A%2F%2Fbookthumb-phinf.pstatic.net%2Fcover%2F223%2F538%2F22353804.jpg%22&amp;type=nf240_366\" height=\"183\" onerror=\"this.outerHTML='&lt;span class=\\'pm_noimg\\'&gt;&lt;span class=\\'noimg_text\\'&gt;이미지 준비중&lt;/span&gt;&lt;/span&gt;'\" width=\"120\"/>\n",
      "<span class=\"thumb_bd\"></span>\n",
      "</div>\n",
      "<div class=\"poster_info\">\n",
      "<strong class=\"title\"><span class=\"rank\">1<span class=\"blind\">위</span></span>작별인사</strong>\n",
      "<dl class=\"list_dsc\">\n",
      "<dt class=\"dsc_tit\">저자</dt>\n",
      "<dd class=\"dsc_data\">김영하</dd>\n",
      "<dt class=\"dsc_tit\">출판</dt>\n",
      "<dd class=\"dsc_data\">복복서가</dd>\n",
      "<dt class=\"dsc_tit\">평점</dt>\n",
      "<dd class=\"dsc_data type_star\">0</dd>\n",
      "</dl>\n",
      "</div>\n",
      "</a>, <a class=\"poster_area\" data-clk=\"tcc_bok.bestapi\" data-gdid=\"PC-THEME-CULTURE-BESTSELLER-API[blocks][2][materials][1]\" href=\"http://book.naver.com/bookdb/book_detail.naver?bid=22463235\" target=\"_blank\">\n",
      "<div class=\"poster_thumb\">\n",
      "<img alt=\"\" data-src=\"https://s.pstatic.net/dthumb.phinf/?src=%22https%3A%2F%2Fbookthumb-phinf.pstatic.net%2Fcover%2F224%2F632%2F22463235.jpg%22&amp;type=nf240_366\" height=\"183\" onerror=\"this.outerHTML='&lt;span class=\\'pm_noimg\\'&gt;&lt;span class=\\'noimg_text\\'&gt;이미지 준비중&lt;/span&gt;&lt;/span&gt;'\" width=\"120\"/>\n",
      "<span class=\"thumb_bd\"></span>\n",
      "</div>\n",
      "<div class=\"poster_info\">\n",
      "<strong class=\"title\"><span class=\"rank\">2<span class=\"blind\">위</span></span>감정 어휘</strong>\n",
      "<dl class=\"list_dsc\">\n",
      "<dt class=\"dsc_tit\">저자</dt>\n",
      "<dd class=\"dsc_data\">유선경</dd>\n",
      "<dt class=\"dsc_tit\">출판</dt>\n",
      "<dd class=\"dsc_data\">앤의서재</dd>\n",
      "<dt class=\"dsc_tit\">평점</dt>\n",
      "<dd class=\"dsc_data type_star\">0</dd>\n",
      "</dl>\n",
      "</div>\n",
      "</a>, <a class=\"poster_area\" data-clk=\"tcc_bok.bestapi\" data-gdid=\"PC-THEME-CULTURE-BESTSELLER-API[blocks][2][materials][2]\" href=\"http://book.naver.com/bookdb/book_detail.naver?bid=22458391\" target=\"_blank\">\n",
      "<div class=\"poster_thumb\">\n",
      "<img alt=\"\" data-src=\"https://s.pstatic.net/dthumb.phinf/?src=%22https%3A%2F%2Fbookthumb-phinf.pstatic.net%2Fcover%2F224%2F583%2F22458391.jpg%22&amp;type=nf240_366\" height=\"183\" onerror=\"this.outerHTML='&lt;span class=\\'pm_noimg\\'&gt;&lt;span class=\\'noimg_text\\'&gt;이미지 준비중&lt;/span&gt;&lt;/span&gt;'\" width=\"120\"/>\n",
      "<span class=\"thumb_bd\"></span>\n",
      "</div>\n",
      "<div class=\"poster_info\">\n",
      "<strong class=\"title\"><span class=\"rank\">3<span class=\"blind\">위</span></span>인플레이션에서 살아남기</strong>\n",
      "<dl class=\"list_dsc\">\n",
      "<dt class=\"dsc_tit\">저자</dt>\n",
      "<dd class=\"dsc_data\">오건영</dd>\n",
      "<dt class=\"dsc_tit\">출판</dt>\n",
      "<dd class=\"dsc_data\">페이지2북스</dd>\n",
      "<dt class=\"dsc_tit\">평점</dt>\n",
      "<dd class=\"dsc_data type_star\">0</dd>\n",
      "</dl>\n",
      "</div>\n",
      "</a>, <a class=\"poster_area\" data-clk=\"tcc_bok.bestapi\" data-gdid=\"PC-THEME-CULTURE-BESTSELLER-API[blocks][2][materials][3]\" href=\"http://book.naver.com/bookdb/book_detail.naver?bid=22485918\" target=\"_blank\">\n",
      "<div class=\"poster_thumb\">\n",
      "<img alt=\"\" data-src=\"https://s.pstatic.net/dthumb.phinf/?src=%22https%3A%2F%2Fbookthumb-phinf.pstatic.net%2Fcover%2F224%2F859%2F22485918.jpg%22&amp;type=nf240_366\" height=\"183\" onerror=\"this.outerHTML='&lt;span class=\\'pm_noimg\\'&gt;&lt;span class=\\'noimg_text\\'&gt;이미지 준비중&lt;/span&gt;&lt;/span&gt;'\" width=\"120\"/>\n",
      "<span class=\"thumb_bd\"></span>\n",
      "</div>\n",
      "<div class=\"poster_info\">\n",
      "<strong class=\"title\"><span class=\"rank\">4<span class=\"blind\">위</span></span>역행자</strong>\n",
      "<dl class=\"list_dsc\">\n",
      "<dt class=\"dsc_tit\">저자</dt>\n",
      "<dd class=\"dsc_data\">자청</dd>\n",
      "<dt class=\"dsc_tit\">출판</dt>\n",
      "<dd class=\"dsc_data\">웅진지식하우스</dd>\n",
      "<dt class=\"dsc_tit\">평점</dt>\n",
      "<dd class=\"dsc_data type_star\">0</dd>\n",
      "</dl>\n",
      "</div>\n",
      "</a>, <a class=\"poster_area\" data-clk=\"tcc_bok.bestapi\" data-gdid=\"PC-THEME-CULTURE-BESTSELLER-API[blocks][2][materials][4]\" href=\"http://book.naver.com/bookdb/book_detail.naver?bid=22498629\" target=\"_blank\">\n",
      "<div class=\"poster_thumb\">\n",
      "<img alt=\"\" data-src=\"https://s.pstatic.net/dthumb.phinf/?src=%22https%3A%2F%2Fbookthumb-phinf.pstatic.net%2Fcover%2F224%2F986%2F22498629.jpg%22&amp;type=nf240_366\" height=\"183\" onerror=\"this.outerHTML='&lt;span class=\\'pm_noimg\\'&gt;&lt;span class=\\'noimg_text\\'&gt;이미지 준비중&lt;/span&gt;&lt;/span&gt;'\" width=\"120\"/>\n",
      "<span class=\"thumb_bd\"></span>\n",
      "</div>\n",
      "<div class=\"poster_info\">\n",
      "<strong class=\"title\"><span class=\"rank\">5<span class=\"blind\">위</span></span>스패로</strong>\n",
      "<dl class=\"list_dsc\">\n",
      "<dt class=\"dsc_tit\">저자</dt>\n",
      "<dd class=\"dsc_data\">메리 도리아 러셀</dd>\n",
      "<dt class=\"dsc_tit\">출판</dt>\n",
      "<dd class=\"dsc_data\">황금가지</dd>\n",
      "<dt class=\"dsc_tit\">평점</dt>\n",
      "<dd class=\"dsc_data type_star\">0</dd>\n",
      "</dl>\n",
      "</div>\n",
      "</a>, <a class=\"poster_area\" data-clk=\"tcc_bok.bestapi\" data-gdid=\"PC-THEME-CULTURE-BESTSELLER-API[blocks][3][materials][0]\" href=\"http://book.naver.com/bookdb/book_detail.naver?bid=22353804\" target=\"_blank\">\n",
      "<div class=\"poster_thumb\">\n",
      "<img alt=\"\" data-src=\"https://s.pstatic.net/dthumb.phinf/?src=%22https%3A%2F%2Fbookthumb-phinf.pstatic.net%2Fcover%2F223%2F538%2F22353804.jpg%22&amp;type=nf240_366\" height=\"183\" onerror=\"this.outerHTML='&lt;span class=\\'pm_noimg\\'&gt;&lt;span class=\\'noimg_text\\'&gt;이미지 준비중&lt;/span&gt;&lt;/span&gt;'\" width=\"120\"/>\n",
      "<span class=\"thumb_bd\"></span>\n",
      "</div>\n",
      "<div class=\"poster_info\">\n",
      "<strong class=\"title\"><span class=\"rank\">1<span class=\"blind\">위</span></span>작별인사</strong>\n",
      "<dl class=\"list_dsc\">\n",
      "<dt class=\"dsc_tit\">저자</dt>\n",
      "<dd class=\"dsc_data\">김영하</dd>\n",
      "<dt class=\"dsc_tit\">출판</dt>\n",
      "<dd class=\"dsc_data\">복복서가</dd>\n",
      "<dt class=\"dsc_tit\">평점</dt>\n",
      "<dd class=\"dsc_data type_star\">0</dd>\n",
      "</dl>\n",
      "</div>\n",
      "</a>, <a class=\"poster_area\" data-clk=\"tcc_bok.bestapi\" data-gdid=\"PC-THEME-CULTURE-BESTSELLER-API[blocks][3][materials][1]\" href=\"http://book.naver.com/bookdb/book_detail.naver?bid=22317823\" target=\"_blank\">\n",
      "<div class=\"poster_thumb\">\n",
      "<img alt=\"\" data-src=\"https://s.pstatic.net/dthumb.phinf/?src=%22https%3A%2F%2Fbookthumb-phinf.pstatic.net%2Fcover%2F223%2F178%2F22317823.jpg%22&amp;type=nf240_366\" height=\"183\" onerror=\"this.outerHTML='&lt;span class=\\'pm_noimg\\'&gt;&lt;span class=\\'noimg_text\\'&gt;이미지 준비중&lt;/span&gt;&lt;/span&gt;'\" width=\"120\"/>\n",
      "<span class=\"thumb_bd\"></span>\n",
      "</div>\n",
      "<div class=\"poster_info\">\n",
      "<strong class=\"title\"><span class=\"rank\">2<span class=\"blind\">위</span></span>기분을 관리하면 인생이 ...</strong>\n",
      "<dl class=\"list_dsc\">\n",
      "<dt class=\"dsc_tit\">저자</dt>\n",
      "<dd class=\"dsc_data\">김다슬</dd>\n",
      "<dt class=\"dsc_tit\">출판</dt>\n",
      "<dd class=\"dsc_data\">클라우디아</dd>\n",
      "<dt class=\"dsc_tit\">평점</dt>\n",
      "<dd class=\"dsc_data type_star\">0</dd>\n",
      "</dl>\n",
      "</div>\n",
      "</a>, <a class=\"poster_area\" data-clk=\"tcc_bok.bestapi\" data-gdid=\"PC-THEME-CULTURE-BESTSELLER-API[blocks][3][materials][2]\" href=\"http://book.naver.com/bookdb/book_detail.naver?bid=22485918\" target=\"_blank\">\n",
      "<div class=\"poster_thumb\">\n",
      "<img alt=\"\" data-src=\"https://s.pstatic.net/dthumb.phinf/?src=%22https%3A%2F%2Fbookthumb-phinf.pstatic.net%2Fcover%2F224%2F859%2F22485918.jpg%22&amp;type=nf240_366\" height=\"183\" onerror=\"this.outerHTML='&lt;span class=\\'pm_noimg\\'&gt;&lt;span class=\\'noimg_text\\'&gt;이미지 준비중&lt;/span&gt;&lt;/span&gt;'\" width=\"120\"/>\n",
      "<span class=\"thumb_bd\"></span>\n",
      "</div>\n",
      "<div class=\"poster_info\">\n",
      "<strong class=\"title\"><span class=\"rank\">3<span class=\"blind\">위</span></span>역행자</strong>\n",
      "<dl class=\"list_dsc\">\n",
      "<dt class=\"dsc_tit\">저자</dt>\n",
      "<dd class=\"dsc_data\">자청</dd>\n",
      "<dt class=\"dsc_tit\">출판</dt>\n",
      "<dd class=\"dsc_data\">웅진지식하우스</dd>\n",
      "<dt class=\"dsc_tit\">평점</dt>\n",
      "<dd class=\"dsc_data type_star\">0</dd>\n",
      "</dl>\n",
      "</div>\n",
      "</a>, <a class=\"poster_area\" data-clk=\"tcc_bok.bestapi\" data-gdid=\"PC-THEME-CULTURE-BESTSELLER-API[blocks][3][materials][3]\" href=\"http://book.naver.com/bookdb/book_detail.naver?bid=22458391\" target=\"_blank\">\n",
      "<div class=\"poster_thumb\">\n",
      "<img alt=\"\" data-src=\"https://s.pstatic.net/dthumb.phinf/?src=%22https%3A%2F%2Fbookthumb-phinf.pstatic.net%2Fcover%2F224%2F583%2F22458391.jpg%22&amp;type=nf240_366\" height=\"183\" onerror=\"this.outerHTML='&lt;span class=\\'pm_noimg\\'&gt;&lt;span class=\\'noimg_text\\'&gt;이미지 준비중&lt;/span&gt;&lt;/span&gt;'\" width=\"120\"/>\n",
      "<span class=\"thumb_bd\"></span>\n",
      "</div>\n",
      "<div class=\"poster_info\">\n",
      "<strong class=\"title\"><span class=\"rank\">4<span class=\"blind\">위</span></span>인플레이션에서 살아남기</strong>\n",
      "<dl class=\"list_dsc\">\n",
      "<dt class=\"dsc_tit\">저자</dt>\n",
      "<dd class=\"dsc_data\">오건영</dd>\n",
      "<dt class=\"dsc_tit\">출판</dt>\n",
      "<dd class=\"dsc_data\">페이지2북스</dd>\n",
      "<dt class=\"dsc_tit\">평점</dt>\n",
      "<dd class=\"dsc_data type_star\">0</dd>\n",
      "</dl>\n",
      "</div>\n",
      "</a>, <a class=\"poster_area\" data-clk=\"tcc_bok.bestapi\" data-gdid=\"PC-THEME-CULTURE-BESTSELLER-API[blocks][3][materials][4]\" href=\"http://book.naver.com/bookdb/book_detail.naver?bid=18926010\" target=\"_blank\">\n",
      "<div class=\"poster_thumb\">\n",
      "<img alt=\"\" data-src=\"https://s.pstatic.net/dthumb.phinf/?src=%22https%3A%2F%2Fbookthumb-phinf.pstatic.net%2Fcover%2F189%2F260%2F18926010.jpg%22&amp;type=nf240_366\" height=\"183\" onerror=\"this.outerHTML='&lt;span class=\\'pm_noimg\\'&gt;&lt;span class=\\'noimg_text\\'&gt;이미지 준비중&lt;/span&gt;&lt;/span&gt;'\" width=\"120\"/>\n",
      "<span class=\"thumb_bd\"></span>\n",
      "</div>\n",
      "<div class=\"poster_info\">\n",
      "<strong class=\"title\"><span class=\"rank\">5<span class=\"blind\">위</span></span>불편한 편의점</strong>\n",
      "<dl class=\"list_dsc\">\n",
      "<dt class=\"dsc_tit\">저자</dt>\n",
      "<dd class=\"dsc_data\">김호연</dd>\n",
      "<dt class=\"dsc_tit\">출판</dt>\n",
      "<dd class=\"dsc_data\">나무옆의자</dd>\n",
      "<dt class=\"dsc_tit\">평점</dt>\n",
      "<dd class=\"dsc_data type_star\">8.84</dd>\n",
      "</dl>\n",
      "</div>\n",
      "</a>, <a class=\"link_login\" data-clk=\"log_off.login\" href=\"https://nid.naver.com/nidlogin.login?mode=form&amp;url=https%3A%2F%2Fwww.naver.com\"><i class=\"ico_naver\"><span class=\"blind\">NAVER</span></i>Sign in</a>, <a class=\"link_look\" data-clk=\"log_off.searchid\" href=\"https://nid.naver.com/user/help.nhn?todo=idinquiry\">Forgot Username</a>, <a class=\"link_look\" data-clk=\"log_off.searchpass\" href=\"https://nid.naver.com/nidreminder.form\">Password</a>, <a class=\"link_join\" data-clk=\"log_off.registration\" href=\"https://nid.naver.com/nidregister.form?url=https%3A%2F%2Fwww.naver.com\">Sign up</a>, <a class=\"btn_nav btn_prev\" data-clk=\"squ.pre\" href=\"#\" role=\"button\"><span class=\"blind\">이전</span></a>, <a class=\"btn_nav btn_next\" data-clk=\"squ.next\" href=\"#\" role=\"button\"><span class=\"blind\">다음</span></a>, <a class=\"card_news\" data-clk=\"squ.line3\" href=\"https://search.naver.com/search.naver?sm=top_hty&amp;fbm=0&amp;ie=utf8&amp;query=%EC%BD%94%EB%A1%9C%EB%82%9819\"><i class=\"news_badge\">이슈</i><span class=\"news\">코로나바이러스감염증-19 현황</span></a>, <a class=\"card_stock\" data-clk=\"squ.kospi\" href=\"https://finance.naver.com/sise/sise_index.nhn?code=KOSPI\">\n",
      "<strong class=\"stock_title\">증시</strong>\n",
      "<div class=\"stock_box\">\n",
      "<em class=\"name\">코스피</em>\n",
      "<strong class=\"current\">2,608.10</strong>\n",
      "<span class=\"rate rate_down\"><span class=\"blind\">하락</span>18.05 -0.69%</span>\n",
      "</div>\n",
      "</a>, <a class=\"card_stock\" data-clk=\"squ.kosdaq\" href=\"https://finance.naver.com/sise/sise_index.nhn?code=KOSDAQ\">\n",
      "<strong class=\"stock_title\">증시</strong>\n",
      "<div class=\"stock_box\">\n",
      "<em class=\"name\">코스닥</em>\n",
      "<strong class=\"current\">867.80</strong>\n",
      "<span class=\"rate rate_down\"><span class=\"blind\">하락</span>7.15 -0.82%</span>\n",
      "</div>\n",
      "</a>, <a class=\"card_stock type_exchange\" data-clk=\"squ.usd\" href=\"https://finance.naver.com/marketindex/exchangeDetail.nhn?marketindexCd=FX_USDKRW\">\n",
      "<strong class=\"stock_title\">환율</strong>\n",
      "<div class=\"stock_box\">\n",
      "<em class=\"name\">USD</em>\n",
      "<strong class=\"current\">1,259.80</strong>\n",
      "<span class=\"rate rate_up\"><span class=\"blind\">상승</span>2.30 +0.18%</span>\n",
      "</div>\n",
      "</a>, <a class=\"content_top\" href=\"#wrap\" id=\"NM_scroll_top_btn\"><span class=\"blind\">TOP</span></a>, <a class=\"link_all\" data-clk=\"svcmap\" href=\"more.html\">서비스 전체보기</a>, <a class=\"link_partner\" data-clk=\"creator\" href=\"https://www.navercorp.com/service/creators\">크리에이터</a>, <a class=\"link_partner\" data-clk=\"smbusiness\" href=\"https://www.navercorp.com/service/business\">스몰비즈니스</a>, <a class=\"link_partner\" data-clk=\"sme\" href=\"https://campaign.naver.com/smefullcare/online/\">SME 풀케어 시스템</a>, <a class=\"link_partner\" data-clk=\"service\" href=\"https://business.naver.com/service.html\">비즈니스 · 광고</a>, <a class=\"link_partner\" data-clk=\"store\" href=\"https://sell.storefarm.naver.com/#/home/about\">스토어 개설</a>, <a class=\"link_partner\" data-clk=\"place\" href=\"https://smartplace.naver.com\">지역업체 등록</a>, <a class=\"link_partner\" data-clk=\"expert\" href=\"https://expert.naver.com/expert/introduction?tab=guide#join\">엑스퍼트 등록</a>, <a class=\"link_partner\" data-clk=\"center\" href=\"https://developers.naver.com\">네이버 개발자 센터</a>, <a class=\"link_partner\" data-clk=\"openapi\" href=\"https://developers.naver.com/docs/common/openapiguide/#/apilist.md\">오픈 API</a>, <a class=\"link_partner\" data-clk=\"opensource\" href=\"https://naver.github.io\">오픈소스</a>, <a class=\"link_partner\" data-clk=\"d2\" href=\"https://d2.naver.com\">네이버 D2</a>, <a class=\"link_partner\" data-clk=\"naverD2SF\" href=\"http://d2startup.com\">네이버 D2SF</a>, <a class=\"link_partner\" data-clk=\"labs\" href=\"https://www.naverlabs.com\">네이버 랩스</a>, <a class=\"service_logo\" data-clk=\"bt\" href=\"http://whale.naver.com/\"> <img alt=\"웨일\" height=\"48\" src=\"data:image/png;base64,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\" width=\"48\"/> </a>, <a class=\"dsc\" data-clk=\"bt\" href=\"http://whale.naver.com/\">다운받기</a>, <a class=\"service_logo\" data-clk=\"link\" href=\"https://search.naver.com/search.naver?where=nexearch&amp;sm=top_hty&amp;fbm=1&amp;ie=utf8&amp;query=%ED%94%84%EB%A1%9C%EC%A0%9D%ED%8A%B8%EA%BD%83\"> <img alt=\"꽃\" height=\"50\" src=\"data:image/png;base64,iVBORw0KGgoAAAANSUhEUgAAAF4AAABkCAMAAAA47XeXAAAAgVBMVEUAAADN5PdGm99Gm99Gm99Gm99Gm95Gm99Gm99Gm99Gm99Gm99Gm99Gm99Gm99Gm99Gm99Gm99Gm99Gm99Gm99Gm99Gm99Gmt9Gm99Gm99Gm99Gm95Gm99Gm99Gm95Gm99Hm99Gm99Gm9/////3+/5cp+LO5PfR5/fO5fdcp+P7/f/zv5GhAAAAInRSTlMA/v7vH9u5qJNgGwb6l8a9uqF9WFUyLxYMCtbVmLCwe4OCj8gzEgAAA0NJREFUaN7NmmFz4iAQhkkwMTHGWrWtWvWuq8mF+/8/8Ey2nb0OhSwQZnw+MHQ7pbjAy2s2gsuiLPJMLpcyy4tyISZltnmHbxw3MzEVr/MUNNL5q5iCt2ccXCN9fhPB7CQYkTsRRlWDlboSAexzGCHfC28OKxhldfDOzBMwePLNTw0sauHFFphshQcLCUwkaQRfXYBPSkrEUBdv3jezcXXhw1ciUhc+fCUidQlH7qzqEk5d2dQlnHxvU5dwVgdXdSGclaiGyamt6hLO1qIu4ZASzcFE092SBprk1jagulvXAAw/qb5N7m176xQYmOPoLymYaK/X65/PNhlagE6LGUhfRM8FjNzuf/73//bHmInzoJEpjMyeWpp9RzGz/PT6+QvMNO2Q+67PPeYZY5h7jDVg5OM+/BGikd13JfDAj/Ad1WLMyEyUwKPT00ypN1GKAljQJtFiFgqRe86eYhbWIvPPPR5d+9pKiIgUwKNJdHXBvW9jyRye1EWLWYfnJcd141Byspizz7gbUyWDuqiW0v15D9g3ZgF86JwyKUgUHJaATUmS5rsEdkkTZLjZS8Alw+skFr8Nl6H6uosShaKOp3Zo+/jgFTDe+wcSfv0yFGfQaLX7tDO0reXOPRuMCG4Q11Y3IiYblWgzS7R+h31qdRtlGB7zikeUckz+AB3a8FuMqD7Cd2nhUHLOEIkLubQIkEuLxIdwEwUy3HyXxsbgPMJcGuGox+TSIugxuTQ+KHIaAS5N92eIIuMT5tJoPfHy5q9yKoXLelLuKRri0mjMQdhwTPw6Sv8pzKXhFyhNilEwkSCXRrnAnaPnJdyl0UrqXircpeHVglnv+62K4NJo3lFcGmWd79KO7OQoXAE8XNO6tIQGxj7fpfHTwk8RubQLWEGvgTNGKzj01fixunCMCCYcvSSlaFwUyKVx86J3bczpUR3zimq1LqdosAUbJF54ar+uk5Gju436mPTk8ZAXFdO93HRYTesUVgf3B+y0XdxLfdVputmfKp/iBtNjyl3c0kzUwtJIWewIPvAL9LOyWLsV9WAps3VRzh6hJBm3oOqsRKfHLGYzS/GP+iLBuBKdqkd+iWPkFZTHf4Em4us/uhI5qss/6zK5u8+AXpwAAAAASUVORK5CYII=\" width=\"47\"/> </a>, <a class=\"dsc\" data-clk=\"link\" href=\"https://search.naver.com/search.naver?where=nexearch&amp;sm=top_hty&amp;fbm=1&amp;ie=utf8&amp;query=%ED%94%84%EB%A1%9C%EC%A0%9D%ED%8A%B8%EA%BD%83\">바로가기</a>]\n"
     ]
    }
   ],
   "source": [
    "with urlopen('http://naver.com') as response:\n",
    "    html = response.read()\n",
    "    bs   = BeautifulSoup(html, 'html.parser')\n",
    "    \n",
    "    elements = bs.select('div > a')\n",
    "    print(elements)"
   ]
  },
  {
   "cell_type": "code",
   "execution_count": 14,
   "id": "07829d15",
   "metadata": {},
   "outputs": [],
   "source": [
    "from urllib.request import urlopen\n",
    "from bs4 import BeautifulSoup"
   ]
  },
  {
   "cell_type": "code",
   "execution_count": 15,
   "id": "5cecc595",
   "metadata": {},
   "outputs": [],
   "source": [
    "# N날씨\n",
    "url = 'https://weather.naver.com/today/'"
   ]
  },
  {
   "cell_type": "code",
   "execution_count": 21,
   "id": "a0f0e0b7",
   "metadata": {},
   "outputs": [],
   "source": [
    "with urlopen(url) as response:\n",
    "    html = response.read()\n",
    "    bs = BeautifulSoup(html, 'html.parser')"
   ]
  },
  {
   "cell_type": "code",
   "execution_count": 22,
   "id": "258fdd72",
   "metadata": {},
   "outputs": [],
   "source": [
    "#now > div > div.weather_area > div.weather_now > div > strong"
   ]
  },
  {
   "cell_type": "code",
   "execution_count": 23,
   "id": "2c3fad03",
   "metadata": {},
   "outputs": [],
   "source": [
    "selector = '#now > div > div.weather_area > div.weather_now > div > strong'"
   ]
  },
  {
   "cell_type": "code",
   "execution_count": 24,
   "id": "5a778bbc",
   "metadata": {},
   "outputs": [
    {
     "data": {
      "text/plain": [
       "[<strong class=\"current\">\n",
       " <span class=\"blind\">현재 온도</span>21.9<span class=\"degree\">°</span>\n",
       " </strong>]"
      ]
     },
     "execution_count": 24,
     "metadata": {},
     "output_type": "execute_result"
    }
   ],
   "source": [
    "elements = bs.select(selector)\n",
    "elements"
   ]
  },
  {
   "cell_type": "code",
   "execution_count": 25,
   "id": "cec6a2e5",
   "metadata": {},
   "outputs": [
    {
     "data": {
      "text/plain": [
       "bs4.element.ResultSet"
      ]
     },
     "execution_count": 25,
     "metadata": {},
     "output_type": "execute_result"
    }
   ],
   "source": [
    "type(elements)"
   ]
  },
  {
   "cell_type": "code",
   "execution_count": 27,
   "id": "aad6128d",
   "metadata": {},
   "outputs": [
    {
     "data": {
      "text/plain": [
       "'현재 온도21.9°'"
      ]
     },
     "execution_count": 27,
     "metadata": {},
     "output_type": "execute_result"
    }
   ],
   "source": [
    "temperature = elements[0].get_text()\n",
    "temperature = temperature.strip()\n",
    "temperature"
   ]
  },
  {
   "cell_type": "code",
   "execution_count": null,
   "id": "e5ce5fde",
   "metadata": {},
   "outputs": [],
   "source": []
  },
  {
   "cell_type": "code",
   "execution_count": 28,
   "id": "99aef609",
   "metadata": {},
   "outputs": [],
   "source": [
    "# 주간예보 (일별)\n",
    "selector = '#weekly > div.scroll_control.end_left > div > ul'\n",
    "selector = '#weekly > div.scroll_control.end_left > div > ul > li:nth-child(3)'"
   ]
  },
  {
   "cell_type": "code",
   "execution_count": 29,
   "id": "b49f48a9",
   "metadata": {},
   "outputs": [
    {
     "data": {
      "text/plain": [
       "[<li class=\"week_item\">\n",
       " <div class=\"day_data\">\n",
       " <div class=\"cell_date\">\n",
       " <span class=\"date_inner\">\n",
       " <strong class=\"day\">토</strong><span class=\"date\">6.11.</span>\n",
       " </span>\n",
       " </div>\n",
       " <div class=\"cell_weather\">\n",
       " <span class=\"weather_inner\" data-wetr-cd=\"7\" data-wetr-txt=\"흐림\">\n",
       " <strong class=\"inner_text left\">\n",
       " <span class=\"timeslot\">오전</span>\n",
       " <span class=\"rainfall\"><span class=\"blind\">강수확률</span>30%</span>\n",
       " </strong>\n",
       " <i class=\"ico _cnLazy\" data-ico=\"ico_wt7\"><span class=\"blind\">흐림</span></i>\n",
       " </span>\n",
       " <span class=\"weather_inner\" data-wetr-cd=\"15\" data-wetr-txt=\"구름많고 한때 소나기\">\n",
       " <i class=\"ico _cnLazy\" data-ico=\"ico_wt15\"><span class=\"blind\">구름많고 한때 소나기</span></i>\n",
       " <strong class=\"inner_text\">\n",
       " <span class=\"timeslot\">오후</span>\n",
       " <span class=\"rainfall\"><span class=\"blind\">강수확률</span>40%</span>\n",
       " </strong>\n",
       " </span>\n",
       " </div>\n",
       " <div class=\"cell_temperature\">\n",
       " <strong class=\"temperature\">\n",
       " <span class=\"lowest\"><span class=\"blind\">최저기온</span>19°</span>\n",
       " <span class=\"bar\">/</span>\n",
       " <span class=\"highest\"><span class=\"blind\">최고기온</span>29°</span>\n",
       " </strong>\n",
       " </div>\n",
       " </div>\n",
       " </li>]"
      ]
     },
     "execution_count": 29,
     "metadata": {},
     "output_type": "execute_result"
    }
   ],
   "source": [
    "elements = bs.select(selector)\n",
    "elements"
   ]
  },
  {
   "cell_type": "code",
   "execution_count": 30,
   "id": "7fa058d0",
   "metadata": {},
   "outputs": [
    {
     "data": {
      "text/plain": [
       "1"
      ]
     },
     "execution_count": 30,
     "metadata": {},
     "output_type": "execute_result"
    }
   ],
   "source": [
    "len(elements)"
   ]
  },
  {
   "cell_type": "code",
   "execution_count": 31,
   "id": "7dbff4bb",
   "metadata": {},
   "outputs": [
    {
     "data": {
      "text/plain": [
       "'\\n\\n\\n\\n토6.11.\\n\\n\\n\\n\\n\\n오전\\n강수확률30%\\n\\n흐림\\n\\n\\n구름많고 한때 소나기\\n\\n오후\\n강수확률40%\\n\\n\\n\\n\\n\\n최저기온19°\\n/\\n최고기온29°\\n\\n\\n\\n'"
      ]
     },
     "execution_count": 31,
     "metadata": {},
     "output_type": "execute_result"
    }
   ],
   "source": [
    "temp = elements[0].get_text()\n",
    "temp"
   ]
  },
  {
   "cell_type": "code",
   "execution_count": 32,
   "id": "71c5610e",
   "metadata": {},
   "outputs": [],
   "source": [
    "arr_elements = list()\n",
    "\n",
    "for i in range(100):\n",
    "    selector = '#weekly > div.scroll_control.end_left > div > ul > li:nth-child({n})'.format(n=i)\n",
    "    elements = bs.select(selector)\n",
    "    \n",
    "    if len(elements) > 0:\n",
    "        temp_text = elements[0].get_text()\n",
    "        temp_text = temp_text.replace('\\n', ' ')\n",
    "        temp_text = temp_text.strip()\n",
    "        arr_elements.append(temp_text)"
   ]
  },
  {
   "cell_type": "code",
   "execution_count": 33,
   "id": "9aec60be",
   "metadata": {},
   "outputs": [
    {
     "data": {
      "text/plain": [
       "'오늘6.09.      오전 강수확률70%  흐리고 가끔 비   구름많고 한때 소나기  오후 강수확률60%      최저기온17° / 최고기온24°'"
      ]
     },
     "execution_count": 33,
     "metadata": {},
     "output_type": "execute_result"
    }
   ],
   "source": [
    "arr_elements[0]"
   ]
  },
  {
   "cell_type": "code",
   "execution_count": 34,
   "id": "ff2f6ec0",
   "metadata": {},
   "outputs": [
    {
     "data": {
      "text/plain": [
       "'내일6.10.      오전 강수확률0%  맑음   흐림  오후 강수확률30%      최저기온17° / 최고기온29°'"
      ]
     },
     "execution_count": 34,
     "metadata": {},
     "output_type": "execute_result"
    }
   ],
   "source": [
    "arr_elements[1]"
   ]
  },
  {
   "cell_type": "code",
   "execution_count": 35,
   "id": "776faa0e",
   "metadata": {},
   "outputs": [
    {
     "data": {
      "text/plain": [
       "'일6.19.      오전 강수확률30%  흐림   흐림  오후 강수확률30%      최저기온19° / 최고기온29°'"
      ]
     },
     "execution_count": 35,
     "metadata": {},
     "output_type": "execute_result"
    }
   ],
   "source": [
    "arr_elements[-1]"
   ]
  },
  {
   "cell_type": "code",
   "execution_count": 36,
   "id": "2e4aa7f4",
   "metadata": {},
   "outputs": [
    {
     "data": {
      "text/plain": [
       "11"
      ]
     },
     "execution_count": 36,
     "metadata": {},
     "output_type": "execute_result"
    }
   ],
   "source": [
    "len(arr_elements)"
   ]
  },
  {
   "cell_type": "code",
   "execution_count": 37,
   "id": "39b508ff",
   "metadata": {},
   "outputs": [
    {
     "name": "stdout",
     "output_type": "stream",
     "text": [
      "오늘6.09.      오전 강수확률70%  흐리고 가끔 비   구름많고 한때 소나기  오후 강수확률60%      최저기온17° / 최고기온24°\n",
      "내일6.10.      오전 강수확률0%  맑음   흐림  오후 강수확률30%      최저기온17° / 최고기온29°\n",
      "토6.11.      오전 강수확률30%  흐림   구름많고 한때 소나기  오후 강수확률40%      최저기온19° / 최고기온29°\n",
      "일6.12.      오전 강수확률0%  맑음   구름많음  오후 강수확률30%      최저기온17° / 최고기온30°\n",
      "월6.13.      오전 강수확률30%  구름많음   구름많음  오후 강수확률30%      최저기온19° / 최고기온28°\n",
      "화6.14.      오전 강수확률30%  흐림   흐림  오후 강수확률30%      최저기온17° / 최고기온26°\n",
      "수6.15.      오전 강수확률30%  구름많음   맑음  오후 강수확률0%      최저기온16° / 최고기온29°\n",
      "목6.16.      오전 강수확률0%  맑음   맑음  오후 강수확률0%      최저기온17° / 최고기온29°\n",
      "금6.17.      오전 강수확률30%  구름많음   구름많음  오후 강수확률30%      최저기온19° / 최고기온30°\n",
      "토6.18.      오전 강수확률30%  구름많음   구름많음  오후 강수확률30%      최저기온20° / 최고기온30°\n",
      "일6.19.      오전 강수확률30%  흐림   흐림  오후 강수확률30%      최저기온19° / 최고기온29°\n"
     ]
    }
   ],
   "source": [
    "for i in range(len(arr_elements)):\n",
    "    print(arr_elements[i])"
   ]
  },
  {
   "cell_type": "code",
   "execution_count": 38,
   "id": "04a0305d",
   "metadata": {},
   "outputs": [
    {
     "data": {
      "text/plain": [
       "['오늘6.09.',\n",
       " '오전',\n",
       " '강수확률70%',\n",
       " '흐리고',\n",
       " '가끔',\n",
       " '비',\n",
       " '구름많고',\n",
       " '한때',\n",
       " '소나기',\n",
       " '오후',\n",
       " '강수확률60%',\n",
       " '최저기온17°',\n",
       " '/',\n",
       " '최고기온24°']"
      ]
     },
     "execution_count": 38,
     "metadata": {},
     "output_type": "execute_result"
    }
   ],
   "source": [
    "arr_elements[0].split()"
   ]
  },
  {
   "cell_type": "code",
   "execution_count": null,
   "id": "f2d0ff20",
   "metadata": {},
   "outputs": [],
   "source": []
  }
 ],
 "metadata": {
  "kernelspec": {
   "display_name": "Python 3 (ipykernel)",
   "language": "python",
   "name": "python3"
  },
  "language_info": {
   "codemirror_mode": {
    "name": "ipython",
    "version": 3
   },
   "file_extension": ".py",
   "mimetype": "text/x-python",
   "name": "python",
   "nbconvert_exporter": "python",
   "pygments_lexer": "ipython3",
   "version": "3.9.12"
  }
 },
 "nbformat": 4,
 "nbformat_minor": 5
}
