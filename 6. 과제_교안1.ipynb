{
 "cells": [
  {
   "cell_type": "code",
   "execution_count": 1,
   "id": "81f653fb",
   "metadata": {},
   "outputs": [],
   "source": [
    "from bs4 import BeautifulSoup \n",
    "from urllib.request import urlopen\n",
    "\n",
    "import pandas as pd\n",
    "import re"
   ]
  },
  {
   "cell_type": "code",
   "execution_count": 2,
   "id": "083f46d4",
   "metadata": {},
   "outputs": [
    {
     "data": {
      "text/plain": [
       "<title>랭킹 : 네이버 영화</title>"
      ]
     },
     "execution_count": 2,
     "metadata": {},
     "output_type": "execute_result"
    }
   ],
   "source": [
    "url = 'https://movie.naver.com/movie/sdb/rank/rmovie.naver'\n",
    "html = urlopen(url)\n",
    "soup = BeautifulSoup(html, \"lxml\")\n",
    "soup.title"
   ]
  },
  {
   "cell_type": "code",
   "execution_count": 3,
   "id": "eb5b9736",
   "metadata": {},
   "outputs": [],
   "source": [
    "table_tag = soup.find('table', 'list_ranking')\n",
    "# table_tag"
   ]
  },
  {
   "cell_type": "code",
   "execution_count": 4,
   "id": "3f0f6f30",
   "metadata": {},
   "outputs": [
    {
     "data": {
      "text/plain": [
       "bs4.element.Tag"
      ]
     },
     "execution_count": 4,
     "metadata": {},
     "output_type": "execute_result"
    }
   ],
   "source": [
    "tbody_tag = table_tag.find('tbody')\n",
    "type(tbody_tag)"
   ]
  },
  {
   "cell_type": "code",
   "execution_count": 5,
   "id": "f3031023",
   "metadata": {},
   "outputs": [
    {
     "data": {
      "text/plain": [
       "56"
      ]
     },
     "execution_count": 5,
     "metadata": {},
     "output_type": "execute_result"
    }
   ],
   "source": [
    "tr_tags = tbody_tag.find_all('tr')\n",
    "len(tr_tags)"
   ]
  },
  {
   "cell_type": "code",
   "execution_count": 6,
   "id": "54615757",
   "metadata": {},
   "outputs": [
    {
     "data": {
      "text/plain": [
       "<tr><td class=\"blank01\" colspan=\"8\"></td></tr>"
      ]
     },
     "execution_count": 6,
     "metadata": {},
     "output_type": "execute_result"
    }
   ],
   "source": [
    "tr_tags[0]   # Blank"
   ]
  },
  {
   "cell_type": "code",
   "execution_count": 7,
   "id": "299c51a7",
   "metadata": {},
   "outputs": [
    {
     "data": {
      "text/plain": [
       "<tr>\n",
       "<td class=\"ac\"><img alt=\"01\" height=\"13\" src=\"https://ssl.pstatic.net/imgmovie/2007/img/common/bullet_r_r01.gif\" width=\"14\"/></td>\n",
       "<td class=\"title\">\n",
       "<div class=\"tit3\">\n",
       "<a href=\"/movie/bi/mi/basic.naver?code=192608\" title=\"범죄도시2\">범죄도시2</a>\n",
       "</div>\n",
       "</td>\n",
       "<!-- 평점순일 때 평점 추가하기  -->\n",
       "<!----------------------------------------->\n",
       "<td class=\"ac\"><img alt=\"na\" class=\"arrow\" height=\"10\" src=\"https://ssl.pstatic.net/imgmovie/2007/img/common/icon_na_1.gif\" width=\"7\"/></td>\n",
       "<td class=\"range ac\">0</td>\n",
       "</tr>"
      ]
     },
     "execution_count": 7,
     "metadata": {},
     "output_type": "execute_result"
    }
   ],
   "source": [
    "tr_tags[1]   # 1위"
   ]
  },
  {
   "cell_type": "code",
   "execution_count": 8,
   "id": "27226173",
   "metadata": {},
   "outputs": [
    {
     "data": {
      "text/plain": [
       "<tr>\n",
       "<td class=\"ac\"><img alt=\"010\" height=\"13\" src=\"https://ssl.pstatic.net/imgmovie/2007/img/common/bullet_r_r10.gif\" width=\"14\"/></td>\n",
       "<td class=\"title\">\n",
       "<div class=\"tit3\">\n",
       "<a href=\"/movie/bi/mi/basic.naver?code=215579\" title=\"피는 물보다 진하다\">피는 물보다 진하다</a>\n",
       "</div>\n",
       "</td>\n",
       "<!-- 평점순일 때 평점 추가하기  -->\n",
       "<!----------------------------------------->\n",
       "<td class=\"ac\"><img alt=\"up\" class=\"arrow\" height=\"10\" src=\"https://ssl.pstatic.net/imgmovie/2007/img/common/icon_up_1.gif\" width=\"7\"/></td>\n",
       "<td class=\"range ac\">2</td>\n",
       "</tr>"
      ]
     },
     "execution_count": 8,
     "metadata": {},
     "output_type": "execute_result"
    }
   ],
   "source": [
    "tr_tags[10]   # 10위"
   ]
  },
  {
   "cell_type": "code",
   "execution_count": 9,
   "id": "958a2f8b",
   "metadata": {},
   "outputs": [],
   "source": [
    "idx = 1       # 1~10\n",
    "tr_tag = tr_tags[idx]"
   ]
  },
  {
   "cell_type": "code",
   "execution_count": 10,
   "id": "d8085aee",
   "metadata": {},
   "outputs": [
    {
     "data": {
      "text/plain": [
       "4"
      ]
     },
     "execution_count": 10,
     "metadata": {},
     "output_type": "execute_result"
    }
   ],
   "source": [
    "td_tags = tr_tag.find_all('td')\n",
    "len(td_tags)"
   ]
  },
  {
   "cell_type": "code",
   "execution_count": 11,
   "id": "a7a8845f",
   "metadata": {},
   "outputs": [
    {
     "data": {
      "text/plain": [
       "<td class=\"ac\"><img alt=\"01\" height=\"13\" src=\"https://ssl.pstatic.net/imgmovie/2007/img/common/bullet_r_r01.gif\" width=\"14\"/></td>"
      ]
     },
     "execution_count": 11,
     "metadata": {},
     "output_type": "execute_result"
    }
   ],
   "source": [
    "td_tags[0]"
   ]
  },
  {
   "cell_type": "code",
   "execution_count": 12,
   "id": "17510a6b",
   "metadata": {},
   "outputs": [
    {
     "data": {
      "text/plain": [
       "<td class=\"title\">\n",
       "<div class=\"tit3\">\n",
       "<a href=\"/movie/bi/mi/basic.naver?code=192608\" title=\"범죄도시2\">범죄도시2</a>\n",
       "</div>\n",
       "</td>"
      ]
     },
     "execution_count": 12,
     "metadata": {},
     "output_type": "execute_result"
    }
   ],
   "source": [
    "td_tags[1]"
   ]
  },
  {
   "cell_type": "code",
   "execution_count": 13,
   "id": "e49c235d",
   "metadata": {},
   "outputs": [
    {
     "data": {
      "text/plain": [
       "<td class=\"ac\"><img alt=\"na\" class=\"arrow\" height=\"10\" src=\"https://ssl.pstatic.net/imgmovie/2007/img/common/icon_na_1.gif\" width=\"7\"/></td>"
      ]
     },
     "execution_count": 13,
     "metadata": {},
     "output_type": "execute_result"
    }
   ],
   "source": [
    "td_tags[2]"
   ]
  },
  {
   "cell_type": "code",
   "execution_count": 14,
   "id": "648f13c1",
   "metadata": {},
   "outputs": [
    {
     "data": {
      "text/plain": [
       "<td class=\"range ac\">0</td>"
      ]
     },
     "execution_count": 14,
     "metadata": {},
     "output_type": "execute_result"
    }
   ],
   "source": [
    "td_tags[3]"
   ]
  },
  {
   "cell_type": "markdown",
   "id": "b00ef448",
   "metadata": {},
   "source": [
    "### 순위 : 이미지의 풍선도움말 (alt)"
   ]
  },
  {
   "cell_type": "code",
   "execution_count": 29,
   "id": "e60bbeee",
   "metadata": {},
   "outputs": [
    {
     "data": {
      "text/plain": [
       "1"
      ]
     },
     "execution_count": 29,
     "metadata": {},
     "output_type": "execute_result"
    }
   ],
   "source": [
    "ranking = td_tags[0].find('img')\n",
    "ranking = '' if ranking is None else int(ranking['alt'])\n",
    "# ranking = ranking['alt']\n",
    "ranking"
   ]
  },
  {
   "cell_type": "code",
   "execution_count": 30,
   "id": "cf95bfa6",
   "metadata": {},
   "outputs": [
    {
     "data": {
      "text/plain": [
       "1"
      ]
     },
     "execution_count": 30,
     "metadata": {},
     "output_type": "execute_result"
    }
   ],
   "source": [
    "ranking = int(ranking)\n",
    "ranking"
   ]
  },
  {
   "cell_type": "markdown",
   "id": "7001e5f6",
   "metadata": {},
   "source": [
    "### 영화명"
   ]
  },
  {
   "cell_type": "code",
   "execution_count": 17,
   "id": "e67fac3f",
   "metadata": {},
   "outputs": [
    {
     "data": {
      "text/plain": [
       "<a href=\"/movie/bi/mi/basic.naver?code=192608\" title=\"범죄도시2\">범죄도시2</a>"
      ]
     },
     "execution_count": 17,
     "metadata": {},
     "output_type": "execute_result"
    }
   ],
   "source": [
    "movie = td_tags[1].find('a')\n",
    "movie"
   ]
  },
  {
   "cell_type": "code",
   "execution_count": 18,
   "id": "0773b277",
   "metadata": {},
   "outputs": [
    {
     "data": {
      "text/plain": [
       "'범죄도시2'"
      ]
     },
     "execution_count": 18,
     "metadata": {},
     "output_type": "execute_result"
    }
   ],
   "source": [
    "title = movie.get_text().strip()\n",
    "title"
   ]
  },
  {
   "cell_type": "markdown",
   "id": "4fd497b7",
   "metadata": {},
   "source": [
    "### 링크"
   ]
  },
  {
   "cell_type": "code",
   "execution_count": 19,
   "id": "8a1456b4",
   "metadata": {},
   "outputs": [
    {
     "data": {
      "text/plain": [
       "'https://movie.naver.com'"
      ]
     },
     "execution_count": 19,
     "metadata": {},
     "output_type": "execute_result"
    }
   ],
   "source": [
    "root_url = 'https://movie.naver.com' if movie['href'].startswith('/') else ''\n",
    "root_url"
   ]
  },
  {
   "cell_type": "code",
   "execution_count": 20,
   "id": "5f8ed600",
   "metadata": {},
   "outputs": [
    {
     "data": {
      "text/plain": [
       "'https://movie.naver.com/movie/bi/mi/basic.naver?code=192608'"
      ]
     },
     "execution_count": 20,
     "metadata": {},
     "output_type": "execute_result"
    }
   ],
   "source": [
    "link = root_url + movie['href']\n",
    "link = link.strip()\n",
    "link"
   ]
  },
  {
   "cell_type": "markdown",
   "id": "bbb90834",
   "metadata": {},
   "source": [
    "### 변동폭 : 부호 + 변동값\n",
    ">화살표 DOWN : 마이너스\n",
    "- 화살표 UP : 플러스\n",
    "- cf. 마이너스인 경우를 제외하고 부호 생략"
   ]
  },
  {
   "cell_type": "code",
   "execution_count": 21,
   "id": "467263f5",
   "metadata": {},
   "outputs": [
    {
     "data": {
      "text/plain": [
       "''"
      ]
     },
     "execution_count": 21,
     "metadata": {},
     "output_type": "execute_result"
    }
   ],
   "source": [
    "range_sign = td_tags[2].find('img')\n",
    "range_sign = range_sign['alt']\n",
    "range_sign = '-' if range_sign=='down' else ''\n",
    "range_sign"
   ]
  },
  {
   "cell_type": "code",
   "execution_count": 22,
   "id": "2a9b27f1",
   "metadata": {},
   "outputs": [
    {
     "data": {
      "text/plain": [
       "'0'"
      ]
     },
     "execution_count": 22,
     "metadata": {},
     "output_type": "execute_result"
    }
   ],
   "source": [
    "range_num = td_tags[3].get_text()\n",
    "range_num = range_num.strip()\n",
    "range_num"
   ]
  },
  {
   "cell_type": "code",
   "execution_count": 23,
   "id": "9dc57ac8",
   "metadata": {},
   "outputs": [
    {
     "data": {
      "text/plain": [
       "'0'"
      ]
     },
     "execution_count": 23,
     "metadata": {},
     "output_type": "execute_result"
    }
   ],
   "source": [
    "range_ac = range_sign + range_num\n",
    "range_ac"
   ]
  },
  {
   "cell_type": "code",
   "execution_count": null,
   "id": "43e9ca40",
   "metadata": {},
   "outputs": [],
   "source": []
  },
  {
   "cell_type": "code",
   "execution_count": null,
   "id": "79303961",
   "metadata": {},
   "outputs": [],
   "source": []
  },
  {
   "cell_type": "code",
   "execution_count": 48,
   "id": "1586dc99",
   "metadata": {},
   "outputs": [],
   "source": [
    "def crawl_movie_list_top10():\n",
    "    \n",
    "    Ranking   = []\n",
    "    Title     = []\n",
    "    Link      = []\n",
    "    Range_ac  = []\n",
    "\n",
    "    url = 'https://movie.naver.com/movie/sdb/rank/rmovie.naver'\n",
    "    html = urlopen(url)\n",
    "    soup = BeautifulSoup(html, \"lxml\")\n",
    "\n",
    "    table_tag = soup.find('table', 'list_ranking')\n",
    "    tbody_tag = table_tag.find('tbody')\n",
    "    tr_tags = tbody_tag.find_all('tr')\n",
    "\n",
    "    try :\n",
    "        for tr_tag in tr_tags[1:11]:\n",
    "\n",
    "            td_tags = tr_tag.find_all('td')\n",
    "\n",
    "            # 순위\n",
    "            ranking = td_tags[0].find('img')\n",
    "            ranking = rankinf_f if ranking is None else int(ranking['alt'])          \n",
    "            rankinf_f = ranking\n",
    "            \n",
    "            # 영화명\n",
    "            movie = td_tags[1].find('a')\n",
    "            title = movie.get_text().strip()\n",
    "\n",
    "            # link\n",
    "            root_url = 'https://movie.naver.com' if movie['href'].startswith('/') else ''\n",
    "            link = root_url + movie['href']\n",
    "            link = link.strip()\n",
    "\n",
    "            # range_ac\n",
    "            range_sign = td_tags[2].find('img')\n",
    "            range_sign = range_sign['alt']\n",
    "            range_sign = '-' if range_sign=='down' else ''\n",
    "            range_num = td_tags[3].get_text()\n",
    "            range_num = range_num.strip()\n",
    "            range_ac = range_sign + range_num\n",
    "\n",
    "            Ranking.append(ranking)\n",
    "            Title.append(title)\n",
    "            Link.append(link)\n",
    "            Range_ac.append(range_ac)\n",
    "\n",
    "        data   = {'순위':Ranking, '영화명':Title, '변동폭':Range_ac, '링크':Link }\n",
    "        ret_df = pd.DataFrame(data)\n",
    "        \n",
    "    except Exception as err:\n",
    "        print('예기치 못한 오류 발생 :')\n",
    "    \n",
    "    return ret_df  "
   ]
  },
  {
   "cell_type": "code",
   "execution_count": 49,
   "id": "c4c20f98",
   "metadata": {},
   "outputs": [
    {
     "data": {
      "text/html": [
       "<div>\n",
       "<style scoped>\n",
       "    .dataframe tbody tr th:only-of-type {\n",
       "        vertical-align: middle;\n",
       "    }\n",
       "\n",
       "    .dataframe tbody tr th {\n",
       "        vertical-align: top;\n",
       "    }\n",
       "\n",
       "    .dataframe thead th {\n",
       "        text-align: right;\n",
       "    }\n",
       "</style>\n",
       "<table border=\"1\" class=\"dataframe\">\n",
       "  <thead>\n",
       "    <tr style=\"text-align: right;\">\n",
       "      <th></th>\n",
       "      <th>순위</th>\n",
       "      <th>영화명</th>\n",
       "      <th>변동폭</th>\n",
       "      <th>링크</th>\n",
       "    </tr>\n",
       "  </thead>\n",
       "  <tbody>\n",
       "    <tr>\n",
       "      <th>0</th>\n",
       "      <td>1</td>\n",
       "      <td>범죄도시2</td>\n",
       "      <td>0</td>\n",
       "      <td>https://movie.naver.com/movie/bi/mi/basic.nave...</td>\n",
       "    </tr>\n",
       "    <tr>\n",
       "      <th>1</th>\n",
       "      <td>2</td>\n",
       "      <td>쥬라기 월드: 도미니언</td>\n",
       "      <td>0</td>\n",
       "      <td>https://movie.naver.com/movie/bi/mi/basic.nave...</td>\n",
       "    </tr>\n",
       "    <tr>\n",
       "      <th>2</th>\n",
       "      <td>3</td>\n",
       "      <td>브로커</td>\n",
       "      <td>0</td>\n",
       "      <td>https://movie.naver.com/movie/bi/mi/basic.nave...</td>\n",
       "    </tr>\n",
       "    <tr>\n",
       "      <th>3</th>\n",
       "      <td>4</td>\n",
       "      <td>닥터 스트레인지: 대혼돈의 멀티버스</td>\n",
       "      <td>0</td>\n",
       "      <td>https://movie.naver.com/movie/bi/mi/basic.nave...</td>\n",
       "    </tr>\n",
       "    <tr>\n",
       "      <th>4</th>\n",
       "      <td>5</td>\n",
       "      <td>마녀(魔女) Part2. The Other One</td>\n",
       "      <td>2</td>\n",
       "      <td>https://movie.naver.com/movie/bi/mi/basic.nave...</td>\n",
       "    </tr>\n",
       "    <tr>\n",
       "      <th>5</th>\n",
       "      <td>6</td>\n",
       "      <td>그대가 조국</td>\n",
       "      <td>0</td>\n",
       "      <td>https://movie.naver.com/movie/bi/mi/basic.nave...</td>\n",
       "    </tr>\n",
       "    <tr>\n",
       "      <th>6</th>\n",
       "      <td>6</td>\n",
       "      <td>니 부모 얼굴이 보고 싶다</td>\n",
       "      <td>-1</td>\n",
       "      <td>https://movie.naver.com/movie/bi/mi/basic.nave...</td>\n",
       "    </tr>\n",
       "    <tr>\n",
       "      <th>7</th>\n",
       "      <td>8</td>\n",
       "      <td>카시오페아</td>\n",
       "      <td>0</td>\n",
       "      <td>https://movie.naver.com/movie/bi/mi/basic.nave...</td>\n",
       "    </tr>\n",
       "    <tr>\n",
       "      <th>8</th>\n",
       "      <td>9</td>\n",
       "      <td>탑건: 매버릭</td>\n",
       "      <td>0</td>\n",
       "      <td>https://movie.naver.com/movie/bi/mi/basic.nave...</td>\n",
       "    </tr>\n",
       "    <tr>\n",
       "      <th>9</th>\n",
       "      <td>10</td>\n",
       "      <td>피는 물보다 진하다</td>\n",
       "      <td>2</td>\n",
       "      <td>https://movie.naver.com/movie/bi/mi/basic.nave...</td>\n",
       "    </tr>\n",
       "  </tbody>\n",
       "</table>\n",
       "</div>"
      ],
      "text/plain": [
       "   순위                          영화명 변동폭  \\\n",
       "0   1                        범죄도시2   0   \n",
       "1   2                 쥬라기 월드: 도미니언   0   \n",
       "2   3                          브로커   0   \n",
       "3   4          닥터 스트레인지: 대혼돈의 멀티버스   0   \n",
       "4   5  마녀(魔女) Part2. The Other One   2   \n",
       "5   6                       그대가 조국   0   \n",
       "6   6               니 부모 얼굴이 보고 싶다  -1   \n",
       "7   8                        카시오페아   0   \n",
       "8   9                      탑건: 매버릭   0   \n",
       "9  10                   피는 물보다 진하다   2   \n",
       "\n",
       "                                                  링크  \n",
       "0  https://movie.naver.com/movie/bi/mi/basic.nave...  \n",
       "1  https://movie.naver.com/movie/bi/mi/basic.nave...  \n",
       "2  https://movie.naver.com/movie/bi/mi/basic.nave...  \n",
       "3  https://movie.naver.com/movie/bi/mi/basic.nave...  \n",
       "4  https://movie.naver.com/movie/bi/mi/basic.nave...  \n",
       "5  https://movie.naver.com/movie/bi/mi/basic.nave...  \n",
       "6  https://movie.naver.com/movie/bi/mi/basic.nave...  \n",
       "7  https://movie.naver.com/movie/bi/mi/basic.nave...  \n",
       "8  https://movie.naver.com/movie/bi/mi/basic.nave...  \n",
       "9  https://movie.naver.com/movie/bi/mi/basic.nave...  "
      ]
     },
     "execution_count": 49,
     "metadata": {},
     "output_type": "execute_result"
    }
   ],
   "source": [
    "top10_df  = crawl_movie_list_top10()\n",
    "top10_df "
   ]
  },
  {
   "cell_type": "code",
   "execution_count": 50,
   "id": "43ce46bd",
   "metadata": {},
   "outputs": [
    {
     "data": {
      "text/plain": [
       "순위                                                     1\n",
       "영화명                                                범죄도시2\n",
       "변동폭                                                    0\n",
       "링크     https://movie.naver.com/movie/bi/mi/basic.nave...\n",
       "Name: 0, dtype: object"
      ]
     },
     "execution_count": 50,
     "metadata": {},
     "output_type": "execute_result"
    }
   ],
   "source": [
    "top10_df .iloc[0]"
   ]
  },
  {
   "cell_type": "code",
   "execution_count": 51,
   "id": "6a08f266",
   "metadata": {},
   "outputs": [
    {
     "data": {
      "text/html": [
       "<div>\n",
       "<style scoped>\n",
       "    .dataframe tbody tr th:only-of-type {\n",
       "        vertical-align: middle;\n",
       "    }\n",
       "\n",
       "    .dataframe tbody tr th {\n",
       "        vertical-align: top;\n",
       "    }\n",
       "\n",
       "    .dataframe thead th {\n",
       "        text-align: right;\n",
       "    }\n",
       "</style>\n",
       "<table border=\"1\" class=\"dataframe\">\n",
       "  <thead>\n",
       "    <tr style=\"text-align: right;\">\n",
       "      <th></th>\n",
       "      <th>영화명</th>\n",
       "      <th>변동폭</th>\n",
       "      <th>링크</th>\n",
       "    </tr>\n",
       "    <tr>\n",
       "      <th>순위</th>\n",
       "      <th></th>\n",
       "      <th></th>\n",
       "      <th></th>\n",
       "    </tr>\n",
       "  </thead>\n",
       "  <tbody>\n",
       "    <tr>\n",
       "      <th>1</th>\n",
       "      <td>범죄도시2</td>\n",
       "      <td>0</td>\n",
       "      <td>https://movie.naver.com/movie/bi/mi/basic.nave...</td>\n",
       "    </tr>\n",
       "    <tr>\n",
       "      <th>2</th>\n",
       "      <td>쥬라기 월드: 도미니언</td>\n",
       "      <td>0</td>\n",
       "      <td>https://movie.naver.com/movie/bi/mi/basic.nave...</td>\n",
       "    </tr>\n",
       "    <tr>\n",
       "      <th>3</th>\n",
       "      <td>브로커</td>\n",
       "      <td>0</td>\n",
       "      <td>https://movie.naver.com/movie/bi/mi/basic.nave...</td>\n",
       "    </tr>\n",
       "    <tr>\n",
       "      <th>4</th>\n",
       "      <td>닥터 스트레인지: 대혼돈의 멀티버스</td>\n",
       "      <td>0</td>\n",
       "      <td>https://movie.naver.com/movie/bi/mi/basic.nave...</td>\n",
       "    </tr>\n",
       "    <tr>\n",
       "      <th>5</th>\n",
       "      <td>마녀(魔女) Part2. The Other One</td>\n",
       "      <td>2</td>\n",
       "      <td>https://movie.naver.com/movie/bi/mi/basic.nave...</td>\n",
       "    </tr>\n",
       "    <tr>\n",
       "      <th>6</th>\n",
       "      <td>그대가 조국</td>\n",
       "      <td>0</td>\n",
       "      <td>https://movie.naver.com/movie/bi/mi/basic.nave...</td>\n",
       "    </tr>\n",
       "    <tr>\n",
       "      <th>6</th>\n",
       "      <td>니 부모 얼굴이 보고 싶다</td>\n",
       "      <td>-1</td>\n",
       "      <td>https://movie.naver.com/movie/bi/mi/basic.nave...</td>\n",
       "    </tr>\n",
       "    <tr>\n",
       "      <th>8</th>\n",
       "      <td>카시오페아</td>\n",
       "      <td>0</td>\n",
       "      <td>https://movie.naver.com/movie/bi/mi/basic.nave...</td>\n",
       "    </tr>\n",
       "    <tr>\n",
       "      <th>9</th>\n",
       "      <td>탑건: 매버릭</td>\n",
       "      <td>0</td>\n",
       "      <td>https://movie.naver.com/movie/bi/mi/basic.nave...</td>\n",
       "    </tr>\n",
       "    <tr>\n",
       "      <th>10</th>\n",
       "      <td>피는 물보다 진하다</td>\n",
       "      <td>2</td>\n",
       "      <td>https://movie.naver.com/movie/bi/mi/basic.nave...</td>\n",
       "    </tr>\n",
       "  </tbody>\n",
       "</table>\n",
       "</div>"
      ],
      "text/plain": [
       "                            영화명 변동폭  \\\n",
       "순위                                    \n",
       "1                         범죄도시2   0   \n",
       "2                  쥬라기 월드: 도미니언   0   \n",
       "3                           브로커   0   \n",
       "4           닥터 스트레인지: 대혼돈의 멀티버스   0   \n",
       "5   마녀(魔女) Part2. The Other One   2   \n",
       "6                        그대가 조국   0   \n",
       "6                니 부모 얼굴이 보고 싶다  -1   \n",
       "8                         카시오페아   0   \n",
       "9                       탑건: 매버릭   0   \n",
       "10                   피는 물보다 진하다   2   \n",
       "\n",
       "                                                   링크  \n",
       "순위                                                     \n",
       "1   https://movie.naver.com/movie/bi/mi/basic.nave...  \n",
       "2   https://movie.naver.com/movie/bi/mi/basic.nave...  \n",
       "3   https://movie.naver.com/movie/bi/mi/basic.nave...  \n",
       "4   https://movie.naver.com/movie/bi/mi/basic.nave...  \n",
       "5   https://movie.naver.com/movie/bi/mi/basic.nave...  \n",
       "6   https://movie.naver.com/movie/bi/mi/basic.nave...  \n",
       "6   https://movie.naver.com/movie/bi/mi/basic.nave...  \n",
       "8   https://movie.naver.com/movie/bi/mi/basic.nave...  \n",
       "9   https://movie.naver.com/movie/bi/mi/basic.nave...  \n",
       "10  https://movie.naver.com/movie/bi/mi/basic.nave...  "
      ]
     },
     "execution_count": 51,
     "metadata": {},
     "output_type": "execute_result"
    }
   ],
   "source": [
    "top10_df.set_index('순위', inplace=True)\n",
    "top10_df"
   ]
  },
  {
   "cell_type": "code",
   "execution_count": 52,
   "id": "e422905e",
   "metadata": {},
   "outputs": [],
   "source": [
    "top10_df.to_csv('data/movie_top10.csv', sep=',', encoding='UTF-8')"
   ]
  },
  {
   "cell_type": "code",
   "execution_count": null,
   "id": "b4af34d4",
   "metadata": {},
   "outputs": [],
   "source": []
  }
 ],
 "metadata": {
  "kernelspec": {
   "display_name": "Python 3 (ipykernel)",
   "language": "python",
   "name": "python3"
  },
  "language_info": {
   "codemirror_mode": {
    "name": "ipython",
    "version": 3
   },
   "file_extension": ".py",
   "mimetype": "text/x-python",
   "name": "python",
   "nbconvert_exporter": "python",
   "pygments_lexer": "ipython3",
   "version": "3.9.12"
  }
 },
 "nbformat": 4,
 "nbformat_minor": 5
}
