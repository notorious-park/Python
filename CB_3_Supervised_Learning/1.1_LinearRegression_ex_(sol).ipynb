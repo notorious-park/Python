{
 "cells": [
  {
   "cell_type": "markdown",
   "metadata": {},
   "source": [
    "## **<실습예제 1> Abalone Dataset을 활용하여 회귀분석을 수행하자.**"
   ]
  },
  {
   "cell_type": "markdown",
   "metadata": {},
   "source": [
    "## **해당 데이터를 불러와 회귀분석을 수행하고, 각 변수의 회귀계수를 산출하여 보자.**\n",
    "**Abalone(전복 나이 예측) Dataset** : https://archive.ics.uci.edu/ml/datasets/abalone\n",
    "\n"
   ]
  },
  {
   "cell_type": "markdown",
   "metadata": {},
   "source": [
    "The age of abalone is determined by cutting the shell through the cone,  \n",
    "staining it, and counting the number of rings through a microscope -- a boring and time-consuming task.  \n",
    "Other measurements, which are easier to obtain, are used to predict the age. Further information,  \n",
    "such as weather patterns and location (hence food availability) may be required to solve the problem.  "
   ]
  },
  {
   "cell_type": "markdown",
   "metadata": {},
   "source": [
    "\tName\t\tData Type\tMeas.\tDescription\n",
    "\t----\t\t---------\t-----\t-----------\n",
    "\tSex\t\tnominal\t\t\tM, F, and I (infant)\n",
    "\tLength\t\tcontinuous\tmm\tLongest shell measurement\n",
    "\tDiameter\tcontinuous\tmm\tperpendicular to length\n",
    "\tHeight\t\tcontinuous\tmm\twith meat in shell\n",
    "\tWhole weight\tcontinuous\tgrams\twhole abalone\n",
    "\tShucked weight\tcontinuous\tgrams\tweight of meat\n",
    "\tViscera weight\tcontinuous\tgrams\tgut weight (after bleeding)\n",
    "\tShell weight\tcontinuous\tgrams\tafter being dried\n",
    "\tRings\t\tinteger\t\t\t+1.5 gives the age in years\n"
   ]
  },
  {
   "cell_type": "code",
   "execution_count": 2,
   "metadata": {},
   "outputs": [],
   "source": [
    "import os\n",
    "import pandas as pd \n",
    "import numpy as np\n",
    "from sklearn.model_selection import train_test_split\n",
    "from sklearn import metrics\n",
    "import scipy.stats as stats\n",
    "import itertools\n",
    "import time\n",
    "import matplotlib.pyplot as plt\n",
    "import statsmodels.api as sm\n",
    "import seaborn as sns\n",
    "import pylab"
   ]
  },
  {
   "cell_type": "markdown",
   "metadata": {},
   "source": [
    "## **데이터불러오기**"
   ]
  },
  {
   "cell_type": "code",
   "execution_count": 3,
   "metadata": {},
   "outputs": [],
   "source": [
    "Data = pd.read_csv('./data/regression_abalone.csv')"
   ]
  },
  {
   "cell_type": "code",
   "execution_count": 4,
   "metadata": {},
   "outputs": [
    {
     "name": "stdout",
     "output_type": "stream",
     "text": [
      "number of observation in data : 4177\n",
      "number of Variables in Data  : 8\n"
     ]
    }
   ],
   "source": [
    "##### EDA\n",
    "# Data format\n",
    "print(\"number of observation in data : {}\".format(Data.shape[0]))\n",
    "print(\"number of Variables in Data  : {}\".format(Data.shape[1]))"
   ]
  },
  {
   "cell_type": "markdown",
   "metadata": {},
   "source": [
    "## **학습데이터와 검증데이터 나누기** (8:2)"
   ]
  },
  {
   "cell_type": "code",
   "execution_count": 6,
   "metadata": {},
   "outputs": [
    {
     "data": {
      "text/html": [
       "<div>\n",
       "<style scoped>\n",
       "    .dataframe tbody tr th:only-of-type {\n",
       "        vertical-align: middle;\n",
       "    }\n",
       "\n",
       "    .dataframe tbody tr th {\n",
       "        vertical-align: top;\n",
       "    }\n",
       "\n",
       "    .dataframe thead th {\n",
       "        text-align: right;\n",
       "    }\n",
       "</style>\n",
       "<table border=\"1\" class=\"dataframe\">\n",
       "  <thead>\n",
       "    <tr style=\"text-align: right;\">\n",
       "      <th></th>\n",
       "      <th>Length</th>\n",
       "      <th>Diameter</th>\n",
       "      <th>Height</th>\n",
       "      <th>Whole_weight</th>\n",
       "      <th>Shucked_weight</th>\n",
       "      <th>Viscera_weight</th>\n",
       "      <th>Shell_weight</th>\n",
       "      <th>Y</th>\n",
       "    </tr>\n",
       "  </thead>\n",
       "  <tbody>\n",
       "    <tr>\n",
       "      <th>0</th>\n",
       "      <td>0.370</td>\n",
       "      <td>0.270</td>\n",
       "      <td>0.090</td>\n",
       "      <td>0.1855</td>\n",
       "      <td>0.0700</td>\n",
       "      <td>0.0425</td>\n",
       "      <td>0.065</td>\n",
       "      <td>7</td>\n",
       "    </tr>\n",
       "    <tr>\n",
       "      <th>1</th>\n",
       "      <td>0.580</td>\n",
       "      <td>0.475</td>\n",
       "      <td>0.155</td>\n",
       "      <td>0.9740</td>\n",
       "      <td>0.4305</td>\n",
       "      <td>0.2300</td>\n",
       "      <td>0.285</td>\n",
       "      <td>10</td>\n",
       "    </tr>\n",
       "    <tr>\n",
       "      <th>2</th>\n",
       "      <td>0.605</td>\n",
       "      <td>0.465</td>\n",
       "      <td>0.165</td>\n",
       "      <td>1.0560</td>\n",
       "      <td>0.4215</td>\n",
       "      <td>0.2475</td>\n",
       "      <td>0.340</td>\n",
       "      <td>13</td>\n",
       "    </tr>\n",
       "    <tr>\n",
       "      <th>3</th>\n",
       "      <td>0.215</td>\n",
       "      <td>0.150</td>\n",
       "      <td>0.030</td>\n",
       "      <td>0.0385</td>\n",
       "      <td>0.0115</td>\n",
       "      <td>0.0050</td>\n",
       "      <td>0.010</td>\n",
       "      <td>5</td>\n",
       "    </tr>\n",
       "    <tr>\n",
       "      <th>4</th>\n",
       "      <td>0.380</td>\n",
       "      <td>0.290</td>\n",
       "      <td>0.105</td>\n",
       "      <td>0.2570</td>\n",
       "      <td>0.0990</td>\n",
       "      <td>0.0510</td>\n",
       "      <td>0.085</td>\n",
       "      <td>10</td>\n",
       "    </tr>\n",
       "  </tbody>\n",
       "</table>\n",
       "</div>"
      ],
      "text/plain": [
       "   Length  Diameter  Height  Whole_weight  Shucked_weight  Viscera_weight  \\\n",
       "0   0.370     0.270   0.090        0.1855          0.0700          0.0425   \n",
       "1   0.580     0.475   0.155        0.9740          0.4305          0.2300   \n",
       "2   0.605     0.465   0.165        1.0560          0.4215          0.2475   \n",
       "3   0.215     0.150   0.030        0.0385          0.0115          0.0050   \n",
       "4   0.380     0.290   0.105        0.2570          0.0990          0.0510   \n",
       "\n",
       "   Shell_weight   Y  \n",
       "0         0.065   7  \n",
       "1         0.285  10  \n",
       "2         0.340  13  \n",
       "3         0.010   5  \n",
       "4         0.085  10  "
      ]
     },
     "execution_count": 6,
     "metadata": {},
     "output_type": "execute_result"
    }
   ],
   "source": [
    "Data.head()"
   ]
  },
  {
   "cell_type": "code",
   "execution_count": 9,
   "metadata": {},
   "outputs": [],
   "source": [
    "X = Data.drop(labels='Y', axis=1)   # Independent Variables\n",
    "Y = Data['Y']   # Target"
   ]
  },
  {
   "cell_type": "code",
   "execution_count": 10,
   "metadata": {},
   "outputs": [
    {
     "name": "stdout",
     "output_type": "stream",
     "text": [
      "(3341, 7) (836, 7) (3341,) (836,)\n"
     ]
    }
   ],
   "source": [
    "X_train, X_test, y_train, y_test = train_test_split(X,Y , test_size=0.2)\n",
    "print(X_train.shape, X_test.shape, y_train.shape, y_test.shape)"
   ]
  },
  {
   "cell_type": "markdown",
   "metadata": {},
   "source": [
    "## **StatModels 라이브러리를 활용하여 선형 회귀 분석 모형을 적합**"
   ]
  },
  {
   "cell_type": "code",
   "execution_count": 12,
   "metadata": {},
   "outputs": [],
   "source": [
    "# Training the Multivariate Linear Regression Model\n",
    "lm = sm.OLS(y_train, X_train)"
   ]
  },
  {
   "cell_type": "code",
   "execution_count": 13,
   "metadata": {},
   "outputs": [],
   "source": [
    "lm_trained = lm.fit()"
   ]
  },
  {
   "cell_type": "markdown",
   "metadata": {},
   "source": [
    "### **적합된 모델의 각 회귀 계수를 알아보자**"
   ]
  },
  {
   "cell_type": "code",
   "execution_count": 17,
   "metadata": {},
   "outputs": [
    {
     "data": {
      "text/plain": [
       "Length             6.669515\n",
       "Diameter          13.152903\n",
       "Height            12.852340\n",
       "Whole_weight       7.929765\n",
       "Shucked_weight   -19.874822\n",
       "Viscera_weight   -11.910712\n",
       "Shell_weight       8.187825\n",
       "dtype: float64"
      ]
     },
     "execution_count": 17,
     "metadata": {},
     "output_type": "execute_result"
    }
   ],
   "source": [
    "################## Multiple Linear Regression without Logarithm\n",
    "lm_trained.summary()\n",
    "\n",
    "# or\n",
    "lm_trained.params"
   ]
  },
  {
   "cell_type": "code",
   "execution_count": null,
   "metadata": {},
   "outputs": [],
   "source": []
  },
  {
   "cell_type": "markdown",
   "metadata": {},
   "source": [
    "### **Training 데이터와 Test 데이터에 각각 MSE를 계산하여 모델의 정확도를 확인해보자.**"
   ]
  },
  {
   "cell_type": "code",
   "execution_count": 24,
   "metadata": {},
   "outputs": [],
   "source": [
    "# prediction y_train\n",
    "y_pred_train = lm_trained.predict(X_train)\n",
    "\n",
    "\n",
    "# prediction y_test\n",
    "y_pred_test = lm_trained.predict(X_test)\n"
   ]
  },
  {
   "cell_type": "code",
   "execution_count": 25,
   "metadata": {},
   "outputs": [],
   "source": [
    "from sklearn.metrics import mean_squared_error, r2_score, mean_absolute_error"
   ]
  },
  {
   "cell_type": "code",
   "execution_count": 26,
   "metadata": {},
   "outputs": [
    {
     "name": "stdout",
     "output_type": "stream",
     "text": [
      "mse_train: 5.18, mse_test: 4.57\n"
     ]
    }
   ],
   "source": [
    "# MSE: Mean of Squared error\n",
    "mse_train = mean_squared_error(y_train, y_pred_train)\n",
    "mse_test = mean_squared_error(y_test, y_pred_test)\n",
    "print(\"mse_train: %.2f, mse_test: %.2f\"\n",
    "      %(mse_train,mse_test))"
   ]
  },
  {
   "cell_type": "code",
   "execution_count": null,
   "metadata": {},
   "outputs": [],
   "source": []
  },
  {
   "cell_type": "code",
   "execution_count": null,
   "metadata": {},
   "outputs": [],
   "source": []
  },
  {
   "cell_type": "markdown",
   "metadata": {},
   "source": [
    "## **<실습예제 2> mortgate Dataset을 활용하여 회귀분석을 수행하자.**"
   ]
  },
  {
   "cell_type": "markdown",
   "metadata": {},
   "source": [
    "## **해당 데이터를 불러와 회귀분석을 수행하고, 변수선택법을 통해서 주요한 변수만의 회귀모델을 수행해보자.**\n",
    "**Mortgage Dataset** : https://www.fhfa.gov/DataTools/Downloads/Pages/Public-Use-Databases.aspx\n"
   ]
  },
  {
   "cell_type": "code",
   "execution_count": null,
   "metadata": {},
   "outputs": [],
   "source": []
  },
  {
   "cell_type": "markdown",
   "metadata": {},
   "source": [
    "## **데이터불러오기**"
   ]
  },
  {
   "cell_type": "code",
   "execution_count": 27,
   "metadata": {},
   "outputs": [],
   "source": [
    "Data = pd.read_csv('./data/mortgage.csv')"
   ]
  },
  {
   "cell_type": "code",
   "execution_count": 28,
   "metadata": {},
   "outputs": [
    {
     "name": "stdout",
     "output_type": "stream",
     "text": [
      "number of observation in data : 1049\n",
      "number of Variables in Data  : 16\n"
     ]
    }
   ],
   "source": [
    "##### EDA\n",
    "# Data format\n",
    "print(\"number of observation in data : {}\".format(Data.shape[0]))\n",
    "print(\"number of Variables in Data  : {}\".format(Data.shape[1]))"
   ]
  },
  {
   "cell_type": "code",
   "execution_count": 30,
   "metadata": {},
   "outputs": [
    {
     "data": {
      "text/html": [
       "<div>\n",
       "<style scoped>\n",
       "    .dataframe tbody tr th:only-of-type {\n",
       "        vertical-align: middle;\n",
       "    }\n",
       "\n",
       "    .dataframe tbody tr th {\n",
       "        vertical-align: top;\n",
       "    }\n",
       "\n",
       "    .dataframe thead th {\n",
       "        text-align: right;\n",
       "    }\n",
       "</style>\n",
       "<table border=\"1\" class=\"dataframe\">\n",
       "  <thead>\n",
       "    <tr style=\"text-align: right;\">\n",
       "      <th></th>\n",
       "      <th>OneMonthCDRate</th>\n",
       "      <th>OneY.CMaturityRate</th>\n",
       "      <th>ThreeM.Rate.AuctionAverage</th>\n",
       "      <th>ThreeM.Rate.SecondaryMarket</th>\n",
       "      <th>ThreeY.CMaturityRate</th>\n",
       "      <th>FiveY.CMaturityRate</th>\n",
       "      <th>BankCredit</th>\n",
       "      <th>Currency</th>\n",
       "      <th>DemandDeposits</th>\n",
       "      <th>FederalFunds</th>\n",
       "      <th>MoneyStock</th>\n",
       "      <th>CheckableDeposits</th>\n",
       "      <th>LoansLeases</th>\n",
       "      <th>SavingsDeposits</th>\n",
       "      <th>TradeCurrencies</th>\n",
       "      <th>ThirtyY.CMortgageRate</th>\n",
       "    </tr>\n",
       "  </thead>\n",
       "  <tbody>\n",
       "    <tr>\n",
       "      <th>0</th>\n",
       "      <td>8.72</td>\n",
       "      <td>90.729</td>\n",
       "      <td>9.69</td>\n",
       "      <td>7.62</td>\n",
       "      <td>7.60</td>\n",
       "      <td>7.72</td>\n",
       "      <td>7.69</td>\n",
       "      <td>2605.8</td>\n",
       "      <td>223.4</td>\n",
       "      <td>279.6</td>\n",
       "      <td>8.52</td>\n",
       "      <td>794.4</td>\n",
       "      <td>564.8</td>\n",
       "      <td>2020.2</td>\n",
       "      <td>894.7</td>\n",
       "      <td>7.66</td>\n",
       "    </tr>\n",
       "    <tr>\n",
       "      <th>1</th>\n",
       "      <td>13.85</td>\n",
       "      <td>109.392</td>\n",
       "      <td>17.19</td>\n",
       "      <td>12.06</td>\n",
       "      <td>12.47</td>\n",
       "      <td>13.94</td>\n",
       "      <td>13.82</td>\n",
       "      <td>1347.4</td>\n",
       "      <td>124.4</td>\n",
       "      <td>230.8</td>\n",
       "      <td>14.35</td>\n",
       "      <td>443.0</td>\n",
       "      <td>314.8</td>\n",
       "      <td>1033.8</td>\n",
       "      <td>343.9</td>\n",
       "      <td>13.73</td>\n",
       "    </tr>\n",
       "    <tr>\n",
       "      <th>2</th>\n",
       "      <td>6.59</td>\n",
       "      <td>87.979</td>\n",
       "      <td>9.94</td>\n",
       "      <td>5.74</td>\n",
       "      <td>5.67</td>\n",
       "      <td>7.42</td>\n",
       "      <td>7.73</td>\n",
       "      <td>2280.2</td>\n",
       "      <td>198.9</td>\n",
       "      <td>287.2</td>\n",
       "      <td>6.77</td>\n",
       "      <td>755.9</td>\n",
       "      <td>551.0</td>\n",
       "      <td>1743.9</td>\n",
       "      <td>936.5</td>\n",
       "      <td>6.65</td>\n",
       "    </tr>\n",
       "    <tr>\n",
       "      <th>3</th>\n",
       "      <td>17.43</td>\n",
       "      <td>96.064</td>\n",
       "      <td>15.07</td>\n",
       "      <td>15.20</td>\n",
       "      <td>15.01</td>\n",
       "      <td>13.13</td>\n",
       "      <td>12.89</td>\n",
       "      <td>1237.4</td>\n",
       "      <td>115.5</td>\n",
       "      <td>241.9</td>\n",
       "      <td>18.12</td>\n",
       "      <td>410.3</td>\n",
       "      <td>291.3</td>\n",
       "      <td>933.1</td>\n",
       "      <td>377.5</td>\n",
       "      <td>14.24</td>\n",
       "    </tr>\n",
       "    <tr>\n",
       "      <th>4</th>\n",
       "      <td>3.16</td>\n",
       "      <td>85.121</td>\n",
       "      <td>8.21</td>\n",
       "      <td>2.97</td>\n",
       "      <td>2.94</td>\n",
       "      <td>4.93</td>\n",
       "      <td>5.85</td>\n",
       "      <td>2937.9</td>\n",
       "      <td>288.7</td>\n",
       "      <td>336.4</td>\n",
       "      <td>2.96</td>\n",
       "      <td>1012.5</td>\n",
       "      <td>715.6</td>\n",
       "      <td>2110.2</td>\n",
       "      <td>1179.5</td>\n",
       "      <td>3.50</td>\n",
       "    </tr>\n",
       "  </tbody>\n",
       "</table>\n",
       "</div>"
      ],
      "text/plain": [
       "   OneMonthCDRate  OneY.CMaturityRate  ThreeM.Rate.AuctionAverage  \\\n",
       "0            8.72              90.729                        9.69   \n",
       "1           13.85             109.392                       17.19   \n",
       "2            6.59              87.979                        9.94   \n",
       "3           17.43              96.064                       15.07   \n",
       "4            3.16              85.121                        8.21   \n",
       "\n",
       "   ThreeM.Rate.SecondaryMarket  ThreeY.CMaturityRate  FiveY.CMaturityRate  \\\n",
       "0                         7.62                  7.60                 7.72   \n",
       "1                        12.06                 12.47                13.94   \n",
       "2                         5.74                  5.67                 7.42   \n",
       "3                        15.20                 15.01                13.13   \n",
       "4                         2.97                  2.94                 4.93   \n",
       "\n",
       "   BankCredit  Currency  DemandDeposits  FederalFunds  MoneyStock  \\\n",
       "0        7.69    2605.8           223.4         279.6        8.52   \n",
       "1       13.82    1347.4           124.4         230.8       14.35   \n",
       "2        7.73    2280.2           198.9         287.2        6.77   \n",
       "3       12.89    1237.4           115.5         241.9       18.12   \n",
       "4        5.85    2937.9           288.7         336.4        2.96   \n",
       "\n",
       "   CheckableDeposits  LoansLeases  SavingsDeposits  TradeCurrencies  \\\n",
       "0              794.4        564.8           2020.2            894.7   \n",
       "1              443.0        314.8           1033.8            343.9   \n",
       "2              755.9        551.0           1743.9            936.5   \n",
       "3              410.3        291.3            933.1            377.5   \n",
       "4             1012.5        715.6           2110.2           1179.5   \n",
       "\n",
       "   ThirtyY.CMortgageRate  \n",
       "0                   7.66  \n",
       "1                  13.73  \n",
       "2                   6.65  \n",
       "3                  14.24  \n",
       "4                   3.50  "
      ]
     },
     "execution_count": 30,
     "metadata": {},
     "output_type": "execute_result"
    }
   ],
   "source": [
    "Data.head()"
   ]
  },
  {
   "cell_type": "markdown",
   "metadata": {},
   "source": [
    "## **학습데이터와 검증데이터 나누기** (8:2)"
   ]
  },
  {
   "cell_type": "code",
   "execution_count": 62,
   "metadata": {},
   "outputs": [
    {
     "data": {
      "text/html": [
       "<div>\n",
       "<style scoped>\n",
       "    .dataframe tbody tr th:only-of-type {\n",
       "        vertical-align: middle;\n",
       "    }\n",
       "\n",
       "    .dataframe tbody tr th {\n",
       "        vertical-align: top;\n",
       "    }\n",
       "\n",
       "    .dataframe thead th {\n",
       "        text-align: right;\n",
       "    }\n",
       "</style>\n",
       "<table border=\"1\" class=\"dataframe\">\n",
       "  <thead>\n",
       "    <tr style=\"text-align: right;\">\n",
       "      <th></th>\n",
       "      <th>const</th>\n",
       "      <th>OneMonthCDRate</th>\n",
       "      <th>OneY.CMaturityRate</th>\n",
       "      <th>ThreeM.Rate.AuctionAverage</th>\n",
       "      <th>ThreeM.Rate.SecondaryMarket</th>\n",
       "      <th>ThreeY.CMaturityRate</th>\n",
       "      <th>FiveY.CMaturityRate</th>\n",
       "      <th>BankCredit</th>\n",
       "      <th>Currency</th>\n",
       "      <th>DemandDeposits</th>\n",
       "      <th>FederalFunds</th>\n",
       "      <th>MoneyStock</th>\n",
       "      <th>CheckableDeposits</th>\n",
       "      <th>LoansLeases</th>\n",
       "      <th>SavingsDeposits</th>\n",
       "      <th>TradeCurrencies</th>\n",
       "      <th>ThirtyY.CMortgageRate</th>\n",
       "    </tr>\n",
       "  </thead>\n",
       "  <tbody>\n",
       "    <tr>\n",
       "      <th>0</th>\n",
       "      <td>1.0</td>\n",
       "      <td>8.72</td>\n",
       "      <td>90.729</td>\n",
       "      <td>9.69</td>\n",
       "      <td>7.62</td>\n",
       "      <td>7.60</td>\n",
       "      <td>7.72</td>\n",
       "      <td>7.69</td>\n",
       "      <td>2605.8</td>\n",
       "      <td>223.4</td>\n",
       "      <td>279.6</td>\n",
       "      <td>8.52</td>\n",
       "      <td>794.4</td>\n",
       "      <td>564.8</td>\n",
       "      <td>2020.2</td>\n",
       "      <td>894.7</td>\n",
       "      <td>7.66</td>\n",
       "    </tr>\n",
       "    <tr>\n",
       "      <th>1</th>\n",
       "      <td>1.0</td>\n",
       "      <td>13.85</td>\n",
       "      <td>109.392</td>\n",
       "      <td>17.19</td>\n",
       "      <td>12.06</td>\n",
       "      <td>12.47</td>\n",
       "      <td>13.94</td>\n",
       "      <td>13.82</td>\n",
       "      <td>1347.4</td>\n",
       "      <td>124.4</td>\n",
       "      <td>230.8</td>\n",
       "      <td>14.35</td>\n",
       "      <td>443.0</td>\n",
       "      <td>314.8</td>\n",
       "      <td>1033.8</td>\n",
       "      <td>343.9</td>\n",
       "      <td>13.73</td>\n",
       "    </tr>\n",
       "    <tr>\n",
       "      <th>2</th>\n",
       "      <td>1.0</td>\n",
       "      <td>6.59</td>\n",
       "      <td>87.979</td>\n",
       "      <td>9.94</td>\n",
       "      <td>5.74</td>\n",
       "      <td>5.67</td>\n",
       "      <td>7.42</td>\n",
       "      <td>7.73</td>\n",
       "      <td>2280.2</td>\n",
       "      <td>198.9</td>\n",
       "      <td>287.2</td>\n",
       "      <td>6.77</td>\n",
       "      <td>755.9</td>\n",
       "      <td>551.0</td>\n",
       "      <td>1743.9</td>\n",
       "      <td>936.5</td>\n",
       "      <td>6.65</td>\n",
       "    </tr>\n",
       "    <tr>\n",
       "      <th>3</th>\n",
       "      <td>1.0</td>\n",
       "      <td>17.43</td>\n",
       "      <td>96.064</td>\n",
       "      <td>15.07</td>\n",
       "      <td>15.20</td>\n",
       "      <td>15.01</td>\n",
       "      <td>13.13</td>\n",
       "      <td>12.89</td>\n",
       "      <td>1237.4</td>\n",
       "      <td>115.5</td>\n",
       "      <td>241.9</td>\n",
       "      <td>18.12</td>\n",
       "      <td>410.3</td>\n",
       "      <td>291.3</td>\n",
       "      <td>933.1</td>\n",
       "      <td>377.5</td>\n",
       "      <td>14.24</td>\n",
       "    </tr>\n",
       "    <tr>\n",
       "      <th>4</th>\n",
       "      <td>1.0</td>\n",
       "      <td>3.16</td>\n",
       "      <td>85.121</td>\n",
       "      <td>8.21</td>\n",
       "      <td>2.97</td>\n",
       "      <td>2.94</td>\n",
       "      <td>4.93</td>\n",
       "      <td>5.85</td>\n",
       "      <td>2937.9</td>\n",
       "      <td>288.7</td>\n",
       "      <td>336.4</td>\n",
       "      <td>2.96</td>\n",
       "      <td>1012.5</td>\n",
       "      <td>715.6</td>\n",
       "      <td>2110.2</td>\n",
       "      <td>1179.5</td>\n",
       "      <td>3.50</td>\n",
       "    </tr>\n",
       "  </tbody>\n",
       "</table>\n",
       "</div>"
      ],
      "text/plain": [
       "   const  OneMonthCDRate  OneY.CMaturityRate  ThreeM.Rate.AuctionAverage  \\\n",
       "0    1.0            8.72              90.729                        9.69   \n",
       "1    1.0           13.85             109.392                       17.19   \n",
       "2    1.0            6.59              87.979                        9.94   \n",
       "3    1.0           17.43              96.064                       15.07   \n",
       "4    1.0            3.16              85.121                        8.21   \n",
       "\n",
       "   ThreeM.Rate.SecondaryMarket  ThreeY.CMaturityRate  FiveY.CMaturityRate  \\\n",
       "0                         7.62                  7.60                 7.72   \n",
       "1                        12.06                 12.47                13.94   \n",
       "2                         5.74                  5.67                 7.42   \n",
       "3                        15.20                 15.01                13.13   \n",
       "4                         2.97                  2.94                 4.93   \n",
       "\n",
       "   BankCredit  Currency  DemandDeposits  FederalFunds  MoneyStock  \\\n",
       "0        7.69    2605.8           223.4         279.6        8.52   \n",
       "1       13.82    1347.4           124.4         230.8       14.35   \n",
       "2        7.73    2280.2           198.9         287.2        6.77   \n",
       "3       12.89    1237.4           115.5         241.9       18.12   \n",
       "4        5.85    2937.9           288.7         336.4        2.96   \n",
       "\n",
       "   CheckableDeposits  LoansLeases  SavingsDeposits  TradeCurrencies  \\\n",
       "0              794.4        564.8           2020.2            894.7   \n",
       "1              443.0        314.8           1033.8            343.9   \n",
       "2              755.9        551.0           1743.9            936.5   \n",
       "3              410.3        291.3            933.1            377.5   \n",
       "4             1012.5        715.6           2110.2           1179.5   \n",
       "\n",
       "   ThirtyY.CMortgageRate  \n",
       "0                   7.66  \n",
       "1                  13.73  \n",
       "2                   6.65  \n",
       "3                  14.24  \n",
       "4                   3.50  "
      ]
     },
     "execution_count": 62,
     "metadata": {},
     "output_type": "execute_result"
    }
   ],
   "source": [
    "# bias 추가\n",
    "Data = sm.add_constant(Data, has_constant='add')\n",
    "Data.head()"
   ]
  },
  {
   "cell_type": "code",
   "execution_count": 63,
   "metadata": {},
   "outputs": [],
   "source": [
    "X = Data.drop('ThirtyY.CMortgageRate',axis=1)    # Independent Variables\n",
    "Y = Data['ThirtyY.CMortgageRate']   # Target\n",
    "feature_columns = list(Data.columns.difference(['ThirtyY.CMortgageRate']))"
   ]
  },
  {
   "cell_type": "code",
   "execution_count": 64,
   "metadata": {},
   "outputs": [
    {
     "name": "stdout",
     "output_type": "stream",
     "text": [
      "(839, 15) (210, 15) (839,) (210,)\n"
     ]
    }
   ],
   "source": [
    "train_x, test_x, train_y, test_y = train_test_split(X,Y , test_size=0.2)\n",
    "print(X_train.shape, X_test.shape, y_train.shape, y_test.shape)"
   ]
  },
  {
   "cell_type": "code",
   "execution_count": null,
   "metadata": {},
   "outputs": [],
   "source": []
  },
  {
   "cell_type": "markdown",
   "metadata": {},
   "source": [
    "# 선형회귀모형 모델링 y = f(x)"
   ]
  },
  {
   "cell_type": "code",
   "execution_count": 65,
   "metadata": {
    "collapsed": true
   },
   "outputs": [],
   "source": [
    "# Train the MLR\n",
    "full_model = sm.OLS(train_y, train_x)\n",
    "fitted_full_model = full_model.fit()"
   ]
  },
  {
   "cell_type": "code",
   "execution_count": null,
   "metadata": {},
   "outputs": [],
   "source": []
  },
  {
   "cell_type": "markdown",
   "metadata": {},
   "source": [
    "## **변수선택법을 통해 최적의 모델을 찾아보자.**"
   ]
  },
  {
   "cell_type": "markdown",
   "metadata": {},
   "source": [
    "### processSubset: 해당 feature_set에 대한 모델생성 및 AIC 계산"
   ]
  },
  {
   "cell_type": "code",
   "execution_count": 66,
   "metadata": {},
   "outputs": [
    {
     "name": "stdout",
     "output_type": "stream",
     "text": [
      "{'model': <statsmodels.regression.linear_model.RegressionResultsWrapper object at 0x0000021F5AEE4278>, 'AIC': 1847.824755629826}\n"
     ]
    }
   ],
   "source": [
    "def processSubset(X,y, feature_set):\n",
    "            model = sm.OLS(y,X[list(feature_set)]) # Modeling\n",
    "            regr = model.fit() # 모델 학습\n",
    "            AIC = regr.aic # 모델의 AIC\n",
    "            return {\"model\":regr, \"AIC\":AIC}\n",
    "        \n",
    "print(processSubset(X=train_x, y=train_y, feature_set = feature_columns[0:5]))"
   ]
  },
  {
   "cell_type": "markdown",
   "metadata": {},
   "source": [
    "### getBest: 가장 높은 AIC를 가지는 모델 선택 및 저장"
   ]
  },
  {
   "cell_type": "code",
   "execution_count": 67,
   "metadata": {},
   "outputs": [
    {
     "name": "stdout",
     "output_type": "stream",
     "text": [
      "Processed  105 models on 2 predictors in 0.09374713897705078 seconds.\n",
      "AIC                                                46.6395\n",
      "model    <statsmodels.regression.linear_model.Regressio...\n",
      "Name: 67, dtype: object\n"
     ]
    },
    {
     "name": "stderr",
     "output_type": "stream",
     "text": [
      "C:\\ProgramData\\Anaconda3\\envs\\samsung\\lib\\site-packages\\ipykernel_launcher.py:8: FutureWarning: 'argmin' is deprecated, use 'idxmin' instead. The behavior of 'argmin'\n",
      "will be corrected to return the positional minimum in the future.\n",
      "Use 'series.values.argmin' to get the position of the minimum now.\n",
      "  \n"
     ]
    }
   ],
   "source": [
    "def getBest(X,y,k):\n",
    "    tic = time.time() # 시작시간\n",
    "    results = [] # 결과 저장공간\n",
    "    for combo in itertools.combinations(X.columns.difference(['const']), k): # 각 변수조합을 고려한 경우의 수\n",
    "        results.append(processSubset(X,y,feature_set=combo))  # 모델링된 것들을 저장\n",
    "    models = pd.DataFrame(results) # 데이터 프레임으로 변환\n",
    "    # 가장 낮은 AIC를 가지는 모델 선택 및 저장\n",
    "    best_model = models.loc[models['AIC'].argmin()] # index\n",
    "    toc = time.time() # 종료시간\n",
    "    print(\"Processed \", models.shape[0], \"models on\", k, \"predictors in\", (toc - tic),\n",
    "          \"seconds.\")\n",
    "    return best_model\n",
    "\n",
    "print(getBest(X=train_x, y=train_y,k=2))"
   ]
  },
  {
   "cell_type": "markdown",
   "metadata": {},
   "source": [
    "### 변수조합에 따른 모델링 시간"
   ]
  },
  {
   "cell_type": "code",
   "execution_count": 68,
   "metadata": {},
   "outputs": [
    {
     "name": "stderr",
     "output_type": "stream",
     "text": [
      "C:\\ProgramData\\Anaconda3\\envs\\samsung\\lib\\site-packages\\ipykernel_launcher.py:8: FutureWarning: 'argmin' is deprecated, use 'idxmin' instead. The behavior of 'argmin'\n",
      "will be corrected to return the positional minimum in the future.\n",
      "Use 'series.values.argmin' to get the position of the minimum now.\n",
      "  \n"
     ]
    },
    {
     "name": "stdout",
     "output_type": "stream",
     "text": [
      "Processed  15 models on 1 predictors in 0.012966156005859375 seconds.\n",
      "Processed  105 models on 2 predictors in 0.09175467491149902 seconds.\n",
      "Processed  455 models on 3 predictors in 0.43084073066711426 seconds.\n",
      "Total elapsed time: 0.5465307235717773 seconds.\n"
     ]
    }
   ],
   "source": [
    "# 변수 선택에 따른 학습시간과 저장\n",
    "models = pd.DataFrame(columns=[\"AIC\", \"model\"])\n",
    "tic = time.time()\n",
    "for i in range(1,4):\n",
    "    models.loc[i] = getBest(X=train_x,y=train_y,k=i)\n",
    "toc = time.time()\n",
    "print(\"Total elapsed time:\", (toc-tic), \"seconds.\")"
   ]
  },
  {
   "cell_type": "code",
   "execution_count": 69,
   "metadata": {},
   "outputs": [
    {
     "data": {
      "text/html": [
       "<div>\n",
       "<style scoped>\n",
       "    .dataframe tbody tr th:only-of-type {\n",
       "        vertical-align: middle;\n",
       "    }\n",
       "\n",
       "    .dataframe tbody tr th {\n",
       "        vertical-align: top;\n",
       "    }\n",
       "\n",
       "    .dataframe thead th {\n",
       "        text-align: right;\n",
       "    }\n",
       "</style>\n",
       "<table border=\"1\" class=\"dataframe\">\n",
       "  <thead>\n",
       "    <tr style=\"text-align: right;\">\n",
       "      <th></th>\n",
       "      <th>AIC</th>\n",
       "      <th>model</th>\n",
       "    </tr>\n",
       "  </thead>\n",
       "  <tbody>\n",
       "    <tr>\n",
       "      <th>1</th>\n",
       "      <td>1313.785751</td>\n",
       "      <td>&lt;statsmodels.regression.linear_model.Regressio...</td>\n",
       "    </tr>\n",
       "    <tr>\n",
       "      <th>2</th>\n",
       "      <td>46.639508</td>\n",
       "      <td>&lt;statsmodels.regression.linear_model.Regressio...</td>\n",
       "    </tr>\n",
       "    <tr>\n",
       "      <th>3</th>\n",
       "      <td>-858.545098</td>\n",
       "      <td>&lt;statsmodels.regression.linear_model.Regressio...</td>\n",
       "    </tr>\n",
       "  </tbody>\n",
       "</table>\n",
       "</div>"
      ],
      "text/plain": [
       "           AIC                                              model\n",
       "1  1313.785751  <statsmodels.regression.linear_model.Regressio...\n",
       "2    46.639508  <statsmodels.regression.linear_model.Regressio...\n",
       "3  -858.545098  <statsmodels.regression.linear_model.Regressio..."
      ]
     },
     "execution_count": 69,
     "metadata": {},
     "output_type": "execute_result"
    }
   ],
   "source": [
    "models"
   ]
  },
  {
   "cell_type": "markdown",
   "metadata": {},
   "source": [
    "## 모델평가 지표"
   ]
  },
  {
   "cell_type": "code",
   "execution_count": 70,
   "metadata": {
    "scrolled": false
   },
   "outputs": [
    {
     "data": {
      "text/html": [
       "<table class=\"simpletable\">\n",
       "<caption>OLS Regression Results</caption>\n",
       "<tr>\n",
       "  <th>Dep. Variable:</th>    <td>ThirtyY.CMortgageRate</td> <th>  R-squared:         </th> <td>   1.000</td> \n",
       "</tr>\n",
       "<tr>\n",
       "  <th>Model:</th>                     <td>OLS</td>          <th>  Adj. R-squared:    </th> <td>   1.000</td> \n",
       "</tr>\n",
       "<tr>\n",
       "  <th>Method:</th>               <td>Least Squares</td>     <th>  F-statistic:       </th> <td>8.980e+05</td>\n",
       "</tr>\n",
       "<tr>\n",
       "  <th>Date:</th>               <td>Mon, 08 Jul 2019</td>    <th>  Prob (F-statistic):</th>  <td>  0.00</td>  \n",
       "</tr>\n",
       "<tr>\n",
       "  <th>Time:</th>                   <td>18:44:08</td>        <th>  Log-Likelihood:    </th> <td>  432.27</td> \n",
       "</tr>\n",
       "<tr>\n",
       "  <th>No. Observations:</th>        <td>   839</td>         <th>  AIC:               </th> <td>  -858.5</td> \n",
       "</tr>\n",
       "<tr>\n",
       "  <th>Df Residuals:</th>            <td>   836</td>         <th>  BIC:               </th> <td>  -844.3</td> \n",
       "</tr>\n",
       "<tr>\n",
       "  <th>Df Model:</th>                <td>     3</td>         <th>                     </th>     <td> </td>    \n",
       "</tr>\n",
       "<tr>\n",
       "  <th>Covariance Type:</th>        <td>nonrobust</td>       <th>                     </th>     <td> </td>    \n",
       "</tr>\n",
       "</table>\n",
       "<table class=\"simpletable\">\n",
       "<tr>\n",
       "            <td></td>              <th>coef</th>     <th>std err</th>      <th>t</th>      <th>P>|t|</th>  <th>[0.025</th>    <th>0.975]</th>  \n",
       "</tr>\n",
       "<tr>\n",
       "  <th>BankCredit</th>           <td>   -0.9185</td> <td>    0.023</td> <td>  -40.359</td> <td> 0.000</td> <td>   -0.963</td> <td>   -0.874</td>\n",
       "</tr>\n",
       "<tr>\n",
       "  <th>FiveY.CMaturityRate</th>  <td>    1.5495</td> <td>    0.028</td> <td>   54.447</td> <td> 0.000</td> <td>    1.494</td> <td>    1.605</td>\n",
       "</tr>\n",
       "<tr>\n",
       "  <th>ThreeY.CMaturityRate</th> <td>    0.3884</td> <td>    0.008</td> <td>   50.564</td> <td> 0.000</td> <td>    0.373</td> <td>    0.403</td>\n",
       "</tr>\n",
       "</table>\n",
       "<table class=\"simpletable\">\n",
       "<tr>\n",
       "  <th>Omnibus:</th>       <td>325.611</td> <th>  Durbin-Watson:     </th> <td>   1.970</td>\n",
       "</tr>\n",
       "<tr>\n",
       "  <th>Prob(Omnibus):</th> <td> 0.000</td>  <th>  Jarque-Bera (JB):  </th> <td>1886.744</td>\n",
       "</tr>\n",
       "<tr>\n",
       "  <th>Skew:</th>          <td> 1.661</td>  <th>  Prob(JB):          </th> <td>    0.00</td>\n",
       "</tr>\n",
       "<tr>\n",
       "  <th>Kurtosis:</th>      <td> 9.552</td>  <th>  Cond. No.          </th> <td>    106.</td>\n",
       "</tr>\n",
       "</table><br/><br/>Warnings:<br/>[1] Standard Errors assume that the covariance matrix of the errors is correctly specified."
      ],
      "text/plain": [
       "<class 'statsmodels.iolib.summary.Summary'>\n",
       "\"\"\"\n",
       "                              OLS Regression Results                             \n",
       "=================================================================================\n",
       "Dep. Variable:     ThirtyY.CMortgageRate   R-squared:                       1.000\n",
       "Model:                               OLS   Adj. R-squared:                  1.000\n",
       "Method:                    Least Squares   F-statistic:                 8.980e+05\n",
       "Date:                   Mon, 08 Jul 2019   Prob (F-statistic):               0.00\n",
       "Time:                           18:44:08   Log-Likelihood:                 432.27\n",
       "No. Observations:                    839   AIC:                            -858.5\n",
       "Df Residuals:                        836   BIC:                            -844.3\n",
       "Df Model:                              3                                         \n",
       "Covariance Type:               nonrobust                                         \n",
       "========================================================================================\n",
       "                           coef    std err          t      P>|t|      [0.025      0.975]\n",
       "----------------------------------------------------------------------------------------\n",
       "BankCredit              -0.9185      0.023    -40.359      0.000      -0.963      -0.874\n",
       "FiveY.CMaturityRate      1.5495      0.028     54.447      0.000       1.494       1.605\n",
       "ThreeY.CMaturityRate     0.3884      0.008     50.564      0.000       0.373       0.403\n",
       "==============================================================================\n",
       "Omnibus:                      325.611   Durbin-Watson:                   1.970\n",
       "Prob(Omnibus):                  0.000   Jarque-Bera (JB):             1886.744\n",
       "Skew:                           1.661   Prob(JB):                         0.00\n",
       "Kurtosis:                       9.552   Cond. No.                         106.\n",
       "==============================================================================\n",
       "\n",
       "Warnings:\n",
       "[1] Standard Errors assume that the covariance matrix of the errors is correctly specified.\n",
       "\"\"\""
      ]
     },
     "execution_count": 70,
     "metadata": {},
     "output_type": "execute_result"
    }
   ],
   "source": [
    "models.loc[3, \"model\"].summary()"
   ]
  },
  {
   "cell_type": "code",
   "execution_count": 71,
   "metadata": {
    "scrolled": true
   },
   "outputs": [
    {
     "name": "stdout",
     "output_type": "stream",
     "text": [
      "selected model Rsquared:  0.99969\n",
      "selected model AIC:  -858.54510\n",
      "selected model MSE:  67.35228\n"
     ]
    }
   ],
   "source": [
    "# 모든 변수들 모델링 한것보다 나은 결과를 가져옴\n",
    "print(\"selected model Rsquared: \",\"{:.5f}\".format(models.loc[3, \"model\"].rsquared))\n",
    "print(\"selected model AIC: \",\"{:.5f}\".format(models.loc[3, \"model\"].aic))\n",
    "print(\"selected model MSE: \",\"{:.5f}\".format(models.loc[3, \"model\"].mse_total))"
   ]
  },
  {
   "cell_type": "markdown",
   "metadata": {},
   "source": [
    "## **전진선택법**"
   ]
  },
  {
   "cell_type": "markdown",
   "metadata": {},
   "source": [
    "### forward: 전진선택법 (step=1)"
   ]
  },
  {
   "cell_type": "code",
   "execution_count": 72,
   "metadata": {
    "collapsed": true
   },
   "outputs": [],
   "source": [
    "def forward(X, y, predictors):\n",
    "    # 데이터 변수들이 미리정의된 predictors에 있는지 없는지 확인 및 분류\n",
    "    remaining_predictors = [p for p in X.columns.difference(['const']) if p not in predictors]\n",
    "    tic = time.time()\n",
    "    results = []\n",
    "    for p in remaining_predictors:\n",
    "        results.append(processSubset(X=X, y= y, feature_set=predictors+[p]+['const']))\n",
    "    # 데이터프레임으로 변환\n",
    "    models = pd.DataFrame(results)\n",
    "\n",
    "    # AIC가 가장 낮은 것을 선택\n",
    "    best_model = models.loc[models['AIC'].argmin()] # index\n",
    "    toc = time.time()\n",
    "    print(\"Processed \", models.shape[0], \"models on\", len(predictors)+1, \"predictors in\", (toc-tic))\n",
    "    print('Selected predictors:',best_model['model'].model.exog_names,' AIC:',best_model[0] )\n",
    "    return best_model"
   ]
  },
  {
   "cell_type": "markdown",
   "metadata": {},
   "source": [
    "### forward_model: 전진선택법 모델"
   ]
  },
  {
   "cell_type": "code",
   "execution_count": 73,
   "metadata": {
    "collapsed": true
   },
   "outputs": [],
   "source": [
    "def forward_model(X,y):\n",
    "    Fmodels = pd.DataFrame(columns=[\"AIC\", \"model\"])\n",
    "    tic = time.time()\n",
    "    # 미리 정의된 데이터 변수\n",
    "    predictors = []\n",
    "    # 변수 1~10개 : 0~9 -> 1~10\n",
    "    for i in range(1, len(X.columns.difference(['const'])) + 1):\n",
    "        Forward_result = forward(X=X,y=y,predictors=predictors)\n",
    "        if i > 1:\n",
    "            if Forward_result['AIC'] > Fmodel_before:\n",
    "                break\n",
    "        Fmodels.loc[i] = Forward_result\n",
    "        predictors = Fmodels.loc[i][\"model\"].model.exog_names\n",
    "        Fmodel_before = Fmodels.loc[i][\"AIC\"]\n",
    "        predictors = [ k for k in predictors if k != 'const']\n",
    "    toc = time.time()\n",
    "    print(\"Total elapsed time:\", (toc - tic), \"seconds.\")\n",
    "\n",
    "    return(Fmodels['model'][len(Fmodels['model'])])"
   ]
  },
  {
   "cell_type": "code",
   "execution_count": 74,
   "metadata": {
    "scrolled": false
   },
   "outputs": [
    {
     "name": "stdout",
     "output_type": "stream",
     "text": [
      "Processed  15 models on 1 predictors in 0.014958381652832031\n",
      "Selected predictors: ['ThreeY.CMaturityRate', 'const']  AIC: 1219.6985684603846\n",
      "Processed  14 models on 2 predictors in 0.014959335327148438\n",
      "Selected predictors: ['ThreeY.CMaturityRate', 'FiveY.CMaturityRate', 'const']  AIC: -295.4338662995615\n",
      "Processed  13 models on 3 predictors in 0.013962507247924805\n",
      "Selected predictors: ['ThreeY.CMaturityRate', 'FiveY.CMaturityRate', 'BankCredit', 'const']  AIC: -923.4600541175428\n",
      "Processed  12 models on 4 predictors in 0.014957666397094727\n",
      "Selected predictors: ['ThreeY.CMaturityRate', 'FiveY.CMaturityRate', 'BankCredit', 'OneY.CMaturityRate', 'const']  AIC: -1026.9259143822574\n",
      "Processed  11 models on 5 predictors in 0.01196742057800293\n",
      "Selected predictors: ['ThreeY.CMaturityRate', 'FiveY.CMaturityRate', 'BankCredit', 'OneY.CMaturityRate', 'FederalFunds', 'const']  AIC: -1081.8132124604335\n",
      "Processed  10 models on 6 predictors in 0.01196742057800293\n",
      "Selected predictors: ['ThreeY.CMaturityRate', 'FiveY.CMaturityRate', 'BankCredit', 'OneY.CMaturityRate', 'FederalFunds', 'CheckableDeposits', 'const']  AIC: -1128.6773845206835\n",
      "Processed  9 models on 7 predictors in 0.010969877243041992\n",
      "Selected predictors: ['ThreeY.CMaturityRate', 'FiveY.CMaturityRate', 'BankCredit', 'OneY.CMaturityRate', 'FederalFunds', 'CheckableDeposits', 'ThreeM.Rate.SecondaryMarket', 'const']  AIC: -1133.4937633033292\n",
      "Processed  8 models on 8 predictors in 0.00797891616821289\n",
      "Selected predictors: ['ThreeY.CMaturityRate', 'FiveY.CMaturityRate', 'BankCredit', 'OneY.CMaturityRate', 'FederalFunds', 'CheckableDeposits', 'ThreeM.Rate.SecondaryMarket', 'OneMonthCDRate', 'const']  AIC: -1134.6371533119682\n",
      "Processed  7 models on 9 predictors in 0.008975982666015625\n",
      "Selected predictors: ['ThreeY.CMaturityRate', 'FiveY.CMaturityRate', 'BankCredit', 'OneY.CMaturityRate', 'FederalFunds', 'CheckableDeposits', 'ThreeM.Rate.SecondaryMarket', 'OneMonthCDRate', 'MoneyStock', 'const']  AIC: -1135.0458143230799\n",
      "Processed  6 models on 10 predictors in 0.009973764419555664\n",
      "Selected predictors: ['ThreeY.CMaturityRate', 'FiveY.CMaturityRate', 'BankCredit', 'OneY.CMaturityRate', 'FederalFunds', 'CheckableDeposits', 'ThreeM.Rate.SecondaryMarket', 'OneMonthCDRate', 'MoneyStock', 'TradeCurrencies', 'const']  AIC: -1135.4819221592938\n",
      "Processed  5 models on 11 predictors in 0.006982564926147461\n",
      "Selected predictors: ['ThreeY.CMaturityRate', 'FiveY.CMaturityRate', 'BankCredit', 'OneY.CMaturityRate', 'FederalFunds', 'CheckableDeposits', 'ThreeM.Rate.SecondaryMarket', 'OneMonthCDRate', 'MoneyStock', 'TradeCurrencies', 'DemandDeposits', 'const']  AIC: -1142.7609974130692\n",
      "Processed  4 models on 12 predictors in 0.005982398986816406\n",
      "Selected predictors: ['ThreeY.CMaturityRate', 'FiveY.CMaturityRate', 'BankCredit', 'OneY.CMaturityRate', 'FederalFunds', 'CheckableDeposits', 'ThreeM.Rate.SecondaryMarket', 'OneMonthCDRate', 'MoneyStock', 'TradeCurrencies', 'DemandDeposits', 'SavingsDeposits', 'const']  AIC: -1152.8740100993655\n",
      "Processed  3 models on 13 predictors in 0.0049860477447509766\n",
      "Selected predictors: ['ThreeY.CMaturityRate', 'FiveY.CMaturityRate', 'BankCredit', 'OneY.CMaturityRate', 'FederalFunds', 'CheckableDeposits', 'ThreeM.Rate.SecondaryMarket', 'OneMonthCDRate', 'MoneyStock', 'TradeCurrencies', 'DemandDeposits', 'SavingsDeposits', 'Currency', 'const']  AIC: -1175.5179919637044\n",
      "Processed  2 models on 14 predictors in 0.0029921531677246094\n",
      "Selected predictors: ['ThreeY.CMaturityRate', 'FiveY.CMaturityRate', 'BankCredit', 'OneY.CMaturityRate', 'FederalFunds', 'CheckableDeposits', 'ThreeM.Rate.SecondaryMarket', 'OneMonthCDRate', 'MoneyStock', 'TradeCurrencies', 'DemandDeposits', 'SavingsDeposits', 'Currency', 'ThreeM.Rate.AuctionAverage', 'const']  AIC: -1192.8960875834755\n",
      "Processed  1 models on 15 predictors in 0.001994609832763672\n",
      "Selected predictors: ['ThreeY.CMaturityRate', 'FiveY.CMaturityRate', 'BankCredit', 'OneY.CMaturityRate', 'FederalFunds', 'CheckableDeposits', 'ThreeM.Rate.SecondaryMarket', 'OneMonthCDRate', 'MoneyStock', 'TradeCurrencies', 'DemandDeposits', 'SavingsDeposits', 'Currency', 'ThreeM.Rate.AuctionAverage', 'LoansLeases', 'const']  AIC: -1192.9239799600182\n",
      "Total elapsed time: 0.17652344703674316 seconds.\n"
     ]
    },
    {
     "name": "stderr",
     "output_type": "stream",
     "text": [
      "C:\\ProgramData\\Anaconda3\\envs\\samsung\\lib\\site-packages\\ipykernel_launcher.py:12: FutureWarning: 'argmin' is deprecated, use 'idxmin' instead. The behavior of 'argmin'\n",
      "will be corrected to return the positional minimum in the future.\n",
      "Use 'series.values.argmin' to get the position of the minimum now.\n",
      "  if sys.path[0] == '':\n"
     ]
    }
   ],
   "source": [
    "Forward_best_model = forward_model(X=train_x, y= train_y)"
   ]
  },
  {
   "cell_type": "code",
   "execution_count": 75,
   "metadata": {},
   "outputs": [
    {
     "data": {
      "text/plain": [
       "-1192.9239799600182"
      ]
     },
     "execution_count": 75,
     "metadata": {},
     "output_type": "execute_result"
    }
   ],
   "source": [
    "Forward_best_model.aic"
   ]
  },
  {
   "cell_type": "markdown",
   "metadata": {},
   "source": [
    "## **후진소거법**"
   ]
  },
  {
   "cell_type": "markdown",
   "metadata": {},
   "source": [
    "### backward: 후진소거법(step=1)"
   ]
  },
  {
   "cell_type": "code",
   "execution_count": 76,
   "metadata": {
    "collapsed": true
   },
   "outputs": [],
   "source": [
    "def backward(X,y,predictors):\n",
    "    tic = time.time()\n",
    "    results = []\n",
    "    # 데이터 변수들이 미리정의된 predictors 조합 확인\n",
    "    for combo in itertools.combinations(predictors, len(predictors) - 1):\n",
    "        results.append(processSubset(X=X, y= y,feature_set=list(combo)+['const']))\n",
    "    models = pd.DataFrame(results)\n",
    "    # 가장 낮은 AIC를 가진 모델을 선택\n",
    "    best_model = models.loc[models['AIC'].argmin()]\n",
    "    toc = time.time()\n",
    "    print(\"Processed \", models.shape[0], \"models on\", len(predictors) - 1, \"predictors in\",\n",
    "          (toc - tic))\n",
    "    print('Selected predictors:',best_model['model'].model.exog_names,' AIC:',best_model[0] )\n",
    "    return best_model"
   ]
  },
  {
   "cell_type": "markdown",
   "metadata": {},
   "source": [
    "### backward: 후진소거법모델"
   ]
  },
  {
   "cell_type": "code",
   "execution_count": 77,
   "metadata": {
    "collapsed": true
   },
   "outputs": [],
   "source": [
    "def backward_model(X, y):\n",
    "    Bmodels = pd.DataFrame(columns=[\"AIC\", \"model\"], index = range(1,len(X.columns)))\n",
    "    tic = time.time()\n",
    "    predictors = X.columns.difference(['const'])\n",
    "    Bmodel_before = processSubset(X,y,predictors)['AIC']\n",
    "    while (len(predictors) > 1):\n",
    "        Backward_result = backward(X=train_x, y= train_y, predictors = predictors)\n",
    "        if Backward_result['AIC'] > Bmodel_before:\n",
    "            break\n",
    "        Bmodels.loc[len(predictors) - 1] = Backward_result\n",
    "        predictors = Bmodels.loc[len(predictors) - 1][\"model\"].model.exog_names\n",
    "        Bmodel_before = Backward_result['AIC']\n",
    "        predictors = [ k for k in predictors if k != 'const']\n",
    "\n",
    "    toc = time.time()\n",
    "    print(\"Total elapsed time:\", (toc - tic), \"seconds.\")\n",
    "    return (Bmodels['model'].dropna().iloc[0])"
   ]
  },
  {
   "cell_type": "code",
   "execution_count": 78,
   "metadata": {},
   "outputs": [
    {
     "name": "stdout",
     "output_type": "stream",
     "text": [
      "Processed  15 models on 14 predictors in 0.016953706741333008\n",
      "Selected predictors: ['BankCredit', 'CheckableDeposits', 'Currency', 'DemandDeposits', 'FederalFunds', 'FiveY.CMaturityRate', 'LoansLeases', 'OneMonthCDRate', 'OneY.CMaturityRate', 'SavingsDeposits', 'ThreeM.Rate.AuctionAverage', 'ThreeM.Rate.SecondaryMarket', 'ThreeY.CMaturityRate', 'TradeCurrencies', 'const']  AIC: -1194.8622684117868\n",
      "Processed  14 models on 13 predictors in 0.018948793411254883\n",
      "Selected predictors: ['BankCredit', 'CheckableDeposits', 'Currency', 'FederalFunds', 'FiveY.CMaturityRate', 'LoansLeases', 'OneMonthCDRate', 'OneY.CMaturityRate', 'SavingsDeposits', 'ThreeM.Rate.AuctionAverage', 'ThreeM.Rate.SecondaryMarket', 'ThreeY.CMaturityRate', 'TradeCurrencies', 'const']  AIC: -1195.5278282829395\n",
      "Processed  13 models on 12 predictors in 0.016953706741333008\n",
      "Selected predictors: ['BankCredit', 'CheckableDeposits', 'Currency', 'FederalFunds', 'FiveY.CMaturityRate', 'OneMonthCDRate', 'OneY.CMaturityRate', 'SavingsDeposits', 'ThreeM.Rate.AuctionAverage', 'ThreeM.Rate.SecondaryMarket', 'ThreeY.CMaturityRate', 'TradeCurrencies', 'const']  AIC: -1190.8795017507364\n",
      "Total elapsed time: 0.05584883689880371 seconds.\n"
     ]
    },
    {
     "name": "stderr",
     "output_type": "stream",
     "text": [
      "C:\\ProgramData\\Anaconda3\\envs\\samsung\\lib\\site-packages\\ipykernel_launcher.py:9: FutureWarning: 'argmin' is deprecated, use 'idxmin' instead. The behavior of 'argmin'\n",
      "will be corrected to return the positional minimum in the future.\n",
      "Use 'series.values.argmin' to get the position of the minimum now.\n",
      "  if __name__ == '__main__':\n"
     ]
    }
   ],
   "source": [
    "Backward_best_model = backward_model(X=train_x,y=train_y)"
   ]
  },
  {
   "cell_type": "code",
   "execution_count": 79,
   "metadata": {},
   "outputs": [
    {
     "data": {
      "text/plain": [
       "-1195.5278282829395"
      ]
     },
     "execution_count": 79,
     "metadata": {},
     "output_type": "execute_result"
    }
   ],
   "source": [
    "Backward_best_model.aic"
   ]
  },
  {
   "cell_type": "markdown",
   "metadata": {},
   "source": [
    "## **단계적 선택법**"
   ]
  },
  {
   "cell_type": "markdown",
   "metadata": {},
   "source": [
    "### stepwise_model: 단계적 선택법 모델"
   ]
  },
  {
   "cell_type": "code",
   "execution_count": 80,
   "metadata": {
    "collapsed": true
   },
   "outputs": [],
   "source": [
    "def Stepwise_model(X,y):\n",
    "    Stepmodels = pd.DataFrame(columns=[\"AIC\", \"model\"])\n",
    "    tic = time.time()\n",
    "    predictors = []\n",
    "    Smodel_before = processSubset(X,y,predictors+['const'])['AIC']\n",
    "    # 변수 1~10개 : 0~9 -> 1~10\n",
    "    for i in range(1, len(X.columns.difference(['const'])) + 1):\n",
    "        Forward_result = forward(X=X, y=y, predictors=predictors) # constant added\n",
    "        print('forward')\n",
    "        Stepmodels.loc[i] = Forward_result\n",
    "        predictors = Stepmodels.loc[i][\"model\"].model.exog_names\n",
    "        predictors = [ k for k in predictors if k != 'const']\n",
    "        Backward_result = backward(X=X, y=y, predictors=predictors)\n",
    "        if Backward_result['AIC']< Forward_result['AIC']:\n",
    "            Stepmodels.loc[i] = Backward_result\n",
    "            predictors = Stepmodels.loc[i][\"model\"].model.exog_names\n",
    "            Smodel_before = Stepmodels.loc[i][\"AIC\"]\n",
    "            predictors = [ k for k in predictors if k != 'const']\n",
    "            print('backward')\n",
    "        if Stepmodels.loc[i]['AIC']> Smodel_before:\n",
    "            break\n",
    "        else:\n",
    "            Smodel_before = Stepmodels.loc[i][\"AIC\"]\n",
    "    toc = time.time()\n",
    "    print(\"Total elapsed time:\", (toc - tic), \"seconds.\")\n",
    "    return (Stepmodels['model'][len(Stepmodels['model'])])"
   ]
  },
  {
   "cell_type": "code",
   "execution_count": 81,
   "metadata": {
    "scrolled": false
   },
   "outputs": [
    {
     "name": "stderr",
     "output_type": "stream",
     "text": [
      "C:\\ProgramData\\Anaconda3\\envs\\samsung\\lib\\site-packages\\ipykernel_launcher.py:12: FutureWarning: 'argmin' is deprecated, use 'idxmin' instead. The behavior of 'argmin'\n",
      "will be corrected to return the positional minimum in the future.\n",
      "Use 'series.values.argmin' to get the position of the minimum now.\n",
      "  if sys.path[0] == '':\n",
      "C:\\ProgramData\\Anaconda3\\envs\\samsung\\lib\\site-packages\\ipykernel_launcher.py:9: FutureWarning: 'argmin' is deprecated, use 'idxmin' instead. The behavior of 'argmin'\n",
      "will be corrected to return the positional minimum in the future.\n",
      "Use 'series.values.argmin' to get the position of the minimum now.\n",
      "  if __name__ == '__main__':\n"
     ]
    },
    {
     "name": "stdout",
     "output_type": "stream",
     "text": [
      "Processed  15 models on 1 predictors in 0.012965679168701172\n",
      "Selected predictors: ['ThreeY.CMaturityRate', 'const']  AIC: 1219.6985684603846\n",
      "forward\n",
      "Processed  1 models on 0 predictors in 0.0019965171813964844\n",
      "Selected predictors: ['const']  AIC: 4279.780084100832\n",
      "Processed  14 models on 2 predictors in 0.015954971313476562\n",
      "Selected predictors: ['ThreeY.CMaturityRate', 'FiveY.CMaturityRate', 'const']  AIC: -295.4338662995615\n",
      "forward\n",
      "Processed  2 models on 1 predictors in 0.002992868423461914\n",
      "Selected predictors: ['ThreeY.CMaturityRate', 'const']  AIC: 1219.6985684603846\n",
      "Processed  13 models on 3 predictors in 0.013961076736450195\n",
      "Selected predictors: ['ThreeY.CMaturityRate', 'FiveY.CMaturityRate', 'BankCredit', 'const']  AIC: -923.4600541175428\n",
      "forward\n",
      "Processed  3 models on 2 predictors in 0.003989219665527344\n",
      "Selected predictors: ['ThreeY.CMaturityRate', 'FiveY.CMaturityRate', 'const']  AIC: -295.4338662995615\n",
      "Processed  12 models on 4 predictors in 0.012966156005859375\n",
      "Selected predictors: ['ThreeY.CMaturityRate', 'FiveY.CMaturityRate', 'BankCredit', 'OneY.CMaturityRate', 'const']  AIC: -1026.9259143822574\n",
      "forward\n",
      "Processed  4 models on 3 predictors in 0.006982088088989258\n",
      "Selected predictors: ['ThreeY.CMaturityRate', 'FiveY.CMaturityRate', 'BankCredit', 'const']  AIC: -923.4600541175428\n",
      "Processed  11 models on 5 predictors in 0.012963294982910156\n",
      "Selected predictors: ['ThreeY.CMaturityRate', 'FiveY.CMaturityRate', 'BankCredit', 'OneY.CMaturityRate', 'FederalFunds', 'const']  AIC: -1081.8132124604335\n",
      "forward\n",
      "Processed  5 models on 4 predictors in 0.004986763000488281\n",
      "Selected predictors: ['ThreeY.CMaturityRate', 'FiveY.CMaturityRate', 'BankCredit', 'OneY.CMaturityRate', 'const']  AIC: -1026.9259143822574\n",
      "Processed  10 models on 6 predictors in 0.010969400405883789\n",
      "Selected predictors: ['ThreeY.CMaturityRate', 'FiveY.CMaturityRate', 'BankCredit', 'OneY.CMaturityRate', 'FederalFunds', 'CheckableDeposits', 'const']  AIC: -1128.6773845206835\n",
      "forward\n",
      "Processed  6 models on 5 predictors in 0.007978677749633789\n",
      "Selected predictors: ['ThreeY.CMaturityRate', 'FiveY.CMaturityRate', 'BankCredit', 'OneY.CMaturityRate', 'FederalFunds', 'const']  AIC: -1081.8132124604335\n",
      "Processed  9 models on 7 predictors in 0.009974241256713867\n",
      "Selected predictors: ['ThreeY.CMaturityRate', 'FiveY.CMaturityRate', 'BankCredit', 'OneY.CMaturityRate', 'FederalFunds', 'CheckableDeposits', 'ThreeM.Rate.SecondaryMarket', 'const']  AIC: -1133.4937633033292\n",
      "forward\n",
      "Processed  7 models on 6 predictors in 0.007978677749633789\n",
      "Selected predictors: ['ThreeY.CMaturityRate', 'FiveY.CMaturityRate', 'BankCredit', 'OneY.CMaturityRate', 'FederalFunds', 'CheckableDeposits', 'const']  AIC: -1128.6773845206835\n",
      "Processed  8 models on 8 predictors in 0.007978439331054688\n",
      "Selected predictors: ['ThreeY.CMaturityRate', 'FiveY.CMaturityRate', 'BankCredit', 'OneY.CMaturityRate', 'FederalFunds', 'CheckableDeposits', 'ThreeM.Rate.SecondaryMarket', 'OneMonthCDRate', 'const']  AIC: -1134.6371533119682\n",
      "forward\n",
      "Processed  8 models on 7 predictors in 0.008975982666015625\n",
      "Selected predictors: ['ThreeY.CMaturityRate', 'FiveY.CMaturityRate', 'BankCredit', 'OneY.CMaturityRate', 'FederalFunds', 'CheckableDeposits', 'ThreeM.Rate.SecondaryMarket', 'const']  AIC: -1133.4937633033292\n",
      "Processed  7 models on 9 predictors in 0.007978200912475586\n",
      "Selected predictors: ['ThreeY.CMaturityRate', 'FiveY.CMaturityRate', 'BankCredit', 'OneY.CMaturityRate', 'FederalFunds', 'CheckableDeposits', 'ThreeM.Rate.SecondaryMarket', 'OneMonthCDRate', 'MoneyStock', 'const']  AIC: -1135.0458143230799\n",
      "forward\n",
      "Processed  9 models on 8 predictors in 0.009973287582397461\n",
      "Selected predictors: ['ThreeY.CMaturityRate', 'FiveY.CMaturityRate', 'BankCredit', 'OneY.CMaturityRate', 'FederalFunds', 'CheckableDeposits', 'ThreeM.Rate.SecondaryMarket', 'OneMonthCDRate', 'const']  AIC: -1134.6371533119682\n",
      "Processed  6 models on 10 predictors in 0.007977962493896484\n",
      "Selected predictors: ['ThreeY.CMaturityRate', 'FiveY.CMaturityRate', 'BankCredit', 'OneY.CMaturityRate', 'FederalFunds', 'CheckableDeposits', 'ThreeM.Rate.SecondaryMarket', 'OneMonthCDRate', 'MoneyStock', 'TradeCurrencies', 'const']  AIC: -1135.4819221592938\n",
      "forward\n",
      "Processed  10 models on 9 predictors in 0.011969566345214844\n",
      "Selected predictors: ['ThreeY.CMaturityRate', 'FiveY.CMaturityRate', 'BankCredit', 'OneY.CMaturityRate', 'FederalFunds', 'CheckableDeposits', 'ThreeM.Rate.SecondaryMarket', 'OneMonthCDRate', 'MoneyStock', 'const']  AIC: -1135.0458143230799\n",
      "Processed  5 models on 11 predictors in 0.006982088088989258\n",
      "Selected predictors: ['ThreeY.CMaturityRate', 'FiveY.CMaturityRate', 'BankCredit', 'OneY.CMaturityRate', 'FederalFunds', 'CheckableDeposits', 'ThreeM.Rate.SecondaryMarket', 'OneMonthCDRate', 'MoneyStock', 'TradeCurrencies', 'DemandDeposits', 'const']  AIC: -1142.7609974130692\n",
      "forward\n",
      "Processed  11 models on 10 predictors in 0.011967897415161133\n",
      "Selected predictors: ['ThreeY.CMaturityRate', 'FiveY.CMaturityRate', 'BankCredit', 'OneY.CMaturityRate', 'FederalFunds', 'CheckableDeposits', 'OneMonthCDRate', 'MoneyStock', 'TradeCurrencies', 'DemandDeposits', 'const']  AIC: -1140.462309912246\n",
      "Processed  4 models on 12 predictors in 0.005984306335449219\n",
      "Selected predictors: ['ThreeY.CMaturityRate', 'FiveY.CMaturityRate', 'BankCredit', 'OneY.CMaturityRate', 'FederalFunds', 'CheckableDeposits', 'ThreeM.Rate.SecondaryMarket', 'OneMonthCDRate', 'MoneyStock', 'TradeCurrencies', 'DemandDeposits', 'SavingsDeposits', 'const']  AIC: -1152.8740100993655\n",
      "forward\n",
      "Processed  12 models on 11 predictors in 0.012964487075805664\n",
      "Selected predictors: ['ThreeY.CMaturityRate', 'FiveY.CMaturityRate', 'BankCredit', 'OneY.CMaturityRate', 'FederalFunds', 'CheckableDeposits', 'ThreeM.Rate.SecondaryMarket', 'OneMonthCDRate', 'MoneyStock', 'DemandDeposits', 'SavingsDeposits', 'const']  AIC: -1151.1753907106695\n",
      "Processed  3 models on 13 predictors in 0.004987001419067383\n",
      "Selected predictors: ['ThreeY.CMaturityRate', 'FiveY.CMaturityRate', 'BankCredit', 'OneY.CMaturityRate', 'FederalFunds', 'CheckableDeposits', 'ThreeM.Rate.SecondaryMarket', 'OneMonthCDRate', 'MoneyStock', 'TradeCurrencies', 'DemandDeposits', 'SavingsDeposits', 'Currency', 'const']  AIC: -1175.5179919637044\n",
      "forward\n",
      "Processed  13 models on 12 predictors in 0.014960050582885742\n",
      "Selected predictors: ['ThreeY.CMaturityRate', 'FiveY.CMaturityRate', 'BankCredit', 'OneY.CMaturityRate', 'FederalFunds', 'CheckableDeposits', 'ThreeM.Rate.SecondaryMarket', 'OneMonthCDRate', 'TradeCurrencies', 'DemandDeposits', 'SavingsDeposits', 'Currency', 'const']  AIC: -1173.1033110880326\n",
      "Processed  2 models on 14 predictors in 0.003990650177001953\n",
      "Selected predictors: ['ThreeY.CMaturityRate', 'FiveY.CMaturityRate', 'BankCredit', 'OneY.CMaturityRate', 'FederalFunds', 'CheckableDeposits', 'ThreeM.Rate.SecondaryMarket', 'OneMonthCDRate', 'MoneyStock', 'TradeCurrencies', 'DemandDeposits', 'SavingsDeposits', 'Currency', 'ThreeM.Rate.AuctionAverage', 'const']  AIC: -1192.8960875834755\n",
      "forward\n",
      "Processed  14 models on 13 predictors in 0.01695537567138672\n",
      "Selected predictors: ['ThreeY.CMaturityRate', 'FiveY.CMaturityRate', 'BankCredit', 'OneY.CMaturityRate', 'FederalFunds', 'CheckableDeposits', 'ThreeM.Rate.SecondaryMarket', 'OneMonthCDRate', 'TradeCurrencies', 'DemandDeposits', 'SavingsDeposits', 'Currency', 'ThreeM.Rate.AuctionAverage', 'const']  AIC: -1194.6882021109577\n",
      "backward\n",
      "Processed  2 models on 14 predictors in 0.0029916763305664062\n",
      "Selected predictors: ['ThreeY.CMaturityRate', 'FiveY.CMaturityRate', 'BankCredit', 'OneY.CMaturityRate', 'FederalFunds', 'CheckableDeposits', 'ThreeM.Rate.SecondaryMarket', 'OneMonthCDRate', 'TradeCurrencies', 'DemandDeposits', 'SavingsDeposits', 'Currency', 'ThreeM.Rate.AuctionAverage', 'LoansLeases', 'const']  AIC: -1194.86226841179\n",
      "forward\n",
      "Processed  14 models on 13 predictors in 0.015954971313476562\n",
      "Selected predictors: ['ThreeY.CMaturityRate', 'FiveY.CMaturityRate', 'BankCredit', 'OneY.CMaturityRate', 'FederalFunds', 'CheckableDeposits', 'ThreeM.Rate.SecondaryMarket', 'OneMonthCDRate', 'TradeCurrencies', 'SavingsDeposits', 'Currency', 'ThreeM.Rate.AuctionAverage', 'LoansLeases', 'const']  AIC: -1195.5278282829377\n",
      "backward\n",
      "Total elapsed time: 0.32312965393066406 seconds.\n"
     ]
    }
   ],
   "source": [
    "Stepwise_best_model=Stepwise_model(X=train_x,y=train_y)"
   ]
  },
  {
   "cell_type": "code",
   "execution_count": 82,
   "metadata": {},
   "outputs": [
    {
     "data": {
      "text/plain": [
       "-1195.5278282829377"
      ]
     },
     "execution_count": 82,
     "metadata": {},
     "output_type": "execute_result"
    }
   ],
   "source": [
    "Stepwise_best_model.aic\n",
    "\n"
   ]
  },
  {
   "cell_type": "markdown",
   "metadata": {},
   "source": [
    "# **성능평가**"
   ]
  },
  {
   "cell_type": "code",
   "execution_count": 99,
   "metadata": {},
   "outputs": [
    {
     "name": "stdout",
     "output_type": "stream",
     "text": [
      "Full model parameter : 16\n",
      "(16,) (14,) (14,)\n"
     ]
    }
   ],
   "source": [
    "# the number of params\n",
    "print('Full model parameter : {}'.format(len(fitted_full_model.params)))"
   ]
  },
  {
   "cell_type": "code",
   "execution_count": 100,
   "metadata": {},
   "outputs": [
    {
     "name": "stdout",
     "output_type": "stream",
     "text": [
      "Number of Full model parameter : 16\n",
      "Number of Forward model parameter : 16\n",
      "Number of Backward model parameter : 14\n",
      "Number of Stepwise model parameter : 14\n"
     ]
    }
   ],
   "source": [
    "# the number of params\n",
    "print('Number of Full model parameter : {}'.format(len(fitted_full_model.params)))\n",
    "print('Number of Forward model parameter : {}'.format(len(Forward_best_model.params)))\n",
    "print('Number of Backward model parameter : {}'.format(len(Backward_best_model.params)))\n",
    "print('Number of Stepwise model parameter : {}'.format(len(Stepwise_best_model.params)))\n",
    "\n"
   ]
  },
  {
   "cell_type": "code",
   "execution_count": 101,
   "metadata": {
    "collapsed": true
   },
   "outputs": [],
   "source": [
    "# 모델에 의해 예측된/추정된 값 <->  test_y\n",
    "pred_y_full = fitted_full_model.predict(test_x)\n",
    "pred_y_forward = Forward_best_model.predict(test_x[Forward_best_model.model.exog_names])\n",
    "pred_y_backward = Backward_best_model.predict(test_x[Backward_best_model.model.exog_names])\n",
    "pred_y_stepwise = Stepwise_best_model.predict(test_x[Stepwise_best_model.model.exog_names])"
   ]
  },
  {
   "cell_type": "code",
   "execution_count": 102,
   "metadata": {
    "collapsed": true
   },
   "outputs": [],
   "source": [
    "perf_mat = pd.DataFrame(columns=[\"ALL\", \"FORWARD\", \"BACKWARD\", \"STEPWISE\"],\n",
    "                        index =['MSE', 'RMSE','MAE', 'MAPE'])"
   ]
  },
  {
   "cell_type": "code",
   "execution_count": 103,
   "metadata": {
    "collapsed": true
   },
   "outputs": [],
   "source": [
    "def mean_absolute_percentage_error(y_true, y_pred):\n",
    "    y_true, y_pred = np.array(y_true), np.array(y_pred)\n",
    "    return np.mean(np.abs((y_true - y_pred) / y_true)) * 100"
   ]
  },
  {
   "cell_type": "code",
   "execution_count": 104,
   "metadata": {
    "scrolled": true
   },
   "outputs": [
    {
     "name": "stdout",
     "output_type": "stream",
     "text": [
      "            ALL    FORWARD   BACKWARD   STEPWISE\n",
      "MSE    0.014309   0.014309  0.0144343  0.0144343\n",
      "RMSE    0.11962    0.11962   0.120143   0.120143\n",
      "MAE   0.0821647  0.0821647  0.0823837  0.0823837\n",
      "MAPE    1.15203    1.15203    1.15555    1.15555\n"
     ]
    }
   ],
   "source": [
    "# 성능지표\n",
    "perf_mat.loc['MSE']['ALL'] = metrics.mean_squared_error(test_y,pred_y_full)\n",
    "perf_mat.loc['MSE']['FORWARD'] = metrics.mean_squared_error(test_y,pred_y_forward)\n",
    "perf_mat.loc['MSE']['BACKWARD'] = metrics.mean_squared_error(test_y,pred_y_backward)\n",
    "perf_mat.loc['MSE']['STEPWISE'] = metrics.mean_squared_error(test_y,pred_y_stepwise)\n",
    "\n",
    "perf_mat.loc['RMSE']['ALL'] = np.sqrt(metrics.mean_squared_error(test_y, pred_y_full))\n",
    "perf_mat.loc['RMSE']['FORWARD'] = np.sqrt(metrics.mean_squared_error(test_y, pred_y_forward))\n",
    "perf_mat.loc['RMSE']['BACKWARD'] = np.sqrt(metrics.mean_squared_error(test_y, pred_y_backward))\n",
    "perf_mat.loc['RMSE']['STEPWISE'] = np.sqrt(metrics.mean_squared_error(test_y, pred_y_stepwise))\n",
    "\n",
    "perf_mat.loc['MAE']['ALL'] = metrics.mean_absolute_error(test_y, pred_y_full)\n",
    "perf_mat.loc['MAE']['FORWARD'] = metrics.mean_absolute_error(test_y, pred_y_forward)\n",
    "perf_mat.loc['MAE']['BACKWARD'] = metrics.mean_absolute_error(test_y, pred_y_backward)\n",
    "perf_mat.loc['MAE']['STEPWISE'] = metrics.mean_absolute_error(test_y, pred_y_stepwise)\n",
    "\n",
    "perf_mat.loc['MAPE']['ALL'] = mean_absolute_percentage_error(test_y, pred_y_full)\n",
    "perf_mat.loc['MAPE']['FORWARD'] = mean_absolute_percentage_error(test_y, pred_y_forward)\n",
    "perf_mat.loc['MAPE']['BACKWARD'] = mean_absolute_percentage_error(test_y, pred_y_backward)\n",
    "perf_mat.loc['MAPE']['STEPWISE'] = mean_absolute_percentage_error(test_y, pred_y_stepwise)\n",
    "\n",
    "print(perf_mat)"
   ]
  },
  {
   "cell_type": "code",
   "execution_count": 105,
   "metadata": {},
   "outputs": [
    {
     "data": {
      "text/html": [
       "<div>\n",
       "<style scoped>\n",
       "    .dataframe tbody tr th:only-of-type {\n",
       "        vertical-align: middle;\n",
       "    }\n",
       "\n",
       "    .dataframe tbody tr th {\n",
       "        vertical-align: top;\n",
       "    }\n",
       "\n",
       "    .dataframe thead th {\n",
       "        text-align: right;\n",
       "    }\n",
       "</style>\n",
       "<table border=\"1\" class=\"dataframe\">\n",
       "  <thead>\n",
       "    <tr style=\"text-align: right;\">\n",
       "      <th></th>\n",
       "      <th>ALL</th>\n",
       "      <th>FORWARD</th>\n",
       "      <th>BACKWARD</th>\n",
       "      <th>STEPWISE</th>\n",
       "    </tr>\n",
       "  </thead>\n",
       "  <tbody>\n",
       "    <tr>\n",
       "      <th>MSE</th>\n",
       "      <td>0.014309</td>\n",
       "      <td>0.014309</td>\n",
       "      <td>0.0144343</td>\n",
       "      <td>0.0144343</td>\n",
       "    </tr>\n",
       "    <tr>\n",
       "      <th>RMSE</th>\n",
       "      <td>0.11962</td>\n",
       "      <td>0.11962</td>\n",
       "      <td>0.120143</td>\n",
       "      <td>0.120143</td>\n",
       "    </tr>\n",
       "    <tr>\n",
       "      <th>MAE</th>\n",
       "      <td>0.0821647</td>\n",
       "      <td>0.0821647</td>\n",
       "      <td>0.0823837</td>\n",
       "      <td>0.0823837</td>\n",
       "    </tr>\n",
       "    <tr>\n",
       "      <th>MAPE</th>\n",
       "      <td>1.15203</td>\n",
       "      <td>1.15203</td>\n",
       "      <td>1.15555</td>\n",
       "      <td>1.15555</td>\n",
       "    </tr>\n",
       "  </tbody>\n",
       "</table>\n",
       "</div>"
      ],
      "text/plain": [
       "            ALL    FORWARD   BACKWARD   STEPWISE\n",
       "MSE    0.014309   0.014309  0.0144343  0.0144343\n",
       "RMSE    0.11962    0.11962   0.120143   0.120143\n",
       "MAE   0.0821647  0.0821647  0.0823837  0.0823837\n",
       "MAPE    1.15203    1.15203    1.15555    1.15555"
      ]
     },
     "execution_count": 105,
     "metadata": {},
     "output_type": "execute_result"
    }
   ],
   "source": [
    "perf_mat"
   ]
  },
  {
   "cell_type": "code",
   "execution_count": null,
   "metadata": {},
   "outputs": [],
   "source": []
  },
  {
   "cell_type": "code",
   "execution_count": null,
   "metadata": {},
   "outputs": [],
   "source": []
  },
  {
   "cell_type": "code",
   "execution_count": null,
   "metadata": {},
   "outputs": [],
   "source": []
  },
  {
   "cell_type": "code",
   "execution_count": null,
   "metadata": {},
   "outputs": [],
   "source": []
  }
 ],
 "metadata": {
  "kernelspec": {
   "display_name": "Lecture",
   "language": "python",
   "name": "lecture"
  },
  "language_info": {
   "codemirror_mode": {
    "name": "ipython",
    "version": 3
   },
   "file_extension": ".py",
   "mimetype": "text/x-python",
   "name": "python",
   "nbconvert_exporter": "python",
   "pygments_lexer": "ipython3",
   "version": "3.7.3"
  }
 },
 "nbformat": 4,
 "nbformat_minor": 2
}
