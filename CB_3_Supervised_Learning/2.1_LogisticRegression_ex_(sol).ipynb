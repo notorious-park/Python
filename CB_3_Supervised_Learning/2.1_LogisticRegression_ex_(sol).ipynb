{
 "cells": [
  {
   "cell_type": "code",
   "execution_count": 2,
   "metadata": {},
   "outputs": [],
   "source": [
    "# 데이터 처리\n",
    "import numpy as np\n",
    "import pandas as pd\n",
    "# 머신러닝 알고리즘 및 평가\n",
    "import statsmodels.api as sm\n",
    "from sklearn.model_selection import train_test_split\n",
    "import sklearn.preprocessing as preprocessing\n",
    "from sklearn import metrics\n",
    "from sklearn.metrics import confusion_matrix\n",
    "from sklearn.metrics import accuracy_score, roc_auc_score, roc_curve\n",
    "# 시각화\n",
    "import seaborn as sns\n",
    "import matplotlib.pyplot as plt"
   ]
  },
  {
   "cell_type": "code",
   "execution_count": 3,
   "metadata": {
    "scrolled": true
   },
   "outputs": [
    {
     "name": "stdout",
     "output_type": "stream",
     "text": [
      "             name  MDVP:Fo(Hz)  MDVP:Fhi(Hz)  MDVP:Flo(Hz)  MDVP:Jitter(%)  \\\n",
      "0  phon_R01_S01_1      119.992       157.302        74.997         0.00784   \n",
      "1  phon_R01_S01_2      122.400       148.650       113.819         0.00968   \n",
      "2  phon_R01_S01_3      116.682       131.111       111.555         0.01050   \n",
      "3  phon_R01_S01_4      116.676       137.871       111.366         0.00997   \n",
      "4  phon_R01_S01_5      116.014       141.781       110.655         0.01284   \n",
      "5  phon_R01_S01_6      120.552       131.162       113.787         0.00968   \n",
      "6  phon_R01_S02_1      120.267       137.244       114.820         0.00333   \n",
      "7  phon_R01_S02_2      107.332       113.840       104.315         0.00290   \n",
      "8  phon_R01_S02_3       95.730       132.068        91.754         0.00551   \n",
      "9  phon_R01_S02_4       95.056       120.103        91.226         0.00532   \n",
      "\n",
      "   MDVP:Jitter(Abs)  MDVP:RAP  MDVP:PPQ  Jitter:DDP  MDVP:Shimmer    ...     \\\n",
      "0           0.00007   0.00370   0.00554     0.01109       0.04374    ...      \n",
      "1           0.00008   0.00465   0.00696     0.01394       0.06134    ...      \n",
      "2           0.00009   0.00544   0.00781     0.01633       0.05233    ...      \n",
      "3           0.00009   0.00502   0.00698     0.01505       0.05492    ...      \n",
      "4           0.00011   0.00655   0.00908     0.01966       0.06425    ...      \n",
      "5           0.00008   0.00463   0.00750     0.01388       0.04701    ...      \n",
      "6           0.00003   0.00155   0.00202     0.00466       0.01608    ...      \n",
      "7           0.00003   0.00144   0.00182     0.00431       0.01567    ...      \n",
      "8           0.00006   0.00293   0.00332     0.00880       0.02093    ...      \n",
      "9           0.00006   0.00268   0.00332     0.00803       0.02838    ...      \n",
      "\n",
      "   Shimmer:DDA      NHR     HNR  status      RPDE       DFA   spread1  \\\n",
      "0      0.06545  0.02211  21.033       1  0.414783  0.815285 -4.813031   \n",
      "1      0.09403  0.01929  19.085       1  0.458359  0.819521 -4.075192   \n",
      "2      0.08270  0.01309  20.651       1  0.429895  0.825288 -4.443179   \n",
      "3      0.08771  0.01353  20.644       1  0.434969  0.819235 -4.117501   \n",
      "4      0.10470  0.01767  19.649       1  0.417356  0.823484 -3.747787   \n",
      "5      0.06985  0.01222  21.378       1  0.415564  0.825069 -4.242867   \n",
      "6      0.02337  0.00607  24.886       1  0.596040  0.764112 -5.634322   \n",
      "7      0.02487  0.00344  26.892       1  0.637420  0.763262 -6.167603   \n",
      "8      0.03218  0.01070  21.812       1  0.615551  0.773587 -5.498678   \n",
      "9      0.04324  0.01022  21.862       1  0.547037  0.798463 -5.011879   \n",
      "\n",
      "    spread2        D2       PPE  \n",
      "0  0.266482  2.301442  0.284654  \n",
      "1  0.335590  2.486855  0.368674  \n",
      "2  0.311173  2.342259  0.332634  \n",
      "3  0.334147  2.405554  0.368975  \n",
      "4  0.234513  2.332180  0.410335  \n",
      "5  0.299111  2.187560  0.357775  \n",
      "6  0.257682  1.854785  0.211756  \n",
      "7  0.183721  2.064693  0.163755  \n",
      "8  0.327769  2.322511  0.231571  \n",
      "9  0.325996  2.432792  0.271362  \n",
      "\n",
      "[10 rows x 24 columns]\n"
     ]
    }
   ],
   "source": [
    "# 데이터 불러오기\n",
    "dat = pd.read_csv('./data/classification_parkinsons.csv')\n",
    "\n",
    "# 데이터 확인해보기 상위 10개를 통해서\n",
    "\n",
    "print(dat.head(10))\n",
    "\n"
   ]
  },
  {
   "cell_type": "code",
   "execution_count": 4,
   "metadata": {},
   "outputs": [
    {
     "name": "stdout",
     "output_type": "stream",
     "text": [
      "(195, 24)\n"
     ]
    }
   ],
   "source": [
    "# 데이터의 형태 확인해보기\n",
    "\n",
    "print(dat.shape)\n"
   ]
  },
  {
   "cell_type": "code",
   "execution_count": 5,
   "metadata": {},
   "outputs": [
    {
     "name": "stdout",
     "output_type": "stream",
     "text": [
      "Index(['MDVP:Fo(Hz)', 'MDVP:Fhi(Hz)', 'MDVP:Flo(Hz)', 'MDVP:Jitter(%)',\n",
      "       'MDVP:Jitter(Abs)', 'MDVP:RAP', 'MDVP:PPQ', 'Jitter:DDP',\n",
      "       'MDVP:Shimmer', 'MDVP:Shimmer(dB)', 'Shimmer:APQ3', 'Shimmer:APQ5',\n",
      "       'MDVP:APQ', 'Shimmer:DDA', 'NHR', 'HNR', 'status', 'RPDE', 'DFA',\n",
      "       'spread1', 'spread2', 'D2', 'PPE'],\n",
      "      dtype='object')\n"
     ]
    }
   ],
   "source": [
    "# 의미없는 변수 제거: name\n",
    "\n",
    "# name 변수 제거하기\n",
    "dat_processing = dat.drop(['name'], axis=1, inplace=False)\n",
    "\n",
    "print(dat_processing.columns)\n",
    "\n",
    "\n"
   ]
  },
  {
   "cell_type": "code",
   "execution_count": 6,
   "metadata": {},
   "outputs": [
    {
     "name": "stderr",
     "output_type": "stream",
     "text": [
      "C:\\ProgramData\\Anaconda3\\envs\\samsung\\lib\\site-packages\\ipykernel_launcher.py:2: DataConversionWarning: Data with input dtype int64, float64 were all converted to float64.\n",
      "  \n"
     ]
    }
   ],
   "source": [
    "# Normalization\n",
    "dat_processing_norm = preprocessing.minmax_scale(dat_processing)\n",
    "dat_processed = pd.DataFrame(dat_processing_norm)\n",
    "dat_processed.columns = dat_processing.columns"
   ]
  },
  {
   "cell_type": "code",
   "execution_count": 7,
   "metadata": {},
   "outputs": [
    {
     "name": "stdout",
     "output_type": "stream",
     "text": [
      "(195, 23)\n"
     ]
    }
   ],
   "source": [
    "print(dat_processed.shape)\n"
   ]
  },
  {
   "cell_type": "code",
   "execution_count": 8,
   "metadata": {
    "scrolled": true
   },
   "outputs": [
    {
     "name": "stdout",
     "output_type": "stream",
     "text": [
      "    const  MDVP:Fo(Hz)  MDVP:Fhi(Hz)  MDVP:Flo(Hz)  MDVP:Jitter(%)  \\\n",
      "0     1.0     0.184308      0.112592      0.054815        0.195680   \n",
      "1     1.0     0.198327      0.094930      0.278323        0.254130   \n",
      "2     1.0     0.165039      0.059128      0.265288        0.280178   \n",
      "3     1.0     0.165004      0.072927      0.264200        0.263342   \n",
      "4     1.0     0.161150      0.080909      0.260107        0.354511   \n",
      "5     1.0     0.187568      0.059232      0.278139        0.254130   \n",
      "6     1.0     0.185909      0.071647      0.284086        0.052414   \n",
      "7     1.0     0.110606      0.023873      0.223606        0.038755   \n",
      "8     1.0     0.043063      0.061082      0.151289        0.121665   \n",
      "9     1.0     0.039139      0.036658      0.148249        0.115629   \n",
      "10    1.0     0.000000      0.020607      0.107062        0.107052   \n",
      "11    1.0     0.020789      0.028019      0.119843        0.118170   \n",
      "12    1.0     0.282892      0.117826      0.378827        0.039708   \n",
      "13    1.0     0.295974      0.157167      0.063790        0.070521   \n",
      "14    1.0     0.375568      0.124846      0.059645        0.040025   \n",
      "15    1.0     0.313404      0.235382      0.101805        0.063850   \n",
      "16    1.0     0.325169      0.504433      0.099531        0.119441   \n",
      "17    1.0     0.468324      0.265442      0.058304        0.174714   \n",
      "18    1.0     0.376738      0.150411      0.018118        0.182338   \n",
      "19    1.0     0.396293      0.178109      0.445300        0.190597   \n",
      "\n",
      "    MDVP:Jitter(Abs)  MDVP:RAP  MDVP:PPQ  Jitter:DDP  MDVP:Shimmer    ...     \\\n",
      "0           0.249012  0.145472  0.247588    0.145288      0.312215    ...      \n",
      "1           0.288538  0.191233  0.323687    0.191042      0.472887    ...      \n",
      "2           0.328063  0.229287  0.369239    0.229411      0.390634    ...      \n",
      "3           0.328063  0.209056  0.324759    0.208862      0.414278    ...      \n",
      "4           0.407115  0.282755  0.437299    0.282870      0.499452    ...      \n",
      "5           0.288538  0.190270  0.352626    0.190079      0.342067    ...      \n",
      "6           0.090909  0.041908  0.058950    0.042061      0.059704    ...      \n",
      "7           0.090909  0.036609  0.048232    0.036442      0.055961    ...      \n",
      "8           0.209486  0.108382  0.128617    0.108525      0.103980    ...      \n",
      "9           0.209486  0.096339  0.128617    0.096163      0.171992    ...      \n",
      "10          0.209486  0.089595  0.127546    0.089742      0.108545    ...      \n",
      "11          0.209486  0.102601  0.130761    0.102745      0.164141    ...      \n",
      "12          0.051383  0.024085  0.032690    0.024241      0.027844    ...      \n",
      "13          0.090909  0.046724  0.062165    0.046878      0.062808    ...      \n",
      "14          0.051383  0.025530  0.030547    0.025686      0.079788    ...      \n",
      "15          0.090909  0.042871  0.059486    0.042864      0.050119    ...      \n",
      "16          0.130435  0.068882  0.107181    0.068711      0.099781    ...      \n",
      "17          0.130435  0.104046  0.158092    0.104190      0.216633    ...      \n",
      "18          0.169960  0.142582  0.182208    0.142559      0.416560    ...      \n",
      "19          0.169960  0.146435  0.164523    0.146412      0.277615    ...      \n",
      "\n",
      "    Shimmer:DDA       NHR       HNR  status      RPDE       DFA   spread1  \\\n",
      "0      0.332584  0.068307  0.511745     1.0  0.369155  0.960148  0.569875   \n",
      "1      0.516048  0.059331  0.432577     1.0  0.470830  0.977024  0.703277   \n",
      "2      0.443317  0.039596  0.496220     1.0  0.404416  1.000000  0.636745   \n",
      "3      0.475478  0.040997  0.495936     1.0  0.416255  0.975885  0.695627   \n",
      "4      0.584542  0.054174  0.455499     1.0  0.375159  0.992813  0.762472   \n",
      "5      0.360829  0.036827  0.525766     1.0  0.370978  0.999128  0.672961   \n",
      "6      0.062460  0.017252  0.668333     1.0  0.792079  0.756277  0.421385   \n",
      "7      0.072089  0.008881  0.749858     1.0  0.888630  0.752890  0.324968   \n",
      "8      0.119014  0.031989  0.543404     1.0  0.837604  0.794025  0.445910   \n",
      "9      0.190012  0.030461  0.545436     1.0  0.677741  0.893130  0.533923   \n",
      "10     0.120234  0.035045  0.515200     1.0  0.827305  0.804260  0.490913   \n",
      "11     0.186674  0.034249  0.527229     1.0  0.762563  0.869453  0.543261   \n",
      "12     0.038773  0.016424  0.701536     1.0  0.476059  0.289093  0.256346   \n",
      "13     0.052638  0.031066  0.668455     1.0  0.405048  0.364736  0.416703   \n",
      "14     0.117281  0.017315  0.669796     1.0  0.509171  0.317702  0.336269   \n",
      "15     0.061112  0.024636  0.680078     1.0  0.721810  0.334506  0.474578   \n",
      "16     0.099114  0.057103  0.564578     1.0  0.725207  0.280511  0.456512   \n",
      "17     0.189883  0.090843  0.485044     1.0  0.873881  0.124041  0.910135   \n",
      "18     0.388304  0.098514  0.359221     1.0  0.953724  0.578412  0.726078   \n",
      "19     0.243934  0.105039  0.354060     1.0  0.916942  0.445400  0.616624   \n",
      "\n",
      "     spread2        D2       PPE  \n",
      "0   0.585765  0.390661  0.497310  \n",
      "1   0.741337  0.473145  0.671326  \n",
      "2   0.686371  0.408819  0.596682  \n",
      "3   0.738089  0.436977  0.671949  \n",
      "4   0.513798  0.404336  0.757611  \n",
      "5   0.659218  0.339999  0.648753  \n",
      "6   0.565955  0.191959  0.346328  \n",
      "7   0.399458  0.285340  0.246912  \n",
      "8   0.723731  0.400034  0.387368  \n",
      "9   0.719740  0.449094  0.469780  \n",
      "10  0.866077  0.437760  0.424998  \n",
      "11  0.804315  0.542376  0.479243  \n",
      "12  0.329880  0.274923  0.194630  \n",
      "13  0.559893  0.487633  0.321750  \n",
      "14  0.444328  0.312443  0.260053  \n",
      "15  0.459033  0.348000  0.393618  \n",
      "16  0.525619  0.374227  0.359600  \n",
      "17  0.963606  0.704746  0.799972  \n",
      "18  0.791492  0.749921  0.689459  \n",
      "19  0.751661  0.637666  0.574888  \n",
      "\n",
      "[20 rows x 24 columns]\n"
     ]
    }
   ],
   "source": [
    "# 상수항 추가 : sm.add_constant()\n",
    "\n",
    "dat_processed = sm.add_constant(dat_processed, has_constant='add')\n",
    "print(dat_processed.head(20))\n"
   ]
  },
  {
   "cell_type": "code",
   "execution_count": 9,
   "metadata": {},
   "outputs": [
    {
     "name": "stdout",
     "output_type": "stream",
     "text": [
      "Index(['const', 'MDVP:Fo(Hz)', 'MDVP:Fhi(Hz)', 'MDVP:Flo(Hz)',\n",
      "       'MDVP:Jitter(%)', 'MDVP:Jitter(Abs)', 'MDVP:RAP', 'MDVP:PPQ',\n",
      "       'Jitter:DDP', 'MDVP:Shimmer', 'MDVP:Shimmer(dB)', 'Shimmer:APQ3',\n",
      "       'Shimmer:APQ5', 'MDVP:APQ', 'Shimmer:DDA', 'NHR', 'HNR', 'status',\n",
      "       'RPDE', 'DFA', 'spread1', 'spread2', 'D2', 'PPE'],\n",
      "      dtype='object')\n"
     ]
    }
   ],
   "source": [
    "# 전체 데이터 변수 확인\n",
    "print(dat_processed.columns)"
   ]
  },
  {
   "cell_type": "code",
   "execution_count": 10,
   "metadata": {},
   "outputs": [
    {
     "data": {
      "text/plain": [
       "Index(['D2', 'DFA', 'HNR', 'Jitter:DDP', 'MDVP:APQ', 'MDVP:Fhi(Hz)',\n",
       "       'MDVP:Flo(Hz)', 'MDVP:Fo(Hz)', 'MDVP:Jitter(%)', 'MDVP:Jitter(Abs)',\n",
       "       'MDVP:PPQ', 'MDVP:RAP', 'MDVP:Shimmer', 'MDVP:Shimmer(dB)', 'NHR',\n",
       "       'PPE', 'RPDE', 'Shimmer:APQ3', 'Shimmer:APQ5', 'Shimmer:DDA', 'const',\n",
       "       'spread1', 'spread2'],\n",
       "      dtype='object')"
      ]
     },
     "execution_count": 10,
     "metadata": {},
     "output_type": "execute_result"
    }
   ],
   "source": [
    "# Target 변수: 'status'를 제외한 데이터 학습데이터 구성하기\n",
    "dat_processed.columns.difference([\"status\"])"
   ]
  },
  {
   "cell_type": "code",
   "execution_count": 11,
   "metadata": {},
   "outputs": [
    {
     "data": {
      "text/plain": [
       "['D2',\n",
       " 'DFA',\n",
       " 'HNR',\n",
       " 'Jitter:DDP',\n",
       " 'MDVP:APQ',\n",
       " 'MDVP:Fhi(Hz)',\n",
       " 'MDVP:Flo(Hz)',\n",
       " 'MDVP:Fo(Hz)',\n",
       " 'MDVP:Jitter(%)',\n",
       " 'MDVP:Jitter(Abs)',\n",
       " 'MDVP:PPQ',\n",
       " 'MDVP:RAP',\n",
       " 'MDVP:Shimmer',\n",
       " 'MDVP:Shimmer(dB)',\n",
       " 'NHR',\n",
       " 'PPE',\n",
       " 'RPDE',\n",
       " 'Shimmer:APQ3',\n",
       " 'Shimmer:APQ5',\n",
       " 'Shimmer:DDA',\n",
       " 'const',\n",
       " 'spread1',\n",
       " 'spread2']"
      ]
     },
     "execution_count": 11,
     "metadata": {},
     "output_type": "execute_result"
    }
   ],
   "source": [
    "feature_columns = list(dat_processed.columns.difference([\"status\"]))\n",
    "feature_columns"
   ]
  },
  {
   "cell_type": "code",
   "execution_count": 12,
   "metadata": {},
   "outputs": [],
   "source": [
    "X = dat_processed[feature_columns]\n",
    "y = dat_processed['status'] # 질환여부: 1 or 0"
   ]
  },
  {
   "cell_type": "code",
   "execution_count": 13,
   "metadata": {},
   "outputs": [
    {
     "name": "stdout",
     "output_type": "stream",
     "text": [
      "(175, 23) (20, 23) (175,) (20,)\n"
     ]
    }
   ],
   "source": [
    "# train_test_split 함수를 이용하여 학습데이터와 검증데이터로 9:1로 나누어 데이터를 구분해보자.\n",
    "\n",
    "train_x, test_x, train_y, test_y = train_test_split(X, y, stratify=y, test_size=0.1, random_state=2017010500)\n",
    "print(train_x.shape, test_x.shape, train_y.shape, test_y.shape)\n"
   ]
  },
  {
   "cell_type": "code",
   "execution_count": 14,
   "metadata": {
    "scrolled": true
   },
   "outputs": [
    {
     "name": "stdout",
     "output_type": "stream",
     "text": [
      "const               float64\n",
      "MDVP:Fo(Hz)         float64\n",
      "MDVP:Fhi(Hz)        float64\n",
      "MDVP:Flo(Hz)        float64\n",
      "MDVP:Jitter(%)      float64\n",
      "MDVP:Jitter(Abs)    float64\n",
      "MDVP:RAP            float64\n",
      "MDVP:PPQ            float64\n",
      "Jitter:DDP          float64\n",
      "MDVP:Shimmer        float64\n",
      "MDVP:Shimmer(dB)    float64\n",
      "Shimmer:APQ3        float64\n",
      "Shimmer:APQ5        float64\n",
      "MDVP:APQ            float64\n",
      "Shimmer:DDA         float64\n",
      "NHR                 float64\n",
      "HNR                 float64\n",
      "status              float64\n",
      "RPDE                float64\n",
      "DFA                 float64\n",
      "spread1             float64\n",
      "spread2             float64\n",
      "D2                  float64\n",
      "PPE                 float64\n",
      "dtype: object\n"
     ]
    }
   ],
   "source": [
    "print(dat_processed.dtypes)\n"
   ]
  },
  {
   "cell_type": "code",
   "execution_count": 15,
   "metadata": {},
   "outputs": [
    {
     "name": "stdout",
     "output_type": "stream",
     "text": [
      "178    1.0\n",
      "89     1.0\n",
      "126    1.0\n",
      "8      1.0\n",
      "193    0.0\n",
      "174    0.0\n",
      "186    0.0\n",
      "92     1.0\n",
      "37     1.0\n",
      "47     0.0\n",
      "Name: status, dtype: float64\n",
      "           D2       DFA       HNR  Jitter:DDP  MDVP:APQ  MDVP:Fhi(Hz)  \\\n",
      "178  0.368467  0.749886  0.649069    0.040456  0.045180      0.114749   \n",
      "89   1.000000  0.682231  0.139194    0.155402  0.209511      0.252682   \n",
      "126  0.177061  0.653223  0.395716    0.109006  0.117926      0.194113   \n",
      "8    0.400034  0.794025  0.543404    0.108525  0.076422      0.061082   \n",
      "193  0.318222  0.277579  0.429936    0.145288  0.066544      0.601807   \n",
      "174  0.200038  0.725879  0.691051    0.052015  0.045869      0.086390   \n",
      "186  0.328600  0.371991  0.630619    0.089581  0.059116      1.000000   \n",
      "92   0.409743  0.638319  0.420182    0.087655  0.178574      0.128283   \n",
      "37   0.495243  0.834020  0.670975    0.066142  0.059116      0.170364   \n",
      "47   0.269288  0.242711  0.746322    0.011559  0.010797      0.325264   \n",
      "\n",
      "     MDVP:Flo(Hz)  MDVP:Fo(Hz)  MDVP:Jitter(%)  MDVP:Jitter(Abs)    ...     \\\n",
      "178      0.423239     0.351961        0.044790          0.051383    ...      \n",
      "89       0.457137     0.531973        0.171855          0.130435    ...      \n",
      "126      0.090032     0.289989        0.119441          0.130435    ...      \n",
      "8        0.151289     0.043063        0.121665          0.209486    ...      \n",
      "193      0.054279     0.642893        0.181703          0.130435    ...      \n",
      "174      0.198320     0.166913        0.058767          0.090909    ...      \n",
      "186      0.119474     0.164305        0.104193          0.130435    ...      \n",
      "92       0.442289     0.348945        0.092440          0.090909    ...      \n",
      "37       0.564717     0.511358        0.063850          0.051383    ...      \n",
      "47       0.675383     0.955464        0.005400          0.000000    ...      \n",
      "\n",
      "     MDVP:Shimmer(dB)       NHR       PPE      RPDE  Shimmer:APQ3  \\\n",
      "178          0.046836  0.013464  0.239769  0.340708      0.073960   \n",
      "89           0.293344  0.227838  0.595547  0.780205      0.354777   \n",
      "126          0.132293  0.055034  0.351131  0.855472      0.198190   \n",
      "8            0.087099  0.031989  0.387368  0.837604      0.119029   \n",
      "193          0.128184  0.227838  0.163137  0.454176      0.156009   \n",
      "174          0.049302  0.016711  0.245593  0.305455      0.082049   \n",
      "186          0.056697  0.042397  0.157543  0.722977      0.070300   \n",
      "92           0.244864  0.058853  0.293997  0.461696      0.371341   \n",
      "37           0.068200  0.008753  0.266511  0.198014      0.093028   \n",
      "47           0.014790  0.011682  0.086695  0.825508      0.030624   \n",
      "\n",
      "     Shimmer:APQ5  Shimmer:DDA  const   spread1   spread2  \n",
      "178      0.052374     0.074079    1.0  0.298863  0.396617  \n",
      "89       0.298236     0.354859    1.0  0.648274  0.831250  \n",
      "126      0.167571     0.198164    1.0  0.438375  0.182097  \n",
      "8        0.095929     0.119014    1.0  0.445910  0.723731  \n",
      "193      0.101900     0.155989    1.0  0.220650  0.452885  \n",
      "174      0.066757     0.082103    1.0  0.353000  0.502059  \n",
      "186      0.054545     0.070356    1.0  0.277324  0.330999  \n",
      "92       0.264722     0.371421    1.0  0.363938  0.183617  \n",
      "37       0.080054     0.093080    1.0  0.354111  0.427935  \n",
      "47       0.021710     0.030620    1.0  0.116702  0.438070  \n",
      "\n",
      "[10 rows x 23 columns]\n"
     ]
    }
   ],
   "source": [
    "print(train_y.head(10))\n",
    "print(train_x.head(10))\n"
   ]
  },
  {
   "cell_type": "code",
   "execution_count": 16,
   "metadata": {},
   "outputs": [],
   "source": [
    "# 모델 구축 및 학습\n",
    "# statsmodels의 Logit함수를 이용하여 모델을 적합해보자\n",
    "\n",
    "model = sm.Logit(train_y, train_x)\n"
   ]
  },
  {
   "cell_type": "code",
   "execution_count": 17,
   "metadata": {},
   "outputs": [
    {
     "name": "stdout",
     "output_type": "stream",
     "text": [
      "Warning: Maximum number of iterations has been exceeded.\n",
      "         Current function value: 0.281354\n",
      "         Iterations: 35\n",
      "         Function evaluations: 36\n",
      "         Gradient evaluations: 36\n"
     ]
    },
    {
     "name": "stderr",
     "output_type": "stream",
     "text": [
      "C:\\ProgramData\\Anaconda3\\envs\\samsung\\lib\\site-packages\\statsmodels\\base\\model.py:508: ConvergenceWarning: Maximum Likelihood optimization failed to converge. Check mle_retvals\n",
      "  \"Check mle_retvals\", ConvergenceWarning)\n"
     ]
    }
   ],
   "source": [
    "# 모델을 실제로 적합해보자\n",
    "\n",
    "results = model.fit(method='bfgs')\n"
   ]
  },
  {
   "cell_type": "code",
   "execution_count": null,
   "metadata": {},
   "outputs": [],
   "source": []
  },
  {
   "cell_type": "code",
   "execution_count": 18,
   "metadata": {},
   "outputs": [
    {
     "name": "stdout",
     "output_type": "stream",
     "text": [
      "model AIC:  144.47407\n",
      "model BIC:  217.26414\n"
     ]
    },
    {
     "data": {
      "text/html": [
       "<table class=\"simpletable\">\n",
       "<caption>Logit Regression Results</caption>\n",
       "<tr>\n",
       "  <th>Dep. Variable:</th>      <td>status</td>      <th>  No. Observations:  </th>  <td>   175</td>  \n",
       "</tr>\n",
       "<tr>\n",
       "  <th>Model:</th>               <td>Logit</td>      <th>  Df Residuals:      </th>  <td>   152</td>  \n",
       "</tr>\n",
       "<tr>\n",
       "  <th>Method:</th>               <td>MLE</td>       <th>  Df Model:          </th>  <td>    22</td>  \n",
       "</tr>\n",
       "<tr>\n",
       "  <th>Date:</th>          <td>Mon, 08 Jul 2019</td> <th>  Pseudo R-squ.:     </th>  <td>0.4954</td>  \n",
       "</tr>\n",
       "<tr>\n",
       "  <th>Time:</th>              <td>16:19:11</td>     <th>  Log-Likelihood:    </th> <td> -49.237</td> \n",
       "</tr>\n",
       "<tr>\n",
       "  <th>converged:</th>           <td>False</td>      <th>  LL-Null:           </th> <td> -97.576</td> \n",
       "</tr>\n",
       "<tr>\n",
       "  <th> </th>                      <td> </td>        <th>  LLR p-value:       </th> <td>2.442e-11</td>\n",
       "</tr>\n",
       "</table>\n",
       "<table class=\"simpletable\">\n",
       "<tr>\n",
       "          <td></td>            <th>coef</th>     <th>std err</th>      <th>z</th>      <th>P>|z|</th>  <th>[0.025</th>    <th>0.975]</th>  \n",
       "</tr>\n",
       "<tr>\n",
       "  <th>D2</th>               <td>    4.2639</td> <td>    3.099</td> <td>    1.376</td> <td> 0.169</td> <td>   -1.811</td> <td>   10.339</td>\n",
       "</tr>\n",
       "<tr>\n",
       "  <th>DFA</th>              <td>    0.0542</td> <td>    2.101</td> <td>    0.026</td> <td> 0.979</td> <td>   -4.063</td> <td>    4.171</td>\n",
       "</tr>\n",
       "<tr>\n",
       "  <th>HNR</th>              <td>   -0.9245</td> <td>    5.160</td> <td>   -0.179</td> <td> 0.858</td> <td>  -11.037</td> <td>    9.188</td>\n",
       "</tr>\n",
       "<tr>\n",
       "  <th>Jitter:DDP</th>       <td>    0.6214</td> <td> 2451.293</td> <td>    0.000</td> <td> 1.000</td> <td>-4803.824</td> <td> 4805.067</td>\n",
       "</tr>\n",
       "<tr>\n",
       "  <th>MDVP:APQ</th>         <td>    1.2534</td> <td>   40.232</td> <td>    0.031</td> <td> 0.975</td> <td>  -77.600</td> <td>   80.107</td>\n",
       "</tr>\n",
       "<tr>\n",
       "  <th>MDVP:Fhi(Hz)</th>     <td>   -1.4637</td> <td>    1.705</td> <td>   -0.858</td> <td> 0.391</td> <td>   -4.806</td> <td>    1.879</td>\n",
       "</tr>\n",
       "<tr>\n",
       "  <th>MDVP:Flo(Hz)</th>     <td>   -0.3667</td> <td>    1.652</td> <td>   -0.222</td> <td> 0.824</td> <td>   -3.605</td> <td>    2.872</td>\n",
       "</tr>\n",
       "<tr>\n",
       "  <th>MDVP:Fo(Hz)</th>      <td>   -2.2135</td> <td>    3.195</td> <td>   -0.693</td> <td> 0.488</td> <td>   -8.475</td> <td>    4.048</td>\n",
       "</tr>\n",
       "<tr>\n",
       "  <th>MDVP:Jitter(%)</th>   <td>   -0.1070</td> <td>   31.153</td> <td>   -0.003</td> <td> 0.997</td> <td>  -61.166</td> <td>   60.952</td>\n",
       "</tr>\n",
       "<tr>\n",
       "  <th>MDVP:Jitter(Abs)</th> <td>    0.0709</td> <td>   18.843</td> <td>    0.004</td> <td> 0.997</td> <td>  -36.860</td> <td>   37.002</td>\n",
       "</tr>\n",
       "<tr>\n",
       "  <th>MDVP:PPQ</th>         <td>    0.2336</td> <td>   32.602</td> <td>    0.007</td> <td> 0.994</td> <td>  -63.665</td> <td>   64.132</td>\n",
       "</tr>\n",
       "<tr>\n",
       "  <th>MDVP:RAP</th>         <td>    0.6204</td> <td> 2451.955</td> <td>    0.000</td> <td> 1.000</td> <td>-4805.122</td> <td> 4806.363</td>\n",
       "</tr>\n",
       "<tr>\n",
       "  <th>MDVP:Shimmer</th>     <td>    1.1246</td> <td>   81.756</td> <td>    0.014</td> <td> 0.989</td> <td> -159.114</td> <td>  161.363</td>\n",
       "</tr>\n",
       "<tr>\n",
       "  <th>MDVP:Shimmer(dB)</th> <td>    1.0381</td> <td>   32.839</td> <td>    0.032</td> <td> 0.975</td> <td>  -63.325</td> <td>   65.401</td>\n",
       "</tr>\n",
       "<tr>\n",
       "  <th>NHR</th>              <td>    0.0104</td> <td>   12.874</td> <td>    0.001</td> <td> 0.999</td> <td>  -25.222</td> <td>   25.242</td>\n",
       "</tr>\n",
       "<tr>\n",
       "  <th>PPE</th>              <td>    4.1208</td> <td>   10.097</td> <td>    0.408</td> <td> 0.683</td> <td>  -15.669</td> <td>   23.910</td>\n",
       "</tr>\n",
       "<tr>\n",
       "  <th>RPDE</th>             <td>   -3.4806</td> <td>    2.004</td> <td>   -1.737</td> <td> 0.082</td> <td>   -7.409</td> <td>    0.448</td>\n",
       "</tr>\n",
       "<tr>\n",
       "  <th>Shimmer:APQ3</th>     <td>    0.5714</td> <td> 5440.328</td> <td>    0.000</td> <td> 1.000</td> <td>-1.07e+04</td> <td> 1.07e+04</td>\n",
       "</tr>\n",
       "<tr>\n",
       "  <th>Shimmer:APQ5</th>     <td>    1.2993</td> <td>   25.642</td> <td>    0.051</td> <td> 0.960</td> <td>  -48.957</td> <td>   51.556</td>\n",
       "</tr>\n",
       "<tr>\n",
       "  <th>Shimmer:DDA</th>      <td>    0.5705</td> <td> 5438.660</td> <td>    0.000</td> <td> 1.000</td> <td>-1.07e+04</td> <td> 1.07e+04</td>\n",
       "</tr>\n",
       "<tr>\n",
       "  <th>const</th>            <td>   -1.7935</td> <td>    4.920</td> <td>   -0.365</td> <td> 0.715</td> <td>  -11.436</td> <td>    7.849</td>\n",
       "</tr>\n",
       "<tr>\n",
       "  <th>spread1</th>          <td>    4.5679</td> <td>    7.896</td> <td>    0.578</td> <td> 0.563</td> <td>  -10.908</td> <td>   20.044</td>\n",
       "</tr>\n",
       "<tr>\n",
       "  <th>spread2</th>          <td>    3.6718</td> <td>    2.343</td> <td>    1.567</td> <td> 0.117</td> <td>   -0.920</td> <td>    8.264</td>\n",
       "</tr>\n",
       "</table>"
      ],
      "text/plain": [
       "<class 'statsmodels.iolib.summary.Summary'>\n",
       "\"\"\"\n",
       "                           Logit Regression Results                           \n",
       "==============================================================================\n",
       "Dep. Variable:                 status   No. Observations:                  175\n",
       "Model:                          Logit   Df Residuals:                      152\n",
       "Method:                           MLE   Df Model:                           22\n",
       "Date:                Mon, 08 Jul 2019   Pseudo R-squ.:                  0.4954\n",
       "Time:                        16:19:11   Log-Likelihood:                -49.237\n",
       "converged:                      False   LL-Null:                       -97.576\n",
       "                                        LLR p-value:                 2.442e-11\n",
       "====================================================================================\n",
       "                       coef    std err          z      P>|z|      [0.025      0.975]\n",
       "------------------------------------------------------------------------------------\n",
       "D2                   4.2639      3.099      1.376      0.169      -1.811      10.339\n",
       "DFA                  0.0542      2.101      0.026      0.979      -4.063       4.171\n",
       "HNR                 -0.9245      5.160     -0.179      0.858     -11.037       9.188\n",
       "Jitter:DDP           0.6214   2451.293      0.000      1.000   -4803.824    4805.067\n",
       "MDVP:APQ             1.2534     40.232      0.031      0.975     -77.600      80.107\n",
       "MDVP:Fhi(Hz)        -1.4637      1.705     -0.858      0.391      -4.806       1.879\n",
       "MDVP:Flo(Hz)        -0.3667      1.652     -0.222      0.824      -3.605       2.872\n",
       "MDVP:Fo(Hz)         -2.2135      3.195     -0.693      0.488      -8.475       4.048\n",
       "MDVP:Jitter(%)      -0.1070     31.153     -0.003      0.997     -61.166      60.952\n",
       "MDVP:Jitter(Abs)     0.0709     18.843      0.004      0.997     -36.860      37.002\n",
       "MDVP:PPQ             0.2336     32.602      0.007      0.994     -63.665      64.132\n",
       "MDVP:RAP             0.6204   2451.955      0.000      1.000   -4805.122    4806.363\n",
       "MDVP:Shimmer         1.1246     81.756      0.014      0.989    -159.114     161.363\n",
       "MDVP:Shimmer(dB)     1.0381     32.839      0.032      0.975     -63.325      65.401\n",
       "NHR                  0.0104     12.874      0.001      0.999     -25.222      25.242\n",
       "PPE                  4.1208     10.097      0.408      0.683     -15.669      23.910\n",
       "RPDE                -3.4806      2.004     -1.737      0.082      -7.409       0.448\n",
       "Shimmer:APQ3         0.5714   5440.328      0.000      1.000   -1.07e+04    1.07e+04\n",
       "Shimmer:APQ5         1.2993     25.642      0.051      0.960     -48.957      51.556\n",
       "Shimmer:DDA          0.5705   5438.660      0.000      1.000   -1.07e+04    1.07e+04\n",
       "const               -1.7935      4.920     -0.365      0.715     -11.436       7.849\n",
       "spread1              4.5679      7.896      0.578      0.563     -10.908      20.044\n",
       "spread2              3.6718      2.343      1.567      0.117      -0.920       8.264\n",
       "====================================================================================\n",
       "\"\"\""
      ]
     },
     "execution_count": 18,
     "metadata": {},
     "output_type": "execute_result"
    }
   ],
   "source": [
    "# performance measure\n",
    "print(\"model AIC: \",\"{:.5f}\".format(results.aic))\n",
    "print(\"model BIC: \",\"{:.5f}\".format(results.bic))\n",
    "results.summary()"
   ]
  },
  {
   "cell_type": "code",
   "execution_count": 19,
   "metadata": {},
   "outputs": [
    {
     "name": "stdout",
     "output_type": "stream",
     "text": [
      "178    0.754379\n",
      "89     0.999763\n",
      "126    0.473022\n",
      "8      0.965055\n",
      "193    0.376182\n",
      "174    0.850443\n",
      "186    0.151406\n",
      "92     0.893159\n",
      "37     0.908429\n",
      "47     0.012054\n",
      "dtype: float64\n"
     ]
    }
   ],
   "source": [
    "# 실제 Train 학습의 예측값을 출력해보자.\n",
    "\n",
    "train_y_pred = results.predict(train_x)\n",
    "print(train_y_pred.head(10))\n"
   ]
  },
  {
   "cell_type": "code",
   "execution_count": 20,
   "metadata": {},
   "outputs": [
    {
     "name": "stdout",
     "output_type": "stream",
     "text": [
      "139    0.896587\n",
      "70     0.921018\n",
      "167    0.032148\n",
      "143    0.710512\n",
      "157    0.999480\n",
      "95     0.855700\n",
      "26     0.866141\n",
      "25     0.990939\n",
      "192    0.821703\n",
      "108    0.609142\n",
      "123    0.688141\n",
      "172    0.845136\n",
      "43     0.136289\n",
      "67     0.968164\n",
      "164    0.999518\n",
      "180    0.878394\n",
      "190    0.832943\n",
      "125    0.451190\n",
      "101    0.999631\n",
      "144    0.731930\n",
      "dtype: float64\n"
     ]
    }
   ],
   "source": [
    "# 실제 Test데이터의 예측값을 출력해보자.\n",
    "\n",
    "test_y_pred = results.predict(test_x)\n",
    "print(test_y_pred.head(20))\n"
   ]
  },
  {
   "cell_type": "code",
   "execution_count": 21,
   "metadata": {
    "collapsed": true
   },
   "outputs": [],
   "source": [
    "# Cut-off 정의\n",
    "def cut_off(y,threshold):\n",
    "    Y = y.copy() # copy함수를 사용하여 이전의 y값이 변화지 않게 함\n",
    "    Y[Y>threshold]=1\n",
    "    Y[Y<=threshold]=0\n",
    "    return(Y.astype(int))"
   ]
  },
  {
   "cell_type": "code",
   "execution_count": 22,
   "metadata": {},
   "outputs": [
    {
     "name": "stdout",
     "output_type": "stream",
     "text": [
      "178    1\n",
      "89     1\n",
      "126    0\n",
      "8      1\n",
      "193    0\n",
      "174    1\n",
      "186    0\n",
      "92     1\n",
      "37     1\n",
      "47     0\n",
      "dtype: int32\n"
     ]
    }
   ],
   "source": [
    "train_y_pred_prob = results.predict(train_x)\n",
    "train_y_pred = cut_off(train_y_pred_prob,0.5)\n",
    "print( train_y_pred.head(10) )"
   ]
  },
  {
   "cell_type": "code",
   "execution_count": 23,
   "metadata": {},
   "outputs": [
    {
     "name": "stdout",
     "output_type": "stream",
     "text": [
      "139    1\n",
      "70     1\n",
      "167    0\n",
      "143    1\n",
      "157    1\n",
      "95     1\n",
      "26     1\n",
      "25     1\n",
      "192    1\n",
      "108    1\n",
      "123    1\n",
      "172    1\n",
      "43     0\n",
      "67     1\n",
      "164    1\n",
      "180    1\n",
      "190    1\n",
      "125    0\n",
      "101    1\n",
      "144    1\n",
      "dtype: int32\n"
     ]
    }
   ],
   "source": [
    "test_y_pred_prob = results.predict(test_x)\n",
    "test_y_pred = cut_off(test_y_pred_prob,0.5)\n",
    "print( test_y_pred.head(20) )"
   ]
  },
  {
   "cell_type": "code",
   "execution_count": 24,
   "metadata": {},
   "outputs": [
    {
     "name": "stdout",
     "output_type": "stream",
     "text": [
      "139    1\n",
      "70     1\n",
      "167    0\n",
      "143    1\n",
      "157    1\n",
      "95     1\n",
      "26     1\n",
      "25     1\n",
      "192    1\n",
      "108    1\n",
      "dtype: int32\n"
     ]
    }
   ],
   "source": [
    "test_y_pred_prob = results.predict(test_x)\n",
    "test_y_pred = cut_off(test_y_pred_prob,0.5)\n",
    "print( test_y_pred.head(10) )"
   ]
  },
  {
   "cell_type": "code",
   "execution_count": 25,
   "metadata": {},
   "outputs": [
    {
     "name": "stdout",
     "output_type": "stream",
     "text": [
      "[[ 27  16]\n",
      " [ 10 122]]\n"
     ]
    }
   ],
   "source": [
    "# confusion matrix: Training set\n",
    "cm_train = confusion_matrix(train_y,train_y_pred)\n",
    "print( cm_train )"
   ]
  },
  {
   "cell_type": "code",
   "execution_count": 26,
   "metadata": {},
   "outputs": [
    {
     "name": "stdout",
     "output_type": "stream",
     "text": [
      "[[ 2  3]\n",
      " [ 1 14]]\n"
     ]
    }
   ],
   "source": [
    "# confusion matrix: Test set\n",
    "cm_test = confusion_matrix(test_y,test_y_pred)\n",
    "print( cm_test)"
   ]
  },
  {
   "cell_type": "code",
   "execution_count": 27,
   "metadata": {
    "collapsed": true
   },
   "outputs": [],
   "source": [
    "# performance evaluation\n",
    "def perf_eval(cm):\n",
    "    # True positive rate: TPR\n",
    "    TPR = cm[1, 1] / sum(cm[1]) # recall\n",
    "    # True negative rate: TNR\n",
    "    TNR = cm[0, 0] / sum(cm[0])\n",
    "    # Simple Accuracy\n",
    "    ACC = (cm[0, 0] + cm[1, 1]) / sum(cm.reshape(-1,))\n",
    "    # Balanced Correction Rate\n",
    "    BCR = np.sqrt(TPR * TNR)\n",
    "    # F1-measure\n",
    "    Precision = cm[1,1] /sum(cm[:,1])\n",
    "    F1 = 2*TPR*Precision/(TPR+Precision)\n",
    "    return ([TPR, TNR, ACC, BCR, F1])"
   ]
  },
  {
   "cell_type": "code",
   "execution_count": 28,
   "metadata": {},
   "outputs": [
    {
     "name": "stdout",
     "output_type": "stream",
     "text": [
      "Test performance of Logistic Regression\n",
      "TPR: 0.9333333333333333\n",
      "TNR: 0.4\n",
      "ACC: 0.8\n",
      "BCR: 0.6110100926607787\n",
      "F1: 0.8749999999999999\n"
     ]
    }
   ],
   "source": [
    "\n",
    "print('Test performance of Logistic Regression')\n",
    "print('TPR:',perf_eval(cm_test)[0])\n",
    "print('TNR:',perf_eval(cm_test)[1])\n",
    "print('ACC:',perf_eval(cm_test)[2])\n",
    "print('BCR:',perf_eval(cm_test)[3])\n",
    "print('F1:',perf_eval(cm_test)[4])"
   ]
  },
  {
   "cell_type": "code",
   "execution_count": 29,
   "metadata": {},
   "outputs": [
    {
     "data": {
      "text/plain": [
       "array([0. , 0.1, 0.2, 0.3, 0.4, 0.5, 0.6, 0.7, 0.8, 0.9])"
      ]
     },
     "execution_count": 29,
     "metadata": {},
     "output_type": "execute_result"
    }
   ],
   "source": [
    "# 임계값에 따른 비교\n",
    "threshold = np.arange(0, 1, 0.1)\n",
    "threshold"
   ]
  },
  {
   "cell_type": "code",
   "execution_count": 30,
   "metadata": {},
   "outputs": [
    {
     "name": "stdout",
     "output_type": "stream",
     "text": [
      "Empty DataFrame\n",
      "Columns: [TPR, TNR, ACC, BCR, F1]\n",
      "Index: []\n"
     ]
    }
   ],
   "source": [
    "table = pd.DataFrame(columns=['TPR','TNR','ACC','BCR','F1'])\n",
    "print(table)"
   ]
  },
  {
   "cell_type": "code",
   "execution_count": 31,
   "metadata": {
    "collapsed": true
   },
   "outputs": [],
   "source": [
    "for i in threshold:\n",
    "    test_y_pred_tmp = cut_off(test_y_pred_prob,i)\n",
    "    cfmat = confusion_matrix(test_y, test_y_pred_tmp)\n",
    "    table.loc[i] = perf_eval(cfmat)"
   ]
  },
  {
   "cell_type": "code",
   "execution_count": 32,
   "metadata": {},
   "outputs": [
    {
     "name": "stdout",
     "output_type": "stream",
     "text": [
      "performance       TPR  TNR   ACC       BCR        F1\n",
      "threshold                                           \n",
      "0.0          1.000000  0.0  0.75  0.000000  0.857143\n",
      "0.1          1.000000  0.2  0.80  0.447214  0.882353\n",
      "0.2          1.000000  0.4  0.85  0.632456  0.909091\n",
      "0.3          1.000000  0.4  0.85  0.632456  0.909091\n",
      "0.4          1.000000  0.4  0.85  0.632456  0.909091\n",
      "0.5          0.933333  0.4  0.80  0.611010  0.875000\n",
      "0.6          0.933333  0.4  0.80  0.611010  0.875000\n",
      "0.7          0.800000  0.4  0.70  0.565685  0.800000\n",
      "0.8          0.666667  0.4  0.60  0.516398  0.714286\n",
      "0.9          0.400000  1.0  0.55  0.632456  0.571429\n"
     ]
    }
   ],
   "source": [
    "table.index.name='threshold'\n",
    "table.columns.name='performance'\n",
    "print(table)"
   ]
  },
  {
   "cell_type": "code",
   "execution_count": null,
   "metadata": {},
   "outputs": [],
   "source": []
  },
  {
   "cell_type": "code",
   "execution_count": null,
   "metadata": {},
   "outputs": [],
   "source": []
  }
 ],
 "metadata": {
  "kernelspec": {
   "display_name": "Python 3 (ipykernel)",
   "language": "python",
   "name": "python3"
  },
  "language_info": {
   "codemirror_mode": {
    "name": "ipython",
    "version": 3
   },
   "file_extension": ".py",
   "mimetype": "text/x-python",
   "name": "python",
   "nbconvert_exporter": "python",
   "pygments_lexer": "ipython3",
   "version": "3.9.12"
  }
 },
 "nbformat": 4,
 "nbformat_minor": 2
}
