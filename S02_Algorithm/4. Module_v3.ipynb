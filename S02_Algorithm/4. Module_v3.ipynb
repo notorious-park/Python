{
 "cells": [
  {
   "cell_type": "markdown",
   "id": "4ad190d6",
   "metadata": {},
   "source": [
    "# Date, Time\n",
    ">시간정보"
   ]
  },
  {
   "cell_type": "code",
   "execution_count": 1,
   "id": "c1b2e905",
   "metadata": {},
   "outputs": [],
   "source": [
    "# 현재 시간을 년-월-일 시:분:초로 출력하기(localtime, strftime)\n",
    "from time import localtime, strftime\n",
    "\n",
    "def writelog(logfile, log):\n",
    "    time_stamp = strftime('%Y-%m-%d %X\\t', localtime())\n",
    "    log = time_stamp + log + '\\n'\n",
    "    \n",
    "    with open(logfile, 'a') as f:\n",
    "        f.writelines(log)\n",
    "        \n",
    "logfile = 'test.log'\n",
    "! del test.log\n",
    "\n",
    "writelog(logfile, '첫번째 로깅 문장입니다.')"
   ]
  },
  {
   "cell_type": "code",
   "execution_count": 2,
   "id": "e003855c",
   "metadata": {},
   "outputs": [],
   "source": [
    "writelog(logfile, '두번째 로깅 문장입니다.')"
   ]
  },
  {
   "cell_type": "code",
   "execution_count": 3,
   "id": "f049e1e1",
   "metadata": {},
   "outputs": [
    {
     "name": "stdout",
     "output_type": "stream",
     "text": [
      "2022-05-24 16:51:52\t첫번째 로깅 문장입니다.\n",
      "2022-05-24 16:51:53\t두번째 로깅 문장입니다.\n"
     ]
    }
   ],
   "source": [
    "# ! cat $lofgile\n",
    "! type test.log"
   ]
  },
  {
   "cell_type": "code",
   "execution_count": 4,
   "id": "8d43c810",
   "metadata": {},
   "outputs": [
    {
     "name": "stdout",
     "output_type": "stream",
     "text": [
      "time.struct_time(tm_year=2022, tm_mon=5, tm_mday=24, tm_hour=16, tm_min=51, tm_sec=53, tm_wday=1, tm_yday=144, tm_isdst=0)\n",
      "오늘은 [2022-01-01]이후 [144]일째 되는 날입니다.\n"
     ]
    }
   ],
   "source": [
    "# 올해 경과된 날짜수 계산하기(localtime)\n",
    "from time import localtime\n",
    "\n",
    "t = localtime()\n",
    "print(t)\n",
    "\n",
    "start_day = '%d-01-01' % (t.tm_year)\n",
    "elapsed_day = t.tm_yday\n",
    "\n",
    "print('오늘은 [%s]이후 [%d]일째 되는 날입니다.' %(start_day, elapsed_day))"
   ]
  },
  {
   "cell_type": "code",
   "execution_count": 23,
   "id": "2211da5a",
   "metadata": {},
   "outputs": [],
   "source": [
    "def cs_num(num):\n",
    "    '''\n",
    "        숫자값에 콤마를 붙혀서 리턴해주는 함수\n",
    "        param  : num(숫자형)\n",
    "        return : ret_num(문자형)\n",
    "    '''\n",
    "    ret_num = str()\n",
    "    str_num = str(num)\n",
    "    rev_num = str_num[::-1]\n",
    "\n",
    "    # comma = rev_num[3::3]\n",
    "    ret = rev_num\n",
    "    tmp = str()\n",
    "\n",
    "    for i in range(len(ret)):\n",
    "        if i % 3 == 0:   # 혹은 i > 0 조건 추가해서 밑에 [1:]조건 뺄 수 있음\n",
    "            tmp += ','\n",
    "        tmp += rev_num[i]\n",
    "        # print(i,tmp)\n",
    "\n",
    "    tmp_num = tmp[1:]\n",
    "\n",
    "    ret_num = tmp_num[::-1]\n",
    "    return ret_num"
   ]
  },
  {
   "cell_type": "code",
   "execution_count": 21,
   "id": "5c756ecc",
   "metadata": {},
   "outputs": [],
   "source": [
    "from datetime import datetime\n",
    "\n",
    "def getMemorialDay(year, month, day, mem_day = '기념일', is_msg = True):\n",
    "    if is_msg:\n",
    "        start_day = datetime(year,month,day)\n",
    "        end_day = datetime.today()\n",
    "        elapsed = end_day - start_day\n",
    "\n",
    "        elapsed_day = elapsed.days\n",
    "        elapsed_month = int(elapsed_day / 30)\n",
    "        elapsed_year = int(elapsed_day / 365)\n",
    "\n",
    "        if is_msg:\n",
    "            print('오늘은 {}으로부터 {:,}일 경과되었고, 달 수로는 {:,}개월째, 연 수로는 {}년째 되었습니다!'.format(mem_day, elapsed_day, elapsed_month,elapsed_year))\n",
    "\n",
    "        return elapsed_year, elapsed_month, elapsed_day"
   ]
  },
  {
   "cell_type": "code",
   "execution_count": 22,
   "id": "2746dd1b",
   "metadata": {},
   "outputs": [
    {
     "name": "stdout",
     "output_type": "stream",
     "text": [
      "오늘은 밀레니엄일으로부터 8,181일 경과되었고, 달 수로는 272개월째, 연 수로는 22년째 되었습니다!\n"
     ]
    },
    {
     "data": {
      "text/plain": [
       "(22, 272, 8181)"
      ]
     },
     "execution_count": 22,
     "metadata": {},
     "output_type": "execute_result"
    }
   ],
   "source": [
    "getMemorialDay(2000,1,1, '밀레니엄일')"
   ]
  },
  {
   "cell_type": "code",
   "execution_count": 23,
   "id": "87d41597",
   "metadata": {},
   "outputs": [
    {
     "name": "stdout",
     "output_type": "stream",
     "text": [
      "오늘은 세월호침몰사고일으로부터 2,962일 경과되었고, 달 수로는 98개월째, 연 수로는 8년째 되었습니다!\n"
     ]
    },
    {
     "data": {
      "text/plain": [
       "(8, 98, 2962)"
      ]
     },
     "execution_count": 23,
     "metadata": {},
     "output_type": "execute_result"
    }
   ],
   "source": [
    "getMemorialDay(2014,4,16, '세월호침몰사고일')"
   ]
  },
  {
   "cell_type": "code",
   "execution_count": 24,
   "id": "17e9f0dd",
   "metadata": {},
   "outputs": [
    {
     "name": "stdout",
     "output_type": "stream",
     "text": [
      "오늘은 국내 최초 코로나 발생일으로부터 857일 경과되었고, 달 수로는 28개월째, 연 수로는 2년째 되었습니다!\n"
     ]
    },
    {
     "data": {
      "text/plain": [
       "(2, 28, 857)"
      ]
     },
     "execution_count": 24,
     "metadata": {},
     "output_type": "execute_result"
    }
   ],
   "source": [
    "getMemorialDay(2020,1,20, '국내 최초 코로나 발생일')"
   ]
  },
  {
   "cell_type": "code",
   "execution_count": 25,
   "id": "a2b2e38d",
   "metadata": {},
   "outputs": [],
   "source": [
    "getMemorialDay(2019,12,25, '크리스마스', False)"
   ]
  },
  {
   "cell_type": "code",
   "execution_count": 28,
   "id": "871f1d05",
   "metadata": {},
   "outputs": [
    {
     "ename": "NameError",
     "evalue": "name 'elapsed_day' is not defined",
     "output_type": "error",
     "traceback": [
      "\u001b[1;31m---------------------------------------------------------------------------\u001b[0m",
      "\u001b[1;31mNameError\u001b[0m                                 Traceback (most recent call last)",
      "Input \u001b[1;32mIn [28]\u001b[0m, in \u001b[0;36m<cell line: 1>\u001b[1;34m()\u001b[0m\n\u001b[1;32m----> 1\u001b[0m \u001b[38;5;124m'\u001b[39m\u001b[38;5;124m크리스마스까지는 \u001b[39m\u001b[38;5;132;01m%d\u001b[39;00m\u001b[38;5;124m일 남았습니다!!\u001b[39m\u001b[38;5;124m'\u001b[39m \u001b[38;5;241m%\u001b[39m \u001b[38;5;241m-\u001b[39m\u001b[43melapsed_day\u001b[49m\n",
      "\u001b[1;31mNameError\u001b[0m: name 'elapsed_day' is not defined"
     ]
    }
   ],
   "source": [
    "'크리스마스까지는 %d일 남았습니다!!' % -elapsed_day"
   ]
  },
  {
   "cell_type": "code",
   "execution_count": null,
   "id": "f108e6b6",
   "metadata": {},
   "outputs": [],
   "source": []
  },
  {
   "cell_type": "code",
   "execution_count": null,
   "id": "3e817fd9",
   "metadata": {},
   "outputs": [],
   "source": []
  }
 ],
 "metadata": {
  "kernelspec": {
   "display_name": "Python 3 (ipykernel)",
   "language": "python",
   "name": "python3"
  },
  "language_info": {
   "codemirror_mode": {
    "name": "ipython",
    "version": 3
   },
   "file_extension": ".py",
   "mimetype": "text/x-python",
   "name": "python",
   "nbconvert_exporter": "python",
   "pygments_lexer": "ipython3",
   "version": "3.9.12"
  }
 },
 "nbformat": 4,
 "nbformat_minor": 5
}
