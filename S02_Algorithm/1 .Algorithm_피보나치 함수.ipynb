{
 "cells": [
  {
   "cell_type": "markdown",
   "id": "29299350",
   "metadata": {},
   "source": [
    "# 알고리즘, Algorithm\n",
    "- <span style = 'color : red'> 피보나치 함수\n",
    "- 자료구조 - 스택(Stack)\n",
    "- 자료구조 - 큐(Queue)"
   ]
  },
  {
   "cell_type": "markdown",
   "id": "5a9ee251",
   "metadata": {},
   "source": [
    "### <span style = 'color : blue'> 피보나치 함수\n",
    "\n",
    "- N번째 피보나치 함수를 구하는 함수\n",
    "- 피보나치(N)은 바로 전번(N-1)값과 전전번(N-2)값의 더한값"
   ]
  },
  {
   "cell_type": "markdown",
   "id": "66747b4e",
   "metadata": {},
   "source": [
    "###### 피보나치 수열 구하기 1"
   ]
  },
  {
   "cell_type": "code",
   "execution_count": 25,
   "id": "5c1c93a2",
   "metadata": {},
   "outputs": [],
   "source": [
    "import time\n",
    "call_cnt = 0\n",
    "\n",
    "# 피보나치 수열 구하기_1\n",
    "def fibonacci(num):\n",
    "    global call_cnt\n",
    "    ret_num = 0\n",
    "    call_cnt += 1\n",
    "    time.sleep(0.1)\n",
    "    print('함수 호출 횟수 : ',call_cnt)\n",
    "\n",
    "    if num == 0:\n",
    "        ret_num = 0\n",
    "    elif num == 1:\n",
    "        ret_num = 1\n",
    "    else:\n",
    "        ret_num = fibonacci(num-1) + fibonacci(num-2)\n",
    "\n",
    "    return ret_num"
   ]
  },
  {
   "cell_type": "code",
   "execution_count": 26,
   "id": "5a953249",
   "metadata": {
    "scrolled": true
   },
   "outputs": [
    {
     "name": "stdout",
     "output_type": "stream",
     "text": [
      "함수 호출 횟수 :  1\n",
      "함수 호출 횟수 :  2\n",
      "함수 호출 횟수 :  3\n",
      "함수 호출 횟수 :  4\n",
      "함수 호출 횟수 :  5\n",
      "함수 호출 횟수 :  6\n",
      "함수 호출 횟수 :  7\n",
      "함수 호출 횟수 :  8\n",
      "함수 호출 횟수 :  9\n",
      "함수 호출 횟수 :  10\n",
      "함수 호출 횟수 :  11\n",
      "함수 호출 횟수 :  12\n",
      "함수 호출 횟수 :  13\n",
      "함수 호출 횟수 :  14\n",
      "함수 호출 횟수 :  15\n"
     ]
    },
    {
     "data": {
      "text/plain": [
       "5"
      ]
     },
     "execution_count": 26,
     "metadata": {},
     "output_type": "execute_result"
    }
   ],
   "source": [
    "fibonacci(5)"
   ]
  },
  {
   "cell_type": "markdown",
   "id": "f043d9d3",
   "metadata": {},
   "source": [
    "###### 피보나치 수열 구하기 2"
   ]
  },
  {
   "cell_type": "code",
   "execution_count": 8,
   "id": "4fdc2ccf",
   "metadata": {},
   "outputs": [],
   "source": [
    "# 피보나치 수열 구하기_2\n",
    "def fibonacci(num):\n",
    "    \n",
    "    ret_num = 0 if num == 0 else 1 if num == 1 else fibonacci(num-1) + fibonacci(num-2)\n",
    "\n",
    "    return ret_num"
   ]
  },
  {
   "cell_type": "code",
   "execution_count": 9,
   "id": "d8b535a0",
   "metadata": {
    "scrolled": true
   },
   "outputs": [
    {
     "name": "stdout",
     "output_type": "stream",
     "text": [
      "Fibonacci(0) = 0\n",
      "Fibonacci(1) = 1\n",
      "Fibonacci(2) = 1\n",
      "Fibonacci(3) = 2\n",
      "Fibonacci(4) = 3\n",
      "Fibonacci(5) = 5\n",
      "Fibonacci(6) = 8\n",
      "Fibonacci(7) = 13\n",
      "Fibonacci(8) = 21\n",
      "Fibonacci(9) = 34\n",
      "Fibonacci(10) = 55\n",
      "Fibonacci(11) = 89\n",
      "Fibonacci(12) = 144\n",
      "Fibonacci(13) = 233\n",
      "Fibonacci(14) = 377\n"
     ]
    }
   ],
   "source": [
    "for num in range(15):\n",
    "    print('Fibonacci({}) = {}'.format(num, fibonacci(num)))"
   ]
  },
  {
   "cell_type": "markdown",
   "id": "1e9dc49e",
   "metadata": {},
   "source": [
    "###### 피보나치 수열 구하기 3"
   ]
  },
  {
   "cell_type": "code",
   "execution_count": 10,
   "id": "6fc400b6",
   "metadata": {},
   "outputs": [],
   "source": [
    "# 피보나치 수열 구하기_3\n",
    "fibonacci = (lambda num : 0 if num == 0 else 1 if num == 1 else fibonacci(num-1) + fibonacci(num-2))"
   ]
  },
  {
   "cell_type": "code",
   "execution_count": 18,
   "id": "4894c131",
   "metadata": {},
   "outputs": [
    {
     "data": {
      "text/plain": [
       "377"
      ]
     },
     "execution_count": 18,
     "metadata": {},
     "output_type": "execute_result"
    }
   ],
   "source": [
    "fibonacci(14)"
   ]
  },
  {
   "cell_type": "code",
   "execution_count": null,
   "id": "5bc258b4",
   "metadata": {},
   "outputs": [],
   "source": []
  }
 ],
 "metadata": {
  "kernelspec": {
   "display_name": "Python 3 (ipykernel)",
   "language": "python",
   "name": "python3"
  },
  "language_info": {
   "codemirror_mode": {
    "name": "ipython",
    "version": 3
   },
   "file_extension": ".py",
   "mimetype": "text/x-python",
   "name": "python",
   "nbconvert_exporter": "python",
   "pygments_lexer": "ipython3",
   "version": "3.9.12"
  }
 },
 "nbformat": 4,
 "nbformat_minor": 5
}
