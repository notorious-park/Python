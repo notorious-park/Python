{
 "cells": [
  {
   "cell_type": "markdown",
   "id": "ba1db33d",
   "metadata": {},
   "source": [
    "# 알고리즘, Algorithm\n",
    "- 피보나치 함수\n",
    "- <span style = 'color : red'> 자료구조 - 스택(Stack)\n",
    "- 자료구조 - 큐(Queue)"
   ]
  },
  {
   "cell_type": "markdown",
   "id": "77d26d2e",
   "metadata": {},
   "source": [
    "### <span style = 'color : blue'>자료구조 - 스택(Stack)\n",
    "\n",
    ">파이썬으로 구현한 스택 자료구조\n",
    "\n",
    "- 스택은 push와 pop이라는 기능을 가지고 있습니다.\n",
    "- 스택 자료구조는 말 그대로, 쌓아 올리는 것과 같은 자료구조입니다.\n",
    "- 즉, push은 item을 쌓아올리는 기능이고, pop은 쌓여져 있는 item에서 제일 위의 것을 꺼내는 작업입니다.\n",
    "- 따라서 스택 자료구조는 Last In First Out(LIFO) 와 같은 특성을 가지고 있습니다."
   ]
  },
  {
   "cell_type": "code",
   "execution_count": 97,
   "id": "9f7e0282",
   "metadata": {},
   "outputs": [],
   "source": [
    "class Stack:\n",
    "\n",
    "    def __init__(self):\n",
    "        self.stack_items = []\n",
    "\n",
    "    def pop(self):\n",
    "        empty = bool()\n",
    "        if len(self.stack_items) == 0:\n",
    "            empty = False\n",
    "            print('Stack is empty!')\n",
    "            return empty\n",
    "        else:\n",
    "            result = self.stack_items[-1]\n",
    "            del self.stack_items[-1]\n",
    "            return result\n",
    "        pass\n",
    "\n",
    "    def push(self, x):\n",
    "        self.stack_items.append(x)\n",
    "        pass\n",
    "\n",
    "    def is_empty(self):\n",
    "        empty = bool()\n",
    "        if len(self.stack_items) == 0:\n",
    "            empty = True\n",
    "            return empty\n",
    "        else:\n",
    "            empty = False\n",
    "            return empty\n",
    "        pass\n",
    "\n",
    "    def chk_stack(self):\n",
    "        print(\"Stack = {}\".format(self.stack_items))"
   ]
  },
  {
   "cell_type": "code",
   "execution_count": 83,
   "id": "66d275f5",
   "metadata": {},
   "outputs": [
    {
     "name": "stdout",
     "output_type": "stream",
     "text": [
      "Stack = []\n"
     ]
    }
   ],
   "source": [
    "stack = Stack()\n",
    "stack.chk_stack()"
   ]
  },
  {
   "cell_type": "code",
   "execution_count": 84,
   "id": "1c30311d",
   "metadata": {},
   "outputs": [
    {
     "data": {
      "text/plain": [
       "True"
      ]
     },
     "execution_count": 84,
     "metadata": {},
     "output_type": "execute_result"
    }
   ],
   "source": [
    "# print(\"is_empty() = {}\".format(stack.is_empty()))\n",
    "stack.is_empty()"
   ]
  },
  {
   "cell_type": "code",
   "execution_count": 85,
   "id": "8001ec7b",
   "metadata": {},
   "outputs": [
    {
     "name": "stdout",
     "output_type": "stream",
     "text": [
      "Stack = [1]\n"
     ]
    }
   ],
   "source": [
    "stack.push(1)\n",
    "stack.chk_stack()"
   ]
  },
  {
   "cell_type": "code",
   "execution_count": 86,
   "id": "37cd557a",
   "metadata": {},
   "outputs": [
    {
     "name": "stdout",
     "output_type": "stream",
     "text": [
      "Stack = [1, 3]\n"
     ]
    }
   ],
   "source": [
    "stack.push(3)\n",
    "stack.chk_stack()"
   ]
  },
  {
   "cell_type": "code",
   "execution_count": 87,
   "id": "b2bdeae5",
   "metadata": {},
   "outputs": [
    {
     "name": "stdout",
     "output_type": "stream",
     "text": [
      "Stack = [1, 3, 5, 7, 9]\n"
     ]
    }
   ],
   "source": [
    "stack.push(5)\n",
    "stack.push(7)\n",
    "stack.push(9)\n",
    "stack.chk_stack()"
   ]
  },
  {
   "cell_type": "code",
   "execution_count": 88,
   "id": "6e3ab484",
   "metadata": {},
   "outputs": [
    {
     "name": "stdout",
     "output_type": "stream",
     "text": [
      "Stack = [1, 3, 5, 7]\n"
     ]
    }
   ],
   "source": [
    "stack.pop()\n",
    "stack.chk_stack()"
   ]
  },
  {
   "cell_type": "code",
   "execution_count": 89,
   "id": "31aab06d",
   "metadata": {},
   "outputs": [
    {
     "name": "stdout",
     "output_type": "stream",
     "text": [
      "Stack = [1, 3, 5]\n"
     ]
    }
   ],
   "source": [
    "stack.pop()\n",
    "stack.chk_stack()"
   ]
  },
  {
   "cell_type": "code",
   "execution_count": 90,
   "id": "4ad260d4",
   "metadata": {},
   "outputs": [
    {
     "name": "stdout",
     "output_type": "stream",
     "text": [
      "Stack = []\n"
     ]
    }
   ],
   "source": [
    "stack.pop()\n",
    "stack.pop()\n",
    "stack.pop()\n",
    "stack.chk_stack()"
   ]
  },
  {
   "cell_type": "code",
   "execution_count": 91,
   "id": "37a6b5be",
   "metadata": {},
   "outputs": [
    {
     "data": {
      "text/plain": [
       "True"
      ]
     },
     "execution_count": 91,
     "metadata": {},
     "output_type": "execute_result"
    }
   ],
   "source": [
    "stack.is_empty()"
   ]
  },
  {
   "cell_type": "code",
   "execution_count": 92,
   "id": "74656620",
   "metadata": {},
   "outputs": [
    {
     "name": "stdout",
     "output_type": "stream",
     "text": [
      "Stack is empty!\n",
      "False\n"
     ]
    }
   ],
   "source": [
    "stack.pop()"
   ]
  },
  {
   "cell_type": "code",
   "execution_count": 98,
   "id": "31fabc29",
   "metadata": {},
   "outputs": [
    {
     "name": "stdout",
     "output_type": "stream",
     "text": [
      "[]\n",
      "[0]\n",
      "[0, 2]\n",
      "[0, 2, 4, 6, 8]\n",
      "False\n",
      "8\n",
      "6\n",
      "4\n",
      "2\n",
      "0\n",
      "Stack is empty!\n",
      "False\n",
      "True\n"
     ]
    }
   ],
   "source": [
    "# 테스트 코드\n",
    "testStack = Stack()\n",
    "print(testStack.stack_items)\n",
    "testStack.push(0)\n",
    "print(testStack.stack_items)\n",
    "testStack.push(2)\n",
    "print(testStack.stack_items)\n",
    "testStack.push(4)\n",
    "testStack.push(6)\n",
    "testStack.push(8)\n",
    "print(testStack.stack_items)\n",
    "print(testStack.is_empty())\n",
    "print(testStack.pop())\n",
    "print(testStack.pop())\n",
    "print(testStack.pop())\n",
    "print(testStack.pop())\n",
    "print(testStack.pop())\n",
    "print(testStack.pop())\n",
    "print(testStack.is_empty())"
   ]
  },
  {
   "cell_type": "code",
   "execution_count": null,
   "id": "9b18ab8b",
   "metadata": {},
   "outputs": [],
   "source": []
  }
 ],
 "metadata": {
  "kernelspec": {
   "display_name": "Python 3 (ipykernel)",
   "language": "python",
   "name": "python3"
  },
  "language_info": {
   "codemirror_mode": {
    "name": "ipython",
    "version": 3
   },
   "file_extension": ".py",
   "mimetype": "text/x-python",
   "name": "python",
   "nbconvert_exporter": "python",
   "pygments_lexer": "ipython3",
   "version": "3.9.12"
  }
 },
 "nbformat": 4,
 "nbformat_minor": 5
}
