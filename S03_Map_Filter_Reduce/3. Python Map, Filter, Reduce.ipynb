{
 "cells": [
  {
   "cell_type": "markdown",
   "id": "dc07bf36",
   "metadata": {},
   "source": [
    "# Lambda Operator"
   ]
  },
  {
   "cell_type": "markdown",
   "id": "31fd382c",
   "metadata": {},
   "source": [
    "## 일반 함수"
   ]
  },
  {
   "cell_type": "code",
   "execution_count": 1,
   "id": "3ee3187e",
   "metadata": {},
   "outputs": [],
   "source": [
    "def hello():\n",
    "    return 'Hello'"
   ]
  },
  {
   "cell_type": "code",
   "execution_count": 2,
   "id": "530963ab",
   "metadata": {},
   "outputs": [
    {
     "data": {
      "text/plain": [
       "'Hello'"
      ]
     },
     "execution_count": 2,
     "metadata": {},
     "output_type": "execute_result"
    }
   ],
   "source": [
    "hello()"
   ]
  },
  {
   "cell_type": "code",
   "execution_count": 3,
   "id": "1c3b736b",
   "metadata": {},
   "outputs": [],
   "source": [
    "def double(x):\n",
    "    return x * 2"
   ]
  },
  {
   "cell_type": "code",
   "execution_count": 4,
   "id": "c586d1d6",
   "metadata": {},
   "outputs": [
    {
     "data": {
      "text/plain": [
       "200"
      ]
     },
     "execution_count": 4,
     "metadata": {},
     "output_type": "execute_result"
    }
   ],
   "source": [
    "double(100)"
   ]
  },
  {
   "cell_type": "markdown",
   "id": "03fbfa25",
   "metadata": {},
   "source": [
    "## 람다함수"
   ]
  },
  {
   "cell_type": "code",
   "execution_count": 5,
   "id": "1e6fab8f",
   "metadata": {},
   "outputs": [
    {
     "data": {
      "text/plain": [
       "<function __main__.<lambda>(x)>"
      ]
     },
     "execution_count": 5,
     "metadata": {},
     "output_type": "execute_result"
    }
   ],
   "source": [
    "(lambda x : x * 2)"
   ]
  },
  {
   "cell_type": "code",
   "execution_count": 7,
   "id": "f90de417",
   "metadata": {},
   "outputs": [
    {
     "data": {
      "text/plain": [
       "400"
      ]
     },
     "execution_count": 7,
     "metadata": {},
     "output_type": "execute_result"
    }
   ],
   "source": [
    "(lambda x : x * 2)(200)"
   ]
  },
  {
   "cell_type": "code",
   "execution_count": 11,
   "id": "55b22518",
   "metadata": {},
   "outputs": [],
   "source": [
    "# 익명 함수를 만들어서, 그 위치를 double2 이라는 변수에 저장\n",
    "double2 = lambda x : x * 2"
   ]
  },
  {
   "cell_type": "code",
   "execution_count": 12,
   "id": "108c4d52",
   "metadata": {},
   "outputs": [
    {
     "data": {
      "text/plain": [
       "600"
      ]
     },
     "execution_count": 12,
     "metadata": {},
     "output_type": "execute_result"
    }
   ],
   "source": [
    "double2(300)"
   ]
  },
  {
   "cell_type": "code",
   "execution_count": 13,
   "id": "9dd7c956",
   "metadata": {},
   "outputs": [
    {
     "data": {
      "text/plain": [
       "<function __main__.<lambda>(x)>"
      ]
     },
     "execution_count": 13,
     "metadata": {},
     "output_type": "execute_result"
    }
   ],
   "source": [
    "double2"
   ]
  },
  {
   "cell_type": "markdown",
   "id": "0100b4ee",
   "metadata": {},
   "source": [
    "# Mission"
   ]
  },
  {
   "cell_type": "markdown",
   "id": "d204bcc7",
   "metadata": {},
   "source": [
    "### Mission 1"
   ]
  },
  {
   "cell_type": "code",
   "execution_count": 16,
   "id": "5a22bf91",
   "metadata": {},
   "outputs": [],
   "source": [
    "def get_square(number):\n",
    "    return number ** 2\n",
    "\n",
    "def get_square_list(numbers):\n",
    "    elements = []\n",
    "    for number in numbers:\n",
    "        elements.append(get_square(number))\n",
    "    return elements"
   ]
  },
  {
   "cell_type": "code",
   "execution_count": 17,
   "id": "5c564cee",
   "metadata": {},
   "outputs": [
    {
     "data": {
      "text/plain": [
       "[1, 4, 9, 16, 25, 36, 49, 64, 81, 100]"
      ]
     },
     "execution_count": 17,
     "metadata": {},
     "output_type": "execute_result"
    }
   ],
   "source": [
    "numbers = list(range(1,11))\n",
    "get_square_list(numbers)"
   ]
  },
  {
   "cell_type": "markdown",
   "id": "79b5e946",
   "metadata": {},
   "source": [
    "### Mission 2"
   ]
  },
  {
   "cell_type": "code",
   "execution_count": 21,
   "id": "9b8f2a0a",
   "metadata": {},
   "outputs": [],
   "source": [
    "def get_positive_list(numbers):\n",
    "    elements = []\n",
    "    for number in numbers:\n",
    "        if number > 0:\n",
    "            elements.append(number)\n",
    "    return elements"
   ]
  },
  {
   "cell_type": "code",
   "execution_count": 22,
   "id": "de9f3b41",
   "metadata": {},
   "outputs": [
    {
     "data": {
      "text/plain": [
       "[1, 3, 5]"
      ]
     },
     "execution_count": 22,
     "metadata": {},
     "output_type": "execute_result"
    }
   ],
   "source": [
    "numbers = [1, -2, 3, -4, 5]\n",
    "get_positive_list(numbers)"
   ]
  },
  {
   "cell_type": "markdown",
   "id": "61a4553f",
   "metadata": {},
   "source": [
    "# Map, Filter, Reduce"
   ]
  },
  {
   "cell_type": "code",
   "execution_count": 23,
   "id": "7c9dd240",
   "metadata": {},
   "outputs": [],
   "source": [
    "from functools import *       # 패키지 불러오기!!!!!!!!!!!!!!!"
   ]
  },
  {
   "cell_type": "markdown",
   "id": "e8da9578",
   "metadata": {},
   "source": [
    "## map\n",
    "- 입력값과 출력값이 1:1로 맵핑된다.\n",
    "- 즉, 한번만에 즉시 연산\n",
    "- cf. generator => 한번에 연산 X"
   ]
  },
  {
   "cell_type": "code",
   "execution_count": 25,
   "id": "1bd301a1",
   "metadata": {},
   "outputs": [
    {
     "data": {
      "text/plain": [
       "[1, 4, 9, 16, 25]"
      ]
     },
     "execution_count": 25,
     "metadata": {},
     "output_type": "execute_result"
    }
   ],
   "source": [
    "# 구조를 잘 이해하자!!!!   -  ★★★ list ( map ( 함수, 변수 ) ) ★★★\n",
    "list(map(\n",
    "        get_square,\n",
    "        [1,2,3,4,5]\n",
    "))"
   ]
  },
  {
   "cell_type": "code",
   "execution_count": 26,
   "id": "10e73076",
   "metadata": {},
   "outputs": [
    {
     "data": {
      "text/plain": [
       "[1, 4, 9, 16, 25]"
      ]
     },
     "execution_count": 26,
     "metadata": {},
     "output_type": "execute_result"
    }
   ],
   "source": [
    "list(map(\n",
    "        lambda x : x **2,  # ★★★ lambda x : x의 함수 ★★★\n",
    "        [1,2,3,4,5]\n",
    "))"
   ]
  },
  {
   "cell_type": "code",
   "execution_count": 27,
   "id": "6a918018",
   "metadata": {},
   "outputs": [
    {
     "data": {
      "text/plain": [
       "[1, 4, 9, 16, 25]"
      ]
     },
     "execution_count": 27,
     "metadata": {},
     "output_type": "execute_result"
    }
   ],
   "source": [
    "# 코드 한줄 실행!!!!!!!!!!\n",
    "numbers = [1,2,3,4,5]\n",
    "def get_square_list(numbers):\n",
    "    return list(map(lambda x : x**2, numbers))   # 코드 한줄 실행\n",
    "get_square_list(numbers)"
   ]
  },
  {
   "cell_type": "markdown",
   "id": "b0af6fc2",
   "metadata": {},
   "source": [
    "## Filter\n",
    "- 함수: 리스트를 받아서, 양수인 element 만 새로운 리스트\n",
    "- input: [1, -2, 3, -4, 5] => [1, 3, 5]"
   ]
  },
  {
   "cell_type": "code",
   "execution_count": 2,
   "id": "df0817b7",
   "metadata": {},
   "outputs": [
    {
     "data": {
      "text/plain": [
       "[True, False, True, False, True]"
      ]
     },
     "execution_count": 2,
     "metadata": {},
     "output_type": "execute_result"
    }
   ],
   "source": [
    "numbers = [1,-2,3,-4,5]\n",
    "\n",
    "list(map(\n",
    "    lambda x : x > 0,\n",
    "    numbers\n",
    "))\n",
    "\n",
    "# list(filter(\n",
    "#     lambda x : x > 0,\n",
    "#     numbers\n",
    "# ))"
   ]
  },
  {
   "cell_type": "code",
   "execution_count": 30,
   "id": "7dfec2dd",
   "metadata": {},
   "outputs": [
    {
     "data": {
      "text/plain": [
       "[1, 3, 5]"
      ]
     },
     "execution_count": 30,
     "metadata": {},
     "output_type": "execute_result"
    }
   ],
   "source": [
    "def get_positive_list(numbers):\n",
    "    elements = []\n",
    "    for number in numbers:\n",
    "        if number > 0:\n",
    "            elements.append(number)\n",
    "    return elements\n",
    "\n",
    "get_positive_list(numbers)"
   ]
  },
  {
   "cell_type": "code",
   "execution_count": 32,
   "id": "0283de76",
   "metadata": {},
   "outputs": [],
   "source": [
    "# lambda 함수 적용               ★★★ list ( filter ( 함수, 변수 ) ) ★★★\n",
    "list(filter(\n",
    "        lambda x : x > 0,\n",
    "        numbers\n",
    "))\n",
    "\n",
    "def get_positive_list(numbers):\n",
    "    return list(filter(lambda x : x > 0, numbers))   # ★★★ lambda x : x의 함수 ★★★\n",
    "get_positive_list([1,-2,3,-4,5])\n",
    "\n",
    "\n",
    "# 더 간단하게 : lambda 2개 사용\n",
    "get_positive_list = lambda numbers : list(filter(lambda x : x > 0, numbers))"
   ]
  },
  {
   "cell_type": "code",
   "execution_count": 33,
   "id": "c7fd11a9",
   "metadata": {},
   "outputs": [
    {
     "data": {
      "text/plain": [
       "[1, 3, 5]"
      ]
     },
     "execution_count": 33,
     "metadata": {},
     "output_type": "execute_result"
    }
   ],
   "source": [
    "get_positive_list([1,-2,3,-4,5])"
   ]
  },
  {
   "cell_type": "markdown",
   "id": "c33be8d9",
   "metadata": {},
   "source": [
    "## reduce\n",
    "- 입력값을 순차적으로 한개씩 받아서 최종결과값을 갱신한다.\n",
    "- reduce의 최종 결과값은 1개이다!!!"
   ]
  },
  {
   "cell_type": "code",
   "execution_count": 35,
   "id": "495658b9",
   "metadata": {},
   "outputs": [
    {
     "data": {
      "text/plain": [
       "24"
      ]
     },
     "execution_count": 35,
     "metadata": {},
     "output_type": "execute_result"
    }
   ],
   "source": [
    "# 1. 곱\n",
    "def get_multiply(numbers):\n",
    "    result = 1            # 초기값 설정 매우 중요!!!!\n",
    "    for number in numbers:\n",
    "        result *= number\n",
    "    return result\n",
    "\n",
    "get_multiply([1,2,3,4])"
   ]
  },
  {
   "cell_type": "code",
   "execution_count": 6,
   "id": "d16ee863",
   "metadata": {},
   "outputs": [
    {
     "data": {
      "text/plain": [
       "7"
      ]
     },
     "execution_count": 6,
     "metadata": {},
     "output_type": "execute_result"
    }
   ],
   "source": [
    "def get_max(numbers):\n",
    "    result = numbers[0]\n",
    "    for number in numbers:\n",
    "        if result < number:\n",
    "            result = number\n",
    "    return result\n",
    "\n",
    "get_max([3,7,-9,1,-5])"
   ]
  },
  {
   "cell_type": "code",
   "execution_count": 9,
   "id": "96e378aa",
   "metadata": {},
   "outputs": [
    {
     "data": {
      "text/plain": [
       "7"
      ]
     },
     "execution_count": 9,
     "metadata": {},
     "output_type": "execute_result"
    }
   ],
   "source": [
    "def get_bigger(a,b):\n",
    "    return a if a > b else b\n",
    "\n",
    "reduce(\n",
    "    get_bigger,\n",
    "    [3,7,-9,1,-5]\n",
    ")"
   ]
  },
  {
   "cell_type": "code",
   "execution_count": 11,
   "id": "784e6533",
   "metadata": {},
   "outputs": [
    {
     "data": {
      "text/plain": [
       "7"
      ]
     },
     "execution_count": 11,
     "metadata": {},
     "output_type": "execute_result"
    }
   ],
   "source": [
    "def get_bigger2(a,b):\n",
    "    if a > b:          # 위에랑 같은 결과이나, 코드 길다;;;;;.....\n",
    "        return a\n",
    "    else:\n",
    "        return b\n",
    "    \n",
    "reduce(\n",
    "    get_bigger2,\n",
    "    [3,7,-9,1,-5]\n",
    ")"
   ]
  },
  {
   "cell_type": "code",
   "execution_count": 40,
   "id": "712ef2b6",
   "metadata": {},
   "outputs": [
    {
     "data": {
      "text/plain": [
       "9"
      ]
     },
     "execution_count": 40,
     "metadata": {},
     "output_type": "execute_result"
    }
   ],
   "source": [
    "reduce(\n",
    "    get_bigger,\n",
    "    [-1,2,3,-4,5,-6,7,-8,9,-10]\n",
    ")"
   ]
  },
  {
   "cell_type": "code",
   "execution_count": 41,
   "id": "8670e863",
   "metadata": {},
   "outputs": [
    {
     "data": {
      "text/plain": [
       "7"
      ]
     },
     "execution_count": 41,
     "metadata": {},
     "output_type": "execute_result"
    }
   ],
   "source": [
    "def get_bigger(a,b):                  # ★★★ reduce ( 함수, 변수, [초기값] ) ) ★★★\n",
    "    return a if a > b else b\n",
    "\n",
    "reduce(\n",
    "    get_bigger,\n",
    "    [3,7,-9,1,-5]\n",
    ")\n",
    "\n",
    "reduce(\n",
    "    lambda x,y : x if x > y else y,    # ★★★ lambda x,y : x,y의 함수 ★★★\n",
    "    [3,7,-9,1,-5]\n",
    ")\n",
    "\n",
    "def get_max(numbers):\n",
    "    return reduce(lambda x,y : x if x > y else y, numbers)\n",
    "\n",
    "get_max([3,7,-9,1,-5])"
   ]
  },
  {
   "cell_type": "code",
   "execution_count": 44,
   "id": "44bb0d48",
   "metadata": {},
   "outputs": [
    {
     "name": "stdout",
     "output_type": "stream",
     "text": [
      "(1, 1)\n",
      "(1, 2)\n",
      "(2, 3)\n",
      "(6, 4)\n",
      "(24, 5)\n"
     ]
    },
    {
     "data": {
      "text/plain": [
       "120"
      ]
     },
     "execution_count": 44,
     "metadata": {},
     "output_type": "execute_result"
    }
   ],
   "source": [
    "def multiply(a,b):\n",
    "    print((a,b))\n",
    "    return a * b\n",
    "\n",
    "reduce(\n",
    "    multiply,\n",
    "    [1,2,3,4,5],\n",
    "    1           # 초기값 입력 시, 여기에 입력할 것!!!   -   default값은 1인듯하다!\n",
    ")\n",
    "\n",
    "# ★★★★★★★★★★★★★★★★★★★★★★★★★★★★★★★★★\n",
    "# reduce는 무조건 입력값 2개여야함!!!!!!!!!!!!!!!!!!!!!!!!!!!!!!!\n",
    "# (초기값, 사용자입력값_1)\n",
    "# (return, 사용자입력값_2)\n",
    "# (return, 사용자입력값_3)\n",
    "# (return, 사용자입력값_4)\n",
    "...\n",
    "# ★★★★★★★★★★★★★★★★★★★★★★★★★★★★★★★★★"
   ]
  },
  {
   "cell_type": "markdown",
   "id": "977254e7",
   "metadata": {},
   "source": [
    "# 실습. Histogram 함수 작성해보기"
   ]
  },
  {
   "cell_type": "markdown",
   "id": "018df19e",
   "metadata": {},
   "source": [
    "### 리스트를 받아서, 히스토그램을 그리는 함수\n",
    "\n",
    "- 입력값 : [\"cat\", \"cat\", \"cat\", \"sheep\", \"sheep\", \"duck\", \"duck\", \"duck\", \"duck\" ]"
   ]
  },
  {
   "cell_type": "markdown",
   "id": "3f655c4a",
   "metadata": {},
   "source": [
    "'''\n",
    "###### 1. 히스토그램을 그리는 함수 \n",
    "  input: {'cat': 3, 'duck': 4, 'sheep': 2} => output: 그림 \n",
    "\n",
    "###### 2. 리스트를 받아서, 숫자를 세는 함수\n",
    "  input: list => output: histogram dict\n",
    "  \n",
    "'''"
   ]
  },
  {
   "cell_type": "markdown",
   "id": "24c8fc93",
   "metadata": {},
   "source": [
    "### <span style = 'color : red'> 요온 최종"
   ]
  },
  {
   "cell_type": "code",
   "execution_count": 185,
   "id": "7e28218d",
   "metadata": {},
   "outputs": [],
   "source": [
    "data = [\"cat\", \"cat\", \"cat\", \"sheep\", \"sheep\", \"duck\", \"duck\", \"duck\", \"duck\" ]"
   ]
  },
  {
   "cell_type": "code",
   "execution_count": 209,
   "id": "ed7cda89",
   "metadata": {},
   "outputs": [],
   "source": [
    "# 요온 최종 파일\n",
    "def get_histogram(hist_dict, data): # 첫번째 변수(hist_dict)는 무조건 뱉어낼 값 or 구조여야함!!!!\n",
    "                                     # 그리고 굳이 함수 내 변수선언 안해도 됨\n",
    "                                     # 밑에 reduce함수를 통해 초기값 dict() 들어가므로...\n",
    "\n",
    "    key = data\n",
    "    if key not in list(hist_dict.keys()): # dict 구조의 변수 불러오는 함수 : keys\n",
    "        hist_dict[key] = 1\n",
    "\n",
    "    else:\n",
    "        hist_dict[key] += 1\n",
    "        \n",
    "    return reduce(get_histogram,data,dict())\n",
    "\n",
    "def print_histogram(hist_dict):\n",
    "    rows = []\n",
    "    for key, value in his_dict.items():\n",
    "        row = '{}{}{}'.format(\n",
    "                        key,\n",
    "                        '' * (7 - len(key)),\n",
    "                        value * '='\n",
    "                        )\n",
    "        rows.append(row)\n",
    "    print(\"\\n\".join(rows)) \n",
    "    \n",
    "def draw_histogram(data):\n",
    "    hist_dict = get_histogram(data)\n",
    "    print_histogram(hist_dict)"
   ]
  },
  {
   "cell_type": "code",
   "execution_count": 210,
   "id": "c73e35c0",
   "metadata": {},
   "outputs": [
    {
     "ename": "TypeError",
     "evalue": "get_histogram() missing 1 required positional argument: 'data'",
     "output_type": "error",
     "traceback": [
      "\u001b[1;31m---------------------------------------------------------------------------\u001b[0m",
      "\u001b[1;31mTypeError\u001b[0m                                 Traceback (most recent call last)",
      "Input \u001b[1;32mIn [210]\u001b[0m, in \u001b[0;36m<cell line: 2>\u001b[1;34m()\u001b[0m\n\u001b[0;32m      1\u001b[0m data \u001b[38;5;241m=\u001b[39m [\u001b[38;5;124m\"\u001b[39m\u001b[38;5;124mcat\u001b[39m\u001b[38;5;124m\"\u001b[39m, \u001b[38;5;124m\"\u001b[39m\u001b[38;5;124mcat\u001b[39m\u001b[38;5;124m\"\u001b[39m, \u001b[38;5;124m\"\u001b[39m\u001b[38;5;124mcat\u001b[39m\u001b[38;5;124m\"\u001b[39m, \u001b[38;5;124m\"\u001b[39m\u001b[38;5;124msheep\u001b[39m\u001b[38;5;124m\"\u001b[39m, \u001b[38;5;124m\"\u001b[39m\u001b[38;5;124msheep\u001b[39m\u001b[38;5;124m\"\u001b[39m, \u001b[38;5;124m\"\u001b[39m\u001b[38;5;124mduck\u001b[39m\u001b[38;5;124m\"\u001b[39m, \u001b[38;5;124m\"\u001b[39m\u001b[38;5;124mduck\u001b[39m\u001b[38;5;124m\"\u001b[39m, \u001b[38;5;124m\"\u001b[39m\u001b[38;5;124mduck\u001b[39m\u001b[38;5;124m\"\u001b[39m, \u001b[38;5;124m\"\u001b[39m\u001b[38;5;124mduck\u001b[39m\u001b[38;5;124m\"\u001b[39m ]\n\u001b[1;32m----> 2\u001b[0m histogram_dict \u001b[38;5;241m=\u001b[39m \u001b[43mget_histogram\u001b[49m\u001b[43m(\u001b[49m\u001b[43mdata\u001b[49m\u001b[43m)\u001b[49m\n\u001b[0;32m      3\u001b[0m histogram_dict\n",
      "\u001b[1;31mTypeError\u001b[0m: get_histogram() missing 1 required positional argument: 'data'"
     ]
    }
   ],
   "source": [
    "data = [\"cat\", \"cat\", \"cat\", \"sheep\", \"sheep\", \"duck\", \"duck\", \"duck\", \"duck\" ]\n",
    "histogram_dict = get_histogram(data)\n",
    "histogram_dict"
   ]
  },
  {
   "cell_type": "code",
   "execution_count": 199,
   "id": "f2a160a8",
   "metadata": {
    "scrolled": false
   },
   "outputs": [],
   "source": [
    "final = reduce(\n",
    "        draw_histogram,\n",
    "        data,\n",
    "        dict()\n",
    ")"
   ]
  },
  {
   "cell_type": "code",
   "execution_count": 200,
   "id": "55b19b74",
   "metadata": {
    "scrolled": true
   },
   "outputs": [
    {
     "data": {
      "text/plain": [
       "{'cat': 3, 'sheep': 2, 'duck': 4}"
      ]
     },
     "execution_count": 200,
     "metadata": {},
     "output_type": "execute_result"
    }
   ],
   "source": [
    "final"
   ]
  },
  {
   "cell_type": "code",
   "execution_count": null,
   "id": "14c2b1d0",
   "metadata": {},
   "outputs": [],
   "source": []
  },
  {
   "cell_type": "code",
   "execution_count": null,
   "id": "e452199a",
   "metadata": {},
   "outputs": [],
   "source": []
  },
  {
   "cell_type": "code",
   "execution_count": null,
   "id": "7e7d0551",
   "metadata": {},
   "outputs": [],
   "source": []
  },
  {
   "cell_type": "markdown",
   "id": "6e6d157b",
   "metadata": {},
   "source": [
    "# 강사님 교안"
   ]
  },
  {
   "cell_type": "code",
   "execution_count": 246,
   "id": "be5d0057",
   "metadata": {},
   "outputs": [
    {
     "name": "stdout",
     "output_type": "stream",
     "text": [
      "초록색 후보 ===================\n",
      "하얀색 후보 ============================\n",
      "파랑색 후보 =======================\n",
      "노랑색 후보 ==============\n",
      "빨강생 후보 ================\n"
     ]
    }
   ],
   "source": [
    "def get_histogram_dict(data):\n",
    "    def get_count(result, element):\n",
    "        if result.get(element):\n",
    "            result[element] += 1\n",
    "        else:\n",
    "            result[element] = 1\n",
    "        return result\n",
    "\n",
    "    return reduce( get_count, data, dict() )\n",
    "\n",
    "def print_histogram(histogram_dict):    \n",
    "    rows = []\n",
    "    for key, value in histogram_dict.items():\n",
    "        row = \"{key}{spaces}{value_count}\".format(\n",
    "            key         =  key,\n",
    "            spaces      =  \" \" * (7 - len(key)),\n",
    "            value_count =  \"=\" * value,\n",
    "        )\n",
    "        rows.append(row)\n",
    "    print(\"\\n\".join(rows))\n",
    "    \n",
    "def draw_histogram(data):\n",
    "    histogram_dict = get_histogram_dict(data)\n",
    "    print_histogram(histogram_dict)\n",
    "\n",
    "#-------------\n",
    "\n",
    "data = [\"cat\", \"cat\", \"cat\", \"sheep\", \"sheep\", \"duck\", \"duck\", \"duck\", \"duck\" ]\n",
    "histogram_dict = get_histogram_dict(data)\n",
    "histogram_dict\n",
    "\n",
    "#-------------\n",
    "from random import *\n",
    "\n",
    "candidate = ['빨강생 후보', '노랑색 후보', '파랑색 후보', '초록색 후보', '하얀색 후보']\n",
    "num_of_voters = 100\n",
    "\n",
    "#-------------\n",
    "\n",
    "voting_result = list()\n",
    "for _ in range(num_of_voters):\n",
    "    c_num = randint(0, 4)\n",
    "    voting_result.append(candidate[c_num])\n",
    "\n",
    "draw_histogram(voting_result)\n",
    "\n"
   ]
  },
  {
   "cell_type": "markdown",
   "id": "707cf6e4",
   "metadata": {},
   "source": [
    "### <span style = 'color : red'> 요온 재연습"
   ]
  },
  {
   "cell_type": "code",
   "execution_count": 196,
   "id": "1e0d7b98",
   "metadata": {},
   "outputs": [],
   "source": [
    "# 요온 최종 파일\n",
    "def draw_histogram(hist_dict, data):\n",
    "\n",
    "    key = data\n",
    "    if key not in list(hist_dict.keys()):\n",
    "        hist_dict[key] = 1*'='\n",
    "\n",
    "    else:\n",
    "        hist_dict[key] += 1*'='\n",
    "        print(his_dict)\n",
    "    return hist_dict"
   ]
  },
  {
   "cell_type": "code",
   "execution_count": 197,
   "id": "9101c947",
   "metadata": {},
   "outputs": [
    {
     "name": "stdout",
     "output_type": "stream",
     "text": [
      "{'cat': '===', 'sheep': '==', 'duck': '===='}\n",
      "{'cat': '===', 'sheep': '==', 'duck': '===='}\n",
      "{'cat': '===', 'sheep': '==', 'duck': '===='}\n",
      "{'cat': '===', 'sheep': '==', 'duck': '===='}\n",
      "{'cat': '===', 'sheep': '==', 'duck': '===='}\n",
      "{'cat': '===', 'sheep': '==', 'duck': '===='}\n"
     ]
    }
   ],
   "source": [
    "final = reduce(\n",
    "        draw_histogram,\n",
    "        data,\n",
    "        dict()\n",
    ")"
   ]
  },
  {
   "cell_type": "code",
   "execution_count": 247,
   "id": "4700f3dc",
   "metadata": {},
   "outputs": [
    {
     "data": {
      "text/plain": [
       "{'cat': 3, 'sheep': 2, 'duck': 4}"
      ]
     },
     "execution_count": 247,
     "metadata": {},
     "output_type": "execute_result"
    }
   ],
   "source": [
    "final"
   ]
  },
  {
   "cell_type": "code",
   "execution_count": 249,
   "id": "0f1f1b34",
   "metadata": {},
   "outputs": [],
   "source": [
    "result = abs(reduce(lambda x, y: x if x > y else y, [10, -20, 30, -40]))"
   ]
  },
  {
   "cell_type": "code",
   "execution_count": 250,
   "id": "3a3a0a49",
   "metadata": {},
   "outputs": [
    {
     "data": {
      "text/plain": [
       "30"
      ]
     },
     "execution_count": 250,
     "metadata": {},
     "output_type": "execute_result"
    }
   ],
   "source": [
    "result"
   ]
  },
  {
   "cell_type": "code",
   "execution_count": null,
   "id": "9c7f6941",
   "metadata": {},
   "outputs": [],
   "source": []
  }
 ],
 "metadata": {
  "kernelspec": {
   "display_name": "Python 3 (ipykernel)",
   "language": "python",
   "name": "python3"
  },
  "language_info": {
   "codemirror_mode": {
    "name": "ipython",
    "version": 3
   },
   "file_extension": ".py",
   "mimetype": "text/x-python",
   "name": "python",
   "nbconvert_exporter": "python",
   "pygments_lexer": "ipython3",
   "version": "3.9.12"
  }
 },
 "nbformat": 4,
 "nbformat_minor": 5
}
