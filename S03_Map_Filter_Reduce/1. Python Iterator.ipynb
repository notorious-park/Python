{
 "cells": [
  {
   "cell_type": "markdown",
   "id": "7e185f64",
   "metadata": {},
   "source": [
    "# <span style ='color : red'> Iterators\n",
    "> 반복 가능한 객체\n",
    "\n",
    "- 반복문을 활용해서 데이터를 순회하면서 처리하는 것\n",
    "- Str, List, Tuple, Set, Dict 등\n",
    "- 위와 같은 순회 가능한 Sequence 객체들에 대해서 Itarable Object라고 지칭"
   ]
  },
  {
   "cell_type": "markdown",
   "id": "a72af80d",
   "metadata": {},
   "source": [
    "## <span style ='color : blue'> Python Iteraotr - Diagram"
   ]
  },
  {
   "cell_type": "markdown",
   "id": "eb5e9650",
   "metadata": {},
   "source": [
    "### Iterator 패턴 구조"
   ]
  },
  {
   "cell_type": "markdown",
   "id": "1cd66078",
   "metadata": {},
   "source": [
    "Iterator Ex1."
   ]
  },
  {
   "cell_type": "code",
   "execution_count": 11,
   "id": "0be19f49",
   "metadata": {},
   "outputs": [
    {
     "data": {
      "text/plain": [
       "(1, 2, 3, 4, 5)"
      ]
     },
     "execution_count": 11,
     "metadata": {},
     "output_type": "execute_result"
    }
   ],
   "source": [
    "ds_elements = 1,2,3,4,5\n",
    "ds_elements"
   ]
  },
  {
   "cell_type": "code",
   "execution_count": 12,
   "id": "fcdfd3a4",
   "metadata": {},
   "outputs": [
    {
     "data": {
      "text/plain": [
       "<tuple_iterator at 0x27ab2302a00>"
      ]
     },
     "execution_count": 12,
     "metadata": {},
     "output_type": "execute_result"
    }
   ],
   "source": [
    "ds_iterator = iter(ds_elements)\n",
    "ds_iterator"
   ]
  },
  {
   "cell_type": "code",
   "execution_count": 13,
   "id": "22f014d6",
   "metadata": {},
   "outputs": [
    {
     "name": "stdout",
     "output_type": "stream",
     "text": [
      "1\n",
      "2\n",
      "3\n"
     ]
    }
   ],
   "source": [
    "print(ds_iterator.__next__())\n",
    "print(ds_iterator.__next__())\n",
    "print(ds_iterator.__next__())"
   ]
  },
  {
   "cell_type": "code",
   "execution_count": 14,
   "id": "8e3c9660",
   "metadata": {},
   "outputs": [
    {
     "name": "stdout",
     "output_type": "stream",
     "text": [
      "4\n"
     ]
    }
   ],
   "source": [
    "print(ds_iterator.__next__())"
   ]
  },
  {
   "cell_type": "code",
   "execution_count": 15,
   "id": "018cfaff",
   "metadata": {},
   "outputs": [
    {
     "name": "stdout",
     "output_type": "stream",
     "text": [
      "5\n"
     ]
    }
   ],
   "source": [
    "print(ds_iterator.__next__())"
   ]
  },
  {
   "cell_type": "code",
   "execution_count": 16,
   "id": "e0907444",
   "metadata": {},
   "outputs": [
    {
     "ename": "StopIteration",
     "evalue": "",
     "output_type": "error",
     "traceback": [
      "\u001b[1;31m---------------------------------------------------------------------------\u001b[0m",
      "\u001b[1;31mStopIteration\u001b[0m                             Traceback (most recent call last)",
      "Input \u001b[1;32mIn [16]\u001b[0m, in \u001b[0;36m<cell line: 1>\u001b[1;34m()\u001b[0m\n\u001b[1;32m----> 1\u001b[0m \u001b[38;5;28mprint\u001b[39m(\u001b[43mds_iterator\u001b[49m\u001b[38;5;241;43m.\u001b[39;49m\u001b[38;5;21;43m__next__\u001b[39;49m\u001b[43m(\u001b[49m\u001b[43m)\u001b[49m)\n",
      "\u001b[1;31mStopIteration\u001b[0m: "
     ]
    }
   ],
   "source": [
    "print(ds_iterator.__next__())"
   ]
  },
  {
   "cell_type": "markdown",
   "id": "7cf57734",
   "metadata": {},
   "source": [
    "Iterator Ex2."
   ]
  },
  {
   "cell_type": "code",
   "execution_count": 36,
   "id": "556799a4",
   "metadata": {},
   "outputs": [],
   "source": [
    "class IterClass(object):\n",
    "    def __init__(self, start, last):\n",
    "        self.current = start\n",
    "        self.max = last\n",
    "        \n",
    "    def __iter__(self):\n",
    "        return self\n",
    "    \n",
    "    def __next__(self):\n",
    "        if self.current > self.max:\n",
    "            raise StopIteration\n",
    "        else:\n",
    "            self.current += 1\n",
    "            return self.current - 1\n"
   ]
  },
  {
   "cell_type": "code",
   "execution_count": 37,
   "id": "fd9a947a",
   "metadata": {},
   "outputs": [],
   "source": [
    "iterClass = IterClass(1,10)"
   ]
  },
  {
   "cell_type": "code",
   "execution_count": 38,
   "id": "d28f0f88",
   "metadata": {},
   "outputs": [
    {
     "data": {
      "text/plain": [
       "__main__.IterClass"
      ]
     },
     "execution_count": 38,
     "metadata": {},
     "output_type": "execute_result"
    }
   ],
   "source": [
    "type(iterClass)"
   ]
  },
  {
   "cell_type": "code",
   "execution_count": 39,
   "id": "fa9be607",
   "metadata": {},
   "outputs": [
    {
     "name": "stdout",
     "output_type": "stream",
     "text": [
      "1\n",
      "2\n",
      "3\n",
      "4\n",
      "5\n"
     ]
    }
   ],
   "source": [
    "print(iterClass.__next__())\n",
    "print(iterClass.__next__())\n",
    "print(iterClass.__next__())\n",
    "print(iterClass.__next__())\n",
    "print(iterClass.__next__())"
   ]
  },
  {
   "cell_type": "code",
   "execution_count": 40,
   "id": "ebc183d4",
   "metadata": {},
   "outputs": [
    {
     "name": "stdout",
     "output_type": "stream",
     "text": [
      "6\n",
      "7\n",
      "8\n",
      "9\n",
      "10\n"
     ]
    }
   ],
   "source": [
    "print(iterClass.__next__())\n",
    "print(iterClass.__next__())\n",
    "print(iterClass.__next__())\n",
    "print(iterClass.__next__())\n",
    "print(iterClass.__next__())"
   ]
  },
  {
   "cell_type": "code",
   "execution_count": 41,
   "id": "6e9289e2",
   "metadata": {},
   "outputs": [
    {
     "ename": "StopIteration",
     "evalue": "",
     "output_type": "error",
     "traceback": [
      "\u001b[1;31m---------------------------------------------------------------------------\u001b[0m",
      "\u001b[1;31mStopIteration\u001b[0m                             Traceback (most recent call last)",
      "Input \u001b[1;32mIn [41]\u001b[0m, in \u001b[0;36m<cell line: 1>\u001b[1;34m()\u001b[0m\n\u001b[1;32m----> 1\u001b[0m \u001b[38;5;28mprint\u001b[39m(\u001b[43miterClass\u001b[49m\u001b[38;5;241;43m.\u001b[39;49m\u001b[38;5;21;43m__next__\u001b[39;49m\u001b[43m(\u001b[49m\u001b[43m)\u001b[49m)\n",
      "Input \u001b[1;32mIn [36]\u001b[0m, in \u001b[0;36mIterClass.__next__\u001b[1;34m(self)\u001b[0m\n\u001b[0;32m      9\u001b[0m \u001b[38;5;28;01mdef\u001b[39;00m \u001b[38;5;21m__next__\u001b[39m(\u001b[38;5;28mself\u001b[39m):\n\u001b[0;32m     10\u001b[0m     \u001b[38;5;28;01mif\u001b[39;00m \u001b[38;5;28mself\u001b[39m\u001b[38;5;241m.\u001b[39mcurrent \u001b[38;5;241m>\u001b[39m \u001b[38;5;28mself\u001b[39m\u001b[38;5;241m.\u001b[39mmax:\n\u001b[1;32m---> 11\u001b[0m         \u001b[38;5;28;01mraise\u001b[39;00m \u001b[38;5;167;01mStopIteration\u001b[39;00m\n\u001b[0;32m     12\u001b[0m     \u001b[38;5;28;01melse\u001b[39;00m:\n\u001b[0;32m     13\u001b[0m         \u001b[38;5;28mself\u001b[39m\u001b[38;5;241m.\u001b[39mcurrent \u001b[38;5;241m+\u001b[39m\u001b[38;5;241m=\u001b[39m \u001b[38;5;241m1\u001b[39m\n",
      "\u001b[1;31mStopIteration\u001b[0m: "
     ]
    }
   ],
   "source": [
    "print(iterClass.__next__())"
   ]
  },
  {
   "cell_type": "markdown",
   "id": "8dbbf8c2",
   "metadata": {},
   "source": [
    "Iterator Ex3."
   ]
  },
  {
   "cell_type": "code",
   "execution_count": 42,
   "id": "bc5b3e20",
   "metadata": {},
   "outputs": [],
   "source": [
    "n_list = IterClass(1,30)"
   ]
  },
  {
   "cell_type": "code",
   "execution_count": 43,
   "id": "d217c788",
   "metadata": {},
   "outputs": [
    {
     "name": "stdout",
     "output_type": "stream",
     "text": [
      "[1, 2, 3, 4, 5, 6, 7, 8, 9, 10, 11, 12, 13, 14, 15, 16, 17, 18, 19, 20, 21, 22, 23, 24, 25, 26, 27, 28, 29, 30]\n"
     ]
    }
   ],
   "source": [
    "print(list(n_list))"
   ]
  },
  {
   "cell_type": "code",
   "execution_count": 44,
   "id": "290fceb0",
   "metadata": {},
   "outputs": [
    {
     "ename": "StopIteration",
     "evalue": "",
     "output_type": "error",
     "traceback": [
      "\u001b[1;31m---------------------------------------------------------------------------\u001b[0m",
      "\u001b[1;31mStopIteration\u001b[0m                             Traceback (most recent call last)",
      "Input \u001b[1;32mIn [44]\u001b[0m, in \u001b[0;36m<cell line: 1>\u001b[1;34m()\u001b[0m\n\u001b[1;32m----> 1\u001b[0m \u001b[43mn_list\u001b[49m\u001b[38;5;241;43m.\u001b[39;49m\u001b[38;5;21;43m__next__\u001b[39;49m\u001b[43m(\u001b[49m\u001b[43m)\u001b[49m\n",
      "Input \u001b[1;32mIn [36]\u001b[0m, in \u001b[0;36mIterClass.__next__\u001b[1;34m(self)\u001b[0m\n\u001b[0;32m      9\u001b[0m \u001b[38;5;28;01mdef\u001b[39;00m \u001b[38;5;21m__next__\u001b[39m(\u001b[38;5;28mself\u001b[39m):\n\u001b[0;32m     10\u001b[0m     \u001b[38;5;28;01mif\u001b[39;00m \u001b[38;5;28mself\u001b[39m\u001b[38;5;241m.\u001b[39mcurrent \u001b[38;5;241m>\u001b[39m \u001b[38;5;28mself\u001b[39m\u001b[38;5;241m.\u001b[39mmax:\n\u001b[1;32m---> 11\u001b[0m         \u001b[38;5;28;01mraise\u001b[39;00m \u001b[38;5;167;01mStopIteration\u001b[39;00m\n\u001b[0;32m     12\u001b[0m     \u001b[38;5;28;01melse\u001b[39;00m:\n\u001b[0;32m     13\u001b[0m         \u001b[38;5;28mself\u001b[39m\u001b[38;5;241m.\u001b[39mcurrent \u001b[38;5;241m+\u001b[39m\u001b[38;5;241m=\u001b[39m \u001b[38;5;241m1\u001b[39m\n",
      "\u001b[1;31mStopIteration\u001b[0m: "
     ]
    }
   ],
   "source": [
    "n_list.__next__()"
   ]
  },
  {
   "cell_type": "code",
   "execution_count": 45,
   "id": "f2dd8b68",
   "metadata": {},
   "outputs": [
    {
     "name": "stdout",
     "output_type": "stream",
     "text": [
      "StopIteration 발생!!\n"
     ]
    }
   ],
   "source": [
    "try:\n",
    "    n_list.__next_()\n",
    "except Exception as err:\n",
    "    print(('StopIteration 발생!!'))\n",
    "    pass"
   ]
  },
  {
   "cell_type": "markdown",
   "id": "deb74cea",
   "metadata": {},
   "source": [
    "## Wrap-up\n",
    "- 이터레이터를 사용하면 변화에 쉽게 대응 가능하며,\n",
    "- 쉽게 읽고 사용할 수 있는 문법에서 주는 이점이 있음.\n",
    "- 즉 구현이 편리"
   ]
  },
  {
   "cell_type": "code",
   "execution_count": null,
   "id": "5861bdd6",
   "metadata": {},
   "outputs": [],
   "source": []
  }
 ],
 "metadata": {
  "kernelspec": {
   "display_name": "Python 3 (ipykernel)",
   "language": "python",
   "name": "python3"
  },
  "language_info": {
   "codemirror_mode": {
    "name": "ipython",
    "version": 3
   },
   "file_extension": ".py",
   "mimetype": "text/x-python",
   "name": "python",
   "nbconvert_exporter": "python",
   "pygments_lexer": "ipython3",
   "version": "3.9.12"
  }
 },
 "nbformat": 4,
 "nbformat_minor": 5
}
