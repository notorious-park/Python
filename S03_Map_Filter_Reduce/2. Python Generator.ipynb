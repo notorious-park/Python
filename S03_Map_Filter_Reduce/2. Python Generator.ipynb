{
 "cells": [
  {
   "cell_type": "markdown",
   "id": "4e3031c4",
   "metadata": {},
   "source": [
    "# <span style ='color : red'> Generator\n",
    "> 반복 가능한 연속적인 값들을 생성해 내는 패턴\n",
    "\n",
    "- 모든 값을 포함하여 반환하는 대신 호출 할 때마다 한 개의 값을 리턴하는 것\n",
    "- 성능 및 효율적으로 코드를 작성하기 위해서 제너레이터 패턴을 많이 사용\n",
    "- ∴ 아주 작은 메모리로 효율적으로 대용량의 반복가능한 구조를 순회할 수 있음. → 큰장점"
   ]
  },
  {
   "cell_type": "markdown",
   "id": "3886c0e8",
   "metadata": {},
   "source": [
    "## <span style ='color : blue'> Python Generator - Diagram"
   ]
  },
  {
   "cell_type": "markdown",
   "id": "876c48e5",
   "metadata": {},
   "source": [
    "### Generator & Iterator 패턴 구조"
   ]
  },
  {
   "cell_type": "markdown",
   "id": "2cb381b4",
   "metadata": {},
   "source": [
    "Generator Ex1."
   ]
  },
  {
   "cell_type": "markdown",
   "id": "cec4dbeb",
   "metadata": {},
   "source": [
    "- 리스트 생성"
   ]
  },
  {
   "cell_type": "code",
   "execution_count": 1,
   "id": "7048e59f",
   "metadata": {},
   "outputs": [],
   "source": [
    "def square_numbers1(nums):\n",
    "    print('call square_numbers1')\n",
    "    result = []\n",
    "    \n",
    "    for i in nums:\n",
    "        result.append(i**2)\n",
    "        \n",
    "    return result"
   ]
  },
  {
   "cell_type": "code",
   "execution_count": 2,
   "id": "e37d3d9a",
   "metadata": {},
   "outputs": [
    {
     "name": "stdout",
     "output_type": "stream",
     "text": [
      "call square_numbers1\n"
     ]
    },
    {
     "data": {
      "text/plain": [
       "[1, 4, 9, 16, 25]"
      ]
     },
     "execution_count": 2,
     "metadata": {},
     "output_type": "execute_result"
    }
   ],
   "source": [
    "nums = [1,2,3,4,5]\n",
    "my_nums1 = square_numbers1(nums)\n",
    "my_nums1"
   ]
  },
  {
   "cell_type": "code",
   "execution_count": 3,
   "id": "a801b3aa",
   "metadata": {},
   "outputs": [
    {
     "data": {
      "text/plain": [
       "list"
      ]
     },
     "execution_count": 3,
     "metadata": {},
     "output_type": "execute_result"
    }
   ],
   "source": [
    "type(my_nums1)"
   ]
  },
  {
   "cell_type": "code",
   "execution_count": 4,
   "id": "07821229",
   "metadata": {},
   "outputs": [
    {
     "data": {
      "text/plain": [
       "55"
      ]
     },
     "execution_count": 4,
     "metadata": {},
     "output_type": "execute_result"
    }
   ],
   "source": [
    "sum(my_nums1)"
   ]
  },
  {
   "cell_type": "markdown",
   "id": "a4978824",
   "metadata": {},
   "source": [
    "- 제너레이터 생성"
   ]
  },
  {
   "cell_type": "code",
   "execution_count": 5,
   "id": "c4ee0a10",
   "metadata": {},
   "outputs": [],
   "source": [
    "def square_numbers2(nums):\n",
    "    print('call square_numbers2')\n",
    "    for i in nums:\n",
    "        yield i**2"
   ]
  },
  {
   "cell_type": "code",
   "execution_count": 6,
   "id": "49eae77a",
   "metadata": {},
   "outputs": [],
   "source": [
    "nums = [1,2,3,4,5]\n",
    "my_nums2 = square_numbers2(nums)"
   ]
  },
  {
   "cell_type": "code",
   "execution_count": 7,
   "id": "5eab6f7a",
   "metadata": {},
   "outputs": [
    {
     "data": {
      "text/plain": [
       "generator"
      ]
     },
     "execution_count": 7,
     "metadata": {},
     "output_type": "execute_result"
    }
   ],
   "source": [
    "type(my_nums2)"
   ]
  },
  {
   "cell_type": "code",
   "execution_count": 8,
   "id": "9f297433",
   "metadata": {},
   "outputs": [
    {
     "name": "stdout",
     "output_type": "stream",
     "text": [
      "<generator object square_numbers2 at 0x000001C7D761AF90>\n"
     ]
    }
   ],
   "source": [
    "print(my_nums2)"
   ]
  },
  {
   "cell_type": "code",
   "execution_count": 9,
   "id": "bb40ea83",
   "metadata": {},
   "outputs": [
    {
     "name": "stdout",
     "output_type": "stream",
     "text": [
      "call square_numbers2\n"
     ]
    },
    {
     "data": {
      "text/plain": [
       "55"
      ]
     },
     "execution_count": 9,
     "metadata": {},
     "output_type": "execute_result"
    }
   ],
   "source": [
    "sum(my_nums2)"
   ]
  },
  {
   "cell_type": "code",
   "execution_count": 10,
   "id": "27889d2c",
   "metadata": {},
   "outputs": [
    {
     "ename": "StopIteration",
     "evalue": "",
     "output_type": "error",
     "traceback": [
      "\u001b[1;31m---------------------------------------------------------------------------\u001b[0m",
      "\u001b[1;31mStopIteration\u001b[0m                             Traceback (most recent call last)",
      "Input \u001b[1;32mIn [10]\u001b[0m, in \u001b[0;36m<cell line: 1>\u001b[1;34m()\u001b[0m\n\u001b[1;32m----> 1\u001b[0m \u001b[38;5;28mprint\u001b[39m(\u001b[38;5;28;43mnext\u001b[39;49m\u001b[43m(\u001b[49m\u001b[43mmy_nums2\u001b[49m\u001b[43m)\u001b[49m)\n",
      "\u001b[1;31mStopIteration\u001b[0m: "
     ]
    }
   ],
   "source": [
    "print(next(my_nums2))"
   ]
  },
  {
   "cell_type": "markdown",
   "id": "e6b70c19",
   "metadata": {},
   "source": [
    "- list comprehension 사용 리스트 생성"
   ]
  },
  {
   "cell_type": "code",
   "execution_count": 11,
   "id": "d9c096ff",
   "metadata": {},
   "outputs": [],
   "source": [
    "nums = [1,2,3,4,5]"
   ]
  },
  {
   "cell_type": "code",
   "execution_count": 12,
   "id": "b08a1b20",
   "metadata": {},
   "outputs": [],
   "source": [
    "my_nums3 = [i for i in nums]"
   ]
  },
  {
   "cell_type": "code",
   "execution_count": 13,
   "id": "5af01935",
   "metadata": {},
   "outputs": [
    {
     "data": {
      "text/plain": [
       "list"
      ]
     },
     "execution_count": 13,
     "metadata": {},
     "output_type": "execute_result"
    }
   ],
   "source": [
    "type(my_nums3)"
   ]
  },
  {
   "cell_type": "code",
   "execution_count": 14,
   "id": "645a84b3",
   "metadata": {},
   "outputs": [
    {
     "name": "stdout",
     "output_type": "stream",
     "text": [
      "1\n",
      "2\n",
      "3\n",
      "4\n",
      "5\n"
     ]
    }
   ],
   "source": [
    "for i in my_nums3:\n",
    "    print(i)"
   ]
  },
  {
   "cell_type": "markdown",
   "id": "f12fc60a",
   "metadata": {},
   "source": [
    "- list comprehension 사용 제너레이터 생성"
   ]
  },
  {
   "cell_type": "code",
   "execution_count": 15,
   "id": "dbd14029",
   "metadata": {},
   "outputs": [],
   "source": [
    "my_nums4 = (i for i in nums)"
   ]
  },
  {
   "cell_type": "code",
   "execution_count": 16,
   "id": "f98044d7",
   "metadata": {},
   "outputs": [
    {
     "data": {
      "text/plain": [
       "generator"
      ]
     },
     "execution_count": 16,
     "metadata": {},
     "output_type": "execute_result"
    }
   ],
   "source": [
    "type(my_nums4)"
   ]
  },
  {
   "cell_type": "code",
   "execution_count": 17,
   "id": "7365fd6c",
   "metadata": {},
   "outputs": [
    {
     "data": {
      "text/plain": [
       "<generator object <genexpr> at 0x000001C7D91C3190>"
      ]
     },
     "execution_count": 17,
     "metadata": {},
     "output_type": "execute_result"
    }
   ],
   "source": [
    "my_nums4"
   ]
  },
  {
   "cell_type": "code",
   "execution_count": 18,
   "id": "ceef2aef",
   "metadata": {},
   "outputs": [
    {
     "name": "stdout",
     "output_type": "stream",
     "text": [
      "1\n",
      "2\n",
      "3\n",
      "4\n",
      "5\n"
     ]
    }
   ],
   "source": [
    "print(next(my_nums4))\n",
    "print(next(my_nums4))\n",
    "print(next(my_nums4))\n",
    "print(next(my_nums4))\n",
    "print(next(my_nums4))"
   ]
  },
  {
   "cell_type": "code",
   "execution_count": 19,
   "id": "66eceff6",
   "metadata": {},
   "outputs": [
    {
     "ename": "StopIteration",
     "evalue": "",
     "output_type": "error",
     "traceback": [
      "\u001b[1;31m---------------------------------------------------------------------------\u001b[0m",
      "\u001b[1;31mStopIteration\u001b[0m                             Traceback (most recent call last)",
      "Input \u001b[1;32mIn [19]\u001b[0m, in \u001b[0;36m<cell line: 1>\u001b[1;34m()\u001b[0m\n\u001b[1;32m----> 1\u001b[0m \u001b[38;5;28mprint\u001b[39m(\u001b[38;5;28;43mnext\u001b[39;49m\u001b[43m(\u001b[49m\u001b[43mmy_nums4\u001b[49m\u001b[43m)\u001b[49m)\n",
      "\u001b[1;31mStopIteration\u001b[0m: "
     ]
    }
   ],
   "source": [
    "print(next(my_nums4))"
   ]
  },
  {
   "cell_type": "markdown",
   "id": "44a93f5e",
   "metadata": {},
   "source": [
    "### Wrap-up\n",
    "- 제너레이터를 사용하면 좋은 퍼포먼스와 메모리 리소스를 절감할 수 있다.\n",
    "- 데이터과학 분야에서 데이터 흐름에 따라 프로그램을 작성할 수 있는 장점 제공"
   ]
  },
  {
   "cell_type": "code",
   "execution_count": null,
   "id": "5e4e1b52",
   "metadata": {},
   "outputs": [],
   "source": []
  }
 ],
 "metadata": {
  "kernelspec": {
   "display_name": "Python 3 (ipykernel)",
   "language": "python",
   "name": "python3"
  },
  "language_info": {
   "codemirror_mode": {
    "name": "ipython",
    "version": 3
   },
   "file_extension": ".py",
   "mimetype": "text/x-python",
   "name": "python",
   "nbconvert_exporter": "python",
   "pygments_lexer": "ipython3",
   "version": "3.9.12"
  }
 },
 "nbformat": 4,
 "nbformat_minor": 5
}
