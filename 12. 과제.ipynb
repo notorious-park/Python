{
 "cells": [
  {
   "cell_type": "code",
   "execution_count": 115,
   "id": "3e2d49de",
   "metadata": {},
   "outputs": [],
   "source": [
    "from bs4 import BeautifulSoup \n",
    "from urllib.request import urlopen\n",
    "\n",
    "import pandas as pd\n",
    "import re"
   ]
  },
  {
   "cell_type": "code",
   "execution_count": 116,
   "id": "25626c7f",
   "metadata": {},
   "outputs": [
    {
     "data": {
      "text/plain": [
       "<title>범죄도시2 : 네이버 영화</title>"
      ]
     },
     "execution_count": 116,
     "metadata": {},
     "output_type": "execute_result"
    }
   ],
   "source": [
    "url = 'https://movie.naver.com/movie/bi/mi/point.naver?code=192608#tab'\n",
    "html = urlopen(url)\n",
    "soup = BeautifulSoup(html, \"lxml\")\n",
    "soup.title"
   ]
  },
  {
   "cell_type": "code",
   "execution_count": 139,
   "id": "5fd809ae",
   "metadata": {},
   "outputs": [
    {
     "data": {
      "text/plain": [
       "3"
      ]
     },
     "execution_count": 139,
     "metadata": {},
     "output_type": "execute_result"
    }
   ],
   "source": [
    "div_tag = soup.find('div','score_result')\n",
    "len(div_tag)"
   ]
  },
  {
   "cell_type": "code",
   "execution_count": 140,
   "id": "a64e0a88",
   "metadata": {},
   "outputs": [
    {
     "data": {
      "text/plain": [
       "bs4.element.Tag"
      ]
     },
     "execution_count": 140,
     "metadata": {},
     "output_type": "execute_result"
    }
   ],
   "source": [
    "ul_tag = div_tag.find('ul')\n",
    "type(ul_tag)"
   ]
  },
  {
   "cell_type": "code",
   "execution_count": 141,
   "id": "6324de78",
   "metadata": {},
   "outputs": [
    {
     "data": {
      "text/plain": [
       "5"
      ]
     },
     "execution_count": 141,
     "metadata": {},
     "output_type": "execute_result"
    }
   ],
   "source": [
    "li_tags = ul_tag.find_all('li')\n",
    "len(li_tags)"
   ]
  },
  {
   "cell_type": "code",
   "execution_count": 143,
   "id": "3ffb299b",
   "metadata": {},
   "outputs": [
    {
     "data": {
      "text/plain": [
       "'장첸은 순둥이였어'"
      ]
     },
     "execution_count": 143,
     "metadata": {},
     "output_type": "execute_result"
    }
   ],
   "source": [
    "li_tags[0].find('p').get_text()"
   ]
  },
  {
   "cell_type": "code",
   "execution_count": null,
   "id": "9c62621c",
   "metadata": {},
   "outputs": [],
   "source": []
  },
  {
   "cell_type": "code",
   "execution_count": null,
   "id": "17b3cfcb",
   "metadata": {},
   "outputs": [],
   "source": []
  },
  {
   "cell_type": "code",
   "execution_count": 112,
   "id": "bcf59d05",
   "metadata": {},
   "outputs": [],
   "source": [
    "Review = list()\n",
    "\n",
    "div_tag = soup.find('div','score_result')\n",
    "ul_tag = div_tag.find('ul')\n",
    "li_tags = ul_tag.find_all('li')\n",
    "\n",
    "for li_tag in li_tags[1:5]:\n",
    "    review = li_tag.find('p').get_text()\n",
    "    Review.append(review)\n",
    "    "
   ]
  },
  {
   "cell_type": "code",
   "execution_count": 113,
   "id": "526e20ea",
   "metadata": {},
   "outputs": [
    {
     "data": {
      "text/plain": [
       "['자신의 매력이 무엇인지 확실히 알고 있는 형사, 도시, 영화',\n",
       " '명료하고 경쾌한 히어로 마동석',\n",
       " '향후 10년은 거뜬할 시리즈 아이템',\n",
       " '총칼 든 악당들아, 마블리의 맨주먹을 받아랏!']"
      ]
     },
     "execution_count": 113,
     "metadata": {},
     "output_type": "execute_result"
    }
   ],
   "source": [
    "Review"
   ]
  },
  {
   "cell_type": "code",
   "execution_count": null,
   "id": "e8490bd8",
   "metadata": {},
   "outputs": [],
   "source": []
  }
 ],
 "metadata": {
  "kernelspec": {
   "display_name": "Python 3 (ipykernel)",
   "language": "python",
   "name": "python3"
  },
  "language_info": {
   "codemirror_mode": {
    "name": "ipython",
    "version": 3
   },
   "file_extension": ".py",
   "mimetype": "text/x-python",
   "name": "python",
   "nbconvert_exporter": "python",
   "pygments_lexer": "ipython3",
   "version": "3.9.12"
  }
 },
 "nbformat": 4,
 "nbformat_minor": 5
}
