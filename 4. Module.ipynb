{
 "cells": [
  {
   "cell_type": "markdown",
   "id": "77a951c3",
   "metadata": {},
   "source": [
    "# Module\n",
    ">Module Create & Call\n",
    "\n",
    "- 모듈을 사용하는 이유\n",
    "- 모듈 생성 및 호출\n",
    "- 모듈을 직접 실행하는 경우와 임포트한 후 실행하는 경우 구분하기"
   ]
  },
  {
   "cell_type": "markdown",
   "id": "ce4b7d55",
   "metadata": {},
   "source": [
    "### 모듈 생성 및 호출"
   ]
  },
  {
   "cell_type": "markdown",
   "id": "27c62482",
   "metadata": {},
   "source": [
    "### <span style = 'color : red'> 모듈 만들기"
   ]
  },
  {
   "cell_type": "code",
   "execution_count": 2,
   "id": "58e781c7",
   "metadata": {},
   "outputs": [
    {
     "name": "stdout",
     "output_type": "stream",
     "text": [
      "Writing my_first_module.py\n"
     ]
    }
   ],
   "source": [
    "%%writefile my_first_module.py\n",
    "\n",
    "def my_function():\n",
    "    print('This is my first module')"
   ]
  },
  {
   "cell_type": "code",
   "execution_count": 6,
   "id": "60f03499",
   "metadata": {},
   "outputs": [
    {
     "name": "stdout",
     "output_type": "stream",
     "text": [
      "\n",
      "def my_function():\n",
      "    print('This is my first module')\n"
     ]
    }
   ],
   "source": [
    "!type my_first_module.py"
   ]
  },
  {
   "cell_type": "code",
   "execution_count": 3,
   "id": "31d51cf2",
   "metadata": {},
   "outputs": [
    {
     "name": "stdout",
     "output_type": "stream",
     "text": [
      " C 드라이브의 볼륨에는 이름이 없습니다.\n",
      " 볼륨 일련 번호: 78D5-6279\n",
      "\n",
      " C:\\Users\\student\\Anaconda_src\\S02_Python_Algorithm 디렉터리\n",
      "\n",
      "2022-05-24  오후 01:05    <DIR>          .\n",
      "2022-05-24  오후 01:05    <DIR>          ..\n",
      "2022-05-24  오후 01:03    <DIR>          .ipynb_checkpoints\n",
      "2022-05-24  오전 11:10             5,004 1 .Algorithm_피보나치 함수.ipynb\n",
      "2022-05-24  오전 11:10             6,953 2 .Algorithm_자료구조_스택.ipynb\n",
      "2022-05-24  오후 01:04             7,458 3 .Algorithm_자료구조_큐.ipynb\n",
      "2022-05-24  오후 01:05             2,224 4. Module.ipynb\n",
      "2022-05-24  오후 01:05                60 my_first_module.py\n",
      "               5개 파일              21,699 바이트\n",
      "               3개 디렉터리  208,929,447,936 바이트 남음\n"
     ]
    }
   ],
   "source": [
    "%ls"
   ]
  },
  {
   "cell_type": "markdown",
   "id": "a6caca9e",
   "metadata": {},
   "source": [
    "### <span style = 'color : red'> 모듈 불러오기"
   ]
  },
  {
   "cell_type": "code",
   "execution_count": 4,
   "id": "34f63e28",
   "metadata": {},
   "outputs": [
    {
     "name": "stdout",
     "output_type": "stream",
     "text": [
      " C 드라이브의 볼륨에는 이름이 없습니다.\n",
      " 볼륨 일련 번호: 78D5-6279\n",
      "\n",
      " C:\\Users\\student\\Anaconda_src\\S02_Python_Algorithm 디렉터리\n",
      "\n",
      "2022-05-24  오후 01:05                60 my_first_module.py\n",
      "               1개 파일                  60 바이트\n",
      "               0개 디렉터리  208,929,447,936 바이트 남음\n"
     ]
    }
   ],
   "source": [
    "!dir *.py"
   ]
  },
  {
   "cell_type": "code",
   "execution_count": 5,
   "id": "e320c939",
   "metadata": {},
   "outputs": [
    {
     "name": "stdout",
     "output_type": "stream",
     "text": [
      "This is my first module\n"
     ]
    }
   ],
   "source": [
    "import my_first_module\n",
    "\n",
    "my_first_module.my_function()"
   ]
  },
  {
   "cell_type": "code",
   "execution_count": 7,
   "id": "8b8deaec",
   "metadata": {},
   "outputs": [
    {
     "name": "stdout",
     "output_type": "stream",
     "text": [
      "C:\\Python\\anaconda3;C:\\Python\\anaconda3\\Library\\mingw-w64\\bin;C:\\Python\\anaconda3\\Library\\usr\\bin;C:\\Python\\anaconda3\\Library\\bin;C:\\Python\\anaconda3\\Scripts;C:\\Windows\\system32;C:\\Windows;C:\\Windows\\System32\\Wbem;C:\\Windows\\System32\\WindowsPowerShell\\v1.0\\;C:\\Windows\\System32\\OpenSSH\\;C:\\Python\\anaconda3;C:\\Python\\anaconda3\\Library\\mingw-w64\\bin;C:\\Python\\anaconda3\\Library\\usr\\bin;C:\\Python\\anaconda3\\Library\\bin;C:\\Python\\anaconda3\\Scripts;C:\\Users\\student\\AppData\\Local\\Microsoft\\WindowsApps\n"
     ]
    }
   ],
   "source": [
    "! echo %PATH%"
   ]
  },
  {
   "cell_type": "code",
   "execution_count": 8,
   "id": "b7f8623f",
   "metadata": {},
   "outputs": [],
   "source": [
    "! mkdir modules"
   ]
  },
  {
   "cell_type": "code",
   "execution_count": 10,
   "id": "971a2ccf",
   "metadata": {},
   "outputs": [
    {
     "name": "stdout",
     "output_type": "stream",
     "text": [
      "Writing modules/my_area.py\n"
     ]
    }
   ],
   "source": [
    "%%writefile modules/my_area.py\n",
    "\n",
    "PI = 3.14\n",
    "\n",
    "def square_area(a): # 정사각형의 넓이 반환\n",
    "    return a **2\n",
    "def circle_area(r): # 원의 넓이 반환\n",
    "    return PI * r **2"
   ]
  },
  {
   "cell_type": "code",
   "execution_count": 11,
   "id": "18da40e8",
   "metadata": {},
   "outputs": [
    {
     "name": "stdout",
     "output_type": "stream",
     "text": [
      " C 드라이브의 볼륨에는 이름이 없습니다.\n",
      " 볼륨 일련 번호: 78D5-6279\n",
      "\n",
      " C:\\Users\\student\\Anaconda_src\\S02_Python_Algorithm\\modules 디렉터리\n",
      "\n",
      "2022-05-24  오후 01:16    <DIR>          .\n",
      "2022-05-24  오후 01:16    <DIR>          ..\n",
      "2022-05-24  오후 01:16               153 my_area.py\n",
      "               1개 파일                 153 바이트\n",
      "               2개 디렉터리  208,929,136,640 바이트 남음\n"
     ]
    }
   ],
   "source": [
    "! dir modules"
   ]
  },
  {
   "cell_type": "code",
   "execution_count": 12,
   "id": "2c5f452b",
   "metadata": {},
   "outputs": [
    {
     "data": {
      "text/plain": [
       "'C:\\\\Users\\\\student\\\\Anaconda_src\\\\S02_Python_Algorithm'"
      ]
     },
     "execution_count": 12,
     "metadata": {},
     "output_type": "execute_result"
    }
   ],
   "source": [
    "%pwd"
   ]
  },
  {
   "cell_type": "code",
   "execution_count": 13,
   "id": "d687368d",
   "metadata": {},
   "outputs": [
    {
     "name": "stdout",
     "output_type": "stream",
     "text": [
      "PI =  3.14\n",
      "square area =  25\n",
      "circle area =  12.56\n"
     ]
    }
   ],
   "source": [
    "from modules import my_area   # 모듈 불러오기\n",
    "\n",
    "print('PI = ',my_area.PI)\n",
    "print('square area = ',my_area.square_area(5)) # 모듈의 함수 이용\n",
    "print('circle area = ',my_area.circle_area(2)) # 모듈의 함수 이용"
   ]
  },
  {
   "cell_type": "code",
   "execution_count": 14,
   "id": "bb332034",
   "metadata": {},
   "outputs": [
    {
     "data": {
      "text/plain": [
       "['PI',\n",
       " '__builtins__',\n",
       " '__cached__',\n",
       " '__doc__',\n",
       " '__file__',\n",
       " '__loader__',\n",
       " '__name__',\n",
       " '__package__',\n",
       " '__spec__',\n",
       " 'circle_area',\n",
       " 'square_area']"
      ]
     },
     "execution_count": 14,
     "metadata": {},
     "output_type": "execute_result"
    }
   ],
   "source": [
    "dir(my_area)"
   ]
  },
  {
   "cell_type": "markdown",
   "id": "633c8932",
   "metadata": {},
   "source": [
    "### <span style = 'color : red'> 모듈을 불러오는 다른 형식\n",
    ">모듈의 내용 바로 선언"
   ]
  },
  {
   "cell_type": "code",
   "execution_count": 15,
   "id": "5a33f35a",
   "metadata": {},
   "outputs": [
    {
     "name": "stdout",
     "output_type": "stream",
     "text": [
      "PI =  3.14\n"
     ]
    }
   ],
   "source": [
    "from modules.my_area import PI # 모듈의 변수 바로 불러오기\n",
    "\n",
    "print('PI = ',my_area.PI)"
   ]
  },
  {
   "cell_type": "code",
   "execution_count": 16,
   "id": "af8bc87d",
   "metadata": {},
   "outputs": [
    {
     "name": "stdout",
     "output_type": "stream",
     "text": [
      "square area = 25\n",
      "circle area = 12.56\n"
     ]
    }
   ],
   "source": [
    "from modules.my_area import square_area\n",
    "from modules.my_area import circle_area\n",
    "\n",
    "print('square area =', square_area(5)) # 모듈의 함수 이용      \n",
    "print('circle area =', circle_area(2))   "
   ]
  },
  {
   "cell_type": "code",
   "execution_count": 17,
   "id": "4a543452",
   "metadata": {},
   "outputs": [
    {
     "name": "stdout",
     "output_type": "stream",
     "text": [
      "pi = 3.14\n",
      "square area = 25\n",
      "circle area = 12.56\n"
     ]
    }
   ],
   "source": [
    "from modules.my_area import PI, square_area, circle_area # 해당 함수 나열해서 불러오기\n",
    "\n",
    "print('pi =', PI) # 모듈의 변수 이용\n",
    "print('square area =', square_area(5)) # 모듈의 함수 이용      \n",
    "print('circle area =', circle_area(2)) "
   ]
  },
  {
   "cell_type": "code",
   "execution_count": 18,
   "id": "47ef52fe",
   "metadata": {},
   "outputs": [
    {
     "name": "stdout",
     "output_type": "stream",
     "text": [
      "pi = 3.14\n",
      "square area = 25\n",
      "circle area = 12.56\n"
     ]
    }
   ],
   "source": [
    "from modules.my_area import * # 해당 함수 전부 다 불러오기\n",
    "\n",
    "print('pi =', PI) # 모듈의 변수 이용\n",
    "print('square area =', square_area(5)) # 모듈의 함수 이용   \n",
    "print('circle area =', circle_area(2)) "
   ]
  },
  {
   "cell_type": "code",
   "execution_count": 29,
   "id": "8d676acc",
   "metadata": {},
   "outputs": [
    {
     "name": "stdout",
     "output_type": "stream",
     "text": [
      "Overwriting modules/my_module1.py\n"
     ]
    }
   ],
   "source": [
    "%%writefile modules/my_module1.py\n",
    "# File name: my_module1.py\n",
    "\n",
    "def func1():\n",
    "    print(\"func1 in  my_module1 \")\n",
    "\n",
    "def func2():\n",
    "    print(\"func2 in  my_module1 \")"
   ]
  },
  {
   "cell_type": "code",
   "execution_count": 30,
   "id": "5310660b",
   "metadata": {},
   "outputs": [
    {
     "name": "stdout",
     "output_type": "stream",
     "text": [
      "Overwriting modules/my_module2.py\n"
     ]
    }
   ],
   "source": [
    "%%writefile modules/my_module2.py\n",
    "# File name: my_module2.py\n",
    "\n",
    "def func2():\n",
    "    print(\"func2 in  my_module2 \")\n",
    "\n",
    "def func3():\n",
    "    print(\"func3 in  my_module2 \")"
   ]
  },
  {
   "cell_type": "code",
   "execution_count": 32,
   "id": "f7168673",
   "metadata": {},
   "outputs": [
    {
     "name": "stdout",
     "output_type": "stream",
     "text": [
      "func1 in my module1\n",
      "func2 in my module1\n",
      "func3 in my module1\n"
     ]
    }
   ],
   "source": [
    "from modules.my_module1 import *\n",
    "from modules.my_module2 import *\n",
    "\n",
    "func1()\n",
    "func2()\n",
    "func3()"
   ]
  },
  {
   "cell_type": "code",
   "execution_count": 34,
   "id": "1afe86b5",
   "metadata": {},
   "outputs": [
    {
     "name": "stdout",
     "output_type": "stream",
     "text": [
      "func1 in my module1\n",
      "func2 in my module1\n",
      "func3 in my module1\n"
     ]
    }
   ],
   "source": [
    "from modules.my_module2 import *\n",
    "from modules.my_module1 import *\n",
    "\n",
    "func1()\n",
    "func2()\n",
    "func3()"
   ]
  },
  {
   "cell_type": "markdown",
   "id": "169ed5e2",
   "metadata": {},
   "source": [
    "### 모듈명을 별명으로 선언"
   ]
  },
  {
   "cell_type": "code",
   "execution_count": 37,
   "id": "ac26d6ae",
   "metadata": {},
   "outputs": [
    {
     "name": "stdout",
     "output_type": "stream",
     "text": [
      "pi =  3.14\n",
      "square area =  25\n",
      "circle area =  12.56\n"
     ]
    }
   ],
   "source": [
    "import modules.my_area as area\n",
    "\n",
    "print('pi = ',area.PI)\n",
    "print('square area = ',area.square_area(5))\n",
    "print('circle area = ',area.circle_area(2))"
   ]
  },
  {
   "cell_type": "code",
   "execution_count": 38,
   "id": "287dc8b2",
   "metadata": {},
   "outputs": [
    {
     "name": "stdout",
     "output_type": "stream",
     "text": [
      "pi =  3.14\n",
      "square area =  25\n",
      "circle area =  12.56\n"
     ]
    }
   ],
   "source": [
    "from modules.my_area import PI as pi\n",
    "from modules.my_area import square_area as square\n",
    "from modules.my_area import circle_area as circle\n",
    "\n",
    "print('pi = ',pi)\n",
    "print('square area = ',square(5))\n",
    "print('circle area = ',circle(2))"
   ]
  },
  {
   "cell_type": "markdown",
   "id": "35dc750f",
   "metadata": {},
   "source": [
    "## <span style = 'color : blue'>모듈을 직접 실행하는 경우와 임포트한 후 실행하는 경우 구분하기"
   ]
  },
  {
   "cell_type": "code",
   "execution_count": 50,
   "id": "018bdf14",
   "metadata": {},
   "outputs": [
    {
     "name": "stdout",
     "output_type": "stream",
     "text": [
      "Overwriting modules/my_module_test1.py\n"
     ]
    }
   ],
   "source": [
    "%%writefile modules/my_module_test1.py\n",
    "\n",
    "def func(a):\n",
    "    print('입력 숫자 : ',a)\n",
    "    \n",
    "func(3)"
   ]
  },
  {
   "cell_type": "code",
   "execution_count": 51,
   "id": "c9d4d798",
   "metadata": {},
   "outputs": [
    {
     "name": "stdout",
     "output_type": "stream",
     "text": [
      "입력 숫자 :  3\n"
     ]
    }
   ],
   "source": [
    "%run ./modules/my_module_test1.py"
   ]
  },
  {
   "cell_type": "code",
   "execution_count": 52,
   "id": "93eda287",
   "metadata": {},
   "outputs": [],
   "source": [
    "from modules import my_module_test1   # import만 했음에도 함수 바로 실행됨"
   ]
  },
  {
   "cell_type": "code",
   "execution_count": 47,
   "id": "caab20b4",
   "metadata": {},
   "outputs": [
    {
     "name": "stdout",
     "output_type": "stream",
     "text": [
      "Writing modules/my_module_test2.py\n"
     ]
    }
   ],
   "source": [
    "%%writefile modules/my_module_test2.py\n",
    "\n",
    "def func(a):\n",
    "    print('입력 숫자 : ',a)\n",
    "\n",
    "if __name__ == '__main__':\n",
    "    print('모듈을 직접 실행')\n",
    "    func(3)\n",
    "    func(4)"
   ]
  },
  {
   "cell_type": "code",
   "execution_count": 48,
   "id": "d1e4d860",
   "metadata": {},
   "outputs": [
    {
     "name": "stdout",
     "output_type": "stream",
     "text": [
      "모듈을 직접 실행\n",
      "입력 숫자 :  3\n",
      "입력 숫자 :  4\n"
     ]
    }
   ],
   "source": [
    "%run ./modules/my_module_test2.py"
   ]
  },
  {
   "cell_type": "code",
   "execution_count": 53,
   "id": "170a8b1f",
   "metadata": {},
   "outputs": [],
   "source": [
    "from modules import my_module_test2"
   ]
  },
  {
   "cell_type": "code",
   "execution_count": 54,
   "id": "605a4a15",
   "metadata": {},
   "outputs": [
    {
     "name": "stdout",
     "output_type": "stream",
     "text": [
      "Writing modules/my_module_test3.py\n"
     ]
    }
   ],
   "source": [
    "%%writefile modules/my_module_test3.py\n",
    "# File name: my_module_test3.py\n",
    "\n",
    "def func(a):\n",
    "    print(\"입력 숫자:\",a)\n",
    "\n",
    "if __name__ == \"__main__\":\n",
    "    print(\"모듈을 직접 실행\")\n",
    "    func(3)\n",
    "    func(4)\n",
    "else:\n",
    "    print(\"모듈을 임포트해서 실행\")"
   ]
  },
  {
   "cell_type": "code",
   "execution_count": 55,
   "id": "9ff33e34",
   "metadata": {},
   "outputs": [
    {
     "name": "stdout",
     "output_type": "stream",
     "text": [
      "모듈을 직접 실행\n",
      "입력 숫자: 3\n",
      "입력 숫자: 4\n"
     ]
    }
   ],
   "source": [
    "%run ./modules/my_module_test3.py"
   ]
  },
  {
   "cell_type": "code",
   "execution_count": 56,
   "id": "6bc9eebf",
   "metadata": {},
   "outputs": [
    {
     "name": "stdout",
     "output_type": "stream",
     "text": [
      "모듈을 임포트해서 실행\n"
     ]
    }
   ],
   "source": [
    "from modules import my_module_test3"
   ]
  },
  {
   "cell_type": "code",
   "execution_count": null,
   "id": "49fb6155",
   "metadata": {},
   "outputs": [],
   "source": []
  }
 ],
 "metadata": {
  "kernelspec": {
   "display_name": "Python 3 (ipykernel)",
   "language": "python",
   "name": "python3"
  },
  "language_info": {
   "codemirror_mode": {
    "name": "ipython",
    "version": 3
   },
   "file_extension": ".py",
   "mimetype": "text/x-python",
   "name": "python",
   "nbconvert_exporter": "python",
   "pygments_lexer": "ipython3",
   "version": "3.9.12"
  }
 },
 "nbformat": 4,
 "nbformat_minor": 5
}
