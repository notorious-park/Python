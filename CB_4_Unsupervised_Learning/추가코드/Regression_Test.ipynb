{
 "cells": [
  {
   "cell_type": "markdown",
   "metadata": {},
   "source": [
    "# Ensemble Code 4 - Regression Test"
   ]
  },
  {
   "cell_type": "markdown",
   "metadata": {},
   "source": [
    "### 필요한 모듈을 불러온다"
   ]
  },
  {
   "cell_type": "code",
   "execution_count": 1,
   "metadata": {
    "collapsed": false
   },
   "outputs": [
    {
     "name": "stdout",
     "output_type": "stream",
     "text": [
      "Module Ready!\n"
     ]
    }
   ],
   "source": [
    "%matplotlib inline  \n",
    "import numpy as np\n",
    "import copy\n",
    "import pandas as pd\n",
    "import matplotlib.pyplot as plt\n",
    "import collections\n",
    "from sklearn.neural_network import MLPRegressor\n",
    "from sklearn.metrics import mean_squared_error\n",
    "from sklearn.metrics import mean_absolute_error\n",
    "from sklearn.ensemble import BaggingRegressor\n",
    "from sklearn.ensemble import RandomForestRegressor\n",
    "from sklearn.ensemble import GradientBoostingRegressor\n",
    "from sklearn.ensemble import BaggingRegressor\n",
    "from sklearn.tree import DecisionTreeRegressor\n",
    "print(\"Module Ready!\")"
   ]
  },
  {
   "cell_type": "code",
   "execution_count": 2,
   "metadata": {
    "collapsed": false
   },
   "outputs": [
    {
     "name": "stdout",
     "output_type": "stream",
     "text": [
      "'mortgage' data column name :  ['OneMonthCDRate', 'OneY.CMaturityRate', 'ThreeM.Rate.AuctionAverage', 'ThreeM.Rate.SecondaryMarket', 'ThreeY.CMaturityRate', 'FiveY.CMaturityRate', 'BankCredit', 'Currency', 'DemandDeposits', 'FederalFunds', 'MoneyStock', 'CheckableDeposits', 'LoansLeases', 'SavingsDeposits', 'TradeCurrencies', 'ThirtyY.CMortgageRate']\n",
      "Data partition complete! \n",
      "Train_Input shape : (839, 15) \n",
      "Train_Output shape : (839, 1)\n",
      "Test_Input shape : (210, 15) \n",
      "Test_Output shape : (210, 1)\n",
      "standardization complete!\n"
     ]
    }
   ],
   "source": [
    "#############################\n",
    "RANDOM_STATE = 1026\n",
    "#############################\n",
    "\n",
    "def mean_absolute_percentage_error(Data):\n",
    "    return(np.mean(np.abs(Data[:, 1]-Data[:, 0])/Data[:, 1]))\n",
    "\n",
    "def Valid_Index(Data,Name):\n",
    "    return(pd.DataFrame(pd.Series({'MAE':mean_absolute_error(Data[:, 0], Data[:, 1]),\n",
    "               'MSE': mean_squared_error(Data[:, 0], Data[:, 1]),\n",
    "               'MAPE': mean_absolute_percentage_error(Data),\n",
    "               'Model': Name})).transpose())   \n",
    "\n",
    "\n",
    "# 사용할 Personal Loan 데이터셋을 불러옵니다.\n",
    "Rawdata = pd.read_csv('dataset/mortgage.csv')\n",
    "# Print Column names\n",
    "print(\"'mortgage' data column name : \", list(Rawdata.columns.values))\n",
    "# Allocate column index based on Input and Output varaibles\n",
    "\n",
    "Input_Column_Index = range(0,15)\n",
    "Target_Column_Index = np.array([15])\n",
    "\n",
    "# 같은 데이터셋을 사용하기 위해서 난수를 고정합니다.\n",
    "np.random.seed(100)\n",
    "Train_Index = np.random.choice(np.shape(Rawdata)[0],int(np.shape(Rawdata)[0]*0.8),replace=False)\n",
    "\n",
    "# Input variable과 Output variable을 Numpy array로 변환합니다.\n",
    "Rawdata_Input = np.array(Rawdata)[:,Input_Column_Index]\n",
    "Rawdata_Output = np.array(Rawdata)[:,Target_Column_Index]\n",
    "\n",
    "# Training data와 Test data를 나누어 줍니다.\n",
    "Train_Input = Rawdata_Input[Train_Index,:]\n",
    "Train_Output = Rawdata_Output[Train_Index,:]\n",
    "Test_Input = Rawdata_Input[np.delete(range(np.shape(Rawdata)[0]),Train_Index),:]\n",
    "Test_Output = Rawdata_Output[np.delete(range(np.shape(Rawdata)[0]),Train_Index),:]\n",
    "print('Data partition complete! \\nTrain_Input shape :',np.shape(Train_Input),'\\nTrain_Output shape :',np.shape(Train_Output))\n",
    "print('Test_Input shape :',np.shape(Test_Input),'\\nTest_Output shape :',np.shape(Test_Output))\n",
    "\n",
    "def standardization(Data,Data2):\n",
    "    return ((Data - np.mean(Data2, axis=0)) / np.std(Data2, axis=0))\n",
    "\n",
    "Train_Input_Normalized = copy.deepcopy(standardization(Train_Input,Train_Input))\n",
    "Test_Input_Normalized = copy.deepcopy(standardization(Test_Input,Train_Input))\n",
    "print(\"standardization complete!\")"
   ]
  },
  {
   "cell_type": "markdown",
   "metadata": {},
   "source": [
    "# Model1. Neural network"
   ]
  },
  {
   "cell_type": "code",
   "execution_count": 3,
   "metadata": {
    "collapsed": false
   },
   "outputs": [
    {
     "data": {
      "text/html": [
       "<div>\n",
       "<table border=\"1\" class=\"dataframe\">\n",
       "  <thead>\n",
       "    <tr style=\"text-align: right;\">\n",
       "      <th></th>\n",
       "      <th>MAE</th>\n",
       "      <th>MAPE</th>\n",
       "      <th>MSE</th>\n",
       "      <th>Model</th>\n",
       "    </tr>\n",
       "  </thead>\n",
       "  <tbody>\n",
       "    <tr>\n",
       "      <th>0</th>\n",
       "      <td>0.137146</td>\n",
       "      <td>0.021833</td>\n",
       "      <td>0.0315289</td>\n",
       "      <td>ANN</td>\n",
       "    </tr>\n",
       "  </tbody>\n",
       "</table>\n",
       "</div>"
      ],
      "text/plain": [
       "        MAE      MAPE        MSE Model\n",
       "0  0.137146  0.021833  0.0315289   ANN"
      ]
     },
     "execution_count": 3,
     "metadata": {},
     "output_type": "execute_result"
    }
   ],
   "source": [
    "def NeuralNetwork(HIDDEN_LAYER,Train_Input,TR_OUTPUT,Val_Input,Val_Output):\n",
    "    MLP=MLPRegressor(hidden_layer_sizes=HIDDEN_LAYER,max_iter=2000 ,random_state =RANDOM_STATE).fit(Train_Input,TR_OUTPUT[:,0])\n",
    "    Predict_Value = MLP.predict(Val_Input)\n",
    "    return(np.concatenate((Predict_Value[:,np.newaxis],Val_Output),axis=1))\n",
    "\n",
    "\n",
    "Model1=NeuralNetwork(HIDDEN_LAYER=[20,20,20],Train_Input=Train_Input_Normalized,\n",
    "              TR_OUTPUT=Train_Output,Val_Input=Test_Input_Normalized,Val_Output=Test_Output)\n",
    "\n",
    "Model1_Results=Valid_Index(Model1,'ANN')\n",
    "Model1_Results"
   ]
  },
  {
   "cell_type": "markdown",
   "metadata": {},
   "source": [
    "# Model2. Bagging Neural network"
   ]
  },
  {
   "cell_type": "code",
   "execution_count": 4,
   "metadata": {
    "collapsed": false
   },
   "outputs": [
    {
     "data": {
      "text/html": [
       "<div>\n",
       "<table border=\"1\" class=\"dataframe\">\n",
       "  <thead>\n",
       "    <tr style=\"text-align: right;\">\n",
       "      <th></th>\n",
       "      <th>MAE</th>\n",
       "      <th>MAPE</th>\n",
       "      <th>MSE</th>\n",
       "      <th>Model</th>\n",
       "    </tr>\n",
       "  </thead>\n",
       "  <tbody>\n",
       "    <tr>\n",
       "      <th>0</th>\n",
       "      <td>0.13331</td>\n",
       "      <td>0.0194384</td>\n",
       "      <td>0.0329916</td>\n",
       "      <td>B_ANN</td>\n",
       "    </tr>\n",
       "  </tbody>\n",
       "</table>\n",
       "</div>"
      ],
      "text/plain": [
       "       MAE       MAPE        MSE  Model\n",
       "0  0.13331  0.0194384  0.0329916  B_ANN"
      ]
     },
     "execution_count": 4,
     "metadata": {},
     "output_type": "execute_result"
    }
   ],
   "source": [
    "def B_NeuralNetwork(HIDDEN_LAYER,Train_Input,TR_OUTPUT,Val_Input,Val_Output):\n",
    "    MLP=MLPRegressor(hidden_layer_sizes=HIDDEN_LAYER,max_iter=2000 ,random_state =RANDOM_STATE)\n",
    "    BMLP = BaggingRegressor(n_estimators=30, base_estimator=MLP, \n",
    "                             random_state=RANDOM_STATE, n_jobs=-1).fit(Train_Input, TR_OUTPUT[:, 0])\n",
    "    Predict_Value = BMLP.predict(Val_Input)\n",
    "    return(np.concatenate((Predict_Value[:,np.newaxis],Val_Output),axis=1))\n",
    "\n",
    "Model2=B_NeuralNetwork(HIDDEN_LAYER=[10,10,10],Train_Input=Train_Input_Normalized,\n",
    "              TR_OUTPUT=Train_Output,Val_Input=Test_Input_Normalized,Val_Output=Test_Output)\n",
    "\n",
    "Model2_Results=Valid_Index(Model2,'B_ANN')\n",
    "Model2_Results"
   ]
  },
  {
   "cell_type": "markdown",
   "metadata": {},
   "source": [
    "# Model3. RandomForest"
   ]
  },
  {
   "cell_type": "code",
   "execution_count": 5,
   "metadata": {
    "collapsed": false
   },
   "outputs": [
    {
     "data": {
      "text/html": [
       "<div>\n",
       "<table border=\"1\" class=\"dataframe\">\n",
       "  <thead>\n",
       "    <tr style=\"text-align: right;\">\n",
       "      <th></th>\n",
       "      <th>MAE</th>\n",
       "      <th>MAPE</th>\n",
       "      <th>MSE</th>\n",
       "      <th>Model</th>\n",
       "    </tr>\n",
       "  </thead>\n",
       "  <tbody>\n",
       "    <tr>\n",
       "      <th>0</th>\n",
       "      <td>0.0752348</td>\n",
       "      <td>0.00964126</td>\n",
       "      <td>0.0158675</td>\n",
       "      <td>RF</td>\n",
       "    </tr>\n",
       "  </tbody>\n",
       "</table>\n",
       "</div>"
      ],
      "text/plain": [
       "         MAE        MAPE        MSE Model\n",
       "0  0.0752348  0.00964126  0.0158675    RF"
      ]
     },
     "execution_count": 5,
     "metadata": {},
     "output_type": "execute_result"
    }
   ],
   "source": [
    "def RandomForest(NUMBER,Train_Input,TR_OUTPUT,Val_Input,Val_Output):\n",
    "    RF=RandomForestRegressor(n_estimators=NUMBER,\n",
    "                           max_features=\"sqrt\",\n",
    "                           random_state=RANDOM_STATE).fit(Train_Input,TR_OUTPUT[:,0])\n",
    "    Predict_Value = RF.predict(Val_Input)\n",
    "    return(np.concatenate((Predict_Value[:,np.newaxis],Val_Output),axis=1))    \n",
    "\n",
    "Model3=RandomForest(NUMBER=200,Train_Input=Train_Input_Normalized,\n",
    "              TR_OUTPUT=Train_Output,Val_Input=Test_Input_Normalized,Val_Output=Test_Output)\n",
    "\n",
    "Model3_Results=Valid_Index(Model3,'RF')\n",
    "Model3_Results"
   ]
  },
  {
   "cell_type": "markdown",
   "metadata": {},
   "source": [
    "# Model4. Bagging Tree"
   ]
  },
  {
   "cell_type": "code",
   "execution_count": 6,
   "metadata": {
    "collapsed": false
   },
   "outputs": [
    {
     "data": {
      "text/html": [
       "<div>\n",
       "<table border=\"1\" class=\"dataframe\">\n",
       "  <thead>\n",
       "    <tr style=\"text-align: right;\">\n",
       "      <th></th>\n",
       "      <th>MAE</th>\n",
       "      <th>MAPE</th>\n",
       "      <th>MSE</th>\n",
       "      <th>Model</th>\n",
       "    </tr>\n",
       "  </thead>\n",
       "  <tbody>\n",
       "    <tr>\n",
       "      <th>0</th>\n",
       "      <td>0.110823</td>\n",
       "      <td>0.0157357</td>\n",
       "      <td>0.0248484</td>\n",
       "      <td>B_Tree</td>\n",
       "    </tr>\n",
       "  </tbody>\n",
       "</table>\n",
       "</div>"
      ],
      "text/plain": [
       "        MAE       MAPE        MSE   Model\n",
       "0  0.110823  0.0157357  0.0248484  B_Tree"
      ]
     },
     "execution_count": 6,
     "metadata": {},
     "output_type": "execute_result"
    }
   ],
   "source": [
    "def B_Tree(NUMBER,Train_Input,TR_OUTPUT,Val_Input,Val_Output):\n",
    "    Tree = DecisionTreeRegressor(max_depth=NUMBER, random_state=RANDOM_STATE).fit(Train_Input, TR_OUTPUT[:, 0])\n",
    "    BMLP = BaggingRegressor(n_estimators=30, base_estimator=Tree, random_state=RANDOM_STATE, n_jobs=-1).fit(Train_Input, TR_OUTPUT[:, 0])\n",
    "    Predict_Value = BMLP.predict(Val_Input)\n",
    "    return(np.concatenate((Predict_Value[:,np.newaxis],Val_Output),axis=1))\n",
    "\n",
    "\n",
    "Model4=B_Tree(NUMBER=6,Train_Input=Train_Input_Normalized,\n",
    "              TR_OUTPUT=Train_Output,Val_Input=Test_Input_Normalized,Val_Output=Test_Output)\n",
    "\n",
    "Model4_Results=Valid_Index(Model4,'B_Tree')\n",
    "Model4_Results"
   ]
  },
  {
   "cell_type": "markdown",
   "metadata": {},
   "source": [
    "# Model5. Gradient Boosting Machine"
   ]
  },
  {
   "cell_type": "code",
   "execution_count": 7,
   "metadata": {
    "collapsed": false
   },
   "outputs": [
    {
     "data": {
      "text/html": [
       "<div>\n",
       "<table border=\"1\" class=\"dataframe\">\n",
       "  <thead>\n",
       "    <tr style=\"text-align: right;\">\n",
       "      <th></th>\n",
       "      <th>MAE</th>\n",
       "      <th>MAPE</th>\n",
       "      <th>MSE</th>\n",
       "      <th>Model</th>\n",
       "    </tr>\n",
       "  </thead>\n",
       "  <tbody>\n",
       "    <tr>\n",
       "      <th>0</th>\n",
       "      <td>0.0736954</td>\n",
       "      <td>0.00962527</td>\n",
       "      <td>0.0122758</td>\n",
       "      <td>GBM</td>\n",
       "    </tr>\n",
       "  </tbody>\n",
       "</table>\n",
       "</div>"
      ],
      "text/plain": [
       "         MAE        MAPE        MSE Model\n",
       "0  0.0736954  0.00962527  0.0122758   GBM"
      ]
     },
     "execution_count": 7,
     "metadata": {},
     "output_type": "execute_result"
    }
   ],
   "source": [
    "def GBM(NUMBER,Train_Input,TR_OUTPUT,Val_Input,Val_Output):\n",
    "    gbm=GradientBoostingRegressor(n_estimators=NUMBER,random_state=RANDOM_STATE).fit(Train_Input,TR_OUTPUT[:,0])\n",
    "    Predict_Value = gbm.predict(Val_Input)\n",
    "    return(np.concatenate((Predict_Value[:,np.newaxis],Val_Output),axis=1))\n",
    "\n",
    "Model5=GBM(NUMBER=300,Train_Input=Train_Input_Normalized,\n",
    "              TR_OUTPUT=Train_Output,Val_Input=Test_Input_Normalized,Val_Output=Test_Output)\n",
    "\n",
    "Model5_Results=Valid_Index(Model5,'GBM')\n",
    "Model5_Results"
   ]
  },
  {
   "cell_type": "markdown",
   "metadata": {},
   "source": [
    "# Results"
   ]
  },
  {
   "cell_type": "code",
   "execution_count": 8,
   "metadata": {
    "collapsed": false
   },
   "outputs": [
    {
     "data": {
      "text/html": [
       "<div>\n",
       "<table border=\"1\" class=\"dataframe\">\n",
       "  <thead>\n",
       "    <tr style=\"text-align: right;\">\n",
       "      <th></th>\n",
       "      <th>MAE</th>\n",
       "      <th>MAPE</th>\n",
       "      <th>MSE</th>\n",
       "      <th>Model</th>\n",
       "    </tr>\n",
       "  </thead>\n",
       "  <tbody>\n",
       "    <tr>\n",
       "      <th>0</th>\n",
       "      <td>0.0736954</td>\n",
       "      <td>0.00962527</td>\n",
       "      <td>0.0122758</td>\n",
       "      <td>GBM</td>\n",
       "    </tr>\n",
       "    <tr>\n",
       "      <th>0</th>\n",
       "      <td>0.0752348</td>\n",
       "      <td>0.00964126</td>\n",
       "      <td>0.0158675</td>\n",
       "      <td>RF</td>\n",
       "    </tr>\n",
       "    <tr>\n",
       "      <th>0</th>\n",
       "      <td>0.110823</td>\n",
       "      <td>0.0157357</td>\n",
       "      <td>0.0248484</td>\n",
       "      <td>B_Tree</td>\n",
       "    </tr>\n",
       "    <tr>\n",
       "      <th>0</th>\n",
       "      <td>0.137146</td>\n",
       "      <td>0.021833</td>\n",
       "      <td>0.0315289</td>\n",
       "      <td>ANN</td>\n",
       "    </tr>\n",
       "    <tr>\n",
       "      <th>0</th>\n",
       "      <td>0.13331</td>\n",
       "      <td>0.0194384</td>\n",
       "      <td>0.0329916</td>\n",
       "      <td>B_ANN</td>\n",
       "    </tr>\n",
       "  </tbody>\n",
       "</table>\n",
       "</div>"
      ],
      "text/plain": [
       "         MAE        MAPE        MSE   Model\n",
       "0  0.0736954  0.00962527  0.0122758     GBM\n",
       "0  0.0752348  0.00964126  0.0158675      RF\n",
       "0   0.110823   0.0157357  0.0248484  B_Tree\n",
       "0   0.137146    0.021833  0.0315289     ANN\n",
       "0    0.13331   0.0194384  0.0329916   B_ANN"
      ]
     },
     "execution_count": 8,
     "metadata": {},
     "output_type": "execute_result"
    }
   ],
   "source": [
    "Results=pd.concat((Model1_Results,Model2_Results,Model3_Results,\n",
    "          Model4_Results,Model5_Results),axis=0)\n",
    "Results = Results.sort_values(by=['MSE'],ascending=True)\n",
    "Results"
   ]
  },
  {
   "cell_type": "markdown",
   "metadata": {},
   "source": [
    "# Feature Importance"
   ]
  },
  {
   "cell_type": "code",
   "execution_count": 9,
   "metadata": {
    "collapsed": false
   },
   "outputs": [],
   "source": [
    "Use_Feature_Name=list(np.array(list(Rawdata.columns.values))[range(15)])\n",
    "OP_RF=RandomForestRegressor(n_estimators=200,\n",
    "                           max_features=\"sqrt\",\n",
    "                           random_state=RANDOM_STATE).fit(Train_Input_Normalized,Train_Output[:,0])\n",
    "OP_GBM=gbm=GradientBoostingRegressor(n_estimators=300,random_state=RANDOM_STATE).fit(Train_Input_Normalized,Train_Output[:,0])\n",
    "def plot_feature_importances(model):\n",
    "    n_features = np.shape(Train_Input_Normalized)[1]\n",
    "    plt.barh(range(n_features), model.feature_importances_, align='center')\n",
    "    plt.yticks(np.arange(n_features), Use_Feature_Name)\n",
    "    plt.xlabel(\"Feature importance\")\n",
    "    plt.ylabel(\"Feature\")\n",
    "    plt.ylim(-1, n_features)\n",
    "    plt.rcParams.update({'font.size': 8})"
   ]
  },
  {
   "cell_type": "code",
   "execution_count": 10,
   "metadata": {
    "collapsed": false
   },
   "outputs": [
    {
     "data": {
      "image/png": "[encoded data removed]",
      "text/plain": [
       "<matplotlib.figure.Figure at 0x2820468b438>"
      ]
     },
     "metadata": {},
     "output_type": "display_data"
    }
   ],
   "source": [
    "plot_feature_importances(OP_RF)"
   ]
  },
  {
   "cell_type": "code",
   "execution_count": 11,
   "metadata": {
    "collapsed": false
   },
   "outputs": [
    {
     "data": {
      "image/png": "[encoded data removed]",
      "text/plain": [
       "<matplotlib.figure.Figure at 0x282056f4128>"
      ]
     },
     "metadata": {},
     "output_type": "display_data"
    }
   ],
   "source": [
    "plot_feature_importances(OP_GBM)"
   ]
  }
 ],
 "metadata": {
  "anaconda-cloud": {},
  "kernelspec": {
   "display_name": "hynix",
   "language": "python",
   "name": "lab7"
  },
  "language_info": {
   "codemirror_mode": {
    "name": "ipython",
    "version": 3
   },
   "file_extension": ".py",
   "mimetype": "text/x-python",
   "name": "python",
   "nbconvert_exporter": "python",
   "pygments_lexer": "ipython3",
   "version": "3.6.8"
  }
 },
 "nbformat": 4,
 "nbformat_minor": 2
}
