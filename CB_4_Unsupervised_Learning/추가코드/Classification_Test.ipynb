{
 "cells": [
  {
   "cell_type": "markdown",
   "metadata": {},
   "source": [
    "# Ensemble Code 2 "
   ]
  },
  {
   "cell_type": "markdown",
   "metadata": {},
   "source": [
    "### 필요한 모듈을 불러온다"
   ]
  },
  {
   "cell_type": "code",
   "execution_count": 1,
   "metadata": {
    "collapsed": false
   },
   "outputs": [
    {
     "name": "stdout",
     "output_type": "stream",
     "text": [
      "Module Ready!\n"
     ]
    }
   ],
   "source": [
    "%matplotlib inline  \n",
    "import numpy as np\n",
    "import copy\n",
    "import pandas as pd\n",
    "from sklearn.neural_network import MLPClassifier\n",
    "from sklearn.metrics import confusion_matrix\n",
    "from sklearn.ensemble import RandomForestClassifier\n",
    "from sklearn.ensemble import AdaBoostClassifier\n",
    "from sklearn.ensemble import GradientBoostingClassifier\n",
    "from sklearn.ensemble import BaggingClassifier\n",
    "from sklearn.tree import DecisionTreeClassifier\n",
    "from collections import OrderedDict\n",
    "import matplotlib.pyplot as plt\n",
    "import collections\n",
    "print(\"Module Ready!\")"
   ]
  },
  {
   "cell_type": "markdown",
   "metadata": {},
   "source": [
    "RANDOM_STATE는 실습을 위해 모델의 결과를 같게 하기 위함임"
   ]
  },
  {
   "cell_type": "code",
   "execution_count": 2,
   "metadata": {
    "collapsed": true
   },
   "outputs": [],
   "source": [
    "#############################\n",
    "RANDOM_STATE = 1026\n",
    "#############################"
   ]
  },
  {
   "cell_type": "markdown",
   "metadata": {},
   "source": [
    "## 사용할 Personal Loan 데이터셋을 불러옴\n",
    "> 1. 난수를 고정하여 8:2 = Training data : Test data로 나눔\n",
    "> 2. Training dataset의 column별 std와 mean을 이용하여 Train/Test dataset standardization 수행"
   ]
  },
  {
   "cell_type": "code",
   "execution_count": 3,
   "metadata": {
    "collapsed": false,
    "scrolled": true
   },
   "outputs": [
    {
     "name": "stdout",
     "output_type": "stream",
     "text": [
      "'Personal Loan' data column name :  ['ID', 'Age', 'Experience', 'Income', 'ZIP Code', 'Family', 'CCAvg', 'Education', 'Mortgage', 'Personal Loan', 'Securities Account', 'CD Account', 'Online', 'CreditCard']\n",
      "ID와 ZIP Code는 사용하지 않습니다. 또한 Personal Loan을 분류하는 binary classification 문제 입니다.\n",
      "Data partition complete! \n",
      "Train_Input shape : (2000, 11) \n",
      "Train_Output shape : (2000, 1)\n",
      "Test_Input shape : (500, 11) \n",
      "Test_Output shape : (500, 1)\n",
      "standardization complete!\n"
     ]
    }
   ],
   "source": [
    "# 사용할 Personal Loan 데이터셋을 불러옵니다.\n",
    "Rawdata = pd.read_csv('dataset/Personal Loan.csv')\n",
    "# Print Column names\n",
    "print(\"'Personal Loan' data column name : \", list(Rawdata.columns.values))\n",
    "print(\"ID와 ZIP Code는 사용하지 않습니다. 또한 Personal Loan을 분류하는 binary classification 문제 입니다.\")\n",
    "# Allocate column index based on Input and Output varaibles\n",
    "Input_Column_Index = np.concatenate((range(1,4),range(5,9),range(10,14)))\n",
    "Target_Column_Index = np.array([9])\n",
    "\n",
    "\n",
    "# 같은 데이터셋을 사용하기 위해서 난수를 고정합니다.\n",
    "np.random.seed(150)\n",
    "Train_Index = np.random.choice(np.shape(Rawdata)[0],int(np.shape(Rawdata)[0]*0.8),replace=False)\n",
    "\n",
    "# Input variable과 Output variable을 Numpy array로 변환합니다.\n",
    "Rawdata_Input = np.array(Rawdata)[:,Input_Column_Index]\n",
    "Rawdata_Output = np.array(Rawdata)[:,Target_Column_Index]\n",
    "\n",
    "\n",
    "# Training data와 Test data를 나누어 줍니다.\n",
    "Train_Input = Rawdata_Input[Train_Index,:]\n",
    "Train_Output = Rawdata_Output[Train_Index,:]\n",
    "Test_Input = Rawdata_Input[np.delete(range(np.shape(Rawdata)[0]),Train_Index),:]\n",
    "Test_Output = Rawdata_Output[np.delete(range(np.shape(Rawdata)[0]),Train_Index),:]\n",
    "print('Data partition complete! \\nTrain_Input shape :',np.shape(Train_Input),'\\nTrain_Output shape :',np.shape(Train_Output))\n",
    "print('Test_Input shape :',np.shape(Test_Input),'\\nTest_Output shape :',np.shape(Test_Output))\n",
    "\n",
    "# Input variable MinMax Normalization based on Training data\n",
    "\n",
    "def standardization(Data,Data2):\n",
    "    return ((Data - np.mean(Data2, axis=0)) / np.std(Data2, axis=0))\n",
    "\n",
    "Train_Input_Normalized = copy.deepcopy(standardization(Train_Input,Train_Input))\n",
    "Test_Input_Normalized = copy.deepcopy(standardization(Test_Input,Train_Input))\n",
    "print(\"standardization complete!\")"
   ]
  },
  {
   "cell_type": "code",
   "execution_count": 4,
   "metadata": {
    "collapsed": true
   },
   "outputs": [],
   "source": [
    "# 평가지표를 위한 함수를 생성한다.\n",
    "def Valid_Index(Data,NAME):\n",
    "    Accuracy = (Data[0,0]+Data[1,1])/np.sum(Data)\n",
    "    TPR = Data[1,1]/np.sum(Data[1,:])\n",
    "    TNR = Data[0,0]/np.sum(Data[0,:])\n",
    "    Precision = Data[1,1]/np.sum(Data[:,1])\n",
    "    BCR = np.sqrt(TPR*TNR)\n",
    "    F1 = (2*TPR*Precision)/(TPR+Precision)\n",
    "    TMP=pd.DataFrame({'Model' : NAME,\n",
    "                  'Accuracy' : [Accuracy],\n",
    "                  'TPR': [TPR],\n",
    "                  'TNR': [TNR],\n",
    "                  'Precision': [Precision],\n",
    "                  'BCR': [BCR],\n",
    "                  'F1': [F1]})\n",
    "    Results=TMP[['Model','Accuracy','F1','BCR','Precision','TPR','TNR']]\n",
    "    return(Results)\n",
    "\n"
   ]
  },
  {
   "cell_type": "markdown",
   "metadata": {},
   "source": [
    "# Model1. Neural network"
   ]
  },
  {
   "cell_type": "code",
   "execution_count": 5,
   "metadata": {
    "collapsed": true
   },
   "outputs": [],
   "source": [
    "###############################################\n",
    "# Neural Network Hyperparameter Set\n",
    "###############################################\n",
    "ACTIVATION = 'tanh'        \n",
    "SOLVER = 'adam'            \n",
    "BATCH_SIZE = 32            \n",
    "HIDDEN_LAYER= [10,10,10]   \n",
    "TR_INPUT = Train_Input     \n",
    "TR_OUTPUT = Train_Output[:,0]\n",
    "Iterlation = 3000\n",
    "L2_Penalty = 0.001\n",
    "Visualization = False \n",
    "Validation_Percent = 0.0 \n",
    "Decay_Method = 'invscaling'\n",
    "Power_Value = 0.5          \n",
    "Tolerence_Value = 1e-04 \n",
    "###############################################\n",
    "\n",
    "def NeuralNetwork(HIDDEN_LAYER,Train_Input,TR_OUTPUT,Val_Input,Val_Output):\n",
    "    MLP=MLPClassifier(activation=ACTIVATION,solver=SOLVER,alpha=L2_Penalty,\n",
    "                      hidden_layer_sizes=HIDDEN_LAYER,\n",
    "                      batch_size=BATCH_SIZE,max_iter=Iterlation,verbose=Visualization,early_stopping=False,power_t=Power_Value,\n",
    "                      validation_fraction=Validation_Percent,learning_rate=Decay_Method,tol=Tolerence_Value,\n",
    "                      random_state =RANDOM_STATE).fit(Train_Input,TR_OUTPUT[:,0])\n",
    "    Predict_Value = MLP.predict(Val_Input)\n",
    "    return(np.concatenate((Predict_Value[:,np.newaxis],Val_Output),axis=1))\n",
    "\n",
    "Model1=NeuralNetwork(HIDDEN_LAYER=[20],Train_Input=Train_Input_Normalized,\n",
    "              TR_OUTPUT=Train_Output,Val_Input=Test_Input_Normalized,Val_Output=Test_Output)"
   ]
  },
  {
   "cell_type": "code",
   "execution_count": 6,
   "metadata": {
    "collapsed": false,
    "scrolled": true
   },
   "outputs": [
    {
     "data": {
      "text/html": [
       "<div>\n",
       "<table border=\"1\" class=\"dataframe\">\n",
       "  <thead>\n",
       "    <tr style=\"text-align: right;\">\n",
       "      <th></th>\n",
       "      <th>Model</th>\n",
       "      <th>Accuracy</th>\n",
       "      <th>F1</th>\n",
       "      <th>BCR</th>\n",
       "      <th>Precision</th>\n",
       "      <th>TPR</th>\n",
       "      <th>TNR</th>\n",
       "    </tr>\n",
       "  </thead>\n",
       "  <tbody>\n",
       "    <tr>\n",
       "      <th>0</th>\n",
       "      <td>Neuralnetwork</td>\n",
       "      <td>0.982</td>\n",
       "      <td>0.917431</td>\n",
       "      <td>0.941714</td>\n",
       "      <td>0.943396</td>\n",
       "      <td>0.892857</td>\n",
       "      <td>0.993243</td>\n",
       "    </tr>\n",
       "  </tbody>\n",
       "</table>\n",
       "</div>"
      ],
      "text/plain": [
       "           Model  Accuracy        F1       BCR  Precision       TPR       TNR\n",
       "0  Neuralnetwork     0.982  0.917431  0.941714   0.943396  0.892857  0.993243"
      ]
     },
     "execution_count": 6,
     "metadata": {},
     "output_type": "execute_result"
    }
   ],
   "source": [
    "Model1_Results=Valid_Index(confusion_matrix(Model1[:,1],Model1[:,0]),\"Neuralnetwork\")\n",
    "Model1_Results"
   ]
  },
  {
   "cell_type": "markdown",
   "metadata": {},
   "source": [
    "# Model2. RandomForest"
   ]
  },
  {
   "cell_type": "code",
   "execution_count": 7,
   "metadata": {
    "collapsed": false
   },
   "outputs": [],
   "source": [
    "def RandomForest(NUMBER,Train_Input,TR_OUTPUT,Val_Input,Val_Output):\n",
    "    RF=RandomForestClassifier(n_estimators=NUMBER,\n",
    "                           max_features=\"sqrt\",\n",
    "                           random_state=RANDOM_STATE).fit(Train_Input,TR_OUTPUT[:,0])\n",
    "\n",
    "    Predict_Value = RF.predict(Val_Input)\n",
    "    return(np.concatenate((Predict_Value[:,np.newaxis],Val_Output),axis=1))\n",
    "\n",
    "\n",
    "Model2=RandomForest(NUMBER=150,Train_Input=Train_Input_Normalized,\n",
    "              TR_OUTPUT=Train_Output,Val_Input=Test_Input_Normalized,Val_Output=Test_Output)\n"
   ]
  },
  {
   "cell_type": "code",
   "execution_count": 8,
   "metadata": {
    "collapsed": false,
    "scrolled": true
   },
   "outputs": [
    {
     "data": {
      "text/html": [
       "<div>\n",
       "<table border=\"1\" class=\"dataframe\">\n",
       "  <thead>\n",
       "    <tr style=\"text-align: right;\">\n",
       "      <th></th>\n",
       "      <th>Model</th>\n",
       "      <th>Accuracy</th>\n",
       "      <th>F1</th>\n",
       "      <th>BCR</th>\n",
       "      <th>Precision</th>\n",
       "      <th>TPR</th>\n",
       "      <th>TNR</th>\n",
       "    </tr>\n",
       "  </thead>\n",
       "  <tbody>\n",
       "    <tr>\n",
       "      <th>0</th>\n",
       "      <td>RandomForset</td>\n",
       "      <td>0.984</td>\n",
       "      <td>0.927273</td>\n",
       "      <td>0.951084</td>\n",
       "      <td>0.944444</td>\n",
       "      <td>0.910714</td>\n",
       "      <td>0.993243</td>\n",
       "    </tr>\n",
       "  </tbody>\n",
       "</table>\n",
       "</div>"
      ],
      "text/plain": [
       "          Model  Accuracy        F1       BCR  Precision       TPR       TNR\n",
       "0  RandomForset     0.984  0.927273  0.951084   0.944444  0.910714  0.993243"
      ]
     },
     "execution_count": 8,
     "metadata": {},
     "output_type": "execute_result"
    }
   ],
   "source": [
    "Model2_Results=Valid_Index(confusion_matrix(Model2[:,1],Model2[:,0]),\"RandomForset\")\n",
    "Model2_Results"
   ]
  },
  {
   "cell_type": "markdown",
   "metadata": {},
   "source": [
    "# Model3. Adaboost"
   ]
  },
  {
   "cell_type": "code",
   "execution_count": 9,
   "metadata": {
    "collapsed": true
   },
   "outputs": [],
   "source": [
    "def AdaBoost(NUMBER,Train_Input,TR_OUTPUT,Val_Input,Val_Output):\n",
    "    ADA=AdaBoostClassifier(DecisionTreeClassifier(max_depth=1),n_estimators=NUMBER,algorithm=\"SAMME\",\n",
    "                           random_state=RANDOM_STATE).fit(Train_Input,TR_OUTPUT[:,0])\n",
    "    Predict_Value = ADA.predict(Val_Input)\n",
    "    return(np.concatenate((Predict_Value[:,np.newaxis],Val_Output),axis=1))\n",
    "\n",
    "\n",
    "Model3=AdaBoost(NUMBER=300,Train_Input=Train_Input_Normalized,\n",
    "              TR_OUTPUT=Train_Output,Val_Input=Test_Input_Normalized,Val_Output=Test_Output)"
   ]
  },
  {
   "cell_type": "code",
   "execution_count": 10,
   "metadata": {
    "collapsed": false,
    "scrolled": true
   },
   "outputs": [
    {
     "data": {
      "text/html": [
       "<div>\n",
       "<table border=\"1\" class=\"dataframe\">\n",
       "  <thead>\n",
       "    <tr style=\"text-align: right;\">\n",
       "      <th></th>\n",
       "      <th>Model</th>\n",
       "      <th>Accuracy</th>\n",
       "      <th>F1</th>\n",
       "      <th>BCR</th>\n",
       "      <th>Precision</th>\n",
       "      <th>TPR</th>\n",
       "      <th>TNR</th>\n",
       "    </tr>\n",
       "  </thead>\n",
       "  <tbody>\n",
       "    <tr>\n",
       "      <th>0</th>\n",
       "      <td>Adaboost</td>\n",
       "      <td>0.978</td>\n",
       "      <td>0.895238</td>\n",
       "      <td>0.91406</td>\n",
       "      <td>0.959184</td>\n",
       "      <td>0.839286</td>\n",
       "      <td>0.995495</td>\n",
       "    </tr>\n",
       "  </tbody>\n",
       "</table>\n",
       "</div>"
      ],
      "text/plain": [
       "      Model  Accuracy        F1      BCR  Precision       TPR       TNR\n",
       "0  Adaboost     0.978  0.895238  0.91406   0.959184  0.839286  0.995495"
      ]
     },
     "execution_count": 10,
     "metadata": {},
     "output_type": "execute_result"
    }
   ],
   "source": [
    "Model3_Results=Valid_Index(confusion_matrix(Model3[:,1],Model3[:,0]),\"Adaboost\")\n",
    "Model3_Results"
   ]
  },
  {
   "cell_type": "markdown",
   "metadata": {},
   "source": [
    "# Model4. Bagging ANN"
   ]
  },
  {
   "cell_type": "code",
   "execution_count": 11,
   "metadata": {
    "collapsed": false
   },
   "outputs": [],
   "source": [
    "def B_NeuralNetwork(HIDDEN_LAYER,Train_Input,TR_OUTPUT,Val_Input,Val_Output):\n",
    "    MLP=MLPClassifier(activation=ACTIVATION,solver=SOLVER,alpha=L2_Penalty,\n",
    "                      hidden_layer_sizes=HIDDEN_LAYER,max_iter=3000,\n",
    "                      batch_size=BATCH_SIZE,verbose=Visualization,early_stopping=False,power_t=Power_Value,\n",
    "                      validation_fraction=Validation_Percent,learning_rate=Decay_Method,tol=Tolerence_Value,random_state =RANDOM_STATE)\n",
    "    BMLP = BaggingClassifier(n_estimators=30, base_estimator=MLP, random_state=RANDOM_STATE, n_jobs=-1).fit(Train_Input, TR_OUTPUT[:, 0])\n",
    "    Predict_Value = BMLP.predict(Val_Input)\n",
    "    return(np.concatenate((Predict_Value[:,np.newaxis],Val_Output),axis=1))\n",
    "\n",
    "\n",
    "Model4=B_NeuralNetwork(HIDDEN_LAYER=[20,20],Train_Input=Train_Input_Normalized,\n",
    "              TR_OUTPUT=Train_Output,Val_Input=Test_Input_Normalized,Val_Output=Test_Output)"
   ]
  },
  {
   "cell_type": "code",
   "execution_count": 12,
   "metadata": {
    "collapsed": false,
    "scrolled": true
   },
   "outputs": [
    {
     "data": {
      "text/html": [
       "<div>\n",
       "<table border=\"1\" class=\"dataframe\">\n",
       "  <thead>\n",
       "    <tr style=\"text-align: right;\">\n",
       "      <th></th>\n",
       "      <th>Model</th>\n",
       "      <th>Accuracy</th>\n",
       "      <th>F1</th>\n",
       "      <th>BCR</th>\n",
       "      <th>Precision</th>\n",
       "      <th>TPR</th>\n",
       "      <th>TNR</th>\n",
       "    </tr>\n",
       "  </thead>\n",
       "  <tbody>\n",
       "    <tr>\n",
       "      <th>0</th>\n",
       "      <td>B_Neuralnetwork</td>\n",
       "      <td>0.978</td>\n",
       "      <td>0.900901</td>\n",
       "      <td>0.939576</td>\n",
       "      <td>0.909091</td>\n",
       "      <td>0.892857</td>\n",
       "      <td>0.988739</td>\n",
       "    </tr>\n",
       "  </tbody>\n",
       "</table>\n",
       "</div>"
      ],
      "text/plain": [
       "             Model  Accuracy        F1       BCR  Precision       TPR  \\\n",
       "0  B_Neuralnetwork     0.978  0.900901  0.939576   0.909091  0.892857   \n",
       "\n",
       "        TNR  \n",
       "0  0.988739  "
      ]
     },
     "execution_count": 12,
     "metadata": {},
     "output_type": "execute_result"
    }
   ],
   "source": [
    "Model4_Results=Valid_Index(confusion_matrix(Model4[:,1],Model4[:,0]),\"B_Neuralnetwork\")\n",
    "Model4_Results"
   ]
  },
  {
   "cell_type": "markdown",
   "metadata": {},
   "source": [
    "# Model5. Bagging Decision Tree"
   ]
  },
  {
   "cell_type": "code",
   "execution_count": 13,
   "metadata": {
    "collapsed": false
   },
   "outputs": [],
   "source": [
    "def B_Tree(NUMBER,Train_Input,TR_OUTPUT,Val_Input,Val_Output):\n",
    "    Tree = DecisionTreeClassifier(max_depth=NUMBER, random_state=RANDOM_STATE).fit(Train_Input, TR_OUTPUT[:, 0])\n",
    "    BMLP = BaggingClassifier(n_estimators=30, base_estimator=Tree, random_state=RANDOM_STATE, n_jobs=-1).fit(Train_Input, TR_OUTPUT[:, 0])\n",
    "    Predict_Value = BMLP.predict(Val_Input)\n",
    "    return(np.concatenate((Predict_Value[:,np.newaxis],Val_Output),axis=1))\n",
    "\n",
    "\n",
    "Model5=B_Tree(NUMBER=6,Train_Input=Train_Input_Normalized,\n",
    "              TR_OUTPUT=Train_Output,Val_Input=Test_Input_Normalized,Val_Output=Test_Output)"
   ]
  },
  {
   "cell_type": "code",
   "execution_count": 14,
   "metadata": {
    "collapsed": false,
    "scrolled": false
   },
   "outputs": [
    {
     "data": {
      "text/html": [
       "<div>\n",
       "<table border=\"1\" class=\"dataframe\">\n",
       "  <thead>\n",
       "    <tr style=\"text-align: right;\">\n",
       "      <th></th>\n",
       "      <th>Model</th>\n",
       "      <th>Accuracy</th>\n",
       "      <th>F1</th>\n",
       "      <th>BCR</th>\n",
       "      <th>Precision</th>\n",
       "      <th>TPR</th>\n",
       "      <th>TNR</th>\n",
       "    </tr>\n",
       "  </thead>\n",
       "  <tbody>\n",
       "    <tr>\n",
       "      <th>0</th>\n",
       "      <td>B_Tree</td>\n",
       "      <td>0.982</td>\n",
       "      <td>0.920354</td>\n",
       "      <td>0.958183</td>\n",
       "      <td>0.912281</td>\n",
       "      <td>0.928571</td>\n",
       "      <td>0.988739</td>\n",
       "    </tr>\n",
       "  </tbody>\n",
       "</table>\n",
       "</div>"
      ],
      "text/plain": [
       "    Model  Accuracy        F1       BCR  Precision       TPR       TNR\n",
       "0  B_Tree     0.982  0.920354  0.958183   0.912281  0.928571  0.988739"
      ]
     },
     "execution_count": 14,
     "metadata": {},
     "output_type": "execute_result"
    }
   ],
   "source": [
    "Model5_Results=Valid_Index(confusion_matrix(Model5[:,1],Model5[:,0]),\"B_Tree\")\n",
    "Model5_Results"
   ]
  },
  {
   "cell_type": "markdown",
   "metadata": {},
   "source": [
    "# Model6. Gradient Boosting Machine"
   ]
  },
  {
   "cell_type": "code",
   "execution_count": 15,
   "metadata": {
    "collapsed": true
   },
   "outputs": [],
   "source": [
    "def GBM(NUMBER,Train_Input,TR_OUTPUT,Val_Input,Val_Output):\n",
    "    gbm=GradientBoostingClassifier(n_estimators=NUMBER,random_state=RANDOM_STATE).fit(Train_Input,TR_OUTPUT[:,0])\n",
    "    Predict_Value = gbm.predict(Val_Input)\n",
    "    return(np.concatenate((Predict_Value[:,np.newaxis],Val_Output),axis=1))\n",
    "\n",
    "Model6=GBM(NUMBER=50,Train_Input=Train_Input_Normalized,\n",
    "              TR_OUTPUT=Train_Output,Val_Input=Test_Input_Normalized,Val_Output=Test_Output)"
   ]
  },
  {
   "cell_type": "code",
   "execution_count": 16,
   "metadata": {
    "collapsed": false
   },
   "outputs": [
    {
     "data": {
      "text/html": [
       "<div>\n",
       "<table border=\"1\" class=\"dataframe\">\n",
       "  <thead>\n",
       "    <tr style=\"text-align: right;\">\n",
       "      <th></th>\n",
       "      <th>Model</th>\n",
       "      <th>Accuracy</th>\n",
       "      <th>F1</th>\n",
       "      <th>BCR</th>\n",
       "      <th>Precision</th>\n",
       "      <th>TPR</th>\n",
       "      <th>TNR</th>\n",
       "    </tr>\n",
       "  </thead>\n",
       "  <tbody>\n",
       "    <tr>\n",
       "      <th>0</th>\n",
       "      <td>GBM</td>\n",
       "      <td>0.984</td>\n",
       "      <td>0.928571</td>\n",
       "      <td>0.959274</td>\n",
       "      <td>0.928571</td>\n",
       "      <td>0.928571</td>\n",
       "      <td>0.990991</td>\n",
       "    </tr>\n",
       "  </tbody>\n",
       "</table>\n",
       "</div>"
      ],
      "text/plain": [
       "  Model  Accuracy        F1       BCR  Precision       TPR       TNR\n",
       "0   GBM     0.984  0.928571  0.959274   0.928571  0.928571  0.990991"
      ]
     },
     "execution_count": 16,
     "metadata": {},
     "output_type": "execute_result"
    }
   ],
   "source": [
    "Model6_Results=Valid_Index(confusion_matrix(Model6[:,1],Model6[:,0]),\"GBM\")\n",
    "Model6_Results"
   ]
  },
  {
   "cell_type": "code",
   "execution_count": 17,
   "metadata": {
    "collapsed": false
   },
   "outputs": [
    {
     "data": {
      "text/html": [
       "<div>\n",
       "<table border=\"1\" class=\"dataframe\">\n",
       "  <thead>\n",
       "    <tr style=\"text-align: right;\">\n",
       "      <th></th>\n",
       "      <th>Model</th>\n",
       "      <th>Accuracy</th>\n",
       "      <th>F1</th>\n",
       "      <th>BCR</th>\n",
       "      <th>Precision</th>\n",
       "      <th>TPR</th>\n",
       "      <th>TNR</th>\n",
       "    </tr>\n",
       "  </thead>\n",
       "  <tbody>\n",
       "    <tr>\n",
       "      <th>0</th>\n",
       "      <td>GBM</td>\n",
       "      <td>0.984</td>\n",
       "      <td>0.928571</td>\n",
       "      <td>0.959274</td>\n",
       "      <td>0.928571</td>\n",
       "      <td>0.928571</td>\n",
       "      <td>0.990991</td>\n",
       "    </tr>\n",
       "    <tr>\n",
       "      <th>0</th>\n",
       "      <td>RandomForset</td>\n",
       "      <td>0.984</td>\n",
       "      <td>0.927273</td>\n",
       "      <td>0.951084</td>\n",
       "      <td>0.944444</td>\n",
       "      <td>0.910714</td>\n",
       "      <td>0.993243</td>\n",
       "    </tr>\n",
       "    <tr>\n",
       "      <th>0</th>\n",
       "      <td>B_Tree</td>\n",
       "      <td>0.982</td>\n",
       "      <td>0.920354</td>\n",
       "      <td>0.958183</td>\n",
       "      <td>0.912281</td>\n",
       "      <td>0.928571</td>\n",
       "      <td>0.988739</td>\n",
       "    </tr>\n",
       "    <tr>\n",
       "      <th>0</th>\n",
       "      <td>Neuralnetwork</td>\n",
       "      <td>0.982</td>\n",
       "      <td>0.917431</td>\n",
       "      <td>0.941714</td>\n",
       "      <td>0.943396</td>\n",
       "      <td>0.892857</td>\n",
       "      <td>0.993243</td>\n",
       "    </tr>\n",
       "    <tr>\n",
       "      <th>0</th>\n",
       "      <td>B_Neuralnetwork</td>\n",
       "      <td>0.978</td>\n",
       "      <td>0.900901</td>\n",
       "      <td>0.939576</td>\n",
       "      <td>0.909091</td>\n",
       "      <td>0.892857</td>\n",
       "      <td>0.988739</td>\n",
       "    </tr>\n",
       "    <tr>\n",
       "      <th>0</th>\n",
       "      <td>Adaboost</td>\n",
       "      <td>0.978</td>\n",
       "      <td>0.895238</td>\n",
       "      <td>0.914060</td>\n",
       "      <td>0.959184</td>\n",
       "      <td>0.839286</td>\n",
       "      <td>0.995495</td>\n",
       "    </tr>\n",
       "  </tbody>\n",
       "</table>\n",
       "</div>"
      ],
      "text/plain": [
       "             Model  Accuracy        F1       BCR  Precision       TPR  \\\n",
       "0              GBM     0.984  0.928571  0.959274   0.928571  0.928571   \n",
       "0     RandomForset     0.984  0.927273  0.951084   0.944444  0.910714   \n",
       "0           B_Tree     0.982  0.920354  0.958183   0.912281  0.928571   \n",
       "0    Neuralnetwork     0.982  0.917431  0.941714   0.943396  0.892857   \n",
       "0  B_Neuralnetwork     0.978  0.900901  0.939576   0.909091  0.892857   \n",
       "0         Adaboost     0.978  0.895238  0.914060   0.959184  0.839286   \n",
       "\n",
       "        TNR  \n",
       "0  0.990991  \n",
       "0  0.993243  \n",
       "0  0.988739  \n",
       "0  0.993243  \n",
       "0  0.988739  \n",
       "0  0.995495  "
      ]
     },
     "execution_count": 17,
     "metadata": {},
     "output_type": "execute_result"
    }
   ],
   "source": [
    "Results=pd.concat((Model1_Results,Model2_Results,Model3_Results,\n",
    "          Model4_Results,Model5_Results,Model6_Results),axis=0)\n",
    "Results = Results.sort_values(by=['F1'],ascending=False)\n",
    "Results"
   ]
  },
  {
   "cell_type": "markdown",
   "metadata": {},
   "source": [
    "# Feature Importance"
   ]
  },
  {
   "cell_type": "code",
   "execution_count": 18,
   "metadata": {
    "collapsed": true
   },
   "outputs": [],
   "source": [
    "Use_Feature_Name=list(np.array(list(Rawdata.columns.values))[np.concatenate((range(1,4),range(5,9),range(10,14)))])\n",
    "OP_RF=RandomForestClassifier(n_estimators=150,max_features=\"sqrt\",\n",
    "                           random_state=RANDOM_STATE).fit(Train_Input_Normalized,Train_Output[:,0])\n",
    "OP_GBM=GradientBoostingClassifier(n_estimators=50,\n",
    "                           random_state=RANDOM_STATE).fit(Train_Input_Normalized,Train_Output[:,0])\n",
    "\n",
    "def plot_feature_importances(model):\n",
    "    n_features = np.shape(Train_Input_Normalized)[1]\n",
    "    plt.barh(range(n_features), model.feature_importances_, align='center')\n",
    "    plt.yticks(np.arange(n_features), Use_Feature_Name)\n",
    "    plt.xlabel(\"Feature importance\")\n",
    "    plt.ylabel(\"Feature\")\n",
    "    plt.ylim(-1, n_features)\n",
    "    plt.rcParams.update({'font.size': 8})"
   ]
  },
  {
   "cell_type": "code",
   "execution_count": 19,
   "metadata": {
    "collapsed": false
   },
   "outputs": [
    {
     "data": {
      "image/png": "[encoded data removed]",
      "text/plain": [
       "<matplotlib.figure.Figure at 0x1a2d5b822b0>"
      ]
     },
     "metadata": {},
     "output_type": "display_data"
    }
   ],
   "source": [
    "plot_feature_importances(OP_RF)"
   ]
  },
  {
   "cell_type": "code",
   "execution_count": 20,
   "metadata": {
    "collapsed": false
   },
   "outputs": [
    {
     "data": {
      "image/png": "[encoded data removed]",
      "text/plain": [
       "<matplotlib.figure.Figure at 0x1a2d5b820b8>"
      ]
     },
     "metadata": {},
     "output_type": "display_data"
    }
   ],
   "source": [
    "plot_feature_importances(OP_GBM)"
   ]
  }
 ],
 "metadata": {
  "anaconda-cloud": {},
  "kernelspec": {
   "display_name": "hynix",
   "language": "python",
   "name": "lab7"
  },
  "language_info": {
   "codemirror_mode": {
    "name": "ipython",
    "version": 3
   },
   "file_extension": ".py",
   "mimetype": "text/x-python",
   "name": "python",
   "nbconvert_exporter": "python",
   "pygments_lexer": "ipython3",
   "version": "3.6.8"
  }
 },
 "nbformat": 4,
 "nbformat_minor": 2
}
