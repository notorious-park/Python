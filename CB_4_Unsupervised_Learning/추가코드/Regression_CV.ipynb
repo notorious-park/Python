{
 "cells": [
  {
   "cell_type": "markdown",
   "metadata": {},
   "source": [
    "# Ensemble Code 3  - Regression Cross Validation"
   ]
  },
  {
   "cell_type": "markdown",
   "metadata": {},
   "source": [
    "### 필요한 모듈을 불러온다"
   ]
  },
  {
   "cell_type": "code",
   "execution_count": 1,
   "metadata": {
    "collapsed": false
   },
   "outputs": [
    {
     "name": "stdout",
     "output_type": "stream",
     "text": [
      "Module Ready!\n"
     ]
    }
   ],
   "source": [
    "import numpy as np\n",
    "import copy\n",
    "import pandas as pd\n",
    "import matplotlib.pyplot as plt\n",
    "import collections\n",
    "from sklearn.neural_network import MLPRegressor\n",
    "from sklearn.metrics import mean_squared_error\n",
    "from sklearn.metrics import mean_absolute_error\n",
    "from sklearn.ensemble import BaggingRegressor\n",
    "from sklearn.ensemble import RandomForestRegressor\n",
    "from sklearn.ensemble import GradientBoostingRegressor\n",
    "from sklearn.ensemble import BaggingRegressor\n",
    "from sklearn.tree import DecisionTreeRegressor\n",
    "print(\"Module Ready!\")"
   ]
  },
  {
   "cell_type": "markdown",
   "metadata": {},
   "source": [
    "### 사용할 데이터를 불러오며 데이터 전처리함\n",
    "> ##### 1. Fold_Value는 CV Fold갯수를 의미하며 3으로 입력\n",
    "> ##### 2. 사용할 데이터 mortgage를 불러오며 standardization함\n",
    "> ##### 3.난수 고정하여  training:test = 8:2 사용"
   ]
  },
  {
   "cell_type": "code",
   "execution_count": 2,
   "metadata": {
    "collapsed": false
   },
   "outputs": [
    {
     "name": "stdout",
     "output_type": "stream",
     "text": [
      "'mortgage' data column name :  ['OneMonthCDRate', 'OneY.CMaturityRate', 'ThreeM.Rate.AuctionAverage', 'ThreeM.Rate.SecondaryMarket', 'ThreeY.CMaturityRate', 'FiveY.CMaturityRate', 'BankCredit', 'Currency', 'DemandDeposits', 'FederalFunds', 'MoneyStock', 'CheckableDeposits', 'LoansLeases', 'SavingsDeposits', 'TradeCurrencies', 'ThirtyY.CMortgageRate']\n",
      "Data partition complete! \n",
      "Train_Input shape : (839, 15) \n",
      "Train_Output shape : (839, 1)\n",
      "Test_Input shape : (210, 15) \n",
      "Test_Output shape : (210, 1)\n",
      "standardization complete!\n"
     ]
    }
   ],
   "source": [
    "#############################\n",
    "FOLD_VALUE = 3\n",
    "RANDOM_STATE = 1026\n",
    "#############################\n",
    "\n",
    "def mean_absolute_percentage_error(Data):\n",
    "    return(np.mean(np.abs(Data[:, 1]-Data[:, 0])/Data[:, 1]))\n",
    "\n",
    "def Valid_Index(Data,Name):\n",
    "    return(pd.DataFrame(pd.Series({'MAE':mean_absolute_error(Data[:, 0], Data[:, 1]),\n",
    "               'MSE': mean_squared_error(Data[:, 0], Data[:, 1]),\n",
    "               'MAPE': mean_absolute_percentage_error(Data),\n",
    "               'Model': Name})).transpose())   \n",
    "\n",
    "\n",
    "# 사용할 Personal Loan 데이터셋을 불러옵니다.\n",
    "Rawdata = pd.read_csv('dataset/mortgage.csv')\n",
    "# Print Column names\n",
    "print(\"'mortgage' data column name : \", list(Rawdata.columns.values))\n",
    "# Allocate column index based on Input and Output varaibles\n",
    "\n",
    "Input_Column_Index = range(0,15)\n",
    "Target_Column_Index = np.array([15])\n",
    "\n",
    "# 같은 데이터셋을 사용하기 위해서 난수를 고정합니다.\n",
    "np.random.seed(100)\n",
    "Train_Index = np.random.choice(np.shape(Rawdata)[0],int(np.shape(Rawdata)[0]*0.8),replace=False)\n",
    "\n",
    "# Input variable과 Output variable을 Numpy array로 변환합니다.\n",
    "Rawdata_Input = np.array(Rawdata)[:,Input_Column_Index]\n",
    "Rawdata_Output = np.array(Rawdata)[:,Target_Column_Index]\n",
    "\n",
    "# Training data와 Test data를 나누어 줍니다.\n",
    "Train_Input = Rawdata_Input[Train_Index,:]\n",
    "Train_Output = Rawdata_Output[Train_Index,:]\n",
    "Test_Input = Rawdata_Input[np.delete(range(np.shape(Rawdata)[0]),Train_Index),:]\n",
    "Test_Output = Rawdata_Output[np.delete(range(np.shape(Rawdata)[0]),Train_Index),:]\n",
    "print('Data partition complete! \\nTrain_Input shape :',np.shape(Train_Input),'\\nTrain_Output shape :',np.shape(Train_Output))\n",
    "print('Test_Input shape :',np.shape(Test_Input),'\\nTest_Output shape :',np.shape(Test_Output))\n",
    "\n",
    "def standardization(Data,Data2):\n",
    "    return ((Data - np.mean(Data2, axis=0)) / np.std(Data2, axis=0))\n",
    "\n",
    "Train_Input_Normalized = copy.deepcopy(standardization(Train_Input,Train_Input))\n",
    "Test_Input_Normalized = copy.deepcopy(standardization(Test_Input,Train_Input))\n",
    "print(\"standardization complete!\")\n",
    "\n",
    "\n",
    "# Best Hyperparameter를 찾기위하여 3-Fold Cross Validation을 한다\n",
    "def k_Fold_Maker(InputData,OutputData,Partition_Number):\n",
    "    Index = 0\n",
    "    Input_List = list()\n",
    "    Output_List = list()\n",
    "    Length = int(np.floor(np.shape(InputData)[0]/Partition_Number))\n",
    "    for i in range(Partition_Number):\n",
    "        if(i == (Partition_Number-1)):\n",
    "            Input_List.append(InputData[range(Index+(Length* i), np.shape(InputData)[0]), :])\n",
    "            Output_List.append(OutputData[range(Index+(Length* i), np.shape(InputData)[0]), :])\n",
    "        else:\n",
    "            Input_List.append(InputData[range(Index + (Length * i), Index + (Length * (i + 1))), :])\n",
    "            Output_List.append(OutputData[range(Index + (Length * i), Index + (Length * (i + 1))), :])\n",
    "    return(Input_List,Output_List)\n",
    "\n",
    "\n",
    "# Make 3-Fold dataset for Cross validation\n",
    "Fold_Input, Fold_Output = k_Fold_Maker(Train_Input_Normalized, Train_Output, FOLD_VALUE)\n",
    "\n",
    "# Cross validation을 위한 함수\n",
    "def CV_Result_Each_Model(Hyper_Para,Model):\n",
    "# 모든 결과를 담을 객체\n",
    "    FULL_Results = list()\n",
    "    for i in range(FOLD_VALUE):\n",
    "        Tr_Index = np.delete(range(FOLD_VALUE),i) #Training 에 사용할 Fold Index\n",
    "        Val_Index = i                    #Validation에 사용할 Fold Index\n",
    "\n",
    "        TRAIN_INPUT  = list()\n",
    "        TRAIN_OUTPUT = list()\n",
    "        for j in Tr_Index:\n",
    "            TRAIN_INPUT.append(Fold_Input[j])\n",
    "            TRAIN_OUTPUT.append(Fold_Output[j])\n",
    "        TRAIN_INPUT = np.concatenate(TRAIN_INPUT)\n",
    "        TRAIN_OUTPUT = np.concatenate(TRAIN_OUTPUT)\n",
    "        VALID_INPUT = Fold_Input[i]\n",
    "        VALID_OUTPUT = Fold_Output[i]\n",
    "        FULL_Results.append(Model(Hyper_Para,TRAIN_INPUT,TRAIN_OUTPUT,VALID_INPUT,VALID_OUTPUT))\n",
    "    print(\"CV Complete!\")\n",
    "    FULL_Results=np.concatenate(FULL_Results,axis=0)\n",
    "    return(FULL_Results)"
   ]
  },
  {
   "cell_type": "markdown",
   "metadata": {},
   "source": [
    "# Model1. Neural network\n",
    "## Neuralnetwork 함수와 3Fold CV를 위해 함수를 생성 후 이행"
   ]
  },
  {
   "cell_type": "code",
   "execution_count": 3,
   "metadata": {
    "collapsed": false
   },
   "outputs": [
    {
     "name": "stdout",
     "output_type": "stream",
     "text": [
      "CV Complete!\n",
      "CV Complete!\n",
      "CV Complete!\n",
      "CV Complete!\n",
      "CV Complete!\n",
      "CV Complete!\n"
     ]
    }
   ],
   "source": [
    "def NeuralNetwork(HIDDEN_LAYER,Train_Input,TR_OUTPUT,Val_Input,Val_Output):\n",
    "    MLP=MLPRegressor(hidden_layer_sizes=HIDDEN_LAYER,max_iter=2000 ,random_state =RANDOM_STATE).fit(Train_Input,TR_OUTPUT[:,0])\n",
    "    Predict_Value = MLP.predict(Val_Input)\n",
    "    return(np.concatenate((Predict_Value[:,np.newaxis],Val_Output),axis=1))\n",
    "\n",
    "\n",
    "# 자 이제 NeuralNet을 기준으로 여러가지를 3-Fold CV를 해보도록 한다.\n",
    "One_Layer_Node_10 = CV_Result_Each_Model([10],NeuralNetwork)\n",
    "One_Layer_Node_20 = CV_Result_Each_Model([20],NeuralNetwork)\n",
    "Two_Layer_Node_10 = CV_Result_Each_Model([10,10],NeuralNetwork)\n",
    "Two_Layer_Node_20 = CV_Result_Each_Model([20,20],NeuralNetwork)\n",
    "Three_Layer_Node_10 = CV_Result_Each_Model([10,10,10],NeuralNetwork)\n",
    "Three_Layer_Node_20 = CV_Result_Each_Model([20,20,20],NeuralNetwork)\n",
    "\n",
    "Results=pd.concat((Valid_Index(One_Layer_Node_10,'One_10'),\n",
    "Valid_Index(One_Layer_Node_20,'One_20'),\n",
    "Valid_Index(Two_Layer_Node_10,'Two_10'),\n",
    "Valid_Index(Two_Layer_Node_20,'Two_20'),\n",
    "Valid_Index(Three_Layer_Node_10,'Three_10'),\n",
    "Valid_Index(Three_Layer_Node_20,'Three_20')))"
   ]
  },
  {
   "cell_type": "code",
   "execution_count": 4,
   "metadata": {
    "collapsed": false
   },
   "outputs": [
    {
     "data": {
      "text/html": [
       "<div>\n",
       "<table border=\"1\" class=\"dataframe\">\n",
       "  <thead>\n",
       "    <tr style=\"text-align: right;\">\n",
       "      <th></th>\n",
       "      <th>MAE</th>\n",
       "      <th>MAPE</th>\n",
       "      <th>MSE</th>\n",
       "      <th>Model</th>\n",
       "    </tr>\n",
       "  </thead>\n",
       "  <tbody>\n",
       "    <tr>\n",
       "      <th>0</th>\n",
       "      <td>0.156144</td>\n",
       "      <td>0.0234561</td>\n",
       "      <td>0.0490068</td>\n",
       "      <td>Three_20</td>\n",
       "    </tr>\n",
       "    <tr>\n",
       "      <th>0</th>\n",
       "      <td>0.156929</td>\n",
       "      <td>0.0215356</td>\n",
       "      <td>0.0493351</td>\n",
       "      <td>Two_20</td>\n",
       "    </tr>\n",
       "    <tr>\n",
       "      <th>0</th>\n",
       "      <td>0.204422</td>\n",
       "      <td>0.0306931</td>\n",
       "      <td>0.0741966</td>\n",
       "      <td>Three_10</td>\n",
       "    </tr>\n",
       "    <tr>\n",
       "      <th>0</th>\n",
       "      <td>0.219231</td>\n",
       "      <td>0.0306848</td>\n",
       "      <td>0.0822033</td>\n",
       "      <td>One_20</td>\n",
       "    </tr>\n",
       "    <tr>\n",
       "      <th>0</th>\n",
       "      <td>0.21358</td>\n",
       "      <td>0.0298132</td>\n",
       "      <td>0.0880638</td>\n",
       "      <td>Two_10</td>\n",
       "    </tr>\n",
       "    <tr>\n",
       "      <th>0</th>\n",
       "      <td>0.241195</td>\n",
       "      <td>0.0379738</td>\n",
       "      <td>0.0934222</td>\n",
       "      <td>One_10</td>\n",
       "    </tr>\n",
       "  </tbody>\n",
       "</table>\n",
       "</div>"
      ],
      "text/plain": [
       "        MAE       MAPE        MSE     Model\n",
       "0  0.156144  0.0234561  0.0490068  Three_20\n",
       "0  0.156929  0.0215356  0.0493351    Two_20\n",
       "0  0.204422  0.0306931  0.0741966  Three_10\n",
       "0  0.219231  0.0306848  0.0822033    One_20\n",
       "0   0.21358  0.0298132  0.0880638    Two_10\n",
       "0  0.241195  0.0379738  0.0934222    One_10"
      ]
     },
     "execution_count": 4,
     "metadata": {},
     "output_type": "execute_result"
    }
   ],
   "source": [
    "ANN_Results = Results.sort_values(by=['MSE'],ascending=True)\n",
    "ANN_Results"
   ]
  },
  {
   "cell_type": "markdown",
   "metadata": {},
   "source": [
    "# Model2. Bagging Neural network\n",
    "## Neuralnetwork 함수와 3Fold CV를 위해 함수를 생성 후 이행"
   ]
  },
  {
   "cell_type": "code",
   "execution_count": 5,
   "metadata": {
    "collapsed": false
   },
   "outputs": [
    {
     "name": "stdout",
     "output_type": "stream",
     "text": [
      "CV Complete!\n",
      "CV Complete!\n"
     ]
    }
   ],
   "source": [
    "def B_NeuralNetwork(HIDDEN_LAYER,Train_Input,TR_OUTPUT,Val_Input,Val_Output):\n",
    "    MLP=MLPRegressor(hidden_layer_sizes=HIDDEN_LAYER,max_iter=2000 ,random_state =RANDOM_STATE)\n",
    "    BMLP = BaggingRegressor(n_estimators=30, base_estimator=MLP, \n",
    "                             random_state=RANDOM_STATE, n_jobs=-1).fit(Train_Input, TR_OUTPUT[:, 0])\n",
    "    Predict_Value = BMLP.predict(Val_Input)\n",
    "    return(np.concatenate((Predict_Value[:,np.newaxis],Val_Output),axis=1))\n",
    "\n",
    "# 자 이제 NeuralNet을 기준으로 여러가지를 3-Fold CV를 해보도록 한다.\n",
    "B_Three_Layer_Node_10 = CV_Result_Each_Model([10,10,10],B_NeuralNetwork)\n",
    "B_Three_Layer_Node_20 = CV_Result_Each_Model([20,20,20],B_NeuralNetwork)\n",
    "\n",
    "Results=pd.concat((Valid_Index(B_Three_Layer_Node_10,'B_Three_10'),\n",
    "Valid_Index(B_Three_Layer_Node_20,'B_Three_20')))"
   ]
  },
  {
   "cell_type": "code",
   "execution_count": 6,
   "metadata": {
    "collapsed": false
   },
   "outputs": [
    {
     "data": {
      "text/html": [
       "<div>\n",
       "<table border=\"1\" class=\"dataframe\">\n",
       "  <thead>\n",
       "    <tr style=\"text-align: right;\">\n",
       "      <th></th>\n",
       "      <th>MAE</th>\n",
       "      <th>MAPE</th>\n",
       "      <th>MSE</th>\n",
       "      <th>Model</th>\n",
       "    </tr>\n",
       "  </thead>\n",
       "  <tbody>\n",
       "    <tr>\n",
       "      <th>0</th>\n",
       "      <td>0.138131</td>\n",
       "      <td>0.018773</td>\n",
       "      <td>0.0372675</td>\n",
       "      <td>B_Three_10</td>\n",
       "    </tr>\n",
       "    <tr>\n",
       "      <th>0</th>\n",
       "      <td>0.19032</td>\n",
       "      <td>0.0266004</td>\n",
       "      <td>0.0613137</td>\n",
       "      <td>B_Three_20</td>\n",
       "    </tr>\n",
       "  </tbody>\n",
       "</table>\n",
       "</div>"
      ],
      "text/plain": [
       "        MAE       MAPE        MSE       Model\n",
       "0  0.138131   0.018773  0.0372675  B_Three_10\n",
       "0   0.19032  0.0266004  0.0613137  B_Three_20"
      ]
     },
     "execution_count": 6,
     "metadata": {},
     "output_type": "execute_result"
    }
   ],
   "source": [
    "B_ANN_Results = Results.sort_values(by=['MSE'],ascending=True)\n",
    "B_ANN_Results"
   ]
  },
  {
   "cell_type": "markdown",
   "metadata": {},
   "source": [
    "# Model3. RandomForest\n",
    "## RandomForest 함수와 3Fold CV를 위해 함수를 생성 후 이행"
   ]
  },
  {
   "cell_type": "code",
   "execution_count": 7,
   "metadata": {
    "collapsed": false
   },
   "outputs": [
    {
     "name": "stdout",
     "output_type": "stream",
     "text": [
      "CV Complete!\n",
      "CV Complete!\n",
      "CV Complete!\n",
      "CV Complete!\n"
     ]
    },
    {
     "data": {
      "text/html": [
       "<div>\n",
       "<table border=\"1\" class=\"dataframe\">\n",
       "  <thead>\n",
       "    <tr style=\"text-align: right;\">\n",
       "      <th></th>\n",
       "      <th>MAE</th>\n",
       "      <th>MAPE</th>\n",
       "      <th>MSE</th>\n",
       "      <th>Model</th>\n",
       "    </tr>\n",
       "  </thead>\n",
       "  <tbody>\n",
       "    <tr>\n",
       "      <th>0</th>\n",
       "      <td>0.0961123</td>\n",
       "      <td>0.0118863</td>\n",
       "      <td>0.0278078</td>\n",
       "      <td>RF200_CV</td>\n",
       "    </tr>\n",
       "    <tr>\n",
       "      <th>0</th>\n",
       "      <td>0.0970845</td>\n",
       "      <td>0.0120079</td>\n",
       "      <td>0.0281231</td>\n",
       "      <td>RF150_CV</td>\n",
       "    </tr>\n",
       "    <tr>\n",
       "      <th>0</th>\n",
       "      <td>0.0976325</td>\n",
       "      <td>0.0121178</td>\n",
       "      <td>0.028453</td>\n",
       "      <td>RF100_CV</td>\n",
       "    </tr>\n",
       "    <tr>\n",
       "      <th>0</th>\n",
       "      <td>0.0992081</td>\n",
       "      <td>0.0122161</td>\n",
       "      <td>0.0295819</td>\n",
       "      <td>RF50_CV</td>\n",
       "    </tr>\n",
       "  </tbody>\n",
       "</table>\n",
       "</div>"
      ],
      "text/plain": [
       "         MAE       MAPE        MSE     Model\n",
       "0  0.0961123  0.0118863  0.0278078  RF200_CV\n",
       "0  0.0970845  0.0120079  0.0281231  RF150_CV\n",
       "0  0.0976325  0.0121178   0.028453  RF100_CV\n",
       "0  0.0992081  0.0122161  0.0295819   RF50_CV"
      ]
     },
     "execution_count": 7,
     "metadata": {},
     "output_type": "execute_result"
    }
   ],
   "source": [
    "def RandomForest(NUMBER,Train_Input,TR_OUTPUT,Val_Input,Val_Output):\n",
    "    RF=RandomForestRegressor(n_estimators=NUMBER,\n",
    "                           max_features=\"sqrt\",\n",
    "                           random_state=RANDOM_STATE).fit(Train_Input,TR_OUTPUT[:,0])\n",
    "    Predict_Value = RF.predict(Val_Input)\n",
    "    return(np.concatenate((Predict_Value[:,np.newaxis],Val_Output),axis=1))    \n",
    "\n",
    "RF50_CV = CV_Result_Each_Model(50,RandomForest)\n",
    "RF100_CV = CV_Result_Each_Model(100,RandomForest)\n",
    "RF150_CV = CV_Result_Each_Model(150,RandomForest)\n",
    "RF200_CV = CV_Result_Each_Model(200,RandomForest)\n",
    "\n",
    "RF_3CV_Results=Valid_Index((RF50_CV),\"RF50_CV\").append([\n",
    "Valid_Index((RF100_CV),\"RF100_CV\"),\n",
    "Valid_Index((RF150_CV),\"RF150_CV\"),\n",
    "Valid_Index((RF200_CV),\"RF200_CV\")])\n",
    "\n",
    "RF_Results = RF_3CV_Results.sort_values(by=['MSE'],ascending=True)\n",
    "RF_Results"
   ]
  },
  {
   "cell_type": "markdown",
   "metadata": {},
   "source": [
    "# Model4. Bagging Tree\n",
    "## Bagging Tree 함수와 3Fold CV를 위해 함수를 생성 후 이행"
   ]
  },
  {
   "cell_type": "code",
   "execution_count": 8,
   "metadata": {
    "collapsed": false,
    "scrolled": true
   },
   "outputs": [
    {
     "name": "stdout",
     "output_type": "stream",
     "text": [
      "CV Complete!\n",
      "CV Complete!\n"
     ]
    },
    {
     "data": {
      "text/html": [
       "<div>\n",
       "<table border=\"1\" class=\"dataframe\">\n",
       "  <thead>\n",
       "    <tr style=\"text-align: right;\">\n",
       "      <th></th>\n",
       "      <th>MAE</th>\n",
       "      <th>MAPE</th>\n",
       "      <th>MSE</th>\n",
       "      <th>Model</th>\n",
       "    </tr>\n",
       "  </thead>\n",
       "  <tbody>\n",
       "    <tr>\n",
       "      <th>0</th>\n",
       "      <td>0.131925</td>\n",
       "      <td>0.017463</td>\n",
       "      <td>0.0405543</td>\n",
       "      <td>B_Tree_D6</td>\n",
       "    </tr>\n",
       "    <tr>\n",
       "      <th>0</th>\n",
       "      <td>0.150331</td>\n",
       "      <td>0.0203429</td>\n",
       "      <td>0.0486948</td>\n",
       "      <td>B_Tree_D5</td>\n",
       "    </tr>\n",
       "  </tbody>\n",
       "</table>\n",
       "</div>"
      ],
      "text/plain": [
       "        MAE       MAPE        MSE      Model\n",
       "0  0.131925   0.017463  0.0405543  B_Tree_D6\n",
       "0  0.150331  0.0203429  0.0486948  B_Tree_D5"
      ]
     },
     "execution_count": 8,
     "metadata": {},
     "output_type": "execute_result"
    }
   ],
   "source": [
    "def B_Tree(NUMBER,Train_Input,TR_OUTPUT,Val_Input,Val_Output):\n",
    "    Tree = DecisionTreeRegressor(max_depth=NUMBER, random_state=RANDOM_STATE).fit(Train_Input, TR_OUTPUT[:, 0])\n",
    "    BMLP = BaggingRegressor(n_estimators=30, base_estimator=Tree, random_state=RANDOM_STATE, n_jobs=-1).fit(Train_Input, TR_OUTPUT[:, 0])\n",
    "    Predict_Value = BMLP.predict(Val_Input)\n",
    "    return(np.concatenate((Predict_Value[:,np.newaxis],Val_Output),axis=1))\n",
    "\n",
    "# 자 이제 NeuralNet을 기준으로 여러가지를 3-Fold CV를 해보도록 한다.\n",
    "B_Tree_D6 = CV_Result_Each_Model(6,B_Tree)\n",
    "B_Tree_D5 = CV_Result_Each_Model(5,B_Tree)\n",
    "\n",
    "Results=pd.concat((Valid_Index(B_Tree_D6,'B_Tree_D6'),\n",
    "Valid_Index(B_Tree_D5,'B_Tree_D5')))\n",
    "\n",
    "BT_3CV_Results = Results.sort_values(by=['MSE'],ascending=True)\n",
    "BT_3CV_Results"
   ]
  },
  {
   "cell_type": "markdown",
   "metadata": {},
   "source": [
    "# Model5. Gradient Boosting Machine\n",
    "## Gradient Boosting Machine 함수와 3Fold CV를 위해 함수를 생성 후 이행"
   ]
  },
  {
   "cell_type": "code",
   "execution_count": 9,
   "metadata": {
    "collapsed": false
   },
   "outputs": [
    {
     "name": "stdout",
     "output_type": "stream",
     "text": [
      "CV Complete!\n",
      "CV Complete!\n",
      "CV Complete!\n",
      "CV Complete!\n",
      "CV Complete!\n"
     ]
    },
    {
     "data": {
      "text/html": [
       "<div>\n",
       "<table border=\"1\" class=\"dataframe\">\n",
       "  <thead>\n",
       "    <tr style=\"text-align: right;\">\n",
       "      <th></th>\n",
       "      <th>MAE</th>\n",
       "      <th>MAPE</th>\n",
       "      <th>MSE</th>\n",
       "      <th>Model</th>\n",
       "    </tr>\n",
       "  </thead>\n",
       "  <tbody>\n",
       "    <tr>\n",
       "      <th>0</th>\n",
       "      <td>0.0988772</td>\n",
       "      <td>0.0124856</td>\n",
       "      <td>0.0265852</td>\n",
       "      <td>GBM_300</td>\n",
       "    </tr>\n",
       "    <tr>\n",
       "      <th>0</th>\n",
       "      <td>0.0999459</td>\n",
       "      <td>0.012639</td>\n",
       "      <td>0.0268782</td>\n",
       "      <td>GBM_250</td>\n",
       "    </tr>\n",
       "    <tr>\n",
       "      <th>0</th>\n",
       "      <td>0.101775</td>\n",
       "      <td>0.0128764</td>\n",
       "      <td>0.0273836</td>\n",
       "      <td>GBM_200</td>\n",
       "    </tr>\n",
       "    <tr>\n",
       "      <th>0</th>\n",
       "      <td>0.104558</td>\n",
       "      <td>0.0132602</td>\n",
       "      <td>0.0282485</td>\n",
       "      <td>GBM_150</td>\n",
       "    </tr>\n",
       "    <tr>\n",
       "      <th>0</th>\n",
       "      <td>0.108536</td>\n",
       "      <td>0.0138255</td>\n",
       "      <td>0.0295596</td>\n",
       "      <td>GBM_100</td>\n",
       "    </tr>\n",
       "  </tbody>\n",
       "</table>\n",
       "</div>"
      ],
      "text/plain": [
       "         MAE       MAPE        MSE    Model\n",
       "0  0.0988772  0.0124856  0.0265852  GBM_300\n",
       "0  0.0999459   0.012639  0.0268782  GBM_250\n",
       "0   0.101775  0.0128764  0.0273836  GBM_200\n",
       "0   0.104558  0.0132602  0.0282485  GBM_150\n",
       "0   0.108536  0.0138255  0.0295596  GBM_100"
      ]
     },
     "execution_count": 9,
     "metadata": {},
     "output_type": "execute_result"
    }
   ],
   "source": [
    "def GBM(NUMBER,Train_Input,TR_OUTPUT,Val_Input,Val_Output):\n",
    "    gbm=GradientBoostingRegressor(n_estimators=NUMBER,random_state=RANDOM_STATE).fit(Train_Input,TR_OUTPUT[:,0])\n",
    "    Predict_Value = gbm.predict(Val_Input)\n",
    "    return(np.concatenate((Predict_Value[:,np.newaxis],Val_Output),axis=1))\n",
    "\n",
    "GBM_100 = CV_Result_Each_Model(100,GBM)\n",
    "GBM_150 = CV_Result_Each_Model(150,GBM)\n",
    "GBM_200 = CV_Result_Each_Model(200,GBM)\n",
    "GBM_250 = CV_Result_Each_Model(250,GBM)\n",
    "GBM_300 = CV_Result_Each_Model(300,GBM)\n",
    "\n",
    "GBM_3CV_Results=Valid_Index((GBM_100),\"GBM_100\").append([\n",
    "Valid_Index((GBM_150),\"GBM_150\"),\n",
    "Valid_Index((GBM_200),\"GBM_200\"),\n",
    "Valid_Index((GBM_250),\"GBM_250\"),\n",
    "Valid_Index((GBM_300),\"GBM_300\")])\n",
    "\n",
    "GBM_3CV_Results = GBM_3CV_Results.sort_values(by=['MSE'],ascending=True)\n",
    "GBM_3CV_Results"
   ]
  }
 ],
 "metadata": {
  "anaconda-cloud": {},
  "kernelspec": {
   "display_name": "hynix",
   "language": "python",
   "name": "lab7"
  },
  "language_info": {
   "codemirror_mode": {
    "name": "ipython",
    "version": 3
   },
   "file_extension": ".py",
   "mimetype": "text/x-python",
   "name": "python",
   "nbconvert_exporter": "python",
   "pygments_lexer": "ipython3",
   "version": "3.6.8"
  }
 },
 "nbformat": 4,
 "nbformat_minor": 2
}
