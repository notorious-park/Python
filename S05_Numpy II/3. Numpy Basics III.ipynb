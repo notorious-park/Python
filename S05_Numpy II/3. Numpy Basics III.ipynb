{
 "cells": [
  {
   "cell_type": "markdown",
   "id": "ab731a79",
   "metadata": {},
   "source": [
    "# NumPy Basics III"
   ]
  },
  {
   "cell_type": "markdown",
   "id": "37f71241",
   "metadata": {},
   "source": [
    "## 4. File input and output with arrays\n",
    "### Storing arrays on disk in binary format\n",
    "> 배열을 바이너리 형식으로 디스크에 저장\n",
    "\n",
    "- 배열은 기본적으로 압축되지 않은 raw 바이너리 형식의 .npy 파일로 저장된다.\n",
    "- 저장하는 파일 경로가 .npy로 끝나지 않으면 자동적으로 확장자를 추가한다.\n",
    "- np.savez 함수를 이용하면 여러개의 배열을 압축된 형식으로 저장할 수 있다."
   ]
  },
  {
   "cell_type": "code",
   "execution_count": 1,
   "id": "e4f8eb01",
   "metadata": {},
   "outputs": [],
   "source": [
    "from numpy.random import randn\n",
    "import numpy as np\n",
    "\n",
    "from os.path import exists\n",
    "from os import remove"
   ]
  },
  {
   "cell_type": "code",
   "execution_count": 8,
   "id": "b07beda2",
   "metadata": {},
   "outputs": [],
   "source": [
    "def delete_file(filename):\n",
    "    if exists(filename): \n",
    "        remove(filename) \n",
    "        ret_msg = filename + ' is deleted !'\n",
    "    else: \n",
    "        ret_msg = filename + ' is not exist.'\n",
    "    \n",
    "    return ret_msg"
   ]
  },
  {
   "cell_type": "code",
   "execution_count": 9,
   "id": "fd2fa6d8",
   "metadata": {},
   "outputs": [
    {
     "data": {
      "text/plain": [
       "'some_array.npy is not exist.'"
      ]
     },
     "execution_count": 9,
     "metadata": {},
     "output_type": "execute_result"
    }
   ],
   "source": [
    "delete_file('some_array.npy')"
   ]
  },
  {
   "cell_type": "code",
   "execution_count": 11,
   "id": "421e9078",
   "metadata": {},
   "outputs": [
    {
     "data": {
      "text/plain": [
       "array([0, 1, 2, 3, 4, 5, 6, 7, 8, 9])"
      ]
     },
     "execution_count": 11,
     "metadata": {},
     "output_type": "execute_result"
    }
   ],
   "source": [
    "arr = np.arange(10)\n",
    "arr"
   ]
  },
  {
   "cell_type": "code",
   "execution_count": 12,
   "id": "bb58f3a9",
   "metadata": {},
   "outputs": [],
   "source": [
    "np.save('some_array',arr)"
   ]
  },
  {
   "cell_type": "code",
   "execution_count": 13,
   "id": "78cffaf3",
   "metadata": {},
   "outputs": [
    {
     "data": {
      "text/plain": [
       "array([0, 1, 2, 3, 4, 5, 6, 7, 8, 9])"
      ]
     },
     "execution_count": 13,
     "metadata": {},
     "output_type": "execute_result"
    }
   ],
   "source": [
    "np.load('some_array.npy')                      # 파일 load할 경우에는 확장자명까지 쓰기"
   ]
  },
  {
   "cell_type": "code",
   "execution_count": 14,
   "id": "df79e2c7",
   "metadata": {},
   "outputs": [],
   "source": [
    "np.savez('array_archive.npz', a=arr, b=arr)"
   ]
  },
  {
   "cell_type": "code",
   "execution_count": 18,
   "id": "87853515",
   "metadata": {},
   "outputs": [
    {
     "data": {
      "text/plain": [
       "array([0, 1, 2, 3, 4, 5, 6, 7, 8, 9])"
      ]
     },
     "execution_count": 18,
     "metadata": {},
     "output_type": "execute_result"
    }
   ],
   "source": [
    "arch = np.load('array_archive.npz')            # 파일 load할 경우에는 확장자명까지 쓰기\n",
    "arch['b']"
   ]
  },
  {
   "cell_type": "code",
   "execution_count": 19,
   "id": "983b31b7",
   "metadata": {},
   "outputs": [
    {
     "data": {
      "text/plain": [
       "array([0, 1, 2, 3, 4, 5, 6, 7, 8, 9])"
      ]
     },
     "execution_count": 19,
     "metadata": {},
     "output_type": "execute_result"
    }
   ],
   "source": [
    "arch['a']"
   ]
  },
  {
   "cell_type": "markdown",
   "id": "6f07a84a",
   "metadata": {},
   "source": [
    "### Saving and loading text files\n",
    ">텍스트 파일 불러오기와 저장하기"
   ]
  },
  {
   "cell_type": "code",
   "execution_count": 39,
   "id": "2fd98e6d",
   "metadata": {},
   "outputs": [
    {
     "name": "stderr",
     "output_type": "stream",
     "text": [
      "하위 디렉터리 또는 파일 data이(가) 이미 있습니다.\n"
     ]
    }
   ],
   "source": [
    "!mkdir data"
   ]
  },
  {
   "cell_type": "code",
   "execution_count": 40,
   "id": "179c9740",
   "metadata": {},
   "outputs": [],
   "source": [
    "filename = 'data'"
   ]
  },
  {
   "cell_type": "code",
   "execution_count": 41,
   "id": "f8335a2c",
   "metadata": {},
   "outputs": [
    {
     "data": {
      "text/plain": [
       "'data is deleted !'"
      ]
     },
     "execution_count": 41,
     "metadata": {},
     "output_type": "execute_result"
    }
   ],
   "source": [
    "delete_file(filename)"
   ]
  },
  {
   "cell_type": "code",
   "execution_count": 42,
   "id": "00760487",
   "metadata": {},
   "outputs": [],
   "source": [
    "data = '''\\\n",
    " 0.580052,  0.186730,  1.040717,  1.134411\n",
    " 0.194163, -0.636917, -0.938659,  0.124094\n",
    "-0.126410,  0.268607, -0.695724,  0.047428\n",
    "-1.484413,  0.004176, -0.744203,  0.005487\n",
    " 2.302869,  0.200131,  1.670238, -1.881090\n",
    "-0.193230,  1.047233,  0.482803,  0.960334\\\n",
    "'''\n",
    "with open(filename, 'w') as fp:\n",
    "    fp.write(data)"
   ]
  },
  {
   "cell_type": "code",
   "execution_count": 43,
   "id": "f00dec51",
   "metadata": {},
   "outputs": [
    {
     "name": "stdout",
     "output_type": "stream",
     "text": [
      " 0.580052,  0.186730,  1.040717,  1.134411\n",
      " 0.194163, -0.636917, -0.938659,  0.124094\n",
      "-0.126410,  0.268607, -0.695724,  0.047428\n",
      "-1.484413,  0.004176, -0.744203,  0.005487\n",
      " 2.302869,  0.200131,  1.670238, -1.881090\n",
      "-0.193230,  1.047233,  0.482803,  0.960334\n"
     ]
    }
   ],
   "source": [
    "with open(filename, 'r') as fp:\n",
    "    data = fp.read()\n",
    "    \n",
    "print(data)"
   ]
  },
  {
   "cell_type": "code",
   "execution_count": 46,
   "id": "e0bdb3d7",
   "metadata": {},
   "outputs": [
    {
     "data": {
      "text/plain": [
       "array([[ 0.580052,  0.18673 ,  1.040717,  1.134411],\n",
       "       [ 0.194163, -0.636917, -0.938659,  0.124094],\n",
       "       [-0.12641 ,  0.268607, -0.695724,  0.047428],\n",
       "       [-1.484413,  0.004176, -0.744203,  0.005487],\n",
       "       [ 2.302869,  0.200131,  1.670238, -1.88109 ],\n",
       "       [-0.19323 ,  1.047233,  0.482803,  0.960334]])"
      ]
     },
     "execution_count": 46,
     "metadata": {},
     "output_type": "execute_result"
    }
   ],
   "source": [
    "arr = np.loadtxt(filename, delimiter = ',')\n",
    "arr"
   ]
  },
  {
   "cell_type": "markdown",
   "id": "a2224596",
   "metadata": {},
   "source": [
    "### 5. Linear algebra\n",
    "> 선형대수\n",
    "\n",
    "- 행렬의 곱셈, 분할, 행렬식, 정사각 행렬 수학 같은 선형대수는 배열을 다루는 라이브러리에서 중요한 부분\n",
    "- MATLAB 같은 다른 언어와 달리 2개의 2차원 배열을 * 연산자로 곱하는 건행렬 곱셈이 아니라 대응하는 각각의 원소의 곱을 계산\n",
    "- 행렬곱셈은 배열메소드이자 numpy 네임스페이스 안에 있는 함수인 dot 함수를 사용해서 계산"
   ]
  },
  {
   "cell_type": "code",
   "execution_count": 48,
   "id": "b08eb78f",
   "metadata": {},
   "outputs": [
    {
     "data": {
      "text/plain": [
       "array([[1., 2., 3.],\n",
       "       [4., 5., 6.]])"
      ]
     },
     "execution_count": 48,
     "metadata": {},
     "output_type": "execute_result"
    }
   ],
   "source": [
    "x = np.array([[1.,2.,3.],[4.,5.,6.]])\n",
    "x"
   ]
  },
  {
   "cell_type": "code",
   "execution_count": 49,
   "id": "4c439fb4",
   "metadata": {},
   "outputs": [
    {
     "data": {
      "text/plain": [
       "array([[ 6., 23.],\n",
       "       [-1.,  7.],\n",
       "       [ 8.,  9.]])"
      ]
     },
     "execution_count": 49,
     "metadata": {},
     "output_type": "execute_result"
    }
   ],
   "source": [
    "y = np.array([[6., 23.], [-1, 7], [8, 9]])\n",
    "y"
   ]
  },
  {
   "cell_type": "code",
   "execution_count": 51,
   "id": "68f28b04",
   "metadata": {},
   "outputs": [
    {
     "data": {
      "text/plain": [
       "array([[ 28.,  64.],\n",
       "       [ 67., 181.]])"
      ]
     },
     "execution_count": 51,
     "metadata": {},
     "output_type": "execute_result"
    }
   ],
   "source": [
    "x.dot(y)   # 행렬 곱"
   ]
  },
  {
   "cell_type": "code",
   "execution_count": 53,
   "id": "71a1bd6c",
   "metadata": {},
   "outputs": [
    {
     "data": {
      "text/plain": [
       "array([[ 28.,  64.],\n",
       "       [ 67., 181.]])"
      ]
     },
     "execution_count": 53,
     "metadata": {},
     "output_type": "execute_result"
    }
   ],
   "source": [
    "x @ y     # 행렬 곱 2"
   ]
  },
  {
   "cell_type": "code",
   "execution_count": 54,
   "id": "96d61f2c",
   "metadata": {},
   "outputs": [
    {
     "data": {
      "text/plain": [
       "array([ 6., 15.])"
      ]
     },
     "execution_count": 54,
     "metadata": {},
     "output_type": "execute_result"
    }
   ],
   "source": [
    "np.dot(x,np.ones(3))"
   ]
  },
  {
   "cell_type": "code",
   "execution_count": 55,
   "id": "a0463db0",
   "metadata": {},
   "outputs": [],
   "source": [
    "np.random.seed(12345)"
   ]
  },
  {
   "cell_type": "code",
   "execution_count": 56,
   "id": "0bf48d1c",
   "metadata": {},
   "outputs": [],
   "source": [
    "from numpy.linalg import inv, qr"
   ]
  },
  {
   "cell_type": "code",
   "execution_count": 59,
   "id": "cbf67b2a",
   "metadata": {},
   "outputs": [
    {
     "data": {
      "text/plain": [
       "array([[ 0.06987669,  0.24667411, -0.0118616 ,  1.00481159,  1.32719461],\n",
       "       [-0.91926156, -1.54910644,  0.0221846 ,  0.75836315, -0.66052433],\n",
       "       [ 0.86258008, -0.0100319 ,  0.05000936,  0.67021559,  0.85296503],\n",
       "       [-0.95586885, -0.02349332, -2.30423388, -0.65246884, -1.21830198],\n",
       "       [-1.33260971,  1.07462269,  0.72364151,  0.69000185,  1.00154344]])"
      ]
     },
     "execution_count": 59,
     "metadata": {},
     "output_type": "execute_result"
    }
   ],
   "source": [
    "X = randn(5,5)\n",
    "X"
   ]
  },
  {
   "cell_type": "code",
   "execution_count": 60,
   "id": "55e417e1",
   "metadata": {},
   "outputs": [
    {
     "data": {
      "text/plain": [
       "array([[ 4.28350286,  0.02302135,  1.26012847, -0.34463508,  1.26555563],\n",
       "       [ 0.02302135,  3.61604537,  0.79398174, -0.17682746,  2.44695344],\n",
       "       [ 1.26012847,  0.79398174,  5.83628459,  2.04117715,  3.54427121],\n",
       "       [-0.34463508, -0.17682746,  2.04117715,  2.93576808,  2.8903046 ],\n",
       "       [ 1.26555563,  2.44695344,  3.54427121,  2.8903046 ,  5.41263625]])"
      ]
     },
     "execution_count": 60,
     "metadata": {},
     "output_type": "execute_result"
    }
   ],
   "source": [
    "mat = X.T.dot(X)\n",
    "mat"
   ]
  },
  {
   "cell_type": "code",
   "execution_count": 61,
   "id": "7aeedcb1",
   "metadata": {},
   "outputs": [
    {
     "data": {
      "text/plain": [
       "array([[  4.1935251 ,   7.96645078,   0.83228796,  11.47227678,\n",
       "        -11.25309355],\n",
       "       [  7.96645078,  16.37070534,   1.81083232,  23.08715384,\n",
       "        -22.77768588],\n",
       "       [  0.83228796,   1.81083232,   0.49360315,   2.4866238 ,\n",
       "         -2.66430111],\n",
       "       [ 11.47227678,  23.08715384,   2.4866238 ,  33.4585332 ,\n",
       "        -32.61453542],\n",
       "       [-11.25309355, -22.77768588,  -2.66430111, -32.61453542,\n",
       "         32.27379271]])"
      ]
     },
     "execution_count": 61,
     "metadata": {},
     "output_type": "execute_result"
    }
   ],
   "source": [
    "inv(mat)    # 역행렬"
   ]
  },
  {
   "cell_type": "code",
   "execution_count": 63,
   "id": "18b092c3",
   "metadata": {},
   "outputs": [
    {
     "data": {
      "text/plain": [
       "array([[ 1.00000000e+00,  9.33655871e-17,  5.37170999e-16,\n",
       "         7.37256505e-15, -2.74073508e-15],\n",
       "       [-1.65829303e-15,  1.00000000e+00, -7.15976104e-16,\n",
       "        -8.85844609e-15,  7.40089782e-15],\n",
       "       [-1.04721391e-15,  7.90047698e-15,  1.00000000e+00,\n",
       "         1.70355243e-15,  4.53901266e-15],\n",
       "       [-4.87782146e-15, -1.21965255e-14, -9.80212526e-16,\n",
       "         1.00000000e+00,  1.12537104e-14],\n",
       "       [-1.02304799e-15, -3.92532494e-15, -1.43481668e-16,\n",
       "        -8.11431057e-15,  1.00000000e+00]])"
      ]
     },
     "execution_count": 63,
     "metadata": {},
     "output_type": "execute_result"
    }
   ],
   "source": [
    "mat.dot(inv(mat))"
   ]
  },
  {
   "cell_type": "code",
   "execution_count": 66,
   "id": "2dc0d1a1",
   "metadata": {},
   "outputs": [],
   "source": [
    "q, r = qr(mat)    # 단위 행렬"
   ]
  },
  {
   "cell_type": "code",
   "execution_count": 67,
   "id": "4c725d72",
   "metadata": {},
   "outputs": [
    {
     "data": {
      "text/plain": [
       "array([[-4.65373558, -0.93260003, -3.55682477, -0.80320461, -3.39457884],\n",
       "       [ 0.        , -4.34232972, -2.88523066, -1.56081079, -4.89578564],\n",
       "       [ 0.        ,  0.        , -5.65979264, -3.57159682, -4.08266831],\n",
       "       [ 0.        ,  0.        ,  0.        , -2.33483802, -2.37510775],\n",
       "       [ 0.        ,  0.        ,  0.        ,  0.        ,  0.01904206]])"
      ]
     },
     "execution_count": 67,
     "metadata": {},
     "output_type": "execute_result"
    }
   ],
   "source": [
    "r"
   ]
  },
  {
   "cell_type": "markdown",
   "id": "71813bf9",
   "metadata": {},
   "source": [
    ">Note\n",
    "\n",
    "- 과학계산 파이썬 커뮤니티는 언젠가 np.dot을 사용하는 대신 문법적으로 훨씬 보기 좋은 행렬 곱셈 이항 연산자가 구현되기를 기대하고 있다.\n",
    "- 하지만 현재까지는 np.dot을 사용할 수 밖에 없다."
   ]
  },
  {
   "cell_type": "markdown",
   "id": "7b6587ed",
   "metadata": {},
   "source": [
    "### 6. Random number generation\n",
    ">난수 생성\n",
    "\n",
    "- numpy.random 모듈은 파있너 내장 random 함수를 보강하여 다양한 종류의 확률분포로부터 효과적으로 표본값을 생성하는 주로 사용\n",
    "- Eg. normal을 사용하여 표준정규분포로부터 4x4 크기의 표본을 생성할 수 있다."
   ]
  },
  {
   "cell_type": "code",
   "execution_count": 68,
   "id": "4196a498",
   "metadata": {},
   "outputs": [
    {
     "data": {
      "text/plain": [
       "array([[-0.50308739, -0.62227423, -0.92116861, -0.72621349],\n",
       "       [ 0.22289555,  0.0513161 , -1.15771947,  0.81670694],\n",
       "       [ 0.43360961,  1.01073695,  1.82487521, -0.99751825],\n",
       "       [ 0.8505911 , -0.1315776 ,  0.91241415,  0.18821068]])"
      ]
     },
     "execution_count": 68,
     "metadata": {},
     "output_type": "execute_result"
    }
   ],
   "source": [
    "samples = np.random.normal(size=(4,4))\n",
    "samples"
   ]
  },
  {
   "cell_type": "markdown",
   "id": "218b6c26",
   "metadata": {},
   "source": [
    "> 성능 비교\n",
    "\n",
    "- numpy.random은 매우 큰 표본을 생성하는데 파이썬 내장 모듈보다 수십배 이상 빠름\n",
    "- 파이썬 내장 random 모듈은 한번에 하나의 값만 생성할 수 있다."
   ]
  },
  {
   "cell_type": "code",
   "execution_count": 69,
   "id": "82bf4d23",
   "metadata": {},
   "outputs": [],
   "source": [
    "from random import normalvariate\n",
    "N = 1000000"
   ]
  },
  {
   "cell_type": "code",
   "execution_count": 70,
   "id": "513f2bb7",
   "metadata": {},
   "outputs": [
    {
     "name": "stdout",
     "output_type": "stream",
     "text": [
      "668 ms ± 680 µs per loop (mean ± std. dev. of 7 runs, 1 loop each)\n"
     ]
    }
   ],
   "source": [
    "%timeit samples = [normalvariate(0,1) for _ in range(N)]"
   ]
  },
  {
   "cell_type": "code",
   "execution_count": 71,
   "id": "b7f18e8d",
   "metadata": {},
   "outputs": [
    {
     "name": "stdout",
     "output_type": "stream",
     "text": [
      "22.4 ms ± 53 µs per loop (mean ± std. dev. of 7 runs, 10 loops each)\n"
     ]
    }
   ],
   "source": [
    "%timeit np.random.normal(size = N)"
   ]
  },
  {
   "cell_type": "markdown",
   "id": "52f0a896",
   "metadata": {},
   "source": [
    "### Example : Random Walks\n",
    "> 계단 오르내리기 예제\n",
    "\n",
    "- 배열연산의 활용을 보여줄 수 있는 간단한 애플리케이션\n",
    "- 계단의 중간에서 같은 확률로 한계단 올라가거나 내려간다고 가정하자."
   ]
  },
  {
   "cell_type": "code",
   "execution_count": 72,
   "id": "a96f5250",
   "metadata": {},
   "outputs": [],
   "source": [
    "np.random.seed(12345)"
   ]
  },
  {
   "cell_type": "code",
   "execution_count": 73,
   "id": "3780aa17",
   "metadata": {},
   "outputs": [],
   "source": [
    "nsteps = 1000\n",
    "draws = np.random.randint(0,2,size = nsteps)\n",
    "steps = np.where(draws > 0 ,1 ,-1)\n",
    "walk = steps.cumsum()"
   ]
  },
  {
   "cell_type": "code",
   "execution_count": 81,
   "id": "e1feb0e6",
   "metadata": {},
   "outputs": [],
   "source": [
    "# draws"
   ]
  },
  {
   "cell_type": "code",
   "execution_count": 80,
   "id": "66bf3659",
   "metadata": {},
   "outputs": [],
   "source": [
    "# steps"
   ]
  },
  {
   "cell_type": "code",
   "execution_count": 79,
   "id": "3327ebf3",
   "metadata": {},
   "outputs": [],
   "source": [
    "# walk"
   ]
  },
  {
   "cell_type": "code",
   "execution_count": 77,
   "id": "9e4daccb",
   "metadata": {},
   "outputs": [
    {
     "data": {
      "text/plain": [
       "-3"
      ]
     },
     "execution_count": 77,
     "metadata": {},
     "output_type": "execute_result"
    }
   ],
   "source": [
    "walk.min()"
   ]
  },
  {
   "cell_type": "code",
   "execution_count": 78,
   "id": "dab00bd0",
   "metadata": {},
   "outputs": [
    {
     "data": {
      "text/plain": [
       "31"
      ]
     },
     "execution_count": 78,
     "metadata": {},
     "output_type": "execute_result"
    }
   ],
   "source": [
    "walk.max()"
   ]
  },
  {
   "cell_type": "markdown",
   "id": "0f81be7f",
   "metadata": {},
   "source": [
    "- 처음 위치에서 10칸 이상 떨어진 시점을 알려주는 불리언 배열\n",
    "- 최초의 10 혹은 -10인 시점을 구해야 하므로 불리언 배열에서 최대값의 처음 색인을 반환하는 argmax 사용\n",
    "- argmax는 배열 전체를 모두 확인하기 때문에 효과적인 방법은 아니다."
   ]
  },
  {
   "cell_type": "code",
   "execution_count": 82,
   "id": "cd494fa7",
   "metadata": {},
   "outputs": [
    {
     "data": {
      "text/plain": [
       "37"
      ]
     },
     "execution_count": 82,
     "metadata": {},
     "output_type": "execute_result"
    }
   ],
   "source": [
    "(np.abs(walk) >= 10).argmax()"
   ]
  },
  {
   "cell_type": "markdown",
   "id": "6fc9182e",
   "metadata": {},
   "source": [
    "### Simulating many random walks at once\n",
    ">한번에 계단 오르내리기 시뮬레이션"
   ]
  },
  {
   "cell_type": "code",
   "execution_count": 90,
   "id": "cb8d4b5a",
   "metadata": {},
   "outputs": [
    {
     "data": {
      "text/plain": [
       "array([[  1,   0,  -1, ...,  10,  11,  10],\n",
       "       [ -1,   0,   1, ...,  -2,  -3,  -2],\n",
       "       [ -1,   0,   1, ..., -40, -39, -38],\n",
       "       ...,\n",
       "       [  1,   2,   3, ..., -30, -31, -30],\n",
       "       [ -1,  -2,  -3, ...,  16,  15,  16],\n",
       "       [ -1,  -2,  -1, ...,  16,  15,  14]], dtype=int32)"
      ]
     },
     "execution_count": 90,
     "metadata": {},
     "output_type": "execute_result"
    }
   ],
   "source": [
    "nwalks = 5000\n",
    "nsteps = 1000\n",
    "draws = np.random.randint(0,2,size = (nwalks,nsteps))\n",
    "steps = np.where(draws > 0, 1, -1)\n",
    "walks = steps.cumsum(1)\n",
    "walks"
   ]
  },
  {
   "cell_type": "code",
   "execution_count": 87,
   "id": "27a2b7c0",
   "metadata": {},
   "outputs": [
    {
     "data": {
      "text/plain": [
       "123"
      ]
     },
     "execution_count": 87,
     "metadata": {},
     "output_type": "execute_result"
    }
   ],
   "source": [
    "walks.max()"
   ]
  },
  {
   "cell_type": "code",
   "execution_count": 88,
   "id": "5fcd484f",
   "metadata": {},
   "outputs": [
    {
     "data": {
      "text/plain": [
       "-116"
      ]
     },
     "execution_count": 88,
     "metadata": {},
     "output_type": "execute_result"
    }
   ],
   "source": [
    "walks.min()"
   ]
  },
  {
   "cell_type": "code",
   "execution_count": 91,
   "id": "5b0cfa1f",
   "metadata": {},
   "outputs": [
    {
     "data": {
      "text/plain": [
       "array([False, False,  True, ...,  True,  True, False])"
      ]
     },
     "execution_count": 91,
     "metadata": {},
     "output_type": "execute_result"
    }
   ],
   "source": [
    "hits30 = (np.abs(walks) >= 30).any(1)\n",
    "hits30"
   ]
  },
  {
   "cell_type": "code",
   "execution_count": 92,
   "id": "84a6f34b",
   "metadata": {},
   "outputs": [
    {
     "data": {
      "text/plain": [
       "3381"
      ]
     },
     "execution_count": 92,
     "metadata": {},
     "output_type": "execute_result"
    }
   ],
   "source": [
    "hits30.sum()"
   ]
  },
  {
   "cell_type": "code",
   "execution_count": 94,
   "id": "a7c4a5dd",
   "metadata": {},
   "outputs": [
    {
     "data": {
      "text/plain": [
       "506.8645371191955"
      ]
     },
     "execution_count": 94,
     "metadata": {},
     "output_type": "execute_result"
    }
   ],
   "source": [
    "crossing_times = (np.abs(walks[hits30]) >= 30).argmax(1)\n",
    "crossing_times.mean()"
   ]
  },
  {
   "cell_type": "code",
   "execution_count": null,
   "id": "7da66357",
   "metadata": {},
   "outputs": [],
   "source": []
  }
 ],
 "metadata": {
  "kernelspec": {
   "display_name": "Python 3 (ipykernel)",
   "language": "python",
   "name": "python3"
  },
  "language_info": {
   "codemirror_mode": {
    "name": "ipython",
    "version": 3
   },
   "file_extension": ".py",
   "mimetype": "text/x-python",
   "name": "python",
   "nbconvert_exporter": "python",
   "pygments_lexer": "ipython3",
   "version": "3.9.12"
  }
 },
 "nbformat": 4,
 "nbformat_minor": 5
}
