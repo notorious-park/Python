{
 "cells": [
  {
   "cell_type": "markdown",
   "id": "7243b442",
   "metadata": {},
   "source": [
    "### Sect1. TensorFlow 개요\n",
    "> Getting Started With TensorFlow"
   ]
  },
  {
   "cell_type": "markdown",
   "id": "ca70235d",
   "metadata": {},
   "source": [
    "### Check TF version"
   ]
  },
  {
   "cell_type": "code",
   "execution_count": 1,
   "id": "d3c739f0",
   "metadata": {},
   "outputs": [
    {
     "name": "stdout",
     "output_type": "stream",
     "text": [
      "WARNING:tensorflow:From C:\\Python\\anaconda3\\lib\\site-packages\\tensorflow\\python\\compat\\v2_compat.py:107: disable_resource_variables (from tensorflow.python.ops.variable_scope) is deprecated and will be removed in a future version.\n",
      "Instructions for updating:\n",
      "non-resource variables are not supported in the long term\n"
     ]
    }
   ],
   "source": [
    "import numpy as np\n",
    "import tensorflow.compat.v1 as tf\n",
    "\n",
    "# tf.disable_v2_behavior()\n",
    "tf.compat.v1.disable_v2_behavior()"
   ]
  },
  {
   "cell_type": "markdown",
   "id": "4897d330",
   "metadata": {},
   "source": [
    "### Hello TensorFlow!"
   ]
  },
  {
   "cell_type": "code",
   "execution_count": 2,
   "id": "f7dbfe06",
   "metadata": {},
   "outputs": [],
   "source": [
    "# Create a constant op\n",
    "# This op is added as a node to the default graph\n",
    "hello = tf.constant(\"Hello, TensorFlow!\")\n",
    "\n",
    "# seart a TF session\n",
    "sess = tf.Session()"
   ]
  },
  {
   "cell_type": "code",
   "execution_count": 4,
   "id": "fbba42e7",
   "metadata": {},
   "outputs": [
    {
     "data": {
      "text/plain": [
       "<tf.Tensor 'Const:0' shape=() dtype=string>"
      ]
     },
     "execution_count": 4,
     "metadata": {},
     "output_type": "execute_result"
    }
   ],
   "source": [
    "hello"
   ]
  },
  {
   "cell_type": "code",
   "execution_count": 5,
   "id": "b6d2900f",
   "metadata": {},
   "outputs": [
    {
     "data": {
      "text/plain": [
       "b'Hello, TensorFlow!'"
      ]
     },
     "execution_count": 5,
     "metadata": {},
     "output_type": "execute_result"
    }
   ],
   "source": [
    "# run the op and get result\n",
    "sess.run(hello)"
   ]
  },
  {
   "cell_type": "code",
   "execution_count": 6,
   "id": "6869ca93",
   "metadata": {},
   "outputs": [
    {
     "data": {
      "text/plain": [
       "bytes"
      ]
     },
     "execution_count": 6,
     "metadata": {},
     "output_type": "execute_result"
    }
   ],
   "source": [
    "result = sess.run(hello)\n",
    "type(result)"
   ]
  },
  {
   "cell_type": "markdown",
   "id": "14afad7a",
   "metadata": {},
   "source": [
    "#### [TIP] b 'String'\n",
    "\n",
    "- 'b' indicates Bytes literals.\n",
    "- 참조 : What does the 'b' character do in front of a string literal?"
   ]
  },
  {
   "cell_type": "code",
   "execution_count": 7,
   "id": "3585f12b",
   "metadata": {},
   "outputs": [
    {
     "data": {
      "text/plain": [
       "tensorflow.python.framework.ops.Tensor"
      ]
     },
     "execution_count": 7,
     "metadata": {},
     "output_type": "execute_result"
    }
   ],
   "source": [
    "type(hello)"
   ]
  },
  {
   "cell_type": "code",
   "execution_count": 8,
   "id": "2295445f",
   "metadata": {},
   "outputs": [
    {
     "data": {
      "text/plain": [
       "tensorflow.python.client.session.Session"
      ]
     },
     "execution_count": 8,
     "metadata": {},
     "output_type": "execute_result"
    }
   ],
   "source": [
    "type(sess)"
   ]
  },
  {
   "cell_type": "markdown",
   "id": "a912c7ba",
   "metadata": {},
   "source": [
    "### Computational Graph"
   ]
  },
  {
   "cell_type": "code",
   "execution_count": 9,
   "id": "50b7b449",
   "metadata": {},
   "outputs": [],
   "source": [
    "# node1 = tf.constant(3.0, tf.float32)\n",
    "node1 = tf.constant(3.0)\n",
    "node2 = tf.constant(4.0)            # also tf.float32 implicitly\n",
    "node3 = tf.add(node1, node2)\n",
    "# node3 = node1 + node2"
   ]
  },
  {
   "cell_type": "code",
   "execution_count": 10,
   "id": "4d5d73bb",
   "metadata": {},
   "outputs": [
    {
     "name": "stdout",
     "output_type": "stream",
     "text": [
      "node1 : Tensor(\"Const_1:0\", shape=(), dtype=float32)\n",
      "node2 : Tensor(\"Const_2:0\", shape=(), dtype=float32)\n",
      "node3 : Tensor(\"Add:0\", shape=(), dtype=float32)\n"
     ]
    }
   ],
   "source": [
    "print(\"node1 :\", node1)\n",
    "print(\"node2 :\", node2)\n",
    "print(\"node3 :\", node3)"
   ]
  },
  {
   "cell_type": "code",
   "execution_count": 11,
   "id": "601d30ff",
   "metadata": {},
   "outputs": [
    {
     "name": "stdout",
     "output_type": "stream",
     "text": [
      "sess.run(node1, node2)\t:  [3.0, 4.0]\n",
      "sess.run(adder_node)  \t:  7.0\n"
     ]
    }
   ],
   "source": [
    "sess = tf.Session()\n",
    "print(\"sess.run(node1, node2)\\t: \", sess.run([node1, node2]))\n",
    "print(\"sess.run(adder_node)  \\t: \", sess.run(node3))"
   ]
  },
  {
   "cell_type": "code",
   "execution_count": 12,
   "id": "5b712cb4",
   "metadata": {},
   "outputs": [
    {
     "data": {
      "text/plain": [
       "tensorflow.python.framework.ops.Tensor"
      ]
     },
     "execution_count": 12,
     "metadata": {},
     "output_type": "execute_result"
    }
   ],
   "source": [
    "type(node3)"
   ]
  },
  {
   "cell_type": "code",
   "execution_count": 13,
   "id": "933a3a91",
   "metadata": {},
   "outputs": [
    {
     "data": {
      "text/plain": [
       "numpy.float32"
      ]
     },
     "execution_count": 13,
     "metadata": {},
     "output_type": "execute_result"
    }
   ],
   "source": [
    "type(sess.run(node3))"
   ]
  },
  {
   "cell_type": "markdown",
   "id": "f796736b",
   "metadata": {},
   "source": [
    "### Placeholder"
   ]
  },
  {
   "cell_type": "code",
   "execution_count": 14,
   "id": "427afd42",
   "metadata": {},
   "outputs": [],
   "source": [
    "a = tf.placeholder(tf.float32)\n",
    "b = tf.placeholder(tf.float32)\n",
    "\n",
    "# + provides a shortcut for tf.add(a, b)\n",
    "adder_node = a + b  "
   ]
  },
  {
   "cell_type": "code",
   "execution_count": 15,
   "id": "2cb91b62",
   "metadata": {},
   "outputs": [
    {
     "data": {
      "text/plain": [
       "7.5"
      ]
     },
     "execution_count": 15,
     "metadata": {},
     "output_type": "execute_result"
    }
   ],
   "source": [
    "sess.run(adder_node, feed_dict={a: 3, b: 4.5})"
   ]
  },
  {
   "cell_type": "code",
   "execution_count": 16,
   "id": "a9a13bab",
   "metadata": {},
   "outputs": [
    {
     "data": {
      "text/plain": [
       "array([3., 7.], dtype=float32)"
      ]
     },
     "execution_count": 16,
     "metadata": {},
     "output_type": "execute_result"
    }
   ],
   "source": [
    "sess.run(adder_node, feed_dict={a: [1,3], b: [2, 4]})"
   ]
  },
  {
   "cell_type": "code",
   "execution_count": 17,
   "id": "4092345e",
   "metadata": {},
   "outputs": [],
   "source": [
    "add_and_triple = adder_node * 3."
   ]
  },
  {
   "cell_type": "code",
   "execution_count": 18,
   "id": "ce860b3f",
   "metadata": {},
   "outputs": [
    {
     "data": {
      "text/plain": [
       "22.5"
      ]
     },
     "execution_count": 18,
     "metadata": {},
     "output_type": "execute_result"
    }
   ],
   "source": [
    "sess.run(add_and_triple, feed_dict={a: 3, b:4.5})"
   ]
  },
  {
   "cell_type": "code",
   "execution_count": 19,
   "id": "ceb3f75b",
   "metadata": {},
   "outputs": [
    {
     "name": "stdout",
     "output_type": "stream",
     "text": [
      "tf.mul(20,30) : 600\n"
     ]
    }
   ],
   "source": [
    "# import tensorflow as tf\n",
    "# import numpy as np\n",
    "\n",
    "# 변수 a, b는 동적으로 지정\n",
    "# a = tf.placeholder(\"float32\")\n",
    "# b = tf.placeholder(\"float32\")\n",
    "a = tf.placeholder(\"int32\")\n",
    "b = tf.placeholder(\"int32\")\n",
    "\n",
    "# multiply 함수는 입력된 정수 a와 b의 곱셈을 반환한다.\n",
    "# y = tf.mul(a,b)\n",
    "y = tf.multiply(a,b)\n",
    "\n",
    "sess = tf.Session()\n",
    "\n",
    "print(\"tf.mul({a},{b}) : {y}\".format(\n",
    "    a = 20, b = 30,\n",
    "    y = sess.run(y , feed_dict={a: 20, b: 30})\n",
    "))"
   ]
  },
  {
   "cell_type": "markdown",
   "id": "3eeb506c",
   "metadata": {},
   "source": [
    "### Constant & Variable"
   ]
  },
  {
   "cell_type": "code",
   "execution_count": 20,
   "id": "178a41dc",
   "metadata": {},
   "outputs": [
    {
     "name": "stdout",
     "output_type": "stream",
     "text": [
      "WARNING:tensorflow:From C:\\Python\\anaconda3\\lib\\site-packages\\tensorflow\\python\\util\\tf_should_use.py:243: initialize_all_variables (from tensorflow.python.ops.variables) is deprecated and will be removed after 2017-03-02.\n",
      "Instructions for updating:\n",
      "Use `tf.global_variables_initializer` instead.\n",
      "Check the variable : \n",
      "- constant x : 100 \n",
      "- Variable y : 200\n"
     ]
    }
   ],
   "source": [
    "#first_session_only_tensorflow.py\n",
    "# import tensorflow as tf\n",
    "# import numpy as np\n",
    "\n",
    "x = tf.constant(100, name='x')\n",
    "y = tf.Variable(x*2, name='y')\n",
    "\n",
    "# model = tf.global_variables_initializer()\n",
    "model = tf.initialize_all_variables()\n",
    "\n",
    "with tf.Session() as sess:\n",
    "    sess.run(model)\n",
    "    print(\"Check the variable : \\n- constant x : {x} \\n- Variable y : {y}\".format(\n",
    "        x = sess.run(x), \n",
    "        y = sess.run(y)\n",
    "    ))"
   ]
  },
  {
   "cell_type": "markdown",
   "id": "7ebbf461",
   "metadata": {},
   "source": [
    "### Everything is Tensor\n",
    "- Tensor Ranks, Shapes, and Types\n",
    "- n차원 Array == n차원 Tensor"
   ]
  },
  {
   "cell_type": "code",
   "execution_count": 21,
   "id": "9bc84367",
   "metadata": {},
   "outputs": [
    {
     "data": {
      "text/plain": [
       "3"
      ]
     },
     "execution_count": 21,
     "metadata": {},
     "output_type": "execute_result"
    }
   ],
   "source": [
    "rank0 = 3\n",
    "rank0"
   ]
  },
  {
   "cell_type": "code",
   "execution_count": 22,
   "id": "3a62dbac",
   "metadata": {},
   "outputs": [
    {
     "data": {
      "text/plain": [
       "[1.0, 2.0, 3.0]"
      ]
     },
     "execution_count": 22,
     "metadata": {},
     "output_type": "execute_result"
    }
   ],
   "source": [
    "rank1 = [1. ,2., 3.]\n",
    "rank1"
   ]
  },
  {
   "cell_type": "code",
   "execution_count": 23,
   "id": "c94df597",
   "metadata": {},
   "outputs": [
    {
     "data": {
      "text/plain": [
       "[[1.0, 2.0, 3.0], [4.0, 5.0, 6.0]]"
      ]
     },
     "execution_count": 23,
     "metadata": {},
     "output_type": "execute_result"
    }
   ],
   "source": [
    "rank2 = [[1., 2., 3.], \n",
    "         [4., 5., 6.]]\n",
    "rank2"
   ]
  },
  {
   "cell_type": "code",
   "execution_count": 24,
   "id": "6d85567c",
   "metadata": {},
   "outputs": [
    {
     "data": {
      "text/plain": [
       "[[[1.0, 2.0, 3.0]], [[7.0, 8.0, 9.0]]]"
      ]
     },
     "execution_count": 24,
     "metadata": {},
     "output_type": "execute_result"
    }
   ],
   "source": [
    "rank3 = [\n",
    "            [\n",
    "                [1., 2., 3.]\n",
    "            ], \n",
    "            [\n",
    "                [7., 8., 9.]\n",
    "            ]\n",
    "] \n",
    "rank3"
   ]
  },
  {
   "cell_type": "markdown",
   "id": "f7aab469",
   "metadata": {},
   "source": [
    "### 텐서플로우 연산"
   ]
  },
  {
   "cell_type": "code",
   "execution_count": 25,
   "id": "df591d9f",
   "metadata": {},
   "outputs": [
    {
     "data": {
      "text/plain": [
       "array([1.2, 3.4, 5.6, 7.8])"
      ]
     },
     "execution_count": 25,
     "metadata": {},
     "output_type": "execute_result"
    }
   ],
   "source": [
    "tensor_1d = np.array([1.2, 3.4, 5.6, 7.8])\n",
    "tensor_1d"
   ]
  },
  {
   "cell_type": "code",
   "execution_count": 26,
   "id": "0ac80050",
   "metadata": {},
   "outputs": [
    {
     "data": {
      "text/plain": [
       "array([[ 0,  1,  2,  3],\n",
       "       [ 4,  5,  6,  7],\n",
       "       [ 8,  9, 10, 11],\n",
       "       [12, 13, 14, 15]])"
      ]
     },
     "execution_count": 26,
     "metadata": {},
     "output_type": "execute_result"
    }
   ],
   "source": [
    "tensor_2d = np.arange(16).reshape((4,4))\n",
    "tensor_2d"
   ]
  },
  {
   "cell_type": "code",
   "execution_count": 27,
   "id": "2567739f",
   "metadata": {},
   "outputs": [],
   "source": [
    "sess = tf.Session()\n",
    "tf_tensor_1d = tf.convert_to_tensor(tensor_1d,dtype=tf.float64)\n",
    "tf_tensor_2d = tf.convert_to_tensor(tensor_2d,dtype=tf.float64)"
   ]
  },
  {
   "cell_type": "code",
   "execution_count": 28,
   "id": "dcdfc040",
   "metadata": {},
   "outputs": [
    {
     "data": {
      "text/plain": [
       "array([1.2, 3.4, 5.6, 7.8])"
      ]
     },
     "execution_count": 28,
     "metadata": {},
     "output_type": "execute_result"
    }
   ],
   "source": [
    "sess.run(tf_tensor_1d)"
   ]
  },
  {
   "cell_type": "code",
   "execution_count": 29,
   "id": "92036e77",
   "metadata": {},
   "outputs": [
    {
     "data": {
      "text/plain": [
       "1.2"
      ]
     },
     "execution_count": 29,
     "metadata": {},
     "output_type": "execute_result"
    }
   ],
   "source": [
    "sess.run(tf_tensor_1d[0])"
   ]
  },
  {
   "cell_type": "code",
   "execution_count": 30,
   "id": "eb870a08",
   "metadata": {},
   "outputs": [
    {
     "data": {
      "text/plain": [
       "array([5.6, 7.8])"
      ]
     },
     "execution_count": 30,
     "metadata": {},
     "output_type": "execute_result"
    }
   ],
   "source": [
    "sess.run(tf_tensor_1d[2:])"
   ]
  },
  {
   "cell_type": "code",
   "execution_count": 31,
   "id": "059f5301",
   "metadata": {},
   "outputs": [
    {
     "data": {
      "text/plain": [
       "array([[ 0.,  1.,  2.,  3.],\n",
       "       [ 4.,  5.,  6.,  7.],\n",
       "       [ 8.,  9., 10., 11.],\n",
       "       [12., 13., 14., 15.]])"
      ]
     },
     "execution_count": 31,
     "metadata": {},
     "output_type": "execute_result"
    }
   ],
   "source": [
    "sess.run(tf_tensor_2d)"
   ]
  },
  {
   "cell_type": "code",
   "execution_count": 32,
   "id": "590a1032",
   "metadata": {},
   "outputs": [
    {
     "data": {
      "text/plain": [
       "15.0"
      ]
     },
     "execution_count": 32,
     "metadata": {},
     "output_type": "execute_result"
    }
   ],
   "source": [
    "#sess.run(tf_tensor_2d[3][3])\n",
    "sess.run(tf_tensor_2d[3, 3])"
   ]
  },
  {
   "cell_type": "code",
   "execution_count": 33,
   "id": "83788225",
   "metadata": {},
   "outputs": [
    {
     "data": {
      "text/plain": [
       "array([[ 5.,  6.],\n",
       "       [ 9., 10.]])"
      ]
     },
     "execution_count": 33,
     "metadata": {},
     "output_type": "execute_result"
    }
   ],
   "source": [
    "sess.run(tf_tensor_2d[1:3, 1:3])"
   ]
  },
  {
   "cell_type": "code",
   "execution_count": 34,
   "id": "77a9dedc",
   "metadata": {},
   "outputs": [
    {
     "name": "stdout",
     "output_type": "stream",
     "text": [
      "\n",
      "* matrix3 = \n",
      "[[2. 7. 2.]\n",
      " [1. 4. 2.]\n",
      " [9. 0. 2.]]\n",
      "\n",
      "* matrix_dtm = Tensor(\"MatrixDeterminant:0\", shape=(), dtype=float32) \n"
     ]
    }
   ],
   "source": [
    "import tensorflow as tf\n",
    "import numpy as np\n",
    "\n",
    "# 3x3 행렬\n",
    "matrix1 = np.array([(1, 1, 1), (1, 1, 1), (1, 1, 1)])\n",
    "matrix2 = np.array([(2, 2, 2), (2, 2, 2), (2, 2, 2)])\n",
    "\n",
    "# constant, 텐서 자료 구조로 변환\n",
    "# matrix1 = tf.constant(matrix1)\n",
    "# matrix2 = tf.constant(matrix2)\n",
    "matrix1 = tf.constant(matrix1, dtype='int32')\n",
    "matrix2 = tf.constant(matrix2, dtype='int32')\n",
    "\n",
    "# 행렬곱과 행렬합 계산\n",
    "matrix_mul = tf.matmul(matrix1, matrix2)\n",
    "matrix_sum = tf.add(matrix1, matrix2)\n",
    "\n",
    "# 행렬의 행렬식(determinant)\n",
    "matrix3 = np.array([(2, 7, 2), (1, 4, 2), (9, 0, 2)], dtype='float32')\n",
    "print('\\n* matrix3 = \\n{}'.format(matrix3))\n",
    "\n",
    "# matrix_dtm = tf.matrix_determinant(matrix3)\n",
    "matrix_dtm = tf.linalg.det(matrix3)\n",
    "print('\\n* matrix_dtm = {} '.format(matrix_dtm))\n",
    "\n",
    "# 세션을 열고 그래프 연산\n",
    "# with tf.Session() as sess:\n",
    "#     result1 = sess.run(matrix_mul)\n",
    "#     result2 = sess.run(matrix_sum)\n",
    "#     result3 = sess.run(matrix_dtm)\n",
    "    \n",
    "#     # tensorboard for graph\n",
    "#     writer = tf.summary.FileWriter(\"./graph/sect01\", sess.graph)"
   ]
  },
  {
   "cell_type": "code",
   "execution_count": 35,
   "id": "403dea2f",
   "metadata": {},
   "outputs": [
    {
     "data": {
      "text/plain": [
       "<tf.Tensor 'MatrixDeterminant_1:0' shape=() dtype=float32>"
      ]
     },
     "execution_count": 35,
     "metadata": {},
     "output_type": "execute_result"
    }
   ],
   "source": [
    "# matrix_dtm = tf.matrix_determinant(matrix3)\n",
    "matrix_dtm = tf.linalg.det(matrix3)\n",
    "matrix_dtm"
   ]
  },
  {
   "cell_type": "code",
   "execution_count": 36,
   "id": "0af25af6",
   "metadata": {},
   "outputs": [
    {
     "name": "stdout",
     "output_type": "stream",
     "text": [
      "\n",
      "* matrix_mul = \n",
      "[[6 6 6]\n",
      " [6 6 6]\n",
      " [6 6 6]]\n",
      "\n",
      "* matrix_sum = \n",
      "[[3 3 3]\n",
      " [3 3 3]\n",
      " [3 3 3]]\n",
      "\n",
      "* matrix_dtm = 55.99999237060547\n"
     ]
    }
   ],
   "source": [
    "# 세션을 열고 그래프 연산\n",
    "# sess = tf.compat.v1.Session()\n",
    "with tf.compat.v1.Session() as sess:\n",
    "    result1 = sess.run(matrix_mul)\n",
    "    result2 = sess.run(matrix_sum)\n",
    "    result3 = sess.run(matrix_dtm)\n",
    "    \n",
    "    # tensorboard for graph\n",
    "    # writer = tf.summary.FileWriter(\"./graph/sect01\", sess.graph)\n",
    "    writer = tf.compat.v1.summary.FileWriter(\"./graph/board\", sess.graph)\n",
    "\n",
    "# 연산 결과 출력\n",
    "print('\\n* matrix_mul = \\n{}'.format(result1))\n",
    "print('\\n* matrix_sum = \\n{}'.format(result2))\n",
    "print('\\n* matrix_dtm = {}'.format(result3))"
   ]
  },
  {
   "cell_type": "code",
   "execution_count": null,
   "id": "bda9a0fe",
   "metadata": {},
   "outputs": [],
   "source": []
  }
 ],
 "metadata": {
  "kernelspec": {
   "display_name": "Python 3 (ipykernel)",
   "language": "python",
   "name": "python3"
  },
  "language_info": {
   "codemirror_mode": {
    "name": "ipython",
    "version": 3
   },
   "file_extension": ".py",
   "mimetype": "text/x-python",
   "name": "python",
   "nbconvert_exporter": "python",
   "pygments_lexer": "ipython3",
   "version": "3.9.12"
  }
 },
 "nbformat": 4,
 "nbformat_minor": 5
}
