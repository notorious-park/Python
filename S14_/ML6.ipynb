{
 "cells": [
  {
   "cell_type": "markdown",
   "id": "ca649b10",
   "metadata": {},
   "source": [
    "# Sect5. Logistic (regression) classifier"
   ]
  },
  {
   "cell_type": "markdown",
   "id": "371bf904",
   "metadata": {},
   "source": [
    "### 로지스틱 회귀 (Logistic regression)\n",
    ">위키피디어 : 로지스틱 회귀 (Logistic regression)\n",
    "\n",
    "- 로지스틱 회귀는 D.R.Cox가 1958년에 제안한 확률 모델로서 독립 변수의 선형 결합을 이용하여 사건의 발생 가능성을 예측하는데 사용되는 통계 기법이다.\n",
    "- 로지스틱 회귀는 선형 회귀 분석과는 다르게 종속 변수가 범주형 데이터를 대상으로 하며 입력 데이터가 주어졌을 때 해당 데이터의 결과가 특정 분류로 나뉘기 때문에 일종의 분류 (classification) 기법으로도 볼 수 있다."
   ]
  },
  {
   "cell_type": "markdown",
   "id": "6f3ddf3c",
   "metadata": {},
   "source": [
    "- $$ H(X) = W X $$\n",
    "\n",
    "- $$ z = H(X) $$\n",
    "- $$ g(z) $$"
   ]
  },
  {
   "cell_type": "markdown",
   "id": "69ad5a5d",
   "metadata": {},
   "source": [
    "### 로지스틱 함수\n",
    "- 로지스틱 모형 식은 독립 변수가 [-∞,∞]의 어느 숫자이든 상관 없이 종속 변수 또는 결과 값이 항상 범위 [0,1] 사이에 있도록 한다.\n",
    "- 이는 오즈비(odds ratio)를 로짓(logit) 변환을 수행함으로써 얻어진다"
   ]
  },
  {
   "cell_type": "markdown",
   "id": "02e9678d",
   "metadata": {},
   "source": [
    "### Logistic Regression Classifier\n",
    "- Logistic Model : holehouse.org / Logistic Regression\n",
    "- Cost Function : Logistic Regression Cost Function\n",
    "\n",
    "$$ H(X) = \\frac{1}{1 + e^-W^TX} $$\n",
    "\n",
    "$$ cost(W) = -\\frac{1}{m} \\sum y log(H(x)) + (1-y)(log(1 - H(x)) $$\n",
    "$$ W := W - α \\frac{σ}{σW} cost(W) $$"
   ]
  },
  {
   "cell_type": "markdown",
   "id": "59a2d363",
   "metadata": {},
   "source": [
    "### Anyway, Cost를 최소화 하는 것이 최적화의 방법\n",
    "- y=1일때, 우리의 예측이 맞았다면, cost는 0\n",
    "H(x) = 1 → cost(1) = 0\n",
    "- y=1일때, 우리의 예측이 틀리다면, cost는 ∞\n",
    "H(x) = 0 → cost(0) = ∞\n",
    "\n",
    "- y=0일때, 우리의 예측이 맞았다면, cost는 0\n",
    "H(x) = 0 → cost(0) = 0\n",
    "\n",
    "- y=0일때, 우리의 예측이 틀리다면, cost는 ∞\n",
    "H(x) = 1 → cost(1) = ∞"
   ]
  },
  {
   "cell_type": "code",
   "execution_count": 5,
   "id": "9056c1f6",
   "metadata": {},
   "outputs": [],
   "source": [
    "from tqdm import tqdm_notebook"
   ]
  },
  {
   "cell_type": "code",
   "execution_count": 2,
   "id": "3324951a",
   "metadata": {},
   "outputs": [
    {
     "name": "stdout",
     "output_type": "stream",
     "text": [
      "WARNING:tensorflow:From C:\\Python\\anaconda3\\lib\\site-packages\\tensorflow\\python\\compat\\v2_compat.py:107: disable_resource_variables (from tensorflow.python.ops.variable_scope) is deprecated and will be removed in a future version.\n",
      "Instructions for updating:\n",
      "non-resource variables are not supported in the long term\n"
     ]
    }
   ],
   "source": [
    "# import tensorflow as tf\n",
    "import tensorflow.compat.v1 as tf\n",
    "\n",
    "tf.disable_v2_behavior()\n",
    "\n",
    "tf.set_random_seed(777)  # for reproducibility\n",
    "\n",
    "# Training Data 2dim: x1(hours), x2(attendence)\n",
    "x_data = [[1, 2], [2, 3], [3, 1], [4, 3], [5, 3], [6, 2]]  \n",
    "# Result Data : y(0:fail or 1:pass)\n",
    "y_data = [[0], [0], [0], [1], [1], [1]]                     \n",
    "\n",
    "# placeholders for a tensor that will be always fed.\n",
    "X = tf.placeholder(tf.float32, shape=[None, 2])\n",
    "Y = tf.placeholder(tf.float32, shape=[None, 1])\n",
    "\n",
    "W = tf.Variable(tf.random_normal([2, 1]), name='weight')\n",
    "b = tf.Variable(tf.random_normal([1]), name='bias')\n",
    "\n",
    "# Hypothesis using sigmoid: tf.div(1., 1. + tf.exp(tf.matmul(X, W)))\n",
    "hypothesis = tf.sigmoid(tf.matmul(X, W) + b)\n",
    "\n",
    "# cost/loss function\n",
    "cost = -tf.reduce_mean(Y * tf.log(hypothesis) + (1 - Y) *\n",
    "                       tf.log(1 - hypothesis))\n",
    "\n",
    "train = tf.train.GradientDescentOptimizer(learning_rate=0.01).minimize(cost)\n",
    "\n",
    "# Accuracy computation\n",
    "# True if hypothesis>0.5 else False\n",
    "predicted = tf.cast(hypothesis > 0.5, dtype=tf.float32)\n",
    "accuracy = tf.reduce_mean(tf.cast(tf.equal(predicted, Y), dtype=tf.float32))"
   ]
  },
  {
   "cell_type": "code",
   "execution_count": 6,
   "id": "4ca490f6",
   "metadata": {},
   "outputs": [
    {
     "name": "stderr",
     "output_type": "stream",
     "text": [
      "C:\\Users\\student\\AppData\\Local\\Temp\\ipykernel_10084\\367348450.py:6: TqdmDeprecationWarning: This function will be removed in tqdm==5.0.0\n",
      "Please use `tqdm.notebook.tqdm` instead of `tqdm.tqdm_notebook`\n",
      "  for step in tqdm_notebook(range(10001)):\n"
     ]
    },
    {
     "data": {
      "application/vnd.jupyter.widget-view+json": {
       "model_id": "b141209130114d34a67bbbfae53b38dc",
       "version_major": 2,
       "version_minor": 0
      },
      "text/plain": [
       "  0%|          | 0/10001 [00:00<?, ?it/s]"
      ]
     },
     "metadata": {},
     "output_type": "display_data"
    },
    {
     "name": "stdout",
     "output_type": "stream",
     "text": [
      "Step : 0 \t Cost : 0.7430492043495178\n",
      "Step : 1 \t Cost : 0.7321328520774841\n",
      "Step : 2 \t Cost : 0.72150057554245\n",
      "Step : 3 \t Cost : 0.7111538052558899\n",
      "Step : 4 \t Cost : 0.7010929584503174\n",
      "Step : 5 \t Cost : 0.6913184523582458\n",
      "Step : 6 \t Cost : 0.6818299889564514\n",
      "Step : 7 \t Cost : 0.6726274490356445\n",
      "Step : 8 \t Cost : 0.6637097001075745\n",
      "Step : 9 \t Cost : 0.6550756096839905\n",
      "Step : 200 \t Cost : 0.4218468964099884\n",
      "Step : 400 \t Cost : 0.3823147714138031\n",
      "Step : 600 \t Cost : 0.3591019809246063\n",
      "Step : 800 \t Cost : 0.3428586423397064\n",
      "Step : 1000 \t Cost : 0.33000972867012024\n",
      "Step : 1200 \t Cost : 0.31902754306793213\n",
      "Step : 1400 \t Cost : 0.3091982305049896\n",
      "Step : 1600 \t Cost : 0.3001621663570404\n",
      "Step : 1800 \t Cost : 0.29172614216804504\n",
      "Step : 2000 \t Cost : 0.28377869725227356\n",
      "Step : 2200 \t Cost : 0.2762506902217865\n",
      "Step : 2400 \t Cost : 0.26909589767456055\n",
      "Step : 2600 \t Cost : 0.26228079199790955\n",
      "Step : 2800 \t Cost : 0.25577929615974426\n",
      "Step : 3000 \t Cost : 0.24956989288330078\n",
      "Step : 3200 \t Cost : 0.2436339110136032\n",
      "Step : 3400 \t Cost : 0.2379549741744995\n",
      "Step : 3600 \t Cost : 0.23251797258853912\n",
      "Step : 3800 \t Cost : 0.22730910778045654\n",
      "Step : 4000 \t Cost : 0.2223156839609146\n",
      "Step : 4200 \t Cost : 0.21752572059631348\n",
      "Step : 4400 \t Cost : 0.21292807161808014\n",
      "Step : 4600 \t Cost : 0.208512544631958\n",
      "Step : 4800 \t Cost : 0.20426923036575317\n",
      "Step : 5000 \t Cost : 0.200189009308815\n",
      "Step : 5200 \t Cost : 0.196263387799263\n",
      "Step : 5400 \t Cost : 0.1924843192100525\n",
      "Step : 5600 \t Cost : 0.18884430825710297\n",
      "Step : 5800 \t Cost : 0.18533621728420258\n",
      "Step : 6000 \t Cost : 0.18195341527462006\n",
      "Step : 6200 \t Cost : 0.17868979275226593\n",
      "Step : 6400 \t Cost : 0.17553932964801788\n",
      "Step : 6600 \t Cost : 0.17249660193920135\n",
      "Step : 6800 \t Cost : 0.1695563793182373\n",
      "Step : 7000 \t Cost : 0.1667138934135437\n",
      "Step : 7200 \t Cost : 0.16396445035934448\n",
      "Step : 7400 \t Cost : 0.16130384802818298\n",
      "Step : 7600 \t Cost : 0.15872789919376373\n",
      "Step : 7800 \t Cost : 0.15623274445533752\n",
      "Step : 8000 \t Cost : 0.1538149118423462\n",
      "Step : 8200 \t Cost : 0.15147088468074799\n",
      "Step : 8400 \t Cost : 0.14919747412204742\n",
      "Step : 8600 \t Cost : 0.14699149131774902\n",
      "Step : 8800 \t Cost : 0.14485017955303192\n",
      "Step : 9000 \t Cost : 0.14277081191539764\n",
      "Step : 9200 \t Cost : 0.14075064659118652\n",
      "Step : 9400 \t Cost : 0.13878749310970306\n",
      "Step : 9600 \t Cost : 0.1368788629770279\n",
      "Step : 9800 \t Cost : 0.1350226253271103\n",
      "Step : 10000 \t Cost : 0.13321655988693237\n"
     ]
    }
   ],
   "source": [
    "# Launch graph\n",
    "with tf.Session() as sess:\n",
    "    # Initialize TensorFlow variables\n",
    "    sess.run(tf.global_variables_initializer())\n",
    "\n",
    "    for step in tqdm_notebook(range(10001)):\n",
    "        cost_val, _ = sess.run([cost, train], feed_dict={X: x_data, Y: y_data})\n",
    "        if step % 200 == 0 or step < 10 :\n",
    "            print(\"Step : {} \\t Cost : {}\".format(step, cost_val))\n",
    "            \n",
    "    # Accuracy report\n",
    "    h, c, a = sess.run([hypothesis, predicted, accuracy],\n",
    "                       feed_dict={X: x_data, Y: y_data})"
   ]
  },
  {
   "cell_type": "code",
   "execution_count": 7,
   "id": "4c2ab7c4",
   "metadata": {},
   "outputs": [
    {
     "name": "stdout",
     "output_type": "stream",
     "text": [
      "# Hypothesis: \n",
      "[[0.0242024 ]\n",
      " [0.1489122 ]\n",
      " [0.27185953]\n",
      " [0.79689527]\n",
      " [0.9489273 ]\n",
      " [0.9833507 ]] \n",
      "\n",
      "# Correct (Y): \n",
      "[[0.]\n",
      " [0.]\n",
      " [0.]\n",
      " [1.]\n",
      " [1.]\n",
      " [1.]] \n",
      "\n",
      "# Accuracy: 1.0\n"
     ]
    }
   ],
   "source": [
    "print(\"# Hypothesis: \\n{h} \\n\\n# Correct (Y): \\n{c} \\n\\n# Accuracy: {a}\".format(\n",
    "    h = h, c = c, a = a\n",
    "))"
   ]
  },
  {
   "cell_type": "markdown",
   "id": "e08eedf5",
   "metadata": {},
   "source": [
    "### Classifying diabetes\n",
    "> 당뇨병 예측하는 실습 예제\n",
    "\n",
    "- 예측값이 1이면 당뇨병 O\n",
    "- 예측값이 0이면 당뇨병 X"
   ]
  },
  {
   "cell_type": "code",
   "execution_count": 9,
   "id": "cfe05ca9",
   "metadata": {},
   "outputs": [
    {
     "data": {
      "text/html": [
       "<div>\n",
       "<style scoped>\n",
       "    .dataframe tbody tr th:only-of-type {\n",
       "        vertical-align: middle;\n",
       "    }\n",
       "\n",
       "    .dataframe tbody tr th {\n",
       "        vertical-align: top;\n",
       "    }\n",
       "\n",
       "    .dataframe thead th {\n",
       "        text-align: right;\n",
       "    }\n",
       "</style>\n",
       "<table border=\"1\" class=\"dataframe\">\n",
       "  <thead>\n",
       "    <tr style=\"text-align: right;\">\n",
       "      <th></th>\n",
       "      <th>0</th>\n",
       "      <th>1</th>\n",
       "      <th>2</th>\n",
       "      <th>3</th>\n",
       "      <th>4</th>\n",
       "      <th>5</th>\n",
       "      <th>6</th>\n",
       "      <th>7</th>\n",
       "      <th>8</th>\n",
       "    </tr>\n",
       "  </thead>\n",
       "  <tbody>\n",
       "    <tr>\n",
       "      <th>0</th>\n",
       "      <td>-0.294118</td>\n",
       "      <td>0.487437</td>\n",
       "      <td>0.180328</td>\n",
       "      <td>-0.292929</td>\n",
       "      <td>0.000000</td>\n",
       "      <td>0.001490</td>\n",
       "      <td>-0.531170</td>\n",
       "      <td>-0.033333</td>\n",
       "      <td>0</td>\n",
       "    </tr>\n",
       "    <tr>\n",
       "      <th>1</th>\n",
       "      <td>-0.882353</td>\n",
       "      <td>-0.145729</td>\n",
       "      <td>0.081967</td>\n",
       "      <td>-0.414141</td>\n",
       "      <td>0.000000</td>\n",
       "      <td>-0.207153</td>\n",
       "      <td>-0.766866</td>\n",
       "      <td>-0.666667</td>\n",
       "      <td>1</td>\n",
       "    </tr>\n",
       "    <tr>\n",
       "      <th>2</th>\n",
       "      <td>-0.058824</td>\n",
       "      <td>0.839196</td>\n",
       "      <td>0.049180</td>\n",
       "      <td>0.000000</td>\n",
       "      <td>0.000000</td>\n",
       "      <td>-0.305514</td>\n",
       "      <td>-0.492741</td>\n",
       "      <td>-0.633333</td>\n",
       "      <td>0</td>\n",
       "    </tr>\n",
       "    <tr>\n",
       "      <th>3</th>\n",
       "      <td>-0.882353</td>\n",
       "      <td>-0.105528</td>\n",
       "      <td>0.081967</td>\n",
       "      <td>-0.535354</td>\n",
       "      <td>-0.777778</td>\n",
       "      <td>-0.162444</td>\n",
       "      <td>-0.923997</td>\n",
       "      <td>0.000000</td>\n",
       "      <td>1</td>\n",
       "    </tr>\n",
       "    <tr>\n",
       "      <th>4</th>\n",
       "      <td>0.000000</td>\n",
       "      <td>0.376884</td>\n",
       "      <td>-0.344262</td>\n",
       "      <td>-0.292929</td>\n",
       "      <td>-0.602837</td>\n",
       "      <td>0.284650</td>\n",
       "      <td>0.887276</td>\n",
       "      <td>-0.600000</td>\n",
       "      <td>0</td>\n",
       "    </tr>\n",
       "    <tr>\n",
       "      <th>5</th>\n",
       "      <td>-0.411765</td>\n",
       "      <td>0.165829</td>\n",
       "      <td>0.213115</td>\n",
       "      <td>0.000000</td>\n",
       "      <td>0.000000</td>\n",
       "      <td>-0.236960</td>\n",
       "      <td>-0.894962</td>\n",
       "      <td>-0.700000</td>\n",
       "      <td>1</td>\n",
       "    </tr>\n",
       "    <tr>\n",
       "      <th>6</th>\n",
       "      <td>-0.647059</td>\n",
       "      <td>-0.216080</td>\n",
       "      <td>-0.180328</td>\n",
       "      <td>-0.353535</td>\n",
       "      <td>-0.791962</td>\n",
       "      <td>-0.076006</td>\n",
       "      <td>-0.854825</td>\n",
       "      <td>-0.833333</td>\n",
       "      <td>0</td>\n",
       "    </tr>\n",
       "    <tr>\n",
       "      <th>7</th>\n",
       "      <td>0.176471</td>\n",
       "      <td>0.155779</td>\n",
       "      <td>0.000000</td>\n",
       "      <td>0.000000</td>\n",
       "      <td>0.000000</td>\n",
       "      <td>0.052161</td>\n",
       "      <td>-0.952178</td>\n",
       "      <td>-0.733333</td>\n",
       "      <td>1</td>\n",
       "    </tr>\n",
       "    <tr>\n",
       "      <th>8</th>\n",
       "      <td>-0.764706</td>\n",
       "      <td>0.979899</td>\n",
       "      <td>0.147541</td>\n",
       "      <td>-0.090909</td>\n",
       "      <td>0.283688</td>\n",
       "      <td>-0.090909</td>\n",
       "      <td>-0.931682</td>\n",
       "      <td>0.066667</td>\n",
       "      <td>0</td>\n",
       "    </tr>\n",
       "    <tr>\n",
       "      <th>9</th>\n",
       "      <td>-0.058824</td>\n",
       "      <td>0.256281</td>\n",
       "      <td>0.573770</td>\n",
       "      <td>0.000000</td>\n",
       "      <td>0.000000</td>\n",
       "      <td>0.000000</td>\n",
       "      <td>-0.868488</td>\n",
       "      <td>0.100000</td>\n",
       "      <td>0</td>\n",
       "    </tr>\n",
       "  </tbody>\n",
       "</table>\n",
       "</div>"
      ],
      "text/plain": [
       "          0         1         2         3         4         5         6  \\\n",
       "0 -0.294118  0.487437  0.180328 -0.292929  0.000000  0.001490 -0.531170   \n",
       "1 -0.882353 -0.145729  0.081967 -0.414141  0.000000 -0.207153 -0.766866   \n",
       "2 -0.058824  0.839196  0.049180  0.000000  0.000000 -0.305514 -0.492741   \n",
       "3 -0.882353 -0.105528  0.081967 -0.535354 -0.777778 -0.162444 -0.923997   \n",
       "4  0.000000  0.376884 -0.344262 -0.292929 -0.602837  0.284650  0.887276   \n",
       "5 -0.411765  0.165829  0.213115  0.000000  0.000000 -0.236960 -0.894962   \n",
       "6 -0.647059 -0.216080 -0.180328 -0.353535 -0.791962 -0.076006 -0.854825   \n",
       "7  0.176471  0.155779  0.000000  0.000000  0.000000  0.052161 -0.952178   \n",
       "8 -0.764706  0.979899  0.147541 -0.090909  0.283688 -0.090909 -0.931682   \n",
       "9 -0.058824  0.256281  0.573770  0.000000  0.000000  0.000000 -0.868488   \n",
       "\n",
       "          7  8  \n",
       "0 -0.033333  0  \n",
       "1 -0.666667  1  \n",
       "2 -0.633333  0  \n",
       "3  0.000000  1  \n",
       "4 -0.600000  0  \n",
       "5 -0.700000  1  \n",
       "6 -0.833333  0  \n",
       "7 -0.733333  1  \n",
       "8  0.066667  0  \n",
       "9  0.100000  0  "
      ]
     },
     "execution_count": 9,
     "metadata": {},
     "output_type": "execute_result"
    }
   ],
   "source": [
    "import pandas as pd\n",
    "\n",
    "# df = pd.read_csv(\"./data/data-03-diabetes.csv\")\n",
    "df = pd.read_csv(\"./data/data-03-diabetes.csv\", header=None)\n",
    "df.head(10)"
   ]
  },
  {
   "cell_type": "code",
   "execution_count": 10,
   "id": "9a239c99",
   "metadata": {},
   "outputs": [
    {
     "name": "stdout",
     "output_type": "stream",
     "text": [
      " x_data.shape : (759, 8) \n",
      " y_data.shape : (759, 1)\n"
     ]
    }
   ],
   "source": [
    "# Lab 5 Logistic Regression Classifier\n",
    "# import tensorflow as tf\n",
    "import tensorflow.compat.v1 as tf\n",
    "import numpy as np\n",
    "\n",
    "tf.disable_v2_behavior()\n",
    "\n",
    "tf.set_random_seed(777)  # for reproducibility\n",
    "\n",
    "xy = np.loadtxt('./data/data-03-diabetes.csv', delimiter=',', dtype=np.float32)\n",
    "x_data = xy[:, 0:-1]\n",
    "y_data = xy[:, [-1]]\n",
    "\n",
    "# print(x_data.shape, y_data.shape)\n",
    "print(\" x_data.shape : {x_shape} \\n y_data.shape : {y_shape}\".format(\n",
    "        x_shape = x_data.shape, \n",
    "        y_shape = y_data.shape\n",
    "    ))\n",
    "\n",
    "# placeholders for a tensor that will be always fed.\n",
    "X = tf.placeholder(tf.float32, shape=[None, 8])\n",
    "Y = tf.placeholder(tf.float32, shape=[None, 1])\n",
    "\n",
    "W = tf.Variable(tf.random_normal([8, 1]), name='weight')\n",
    "b = tf.Variable(tf.random_normal([1]), name='bias')\n",
    "\n",
    "# Hypothesis using sigmoid: tf.div(1., 1. + tf.exp(tf.matmul(X, W)))\n",
    "hypothesis = tf.sigmoid(tf.matmul(X, W) + b)\n",
    "\n",
    "# cost/loss function\n",
    "cost = -tf.reduce_mean(Y * tf.log(hypothesis) + (1 - Y) *\n",
    "                       tf.log(1 - hypothesis))\n",
    "\n",
    "train = tf.train.GradientDescentOptimizer(learning_rate=0.01).minimize(cost)\n",
    "\n",
    "# Accuracy computation\n",
    "# True if hypothesis>0.5 else False\n",
    "predicted = tf.cast(hypothesis > 0.5, dtype=tf.float32)\n",
    "accuracy = tf.reduce_mean(tf.cast(tf.equal(predicted, Y), dtype=tf.float32))"
   ]
  },
  {
   "cell_type": "code",
   "execution_count": 11,
   "id": "82fc21d4",
   "metadata": {},
   "outputs": [
    {
     "name": "stdout",
     "output_type": "stream",
     "text": [
      "759\n"
     ]
    },
    {
     "data": {
      "text/plain": [
       "array([[-0.294118  ,  0.487437  ,  0.180328  , -0.292929  ,  0.        ,\n",
       "         0.00149028, -0.53117   , -0.0333333 ,  0.        ],\n",
       "       [-0.882353  , -0.145729  ,  0.0819672 , -0.414141  ,  0.        ,\n",
       "        -0.207153  , -0.766866  , -0.666667  ,  1.        ],\n",
       "       [-0.0588235 ,  0.839196  ,  0.0491803 ,  0.        ,  0.        ,\n",
       "        -0.305514  , -0.492741  , -0.633333  ,  0.        ],\n",
       "       [-0.882353  , -0.105528  ,  0.0819672 , -0.535354  , -0.777778  ,\n",
       "        -0.162444  , -0.923997  ,  0.        ,  1.        ],\n",
       "       [ 0.        ,  0.376884  , -0.344262  , -0.292929  , -0.602837  ,\n",
       "         0.28465   ,  0.887276  , -0.6       ,  0.        ],\n",
       "       [-0.411765  ,  0.165829  ,  0.213115  ,  0.        ,  0.        ,\n",
       "        -0.23696   , -0.894962  , -0.7       ,  1.        ],\n",
       "       [-0.647059  , -0.21608   , -0.180328  , -0.353535  , -0.791962  ,\n",
       "        -0.0760059 , -0.854825  , -0.833333  ,  0.        ],\n",
       "       [ 0.176471  ,  0.155779  ,  0.        ,  0.        ,  0.        ,\n",
       "         0.052161  , -0.952178  , -0.733333  ,  1.        ],\n",
       "       [-0.764706  ,  0.979899  ,  0.147541  , -0.0909091 ,  0.283688  ,\n",
       "        -0.0909091 , -0.931682  ,  0.0666667 ,  0.        ],\n",
       "       [-0.0588235 ,  0.256281  ,  0.57377   ,  0.        ,  0.        ,\n",
       "         0.        , -0.868488  ,  0.1       ,  0.        ]],\n",
       "      dtype=float32)"
      ]
     },
     "execution_count": 11,
     "metadata": {},
     "output_type": "execute_result"
    }
   ],
   "source": [
    "print(len(xy)) \n",
    "xy[:10]"
   ]
  },
  {
   "cell_type": "code",
   "execution_count": 12,
   "id": "e973d38e",
   "metadata": {},
   "outputs": [
    {
     "name": "stdout",
     "output_type": "stream",
     "text": [
      "759\n"
     ]
    },
    {
     "data": {
      "text/plain": [
       "array([[-0.294118  ,  0.487437  ,  0.180328  , -0.292929  ,  0.        ,\n",
       "         0.00149028, -0.53117   , -0.0333333 ],\n",
       "       [-0.882353  , -0.145729  ,  0.0819672 , -0.414141  ,  0.        ,\n",
       "        -0.207153  , -0.766866  , -0.666667  ],\n",
       "       [-0.0588235 ,  0.839196  ,  0.0491803 ,  0.        ,  0.        ,\n",
       "        -0.305514  , -0.492741  , -0.633333  ],\n",
       "       [-0.882353  , -0.105528  ,  0.0819672 , -0.535354  , -0.777778  ,\n",
       "        -0.162444  , -0.923997  ,  0.        ],\n",
       "       [ 0.        ,  0.376884  , -0.344262  , -0.292929  , -0.602837  ,\n",
       "         0.28465   ,  0.887276  , -0.6       ],\n",
       "       [-0.411765  ,  0.165829  ,  0.213115  ,  0.        ,  0.        ,\n",
       "        -0.23696   , -0.894962  , -0.7       ],\n",
       "       [-0.647059  , -0.21608   , -0.180328  , -0.353535  , -0.791962  ,\n",
       "        -0.0760059 , -0.854825  , -0.833333  ],\n",
       "       [ 0.176471  ,  0.155779  ,  0.        ,  0.        ,  0.        ,\n",
       "         0.052161  , -0.952178  , -0.733333  ],\n",
       "       [-0.764706  ,  0.979899  ,  0.147541  , -0.0909091 ,  0.283688  ,\n",
       "        -0.0909091 , -0.931682  ,  0.0666667 ],\n",
       "       [-0.0588235 ,  0.256281  ,  0.57377   ,  0.        ,  0.        ,\n",
       "         0.        , -0.868488  ,  0.1       ]], dtype=float32)"
      ]
     },
     "execution_count": 12,
     "metadata": {},
     "output_type": "execute_result"
    }
   ],
   "source": [
    "print(len(x_data)) \n",
    "x_data[:10]"
   ]
  },
  {
   "cell_type": "code",
   "execution_count": 13,
   "id": "3cfe365d",
   "metadata": {},
   "outputs": [
    {
     "name": "stdout",
     "output_type": "stream",
     "text": [
      "759\n"
     ]
    },
    {
     "data": {
      "text/plain": [
       "array([[0.],\n",
       "       [1.],\n",
       "       [0.],\n",
       "       [1.],\n",
       "       [0.],\n",
       "       [1.],\n",
       "       [0.],\n",
       "       [1.],\n",
       "       [0.],\n",
       "       [0.]], dtype=float32)"
      ]
     },
     "execution_count": 13,
     "metadata": {},
     "output_type": "execute_result"
    }
   ],
   "source": [
    "print(len(y_data)) \n",
    "y_data[:10]"
   ]
  },
  {
   "cell_type": "code",
   "execution_count": 14,
   "id": "d082ecab",
   "metadata": {},
   "outputs": [
    {
     "name": "stderr",
     "output_type": "stream",
     "text": [
      "C:\\Users\\student\\AppData\\Local\\Temp\\ipykernel_10084\\1901997130.py:6: TqdmDeprecationWarning: This function will be removed in tqdm==5.0.0\n",
      "Please use `tqdm.notebook.tqdm` instead of `tqdm.tqdm_notebook`\n",
      "  for step in tqdm_notebook(range(10001)):\n"
     ]
    },
    {
     "data": {
      "application/vnd.jupyter.widget-view+json": {
       "model_id": "92d245e411ff49249beeb258442bd474",
       "version_major": 2,
       "version_minor": 0
      },
      "text/plain": [
       "  0%|          | 0/10001 [00:00<?, ?it/s]"
      ]
     },
     "metadata": {},
     "output_type": "display_data"
    },
    {
     "name": "stdout",
     "output_type": "stream",
     "text": [
      "Step : 0 \t Cost : 1.0378105640411377\n",
      "Step : 1 \t Cost : 1.0360039472579956\n",
      "Step : 2 \t Cost : 1.0342001914978027\n",
      "Step : 3 \t Cost : 1.0323994159698486\n",
      "Step : 4 \t Cost : 1.0306012630462646\n",
      "Step : 5 \t Cost : 1.028806209564209\n",
      "Step : 6 \t Cost : 1.0270142555236816\n",
      "Step : 7 \t Cost : 1.0252249240875244\n",
      "Step : 8 \t Cost : 1.023438811302185\n",
      "Step : 9 \t Cost : 1.0216553211212158\n",
      "Step : 200 \t Cost : 0.7447590827941895\n",
      "Step : 400 \t Cost : 0.600660502910614\n",
      "Step : 600 \t Cost : 0.5523813962936401\n",
      "Step : 800 \t Cost : 0.5376949906349182\n",
      "Step : 1000 \t Cost : 0.5314603447914124\n",
      "Step : 1200 \t Cost : 0.527259886264801\n",
      "Step : 1400 \t Cost : 0.5237146019935608\n",
      "Step : 1600 \t Cost : 0.5205262303352356\n",
      "Step : 1800 \t Cost : 0.5176125764846802\n",
      "Step : 2000 \t Cost : 0.5149363875389099\n",
      "Step : 2200 \t Cost : 0.5124714374542236\n",
      "Step : 2400 \t Cost : 0.5101962685585022\n",
      "Step : 2600 \t Cost : 0.5080920457839966\n",
      "Step : 2800 \t Cost : 0.5061423182487488\n",
      "Step : 3000 \t Cost : 0.5043325424194336\n",
      "Step : 3200 \t Cost : 0.50264972448349\n",
      "Step : 3400 \t Cost : 0.5010824799537659\n",
      "Step : 3600 \t Cost : 0.4996207356452942\n",
      "Step : 3800 \t Cost : 0.49825519323349\n",
      "Step : 4000 \t Cost : 0.49697786569595337\n",
      "Step : 4200 \t Cost : 0.49578139185905457\n",
      "Step : 4400 \t Cost : 0.4946592152118683\n",
      "Step : 4600 \t Cost : 0.49360543489456177\n",
      "Step : 4800 \t Cost : 0.49261474609375\n",
      "Step : 5000 \t Cost : 0.4916823208332062\n",
      "Step : 5200 \t Cost : 0.4908038079738617\n",
      "Step : 5400 \t Cost : 0.4899752736091614\n",
      "Step : 5600 \t Cost : 0.4891930818557739\n",
      "Step : 5800 \t Cost : 0.4884539842605591\n",
      "Step : 6000 \t Cost : 0.4877549409866333\n",
      "Step : 6200 \t Cost : 0.4870932400226593\n",
      "Step : 6400 \t Cost : 0.4864664077758789\n",
      "Step : 6600 \t Cost : 0.48587217926979065\n",
      "Step : 6800 \t Cost : 0.4853082299232483\n",
      "Step : 7000 \t Cost : 0.4847727417945862\n",
      "Step : 7200 \t Cost : 0.4842640161514282\n",
      "Step : 7400 \t Cost : 0.4837803840637207\n",
      "Step : 7600 \t Cost : 0.4833201467990875\n",
      "Step : 7800 \t Cost : 0.482882022857666\n",
      "Step : 8000 \t Cost : 0.4824647307395935\n",
      "Step : 8200 \t Cost : 0.4820668697357178\n",
      "Step : 8400 \t Cost : 0.4816875159740448\n",
      "Step : 8600 \t Cost : 0.48132553696632385\n",
      "Step : 8800 \t Cost : 0.48097994923591614\n",
      "Step : 9000 \t Cost : 0.48064985871315\n",
      "Step : 9200 \t Cost : 0.4803343713283539\n",
      "Step : 9400 \t Cost : 0.480032742023468\n",
      "Step : 9600 \t Cost : 0.47974419593811035\n",
      "Step : 9800 \t Cost : 0.47946807742118835\n",
      "Step : 10000 \t Cost : 0.4792037010192871\n"
     ]
    }
   ],
   "source": [
    "# Launch graph\n",
    "with tf.Session() as sess:\n",
    "    # Initialize TensorFlow variables\n",
    "    sess.run(tf.global_variables_initializer())\n",
    "\n",
    "    for step in tqdm_notebook(range(10001)):\n",
    "        cost_val, _ = sess.run([cost, train], feed_dict={X: x_data, Y: y_data})       \n",
    "        if step % 200 == 0 or step < 10 :\n",
    "            print(\"Step : {} \\t Cost : {}\".format(step, cost_val))    \n",
    "\n",
    "    # Accuracy report\n",
    "    h, c, a = sess.run([hypothesis, predicted, accuracy],\n",
    "                       feed_dict={X: x_data, Y: y_data})"
   ]
  },
  {
   "cell_type": "code",
   "execution_count": 15,
   "id": "cf5c5a0f",
   "metadata": {},
   "outputs": [
    {
     "name": "stdout",
     "output_type": "stream",
     "text": [
      "# Hypothesis: \n",
      "[[0.3627589 ]\n",
      " [0.92355967]\n",
      " [0.29080147]\n",
      " [0.94547033]\n",
      " [0.18961821]\n",
      " [0.8234605 ]\n",
      " [0.9493171 ]\n",
      " [0.60130876]\n",
      " [0.20435551]\n",
      " [0.57932526]\n",
      " [0.72445863]\n",
      " [0.16475578]\n",
      " [0.38877195]\n",
      " [0.12278756]\n",
      " [0.7965804 ]\n",
      " [0.4620533 ]\n",
      " [0.7865777 ]\n",
      " [0.82233024]\n",
      " [0.82345665]\n",
      " [0.6144735 ]] \n",
      "\n",
      "# Correct (Y): \n",
      "[[0.]\n",
      " [1.]\n",
      " [0.]\n",
      " [1.]\n",
      " [0.]\n",
      " [1.]\n",
      " [1.]\n",
      " [1.]\n",
      " [0.]\n",
      " [1.]\n",
      " [1.]\n",
      " [0.]\n",
      " [0.]\n",
      " [0.]\n",
      " [1.]\n",
      " [0.]\n",
      " [1.]\n",
      " [1.]\n",
      " [1.]\n",
      " [1.]] \n",
      "\n",
      "# Accuracy: 0.7694334387779236\n"
     ]
    }
   ],
   "source": [
    "print(\"# Hypothesis: \\n{h} \\n\\n# Correct (Y): \\n{c} \\n\\n# Accuracy: {a}\".format(\n",
    "    # h = h, c = c, a = a\n",
    "    h = h[:20], c = c[:20], a = a\n",
    "))"
   ]
  },
  {
   "cell_type": "code",
   "execution_count": null,
   "id": "8b794e92",
   "metadata": {},
   "outputs": [],
   "source": []
  }
 ],
 "metadata": {
  "kernelspec": {
   "display_name": "Python 3 (ipykernel)",
   "language": "python",
   "name": "python3"
  },
  "language_info": {
   "codemirror_mode": {
    "name": "ipython",
    "version": 3
   },
   "file_extension": ".py",
   "mimetype": "text/x-python",
   "name": "python",
   "nbconvert_exporter": "python",
   "pygments_lexer": "ipython3",
   "version": "3.9.12"
  }
 },
 "nbformat": 4,
 "nbformat_minor": 5
}
