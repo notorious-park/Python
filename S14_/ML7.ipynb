{
 "cells": [
  {
   "cell_type": "markdown",
   "id": "b1c71544",
   "metadata": {},
   "source": [
    "# Sect6. Softmax Regression"
   ]
  },
  {
   "cell_type": "code",
   "execution_count": 1,
   "id": "274d760a",
   "metadata": {},
   "outputs": [],
   "source": [
    "from tqdm import tqdm_notebook"
   ]
  },
  {
   "cell_type": "markdown",
   "id": "1152518c",
   "metadata": {},
   "source": [
    "### Softmax Classification\n",
    "> Multinomial classification\n",
    "\n",
    "- hypothesis = tf.nn.softmax(tf.matmul(X,W)+b)"
   ]
  },
  {
   "cell_type": "code",
   "execution_count": 2,
   "id": "be7830d8",
   "metadata": {},
   "outputs": [
    {
     "name": "stdout",
     "output_type": "stream",
     "text": [
      "WARNING:tensorflow:From C:\\Python\\anaconda3\\lib\\site-packages\\tensorflow\\python\\compat\\v2_compat.py:107: disable_resource_variables (from tensorflow.python.ops.variable_scope) is deprecated and will be removed in a future version.\n",
      "Instructions for updating:\n",
      "non-resource variables are not supported in the long term\n"
     ]
    }
   ],
   "source": [
    "# import tensorflow as tf\n",
    "import tensorflow.compat.v1 as tf\n",
    "import numpy as np\n",
    "\n",
    "tf.disable_v2_behavior()\n",
    "\n",
    "\n",
    "tf.set_random_seed(777)  # for reproducibility\n",
    "\n",
    "x_data = [[10,5], [9,5], [3,2], [2,4], [11,1]]\n",
    "y_data = [[1, 0, 0], \n",
    "          [1, 0, 0], \n",
    "          [0, 1, 0], \n",
    "          [0, 1, 0],\n",
    "          [0, 0, 1]]\n",
    "\n",
    "X = tf.placeholder(\"float\", [None, 2])\n",
    "Y = tf.placeholder(\"float\", [None, 3])\n",
    "nb_classes = 3\n",
    "\n",
    "W = tf.Variable(tf.random_normal([2, nb_classes]), name='weight')\n",
    "b = tf.Variable(tf.random_normal([nb_classes]),    name='bias')\n",
    "\n",
    "# tf.nn.softmax computes softmax activations\n",
    "# softmax = exp(logits) / reduce_sum(exp(logits), dim)\n",
    "hypothesis = tf.nn.softmax(tf.matmul(X, W) + b)\n",
    "\n",
    "# Cross entropy cost/loss\n",
    "cost = tf.reduce_mean(-tf.reduce_sum(Y * tf.log(hypothesis), axis=1))\n",
    "\n",
    "optimizer = tf.train.GradientDescentOptimizer(learning_rate=0.1).minimize(cost)"
   ]
  },
  {
   "cell_type": "code",
   "execution_count": 3,
   "id": "8c2c37b9",
   "metadata": {},
   "outputs": [
    {
     "name": "stderr",
     "output_type": "stream",
     "text": [
      "C:\\Users\\student\\AppData\\Local\\Temp\\ipykernel_10652\\3537835934.py:7: TqdmDeprecationWarning: This function will be removed in tqdm==5.0.0\n",
      "Please use `tqdm.notebook.tqdm` instead of `tqdm.tqdm_notebook`\n",
      "  for step in tqdm_notebook(range(2001)):\n"
     ]
    },
    {
     "data": {
      "application/vnd.jupyter.widget-view+json": {
       "model_id": "f81a13f472f5403fa68b3d513ef56dab",
       "version_major": 2,
       "version_minor": 0
      },
      "text/plain": [
       "  0%|          | 0/2001 [00:00<?, ?it/s]"
      ]
     },
     "metadata": {},
     "output_type": "display_data"
    },
    {
     "name": "stdout",
     "output_type": "stream",
     "text": [
      "Step : 0, \t Cost : 1.7321803569793701\n",
      "Step : 200, \t Cost : 0.08691439777612686\n",
      "Step : 400, \t Cost : 0.049318935722112656\n",
      "Step : 600, \t Cost : 0.034343160688877106\n",
      "Step : 800, \t Cost : 0.02629532292485237\n",
      "Step : 1000, \t Cost : 0.021281050518155098\n",
      "Step : 1200, \t Cost : 0.017861973494291306\n",
      "Step : 1400, \t Cost : 0.015383698046207428\n",
      "Step : 1600, \t Cost : 0.01350598968565464\n",
      "Step : 1800, \t Cost : 0.012034887447953224\n",
      "Step : 2000, \t Cost : 0.01085150521248579\n"
     ]
    }
   ],
   "source": [
    "# Launch the graph in a session.\n",
    "sess = tf.Session()\n",
    "\n",
    "# Initializes global variables in the graph.\n",
    "sess.run(tf.global_variables_initializer())\n",
    "\n",
    "for step in tqdm_notebook(range(2001)):\n",
    "    sess.run(optimizer, feed_dict={X: x_data, Y: y_data})\n",
    "    if step % 200 == 0:\n",
    "        # print(step, sess.run(cost, feed_dict={X: x_data, Y: y_data}))\n",
    "        print(\"Step : {}, \\t Cost : {}\".format(step, sess.run(cost, feed_dict={X: x_data, Y: y_data})))"
   ]
  },
  {
   "cell_type": "code",
   "execution_count": 4,
   "id": "fe81ae58",
   "metadata": {},
   "outputs": [
    {
     "name": "stdout",
     "output_type": "stream",
     "text": [
      "test data : [[9.5, 5.5], [9.9, 1.5], [3.1, 2.1]] \n",
      "\n",
      "predict value : \n",
      " [[9.9070227e-01 9.2813568e-03 1.6371087e-05]\n",
      " [2.4168992e-02 1.4852300e-07 9.7583085e-01]\n",
      " [3.3093404e-02 9.6228808e-01 4.6184692e-03]] \n",
      "\n",
      "predict index : [0 2 1]\n"
     ]
    }
   ],
   "source": [
    "# Testing & One-hot encoding\n",
    "test_data = [[9.5, 5.5], \n",
    "             [9.9, 1.5], \n",
    "             [3.1, 2.1]]\n",
    "\n",
    "pred_val = sess.run(hypothesis, feed_dict={X: test_data})\n",
    "pred_idx = sess.run(tf.argmax(pred_val, 1))\n",
    "\n",
    "# print(\"predict value : \\n {} \\n\\npredict index : {}\".format(pred_val, pred_idx))\n",
    "print(\"test data : {} \\n\\npredict value : \\n {} \\n\\npredict index : {}\".format(test_data, pred_val, pred_idx))"
   ]
  },
  {
   "cell_type": "code",
   "execution_count": 5,
   "id": "7cfe8edc",
   "metadata": {},
   "outputs": [
    {
     "name": "stdout",
     "output_type": "stream",
     "text": [
      "['A', 'C', 'B']\n"
     ]
    }
   ],
   "source": [
    "# grade로 예측값 표기\n",
    "grade = ['A', 'B', 'C']\n",
    "arg_val = sess.run(tf.arg_max(pred_val, 1))\n",
    "p_grade = [ grade[val] for val in arg_val ]\n",
    "print(p_grade)"
   ]
  },
  {
   "cell_type": "markdown",
   "id": "12fd256f",
   "metadata": {},
   "source": [
    "### 좀더 복잡한 Classification"
   ]
  },
  {
   "cell_type": "code",
   "execution_count": 6,
   "id": "24c9fda1",
   "metadata": {},
   "outputs": [],
   "source": [
    "# import tensorflow as tf\n",
    "import tensorflow.compat.v1 as tf\n",
    "tf.disable_v2_behavior()\n",
    "\n",
    "tf.set_random_seed(777)  # for reproducibility\n",
    "\n",
    "x_data = [[1, 2, 1, 1], \n",
    "          [2, 1, 3, 2], \n",
    "          [3, 1, 3, 4], \n",
    "          [4, 1, 5, 5],\n",
    "          [1, 7, 5, 5], \n",
    "          [1, 2, 5, 6], \n",
    "          [1, 6, 6, 6], \n",
    "          [1, 7, 7, 7]]\n",
    "\n",
    "y_data = [[0, 0, 1], \n",
    "          [0, 0, 1], \n",
    "          [0, 0, 1], \n",
    "          [0, 1, 0],\n",
    "          [0, 1, 0], \n",
    "          [0, 1, 0], \n",
    "          [1, 0, 0], \n",
    "          [1, 0, 0]]\n",
    "\n",
    "X = tf.placeholder(\"float\", [None, 4])\n",
    "Y = tf.placeholder(\"float\", [None, 3])\n",
    "nb_classes = 3\n",
    "\n",
    "W = tf.Variable(tf.random_normal([4, nb_classes]), name='weight')\n",
    "b = tf.Variable(tf.random_normal([nb_classes]), name='bias')\n",
    "\n",
    "# tf.nn.softmax computes softmax activations\n",
    "# softmax = exp(logits) / reduce_sum(exp(logits), dim)\n",
    "hypothesis = tf.nn.softmax(tf.matmul(X, W) + b)\n",
    "\n",
    "# Cross entropy cost/loss\n",
    "cost = tf.reduce_mean(-tf.reduce_sum(Y * tf.log(hypothesis), axis=1))\n",
    "\n",
    "optimizer = tf.train.GradientDescentOptimizer(learning_rate=0.1).minimize(cost)"
   ]
  },
  {
   "cell_type": "code",
   "execution_count": 7,
   "id": "997270a2",
   "metadata": {},
   "outputs": [
    {
     "name": "stderr",
     "output_type": "stream",
     "text": [
      "C:\\Users\\student\\AppData\\Local\\Temp\\ipykernel_10652\\3537835934.py:7: TqdmDeprecationWarning: This function will be removed in tqdm==5.0.0\n",
      "Please use `tqdm.notebook.tqdm` instead of `tqdm.tqdm_notebook`\n",
      "  for step in tqdm_notebook(range(2001)):\n"
     ]
    },
    {
     "data": {
      "application/vnd.jupyter.widget-view+json": {
       "model_id": "467fc7eac79a48f780a603a96f42edce",
       "version_major": 2,
       "version_minor": 0
      },
      "text/plain": [
       "  0%|          | 0/2001 [00:00<?, ?it/s]"
      ]
     },
     "metadata": {},
     "output_type": "display_data"
    },
    {
     "name": "stdout",
     "output_type": "stream",
     "text": [
      "Step : 0, \t Cost : 4.487739562988281\n",
      "Step : 200, \t Cost : 0.6349910497665405\n",
      "Step : 400, \t Cost : 0.5222903490066528\n",
      "Step : 600, \t Cost : 0.42837533354759216\n",
      "Step : 800, \t Cost : 0.33695128560066223\n",
      "Step : 1000, \t Cost : 0.25046083331108093\n",
      "Step : 1200, \t Cost : 0.21889786422252655\n",
      "Step : 1400, \t Cost : 0.19937297701835632\n",
      "Step : 1600, \t Cost : 0.18293988704681396\n",
      "Step : 1800, \t Cost : 0.1689259558916092\n",
      "Step : 2000, \t Cost : 0.15684184432029724\n"
     ]
    }
   ],
   "source": [
    "# Launch the graph in a session.\n",
    "sess = tf.Session()\n",
    "\n",
    "# Initializes global variables in the graph.\n",
    "sess.run(tf.global_variables_initializer())\n",
    "\n",
    "for step in tqdm_notebook(range(2001)):\n",
    "    sess.run(optimizer, feed_dict={X: x_data, Y: y_data})\n",
    "    if step % 200 == 0:\n",
    "        # print(step, sess.run(cost, feed_dict={X: x_data, Y: y_data}))\n",
    "        print(\"Step : {}, \\t Cost : {}\".format(step, sess.run(cost, feed_dict={X: x_data, Y: y_data})))"
   ]
  },
  {
   "cell_type": "code",
   "execution_count": 8,
   "id": "7a5d5a24",
   "metadata": {},
   "outputs": [
    {
     "name": "stdout",
     "output_type": "stream",
     "text": [
      "[[2.0617729e-03 9.9792719e-01 1.1085488e-05]] \n",
      "예측값 : [1]\n"
     ]
    }
   ],
   "source": [
    "# Testing & One-hot encoding\n",
    "a = sess.run(hypothesis, feed_dict={X: [[1, 11, 7, 9]]})\n",
    "print(a, '\\n예측값 :', sess.run(tf.arg_max(a, 1)))"
   ]
  },
  {
   "cell_type": "code",
   "execution_count": 9,
   "id": "fcc5469e",
   "metadata": {},
   "outputs": [
    {
     "name": "stdout",
     "output_type": "stream",
     "text": [
      "[[0.91595197 0.07395753 0.01009047]] \n",
      "예측값 : [0]\n"
     ]
    }
   ],
   "source": [
    "b = sess.run(hypothesis, feed_dict={X: [[1, 3, 4, 3]]})\n",
    "print(b, '\\n예측값 :', sess.run(tf.arg_max(b, 1)))"
   ]
  },
  {
   "cell_type": "code",
   "execution_count": 10,
   "id": "bcd218ff",
   "metadata": {},
   "outputs": [
    {
     "name": "stdout",
     "output_type": "stream",
     "text": [
      "[[2.0442236e-08 3.7468417e-04 9.9962533e-01]] \n",
      "예측값 : [2]\n"
     ]
    }
   ],
   "source": [
    "c = sess.run(hypothesis, feed_dict={X: [[1, 1, 0, 1]]})\n",
    "print(c, '\\n예측값 :', sess.run(tf.arg_max(c, 1)))"
   ]
  },
  {
   "cell_type": "code",
   "execution_count": 11,
   "id": "4439f906",
   "metadata": {},
   "outputs": [
    {
     "name": "stdout",
     "output_type": "stream",
     "text": [
      "[[2.06177100e-03 9.97927189e-01 1.10854990e-05]\n",
      " [9.15951967e-01 7.39575326e-02 1.00904675e-02]\n",
      " [2.04422381e-08 3.74684372e-04 9.99625325e-01]] \n",
      "\n",
      "예측값 : [1 0 2]\n"
     ]
    }
   ],
   "source": [
    "all = sess.run(hypothesis, feed_dict={\n",
    "               X: [[1, 11, 7, 9], [1, 3, 4, 3], [1, 1, 0, 1]]})\n",
    "print(all, '\\n\\n예측값 :', sess.run(tf.arg_max(all, 1)))"
   ]
  },
  {
   "cell_type": "markdown",
   "id": "8028fd7a",
   "metadata": {},
   "source": [
    "### Animal classification with softmax_cross_entropy_with_logits\n",
    "- Ref : https://kr.pinterest.com/explore/animal-classification-activity/?lp=true\n",
    "- Data : https://archive.ics.uci.edu/ml/machine-learning-databases/zoo/zoo.data"
   ]
  },
  {
   "cell_type": "code",
   "execution_count": 17,
   "id": "0348960e",
   "metadata": {},
   "outputs": [
    {
     "name": "stdout",
     "output_type": "stream",
     "text": [
      "(101, 16) (101, 1)\n",
      "\n",
      "x_data :\n",
      " [[1. 0. 0. ... 0. 0. 1.]\n",
      " [1. 0. 0. ... 1. 0. 1.]\n",
      " [0. 0. 1. ... 1. 0. 0.]\n",
      " ...\n",
      " [1. 0. 0. ... 1. 0. 1.]\n",
      " [0. 0. 1. ... 0. 0. 0.]\n",
      " [0. 1. 1. ... 1. 0. 0.]]\n",
      "\n",
      "y_data :\n",
      " [[0.]\n",
      " [0.]\n",
      " [3.]\n",
      " [0.]\n",
      " [0.]\n",
      " [0.]\n",
      " [0.]\n",
      " [3.]\n",
      " [3.]\n",
      " [0.]\n",
      " [0.]\n",
      " [1.]\n",
      " [3.]\n",
      " [6.]\n",
      " [6.]\n",
      " [6.]\n",
      " [1.]\n",
      " [0.]\n",
      " [3.]\n",
      " [0.]\n",
      " [1.]\n",
      " [1.]\n",
      " [0.]\n",
      " [1.]\n",
      " [5.]\n",
      " [4.]\n",
      " [4.]\n",
      " [0.]\n",
      " [0.]\n",
      " [0.]\n",
      " [5.]\n",
      " [0.]\n",
      " [0.]\n",
      " [1.]\n",
      " [3.]\n",
      " [0.]\n",
      " [0.]\n",
      " [1.]\n",
      " [3.]\n",
      " [5.]\n",
      " [5.]\n",
      " [1.]\n",
      " [5.]\n",
      " [1.]\n",
      " [0.]\n",
      " [0.]\n",
      " [6.]\n",
      " [0.]\n",
      " [0.]\n",
      " [0.]\n",
      " [0.]\n",
      " [5.]\n",
      " [4.]\n",
      " [6.]\n",
      " [0.]\n",
      " [0.]\n",
      " [1.]\n",
      " [1.]\n",
      " [1.]\n",
      " [1.]\n",
      " [3.]\n",
      " [3.]\n",
      " [2.]\n",
      " [0.]\n",
      " [0.]\n",
      " [0.]\n",
      " [0.]\n",
      " [0.]\n",
      " [0.]\n",
      " [0.]\n",
      " [0.]\n",
      " [1.]\n",
      " [6.]\n",
      " [3.]\n",
      " [0.]\n",
      " [0.]\n",
      " [2.]\n",
      " [6.]\n",
      " [1.]\n",
      " [1.]\n",
      " [2.]\n",
      " [6.]\n",
      " [3.]\n",
      " [1.]\n",
      " [0.]\n",
      " [6.]\n",
      " [3.]\n",
      " [1.]\n",
      " [5.]\n",
      " [4.]\n",
      " [2.]\n",
      " [2.]\n",
      " [3.]\n",
      " [0.]\n",
      " [0.]\n",
      " [1.]\n",
      " [0.]\n",
      " [5.]\n",
      " [0.]\n",
      " [6.]\n",
      " [1.]]\n",
      "\n",
      "one_hot Tensor(\"one_hot:0\", shape=(?, 1, 7), dtype=float32)\n",
      "\n",
      "reshape Tensor(\"Reshape:0\", shape=(?, 7), dtype=float32)\n",
      "WARNING:tensorflow:From C:\\Python\\anaconda3\\lib\\site-packages\\tensorflow\\python\\util\\dispatch.py:1082: softmax_cross_entropy_with_logits (from tensorflow.python.ops.nn_ops) is deprecated and will be removed in a future version.\n",
      "Instructions for updating:\n",
      "\n",
      "Future major versions of TensorFlow will allow gradients to flow\n",
      "into the labels input on backprop by default.\n",
      "\n",
      "See `tf.nn.softmax_cross_entropy_with_logits_v2`.\n",
      "\n"
     ]
    }
   ],
   "source": [
    "# import tensorflow as tf\n",
    "import tensorflow.compat.v1 as tf\n",
    "import numpy as np\n",
    "\n",
    "tf.disable_v2_behavior()\n",
    "\n",
    "tf.set_random_seed(777)  # for reproducibility\n",
    "\n",
    "# Predicting animal type based on various features\n",
    "xy = np.loadtxt('./data/data-04-zoo.csv', delimiter=',', dtype=np.float32)\n",
    "# xy = np.loadtxt('./data/zoo.data', delimiter=',', dtype=np.float32)\n",
    "\n",
    "x_data = xy[:, 0:-1]\n",
    "y_data = xy[:, [-1]]\n",
    "\n",
    "print(x_data.shape, y_data.shape)\n",
    "print('\\nx_data :\\n', x_data)\n",
    "print('\\ny_data :\\n', y_data)\n",
    "\n",
    "nb_classes = 7  # 0 ~ 6\n",
    "\n",
    "X = tf.placeholder(tf.float32, [None, 16])\n",
    "Y = tf.placeholder(tf.int32, [None, 1])  # 0 ~ 6\n",
    "\n",
    "Y_one_hot = tf.one_hot(Y, nb_classes)  # one hot\n",
    "print(\"\\none_hot\", Y_one_hot)\n",
    "\n",
    "Y_one_hot = tf.reshape(Y_one_hot, [-1, nb_classes])\n",
    "print(\"\\nreshape\", Y_one_hot)\n",
    "\n",
    "W = tf.Variable(tf.random_normal([16, nb_classes]), name='weight')\n",
    "b = tf.Variable(tf.random_normal([nb_classes]), name='bias')\n",
    "\n",
    "# tf.nn.softmax computes softmax activations\n",
    "# softmax = exp(logits) / reduce_sum(exp(logits), dim)\n",
    "logits = tf.matmul(X, W) + b\n",
    "hypothesis = tf.nn.softmax(logits)\n",
    "\n",
    "# Cross entropy cost/loss\n",
    "cost_i = tf.nn.softmax_cross_entropy_with_logits(logits=logits,\n",
    "                                                 labels=Y_one_hot)\n",
    "cost = tf.reduce_mean(cost_i)\n",
    "optimizer = tf.train.GradientDescentOptimizer(learning_rate=0.1).minimize(cost)\n",
    "\n",
    "prediction = tf.argmax(hypothesis, 1)\n",
    "correct_prediction = tf.equal(prediction, tf.argmax(Y_one_hot, 1))\n",
    "accuracy = tf.reduce_mean(tf.cast(correct_prediction, tf.float32))"
   ]
  },
  {
   "cell_type": "code",
   "execution_count": 18,
   "id": "b6a7e1a8",
   "metadata": {},
   "outputs": [
    {
     "name": "stdout",
     "output_type": "stream",
     "text": [
      "Step:     0, \t Loss: 5.415, \t Acc: 0.00%\n",
      "Step:   100, \t Loss: 0.732, \t Acc: 84.16%\n",
      "Step:   200, \t Loss: 0.439, \t Acc: 89.11%\n",
      "Step:   300, \t Loss: 0.325, \t Acc: 92.08%\n",
      "Step:   400, \t Loss: 0.257, \t Acc: 93.07%\n",
      "Step:   500, \t Loss: 0.211, \t Acc: 94.06%\n",
      "Step:   600, \t Loss: 0.179, \t Acc: 94.06%\n",
      "Step:   700, \t Loss: 0.154, \t Acc: 97.03%\n",
      "Step:   800, \t Loss: 0.135, \t Acc: 97.03%\n",
      "Step:   900, \t Loss: 0.120, \t Acc: 99.01%\n",
      "Step:  1000, \t Loss: 0.108, \t Acc: 99.01%\n",
      "Step:  1100, \t Loss: 0.098, \t Acc: 99.01%\n",
      "Step:  1200, \t Loss: 0.090, \t Acc: 100.00%\n",
      "Step:  1300, \t Loss: 0.083, \t Acc: 100.00%\n",
      "Step:  1400, \t Loss: 0.077, \t Acc: 100.00%\n",
      "Step:  1500, \t Loss: 0.071, \t Acc: 100.00%\n",
      "Step:  1600, \t Loss: 0.067, \t Acc: 100.00%\n",
      "Step:  1700, \t Loss: 0.063, \t Acc: 100.00%\n",
      "Step:  1800, \t Loss: 0.059, \t Acc: 100.00%\n",
      "Step:  1900, \t Loss: 0.056, \t Acc: 100.00%\n"
     ]
    }
   ],
   "source": [
    "# Launch the graph in a session.\n",
    "sess = tf.Session()\n",
    "\n",
    "# Initializes global variables in the graph.\n",
    "sess.run(tf.global_variables_initializer())\n",
    "\n",
    "for step in range(2000):\n",
    "    sess.run(optimizer, feed_dict={X: x_data, Y: y_data})\n",
    "    if step % 100 == 0:\n",
    "        loss, acc = sess.run([cost, accuracy], feed_dict={\n",
    "                             X: x_data, Y: y_data})\n",
    "        print(\"Step: {:5}, \\t Loss: {:.3f}, \\t Acc: {:.2%}\".format(\n",
    "            step, loss, acc))"
   ]
  },
  {
   "cell_type": "code",
   "execution_count": 19,
   "id": "1f272c38",
   "metadata": {},
   "outputs": [
    {
     "name": "stdout",
     "output_type": "stream",
     "text": [
      "[True]  Prediction : 0,  True Y : 0\n",
      "[True]  Prediction : 0,  True Y : 0\n",
      "[True]  Prediction : 3,  True Y : 3\n",
      "[True]  Prediction : 0,  True Y : 0\n",
      "[True]  Prediction : 0,  True Y : 0\n",
      "[True]  Prediction : 0,  True Y : 0\n",
      "[True]  Prediction : 0,  True Y : 0\n",
      "[True]  Prediction : 3,  True Y : 3\n",
      "[True]  Prediction : 3,  True Y : 3\n",
      "[True]  Prediction : 0,  True Y : 0\n",
      "[True]  Prediction : 0,  True Y : 0\n",
      "[True]  Prediction : 1,  True Y : 1\n",
      "[True]  Prediction : 3,  True Y : 3\n",
      "[True]  Prediction : 6,  True Y : 6\n",
      "[True]  Prediction : 6,  True Y : 6\n",
      "[True]  Prediction : 6,  True Y : 6\n",
      "[True]  Prediction : 1,  True Y : 1\n",
      "[True]  Prediction : 0,  True Y : 0\n",
      "[True]  Prediction : 3,  True Y : 3\n",
      "[True]  Prediction : 0,  True Y : 0\n",
      "[True]  Prediction : 1,  True Y : 1\n",
      "[True]  Prediction : 1,  True Y : 1\n",
      "[True]  Prediction : 0,  True Y : 0\n",
      "[True]  Prediction : 1,  True Y : 1\n",
      "[True]  Prediction : 5,  True Y : 5\n",
      "[True]  Prediction : 4,  True Y : 4\n",
      "[True]  Prediction : 4,  True Y : 4\n",
      "[True]  Prediction : 0,  True Y : 0\n",
      "[True]  Prediction : 0,  True Y : 0\n",
      "[True]  Prediction : 0,  True Y : 0\n",
      "[True]  Prediction : 5,  True Y : 5\n",
      "[True]  Prediction : 0,  True Y : 0\n",
      "[True]  Prediction : 0,  True Y : 0\n",
      "[True]  Prediction : 1,  True Y : 1\n",
      "[True]  Prediction : 3,  True Y : 3\n",
      "[True]  Prediction : 0,  True Y : 0\n",
      "[True]  Prediction : 0,  True Y : 0\n",
      "[True]  Prediction : 1,  True Y : 1\n",
      "[True]  Prediction : 3,  True Y : 3\n",
      "[True]  Prediction : 5,  True Y : 5\n",
      "[True]  Prediction : 5,  True Y : 5\n",
      "[True]  Prediction : 1,  True Y : 1\n",
      "[True]  Prediction : 5,  True Y : 5\n",
      "[True]  Prediction : 1,  True Y : 1\n",
      "[True]  Prediction : 0,  True Y : 0\n",
      "[True]  Prediction : 0,  True Y : 0\n",
      "[True]  Prediction : 6,  True Y : 6\n",
      "[True]  Prediction : 0,  True Y : 0\n",
      "[True]  Prediction : 0,  True Y : 0\n",
      "[True]  Prediction : 0,  True Y : 0\n",
      "[True]  Prediction : 0,  True Y : 0\n",
      "[True]  Prediction : 5,  True Y : 5\n",
      "[True]  Prediction : 4,  True Y : 4\n",
      "[True]  Prediction : 6,  True Y : 6\n",
      "[True]  Prediction : 0,  True Y : 0\n",
      "[True]  Prediction : 0,  True Y : 0\n",
      "[True]  Prediction : 1,  True Y : 1\n",
      "[True]  Prediction : 1,  True Y : 1\n",
      "[True]  Prediction : 1,  True Y : 1\n",
      "[True]  Prediction : 1,  True Y : 1\n",
      "[True]  Prediction : 3,  True Y : 3\n",
      "[True]  Prediction : 3,  True Y : 3\n",
      "[True]  Prediction : 2,  True Y : 2\n",
      "[True]  Prediction : 0,  True Y : 0\n",
      "[True]  Prediction : 0,  True Y : 0\n",
      "[True]  Prediction : 0,  True Y : 0\n",
      "[True]  Prediction : 0,  True Y : 0\n",
      "[True]  Prediction : 0,  True Y : 0\n",
      "[True]  Prediction : 0,  True Y : 0\n",
      "[True]  Prediction : 0,  True Y : 0\n",
      "[True]  Prediction : 0,  True Y : 0\n",
      "[True]  Prediction : 1,  True Y : 1\n",
      "[True]  Prediction : 6,  True Y : 6\n",
      "[True]  Prediction : 3,  True Y : 3\n",
      "[True]  Prediction : 0,  True Y : 0\n",
      "[True]  Prediction : 0,  True Y : 0\n",
      "[True]  Prediction : 2,  True Y : 2\n",
      "[True]  Prediction : 6,  True Y : 6\n",
      "[True]  Prediction : 1,  True Y : 1\n",
      "[True]  Prediction : 1,  True Y : 1\n",
      "[True]  Prediction : 2,  True Y : 2\n",
      "[True]  Prediction : 6,  True Y : 6\n",
      "[True]  Prediction : 3,  True Y : 3\n",
      "[True]  Prediction : 1,  True Y : 1\n",
      "[True]  Prediction : 0,  True Y : 0\n",
      "[True]  Prediction : 6,  True Y : 6\n",
      "[True]  Prediction : 3,  True Y : 3\n",
      "[True]  Prediction : 1,  True Y : 1\n",
      "[True]  Prediction : 5,  True Y : 5\n",
      "[True]  Prediction : 4,  True Y : 4\n",
      "[True]  Prediction : 2,  True Y : 2\n",
      "[True]  Prediction : 2,  True Y : 2\n",
      "[True]  Prediction : 3,  True Y : 3\n",
      "[True]  Prediction : 0,  True Y : 0\n",
      "[True]  Prediction : 0,  True Y : 0\n",
      "[True]  Prediction : 1,  True Y : 1\n",
      "[True]  Prediction : 0,  True Y : 0\n",
      "[True]  Prediction : 5,  True Y : 5\n",
      "[True]  Prediction : 0,  True Y : 0\n",
      "[True]  Prediction : 6,  True Y : 6\n",
      "[True]  Prediction : 1,  True Y : 1\n"
     ]
    }
   ],
   "source": [
    "# Let's see if we can predict\n",
    "pred = sess.run(prediction, feed_dict={X: x_data})\n",
    "\n",
    "# y_data: (N,1) = flatten => (N, ) matches pred.shape\n",
    "for p, y in zip(pred, y_data.flatten()):\n",
    "    print(\"[{}]  Prediction : {},  True Y : {}\".format(p == int(y), p, int(y)))\n",
    "    # print(\"[{}]  Prediction : {},  True Y : {}, y_data : {}\".format(p == int(y), p, int(y), y_data))"
   ]
  },
  {
   "cell_type": "code",
   "execution_count": null,
   "id": "3aed38f2",
   "metadata": {},
   "outputs": [],
   "source": []
  }
 ],
 "metadata": {
  "kernelspec": {
   "display_name": "Python 3 (ipykernel)",
   "language": "python",
   "name": "python3"
  },
  "language_info": {
   "codemirror_mode": {
    "name": "ipython",
    "version": 3
   },
   "file_extension": ".py",
   "mimetype": "text/x-python",
   "name": "python",
   "nbconvert_exporter": "python",
   "pygments_lexer": "ipython3",
   "version": "3.9.12"
  }
 },
 "nbformat": 4,
 "nbformat_minor": 5
}
