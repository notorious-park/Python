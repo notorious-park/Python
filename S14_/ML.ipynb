{
 "cells": [
  {
   "cell_type": "code",
   "execution_count": 3,
   "id": "7dd153c8",
   "metadata": {},
   "outputs": [],
   "source": [
    "# !pip install tensorflow"
   ]
  },
  {
   "cell_type": "code",
   "execution_count": 4,
   "id": "861bf539",
   "metadata": {
    "scrolled": true
   },
   "outputs": [],
   "source": [
    "import tensorflow as tf"
   ]
  },
  {
   "cell_type": "code",
   "execution_count": 5,
   "id": "1352751f",
   "metadata": {},
   "outputs": [
    {
     "data": {
      "text/plain": [
       "'2.9.1'"
      ]
     },
     "execution_count": 5,
     "metadata": {},
     "output_type": "execute_result"
    }
   ],
   "source": [
    "tf.__version__"
   ]
  },
  {
   "cell_type": "markdown",
   "id": "4f117625",
   "metadata": {},
   "source": [
    ">TF01_Hello"
   ]
  },
  {
   "cell_type": "code",
   "execution_count": 6,
   "id": "e837da29",
   "metadata": {},
   "outputs": [
    {
     "name": "stdout",
     "output_type": "stream",
     "text": [
      "WARNING:tensorflow:From C:\\Python\\anaconda3\\lib\\site-packages\\tensorflow\\python\\compat\\v2_compat.py:107: disable_resource_variables (from tensorflow.python.ops.variable_scope) is deprecated and will be removed in a future version.\n",
      "Instructions for updating:\n",
      "non-resource variables are not supported in the long term\n"
     ]
    }
   ],
   "source": [
    "import tensorflow.compat.v1 as tf\n",
    "\n",
    "tf.disable_v2_behavior()"
   ]
  },
  {
   "cell_type": "code",
   "execution_count": 7,
   "id": "78537bf7",
   "metadata": {},
   "outputs": [
    {
     "data": {
      "text/plain": [
       "b' Hello TensorFlow!'"
      ]
     },
     "execution_count": 7,
     "metadata": {},
     "output_type": "execute_result"
    }
   ],
   "source": [
    "# import tensorflow as tf\n",
    "\n",
    "hello = tf.constant(\" Hello TensorFlow!\")\n",
    "sess = tf.Session()\n",
    "\n",
    "sess.run(hello)"
   ]
  },
  {
   "cell_type": "code",
   "execution_count": 8,
   "id": "2098518d",
   "metadata": {},
   "outputs": [
    {
     "data": {
      "text/plain": [
       "tensorflow.python.framework.ops.Tensor"
      ]
     },
     "execution_count": 8,
     "metadata": {},
     "output_type": "execute_result"
    }
   ],
   "source": [
    "type(hello)"
   ]
  },
  {
   "cell_type": "code",
   "execution_count": 9,
   "id": "942ef413",
   "metadata": {},
   "outputs": [
    {
     "data": {
      "text/plain": [
       "<tf.Tensor 'Const:0' shape=() dtype=string>"
      ]
     },
     "execution_count": 9,
     "metadata": {},
     "output_type": "execute_result"
    }
   ],
   "source": [
    "hello"
   ]
  },
  {
   "cell_type": "markdown",
   "id": "02dada26",
   "metadata": {},
   "source": [
    ">TF02_Variable"
   ]
  },
  {
   "cell_type": "code",
   "execution_count": 10,
   "id": "8daf3b08",
   "metadata": {},
   "outputs": [
    {
     "name": "stdout",
     "output_type": "stream",
     "text": [
      "constant x : 100 \n",
      "Variable y : 200\n"
     ]
    }
   ],
   "source": [
    "#first_session_only_tensorflow.py\n",
    "\n",
    "x = tf.constant(100, name='x')\n",
    "y = tf.Variable(x*2, name='y')\n",
    "\n",
    "model = tf.global_variables_initializer()\n",
    "\n",
    "with tf.Session() as sess:\n",
    "    sess.run(model)\n",
    "    print(\"constant x : {x} \\nVariable y : {y}\".format(\n",
    "        x = sess.run(x), \n",
    "        y = sess.run(y)\n",
    "    ))"
   ]
  },
  {
   "cell_type": "code",
   "execution_count": 11,
   "id": "277a17b6",
   "metadata": {},
   "outputs": [
    {
     "name": "stdout",
     "output_type": "stream",
     "text": [
      "tf.multiply(20,30) : 600\n"
     ]
    }
   ],
   "source": [
    "# 변수 a, b는 동적으로 지정\n",
    "a = tf.placeholder(\"int32\")\n",
    "b = tf.placeholder(\"int32\")\n",
    "\n",
    "# multiply 함수는 입력된 정수 a와 b의 곱셈을 반환한다.\n",
    "y = tf.multiply(a,b)\n",
    "\n",
    "sess = tf.Session()\n",
    "\n",
    "print(\"tf.multiply({a},{b}) : {y}\".format(\n",
    "    a = 20, b = 30,\n",
    "    y = sess.run(y , feed_dict={a: 20, b: 30})\n",
    "))"
   ]
  },
  {
   "cell_type": "code",
   "execution_count": 12,
   "id": "a5817a2a",
   "metadata": {},
   "outputs": [
    {
     "name": "stdout",
     "output_type": "stream",
     "text": [
      " constant a = 10 \n",
      " constant b = 20 \n",
      " Variable y = 500\n"
     ]
    }
   ],
   "source": [
    "a = tf.constant(10, name=\"a\")\n",
    "b = tf.constant(20, name=\"b\")\n",
    "y = tf.Variable(a**2 + b**2, name=\"y\")\n",
    "\n",
    "model = tf.global_variables_initializer()\n",
    "\n",
    "with tf.Session() as sess:\n",
    "    merged = tf.summary.merge_all()\n",
    "    writer = tf.summary.FileWriter(\"./graph/board\", sess.graph)\n",
    "    sess.run(model)\n",
    "    print(\" constant a = {a} \\n constant b = {b} \\n Variable y = {y}\".format(\n",
    "        a = sess.run(a), \n",
    "        b = sess.run(b),\n",
    "        y = sess.run(y)\n",
    "    )) "
   ]
  },
  {
   "cell_type": "code",
   "execution_count": 13,
   "id": "47fd291c",
   "metadata": {},
   "outputs": [
    {
     "name": "stdout",
     "output_type": "stream",
     "text": [
      "^C\n"
     ]
    }
   ],
   "source": [
    "!tensorboard --logdir=graph/board --port=9999"
   ]
  },
  {
   "cell_type": "code",
   "execution_count": 15,
   "id": "afc8ac5d",
   "metadata": {},
   "outputs": [],
   "source": [
    "import numpy as np\n",
    "\n",
    "tensor_1d = np.array([1.2, 3.4, 5.6, 7.8])\n",
    "tensor_2d = np.arange(16).reshape((4,4))"
   ]
  },
  {
   "cell_type": "code",
   "execution_count": 16,
   "id": "5d286d8d",
   "metadata": {},
   "outputs": [
    {
     "name": "stdout",
     "output_type": "stream",
     "text": [
      "[1.2 3.4 5.6 7.8]\n",
      "1.2\n",
      "7.8\n"
     ]
    }
   ],
   "source": [
    "tf_tensor = tf.convert_to_tensor(tensor_1d, dtype=tf.float64)\n",
    "\n",
    "with tf.Session() as sess:\n",
    "    print(sess.run(tf_tensor))\n",
    "    print(sess.run(tf_tensor[0]))\n",
    "    print(sess.run(tf_tensor[-1]))"
   ]
  },
  {
   "cell_type": "code",
   "execution_count": 17,
   "id": "ce88a78a",
   "metadata": {},
   "outputs": [],
   "source": [
    "tf_tensor_1d = tf.convert_to_tensor(tensor_1d, dtype=tf.float64)\n",
    "tf_tensor_2d = tf.convert_to_tensor(tensor_2d, dtype=tf.float64)\n",
    "sess = tf.Session()"
   ]
  },
  {
   "cell_type": "code",
   "execution_count": 18,
   "id": "6581147e",
   "metadata": {},
   "outputs": [
    {
     "data": {
      "text/plain": [
       "array([1.2, 3.4, 5.6, 7.8])"
      ]
     },
     "execution_count": 18,
     "metadata": {},
     "output_type": "execute_result"
    }
   ],
   "source": [
    "sess.run(tf_tensor_1d)"
   ]
  },
  {
   "cell_type": "code",
   "execution_count": 19,
   "id": "ea30f133",
   "metadata": {},
   "outputs": [
    {
     "data": {
      "text/plain": [
       "1.2"
      ]
     },
     "execution_count": 19,
     "metadata": {},
     "output_type": "execute_result"
    }
   ],
   "source": [
    "sess.run(tf_tensor_1d[0])"
   ]
  },
  {
   "cell_type": "code",
   "execution_count": 20,
   "id": "55446d2c",
   "metadata": {},
   "outputs": [
    {
     "data": {
      "text/plain": [
       "array([5.6, 7.8])"
      ]
     },
     "execution_count": 20,
     "metadata": {},
     "output_type": "execute_result"
    }
   ],
   "source": [
    "sess.run(tf_tensor_1d[2:])"
   ]
  },
  {
   "cell_type": "code",
   "execution_count": 21,
   "id": "784052f6",
   "metadata": {},
   "outputs": [
    {
     "data": {
      "text/plain": [
       "array([[ 0.,  1.,  2.,  3.],\n",
       "       [ 4.,  5.,  6.,  7.],\n",
       "       [ 8.,  9., 10., 11.],\n",
       "       [12., 13., 14., 15.]])"
      ]
     },
     "execution_count": 21,
     "metadata": {},
     "output_type": "execute_result"
    }
   ],
   "source": [
    "sess.run(tf_tensor_2d)"
   ]
  },
  {
   "cell_type": "code",
   "execution_count": 22,
   "id": "f56603ea",
   "metadata": {},
   "outputs": [
    {
     "data": {
      "text/plain": [
       "15.0"
      ]
     },
     "execution_count": 22,
     "metadata": {},
     "output_type": "execute_result"
    }
   ],
   "source": [
    "sess.run(tf_tensor_2d[3][3])"
   ]
  },
  {
   "cell_type": "code",
   "execution_count": 23,
   "id": "d4c8a6b3",
   "metadata": {},
   "outputs": [
    {
     "data": {
      "text/plain": [
       "array([[ 5.,  6.],\n",
       "       [ 9., 10.]])"
      ]
     },
     "execution_count": 23,
     "metadata": {},
     "output_type": "execute_result"
    }
   ],
   "source": [
    "sess.run(tf_tensor_2d[1:3,1:3])"
   ]
  },
  {
   "cell_type": "code",
   "execution_count": null,
   "id": "7ed00b7e",
   "metadata": {},
   "outputs": [],
   "source": []
  }
 ],
 "metadata": {
  "kernelspec": {
   "display_name": "Python 3 (ipykernel)",
   "language": "python",
   "name": "python3"
  },
  "language_info": {
   "codemirror_mode": {
    "name": "ipython",
    "version": 3
   },
   "file_extension": ".py",
   "mimetype": "text/x-python",
   "name": "python",
   "nbconvert_exporter": "python",
   "pygments_lexer": "ipython3",
   "version": "3.9.12"
  }
 },
 "nbformat": 4,
 "nbformat_minor": 5
}
