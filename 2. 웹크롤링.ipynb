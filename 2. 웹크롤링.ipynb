{
 "cells": [
  {
   "cell_type": "markdown",
   "id": "d0b97694",
   "metadata": {},
   "source": [
    "# 웹 스크레이핑을 위한 기본 지식\n",
    "### HTML의 기본 구조\n",
    "- Markup Language는 Tree 구조\n",
    "- 시작태그가 있으면 끝태그가 존재"
   ]
  },
  {
   "cell_type": "code",
   "execution_count": 4,
   "id": "33db4fce",
   "metadata": {},
   "outputs": [],
   "source": [
    "import os\n",
    "from os.path import exists"
   ]
  },
  {
   "cell_type": "code",
   "execution_count": 5,
   "id": "27b6cff4",
   "metadata": {},
   "outputs": [
    {
     "name": "stdout",
     "output_type": "stream",
     "text": [
      "[webdocu]은(는) 이미 존재합니다.\n"
     ]
    }
   ],
   "source": [
    "dir_name = 'webdocu'\n",
    "\n",
    "if not exists(dir_name):\n",
    "    os.mkdir(dir_name)\n",
    "    print('[%s] 디렉터리를 생성했습니다.' %dir_name)\n",
    "else:\n",
    "    print('[%s]은(는) 이미 존재합니다.' %dir_name)"
   ]
  },
  {
   "cell_type": "markdown",
   "id": "9a3a7fe9",
   "metadata": {},
   "source": [
    "#### HTML 실습1"
   ]
  },
  {
   "cell_type": "code",
   "execution_count": 3,
   "id": "cd767d17",
   "metadata": {},
   "outputs": [
    {
     "name": "stdout",
     "output_type": "stream",
     "text": [
      "Writing ./webdocu/html_ex01.html\n"
     ]
    }
   ],
   "source": [
    "%%writefile ./webdocu/html_ex01.html \n",
    "<!doctype html>\n",
    "<html>\n",
    "  <head>\n",
    "    <meta charset=\"utf-8\">\n",
    "    <title>IT 전문가 교육 과정</title>\n",
    "  </head>\n",
    "  <body>\n",
    "     <h1>데이터분석 과정</h1>\n",
    "     <p id=\"subject\">파이썬기반 빅데이터분석</p>\n",
    "     <p id=\"teacher\">김진수 대표</p>\n",
    "     <p id=\"school\">멀티캠퍼스</p>\n",
    "     <p id=\"semester\">2022</p>\n",
    "  </body>\n",
    "</html>"
   ]
  },
  {
   "cell_type": "markdown",
   "id": "a9827fd6",
   "metadata": {},
   "source": [
    "##### Markdown 에서 아래와 같이 입력하고, 클릭"
   ]
  },
  {
   "cell_type": "markdown",
   "id": "5a923058",
   "metadata": {},
   "source": [
    "<a href='./webdocu/html_ex01.html'>HTML 코드 1</a>"
   ]
  },
  {
   "cell_type": "code",
   "execution_count": 4,
   "id": "1dacd6de",
   "metadata": {},
   "outputs": [
    {
     "name": "stdout",
     "output_type": "stream",
     "text": [
      "Writing ./webdocu/html_ex02.html\n"
     ]
    }
   ],
   "source": [
    "%%writefile ./webdocu/html_ex02.html \n",
    "<!doctype html>\n",
    "<html>\n",
    "  <head>\n",
    "    <meta charset=\"utf-8\">\n",
    "    <title>IT 전문가 교육 과정</title>\n",
    "  </head>\n",
    "  <body>\n",
    "     <table>\n",
    "        <tr>\n",
    "          <td colspan=2><h2>데이터분석 과정</h2></td>\n",
    "        </tr>\n",
    "        <tr>\n",
    "          <td>과목</td>\n",
    "          <td>파이썬기반 빅데이터분석</td>\n",
    "        </tr>\n",
    "        <tr>\n",
    "          <td>담당강사</td>\n",
    "          <td>김진수 대표</td>\n",
    "        </tr>\n",
    "        <tr>\n",
    "          <td>교육장소</td>\n",
    "          <td>멀티캠퍼스</td>\n",
    "        </tr>\n",
    "        <tr>\n",
    "          <td>학기</td>\n",
    "          <td>2022년도</td>\n",
    "        </tr>\n",
    "     <table>\n",
    "  </body>\n",
    "</html>"
   ]
  },
  {
   "cell_type": "markdown",
   "id": "b8db6ae1",
   "metadata": {},
   "source": [
    "<a href='./webdocu/html_ex02.html'>HTML 코드 2</a>"
   ]
  },
  {
   "cell_type": "code",
   "execution_count": 5,
   "id": "2d071f33",
   "metadata": {},
   "outputs": [
    {
     "name": "stdout",
     "output_type": "stream",
     "text": [
      "Writing ./webdocu/html_ex03.html\n"
     ]
    }
   ],
   "source": [
    "%%writefile ./webdocu/html_ex03.html \n",
    "<!doctype html>\n",
    "<html>\n",
    "  <head>\n",
    "    <meta charset=\"utf-8\">\n",
    "    <title>IT 전문가 교육 과정</title>\n",
    "  </head>\n",
    "  <body>\n",
    "     <table width='800' height='50' border=1 padding=1 bgcolor='#FFFF00'>\n",
    "        <tr>\n",
    "          <td colspan=2><font size=5 color='red'>데이터분석 과정</font></td>\n",
    "        </tr>\n",
    "        <tr>\n",
    "          <td width='25%'>과목</td>\n",
    "          <td width='75%'>파이썬기반 빅데이터분석</td>\n",
    "        </tr>\n",
    "        <tr>\n",
    "          <td>담당강사</td>\n",
    "          <td><b>김진수 대표</b></td>\n",
    "        </tr>\n",
    "        <tr>\n",
    "          <td>교육장소</td>\n",
    "          <td><u>멀티캠퍼스</u></td>\n",
    "        </tr>\n",
    "        <tr>\n",
    "          <td>학기</td>\n",
    "          <td><i>2022년도</i></td>\n",
    "        </tr>\n",
    "     <table>\n",
    "  </body>\n",
    "</html>"
   ]
  },
  {
   "cell_type": "markdown",
   "id": "59313c71",
   "metadata": {},
   "source": [
    "<a href='./webdocu/html_ex03.html'>HTML 코드 3</a>"
   ]
  },
  {
   "cell_type": "code",
   "execution_count": 6,
   "id": "b423455c",
   "metadata": {},
   "outputs": [
    {
     "name": "stdout",
     "output_type": "stream",
     "text": [
      "Writing ./webdocu/html_ex04.html\n"
     ]
    }
   ],
   "source": [
    "%%writefile ./webdocu/html_ex04.html \n",
    "<!doctype html>\n",
    "<html>\n",
    "  <head>\n",
    "    <meta charset=\"utf-8\">\n",
    "    <title>IT 전문가 교육 과정</title>\n",
    "    <style>\n",
    "      table {\n",
    "        width: 100%;\n",
    "        border: 1px solid #333333;\n",
    "      }\n",
    "      td {\n",
    "        padding: 10px;\n",
    "        border: 1px solid #333333;\n",
    "      }\n",
    "      .style_1 {\n",
    "        border-collapse: separate;\n",
    "      }\n",
    "      .style_2 {\n",
    "        border-collapse: collapse;\n",
    "      }\n",
    "      td.type1{\n",
    "           text-align:center; \n",
    "           border:2px solid red; \n",
    "           text-color:gray;\n",
    "           width:100;\n",
    "        }\n",
    "      td.type2{\n",
    "           text-align:right; \n",
    "           border:3px dotted blue; \n",
    "           text-color:gray;\n",
    "           width:100;\n",
    "        }\n",
    "      td.type3{\n",
    "           text-align:left; \n",
    "           border:3px ridge green; \n",
    "           text-color:#FF0000;\n",
    "           width:100;\n",
    "        }\n",
    "    </style>\n",
    "  </head>\n",
    "  <body>\n",
    "     <table class='style_1'>\n",
    "        <tr>\n",
    "          <td colspan=2><h2>데이터분석 과정1</h2></td>\n",
    "        </tr>\n",
    "        <tr>\n",
    "          <td class='type1'>과목</td>\n",
    "          <td class='type2'>파이썬기반 빅데이터분석</td>\n",
    "        </tr>\n",
    "        <tr>\n",
    "          <td style=\"border:5px outset pink;\">담당강사</td>\n",
    "          <td style=\"border:5px outset lightblue;\">김진수 대표</td>\n",
    "        </tr>\n",
    "     <table>\n",
    "     <br/><br/>\n",
    "     <table class='style_2'>\n",
    "        <tr>\n",
    "          <td colspan=2 class='type1'><h2>데이터분석 과정2</h2></td>\n",
    "        </tr>\n",
    "        <tr>\n",
    "          <td>교육장소</td>\n",
    "          <td>멀티캠퍼스</td>\n",
    "        </tr>\n",
    "        <tr>\n",
    "          <td class='type3'>학기</td>\n",
    "          <td class='type3'>2022년도</td>\n",
    "        </tr>\n",
    "     <table>\n",
    "  </body>\n",
    "</html>"
   ]
  },
  {
   "cell_type": "markdown",
   "id": "5164ae42",
   "metadata": {},
   "source": [
    "<a href='./webdocu/html_ex04.html'>HTML 코드 4</a>"
   ]
  },
  {
   "cell_type": "code",
   "execution_count": 3,
   "id": "d113e6f7",
   "metadata": {},
   "outputs": [
    {
     "name": "stdout",
     "output_type": "stream",
     "text": [
      "Writing ./webdocu/html_ex05.html\n"
     ]
    }
   ],
   "source": [
    "%%writefile ./webdocu/html_ex05.html \n",
    "<style>\n",
    ".note {\n",
    "    font-size : 120%;\n",
    "    color : red;\n",
    "}\n",
    "</style>"
   ]
  },
  {
   "cell_type": "code",
   "execution_count": null,
   "id": "1ca5824a",
   "metadata": {},
   "outputs": [],
   "source": []
  }
 ],
 "metadata": {
  "kernelspec": {
   "display_name": "Python 3 (ipykernel)",
   "language": "python",
   "name": "python3"
  },
  "language_info": {
   "codemirror_mode": {
    "name": "ipython",
    "version": 3
   },
   "file_extension": ".py",
   "mimetype": "text/x-python",
   "name": "python",
   "nbconvert_exporter": "python",
   "pygments_lexer": "ipython3",
   "version": "3.9.12"
  }
 },
 "nbformat": 4,
 "nbformat_minor": 5
}
