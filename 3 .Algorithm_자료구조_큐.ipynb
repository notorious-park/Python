{
 "cells": [
  {
   "cell_type": "markdown",
   "id": "fb24fba8",
   "metadata": {},
   "source": [
    "# 알고리즘, Algorithm\n",
    "- 피보나치 함수\n",
    "- 자료구조 - 스택(Stack)\n",
    "- <span style = 'color : red'> 자료구조 - 큐(Queue)"
   ]
  },
  {
   "cell_type": "markdown",
   "id": "efc735b9",
   "metadata": {},
   "source": [
    "### <span style = 'color : blue'>자료구조 - 큐(Queue)\n",
    "\n",
    ">파이썬으로 구현한 큐 자료구조\n",
    "\n",
    "- 큐 자료구조는 요소(item)을 삽입하는 Enqueue 기능과 요소를 빼내는 Dequeue 기능이 있습니다.\n",
    "- 처음에 삽입한 요소가 먼저 빠지게 되는 First In First Out(FIFO) 특징을 가지고 있습니다."
   ]
  },
  {
   "cell_type": "code",
   "execution_count": 40,
   "id": "bd29bcd8",
   "metadata": {},
   "outputs": [],
   "source": [
    "class Queue:\n",
    "\n",
    "    def __init__(self):\n",
    "        self.queue_items = []\n",
    "\n",
    "    def dequeue(self):\n",
    "        empty = bool()\n",
    "        if len(self.queue_items) == 0:\n",
    "            empty = False\n",
    "            print('Queue is empty!')\n",
    "            return empty\n",
    "        else:\n",
    "            result = self.queue_items[0]\n",
    "            del self.queue_items[0]\n",
    "            return result\n",
    "        pass\n",
    "\n",
    "    def enqueue(self, x):\n",
    "        self.queue_items.append(x)\n",
    "        pass\n",
    "\n",
    "    def is_empty(self): # my ver - 굳이 형식 지정이랑 할 필요 없음\n",
    "        empty = bool()\n",
    "        if len(self.queue_items) == 0:\n",
    "            empty = True\n",
    "            return empty\n",
    "        else:\n",
    "            empty = False\n",
    "            return empty\n",
    "        pass\n",
    "    \n",
    "    def is_empty(self): # 교안\n",
    "        return not self.queue.items\n",
    "\n",
    "    def chk_queue(self):\n",
    "        print(\"Queue = {}\".format(self.queue_items))"
   ]
  },
  {
   "cell_type": "code",
   "execution_count": 41,
   "id": "59355c16",
   "metadata": {},
   "outputs": [
    {
     "name": "stdout",
     "output_type": "stream",
     "text": [
      "Queue = []\n"
     ]
    }
   ],
   "source": [
    "queue = Queue()\n",
    "queue.chk_queue()"
   ]
  },
  {
   "cell_type": "code",
   "execution_count": 42,
   "id": "4e4e9f50",
   "metadata": {},
   "outputs": [
    {
     "data": {
      "text/plain": [
       "True"
      ]
     },
     "execution_count": 42,
     "metadata": {},
     "output_type": "execute_result"
    }
   ],
   "source": [
    "queue.is_empty()"
   ]
  },
  {
   "cell_type": "code",
   "execution_count": 43,
   "id": "9ef9992e",
   "metadata": {},
   "outputs": [
    {
     "name": "stdout",
     "output_type": "stream",
     "text": [
      "Queue = [1]\n"
     ]
    }
   ],
   "source": [
    "queue.enqueue(1)\n",
    "queue.chk_queue()"
   ]
  },
  {
   "cell_type": "code",
   "execution_count": 44,
   "id": "0c68c145",
   "metadata": {},
   "outputs": [
    {
     "name": "stdout",
     "output_type": "stream",
     "text": [
      "Queue = [1, 2]\n"
     ]
    }
   ],
   "source": [
    "queue.enqueue(2)\n",
    "queue.chk_queue()"
   ]
  },
  {
   "cell_type": "code",
   "execution_count": 45,
   "id": "06d45558",
   "metadata": {},
   "outputs": [
    {
     "name": "stdout",
     "output_type": "stream",
     "text": [
      "Queue = [2]\n"
     ]
    }
   ],
   "source": [
    "queue.dequeue()\n",
    "queue.chk_queue()"
   ]
  },
  {
   "cell_type": "code",
   "execution_count": 46,
   "id": "f935cbb8",
   "metadata": {},
   "outputs": [
    {
     "name": "stdout",
     "output_type": "stream",
     "text": [
      "Queue = [2, 3, 4, 5]\n"
     ]
    }
   ],
   "source": [
    "queue.enqueue(3)\n",
    "queue.enqueue(4)\n",
    "queue.enqueue(5)\n",
    "queue.chk_queue()"
   ]
  },
  {
   "cell_type": "code",
   "execution_count": 47,
   "id": "513a81e7",
   "metadata": {},
   "outputs": [
    {
     "name": "stdout",
     "output_type": "stream",
     "text": [
      "Queue = [4, 5]\n"
     ]
    }
   ],
   "source": [
    "queue.dequeue()\n",
    "queue.dequeue()\n",
    "queue.chk_queue()"
   ]
  },
  {
   "cell_type": "code",
   "execution_count": 48,
   "id": "0a31919a",
   "metadata": {},
   "outputs": [
    {
     "data": {
      "text/plain": [
       "False"
      ]
     },
     "execution_count": 48,
     "metadata": {},
     "output_type": "execute_result"
    }
   ],
   "source": [
    "queue.is_empty()"
   ]
  },
  {
   "cell_type": "code",
   "execution_count": 49,
   "id": "4d4d7685",
   "metadata": {},
   "outputs": [
    {
     "name": "stdout",
     "output_type": "stream",
     "text": [
      "Queue = []\n"
     ]
    }
   ],
   "source": [
    "queue.dequeue()\n",
    "queue.dequeue()\n",
    "queue.chk_queue()"
   ]
  },
  {
   "cell_type": "code",
   "execution_count": 50,
   "id": "c567c550",
   "metadata": {},
   "outputs": [
    {
     "data": {
      "text/plain": [
       "True"
      ]
     },
     "execution_count": 50,
     "metadata": {},
     "output_type": "execute_result"
    }
   ],
   "source": [
    "queue.is_empty()"
   ]
  },
  {
   "cell_type": "code",
   "execution_count": 51,
   "id": "e26a5f5c",
   "metadata": {},
   "outputs": [
    {
     "name": "stdout",
     "output_type": "stream",
     "text": [
      "Queue is empty!\n"
     ]
    },
    {
     "data": {
      "text/plain": [
       "False"
      ]
     },
     "execution_count": 51,
     "metadata": {},
     "output_type": "execute_result"
    }
   ],
   "source": [
    "queue.dequeue()"
   ]
  },
  {
   "cell_type": "code",
   "execution_count": 52,
   "id": "4ddae282",
   "metadata": {},
   "outputs": [
    {
     "name": "stdout",
     "output_type": "stream",
     "text": [
      "[]\n",
      "['찬영']\n",
      "찬영\n",
      "['준영', '채영', '예영', '민영']\n",
      "준영\n",
      "채영\n",
      "['예영', '민영']\n",
      "예영\n",
      "민영\n",
      "Queue is empty!\n",
      "False\n",
      "True\n"
     ]
    }
   ],
   "source": [
    "# 테스트 코드\n",
    "testQueue = Queue()\n",
    "print(testQueue.queue_items)\n",
    "testQueue.enqueue('찬영')\n",
    "print(testQueue.queue_items)\n",
    "print(testQueue.dequeue())\n",
    "testQueue.enqueue('준영')\n",
    "testQueue.enqueue('채영')\n",
    "testQueue.enqueue('예영')\n",
    "testQueue.enqueue('민영')\n",
    "print(testQueue.queue_items)\n",
    "print(testQueue.dequeue())\n",
    "print(testQueue.dequeue())\n",
    "print(testQueue.queue_items)\n",
    "print(testQueue.dequeue())\n",
    "print(testQueue.dequeue())\n",
    "print(testQueue.dequeue())\n",
    "print(testQueue.is_empty())"
   ]
  },
  {
   "cell_type": "code",
   "execution_count": null,
   "id": "936baa9c",
   "metadata": {},
   "outputs": [],
   "source": []
  }
 ],
 "metadata": {
  "kernelspec": {
   "display_name": "Python 3 (ipykernel)",
   "language": "python",
   "name": "python3"
  },
  "language_info": {
   "codemirror_mode": {
    "name": "ipython",
    "version": 3
   },
   "file_extension": ".py",
   "mimetype": "text/x-python",
   "name": "python",
   "nbconvert_exporter": "python",
   "pygments_lexer": "ipython3",
   "version": "3.9.12"
  }
 },
 "nbformat": 4,
 "nbformat_minor": 5
}
