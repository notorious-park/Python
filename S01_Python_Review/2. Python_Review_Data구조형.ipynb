{
 "cells": [
  {
   "cell_type": "markdown",
   "id": "1d473668",
   "metadata": {},
   "source": [
    "# Python Review : 데이터 구조형"
   ]
  },
  {
   "cell_type": "markdown",
   "id": "fae04567",
   "metadata": {},
   "source": [
    "### 데이터 타입에 대한 이해가 중요함!\n",
    "- 숫자형 : int, float\n",
    "- 문자형 : str\n",
    "- 논리형 : boolean\n",
    "- 구조형 : list, tuple, set, dict ==> 공통점:elements\n",
    "- None\n",
    "- function 도 하나의 데이터 타입이다."
   ]
  },
  {
   "cell_type": "markdown",
   "id": "9c16e4a6",
   "metadata": {},
   "source": [
    "### <span style = 'color : red'> Wrap-up\n",
    "- list : elements, order, duplicate\n",
    "- tuple : elements, order, duplicate, 변경 X\n",
    "- set : elements, order X, duplicate X\n",
    "- dict : elements, order X, key, value, key duplicate X"
   ]
  },
  {
   "cell_type": "markdown",
   "id": "7f56cc36",
   "metadata": {},
   "source": [
    "### <span style = 'color : red'> 1. list - elements O, order O, duplicate O"
   ]
  },
  {
   "cell_type": "code",
   "execution_count": 1,
   "id": "79a992f2",
   "metadata": {},
   "outputs": [],
   "source": [
    "animals = [\"dog\", \"cat\", \"sheep\", \"duck\", \"cow\"]"
   ]
  },
  {
   "cell_type": "code",
   "execution_count": 2,
   "id": "8f1dd3ad",
   "metadata": {},
   "outputs": [
    {
     "data": {
      "text/plain": [
       "'dog'"
      ]
     },
     "execution_count": 2,
     "metadata": {},
     "output_type": "execute_result"
    }
   ],
   "source": [
    "animals[0]"
   ]
  },
  {
   "cell_type": "code",
   "execution_count": 3,
   "id": "49959761",
   "metadata": {},
   "outputs": [
    {
     "data": {
      "text/plain": [
       "['cat', 'sheep', 'duck']"
      ]
     },
     "execution_count": 3,
     "metadata": {},
     "output_type": "execute_result"
    }
   ],
   "source": [
    "animals[1:4]"
   ]
  },
  {
   "cell_type": "code",
   "execution_count": 4,
   "id": "a16016ac",
   "metadata": {},
   "outputs": [
    {
     "data": {
      "text/plain": [
       "['dog', 'cat', 'sheep', 'duck', 'cow']"
      ]
     },
     "execution_count": 4,
     "metadata": {},
     "output_type": "execute_result"
    }
   ],
   "source": [
    "animals[:]"
   ]
  },
  {
   "cell_type": "code",
   "execution_count": 5,
   "id": "e31b992a",
   "metadata": {},
   "outputs": [
    {
     "data": {
      "text/plain": [
       "['dog', 'sheep', 'cow']"
      ]
     },
     "execution_count": 5,
     "metadata": {},
     "output_type": "execute_result"
    }
   ],
   "source": [
    "animals[::2]"
   ]
  },
  {
   "cell_type": "code",
   "execution_count": 6,
   "id": "fce84226",
   "metadata": {},
   "outputs": [
    {
     "data": {
      "text/plain": [
       "'cow'"
      ]
     },
     "execution_count": 6,
     "metadata": {},
     "output_type": "execute_result"
    }
   ],
   "source": [
    "animals[-1]"
   ]
  },
  {
   "cell_type": "code",
   "execution_count": 7,
   "id": "eb3f398d",
   "metadata": {},
   "outputs": [
    {
     "data": {
      "text/plain": [
       "['cow', 'duck', 'sheep', 'cat', 'dog']"
      ]
     },
     "execution_count": 7,
     "metadata": {},
     "output_type": "execute_result"
    }
   ],
   "source": [
    "animals[::-1]"
   ]
  },
  {
   "cell_type": "code",
   "execution_count": 8,
   "id": "926707f2",
   "metadata": {},
   "outputs": [
    {
     "name": "stdout",
     "output_type": "stream",
     "text": [
      "dog\n",
      "cat\n",
      "sheep\n",
      "duck\n",
      "cow\n"
     ]
    }
   ],
   "source": [
    "for animal in animals:  \n",
    "    print(animal)"
   ]
  },
  {
   "cell_type": "code",
   "execution_count": 9,
   "id": "ebf84feb",
   "metadata": {},
   "outputs": [
    {
     "name": "stdout",
     "output_type": "stream",
     "text": [
      "dog\n",
      "cat\n",
      "sheep\n",
      "duck\n",
      "cow\n"
     ]
    }
   ],
   "source": [
    "size = len(animals)\n",
    "for i in range(size):\n",
    "    animal = animals[i]\n",
    "    print(animal)"
   ]
  },
  {
   "cell_type": "markdown",
   "id": "4aaefffa",
   "metadata": {},
   "source": [
    "### <span style = 'color : red'> 2. set(집합) - elements O, order X, duplicate X"
   ]
  },
  {
   "cell_type": "code",
   "execution_count": 10,
   "id": "83ca1bbe",
   "metadata": {},
   "outputs": [],
   "source": [
    "beast = set([\"lion\", \"tiger\", \"wolf\", \"tiger\", \"lion\" ])"
   ]
  },
  {
   "cell_type": "code",
   "execution_count": 11,
   "id": "412d4221",
   "metadata": {},
   "outputs": [
    {
     "data": {
      "text/plain": [
       "{'lion', 'tiger', 'wolf'}"
      ]
     },
     "execution_count": 11,
     "metadata": {},
     "output_type": "execute_result"
    }
   ],
   "source": [
    "beast"
   ]
  },
  {
   "cell_type": "code",
   "execution_count": 12,
   "id": "489f4ed4",
   "metadata": {},
   "outputs": [
    {
     "data": {
      "text/plain": [
       "{'a', 'b', 'c', 'd', 'r'}"
      ]
     },
     "execution_count": 12,
     "metadata": {},
     "output_type": "execute_result"
    }
   ],
   "source": [
    "data = set('abracadabra')\n",
    "data"
   ]
  },
  {
   "cell_type": "code",
   "execution_count": 13,
   "id": "1fa4b7b4",
   "metadata": {},
   "outputs": [
    {
     "data": {
      "text/plain": [
       "['a', 'b', 'c', 'd', 'r']"
      ]
     },
     "execution_count": 13,
     "metadata": {},
     "output_type": "execute_result"
    }
   ],
   "source": [
    "data = sorted(data)\n",
    "data"
   ]
  },
  {
   "cell_type": "markdown",
   "id": "e42fca9e",
   "metadata": {},
   "source": [
    "### <span style = 'color : red'> 3. dict - elements O, (key,value) O"
   ]
  },
  {
   "cell_type": "code",
   "execution_count": 14,
   "id": "4088bdae",
   "metadata": {},
   "outputs": [],
   "source": [
    "customer = {\n",
    "    \"name\"    : \"김진수\",\n",
    "    'gender'  : '남자',\n",
    "    \"email\"   : \"bigpycraft@gmail.com\",\n",
    "    \"company\" : \"빅파이크래프트\",\n",
    "    \"address\" : \"서울시 노원구 월계로\"\n",
    "}"
   ]
  },
  {
   "cell_type": "code",
   "execution_count": 15,
   "id": "47d98822",
   "metadata": {},
   "outputs": [
    {
     "data": {
      "text/plain": [
       "dict_keys(['name', 'gender', 'email', 'company', 'address'])"
      ]
     },
     "execution_count": 15,
     "metadata": {},
     "output_type": "execute_result"
    }
   ],
   "source": [
    "customer.keys()"
   ]
  },
  {
   "cell_type": "code",
   "execution_count": 16,
   "id": "96fee315",
   "metadata": {
    "scrolled": true
   },
   "outputs": [
    {
     "name": "stdout",
     "output_type": "stream",
     "text": [
      "name\n",
      "gender\n",
      "email\n",
      "company\n",
      "address\n"
     ]
    }
   ],
   "source": [
    "for something in customer:\n",
    "    print(something)    # key값"
   ]
  },
  {
   "cell_type": "code",
   "execution_count": 20,
   "id": "2b5e79b9",
   "metadata": {},
   "outputs": [
    {
     "name": "stdout",
     "output_type": "stream",
     "text": [
      "name ==> 김진수\n",
      "name ==> 김진수\n",
      "gender ==> 남자\n",
      "gender ==> 남자\n",
      "email ==> bigpycraft@gmail.com\n",
      "email ==> bigpycraft@gmail.com\n",
      "company ==> 빅파이크래프트\n",
      "company ==> 빅파이크래프트\n",
      "address ==> 서울시 노원구 월계로\n",
      "address ==> 서울시 노원구 월계로\n"
     ]
    }
   ],
   "source": [
    "for key in customer:\n",
    "    value = customer[key]\n",
    "    print(\"%s ==> %s\" % (key, value))\n",
    "    print('{} ==> {}'.format(key,value))"
   ]
  },
  {
   "cell_type": "code",
   "execution_count": 21,
   "id": "188ca772",
   "metadata": {},
   "outputs": [
    {
     "data": {
      "text/plain": [
       "'hello, 김진수'"
      ]
     },
     "execution_count": 21,
     "metadata": {},
     "output_type": "execute_result"
    }
   ],
   "source": [
    "# String Formatting\n",
    "\"%s, %s\" % (\"hello\", \"김진수\")\n",
    "\n",
    "# pros : 쉽다.\n",
    "# cons : 일단은 내부적으로 치환되는 부분(%) 이 있을때 복잡"
   ]
  },
  {
   "cell_type": "code",
   "execution_count": 22,
   "id": "06ee6770",
   "metadata": {},
   "outputs": [
    {
     "data": {
      "text/plain": [
       "'김진수: 안녕하세요, 김진수'"
      ]
     },
     "execution_count": 22,
     "metadata": {},
     "output_type": "execute_result"
    }
   ],
   "source": [
    "\"{name}: {greeting}, {name}\".format(\n",
    "    greeting = \"안녕하세요\",   # kwargs\n",
    "    name = \"김진수\"\n",
    ")"
   ]
  },
  {
   "cell_type": "code",
   "execution_count": 23,
   "id": "b3172727",
   "metadata": {},
   "outputs": [
    {
     "name": "stdout",
     "output_type": "stream",
     "text": [
      "name 김진수\n",
      "gender 남자\n",
      "email bigpycraft@gmail.com\n",
      "company 빅파이크래프트\n",
      "address 서울시 노원구 월계로\n"
     ]
    }
   ],
   "source": [
    "for key, value in customer.items():\n",
    "    print(key, value)"
   ]
  },
  {
   "cell_type": "code",
   "execution_count": 24,
   "id": "08e6ce3d",
   "metadata": {},
   "outputs": [
    {
     "name": "stdout",
     "output_type": "stream",
     "text": [
      "('name', '김진수')\n",
      "('gender', '남자')\n",
      "('email', 'bigpycraft@gmail.com')\n",
      "('company', '빅파이크래프트')\n",
      "('address', '서울시 노원구 월계로')\n"
     ]
    }
   ],
   "source": [
    "for something in customer.items():\n",
    "    print(something)"
   ]
  },
  {
   "cell_type": "code",
   "execution_count": 25,
   "id": "a1a835ef",
   "metadata": {},
   "outputs": [
    {
     "name": "stdout",
     "output_type": "stream",
     "text": [
      "name ==> 김진수\n",
      "gender ==> 남자\n",
      "email ==> bigpycraft@gmail.com\n",
      "company ==> 빅파이크래프트\n",
      "address ==> 서울시 노원구 월계로\n"
     ]
    }
   ],
   "source": [
    "for key, value in customer.items():\n",
    "    print(\"{key} ==> {value}\".format(\n",
    "        key   = key,\n",
    "        value = value,\n",
    "    ))"
   ]
  },
  {
   "cell_type": "code",
   "execution_count": 26,
   "id": "ff5e1a16",
   "metadata": {},
   "outputs": [
    {
     "name": "stdout",
     "output_type": "stream",
     "text": [
      "name     ==> 김진수\n",
      "gender   ==> 남자\n",
      "email    ==> bigpycraft@gmail.com\n",
      "company  ==> 빅파이크래프트\n",
      "address  ==> 서울시 노원구 월계로\n"
     ]
    }
   ],
   "source": [
    "for key, value in customer.items():\n",
    "    print(\"{key} {space} ==> {value}\".format(\n",
    "        key   = key,\n",
    "        space = ' '*(7-len(key)),\n",
    "        value = value,\n",
    "    ))"
   ]
  },
  {
   "cell_type": "code",
   "execution_count": 27,
   "id": "4d0bdf2d",
   "metadata": {},
   "outputs": [
    {
     "data": {
      "text/plain": [
       "dict_items([('name', '김진수'), ('gender', '남자'), ('email', 'bigpycraft@gmail.com'), ('company', '빅파이크래프트'), ('address', '서울시 노원구 월계로')])"
      ]
     },
     "execution_count": 27,
     "metadata": {},
     "output_type": "execute_result"
    }
   ],
   "source": [
    "customer.items()"
   ]
  },
  {
   "cell_type": "markdown",
   "id": "23cd8bf2",
   "metadata": {},
   "source": [
    "### <span style = 'color : red'> 4. tuple - elements O, order O, duplicate O, 변경될 수 있는가? X\n",
    "- 변경되지 않는 자료형\n",
    "- 파이썬 내부적으로, 라이브러리 => dict!"
   ]
  },
  {
   "cell_type": "code",
   "execution_count": 28,
   "id": "85792832",
   "metadata": {},
   "outputs": [],
   "source": [
    "# 직사각형\n",
    "width = 100\n",
    "height = 200\n",
    "\n",
    "data = (100,200)"
   ]
  },
  {
   "cell_type": "code",
   "execution_count": 29,
   "id": "c6c2c7ea",
   "metadata": {},
   "outputs": [],
   "source": [
    "width, height = data    # data라고 하는 값 x"
   ]
  },
  {
   "cell_type": "code",
   "execution_count": 30,
   "id": "73496653",
   "metadata": {},
   "outputs": [],
   "source": [
    "def getArea(w,h):\n",
    "    area = w * h\n",
    "    return area"
   ]
  },
  {
   "cell_type": "code",
   "execution_count": 32,
   "id": "59870f6d",
   "metadata": {},
   "outputs": [
    {
     "data": {
      "text/plain": [
       "20000"
      ]
     },
     "execution_count": 32,
     "metadata": {},
     "output_type": "execute_result"
    }
   ],
   "source": [
    "area = getArea(*data)\n",
    "area"
   ]
  },
  {
   "cell_type": "code",
   "execution_count": 35,
   "id": "6f80fb8a",
   "metadata": {},
   "outputs": [
    {
     "data": {
      "text/plain": [
       "20000"
      ]
     },
     "execution_count": 35,
     "metadata": {},
     "output_type": "execute_result"
    }
   ],
   "source": [
    "area = getArea(width,height)\n",
    "area"
   ]
  },
  {
   "cell_type": "code",
   "execution_count": 36,
   "id": "db040991",
   "metadata": {},
   "outputs": [
    {
     "ename": "TypeError",
     "evalue": "getArea() missing 1 required positional argument: 'h'",
     "output_type": "error",
     "traceback": [
      "\u001b[1;31m---------------------------------------------------------------------------\u001b[0m",
      "\u001b[1;31mTypeError\u001b[0m                                 Traceback (most recent call last)",
      "Input \u001b[1;32mIn [36]\u001b[0m, in \u001b[0;36m<cell line: 1>\u001b[1;34m()\u001b[0m\n\u001b[1;32m----> 1\u001b[0m area \u001b[38;5;241m=\u001b[39m \u001b[43mgetArea\u001b[49m\u001b[43m(\u001b[49m\u001b[43mdata\u001b[49m\u001b[43m)\u001b[49m\n\u001b[0;32m      2\u001b[0m area\n",
      "\u001b[1;31mTypeError\u001b[0m: getArea() missing 1 required positional argument: 'h'"
     ]
    }
   ],
   "source": [
    "# data X ---> *data\n",
    "area = getArea(data)\n",
    "area"
   ]
  },
  {
   "cell_type": "code",
   "execution_count": null,
   "id": "0f7b7221",
   "metadata": {},
   "outputs": [],
   "source": []
  }
 ],
 "metadata": {
  "kernelspec": {
   "display_name": "Python 3 (ipykernel)",
   "language": "python",
   "name": "python3"
  },
  "language_info": {
   "codemirror_mode": {
    "name": "ipython",
    "version": 3
   },
   "file_extension": ".py",
   "mimetype": "text/x-python",
   "name": "python",
   "nbconvert_exporter": "python",
   "pygments_lexer": "ipython3",
   "version": "3.9.12"
  }
 },
 "nbformat": 4,
 "nbformat_minor": 5
}
