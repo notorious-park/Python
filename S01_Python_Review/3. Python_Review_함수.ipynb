{
 "cells": [
  {
   "cell_type": "markdown",
   "id": "42b5becf",
   "metadata": {},
   "source": [
    "# Python Review : 함수"
   ]
  },
  {
   "cell_type": "markdown",
   "id": "d5214fdc",
   "metadata": {},
   "source": [
    "### 함수 생성"
   ]
  },
  {
   "cell_type": "code",
   "execution_count": 1,
   "id": "4bf46fab",
   "metadata": {},
   "outputs": [],
   "source": [
    "def add_txt(t1,t2):\n",
    "    print(t1+t2)"
   ]
  },
  {
   "cell_type": "code",
   "execution_count": 2,
   "id": "eb67c087",
   "metadata": {},
   "outputs": [
    {
     "name": "stdout",
     "output_type": "stream",
     "text": [
      "파이썬~최고!!!\n"
     ]
    }
   ],
   "source": [
    "text1 = '파이썬~'\n",
    "text2 = '최고!!!'\n",
    "add_txt(text1,text2)"
   ]
  },
  {
   "cell_type": "code",
   "execution_count": 3,
   "id": "43c4adab",
   "metadata": {},
   "outputs": [],
   "source": [
    "def add_number(n1,n2):\n",
    "    result = n1 + n2\n",
    "    return result"
   ]
  },
  {
   "cell_type": "code",
   "execution_count": 4,
   "id": "7342117e",
   "metadata": {},
   "outputs": [
    {
     "name": "stdout",
     "output_type": "stream",
     "text": [
      "25\n"
     ]
    }
   ],
   "source": [
    "ans = add_number(10,15)\n",
    "print(ans)"
   ]
  },
  {
   "cell_type": "markdown",
   "id": "7a6239f2",
   "metadata": {},
   "source": [
    "### 함수 인자"
   ]
  },
  {
   "cell_type": "code",
   "execution_count": 11,
   "id": "fbfa0d2c",
   "metadata": {},
   "outputs": [],
   "source": [
    "def add_txt(t1, t2='파이썬'):\n",
    "    print(t1 + ' : ' + t2)"
   ]
  },
  {
   "cell_type": "code",
   "execution_count": 12,
   "id": "342a0e37",
   "metadata": {},
   "outputs": [
    {
     "name": "stdout",
     "output_type": "stream",
     "text": [
      "베스트 : 파이썬\n"
     ]
    }
   ],
   "source": [
    "add_txt('베스트')"
   ]
  },
  {
   "cell_type": "code",
   "execution_count": 13,
   "id": "5125ca7c",
   "metadata": {},
   "outputs": [
    {
     "name": "stdout",
     "output_type": "stream",
     "text": [
      "1등 : 대한민국\n"
     ]
    }
   ],
   "source": [
    "add_txt(t2='대한민국',t1='1등')"
   ]
  },
  {
   "cell_type": "code",
   "execution_count": 15,
   "id": "c4d0c501",
   "metadata": {},
   "outputs": [],
   "source": [
    "def func1(*args):\n",
    "    print(args)\n",
    "def func2(width,height,**kwargs):\n",
    "    print(kwargs)"
   ]
  },
  {
   "cell_type": "code",
   "execution_count": 18,
   "id": "051b2310",
   "metadata": {},
   "outputs": [
    {
     "name": "stdout",
     "output_type": "stream",
     "text": [
      "()\n",
      "(3, 5, 1, 5)\n"
     ]
    }
   ],
   "source": [
    "func1()\n",
    "func1(3,5,1,5)"
   ]
  },
  {
   "cell_type": "code",
   "execution_count": 19,
   "id": "1b1f69ab",
   "metadata": {},
   "outputs": [
    {
     "name": "stdout",
     "output_type": "stream",
     "text": [
      "{}\n",
      "{'depth': 50, 'color': 'blue'}\n"
     ]
    }
   ],
   "source": [
    "func2(10,20)\n",
    "func2(10,20, depth = 50, color = 'blue')"
   ]
  },
  {
   "cell_type": "markdown",
   "id": "2766293f",
   "metadata": {},
   "source": [
    "### 지역변수와 전역변수(global)"
   ]
  },
  {
   "cell_type": "code",
   "execution_count": 21,
   "id": "a100a2b4",
   "metadata": {},
   "outputs": [],
   "source": [
    "param = 10\n",
    "strdata = '전역변수'\n",
    "\n",
    "def func1():\n",
    "    strdata = '지역변수'\n",
    "    print(strdata)\n",
    "    \n",
    "def func2(param):\n",
    "    praram = 1\n",
    "    \n",
    "def func3():\n",
    "    global param\n",
    "    param = 50"
   ]
  },
  {
   "cell_type": "code",
   "execution_count": 22,
   "id": "37c214da",
   "metadata": {},
   "outputs": [
    {
     "name": "stdout",
     "output_type": "stream",
     "text": [
      "지역변수\n",
      "전역변수\n",
      "10\n"
     ]
    }
   ],
   "source": [
    "func1()\n",
    "print(strdata)\n",
    "print(param)"
   ]
  },
  {
   "cell_type": "code",
   "execution_count": 23,
   "id": "3db58177",
   "metadata": {},
   "outputs": [
    {
     "name": "stdout",
     "output_type": "stream",
     "text": [
      "10\n"
     ]
    }
   ],
   "source": [
    "func2(param)\n",
    "print(param)"
   ]
  },
  {
   "cell_type": "code",
   "execution_count": 24,
   "id": "36bf48cc",
   "metadata": {},
   "outputs": [
    {
     "name": "stdout",
     "output_type": "stream",
     "text": [
      "50\n"
     ]
    }
   ],
   "source": [
    "func3()\n",
    "print(param)"
   ]
  },
  {
   "cell_type": "markdown",
   "id": "b75a4910",
   "metadata": {},
   "source": [
    "### 함수 출력"
   ]
  },
  {
   "cell_type": "code",
   "execution_count": 25,
   "id": "db076f52",
   "metadata": {},
   "outputs": [],
   "source": [
    "def reverse(x,y,z):\n",
    "    return z,y,x"
   ]
  },
  {
   "cell_type": "code",
   "execution_count": 27,
   "id": "85924e28",
   "metadata": {},
   "outputs": [
    {
     "name": "stdout",
     "output_type": "stream",
     "text": [
      "(3, 2, 1)\n"
     ]
    }
   ],
   "source": [
    "ret = reverse(1, 2, 3)\n",
    "print(ret) "
   ]
  },
  {
   "cell_type": "code",
   "execution_count": 28,
   "id": "fcf69fc5",
   "metadata": {},
   "outputs": [
    {
     "name": "stdout",
     "output_type": "stream",
     "text": [
      "c\n",
      "b\n",
      "a\n"
     ]
    }
   ],
   "source": [
    "r1, r2, r3 = reverse('a','b','c')\n",
    "print(r1); print(r2); print(r3)"
   ]
  },
  {
   "cell_type": "code",
   "execution_count": null,
   "id": "caf2c57e",
   "metadata": {},
   "outputs": [],
   "source": []
  }
 ],
 "metadata": {
  "kernelspec": {
   "display_name": "Python 3 (ipykernel)",
   "language": "python",
   "name": "python3"
  },
  "language_info": {
   "codemirror_mode": {
    "name": "ipython",
    "version": 3
   },
   "file_extension": ".py",
   "mimetype": "text/x-python",
   "name": "python",
   "nbconvert_exporter": "python",
   "pygments_lexer": "ipython3",
   "version": "3.9.12"
  }
 },
 "nbformat": 4,
 "nbformat_minor": 5
}
