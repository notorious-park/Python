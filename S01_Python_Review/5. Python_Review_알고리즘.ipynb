{
 "cells": [
  {
   "cell_type": "markdown",
   "id": "273bd814",
   "metadata": {},
   "source": [
    "# 알고리즘, Algorithm\n",
    "\n",
    ">\n",
    "- 원의 면적\n",
    "- 특정 날짜의 요일 계산\n"
   ]
  },
  {
   "cell_type": "markdown",
   "id": "f122554c",
   "metadata": {},
   "source": [
    "### 원의 면적\n",
    "- area of circle = pi * radius^2"
   ]
  },
  {
   "cell_type": "code",
   "execution_count": 1,
   "id": "e6779d62",
   "metadata": {},
   "outputs": [],
   "source": [
    "import math"
   ]
  },
  {
   "cell_type": "code",
   "execution_count": 2,
   "id": "9743a729",
   "metadata": {},
   "outputs": [
    {
     "data": {
      "text/plain": [
       "3.141592653589793"
      ]
     },
     "execution_count": 2,
     "metadata": {},
     "output_type": "execute_result"
    }
   ],
   "source": [
    "math.pi"
   ]
  },
  {
   "cell_type": "code",
   "execution_count": 3,
   "id": "dc10c9ee",
   "metadata": {},
   "outputs": [
    {
     "data": {
      "text/plain": [
       "3.14"
      ]
     },
     "execution_count": 3,
     "metadata": {},
     "output_type": "execute_result"
    }
   ],
   "source": [
    "PI = round(math.pi, 2)\n",
    "PI"
   ]
  },
  {
   "cell_type": "code",
   "execution_count": 4,
   "id": "553ad0a3",
   "metadata": {},
   "outputs": [],
   "source": [
    "?round"
   ]
  },
  {
   "cell_type": "code",
   "execution_count": 5,
   "id": "d8154f53",
   "metadata": {},
   "outputs": [],
   "source": [
    "def get_circle_area(radius: int)  -> float:\n",
    "    \"\"\"\n",
    "    원의 면적을 구하는 함수\n",
    "    Input\n",
    "        radius   : 반지름\n",
    "        \n",
    "    Output\n",
    "        area     : 원의 면적\n",
    "    \"\"\"\n",
    "    PI = round(math.pi, 2)\n",
    "    area = PI * radius**2\n",
    "    return area"
   ]
  },
  {
   "cell_type": "code",
   "execution_count": 6,
   "id": "c4329392",
   "metadata": {},
   "outputs": [
    {
     "name": "stdout",
     "output_type": "stream",
     "text": [
      "\n",
      "    원의 면적을 구하는 함수\n",
      "    Input\n",
      "        radius   : 반지름\n",
      "        \n",
      "    Output\n",
      "        area     : 원의 면적\n",
      "    \n"
     ]
    }
   ],
   "source": [
    "docu = get_circle_area.__doc__\n",
    "print(docu)"
   ]
  },
  {
   "cell_type": "code",
   "execution_count": 7,
   "id": "4ea5ca37",
   "metadata": {},
   "outputs": [
    {
     "data": {
      "text/plain": [
       "'반지름이 5미터인 원의 면적은 78.5제곱미터 입니다.'"
      ]
     },
     "execution_count": 7,
     "metadata": {},
     "output_type": "execute_result"
    }
   ],
   "source": [
    "radius   = 5\n",
    "area = get_circle_area(radius)\n",
    "\n",
    "\"반지름이 {}미터인 원의 면적은 {}제곱미터 입니다.\".format(radius, area)"
   ]
  },
  {
   "cell_type": "markdown",
   "id": "94939f8f",
   "metadata": {},
   "source": [
    "### 특정 날짜의 요일 계산\n",
    "\n",
    "- 날짜 차이 계산\n",
    "- 미래 요일 계산\n",
    "- 특정 일자의 요일 계산"
   ]
  },
  {
   "cell_type": "code",
   "execution_count": 8,
   "id": "63c36210",
   "metadata": {},
   "outputs": [],
   "source": [
    "# 날짜 차이 계산\n",
    "def day_difference(day1:int, day2:int)-> int:\n",
    "    diff =   day1 - day2\n",
    "    return diff"
   ]
  },
  {
   "cell_type": "code",
   "execution_count": 9,
   "id": "9c056c67",
   "metadata": {},
   "outputs": [
    {
     "data": {
      "text/plain": [
       "-70"
      ]
     },
     "execution_count": 9,
     "metadata": {},
     "output_type": "execute_result"
    }
   ],
   "source": [
    "diff = day_difference(50,120)\n",
    "diff"
   ]
  },
  {
   "cell_type": "code",
   "execution_count": 10,
   "id": "cd55ad17",
   "metadata": {},
   "outputs": [
    {
     "name": "stdout",
     "output_type": "stream",
     "text": [
      "70일 지났습니다.\n"
     ]
    }
   ],
   "source": [
    "if diff > 0:\n",
    "    print('{}일 남았습니다.'.format(abs(diff)))\n",
    "else:\n",
    "    print('{}일 지났습니다.'.format(abs(diff)))"
   ]
  },
  {
   "cell_type": "code",
   "execution_count": 23,
   "id": "a0298c8a",
   "metadata": {},
   "outputs": [],
   "source": [
    "# 미래 요일 계산\n",
    "def get_weekday(current_weekday: int, days_ahead: int) -> int:\n",
    "    '''\n",
    "        current_weekday에서 days_ahead만큼 지나면 무슨 요일인지 반환\n",
    "    '''\n",
    "    days_kr = list('일월화수목금토')\n",
    "    # day_idx = (days_ahead - current_weekday) % 7\n",
    "    day_idx = (days_ahead + current_weekday) % 7\n",
    "    return day_idx, days_kr[day_idx]"
   ]
  },
  {
   "cell_type": "code",
   "execution_count": 24,
   "id": "8b4f0d21",
   "metadata": {},
   "outputs": [
    {
     "data": {
      "text/plain": [
       "['일', '월', '화', '수', '목', '금', '토']"
      ]
     },
     "execution_count": 24,
     "metadata": {},
     "output_type": "execute_result"
    }
   ],
   "source": [
    "days_kr = list('일월화수목금토')\n",
    "days_kr"
   ]
  },
  {
   "cell_type": "code",
   "execution_count": 25,
   "id": "915ecdcb",
   "metadata": {},
   "outputs": [
    {
     "data": {
      "text/plain": [
       "(1, '월')"
      ]
     },
     "execution_count": 25,
     "metadata": {},
     "output_type": "execute_result"
    }
   ],
   "source": [
    "get_weekday(0, 8)"
   ]
  },
  {
   "cell_type": "code",
   "execution_count": 26,
   "id": "42b01f65",
   "metadata": {},
   "outputs": [
    {
     "data": {
      "text/plain": [
       "(4, '목')"
      ]
     },
     "execution_count": 26,
     "metadata": {},
     "output_type": "execute_result"
    }
   ],
   "source": [
    "get_weekday(2, 2)"
   ]
  },
  {
   "cell_type": "code",
   "execution_count": 18,
   "id": "f2a3ee33",
   "metadata": {},
   "outputs": [],
   "source": [
    "# 특정일자의 요일 계산\n",
    "def date_difference(cur_date: int, *arr_date: int) -> int:\n",
    "    '''\n",
    "        cur_date에서 남은 날짜까지의 달수 dates을 통한 남은 날짜 차이 계산\n",
    "    '''\n",
    "    # sum_date = sum(arr_date)\n",
    "    sum_date = int()\n",
    "    for date in arr_date:\n",
    "        sum_date += date\n",
    "    \n",
    "    remain_date = sum_date - cur_date\n",
    "    return remain_date"
   ]
  },
  {
   "cell_type": "code",
   "execution_count": 19,
   "id": "e43d6afc",
   "metadata": {},
   "outputs": [
    {
     "data": {
      "text/plain": [
       "216"
      ]
     },
     "execution_count": 19,
     "metadata": {},
     "output_type": "execute_result"
    }
   ],
   "source": [
    "cur_date = 23\n",
    "arr_date = 31, 30, 31, 31, 30, 31, 30, 25\n",
    "remain_date = date_difference(cur_date, *arr_date)\n",
    "remain_date"
   ]
  },
  {
   "cell_type": "code",
   "execution_count": 20,
   "id": "2f8b30c6",
   "metadata": {},
   "outputs": [
    {
     "data": {
      "text/plain": [
       "{'일': 0, '월': 1, '화': 2, '수': 3, '목': 4, '금': 5, '토': 6}"
      ]
     },
     "execution_count": 20,
     "metadata": {},
     "output_type": "execute_result"
    }
   ],
   "source": [
    "days_idx = dict()\n",
    "days_kr  = list('일월화수목금토')\n",
    "\n",
    "for idx in range(len(days_kr)):\n",
    "    days_idx[days_kr[idx]] = idx\n",
    "    \n",
    "days_idx"
   ]
  },
  {
   "cell_type": "code",
   "execution_count": 21,
   "id": "2361f3e5",
   "metadata": {},
   "outputs": [],
   "source": [
    "def calculate_date(cur_day, cur_date, *arr_data):\n",
    "    day_idx = days_idx[cur_day]\n",
    "    \n",
    "    remain_date = date_difference(cur_date, *arr_data)\n",
    "    \n",
    "    f_day_idx = (day_idx + remain_date) % 7\n",
    "    f_day_kr  =  days_kr[f_day_idx]\n",
    "    \n",
    "    return f_day_kr, remain_date"
   ]
  },
  {
   "cell_type": "code",
   "execution_count": 22,
   "id": "15f0386b",
   "metadata": {},
   "outputs": [
    {
     "data": {
      "text/plain": [
       "'올해의 크리스마스는 일요일이고, 앞으로 216일 남았습니다.'"
      ]
     },
     "execution_count": 22,
     "metadata": {},
     "output_type": "execute_result"
    }
   ],
   "source": [
    "cur_day  = '월'\n",
    "cur_date = 23\n",
    "arr_date = 31, 30, 31, 31, 30, 31, 30, 25\n",
    "\n",
    "f_day_kr, remain_date = calculate_date(cur_day, cur_date, *arr_date)\n",
    "\n",
    "'올해의 크리스마스는 {}요일이고, 앞으로 {}일 남았습니다.'.format(f_day_kr, remain_date)"
   ]
  },
  {
   "cell_type": "code",
   "execution_count": null,
   "id": "a62e12c3",
   "metadata": {},
   "outputs": [],
   "source": []
  }
 ],
 "metadata": {
  "kernelspec": {
   "display_name": "Python 3 (ipykernel)",
   "language": "python",
   "name": "python3"
  },
  "language_info": {
   "codemirror_mode": {
    "name": "ipython",
    "version": 3
   },
   "file_extension": ".py",
   "mimetype": "text/x-python",
   "name": "python",
   "nbconvert_exporter": "python",
   "pygments_lexer": "ipython3",
   "version": "3.9.12"
  }
 },
 "nbformat": 4,
 "nbformat_minor": 5
}
