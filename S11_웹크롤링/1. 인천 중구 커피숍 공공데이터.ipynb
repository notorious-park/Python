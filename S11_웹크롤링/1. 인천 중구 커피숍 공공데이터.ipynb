{
 "cells": [
  {
   "cell_type": "markdown",
   "id": "88477df0",
   "metadata": {},
   "source": [
    "# 공공데이터 활용\n",
    "## Case5. 카페주소와 지도위치(위도,경도)값 구하기"
   ]
  },
  {
   "cell_type": "code",
   "execution_count": 1,
   "id": "95326895",
   "metadata": {},
   "outputs": [],
   "source": [
    "import matplotlib.pyplot as plt\n",
    "import numpy as np\n",
    "import pandas as pd\n",
    "# import seaborn as sns\n",
    "\n",
    "from matplotlib import font_manager, rc\n",
    "font_name = font_manager.FontProperties(fname=\"c:/Windows/Fonts/malgun.ttf\").get_name()\n",
    "rc('font', family=font_name)\n",
    "\n",
    "%matplotlib inline\n",
    "plt.rcParams[\"figure.figsize\"] = [12,6]"
   ]
  },
  {
   "cell_type": "markdown",
   "id": "9c7ffb8b",
   "metadata": {},
   "source": [
    "### Step1. 데이터 준비\n",
    "> DATA : 공공데이터의 인천 중구 커피숍 파일"
   ]
  },
  {
   "cell_type": "code",
   "execution_count": 4,
   "id": "10a18728",
   "metadata": {},
   "outputs": [],
   "source": [
    "# %ls data\\*.csv\n",
    "file_name = './data/public_incheon_cafe_2021.csv'"
   ]
  },
  {
   "cell_type": "markdown",
   "id": "d40eb55e",
   "metadata": {},
   "source": [
    "### Step2. 데이터 확인"
   ]
  },
  {
   "cell_type": "code",
   "execution_count": 5,
   "id": "2610e3ab",
   "metadata": {},
   "outputs": [
    {
     "data": {
      "text/html": [
       "<div>\n",
       "<style scoped>\n",
       "    .dataframe tbody tr th:only-of-type {\n",
       "        vertical-align: middle;\n",
       "    }\n",
       "\n",
       "    .dataframe tbody tr th {\n",
       "        vertical-align: top;\n",
       "    }\n",
       "\n",
       "    .dataframe thead th {\n",
       "        text-align: right;\n",
       "    }\n",
       "</style>\n",
       "<table border=\"1\" class=\"dataframe\">\n",
       "  <thead>\n",
       "    <tr style=\"text-align: right;\">\n",
       "      <th></th>\n",
       "      <th>연번</th>\n",
       "      <th>사업장명</th>\n",
       "      <th>소재지지번주소</th>\n",
       "      <th>소재지도로명주소</th>\n",
       "      <th>데이터기준일자</th>\n",
       "    </tr>\n",
       "  </thead>\n",
       "  <tbody>\n",
       "    <tr>\n",
       "      <th>0</th>\n",
       "      <td>1</td>\n",
       "      <td>Cafe Arancia</td>\n",
       "      <td>인천광역시 중구 내동 212-22 1층</td>\n",
       "      <td>인천광역시 중구 우현로49번길 10-5 1층</td>\n",
       "      <td>2021-08-05</td>\n",
       "    </tr>\n",
       "    <tr>\n",
       "      <th>1</th>\n",
       "      <td>2</td>\n",
       "      <td>디저트카페 아네모오네</td>\n",
       "      <td>인천광역시 중구 송학동3가 7-26</td>\n",
       "      <td>인천광역시 중구 신포로35번길 10-1</td>\n",
       "      <td>2021-08-05</td>\n",
       "    </tr>\n",
       "    <tr>\n",
       "      <th>2</th>\n",
       "      <td>3</td>\n",
       "      <td>관동오리진</td>\n",
       "      <td>인천광역시 중구 관동1가 14-3</td>\n",
       "      <td>인천광역시 중구 신포로27번길 96</td>\n",
       "      <td>2021-08-05</td>\n",
       "    </tr>\n",
       "    <tr>\n",
       "      <th>3</th>\n",
       "      <td>4</td>\n",
       "      <td>카페맑음</td>\n",
       "      <td>인천광역시 중구 신포동 48-3</td>\n",
       "      <td>인천광역시 중구 신포로 32-21</td>\n",
       "      <td>2021-08-05</td>\n",
       "    </tr>\n",
       "    <tr>\n",
       "      <th>4</th>\n",
       "      <td>5</td>\n",
       "      <td>팟알</td>\n",
       "      <td>인천광역시 중구 관동1가 17</td>\n",
       "      <td>인천광역시 중구 신포로27번길 96-2</td>\n",
       "      <td>2021-08-05</td>\n",
       "    </tr>\n",
       "  </tbody>\n",
       "</table>\n",
       "</div>"
      ],
      "text/plain": [
       "   연번          사업장명                소재지지번주소                  소재지도로명주소  \\\n",
       "0   1  Cafe Arancia  인천광역시 중구 내동 212-22 1층  인천광역시 중구 우현로49번길 10-5 1층   \n",
       "1   2   디저트카페 아네모오네    인천광역시 중구 송학동3가 7-26     인천광역시 중구 신포로35번길 10-1   \n",
       "2   3         관동오리진     인천광역시 중구 관동1가 14-3       인천광역시 중구 신포로27번길 96   \n",
       "3   4          카페맑음      인천광역시 중구 신포동 48-3        인천광역시 중구 신포로 32-21   \n",
       "4   5            팟알       인천광역시 중구 관동1가 17     인천광역시 중구 신포로27번길 96-2   \n",
       "\n",
       "      데이터기준일자  \n",
       "0  2021-08-05  \n",
       "1  2021-08-05  \n",
       "2  2021-08-05  \n",
       "3  2021-08-05  \n",
       "4  2021-08-05  "
      ]
     },
     "execution_count": 5,
     "metadata": {},
     "output_type": "execute_result"
    }
   ],
   "source": [
    "# csv파일 불러오기\n",
    "# df = pd.read_csv(file_name, encoding='utf-8')  # utf-8, euc-kr, cp949\n",
    "df = pd.read_csv(file_name, encoding='euc-kr')\n",
    "df.head()"
   ]
  },
  {
   "cell_type": "markdown",
   "id": "eddf5ed3",
   "metadata": {},
   "source": [
    "### Step3. 필요한 주소만 남겨놓기"
   ]
  },
  {
   "cell_type": "code",
   "execution_count": 6,
   "id": "fd77edde",
   "metadata": {},
   "outputs": [
    {
     "data": {
      "text/plain": [
       "'인천광역시 중구 내동 212-22 1층'"
      ]
     },
     "execution_count": 6,
     "metadata": {},
     "output_type": "execute_result"
    }
   ],
   "source": [
    "col_addr1 = df['소재지지번주소']\n",
    "col_addr1[0]"
   ]
  },
  {
   "cell_type": "code",
   "execution_count": 7,
   "id": "7923dda9",
   "metadata": {},
   "outputs": [
    {
     "data": {
      "text/plain": [
       "'인천광역시 중구 내동 212-22 1층'"
      ]
     },
     "execution_count": 7,
     "metadata": {},
     "output_type": "execute_result"
    }
   ],
   "source": [
    "col_addr2 = df['소재지도로명주소']\n",
    "col_addr1[0]"
   ]
  },
  {
   "cell_type": "code",
   "execution_count": 8,
   "id": "732a23d3",
   "metadata": {},
   "outputs": [
    {
     "data": {
      "text/plain": [
       "(80, 80)"
      ]
     },
     "execution_count": 8,
     "metadata": {},
     "output_type": "execute_result"
    }
   ],
   "source": [
    "len(col_addr1), len(col_addr2)"
   ]
  },
  {
   "cell_type": "code",
   "execution_count": 9,
   "id": "924031c0",
   "metadata": {},
   "outputs": [],
   "source": [
    "# 주소 데이터 깔끔하게 다듬기\n",
    "arr_address = list()\n",
    "for idx in range(len(col_addr2)):\n",
    "    tmp = col_addr2[idx].split()\n",
    "    address = ' '.join(tmp[0:4])\n",
    "    arr_address.append(address)"
   ]
  },
  {
   "cell_type": "code",
   "execution_count": 10,
   "id": "a8cf20be",
   "metadata": {},
   "outputs": [
    {
     "data": {
      "text/plain": [
       "['인천광역시 중구 우현로49번길 10-5',\n",
       " '인천광역시 중구 신포로35번길 10-1',\n",
       " '인천광역시 중구 신포로27번길 96',\n",
       " '인천광역시 중구 신포로 32-21',\n",
       " '인천광역시 중구 신포로27번길 96-2']"
      ]
     },
     "execution_count": 10,
     "metadata": {},
     "output_type": "execute_result"
    }
   ],
   "source": [
    "arr_address[:5]"
   ]
  },
  {
   "cell_type": "markdown",
   "id": "f7c0b19e",
   "metadata": {},
   "source": [
    "### Step4. 위경도 변환하기\n",
    "- geopy 라이브러리를 import\n",
    "- 도로명주소 위도 경도 값으로 바꿔주기"
   ]
  },
  {
   "cell_type": "code",
   "execution_count": 12,
   "id": "d96f60d7",
   "metadata": {},
   "outputs": [
    {
     "name": "stdout",
     "output_type": "stream",
     "text": [
      "Collecting geopy\n",
      "  Downloading geopy-2.2.0-py3-none-any.whl (118 kB)\n",
      "Collecting geographiclib<2,>=1.49\n",
      "  Downloading geographiclib-1.52-py3-none-any.whl (38 kB)\n",
      "Installing collected packages: geographiclib, geopy\n",
      "Successfully installed geographiclib-1.52 geopy-2.2.0\n"
     ]
    }
   ],
   "source": [
    "# !pip install geopy"
   ]
  },
  {
   "cell_type": "code",
   "execution_count": 13,
   "id": "113e59f8",
   "metadata": {},
   "outputs": [],
   "source": [
    "from geopy.geocoders import Nominatim"
   ]
  },
  {
   "cell_type": "code",
   "execution_count": 14,
   "id": "89737b8a",
   "metadata": {},
   "outputs": [],
   "source": [
    "# 도로명주소 위도 경도 값으로 바꿔주기 \n",
    "geo_local = Nominatim(user_agent='South Korea')"
   ]
  },
  {
   "cell_type": "code",
   "execution_count": 15,
   "id": "1da63aa3",
   "metadata": {},
   "outputs": [],
   "source": [
    "# 위도 / 경도 반환하는 함수\n",
    "def geocoding(address):\n",
    "    '''\n",
    "    geocoding함수 안에 주소를 넣어주면 그 주소에 맞는 위도, 경도를\n",
    "    리스트로 만들어 [위도, 경도]로 반환\n",
    "    '''\n",
    "    geo = geo_local.geocode(address)\n",
    "    \n",
    "    geo_loc = (geo.latitude, geo.longitude) if geo else (None, None)\n",
    "    \n",
    "    return geo_loc"
   ]
  },
  {
   "cell_type": "code",
   "execution_count": 16,
   "id": "cb3e944a",
   "metadata": {},
   "outputs": [
    {
     "data": {
      "text/plain": [
       "'인천광역시 중구 우현로49번길 10-5'"
      ]
     },
     "execution_count": 16,
     "metadata": {},
     "output_type": "execute_result"
    }
   ],
   "source": [
    "address = arr_address[0]\n",
    "address"
   ]
  },
  {
   "cell_type": "code",
   "execution_count": 17,
   "id": "b36dd5fc",
   "metadata": {},
   "outputs": [
    {
     "data": {
      "text/plain": [
       "Location(우현로49번길, 신포국제시장, 신포동, 중구, 인천, 22321, 대한민국, (37.4716422, 126.6273599, 0.0))"
      ]
     },
     "execution_count": 17,
     "metadata": {},
     "output_type": "execute_result"
    }
   ],
   "source": [
    "geo = geo_local.geocode(address)\n",
    "geo"
   ]
  },
  {
   "cell_type": "code",
   "execution_count": 18,
   "id": "761d8578",
   "metadata": {},
   "outputs": [
    {
     "data": {
      "text/plain": [
       "geopy.location.Location"
      ]
     },
     "execution_count": 18,
     "metadata": {},
     "output_type": "execute_result"
    }
   ],
   "source": [
    "type(geo)"
   ]
  },
  {
   "cell_type": "code",
   "execution_count": 19,
   "id": "0eab548c",
   "metadata": {},
   "outputs": [
    {
     "data": {
      "text/plain": [
       "['_address',\n",
       " '_point',\n",
       " '_raw',\n",
       " '_tuple',\n",
       " 'address',\n",
       " 'altitude',\n",
       " 'latitude',\n",
       " 'longitude',\n",
       " 'point',\n",
       " 'raw']"
      ]
     },
     "execution_count": 19,
     "metadata": {},
     "output_type": "execute_result"
    }
   ],
   "source": [
    "dir(geo)[-10:]"
   ]
  },
  {
   "cell_type": "code",
   "execution_count": 20,
   "id": "34835535",
   "metadata": {},
   "outputs": [
    {
     "data": {
      "text/plain": [
       "'우현로49번길, 신포국제시장, 신포동, 중구, 인천, 22321, 대한민국'"
      ]
     },
     "execution_count": 20,
     "metadata": {},
     "output_type": "execute_result"
    }
   ],
   "source": [
    "geo.address"
   ]
  },
  {
   "cell_type": "code",
   "execution_count": 21,
   "id": "08fd480a",
   "metadata": {},
   "outputs": [
    {
     "data": {
      "text/plain": [
       "0.0"
      ]
     },
     "execution_count": 21,
     "metadata": {},
     "output_type": "execute_result"
    }
   ],
   "source": [
    "geo.altitude"
   ]
  },
  {
   "cell_type": "code",
   "execution_count": 22,
   "id": "1864ec1a",
   "metadata": {},
   "outputs": [
    {
     "data": {
      "text/plain": [
       "37.4716422"
      ]
     },
     "execution_count": 22,
     "metadata": {},
     "output_type": "execute_result"
    }
   ],
   "source": [
    "geo.latitude"
   ]
  },
  {
   "cell_type": "code",
   "execution_count": 23,
   "id": "6fbf4bbf",
   "metadata": {},
   "outputs": [
    {
     "data": {
      "text/plain": [
       "126.6273599"
      ]
     },
     "execution_count": 23,
     "metadata": {},
     "output_type": "execute_result"
    }
   ],
   "source": [
    "geo.longitude"
   ]
  },
  {
   "cell_type": "code",
   "execution_count": 24,
   "id": "5f55b906",
   "metadata": {},
   "outputs": [
    {
     "data": {
      "text/plain": [
       "Point(37.4716422, 126.6273599, 0.0)"
      ]
     },
     "execution_count": 24,
     "metadata": {},
     "output_type": "execute_result"
    }
   ],
   "source": [
    "geo.point"
   ]
  },
  {
   "cell_type": "code",
   "execution_count": 25,
   "id": "0fd7bdec",
   "metadata": {},
   "outputs": [
    {
     "data": {
      "text/plain": [
       "{'place_id': 206054857,\n",
       " 'licence': 'Data © OpenStreetMap contributors, ODbL 1.0. https://osm.org/copyright',\n",
       " 'osm_type': 'way',\n",
       " 'osm_id': 472437323,\n",
       " 'boundingbox': ['37.4715467', '37.4717037', '126.6264296', '126.6285951'],\n",
       " 'lat': '37.4716422',\n",
       " 'lon': '126.6273599',\n",
       " 'display_name': '우현로49번길, 신포국제시장, 신포동, 중구, 인천, 22321, 대한민국',\n",
       " 'class': 'highway',\n",
       " 'type': 'service',\n",
       " 'importance': 0.295}"
      ]
     },
     "execution_count": 25,
     "metadata": {},
     "output_type": "execute_result"
    }
   ],
   "source": [
    "geo.raw"
   ]
  },
  {
   "cell_type": "code",
   "execution_count": 26,
   "id": "b65f4a84",
   "metadata": {},
   "outputs": [],
   "source": [
    "# from tqdm import tqdm_notebook\n",
    "from tqdm.notebook import tqdm\n",
    "import time"
   ]
  },
  {
   "cell_type": "code",
   "execution_count": 33,
   "id": "f2840a46",
   "metadata": {},
   "outputs": [
    {
     "data": {
      "application/vnd.jupyter.widget-view+json": {
       "model_id": "0a637c4b464e4848b306f606b3150377",
       "version_major": 2,
       "version_minor": 0
      },
      "text/plain": [
       "  0%|          | 0/80 [00:00<?, ?it/s]"
      ]
     },
     "metadata": {},
     "output_type": "display_data"
    }
   ],
   "source": [
    "arr_lat = list()\n",
    "arr_lon = list()\n",
    "\n",
    "for idx in tqdm(df.index):\n",
    "    time.sleep(0.5)\n",
    "    # col_addr = df['소재지지번주소']\n",
    "    col_addr = df['소재지도로명주소']\n",
    "    # tmp = col_addr[idx].split()\n",
    "    # address = \" \".join(tmp[0:4])\n",
    "    address = \" \".join(col_addr[idx].split()[0:4])\n",
    "    \n",
    "    geo_lat, geo_lon =  geocoding(address)\n",
    "    \n",
    "    arr_lat.append(geo_lat)\n",
    "    arr_lon.append(geo_lon)"
   ]
  },
  {
   "cell_type": "code",
   "execution_count": 34,
   "id": "4af60ecb",
   "metadata": {},
   "outputs": [
    {
     "data": {
      "text/plain": [
       "[(37.4716422, 126.6273599),\n",
       " (37.4733945, 126.6231442),\n",
       " (37.4727937, 126.6225932),\n",
       " (37.4709967, 126.6242367),\n",
       " (37.4727937, 126.6225932)]"
      ]
     },
     "execution_count": 34,
     "metadata": {},
     "output_type": "execute_result"
    }
   ],
   "source": [
    "geo_loc = list(zip(arr_lat, arr_lon))\n",
    "geo_loc[:5]"
   ]
  },
  {
   "cell_type": "code",
   "execution_count": 35,
   "id": "8a056ee8",
   "metadata": {},
   "outputs": [],
   "source": [
    "file_name = './data/public_incheon_cafe_2021_with_geo.csv'"
   ]
  },
  {
   "cell_type": "code",
   "execution_count": 36,
   "id": "e8cfaee6",
   "metadata": {},
   "outputs": [
    {
     "data": {
      "text/html": [
       "<div>\n",
       "<style scoped>\n",
       "    .dataframe tbody tr th:only-of-type {\n",
       "        vertical-align: middle;\n",
       "    }\n",
       "\n",
       "    .dataframe tbody tr th {\n",
       "        vertical-align: top;\n",
       "    }\n",
       "\n",
       "    .dataframe thead th {\n",
       "        text-align: right;\n",
       "    }\n",
       "</style>\n",
       "<table border=\"1\" class=\"dataframe\">\n",
       "  <thead>\n",
       "    <tr style=\"text-align: right;\">\n",
       "      <th></th>\n",
       "      <th>카페이름</th>\n",
       "      <th>카페주소</th>\n",
       "      <th>위도</th>\n",
       "      <th>경도</th>\n",
       "    </tr>\n",
       "  </thead>\n",
       "  <tbody>\n",
       "    <tr>\n",
       "      <th>0</th>\n",
       "      <td>Cafe Arancia</td>\n",
       "      <td>인천광역시 중구 우현로49번길 10-5 1층</td>\n",
       "      <td>37.471642</td>\n",
       "      <td>126.627360</td>\n",
       "    </tr>\n",
       "    <tr>\n",
       "      <th>1</th>\n",
       "      <td>디저트카페 아네모오네</td>\n",
       "      <td>인천광역시 중구 신포로35번길 10-1</td>\n",
       "      <td>37.473394</td>\n",
       "      <td>126.623144</td>\n",
       "    </tr>\n",
       "    <tr>\n",
       "      <th>2</th>\n",
       "      <td>관동오리진</td>\n",
       "      <td>인천광역시 중구 신포로27번길 96</td>\n",
       "      <td>37.472794</td>\n",
       "      <td>126.622593</td>\n",
       "    </tr>\n",
       "    <tr>\n",
       "      <th>3</th>\n",
       "      <td>카페맑음</td>\n",
       "      <td>인천광역시 중구 신포로 32-21</td>\n",
       "      <td>37.470997</td>\n",
       "      <td>126.624237</td>\n",
       "    </tr>\n",
       "    <tr>\n",
       "      <th>4</th>\n",
       "      <td>팟알</td>\n",
       "      <td>인천광역시 중구 신포로27번길 96-2</td>\n",
       "      <td>37.472794</td>\n",
       "      <td>126.622593</td>\n",
       "    </tr>\n",
       "  </tbody>\n",
       "</table>\n",
       "</div>"
      ],
      "text/plain": [
       "           카페이름                      카페주소         위도          경도\n",
       "0  Cafe Arancia  인천광역시 중구 우현로49번길 10-5 1층  37.471642  126.627360\n",
       "1   디저트카페 아네모오네     인천광역시 중구 신포로35번길 10-1  37.473394  126.623144\n",
       "2         관동오리진       인천광역시 중구 신포로27번길 96  37.472794  126.622593\n",
       "3          카페맑음        인천광역시 중구 신포로 32-21  37.470997  126.624237\n",
       "4            팟알     인천광역시 중구 신포로27번길 96-2  37.472794  126.622593"
      ]
     },
     "execution_count": 36,
     "metadata": {},
     "output_type": "execute_result"
    }
   ],
   "source": [
    "# data frame 만들기\n",
    "geo_df = pd.DataFrame({\n",
    "    '카페이름' : df['사업장명'],\n",
    "    '카페주소' : df['소재지도로명주소'],\n",
    "    '위도'     : arr_lat,\n",
    "    '경도'     : arr_lon})\n",
    "\n",
    "geo_df.head()"
   ]
  },
  {
   "cell_type": "code",
   "execution_count": 37,
   "id": "b292f149",
   "metadata": {},
   "outputs": [],
   "source": [
    "# df 저장\n",
    "geo_df.to_csv(file_name)"
   ]
  },
  {
   "cell_type": "code",
   "execution_count": 38,
   "id": "fd6a687f",
   "metadata": {},
   "outputs": [
    {
     "data": {
      "text/html": [
       "<div>\n",
       "<style scoped>\n",
       "    .dataframe tbody tr th:only-of-type {\n",
       "        vertical-align: middle;\n",
       "    }\n",
       "\n",
       "    .dataframe tbody tr th {\n",
       "        vertical-align: top;\n",
       "    }\n",
       "\n",
       "    .dataframe thead th {\n",
       "        text-align: right;\n",
       "    }\n",
       "</style>\n",
       "<table border=\"1\" class=\"dataframe\">\n",
       "  <thead>\n",
       "    <tr style=\"text-align: right;\">\n",
       "      <th></th>\n",
       "      <th>Unnamed: 0</th>\n",
       "      <th>카페이름</th>\n",
       "      <th>카페주소</th>\n",
       "      <th>위도</th>\n",
       "      <th>경도</th>\n",
       "    </tr>\n",
       "  </thead>\n",
       "  <tbody>\n",
       "    <tr>\n",
       "      <th>0</th>\n",
       "      <td>0</td>\n",
       "      <td>Cafe Arancia</td>\n",
       "      <td>인천광역시 중구 우현로49번길 10-5 1층</td>\n",
       "      <td>37.471642</td>\n",
       "      <td>126.627360</td>\n",
       "    </tr>\n",
       "    <tr>\n",
       "      <th>1</th>\n",
       "      <td>1</td>\n",
       "      <td>디저트카페 아네모오네</td>\n",
       "      <td>인천광역시 중구 신포로35번길 10-1</td>\n",
       "      <td>37.473394</td>\n",
       "      <td>126.623144</td>\n",
       "    </tr>\n",
       "    <tr>\n",
       "      <th>2</th>\n",
       "      <td>2</td>\n",
       "      <td>관동오리진</td>\n",
       "      <td>인천광역시 중구 신포로27번길 96</td>\n",
       "      <td>37.472794</td>\n",
       "      <td>126.622593</td>\n",
       "    </tr>\n",
       "    <tr>\n",
       "      <th>3</th>\n",
       "      <td>3</td>\n",
       "      <td>카페맑음</td>\n",
       "      <td>인천광역시 중구 신포로 32-21</td>\n",
       "      <td>37.470997</td>\n",
       "      <td>126.624237</td>\n",
       "    </tr>\n",
       "    <tr>\n",
       "      <th>4</th>\n",
       "      <td>4</td>\n",
       "      <td>팟알</td>\n",
       "      <td>인천광역시 중구 신포로27번길 96-2</td>\n",
       "      <td>37.472794</td>\n",
       "      <td>126.622593</td>\n",
       "    </tr>\n",
       "  </tbody>\n",
       "</table>\n",
       "</div>"
      ],
      "text/plain": [
       "   Unnamed: 0          카페이름                      카페주소         위도          경도\n",
       "0           0  Cafe Arancia  인천광역시 중구 우현로49번길 10-5 1층  37.471642  126.627360\n",
       "1           1   디저트카페 아네모오네     인천광역시 중구 신포로35번길 10-1  37.473394  126.623144\n",
       "2           2         관동오리진       인천광역시 중구 신포로27번길 96  37.472794  126.622593\n",
       "3           3          카페맑음        인천광역시 중구 신포로 32-21  37.470997  126.624237\n",
       "4           4            팟알     인천광역시 중구 신포로27번길 96-2  37.472794  126.622593"
      ]
     },
     "execution_count": 38,
     "metadata": {},
     "output_type": "execute_result"
    }
   ],
   "source": [
    "chk_geo_df = pd.read_csv(file_name)\n",
    "chk_geo_df.head()"
   ]
  },
  {
   "cell_type": "code",
   "execution_count": 39,
   "id": "fc38f4e0",
   "metadata": {},
   "outputs": [
    {
     "data": {
      "text/plain": [
       "Index(['Unnamed: 0', '카페이름', '카페주소', '위도', '경도'], dtype='object')"
      ]
     },
     "execution_count": 39,
     "metadata": {},
     "output_type": "execute_result"
    }
   ],
   "source": [
    "chk_geo_df.columns"
   ]
  },
  {
   "cell_type": "code",
   "execution_count": 40,
   "id": "153189f5",
   "metadata": {},
   "outputs": [],
   "source": [
    "del chk_geo_df[chk_geo_df.columns[0]]"
   ]
  },
  {
   "cell_type": "code",
   "execution_count": 41,
   "id": "e2c0569b",
   "metadata": {},
   "outputs": [
    {
     "data": {
      "text/html": [
       "<div>\n",
       "<style scoped>\n",
       "    .dataframe tbody tr th:only-of-type {\n",
       "        vertical-align: middle;\n",
       "    }\n",
       "\n",
       "    .dataframe tbody tr th {\n",
       "        vertical-align: top;\n",
       "    }\n",
       "\n",
       "    .dataframe thead th {\n",
       "        text-align: right;\n",
       "    }\n",
       "</style>\n",
       "<table border=\"1\" class=\"dataframe\">\n",
       "  <thead>\n",
       "    <tr style=\"text-align: right;\">\n",
       "      <th></th>\n",
       "      <th>카페이름</th>\n",
       "      <th>카페주소</th>\n",
       "      <th>위도</th>\n",
       "      <th>경도</th>\n",
       "    </tr>\n",
       "  </thead>\n",
       "  <tbody>\n",
       "    <tr>\n",
       "      <th>75</th>\n",
       "      <td>낭만카페</td>\n",
       "      <td>인천광역시 중구 우현로39번길 12</td>\n",
       "      <td>37.470894</td>\n",
       "      <td>126.625950</td>\n",
       "    </tr>\n",
       "    <tr>\n",
       "      <th>76</th>\n",
       "      <td>또바기커피</td>\n",
       "      <td>인천광역시 중구 우현로45번길 25</td>\n",
       "      <td>37.471257</td>\n",
       "      <td>126.627222</td>\n",
       "    </tr>\n",
       "    <tr>\n",
       "      <th>77</th>\n",
       "      <td>카페와비사비</td>\n",
       "      <td>인천광역시 중구 신포로31번길 51-1</td>\n",
       "      <td>37.472425</td>\n",
       "      <td>126.624138</td>\n",
       "    </tr>\n",
       "    <tr>\n",
       "      <th>78</th>\n",
       "      <td>카페파구스</td>\n",
       "      <td>인천광역시 중구 개항로53번길 21</td>\n",
       "      <td>37.472645</td>\n",
       "      <td>126.628267</td>\n",
       "    </tr>\n",
       "    <tr>\n",
       "      <th>79</th>\n",
       "      <td>이삭커피숍</td>\n",
       "      <td>인천광역시 중구 우현로 12</td>\n",
       "      <td>37.472768</td>\n",
       "      <td>126.630054</td>\n",
       "    </tr>\n",
       "  </tbody>\n",
       "</table>\n",
       "</div>"
      ],
      "text/plain": [
       "      카페이름                   카페주소         위도          경도\n",
       "75    낭만카페    인천광역시 중구 우현로39번길 12  37.470894  126.625950\n",
       "76   또바기커피    인천광역시 중구 우현로45번길 25  37.471257  126.627222\n",
       "77  카페와비사비  인천광역시 중구 신포로31번길 51-1  37.472425  126.624138\n",
       "78   카페파구스    인천광역시 중구 개항로53번길 21  37.472645  126.628267\n",
       "79   이삭커피숍        인천광역시 중구 우현로 12  37.472768  126.630054"
      ]
     },
     "execution_count": 41,
     "metadata": {},
     "output_type": "execute_result"
    }
   ],
   "source": [
    "chk_geo_df.tail()"
   ]
  },
  {
   "cell_type": "code",
   "execution_count": null,
   "id": "cfa38e40",
   "metadata": {},
   "outputs": [],
   "source": []
  }
 ],
 "metadata": {
  "kernelspec": {
   "display_name": "Python 3 (ipykernel)",
   "language": "python",
   "name": "python3"
  },
  "language_info": {
   "codemirror_mode": {
    "name": "ipython",
    "version": 3
   },
   "file_extension": ".py",
   "mimetype": "text/x-python",
   "name": "python",
   "nbconvert_exporter": "python",
   "pygments_lexer": "ipython3",
   "version": "3.9.12"
  }
 },
 "nbformat": 4,
 "nbformat_minor": 5
}
