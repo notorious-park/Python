{
 "cells": [
  {
   "cell_type": "markdown",
   "id": "e4c5a5fd",
   "metadata": {},
   "source": [
    "# 웹 크롤링\n",
    "## 웹 페이지에서 필요한 정보 파싱\n",
    "- The 50 Best Sandwiches in Chicago\n",
    "- 메인페이지의 TOP50 리스트정보 가져오기\n",
    "- 각각에 연결된 상세정보 가져오기\n",
    "> 데이터크롤링 미션\n",
    "- 과제1 : 메인페이지 정보 크롤링 - 랭킹, 카페명, 메뉴명, 상세페이지링커\n",
    "- 과제2 : 상세페이지 정보 크롤링 - 가격, 주소, 전화번호, 홈페이지정보\n",
    "- 과제3 : 과제1, 과제2 정보를 모두 포함하여 파일로 저장하기"
   ]
  },
  {
   "cell_type": "markdown",
   "id": "a2d04066",
   "metadata": {},
   "source": [
    "### Beautiful Soup : 웹페이지를 읽어오는 가장 보편적인 패키지"
   ]
  },
  {
   "cell_type": "code",
   "execution_count": 5,
   "id": "025dfc9d",
   "metadata": {},
   "outputs": [],
   "source": [
    "from bs4 import BeautifulSoup \n",
    "from urllib.request import Request, urlopen"
   ]
  },
  {
   "cell_type": "code",
   "execution_count": 6,
   "id": "9ba600f5",
   "metadata": {},
   "outputs": [],
   "source": [
    "# 구글에서 '50 Best Sandwiches' 검색\n",
    "url = 'https://www.chicagomag.com/Chicago-Magazine/November-2012/Best-Sandwiches-Chicago/'\n",
    "# html = urlopen(url)\n",
    "# soup = BeautifulSoup(html, \"lxml\")"
   ]
  },
  {
   "cell_type": "code",
   "execution_count": 7,
   "id": "4e52edc0",
   "metadata": {},
   "outputs": [],
   "source": [
    "req = Request(url, headers={'User-Agent': 'Mozilla/5.0'})\n",
    "html = urlopen(req).read()\n",
    "soup = BeautifulSoup(html, \"lxml\")"
   ]
  },
  {
   "cell_type": "code",
   "execution_count": 8,
   "id": "26449504",
   "metadata": {},
   "outputs": [
    {
     "data": {
      "text/plain": [
       "bytes"
      ]
     },
     "execution_count": 8,
     "metadata": {},
     "output_type": "execute_result"
    }
   ],
   "source": [
    "type(html)"
   ]
  },
  {
   "cell_type": "code",
   "execution_count": 9,
   "id": "80dea7b0",
   "metadata": {},
   "outputs": [
    {
     "data": {
      "text/plain": [
       "bs4.BeautifulSoup"
      ]
     },
     "execution_count": 9,
     "metadata": {},
     "output_type": "execute_result"
    }
   ],
   "source": [
    "type(soup)"
   ]
  },
  {
   "cell_type": "code",
   "execution_count": 10,
   "id": "7b39516f",
   "metadata": {},
   "outputs": [
    {
     "data": {
      "text/plain": [
       "<title>The 50 Best Sandwiches in Chicago – Chicago Magazine</title>"
      ]
     },
     "execution_count": 10,
     "metadata": {},
     "output_type": "execute_result"
    }
   ],
   "source": [
    "soup.title"
   ]
  },
  {
   "cell_type": "code",
   "execution_count": 11,
   "id": "0c8bb8bf",
   "metadata": {},
   "outputs": [
    {
     "name": "stdout",
     "output_type": "stream",
     "text": [
      "<!DOCTYPE html>\n",
      "<html lang=\"en-US\">\n",
      "<head>\n",
      "<meta charset=\"utf-8\"/>\n",
      "<meta content=\"IE=edge\" http-equiv=\"X-UA-Compatible\"/>\n",
      "<link href=\"https://gmpg.org/xfn/11\" rel=\"profile\"/>\n",
      "<title>The 50 Best Sandwiches in Chicago – Chicago Magazine</title>\n",
      "<style type=\"text/css\">\r\n",
      "\t\t\t\t\t.heateor_sss_button_instagram span.heateor_sss_svg,a.heateor_sss_instagram span.heateor_sss_svg{background:radial-gradient(circle at 30% 107%,#fdf497 0,#fdf497 5%,#fd5949 45%,#d6249f 60%,#285aeb 90%)}\r\n",
      "\t\t\t\t\t\tdiv.heateor_sss_horizontal_sharing a.heateor_sss_button_instagram span{background:#000!important;}div.heateor_sss_standard_follow_icons_container a.heateor_sss_button_instagram span{background:#000;}\r\n",
      "\t\t\t\t\t\t\t\t\t\t.heateor_sss_horizontal_sharing .heateor_sss_svg,.heateor_sss_standard_follow_icons_container .heateor_sss_svg{\r\n",
      "\t\t\t\t\t\t\tbackground-color: #000!important;\r\n",
      "\t\t\t\tbackground: #000!important;\r\n",
      "\t\t\t\t\t\t\tcolor: #fff;\r\n",
      "\t\t\t\t\t\tborder-width: 0px;\r\n",
      "\t\t\tborder-style: solid;\r\n",
      "\t\t\tborder-color: transparent;\r\n",
      "\t\t}\r\n",
      "\t\t\t\t\t.heateo\n"
     ]
    }
   ],
   "source": [
    "print(str(soup)[:1000])"
   ]
  },
  {
   "cell_type": "code",
   "execution_count": 12,
   "id": "35de9061",
   "metadata": {},
   "outputs": [
    {
     "data": {
      "text/plain": [
       "<title>The 50 Best Sandwiches in Chicago – Chicago Magazine</title>"
      ]
     },
     "execution_count": 12,
     "metadata": {},
     "output_type": "execute_result"
    }
   ],
   "source": [
    "html_title = soup.title\n",
    "html_title"
   ]
  },
  {
   "cell_type": "code",
   "execution_count": 13,
   "id": "e8ec5c1c",
   "metadata": {},
   "outputs": [
    {
     "data": {
      "text/plain": [
       "'title'"
      ]
     },
     "execution_count": 13,
     "metadata": {},
     "output_type": "execute_result"
    }
   ],
   "source": [
    "tag_name = soup.title.name\n",
    "tag_name"
   ]
  },
  {
   "cell_type": "code",
   "execution_count": 14,
   "id": "3db31d36",
   "metadata": {},
   "outputs": [
    {
     "data": {
      "text/plain": [
       "'head'"
      ]
     },
     "execution_count": 14,
     "metadata": {},
     "output_type": "execute_result"
    }
   ],
   "source": [
    "p_tag_name = soup.title.parent.name\n",
    "p_tag_name"
   ]
  },
  {
   "cell_type": "code",
   "execution_count": 15,
   "id": "a9faca61",
   "metadata": {},
   "outputs": [
    {
     "data": {
      "text/plain": [
       "'The 50 Best Sandwiches in Chicago – Chicago Magazine'"
      ]
     },
     "execution_count": 15,
     "metadata": {},
     "output_type": "execute_result"
    }
   ],
   "source": [
    "tag_text = soup.title.string\n",
    "tag_text"
   ]
  },
  {
   "cell_type": "code",
   "execution_count": 16,
   "id": "f9df7dcc",
   "metadata": {},
   "outputs": [
    {
     "data": {
      "text/plain": [
       "'The 50 Best Sandwiches in Chicago – Chicago Magazine'"
      ]
     },
     "execution_count": 16,
     "metadata": {},
     "output_type": "execute_result"
    }
   ],
   "source": [
    "soup.title.getText()"
   ]
  },
  {
   "cell_type": "code",
   "execution_count": 17,
   "id": "292b5296",
   "metadata": {},
   "outputs": [
    {
     "data": {
      "text/plain": [
       "'The 50 Best Sandwiches in Chicago – Chicago Magazine'"
      ]
     },
     "execution_count": 17,
     "metadata": {},
     "output_type": "execute_result"
    }
   ],
   "source": [
    "soup.title.get_text()"
   ]
  },
  {
   "cell_type": "code",
   "execution_count": 18,
   "id": "8df8332c",
   "metadata": {},
   "outputs": [
    {
     "name": "stdout",
     "output_type": "stream",
     "text": [
      "The 50 Best Sandwiches in Chicago – Chicago Magazine\n"
     ]
    }
   ],
   "source": [
    "print(tag_text)"
   ]
  },
  {
   "cell_type": "code",
   "execution_count": 19,
   "id": "6f7abe6d",
   "metadata": {},
   "outputs": [
    {
     "data": {
      "text/plain": [
       "<div class=\"grid-toggle-wrap\"><a class=\"grid-toggle\">.</a></div>"
      ]
     },
     "execution_count": 19,
     "metadata": {},
     "output_type": "execute_result"
    }
   ],
   "source": [
    "soup.div"
   ]
  },
  {
   "cell_type": "code",
   "execution_count": 20,
   "id": "dbac5c2d",
   "metadata": {},
   "outputs": [],
   "source": [
    "div_tags = soup.find_all('div')"
   ]
  },
  {
   "cell_type": "code",
   "execution_count": 21,
   "id": "5368f277",
   "metadata": {},
   "outputs": [
    {
     "data": {
      "text/plain": [
       "258"
      ]
     },
     "execution_count": 21,
     "metadata": {},
     "output_type": "execute_result"
    }
   ],
   "source": [
    "len(div_tags)"
   ]
  },
  {
   "cell_type": "code",
   "execution_count": 22,
   "id": "8060d218",
   "metadata": {},
   "outputs": [
    {
     "data": {
      "text/plain": [
       "<div class=\"grid-toggle-wrap\"><a class=\"grid-toggle\">.</a></div>"
      ]
     },
     "execution_count": 22,
     "metadata": {},
     "output_type": "execute_result"
    }
   ],
   "source": [
    "div_tags[0]"
   ]
  },
  {
   "cell_type": "code",
   "execution_count": 23,
   "id": "b73d44a3",
   "metadata": {},
   "outputs": [
    {
     "data": {
      "text/plain": [
       "bs4.element.ResultSet"
      ]
     },
     "execution_count": 23,
     "metadata": {},
     "output_type": "execute_result"
    }
   ],
   "source": [
    "type(div_tags)"
   ]
  },
  {
   "cell_type": "code",
   "execution_count": null,
   "id": "0f14bd6b",
   "metadata": {},
   "outputs": [],
   "source": []
  },
  {
   "cell_type": "markdown",
   "id": "201292fa",
   "metadata": {},
   "source": [
    "### 수집하고자 하는 데이터를 class명을 이용해서 구체적으로 찾아보기"
   ]
  },
  {
   "cell_type": "code",
   "execution_count": 24,
   "id": "f9c30842",
   "metadata": {},
   "outputs": [
    {
     "name": "stdout",
     "output_type": "stream",
     "text": [
      "[<div class=\"sammy\" style=\"position: relative;\">\n",
      "<div class=\"sammyRank\">1</div>\n",
      "<div class=\"sammyListing\"><a href=\"/Chicago-Magazine/November-2012/Best-Sandwiches-in-Chicago-Old-Oak-Tap-BLT/\"><b>BLT</b><br/>\n",
      "Old Oak Tap<br/>\n",
      "<em>Read more</em> </a></div>\n",
      "</div>, <div class=\"sammy\" style=\"position: relative;\">\n",
      "<div class=\"sammyRank\">2</div>\n",
      "<div class=\"sammyListing\"><a href=\"/Chicago-Magazine/November-2012/Best-Sandwiches-in-Chicago-Au-Cheval-Fried-Bologna/\"><b>Fried Bologna</b><br/>\n",
      "Au Cheval<br/>\n",
      "<em>Read more</em> </a></div>\n",
      "</div>, <div class=\"sammy\" style=\"position: relative;\">\n",
      "<div class=\"sammyRank\">3</div>\n",
      "<div class=\"sammyListing\"><a href=\"/Chicago-Magazine/November-2012/Best-Sandwiches-in-Chicago-Xoco-Woodland-Mushroom/\"><b>Woodland Mushroom</b><br/>\n",
      "Xoco<br/>\n",
      "<em>Read more</em> </a></div>\n",
      "</div>, <div class=\"sammy\" style=\"position: relative;\">\n",
      "<div class=\"sammyRank\">4</div>\n",
      "<div class=\"sammyListing\"><a href=\"/Chicago-Magazine/November-2012/Best-Sandwiches-in-Chicago-Als-Deli-Roast-Beef/\"><b>Roast Beef</b><br/>\n",
      "Al’s Deli<br/>\n",
      "<em>Read more</em> </a></div>\n",
      "</div>, <div class=\"sammy\" style=\"position: relative;\">\n",
      "<div class=\"sammyRank\">5</div>\n",
      "<div class=\"sammyListing\"><a href=\"/Chicago-Magazine/November-2012/Best-Sandwiches-in-Chicago-Publican-Quality-Meats-PB-L/\"><b>PB&amp;L</b><br/>\n",
      "Publican Quality Meats<br/>\n",
      "<em>Read more</em> </a></div>\n",
      "</div>, <div class=\"sammy\" style=\"position: relative;\">\n",
      "<div class=\"sammyRank\">6</div>\n",
      "<div class=\"sammyListing\"><a href=\"https://www.chicagomag.com/Chicago-Magazine/November-2012/Best-Sandwiches-in-Chicago-Hendrickx-Belgian-Bread-Crafter-Belgian-Chicken-Curry-Salad/\"><b>Belgian Chicken Curry Salad</b><br/>\n",
      "Hendrickx Belgian Bread Crafter<br/>\n",
      "<em>Read more</em> </a></div>\n",
      "</div>, <div class=\"sammy\" style=\"position: relative;\">\n",
      "<div class=\"sammyRank\">7</div>\n",
      "<div class=\"sammyListing\"><a href=\"/Chicago-Magazine/November-2012/Best-Sandwiches-in-Chicago-Acadia-Lobster-Roll/\"><b>Lobster Roll</b><br/>\n",
      "Acadia<br/>\n",
      "<em>Read more</em> </a></div>\n",
      "</div>, <div class=\"sammy\" style=\"position: relative;\">\n",
      "<div class=\"sammyRank\">8</div>\n",
      "<div class=\"sammyListing\"><a href=\"/Chicago-Magazine/November-2012/Best-Sandwiches-in-Chicago-Birchwood-Kitchen-Smoked-Salmon-Salad/\"><b>Smoked Salmon Salad</b><br/>\n",
      "Birchwood Kitchen<br/>\n",
      "<em>Read more</em> </a></div>\n",
      "</div>, <div class=\"sammy\" style=\"position: relative;\">\n",
      "<div class=\"sammyRank\">9</div>\n",
      "<div class=\"sammyListing\"><a href=\"/Chicago-Magazine/November-2012/Best-Sandwiches-in-Chicago-Cemitas-Puebla-Atomica-Cemitas/\"><b>Atomica Cemitas</b><br/>\n",
      "Cemitas Puebla<br/>\n",
      "<em>Read more</em> </a></div>\n",
      "</div>, <div class=\"sammy\" style=\"position: relative;\">\n",
      "<div class=\"sammyRank\">10</div>\n",
      "<div class=\"sammyListing\"><a href=\"/Chicago-Magazine/November-2012/Best-Sandwiches-in-Chicago-Nana-Grilled-Laughing-Bird-Shrimp-and-Fried-Oyster-Po-Boy/\"><b>Grilled Laughing Bird Shrimp and Fried Po’ Boy</b><br/>\n",
      "Nana<br/>\n",
      "<em>Read more</em> </a></div>\n",
      "</div>, <div class=\"sammy\" style=\"position: relative;\">\n",
      "<div class=\"sammyRank\">11</div>\n",
      "<div class=\"sammyListing\"><a href=\"https://www.chicagomag.com/Chicago-Magazine/November-2012/Best-Sandwiches-in-Chicago-Lula-Cafe-Ham-and-Raclette-Panino/\"><b>Ham and Raclette Panino</b><br/>\n",
      "Lula Cafe<br/>\n",
      "<em>Read more</em> </a></div>\n",
      "</div>, <div class=\"sammy\" style=\"position: relative;\">\n",
      "<div class=\"sammyRank\">12</div>\n",
      "<div class=\"sammyListing\"><a href=\"https://www.chicagomag.com/Chicago-Magazine/November-2012/Best-Sandwiches-in-Chicago-Ricobenes-Breaded-Steak/\"><b>Breaded Steak</b><br/>\n",
      "Ricobene’s<br/>\n",
      "<em>Read more</em> </a></div>\n",
      "</div>, <div class=\"sammy\" style=\"position: relative;\">\n",
      "<div class=\"sammyRank\">13</div>\n",
      "<div class=\"sammyListing\"><a href=\"https://www.chicagomag.com/Chicago-Magazine/November-2012/Best-Sandwiches-in-Chicago-Frog-n-Snail-The-Hawkeye/\"><b>The Hawkeye</b><br/>\n",
      "Frog n Snail<br/>\n",
      "<em>Read more</em> </a></div>\n",
      "</div>, <div class=\"sammy\" style=\"position: relative;\">\n",
      "<div class=\"sammyRank\">14</div>\n",
      "<div class=\"sammyListing\"><a href=\"https://www.chicagomag.com/Chicago-Magazine/November-2012/Best-Sandwiches-in-Chicago-Crosbys-Kitchen-Chicken-Dip/\"><b>Chicken Dip</b><br/>\n",
      "Crosby’s Kitchen<br/>\n",
      "<em>Read more</em> </a></div>\n",
      "</div>, <div class=\"sammy\" style=\"position: relative;\">\n",
      "<div class=\"sammyRank\">15</div>\n",
      "<div class=\"sammyListing\"><a href=\"https://www.chicagomag.com/Chicago-Magazine/November-2012/Best-Sandwiches-in-Chicago-Longman-and-Eagle-Wild-Boar-Sloppy-Joe/\"><b>Wild Boar Sloppy Joe</b><br/>\n",
      "Longman &amp; Eagle<br/>\n",
      "<em>Read more</em> </a></div>\n",
      "</div>, <div class=\"sammy\" style=\"position: relative;\">\n",
      "<div class=\"sammyRank\">16</div>\n",
      "<div class=\"sammyListing\"><a href=\"https://www.chicagomag.com/Chicago-Magazine/November-2012/Best-Sandwiches-in-Chicago-Bari-Meatball-Sub/\"><b>Meatball Sub</b><br/>\n",
      "Bari<br/>\n",
      "<em>Read more</em> </a></div>\n",
      "</div>, <div class=\"sammy\" style=\"position: relative;\">\n",
      "<div class=\"sammyRank\">17</div>\n",
      "<div class=\"sammyListing\"><a href=\"https://www.chicagomag.com/Chicago-Magazine/November-2012/Best-Sandwiches-in-Chicago-Mannys-Corned-Beef/\"><b>Corned Beef</b><br/>\n",
      "Manny’s<br/>\n",
      "<em>Read more</em> </a></div>\n",
      "</div>, <div class=\"sammy\" style=\"position: relative;\">\n",
      "<div class=\"sammyRank\">18</div>\n",
      "<div class=\"sammyListing\"><a href=\"https://www.chicagomag.com/Chicago-Magazine/November-2012/Best-Sandwiches-in-Chicago-Eggys-Turkey-Club/\"><b>Turkey Club</b><br/>\n",
      "Eggy’s<br/>\n",
      "<em>Read more</em> </a></div>\n",
      "</div>, <div class=\"sammy\" style=\"position: relative;\">\n",
      "<div class=\"sammyRank\">19</div>\n",
      "<div class=\"sammyListing\"><a href=\"https://www.chicagomag.com/Chicago-Magazine/November-2012/Best-Sandwiches-in-Chicago-Old-Jerusalem-Falafel/\"><b>Falafel</b><br/>\n",
      "Old Jerusalem<br/>\n",
      "<em>Read more</em> </a></div>\n",
      "</div>, <div class=\"sammy\" style=\"position: relative;\">\n",
      "<div class=\"sammyRank\">20</div>\n",
      "<div class=\"sammyListing\"><a href=\"https://www.chicagomag.com/Chicago-Magazine/November-2012/Best-Sandwiches-in-Chicago-Mindys-HotChocolate-Crab-Cake/\"><b>Crab Cake</b><br/>\n",
      "Mindy’s HotChocolate<br/>\n",
      "<em>Read more</em> </a></div>\n",
      "</div>, <div class=\"sammy\" style=\"position: relative;\">\n",
      "<div class=\"sammyRank\">21</div>\n",
      "<div class=\"sammyListing\"><a href=\"https://www.chicagomag.com/Chicago-Magazine/November-2012/Best-Sandwiches-in-Chicago-Olgas-Delicatessen-Chicken-Schnitzel/\"><b>Chicken Schnitzel</b><br/>\n",
      "Olga’s Delicatessen<br/>\n",
      "<em>Read more</em> </a></div>\n",
      "</div>, <div class=\"sammy\" style=\"position: relative;\">\n",
      "<div class=\"sammyRank\">22</div>\n",
      "<div class=\"sammyListing\"><a href=\"https://www.chicagomag.com/Chicago-Magazine/November-2012/Best-Sandwiches-in-Chicago-Dawali-Mediterranean-Kitchen-Shawarma/\"><b>Shawarma</b><br/>\n",
      "Dawali Mediterranean Kitchen<br/>\n",
      "<em>Read more</em> </a></div>\n",
      "</div>, <div class=\"sammy\" style=\"position: relative;\">\n",
      "<div class=\"sammyRank\">23</div>\n",
      "<div class=\"sammyListing\"><a href=\"https://www.chicagomag.com/Chicago-Magazine/November-2012/Best-Sandwiches-in-Chicago-Big-Jones-Toasted-Pimiento-Cheese/\"><b>Toasted Pimiento Cheese</b><br/>\n",
      "Big Jones<br/>\n",
      "<em>Read more</em> </a></div>\n",
      "</div>, <div class=\"sammy\" style=\"position: relative;\">\n",
      "<div class=\"sammyRank\">24</div>\n",
      "<div class=\"sammyListing\"><a href=\"https://www.chicagomag.com/Chicago-Magazine/November-2012/Best-Sandwiches-in-Chicago-La-Pane-Vegetarian-Panino/\"><b>Vegetarian Panino</b><br/>\n",
      "La Pane<br/>\n",
      "<em>Read more</em> </a></div>\n",
      "</div>, <div class=\"sammy\" style=\"position: relative;\">\n",
      "<div class=\"sammyRank\">25</div>\n",
      "<div class=\"sammyListing\"><a href=\"/Chicago-Magazine/November-2012/Best-Sandwiches-in-Chicago-Pastoral-Cali-Chevre/\"><b>Cali Chèvre</b><br/>\n",
      "Pastoral<br/>\n",
      "<em>Read more</em> </a></div>\n",
      "</div>, <div class=\"sammy\" style=\"position: relative;\">\n",
      "<div class=\"sammyRank\">26</div>\n",
      "<div class=\"sammyListing\"><a href=\"https://www.chicagomag.com/Chicago-Magazine/November-2012/Best-Sandwiches-in-Chicago-Maxs-Deli-Pastrami/\"><b>Pastrami</b><br/>\n",
      "Max’s Deli<br/>\n",
      "<em>Read more</em> </a></div>\n",
      "</div>, <div class=\"sammy\" style=\"position: relative;\">\n",
      "<div class=\"sammyRank\">27</div>\n",
      "<div class=\"sammyListing\"><a href=\"https://www.chicagomag.com/Chicago-Magazine/November-2012/Best-Sandwiches-in-Chicago-Luckys-Sandwich-Co-The-Fredo/\"><b>The Fredo</b><br/>\n",
      "Lucky’s Sandwich Co.<br/>\n",
      "<em>Read more</em> </a></div>\n",
      "</div>, <div class=\"sammy\" style=\"position: relative;\">\n",
      "<div class=\"sammyRank\">28</div>\n",
      "<div class=\"sammyListing\"><a href=\"https://www.chicagomag.com/Chicago-Magazine/November-2012/Best-Sandwiches-in-Chicago-City-Provisions-Smoked-Ham/\"><b>Smoked Ham</b><br/>\n",
      "City Provisions<br/>\n",
      "<em>Read more</em> </a></div>\n",
      "</div>, <div class=\"sammy\" style=\"position: relative;\">\n",
      "<div class=\"sammyRank\">29</div>\n",
      "<div class=\"sammyListing\"><a href=\"https://www.chicagomag.com/Chicago-Magazine/November-2012/Best-Sandwiches-in-Chicago-Papas-Cache-Sabroso-Jibarito/\"><b>Jibarito</b><br/>\n",
      "Papa’s Cache Sabroso<br/>\n",
      "<em>Read more</em> </a></div>\n",
      "</div>, <div class=\"sammy\" style=\"position: relative;\">\n",
      "<div class=\"sammyRank\">30</div>\n",
      "<div class=\"sammyListing\"><a href=\"https://www.chicagomag.com/Chicago-Magazine/November-2012/Best-Sandwiches-in-Chicago-Bavettes-Bar-and-Boeuf-Shaved-Prime-Rib/\"><b>Shaved Prime Rib</b><br/>\n",
      "Bavette’s Bar &amp; Boeuf<br/>\n",
      "<em>Read more</em> </a></div>\n",
      "</div>, <div class=\"sammy\" style=\"position: relative;\">\n",
      "<div class=\"sammyRank\">31</div>\n",
      "<div class=\"sammyListing\"><a href=\"https://www.chicagomag.com/Chicago-Magazine/November-2012/Best-Sandwiches-in-Chicago-Hannahs-Bretzel-Serrano-Ham-and-Manchego-Cheese/\"><b>Serrano Ham and Manchego Cheese</b><br/>\n",
      "Hannah’s Bretzel<br/>\n",
      "<em>Read more</em> </a></div>\n",
      "</div>, <div class=\"sammy\" style=\"position: relative;\">\n",
      "<div class=\"sammyRank\">32</div>\n",
      "<div class=\"sammyListing\"><a href=\"https://www.chicagomag.com/Chicago-Magazine/November-2012/Best-Sandwiches-in-Chicago-La-Fournette-Tuna-Salad/\"><b>Tuna Salad</b><br/>\n",
      "La Fournette<br/>\n",
      "<em>Read more</em> </a></div>\n",
      "</div>, <div class=\"sammy\" style=\"position: relative;\">\n",
      "<div class=\"sammyRank\">33</div>\n",
      "<div class=\"sammyListing\"><a href=\"https://www.chicagomag.com/Chicago-Magazine/November-2012/Best-Sandwiches-in-Chicago-Paramount-Room-Paramount-Reuben/\"><b>Paramount Reuben</b><br/>\n",
      "Paramount Room<br/>\n",
      "<em>Read more</em> </a></div>\n",
      "</div>, <div class=\"sammy\" style=\"position: relative;\">\n",
      "<div class=\"sammyRank\">34</div>\n",
      "<div class=\"sammyListing\"><a href=\"https://www.chicagomag.com/Chicago-Magazine/November-2012/Best-Sandwiches-in-Chicago-Melt-Sandwich-Shoppe-The-Istanbul/\"><b>The Istanbul</b><br/>\n",
      "Melt Sandwich Shoppe<br/>\n",
      "<em>Read more</em> </a></div>\n",
      "</div>, <div class=\"sammy\" style=\"position: relative;\">\n",
      "<div class=\"sammyRank\">35</div>\n",
      "<div class=\"sammyListing\"><a href=\"https://www.chicagomag.com/Chicago-Magazine/November-2012/Best-Sandwiches-in-Chicago-Floriole-Cafe-and-Bakery-BAD/\"><b>B.A.D.</b><br/>\n",
      "Floriole Cafe &amp; Bakery<br/>\n",
      "<em>Read more</em> </a></div>\n",
      "</div>, <div class=\"sammy\" style=\"position: relative;\">\n",
      "<div class=\"sammyRank\">36</div>\n",
      "<div class=\"sammyListing\"><a href=\"https://www.chicagomag.com/Chicago-Magazine/November-2012/Best-Sandwiches-in-Chicago-First-Slice-Pie-Cafe-Duck-Confit-and-Mozzarella/\"><b>Duck Confit and Mozzarella</b><br/>\n",
      "First Slice Pie Café<br/>\n",
      "<em>Read more</em> </a></div>\n",
      "</div>, <div class=\"sammy\" style=\"position: relative;\">\n",
      "<div class=\"sammyRank\">37</div>\n",
      "<div class=\"sammyListing\"><a href=\"https://www.chicagomag.com/Chicago-Magazine/November-2012/Best-Sandwiches-in-Chicago-Troquet-Croque-Monsieur/\"><b>Croque Monsieur</b><br/>\n",
      "Troquet<br/>\n",
      "<em>Read more</em> </a></div>\n",
      "</div>, <div class=\"sammy\" style=\"position: relative;\">\n",
      "<div class=\"sammyRank\">38</div>\n",
      "<div class=\"sammyListing\"><a href=\"https://www.chicagomag.com/Chicago-Magazine/November-2012/Best-Sandwiches-in-Chicago-Grahamwich-Green-Garbanzo/\"><b>Green Garbanzo</b><br/>\n",
      "Grahamwich<br/>\n",
      "<em>Read more</em> </a></div>\n",
      "</div>, <div class=\"sammy\" style=\"position: relative;\">\n",
      "<div class=\"sammyRank\">39</div>\n",
      "<div class=\"sammyListing\"><a href=\"https://www.chicagomag.com/Chicago-Magazine/November-2012/Best-Sandwiches-in-Chicago-Saigon-Sisters-The-Hen-House/\"><b>The Hen House</b><br/>\n",
      "Saigon Sisters<br/>\n",
      "<em>Read more</em> </a></div>\n",
      "</div>, <div class=\"sammy\" style=\"position: relative;\">\n",
      "<div class=\"sammyRank\">40</div>\n",
      "<div class=\"sammyListing\"><a href=\"https://www.chicagomag.com/Chicago-Magazine/November-2012/Best-Sandwiches-in-Chicago-Rosalias-Deli-Tuscan-Chicken/\"><b>Tuscan Chicken</b><br/>\n",
      "Rosalia’s Deli<br/>\n",
      "<em>Read more</em> </a></div>\n",
      "</div>, <div class=\"sammy\" style=\"position: relative;\">\n",
      "<div class=\"sammyRank\">41</div>\n",
      "<div class=\"sammyListing\"><a href=\"https://www.chicagomag.com/Chicago-Magazine/November-2012/Best-Sandwiches-in-Chicago-Z-and-H-MarketCafe-The-Marty/\"><b>The Marty </b><br/>\n",
      "Z&amp;H MarketCafe<br/>\n",
      "<em>Read more</em> </a></div>\n",
      "</div>, <div class=\"sammy\" style=\"position: relative;\">\n",
      "<div class=\"sammyRank\">42</div>\n",
      "<div class=\"sammyListing\"><a href=\"https://www.chicagomag.com/Chicago-Magazine/November-2012/Best-Sandwiches-in-Chicago-Market-House-on-the-Square-Whitefish/\"><b>Whitefish</b><br/>\n",
      "Market House on the Square<br/>\n",
      "<em>Read more</em> </a></div>\n",
      "</div>, <div class=\"sammy\" style=\"position: relative;\">\n",
      "<div class=\"sammyRank\">43</div>\n",
      "<div class=\"sammyListing\"><a href=\"https://www.chicagomag.com/Chicago-Magazine/November-2012/Best-Sandwiches-in-Chicago-Elaines-Coffee-Call-Oat-Bread-Pecan-Butter-and-Fruit-Jam/\"><b>Oat Bread, Pecan Butter, and Fruit Jam</b><br/>\n",
      "Elaine’s Coffee Call<br/>\n",
      "<em>Read more</em> </a></div>\n",
      "</div>, <div class=\"sammy\" style=\"position: relative;\">\n",
      "<div class=\"sammyRank\">44</div>\n",
      "<div class=\"sammyListing\"><a href=\"https://www.chicagomag.com/Chicago-Magazine/November-2012/Best-Sandwiches-in-Chicago-Marion-Street-Cheese-Market-Cauliflower-Melt/\"><b>Cauliflower Melt</b><br/>\n",
      "Marion Street Cheese Market<br/>\n",
      "<em>Read more</em> </a></div>\n",
      "</div>, <div class=\"sammy\" style=\"position: relative;\">\n",
      "<div class=\"sammyRank\">45</div>\n",
      "<div class=\"sammyListing\"><a href=\"https://www.chicagomag.com/Chicago-Magazine/November-2012/Best-Sandwiches-in-Chicago-Cafecito-Cubano/\"><b>Cubana</b><br/>\n",
      "Cafecito<br/>\n",
      "<em>Read more</em> </a></div>\n",
      "</div>, <div class=\"sammy\" style=\"position: relative;\">\n",
      "<div class=\"sammyRank\">46</div>\n",
      "<div class=\"sammyListing\"><a href=\"https://www.chicagomag.com/Chicago-Magazine/November-2012/Best-Sandwiches-in-Chicago-Chickpea-Kufta/\"><b>Kufta</b><br/>\n",
      "Chickpea<br/>\n",
      "<em>Read more</em> </a></div>\n",
      "</div>, <div class=\"sammy\" style=\"position: relative;\">\n",
      "<div class=\"sammyRank\">47</div>\n",
      "<div class=\"sammyListing\"><a href=\"https://www.chicagomag.com/Chicago-Magazine/November-2012/Best-Sandwiches-in-Chicago-The-Goddess-and-Grocer-Debbies-Egg-Salad/\"><b>Debbie’s Egg Salad</b><br/>\n",
      "The Goddess and Grocer<br/>\n",
      "<em>Read more</em> </a></div>\n",
      "</div>, <div class=\"sammy\" style=\"position: relative;\">\n",
      "<div class=\"sammyRank\">48</div>\n",
      "<div class=\"sammyListing\"><a href=\"https://www.chicagomag.com/Chicago-Magazine/November-2012/Best-Sandwiches-in-Chicago-Zenwich-Beef-Curry/\"><b>Beef Curry</b><br/>\n",
      "Zenwich<br/>\n",
      "<em>Read more</em> </a></div>\n",
      "</div>, <div class=\"sammy\" style=\"position: relative;\">\n",
      "<div class=\"sammyRank\">49</div>\n",
      "<div class=\"sammyListing\"><a href=\"https://www.chicagomag.com/Chicago-Magazine/November-2012/Best-Sandwiches-in-Chicago-Toni-Patisserie-Le-Vegetarien/\"><b>Le Végétarien</b><br/>\n",
      "Toni Patisserie<br/>\n",
      "<em>Read more</em> </a></div>\n",
      "</div>, <div class=\"sammy\" style=\"position: relative; border-bottom: 0\">\n",
      "<div class=\"sammyRank\">50</div>\n",
      "<div class=\"sammyListing\"><a href=\"https://www.chicagomag.com/Chicago-Magazine/November-2012/Best-Sandwiches-in-Chicago-Phoebes-Bakery-The-Gatsby/\"><b>The Gatsby</b><br/>\n",
      "Phoebe’s Bakery<br/>\n",
      "<em>Read more</em> </a></div>\n",
      "</div>]\n"
     ]
    }
   ],
   "source": [
    "print(soup.find_all('div', 'sammy'))"
   ]
  },
  {
   "cell_type": "code",
   "execution_count": 25,
   "id": "9d64370b",
   "metadata": {},
   "outputs": [
    {
     "data": {
      "text/plain": [
       "50"
      ]
     },
     "execution_count": 25,
     "metadata": {},
     "output_type": "execute_result"
    }
   ],
   "source": [
    "len(soup.find_all('div', 'sammy'))"
   ]
  },
  {
   "cell_type": "code",
   "execution_count": 26,
   "id": "b81f1426",
   "metadata": {},
   "outputs": [
    {
     "name": "stdout",
     "output_type": "stream",
     "text": [
      "[<div class=\"sammyListing\"><a href=\"/Chicago-Magazine/November-2012/Best-Sandwiches-in-Chicago-Old-Oak-Tap-BLT/\"><b>BLT</b><br/>\n",
      "Old Oak Tap<br/>\n",
      "<em>Read more</em> </a></div>, <div class=\"sammyListing\"><a href=\"/Chicago-Magazine/November-2012/Best-Sandwiches-in-Chicago-Au-Cheval-Fried-Bologna/\"><b>Fried Bologna</b><br/>\n",
      "Au Cheval<br/>\n",
      "<em>Read more</em> </a></div>, <div class=\"sammyListing\"><a href=\"/Chicago-Magazine/November-2012/Best-Sandwiches-in-Chicago-Xoco-Woodland-Mushroom/\"><b>Woodland Mushroom</b><br/>\n",
      "Xoco<br/>\n",
      "<em>Read more</em> </a></div>, <div class=\"sammyListing\"><a href=\"/Chicago-Magazine/November-2012/Best-Sandwiches-in-Chicago-Als-Deli-Roast-Beef/\"><b>Roast Beef</b><br/>\n",
      "Al’s Deli<br/>\n",
      "<em>Read more</em> </a></div>, <div class=\"sammyListing\"><a href=\"/Chicago-Magazine/November-2012/Best-Sandwiches-in-Chicago-Publican-Quality-Meats-PB-L/\"><b>PB&amp;L</b><br/>\n",
      "Publican Quality Meats<br/>\n",
      "<em>Read more</em> </a></div>, <div class=\"sammyListing\"><a href=\"https://www.chicagomag.com/Chicago-Magazine/November-2012/Best-Sandwiches-in-Chicago-Hendrickx-Belgian-Bread-Crafter-Belgian-Chicken-Curry-Salad/\"><b>Belgian Chicken Curry Salad</b><br/>\n",
      "Hendrickx Belgian Bread Crafter<br/>\n",
      "<em>Read more</em> </a></div>, <div class=\"sammyListing\"><a href=\"/Chicago-Magazine/November-2012/Best-Sandwiches-in-Chicago-Acadia-Lobster-Roll/\"><b>Lobster Roll</b><br/>\n",
      "Acadia<br/>\n",
      "<em>Read more</em> </a></div>, <div class=\"sammyListing\"><a href=\"/Chicago-Magazine/November-2012/Best-Sandwiches-in-Chicago-Birchwood-Kitchen-Smoked-Salmon-Salad/\"><b>Smoked Salmon Salad</b><br/>\n",
      "Birchwood Kitchen<br/>\n",
      "<em>Read more</em> </a></div>, <div class=\"sammyListing\"><a href=\"/Chicago-Magazine/November-2012/Best-Sandwiches-in-Chicago-Cemitas-Puebla-Atomica-Cemitas/\"><b>Atomica Cemitas</b><br/>\n",
      "Cemitas Puebla<br/>\n",
      "<em>Read more</em> </a></div>, <div class=\"sammyListing\"><a href=\"/Chicago-Magazine/November-2012/Best-Sandwiches-in-Chicago-Nana-Grilled-Laughing-Bird-Shrimp-and-Fried-Oyster-Po-Boy/\"><b>Grilled Laughing Bird Shrimp and Fried Po’ Boy</b><br/>\n",
      "Nana<br/>\n",
      "<em>Read more</em> </a></div>, <div class=\"sammyListing\"><a href=\"https://www.chicagomag.com/Chicago-Magazine/November-2012/Best-Sandwiches-in-Chicago-Lula-Cafe-Ham-and-Raclette-Panino/\"><b>Ham and Raclette Panino</b><br/>\n",
      "Lula Cafe<br/>\n",
      "<em>Read more</em> </a></div>, <div class=\"sammyListing\"><a href=\"https://www.chicagomag.com/Chicago-Magazine/November-2012/Best-Sandwiches-in-Chicago-Ricobenes-Breaded-Steak/\"><b>Breaded Steak</b><br/>\n",
      "Ricobene’s<br/>\n",
      "<em>Read more</em> </a></div>, <div class=\"sammyListing\"><a href=\"https://www.chicagomag.com/Chicago-Magazine/November-2012/Best-Sandwiches-in-Chicago-Frog-n-Snail-The-Hawkeye/\"><b>The Hawkeye</b><br/>\n",
      "Frog n Snail<br/>\n",
      "<em>Read more</em> </a></div>, <div class=\"sammyListing\"><a href=\"https://www.chicagomag.com/Chicago-Magazine/November-2012/Best-Sandwiches-in-Chicago-Crosbys-Kitchen-Chicken-Dip/\"><b>Chicken Dip</b><br/>\n",
      "Crosby’s Kitchen<br/>\n",
      "<em>Read more</em> </a></div>, <div class=\"sammyListing\"><a href=\"https://www.chicagomag.com/Chicago-Magazine/November-2012/Best-Sandwiches-in-Chicago-Longman-and-Eagle-Wild-Boar-Sloppy-Joe/\"><b>Wild Boar Sloppy Joe</b><br/>\n",
      "Longman &amp; Eagle<br/>\n",
      "<em>Read more</em> </a></div>, <div class=\"sammyListing\"><a href=\"https://www.chicagomag.com/Chicago-Magazine/November-2012/Best-Sandwiches-in-Chicago-Bari-Meatball-Sub/\"><b>Meatball Sub</b><br/>\n",
      "Bari<br/>\n",
      "<em>Read more</em> </a></div>, <div class=\"sammyListing\"><a href=\"https://www.chicagomag.com/Chicago-Magazine/November-2012/Best-Sandwiches-in-Chicago-Mannys-Corned-Beef/\"><b>Corned Beef</b><br/>\n",
      "Manny’s<br/>\n",
      "<em>Read more</em> </a></div>, <div class=\"sammyListing\"><a href=\"https://www.chicagomag.com/Chicago-Magazine/November-2012/Best-Sandwiches-in-Chicago-Eggys-Turkey-Club/\"><b>Turkey Club</b><br/>\n",
      "Eggy’s<br/>\n",
      "<em>Read more</em> </a></div>, <div class=\"sammyListing\"><a href=\"https://www.chicagomag.com/Chicago-Magazine/November-2012/Best-Sandwiches-in-Chicago-Old-Jerusalem-Falafel/\"><b>Falafel</b><br/>\n",
      "Old Jerusalem<br/>\n",
      "<em>Read more</em> </a></div>, <div class=\"sammyListing\"><a href=\"https://www.chicagomag.com/Chicago-Magazine/November-2012/Best-Sandwiches-in-Chicago-Mindys-HotChocolate-Crab-Cake/\"><b>Crab Cake</b><br/>\n",
      "Mindy’s HotChocolate<br/>\n",
      "<em>Read more</em> </a></div>, <div class=\"sammyListing\"><a href=\"https://www.chicagomag.com/Chicago-Magazine/November-2012/Best-Sandwiches-in-Chicago-Olgas-Delicatessen-Chicken-Schnitzel/\"><b>Chicken Schnitzel</b><br/>\n",
      "Olga’s Delicatessen<br/>\n",
      "<em>Read more</em> </a></div>, <div class=\"sammyListing\"><a href=\"https://www.chicagomag.com/Chicago-Magazine/November-2012/Best-Sandwiches-in-Chicago-Dawali-Mediterranean-Kitchen-Shawarma/\"><b>Shawarma</b><br/>\n",
      "Dawali Mediterranean Kitchen<br/>\n",
      "<em>Read more</em> </a></div>, <div class=\"sammyListing\"><a href=\"https://www.chicagomag.com/Chicago-Magazine/November-2012/Best-Sandwiches-in-Chicago-Big-Jones-Toasted-Pimiento-Cheese/\"><b>Toasted Pimiento Cheese</b><br/>\n",
      "Big Jones<br/>\n",
      "<em>Read more</em> </a></div>, <div class=\"sammyListing\"><a href=\"https://www.chicagomag.com/Chicago-Magazine/November-2012/Best-Sandwiches-in-Chicago-La-Pane-Vegetarian-Panino/\"><b>Vegetarian Panino</b><br/>\n",
      "La Pane<br/>\n",
      "<em>Read more</em> </a></div>, <div class=\"sammyListing\"><a href=\"/Chicago-Magazine/November-2012/Best-Sandwiches-in-Chicago-Pastoral-Cali-Chevre/\"><b>Cali Chèvre</b><br/>\n",
      "Pastoral<br/>\n",
      "<em>Read more</em> </a></div>, <div class=\"sammyListing\"><a href=\"https://www.chicagomag.com/Chicago-Magazine/November-2012/Best-Sandwiches-in-Chicago-Maxs-Deli-Pastrami/\"><b>Pastrami</b><br/>\n",
      "Max’s Deli<br/>\n",
      "<em>Read more</em> </a></div>, <div class=\"sammyListing\"><a href=\"https://www.chicagomag.com/Chicago-Magazine/November-2012/Best-Sandwiches-in-Chicago-Luckys-Sandwich-Co-The-Fredo/\"><b>The Fredo</b><br/>\n",
      "Lucky’s Sandwich Co.<br/>\n",
      "<em>Read more</em> </a></div>, <div class=\"sammyListing\"><a href=\"https://www.chicagomag.com/Chicago-Magazine/November-2012/Best-Sandwiches-in-Chicago-City-Provisions-Smoked-Ham/\"><b>Smoked Ham</b><br/>\n",
      "City Provisions<br/>\n",
      "<em>Read more</em> </a></div>, <div class=\"sammyListing\"><a href=\"https://www.chicagomag.com/Chicago-Magazine/November-2012/Best-Sandwiches-in-Chicago-Papas-Cache-Sabroso-Jibarito/\"><b>Jibarito</b><br/>\n",
      "Papa’s Cache Sabroso<br/>\n",
      "<em>Read more</em> </a></div>, <div class=\"sammyListing\"><a href=\"https://www.chicagomag.com/Chicago-Magazine/November-2012/Best-Sandwiches-in-Chicago-Bavettes-Bar-and-Boeuf-Shaved-Prime-Rib/\"><b>Shaved Prime Rib</b><br/>\n",
      "Bavette’s Bar &amp; Boeuf<br/>\n",
      "<em>Read more</em> </a></div>, <div class=\"sammyListing\"><a href=\"https://www.chicagomag.com/Chicago-Magazine/November-2012/Best-Sandwiches-in-Chicago-Hannahs-Bretzel-Serrano-Ham-and-Manchego-Cheese/\"><b>Serrano Ham and Manchego Cheese</b><br/>\n",
      "Hannah’s Bretzel<br/>\n",
      "<em>Read more</em> </a></div>, <div class=\"sammyListing\"><a href=\"https://www.chicagomag.com/Chicago-Magazine/November-2012/Best-Sandwiches-in-Chicago-La-Fournette-Tuna-Salad/\"><b>Tuna Salad</b><br/>\n",
      "La Fournette<br/>\n",
      "<em>Read more</em> </a></div>, <div class=\"sammyListing\"><a href=\"https://www.chicagomag.com/Chicago-Magazine/November-2012/Best-Sandwiches-in-Chicago-Paramount-Room-Paramount-Reuben/\"><b>Paramount Reuben</b><br/>\n",
      "Paramount Room<br/>\n",
      "<em>Read more</em> </a></div>, <div class=\"sammyListing\"><a href=\"https://www.chicagomag.com/Chicago-Magazine/November-2012/Best-Sandwiches-in-Chicago-Melt-Sandwich-Shoppe-The-Istanbul/\"><b>The Istanbul</b><br/>\n",
      "Melt Sandwich Shoppe<br/>\n",
      "<em>Read more</em> </a></div>, <div class=\"sammyListing\"><a href=\"https://www.chicagomag.com/Chicago-Magazine/November-2012/Best-Sandwiches-in-Chicago-Floriole-Cafe-and-Bakery-BAD/\"><b>B.A.D.</b><br/>\n",
      "Floriole Cafe &amp; Bakery<br/>\n",
      "<em>Read more</em> </a></div>, <div class=\"sammyListing\"><a href=\"https://www.chicagomag.com/Chicago-Magazine/November-2012/Best-Sandwiches-in-Chicago-First-Slice-Pie-Cafe-Duck-Confit-and-Mozzarella/\"><b>Duck Confit and Mozzarella</b><br/>\n",
      "First Slice Pie Café<br/>\n",
      "<em>Read more</em> </a></div>, <div class=\"sammyListing\"><a href=\"https://www.chicagomag.com/Chicago-Magazine/November-2012/Best-Sandwiches-in-Chicago-Troquet-Croque-Monsieur/\"><b>Croque Monsieur</b><br/>\n",
      "Troquet<br/>\n",
      "<em>Read more</em> </a></div>, <div class=\"sammyListing\"><a href=\"https://www.chicagomag.com/Chicago-Magazine/November-2012/Best-Sandwiches-in-Chicago-Grahamwich-Green-Garbanzo/\"><b>Green Garbanzo</b><br/>\n",
      "Grahamwich<br/>\n",
      "<em>Read more</em> </a></div>, <div class=\"sammyListing\"><a href=\"https://www.chicagomag.com/Chicago-Magazine/November-2012/Best-Sandwiches-in-Chicago-Saigon-Sisters-The-Hen-House/\"><b>The Hen House</b><br/>\n",
      "Saigon Sisters<br/>\n",
      "<em>Read more</em> </a></div>, <div class=\"sammyListing\"><a href=\"https://www.chicagomag.com/Chicago-Magazine/November-2012/Best-Sandwiches-in-Chicago-Rosalias-Deli-Tuscan-Chicken/\"><b>Tuscan Chicken</b><br/>\n",
      "Rosalia’s Deli<br/>\n",
      "<em>Read more</em> </a></div>, <div class=\"sammyListing\"><a href=\"https://www.chicagomag.com/Chicago-Magazine/November-2012/Best-Sandwiches-in-Chicago-Z-and-H-MarketCafe-The-Marty/\"><b>The Marty </b><br/>\n",
      "Z&amp;H MarketCafe<br/>\n",
      "<em>Read more</em> </a></div>, <div class=\"sammyListing\"><a href=\"https://www.chicagomag.com/Chicago-Magazine/November-2012/Best-Sandwiches-in-Chicago-Market-House-on-the-Square-Whitefish/\"><b>Whitefish</b><br/>\n",
      "Market House on the Square<br/>\n",
      "<em>Read more</em> </a></div>, <div class=\"sammyListing\"><a href=\"https://www.chicagomag.com/Chicago-Magazine/November-2012/Best-Sandwiches-in-Chicago-Elaines-Coffee-Call-Oat-Bread-Pecan-Butter-and-Fruit-Jam/\"><b>Oat Bread, Pecan Butter, and Fruit Jam</b><br/>\n",
      "Elaine’s Coffee Call<br/>\n",
      "<em>Read more</em> </a></div>, <div class=\"sammyListing\"><a href=\"https://www.chicagomag.com/Chicago-Magazine/November-2012/Best-Sandwiches-in-Chicago-Marion-Street-Cheese-Market-Cauliflower-Melt/\"><b>Cauliflower Melt</b><br/>\n",
      "Marion Street Cheese Market<br/>\n",
      "<em>Read more</em> </a></div>, <div class=\"sammyListing\"><a href=\"https://www.chicagomag.com/Chicago-Magazine/November-2012/Best-Sandwiches-in-Chicago-Cafecito-Cubano/\"><b>Cubana</b><br/>\n",
      "Cafecito<br/>\n",
      "<em>Read more</em> </a></div>, <div class=\"sammyListing\"><a href=\"https://www.chicagomag.com/Chicago-Magazine/November-2012/Best-Sandwiches-in-Chicago-Chickpea-Kufta/\"><b>Kufta</b><br/>\n",
      "Chickpea<br/>\n",
      "<em>Read more</em> </a></div>, <div class=\"sammyListing\"><a href=\"https://www.chicagomag.com/Chicago-Magazine/November-2012/Best-Sandwiches-in-Chicago-The-Goddess-and-Grocer-Debbies-Egg-Salad/\"><b>Debbie’s Egg Salad</b><br/>\n",
      "The Goddess and Grocer<br/>\n",
      "<em>Read more</em> </a></div>, <div class=\"sammyListing\"><a href=\"https://www.chicagomag.com/Chicago-Magazine/November-2012/Best-Sandwiches-in-Chicago-Zenwich-Beef-Curry/\"><b>Beef Curry</b><br/>\n",
      "Zenwich<br/>\n",
      "<em>Read more</em> </a></div>, <div class=\"sammyListing\"><a href=\"https://www.chicagomag.com/Chicago-Magazine/November-2012/Best-Sandwiches-in-Chicago-Toni-Patisserie-Le-Vegetarien/\"><b>Le Végétarien</b><br/>\n",
      "Toni Patisserie<br/>\n",
      "<em>Read more</em> </a></div>, <div class=\"sammyListing\"><a href=\"https://www.chicagomag.com/Chicago-Magazine/November-2012/Best-Sandwiches-in-Chicago-Phoebes-Bakery-The-Gatsby/\"><b>The Gatsby</b><br/>\n",
      "Phoebe’s Bakery<br/>\n",
      "<em>Read more</em> </a></div>]\n"
     ]
    }
   ],
   "source": [
    "print(soup.find_all('div', 'sammyListing'))"
   ]
  },
  {
   "cell_type": "code",
   "execution_count": 27,
   "id": "25acc6f9",
   "metadata": {},
   "outputs": [
    {
     "name": "stdout",
     "output_type": "stream",
     "text": [
      "[<div class=\"sammyRank\">1</div>, <div class=\"sammyRank\">2</div>, <div class=\"sammyRank\">3</div>, <div class=\"sammyRank\">4</div>, <div class=\"sammyRank\">5</div>, <div class=\"sammyRank\">6</div>, <div class=\"sammyRank\">7</div>, <div class=\"sammyRank\">8</div>, <div class=\"sammyRank\">9</div>, <div class=\"sammyRank\">10</div>, <div class=\"sammyRank\">11</div>, <div class=\"sammyRank\">12</div>, <div class=\"sammyRank\">13</div>, <div class=\"sammyRank\">14</div>, <div class=\"sammyRank\">15</div>, <div class=\"sammyRank\">16</div>, <div class=\"sammyRank\">17</div>, <div class=\"sammyRank\">18</div>, <div class=\"sammyRank\">19</div>, <div class=\"sammyRank\">20</div>, <div class=\"sammyRank\">21</div>, <div class=\"sammyRank\">22</div>, <div class=\"sammyRank\">23</div>, <div class=\"sammyRank\">24</div>, <div class=\"sammyRank\">25</div>, <div class=\"sammyRank\">26</div>, <div class=\"sammyRank\">27</div>, <div class=\"sammyRank\">28</div>, <div class=\"sammyRank\">29</div>, <div class=\"sammyRank\">30</div>, <div class=\"sammyRank\">31</div>, <div class=\"sammyRank\">32</div>, <div class=\"sammyRank\">33</div>, <div class=\"sammyRank\">34</div>, <div class=\"sammyRank\">35</div>, <div class=\"sammyRank\">36</div>, <div class=\"sammyRank\">37</div>, <div class=\"sammyRank\">38</div>, <div class=\"sammyRank\">39</div>, <div class=\"sammyRank\">40</div>, <div class=\"sammyRank\">41</div>, <div class=\"sammyRank\">42</div>, <div class=\"sammyRank\">43</div>, <div class=\"sammyRank\">44</div>, <div class=\"sammyRank\">45</div>, <div class=\"sammyRank\">46</div>, <div class=\"sammyRank\">47</div>, <div class=\"sammyRank\">48</div>, <div class=\"sammyRank\">49</div>, <div class=\"sammyRank\">50</div>]\n"
     ]
    }
   ],
   "source": [
    "print(soup.find_all('div', 'sammyRank'))"
   ]
  },
  {
   "cell_type": "code",
   "execution_count": 28,
   "id": "cabfd5c9",
   "metadata": {},
   "outputs": [
    {
     "data": {
      "text/plain": [
       "'1'"
      ]
     },
     "execution_count": 28,
     "metadata": {},
     "output_type": "execute_result"
    }
   ],
   "source": [
    "tmp = soup.find_all('div', 'sammyRank')\n",
    "tmp[0].get_text()"
   ]
  },
  {
   "cell_type": "code",
   "execution_count": 29,
   "id": "388049cd",
   "metadata": {},
   "outputs": [
    {
     "data": {
      "text/plain": [
       "<div class=\"sammy\" style=\"position: relative;\">\n",
       "<div class=\"sammyRank\">1</div>\n",
       "<div class=\"sammyListing\"><a href=\"/Chicago-Magazine/November-2012/Best-Sandwiches-in-Chicago-Old-Oak-Tap-BLT/\"><b>BLT</b><br/>\n",
       "Old Oak Tap<br/>\n",
       "<em>Read more</em> </a></div>\n",
       "</div>"
      ]
     },
     "execution_count": 29,
     "metadata": {},
     "output_type": "execute_result"
    }
   ],
   "source": [
    "listOfsoup = soup.find_all('div', 'sammy')\n",
    "listOfsoup[0]"
   ]
  },
  {
   "cell_type": "code",
   "execution_count": 34,
   "id": "488619e2",
   "metadata": {},
   "outputs": [
    {
     "data": {
      "text/plain": [
       "['1', '2', '3', '4', '5', '6', '7', '8', '9', '10']"
      ]
     },
     "execution_count": 34,
     "metadata": {},
     "output_type": "execute_result"
    }
   ],
   "source": [
    "rank = []\n",
    "\n",
    "for item in listOfsoup:\n",
    "    rank.append(item.find('div','sammyRank').get_text())\n",
    "    \n",
    "rank[:10]"
   ]
  },
  {
   "cell_type": "code",
   "execution_count": 35,
   "id": "ed058a09",
   "metadata": {},
   "outputs": [
    {
     "data": {
      "text/plain": [
       "'BLT\\nOld Oak Tap\\nRead more '"
      ]
     },
     "execution_count": 35,
     "metadata": {},
     "output_type": "execute_result"
    }
   ],
   "source": [
    "listOfsoup[0].find('a').get_text()"
   ]
  },
  {
   "cell_type": "code",
   "execution_count": 36,
   "id": "05270046",
   "metadata": {},
   "outputs": [
    {
     "data": {
      "text/plain": [
       "'/Chicago-Magazine/November-2012/Best-Sandwiches-in-Chicago-Old-Oak-Tap-BLT/'"
      ]
     },
     "execution_count": 36,
     "metadata": {},
     "output_type": "execute_result"
    }
   ],
   "source": [
    "listOfsoup[0].find('a')['href']"
   ]
  },
  {
   "cell_type": "code",
   "execution_count": null,
   "id": "5ea8c994",
   "metadata": {},
   "outputs": [],
   "source": []
  },
  {
   "cell_type": "markdown",
   "id": "9abdf6b3",
   "metadata": {},
   "source": [
    "### 정규식 : Regular Expresion 모듈"
   ]
  },
  {
   "cell_type": "code",
   "execution_count": 37,
   "id": "b37f8bc6",
   "metadata": {},
   "outputs": [],
   "source": [
    "import re"
   ]
  },
  {
   "cell_type": "code",
   "execution_count": 38,
   "id": "019f0ee1",
   "metadata": {},
   "outputs": [
    {
     "data": {
      "text/plain": [
       "'BLT\\nOld Oak Tap\\nRead more '"
      ]
     },
     "execution_count": 38,
     "metadata": {},
     "output_type": "execute_result"
    }
   ],
   "source": [
    "tmpString = str(listOfsoup[0].find('a').get_text())\n",
    "tmpString"
   ]
  },
  {
   "cell_type": "markdown",
   "id": "1cabe125",
   "metadata": {},
   "source": [
    "#### # \\n or \\r\\n 으로 들어가는 부분을 구분"
   ]
  },
  {
   "cell_type": "code",
   "execution_count": 39,
   "id": "d2b90531",
   "metadata": {},
   "outputs": [
    {
     "data": {
      "text/plain": [
       "['BLT', 'Old Oak Tap', 'Read more ']"
      ]
     },
     "execution_count": 39,
     "metadata": {},
     "output_type": "execute_result"
    }
   ],
   "source": [
    "re.split(('\\n|\\r\\n'), tmpString)"
   ]
  },
  {
   "cell_type": "code",
   "execution_count": 40,
   "id": "6ac57019",
   "metadata": {},
   "outputs": [
    {
     "data": {
      "text/plain": [
       "'BLT'"
      ]
     },
     "execution_count": 40,
     "metadata": {},
     "output_type": "execute_result"
    }
   ],
   "source": [
    "re.split(('\\n|\\r\\n'), tmpString)[0]"
   ]
  },
  {
   "cell_type": "code",
   "execution_count": 41,
   "id": "66622fa1",
   "metadata": {},
   "outputs": [
    {
     "data": {
      "text/plain": [
       "'Old Oak Tap'"
      ]
     },
     "execution_count": 41,
     "metadata": {},
     "output_type": "execute_result"
    }
   ],
   "source": [
    "re.split(('\\n|\\r\\n'), tmpString)[1]"
   ]
  },
  {
   "cell_type": "code",
   "execution_count": 57,
   "id": "54d798f9",
   "metadata": {},
   "outputs": [
    {
     "data": {
      "text/plain": [
       "'https://www.chicagomag.com/Chicago-Magazine/November-2012/Best-Sandwiches-in-Chicago-Lula-Cafe-Ham-and-Raclette-Panino/'"
      ]
     },
     "execution_count": 57,
     "metadata": {},
     "output_type": "execute_result"
    }
   ],
   "source": [
    "listOfsoup[10].find('a')['href']"
   ]
  },
  {
   "cell_type": "code",
   "execution_count": 58,
   "id": "6ba752fa",
   "metadata": {},
   "outputs": [],
   "source": [
    "rank     = []\n",
    "mainMenu = []\n",
    "cafeName = []\n",
    "urlAdd   = []\n",
    "\n",
    "for item in listOfsoup:\n",
    "    rank.append(item.find('div','sammyRank').get_text())\n",
    "    \n",
    "    tmpString = str(item.find('a').get_text())\n",
    "    mainMenu.append(re.split(('\\n|\\r\\n'), tmpString)[0])\n",
    "    cafeName.append(re.split(('\\n|\\r\\n'), tmpString)[1])\n",
    "    urlAdd.append(item.find(\"a\")[\"href\"])"
   ]
  },
  {
   "cell_type": "code",
   "execution_count": 59,
   "id": "b5a4b867",
   "metadata": {},
   "outputs": [
    {
     "data": {
      "text/plain": [
       "['1', '2', '3', '4', '5']"
      ]
     },
     "execution_count": 59,
     "metadata": {},
     "output_type": "execute_result"
    }
   ],
   "source": [
    "rank[:5]"
   ]
  },
  {
   "cell_type": "code",
   "execution_count": 60,
   "id": "04b4eba8",
   "metadata": {},
   "outputs": [
    {
     "data": {
      "text/plain": [
       "['BLT', 'Fried Bologna', 'Woodland Mushroom', 'Roast Beef', 'PB&L']"
      ]
     },
     "execution_count": 60,
     "metadata": {},
     "output_type": "execute_result"
    }
   ],
   "source": [
    "mainMenu[:5]"
   ]
  },
  {
   "cell_type": "code",
   "execution_count": 61,
   "id": "5118224d",
   "metadata": {},
   "outputs": [
    {
     "data": {
      "text/plain": [
       "['Old Oak Tap', 'Au Cheval', 'Xoco', 'Al’s Deli', 'Publican Quality Meats']"
      ]
     },
     "execution_count": 61,
     "metadata": {},
     "output_type": "execute_result"
    }
   ],
   "source": [
    "cafeName[:5]"
   ]
  },
  {
   "cell_type": "code",
   "execution_count": 62,
   "id": "6fa4843d",
   "metadata": {},
   "outputs": [
    {
     "data": {
      "text/plain": [
       "'http'"
      ]
     },
     "execution_count": 62,
     "metadata": {},
     "output_type": "execute_result"
    }
   ],
   "source": [
    "urlAdd[5][:4]"
   ]
  },
  {
   "cell_type": "code",
   "execution_count": 63,
   "id": "365588a5",
   "metadata": {},
   "outputs": [],
   "source": [
    "rank     = []\n",
    "mainMenu = []\n",
    "cafeName = []\n",
    "urlAdd   = []\n",
    "\n",
    "for item in listOfsoup:\n",
    "    rank.append(item.find('div','sammyRank').get_text())\n",
    "    \n",
    "    tmpString = str(item.find('a').get_text())\n",
    "    mainMenu.append(re.split(('\\n|\\r\\n'), tmpString)[0])\n",
    "    cafeName.append(re.split(('\\n|\\r\\n'), tmpString)[1])\n",
    "    urlAdd.append(item.find(\"a\")[\"href\"])\n",
    "    \n",
    "    tmp2 = item.find('a')['href']\n",
    "    if tmp2[:4] != 'http':\n",
    "        urlAdd.append('http://www.chicagomag.com' + item.find('a')['href'])\n",
    "    else:\n",
    "        urlAdd.append(item.find('a')['href'])"
   ]
  },
  {
   "cell_type": "code",
   "execution_count": 64,
   "id": "b49b3a2e",
   "metadata": {},
   "outputs": [
    {
     "data": {
      "text/plain": [
       "['/Chicago-Magazine/November-2012/Best-Sandwiches-in-Chicago-Old-Oak-Tap-BLT/',\n",
       " 'http://www.chicagomag.com/Chicago-Magazine/November-2012/Best-Sandwiches-in-Chicago-Old-Oak-Tap-BLT/',\n",
       " '/Chicago-Magazine/November-2012/Best-Sandwiches-in-Chicago-Au-Cheval-Fried-Bologna/',\n",
       " 'http://www.chicagomag.com/Chicago-Magazine/November-2012/Best-Sandwiches-in-Chicago-Au-Cheval-Fried-Bologna/',\n",
       " '/Chicago-Magazine/November-2012/Best-Sandwiches-in-Chicago-Xoco-Woodland-Mushroom/',\n",
       " 'http://www.chicagomag.com/Chicago-Magazine/November-2012/Best-Sandwiches-in-Chicago-Xoco-Woodland-Mushroom/',\n",
       " '/Chicago-Magazine/November-2012/Best-Sandwiches-in-Chicago-Als-Deli-Roast-Beef/',\n",
       " 'http://www.chicagomag.com/Chicago-Magazine/November-2012/Best-Sandwiches-in-Chicago-Als-Deli-Roast-Beef/',\n",
       " '/Chicago-Magazine/November-2012/Best-Sandwiches-in-Chicago-Publican-Quality-Meats-PB-L/',\n",
       " 'http://www.chicagomag.com/Chicago-Magazine/November-2012/Best-Sandwiches-in-Chicago-Publican-Quality-Meats-PB-L/']"
      ]
     },
     "execution_count": 64,
     "metadata": {},
     "output_type": "execute_result"
    }
   ],
   "source": [
    "urlAdd[:10]"
   ]
  },
  {
   "cell_type": "markdown",
   "id": "6bb319b4",
   "metadata": {},
   "source": [
    "#### 가져온 데이터를 데이터프레임으로 정리한 후 파일로 저장"
   ]
  },
  {
   "cell_type": "code",
   "execution_count": 67,
   "id": "5d343074",
   "metadata": {},
   "outputs": [
    {
     "ename": "ValueError",
     "evalue": "All arrays must be of the same length",
     "output_type": "error",
     "traceback": [
      "\u001b[1;31m---------------------------------------------------------------------------\u001b[0m",
      "\u001b[1;31mValueError\u001b[0m                                Traceback (most recent call last)",
      "Input \u001b[1;32mIn [67]\u001b[0m, in \u001b[0;36m<cell line: 4>\u001b[1;34m()\u001b[0m\n\u001b[0;32m      1\u001b[0m \u001b[38;5;28;01mimport\u001b[39;00m \u001b[38;5;21;01mpandas\u001b[39;00m \u001b[38;5;28;01mas\u001b[39;00m \u001b[38;5;21;01mpd\u001b[39;00m\n\u001b[0;32m      3\u001b[0m data \u001b[38;5;241m=\u001b[39m {\u001b[38;5;124m'\u001b[39m\u001b[38;5;124mRank\u001b[39m\u001b[38;5;124m'\u001b[39m:rank, \u001b[38;5;124m'\u001b[39m\u001b[38;5;124mMenu\u001b[39m\u001b[38;5;124m'\u001b[39m:mainMenu, \u001b[38;5;124m'\u001b[39m\u001b[38;5;124mCafe\u001b[39m\u001b[38;5;124m'\u001b[39m:cafeName, \u001b[38;5;124m'\u001b[39m\u001b[38;5;124mURL\u001b[39m\u001b[38;5;124m'\u001b[39m:urlAdd}\n\u001b[1;32m----> 4\u001b[0m df \u001b[38;5;241m=\u001b[39m \u001b[43mpd\u001b[49m\u001b[38;5;241;43m.\u001b[39;49m\u001b[43mDataFrame\u001b[49m\u001b[43m(\u001b[49m\u001b[43mdata\u001b[49m\u001b[43m)\u001b[49m\n",
      "File \u001b[1;32mC:\\Python\\anaconda3\\lib\\site-packages\\pandas\\core\\frame.py:636\u001b[0m, in \u001b[0;36mDataFrame.__init__\u001b[1;34m(self, data, index, columns, dtype, copy)\u001b[0m\n\u001b[0;32m    630\u001b[0m     mgr \u001b[38;5;241m=\u001b[39m \u001b[38;5;28mself\u001b[39m\u001b[38;5;241m.\u001b[39m_init_mgr(\n\u001b[0;32m    631\u001b[0m         data, axes\u001b[38;5;241m=\u001b[39m{\u001b[38;5;124m\"\u001b[39m\u001b[38;5;124mindex\u001b[39m\u001b[38;5;124m\"\u001b[39m: index, \u001b[38;5;124m\"\u001b[39m\u001b[38;5;124mcolumns\u001b[39m\u001b[38;5;124m\"\u001b[39m: columns}, dtype\u001b[38;5;241m=\u001b[39mdtype, copy\u001b[38;5;241m=\u001b[39mcopy\n\u001b[0;32m    632\u001b[0m     )\n\u001b[0;32m    634\u001b[0m \u001b[38;5;28;01melif\u001b[39;00m \u001b[38;5;28misinstance\u001b[39m(data, \u001b[38;5;28mdict\u001b[39m):\n\u001b[0;32m    635\u001b[0m     \u001b[38;5;66;03m# GH#38939 de facto copy defaults to False only in non-dict cases\u001b[39;00m\n\u001b[1;32m--> 636\u001b[0m     mgr \u001b[38;5;241m=\u001b[39m \u001b[43mdict_to_mgr\u001b[49m\u001b[43m(\u001b[49m\u001b[43mdata\u001b[49m\u001b[43m,\u001b[49m\u001b[43m \u001b[49m\u001b[43mindex\u001b[49m\u001b[43m,\u001b[49m\u001b[43m \u001b[49m\u001b[43mcolumns\u001b[49m\u001b[43m,\u001b[49m\u001b[43m \u001b[49m\u001b[43mdtype\u001b[49m\u001b[38;5;241;43m=\u001b[39;49m\u001b[43mdtype\u001b[49m\u001b[43m,\u001b[49m\u001b[43m \u001b[49m\u001b[43mcopy\u001b[49m\u001b[38;5;241;43m=\u001b[39;49m\u001b[43mcopy\u001b[49m\u001b[43m,\u001b[49m\u001b[43m \u001b[49m\u001b[43mtyp\u001b[49m\u001b[38;5;241;43m=\u001b[39;49m\u001b[43mmanager\u001b[49m\u001b[43m)\u001b[49m\n\u001b[0;32m    637\u001b[0m \u001b[38;5;28;01melif\u001b[39;00m \u001b[38;5;28misinstance\u001b[39m(data, ma\u001b[38;5;241m.\u001b[39mMaskedArray):\n\u001b[0;32m    638\u001b[0m     \u001b[38;5;28;01mimport\u001b[39;00m \u001b[38;5;21;01mnumpy\u001b[39;00m\u001b[38;5;21;01m.\u001b[39;00m\u001b[38;5;21;01mma\u001b[39;00m\u001b[38;5;21;01m.\u001b[39;00m\u001b[38;5;21;01mmrecords\u001b[39;00m \u001b[38;5;28;01mas\u001b[39;00m \u001b[38;5;21;01mmrecords\u001b[39;00m\n",
      "File \u001b[1;32mC:\\Python\\anaconda3\\lib\\site-packages\\pandas\\core\\internals\\construction.py:502\u001b[0m, in \u001b[0;36mdict_to_mgr\u001b[1;34m(data, index, columns, dtype, typ, copy)\u001b[0m\n\u001b[0;32m    494\u001b[0m     arrays \u001b[38;5;241m=\u001b[39m [\n\u001b[0;32m    495\u001b[0m         x\n\u001b[0;32m    496\u001b[0m         \u001b[38;5;28;01mif\u001b[39;00m \u001b[38;5;129;01mnot\u001b[39;00m \u001b[38;5;28mhasattr\u001b[39m(x, \u001b[38;5;124m\"\u001b[39m\u001b[38;5;124mdtype\u001b[39m\u001b[38;5;124m\"\u001b[39m) \u001b[38;5;129;01mor\u001b[39;00m \u001b[38;5;129;01mnot\u001b[39;00m \u001b[38;5;28misinstance\u001b[39m(x\u001b[38;5;241m.\u001b[39mdtype, ExtensionDtype)\n\u001b[0;32m    497\u001b[0m         \u001b[38;5;28;01melse\u001b[39;00m x\u001b[38;5;241m.\u001b[39mcopy()\n\u001b[0;32m    498\u001b[0m         \u001b[38;5;28;01mfor\u001b[39;00m x \u001b[38;5;129;01min\u001b[39;00m arrays\n\u001b[0;32m    499\u001b[0m     ]\n\u001b[0;32m    500\u001b[0m     \u001b[38;5;66;03m# TODO: can we get rid of the dt64tz special case above?\u001b[39;00m\n\u001b[1;32m--> 502\u001b[0m \u001b[38;5;28;01mreturn\u001b[39;00m \u001b[43marrays_to_mgr\u001b[49m\u001b[43m(\u001b[49m\u001b[43marrays\u001b[49m\u001b[43m,\u001b[49m\u001b[43m \u001b[49m\u001b[43mcolumns\u001b[49m\u001b[43m,\u001b[49m\u001b[43m \u001b[49m\u001b[43mindex\u001b[49m\u001b[43m,\u001b[49m\u001b[43m \u001b[49m\u001b[43mdtype\u001b[49m\u001b[38;5;241;43m=\u001b[39;49m\u001b[43mdtype\u001b[49m\u001b[43m,\u001b[49m\u001b[43m \u001b[49m\u001b[43mtyp\u001b[49m\u001b[38;5;241;43m=\u001b[39;49m\u001b[43mtyp\u001b[49m\u001b[43m,\u001b[49m\u001b[43m \u001b[49m\u001b[43mconsolidate\u001b[49m\u001b[38;5;241;43m=\u001b[39;49m\u001b[43mcopy\u001b[49m\u001b[43m)\u001b[49m\n",
      "File \u001b[1;32mC:\\Python\\anaconda3\\lib\\site-packages\\pandas\\core\\internals\\construction.py:120\u001b[0m, in \u001b[0;36marrays_to_mgr\u001b[1;34m(arrays, columns, index, dtype, verify_integrity, typ, consolidate)\u001b[0m\n\u001b[0;32m    117\u001b[0m \u001b[38;5;28;01mif\u001b[39;00m verify_integrity:\n\u001b[0;32m    118\u001b[0m     \u001b[38;5;66;03m# figure out the index, if necessary\u001b[39;00m\n\u001b[0;32m    119\u001b[0m     \u001b[38;5;28;01mif\u001b[39;00m index \u001b[38;5;129;01mis\u001b[39;00m \u001b[38;5;28;01mNone\u001b[39;00m:\n\u001b[1;32m--> 120\u001b[0m         index \u001b[38;5;241m=\u001b[39m \u001b[43m_extract_index\u001b[49m\u001b[43m(\u001b[49m\u001b[43marrays\u001b[49m\u001b[43m)\u001b[49m\n\u001b[0;32m    121\u001b[0m     \u001b[38;5;28;01melse\u001b[39;00m:\n\u001b[0;32m    122\u001b[0m         index \u001b[38;5;241m=\u001b[39m ensure_index(index)\n",
      "File \u001b[1;32mC:\\Python\\anaconda3\\lib\\site-packages\\pandas\\core\\internals\\construction.py:674\u001b[0m, in \u001b[0;36m_extract_index\u001b[1;34m(data)\u001b[0m\n\u001b[0;32m    672\u001b[0m lengths \u001b[38;5;241m=\u001b[39m \u001b[38;5;28mlist\u001b[39m(\u001b[38;5;28mset\u001b[39m(raw_lengths))\n\u001b[0;32m    673\u001b[0m \u001b[38;5;28;01mif\u001b[39;00m \u001b[38;5;28mlen\u001b[39m(lengths) \u001b[38;5;241m>\u001b[39m \u001b[38;5;241m1\u001b[39m:\n\u001b[1;32m--> 674\u001b[0m     \u001b[38;5;28;01mraise\u001b[39;00m \u001b[38;5;167;01mValueError\u001b[39;00m(\u001b[38;5;124m\"\u001b[39m\u001b[38;5;124mAll arrays must be of the same length\u001b[39m\u001b[38;5;124m\"\u001b[39m)\n\u001b[0;32m    676\u001b[0m \u001b[38;5;28;01mif\u001b[39;00m have_dicts:\n\u001b[0;32m    677\u001b[0m     \u001b[38;5;28;01mraise\u001b[39;00m \u001b[38;5;167;01mValueError\u001b[39;00m(\n\u001b[0;32m    678\u001b[0m         \u001b[38;5;124m\"\u001b[39m\u001b[38;5;124mMixing dicts with non-Series may lead to ambiguous ordering.\u001b[39m\u001b[38;5;124m\"\u001b[39m\n\u001b[0;32m    679\u001b[0m     )\n",
      "\u001b[1;31mValueError\u001b[0m: All arrays must be of the same length"
     ]
    }
   ],
   "source": [
    "import pandas as pd\n",
    "\n",
    "data = {'Rank':rank, 'Menu':mainMenu, 'Cafe':cafeName, 'URL':urlAdd}\n",
    "df = pd.DataFrame(data)"
   ]
  },
  {
   "cell_type": "code",
   "execution_count": null,
   "id": "a0b5176c",
   "metadata": {},
   "outputs": [],
   "source": []
  }
 ],
 "metadata": {
  "kernelspec": {
   "display_name": "Python 3 (ipykernel)",
   "language": "python",
   "name": "python3"
  },
  "language_info": {
   "codemirror_mode": {
    "name": "ipython",
    "version": 3
   },
   "file_extension": ".py",
   "mimetype": "text/x-python",
   "name": "python",
   "nbconvert_exporter": "python",
   "pygments_lexer": "ipython3",
   "version": "3.9.12"
  }
 },
 "nbformat": 4,
 "nbformat_minor": 5
}
