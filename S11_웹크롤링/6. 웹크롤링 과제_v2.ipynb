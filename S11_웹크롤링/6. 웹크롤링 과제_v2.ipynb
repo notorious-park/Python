{
 "cells": [
  {
   "cell_type": "code",
   "execution_count": 1,
   "id": "b9f5c28a",
   "metadata": {},
   "outputs": [],
   "source": [
    "from bs4 import BeautifulSoup \n",
    "from urllib.request import Request, urlopen\n",
    "\n",
    "import pandas as pd\n",
    "import re"
   ]
  },
  {
   "cell_type": "code",
   "execution_count": 2,
   "id": "4bea92e5",
   "metadata": {},
   "outputs": [
    {
     "data": {
      "text/html": [
       "<div>\n",
       "<style scoped>\n",
       "    .dataframe tbody tr th:only-of-type {\n",
       "        vertical-align: middle;\n",
       "    }\n",
       "\n",
       "    .dataframe tbody tr th {\n",
       "        vertical-align: top;\n",
       "    }\n",
       "\n",
       "    .dataframe thead th {\n",
       "        text-align: right;\n",
       "    }\n",
       "</style>\n",
       "<table border=\"1\" class=\"dataframe\">\n",
       "  <thead>\n",
       "    <tr style=\"text-align: right;\">\n",
       "      <th></th>\n",
       "      <th>Unnamed: 0</th>\n",
       "      <th>Cafe</th>\n",
       "      <th>Menu</th>\n",
       "      <th>URL</th>\n",
       "    </tr>\n",
       "    <tr>\n",
       "      <th>Rank</th>\n",
       "      <th></th>\n",
       "      <th></th>\n",
       "      <th></th>\n",
       "      <th></th>\n",
       "    </tr>\n",
       "  </thead>\n",
       "  <tbody>\n",
       "    <tr>\n",
       "      <th>1</th>\n",
       "      <td>0</td>\n",
       "      <td>Old Oak Tap</td>\n",
       "      <td>BLT</td>\n",
       "      <td>http://www.chicagomag.com/Chicago-Magazine/Nov...</td>\n",
       "    </tr>\n",
       "    <tr>\n",
       "      <th>2</th>\n",
       "      <td>1</td>\n",
       "      <td>Au Cheval</td>\n",
       "      <td>Fried Bologna</td>\n",
       "      <td>http://www.chicagomag.com/Chicago-Magazine/Nov...</td>\n",
       "    </tr>\n",
       "    <tr>\n",
       "      <th>3</th>\n",
       "      <td>2</td>\n",
       "      <td>Xoco</td>\n",
       "      <td>Woodland Mushroom</td>\n",
       "      <td>http://www.chicagomag.com/Chicago-Magazine/Nov...</td>\n",
       "    </tr>\n",
       "    <tr>\n",
       "      <th>4</th>\n",
       "      <td>3</td>\n",
       "      <td>Al’s Deli</td>\n",
       "      <td>Roast Beef</td>\n",
       "      <td>http://www.chicagomag.com/Chicago-Magazine/Nov...</td>\n",
       "    </tr>\n",
       "    <tr>\n",
       "      <th>5</th>\n",
       "      <td>4</td>\n",
       "      <td>Publican Quality Meats</td>\n",
       "      <td>PB&amp;L</td>\n",
       "      <td>http://www.chicagomag.com/Chicago-Magazine/Nov...</td>\n",
       "    </tr>\n",
       "  </tbody>\n",
       "</table>\n",
       "</div>"
      ],
      "text/plain": [
       "      Unnamed: 0                    Cafe               Menu  \\\n",
       "Rank                                                          \n",
       "1              0             Old Oak Tap                BLT   \n",
       "2              1               Au Cheval      Fried Bologna   \n",
       "3              2                    Xoco  Woodland Mushroom   \n",
       "4              3               Al’s Deli         Roast Beef   \n",
       "5              4  Publican Quality Meats               PB&L   \n",
       "\n",
       "                                                    URL  \n",
       "Rank                                                     \n",
       "1     http://www.chicagomag.com/Chicago-Magazine/Nov...  \n",
       "2     http://www.chicagomag.com/Chicago-Magazine/Nov...  \n",
       "3     http://www.chicagomag.com/Chicago-Magazine/Nov...  \n",
       "4     http://www.chicagomag.com/Chicago-Magazine/Nov...  \n",
       "5     http://www.chicagomag.com/Chicago-Magazine/Nov...  "
      ]
     },
     "execution_count": 2,
     "metadata": {},
     "output_type": "execute_result"
    }
   ],
   "source": [
    "# df = pd.read_csv('data/exam-WebParsing.csv')       \n",
    "df = pd.read_csv('data/chicagomag_info.csv', index_col='Rank') \n",
    "df.head()"
   ]
  },
  {
   "cell_type": "code",
   "execution_count": 3,
   "id": "756102e2",
   "metadata": {},
   "outputs": [
    {
     "data": {
      "text/html": [
       "<div>\n",
       "<style scoped>\n",
       "    .dataframe tbody tr th:only-of-type {\n",
       "        vertical-align: middle;\n",
       "    }\n",
       "\n",
       "    .dataframe tbody tr th {\n",
       "        vertical-align: top;\n",
       "    }\n",
       "\n",
       "    .dataframe thead th {\n",
       "        text-align: right;\n",
       "    }\n",
       "</style>\n",
       "<table border=\"1\" class=\"dataframe\">\n",
       "  <thead>\n",
       "    <tr style=\"text-align: right;\">\n",
       "      <th></th>\n",
       "      <th>Cafe</th>\n",
       "      <th>Menu</th>\n",
       "      <th>URL</th>\n",
       "    </tr>\n",
       "    <tr>\n",
       "      <th>Rank</th>\n",
       "      <th></th>\n",
       "      <th></th>\n",
       "      <th></th>\n",
       "    </tr>\n",
       "  </thead>\n",
       "  <tbody>\n",
       "    <tr>\n",
       "      <th>1</th>\n",
       "      <td>Old Oak Tap</td>\n",
       "      <td>BLT</td>\n",
       "      <td>http://www.chicagomag.com/Chicago-Magazine/Nov...</td>\n",
       "    </tr>\n",
       "    <tr>\n",
       "      <th>2</th>\n",
       "      <td>Au Cheval</td>\n",
       "      <td>Fried Bologna</td>\n",
       "      <td>http://www.chicagomag.com/Chicago-Magazine/Nov...</td>\n",
       "    </tr>\n",
       "    <tr>\n",
       "      <th>3</th>\n",
       "      <td>Xoco</td>\n",
       "      <td>Woodland Mushroom</td>\n",
       "      <td>http://www.chicagomag.com/Chicago-Magazine/Nov...</td>\n",
       "    </tr>\n",
       "    <tr>\n",
       "      <th>4</th>\n",
       "      <td>Al’s Deli</td>\n",
       "      <td>Roast Beef</td>\n",
       "      <td>http://www.chicagomag.com/Chicago-Magazine/Nov...</td>\n",
       "    </tr>\n",
       "    <tr>\n",
       "      <th>5</th>\n",
       "      <td>Publican Quality Meats</td>\n",
       "      <td>PB&amp;L</td>\n",
       "      <td>http://www.chicagomag.com/Chicago-Magazine/Nov...</td>\n",
       "    </tr>\n",
       "  </tbody>\n",
       "</table>\n",
       "</div>"
      ],
      "text/plain": [
       "                        Cafe               Menu  \\\n",
       "Rank                                              \n",
       "1                Old Oak Tap                BLT   \n",
       "2                  Au Cheval      Fried Bologna   \n",
       "3                       Xoco  Woodland Mushroom   \n",
       "4                  Al’s Deli         Roast Beef   \n",
       "5     Publican Quality Meats               PB&L   \n",
       "\n",
       "                                                    URL  \n",
       "Rank                                                     \n",
       "1     http://www.chicagomag.com/Chicago-Magazine/Nov...  \n",
       "2     http://www.chicagomag.com/Chicago-Magazine/Nov...  \n",
       "3     http://www.chicagomag.com/Chicago-Magazine/Nov...  \n",
       "4     http://www.chicagomag.com/Chicago-Magazine/Nov...  \n",
       "5     http://www.chicagomag.com/Chicago-Magazine/Nov...  "
      ]
     },
     "execution_count": 3,
     "metadata": {},
     "output_type": "execute_result"
    }
   ],
   "source": [
    "# index_col='Unnamed: 0'') 삭제\n",
    "del df['Unnamed: 0']\n",
    "df.head()"
   ]
  },
  {
   "cell_type": "code",
   "execution_count": 4,
   "id": "62f7759c",
   "metadata": {},
   "outputs": [
    {
     "name": "stdout",
     "output_type": "stream",
     "text": [
      "<class 'pandas.core.frame.DataFrame'>\n",
      "Int64Index: 50 entries, 1 to 50\n",
      "Data columns (total 3 columns):\n",
      " #   Column  Non-Null Count  Dtype \n",
      "---  ------  --------------  ----- \n",
      " 0   Cafe    50 non-null     object\n",
      " 1   Menu    50 non-null     object\n",
      " 2   URL     50 non-null     object\n",
      "dtypes: object(3)\n",
      "memory usage: 1.6+ KB\n"
     ]
    }
   ],
   "source": [
    "df.info()"
   ]
  },
  {
   "cell_type": "code",
   "execution_count": 5,
   "id": "afde2a5c",
   "metadata": {},
   "outputs": [
    {
     "data": {
      "text/plain": [
       "'BLT'"
      ]
     },
     "execution_count": 5,
     "metadata": {},
     "output_type": "execute_result"
    }
   ],
   "source": [
    "df['Menu'][1]"
   ]
  },
  {
   "cell_type": "code",
   "execution_count": 6,
   "id": "e31cd830",
   "metadata": {},
   "outputs": [
    {
     "data": {
      "text/plain": [
       "'http://www.chicagomag.com/Chicago-Magazine/November-2012/Best-Sandwiches-in-Chicago-Old-Oak-Tap-BLT/'"
      ]
     },
     "execution_count": 6,
     "metadata": {},
     "output_type": "execute_result"
    }
   ],
   "source": [
    "df['URL'][1]"
   ]
  },
  {
   "cell_type": "markdown",
   "id": "0ea21b20",
   "metadata": {},
   "source": [
    "### # 첫번째 URL 페이지 크롤링하기"
   ]
  },
  {
   "cell_type": "code",
   "execution_count": 7,
   "id": "295293ef",
   "metadata": {},
   "outputs": [],
   "source": [
    "def get_read_web(url):    \n",
    "    req = Request(url, headers={'User-Agent': 'Mozilla/5.0'})\n",
    "    html = urlopen(req).read()\n",
    "    soup = BeautifulSoup(html, \"lxml\")    \n",
    "    return soup"
   ]
  },
  {
   "cell_type": "code",
   "execution_count": 8,
   "id": "48668a99",
   "metadata": {},
   "outputs": [
    {
     "data": {
      "text/plain": [
       "<title>1. Old Oak Tap BLT – Chicago Magazine</title>"
      ]
     },
     "execution_count": 8,
     "metadata": {},
     "output_type": "execute_result"
    }
   ],
   "source": [
    "soup = get_read_web(df['URL'][1])\n",
    "soup.title"
   ]
  },
  {
   "cell_type": "code",
   "execution_count": 9,
   "id": "6650097b",
   "metadata": {},
   "outputs": [
    {
     "data": {
      "text/plain": [
       "<p class=\"addy\">\n",
       "<em>$10. 2109 W. Chicago Ave., 773-772-0406, <a href=\"http://www.theoldoaktap.com/\">theoldoaktap.com</a></em></p>"
      ]
     },
     "execution_count": 9,
     "metadata": {},
     "output_type": "execute_result"
    }
   ],
   "source": [
    "soup.find('p', 'addy')"
   ]
  },
  {
   "cell_type": "code",
   "execution_count": 10,
   "id": "6a92369e",
   "metadata": {},
   "outputs": [
    {
     "data": {
      "text/plain": [
       "'\\n$10. 2109 W. Chicago Ave., 773-772-0406, theoldoaktap.com'"
      ]
     },
     "execution_count": 10,
     "metadata": {},
     "output_type": "execute_result"
    }
   ],
   "source": [
    "taginfo = soup.find('p', 'addy').get_text()\n",
    "taginfo"
   ]
  },
  {
   "cell_type": "code",
   "execution_count": 11,
   "id": "53049b54",
   "metadata": {},
   "outputs": [
    {
     "data": {
      "text/plain": [
       "'$10. 2109 W. Chicago Ave., 773-772-0406, theoldoaktap.com'"
      ]
     },
     "execution_count": 11,
     "metadata": {},
     "output_type": "execute_result"
    }
   ],
   "source": [
    "taginfo = taginfo[taginfo.find('$'):]\n",
    "taginfo"
   ]
  },
  {
   "cell_type": "code",
   "execution_count": null,
   "id": "4d7a0146",
   "metadata": {},
   "outputs": [],
   "source": []
  },
  {
   "cell_type": "code",
   "execution_count": 12,
   "id": "90337b61",
   "metadata": {},
   "outputs": [
    {
     "data": {
      "text/plain": [
       "'$10.'"
      ]
     },
     "execution_count": 12,
     "metadata": {},
     "output_type": "execute_result"
    }
   ],
   "source": [
    "price = re.search('\\$\\d+\\.(\\d+)?', taginfo).group()\n",
    "price"
   ]
  },
  {
   "cell_type": "code",
   "execution_count": 13,
   "id": "e0ef34a2",
   "metadata": {},
   "outputs": [],
   "source": [
    "address = '보류'"
   ]
  },
  {
   "cell_type": "code",
   "execution_count": 14,
   "id": "7bb48a95",
   "metadata": {},
   "outputs": [
    {
     "data": {
      "text/plain": [
       "'773-772-0406'"
      ]
     },
     "execution_count": 14,
     "metadata": {},
     "output_type": "execute_result"
    }
   ],
   "source": [
    "phone = re.search('\\d{3}[-]\\d{3}[-]\\d{4}', taginfo)\n",
    "if phone is not None:\n",
    "    phone = phone.group()\n",
    "phone"
   ]
  },
  {
   "cell_type": "code",
   "execution_count": 15,
   "id": "ab01e348",
   "metadata": {},
   "outputs": [
    {
     "data": {
      "text/plain": [
       "'theoldoaktap.com'"
      ]
     },
     "execution_count": 15,
     "metadata": {},
     "output_type": "execute_result"
    }
   ],
   "source": [
    "infolist = taginfo.split(', ')\n",
    "if infolist[-1].endswith('.com') or infolist[-1].endswith('.net'):\n",
    "    homepage = infolist[-1]\n",
    "else:\n",
    "    homepage = 'No Homepage'\n",
    "homepage"
   ]
  },
  {
   "cell_type": "code",
   "execution_count": 16,
   "id": "5374b3b5",
   "metadata": {},
   "outputs": [
    {
     "data": {
      "text/plain": [
       "' 2109 W. Chicago Ave., '"
      ]
     },
     "execution_count": 16,
     "metadata": {},
     "output_type": "execute_result"
    }
   ],
   "source": [
    "start = len(price)\n",
    "if phone is None:\n",
    "    phone = 'No Contact'\n",
    "    end = taginfo.find(homepage)\n",
    "else:\n",
    "    end = taginfo.find(phone)\n",
    "    \n",
    "address = taginfo[start:end]\n",
    "address"
   ]
  },
  {
   "cell_type": "code",
   "execution_count": null,
   "id": "84fc5971",
   "metadata": {},
   "outputs": [],
   "source": []
  },
  {
   "cell_type": "markdown",
   "id": "95dd0bbd",
   "metadata": {},
   "source": [
    "### 상위 Top3 페이지에서 가격과 주소정보만 읽어오기"
   ]
  },
  {
   "cell_type": "code",
   "execution_count": 17,
   "id": "e1074a3c",
   "metadata": {},
   "outputs": [
    {
     "name": "stdout",
     "output_type": "stream",
     "text": [
      "1\n",
      "2\n",
      "3\n",
      "4\n",
      "5\n"
     ]
    }
   ],
   "source": [
    "Price    = []\n",
    "Address  = []\n",
    "Phone    = []\n",
    "Homepage = []\n",
    "\n",
    "for n in [1,2,3,4,5]:   \n",
    "    # html = urlopen(df['URL'][n])\n",
    "    # soup = BeautifulSoup(html, 'lxml')\n",
    "    soup = get_read_web(df['URL'][n])\n",
    "    \n",
    "    taginfo = soup.find('p', 'addy').get_text()\n",
    "    taginfo = taginfo[taginfo.find('$'):]\n",
    "    \n",
    "    price = re.search('\\$\\d+\\.(\\d+)?', taginfo).group()\n",
    "    \n",
    "    address = '일단보류'    # Street, City\n",
    "    \n",
    "    phone = re.search('\\d{3}[-]\\d{3}[-]\\d{4}', taginfo)\n",
    "    if phone is not None:\n",
    "        phone = phone.group()    \n",
    "        \n",
    "    infolist = taginfo.split(', ')\n",
    "    if infolist[-1].endswith('.com') or infolist[-1].endswith('.net'):\n",
    "        homepage = infolist[-1]\n",
    "    else:\n",
    "        homepage = 'No Homepage'\n",
    "\n",
    "    start = len(price)\n",
    "    if phone is None:\n",
    "        phone = 'No Contact'\n",
    "        end = taginfo.find(homepage)\n",
    "    else:\n",
    "        end = taginfo.find(phone)\n",
    "\n",
    "    address = taginfo[start:end] \n",
    "\n",
    "    Price.append(price)\n",
    "    Address.append(address)\n",
    "    Phone.append(phone)\n",
    "    Homepage.append(homepage)\n",
    "    \n",
    "    print(n)"
   ]
  },
  {
   "cell_type": "code",
   "execution_count": 18,
   "id": "1656902a",
   "metadata": {},
   "outputs": [
    {
     "data": {
      "text/plain": [
       "['$10.', '$9.', '$9.50', '$9.40', '$10.']"
      ]
     },
     "execution_count": 18,
     "metadata": {},
     "output_type": "execute_result"
    }
   ],
   "source": [
    "Price"
   ]
  },
  {
   "cell_type": "code",
   "execution_count": 19,
   "id": "27db7c92",
   "metadata": {},
   "outputs": [
    {
     "data": {
      "text/plain": [
       "[' 2109 W. Chicago Ave., ',\n",
       " ' 800 W. Randolph St., ',\n",
       " '. 445 N. Clark St., ',\n",
       " '. 914 Noyes St., Evanston, ',\n",
       " ' 825 W. Fulton Mkt., ']"
      ]
     },
     "execution_count": 19,
     "metadata": {},
     "output_type": "execute_result"
    }
   ],
   "source": [
    "Address"
   ]
  },
  {
   "cell_type": "code",
   "execution_count": 20,
   "id": "49c07d90",
   "metadata": {},
   "outputs": [
    {
     "data": {
      "text/plain": [
       "['773-772-0406',\n",
       " '312-929-4580',\n",
       " '312-334-3688',\n",
       " '847-475-9400',\n",
       " '312-445-8977']"
      ]
     },
     "execution_count": 20,
     "metadata": {},
     "output_type": "execute_result"
    }
   ],
   "source": [
    "Phone"
   ]
  },
  {
   "cell_type": "code",
   "execution_count": 21,
   "id": "33173e58",
   "metadata": {},
   "outputs": [
    {
     "data": {
      "text/plain": [
       "['theoldoaktap.com',\n",
       " 'aucheval.tumblr.com',\n",
       " 'rickbayless.com',\n",
       " 'alsdeli.net',\n",
       " 'publicanqualitymeats.com']"
      ]
     },
     "execution_count": 21,
     "metadata": {},
     "output_type": "execute_result"
    }
   ],
   "source": [
    "Homepage"
   ]
  },
  {
   "cell_type": "code",
   "execution_count": 22,
   "id": "da153dce",
   "metadata": {},
   "outputs": [
    {
     "data": {
      "text/plain": [
       "'$10'"
      ]
     },
     "execution_count": 22,
     "metadata": {},
     "output_type": "execute_result"
    }
   ],
   "source": [
    "price = Price[0]\n",
    "if price.endswith('.'):\n",
    "    price = price[:-1]\n",
    "price"
   ]
  },
  {
   "cell_type": "code",
   "execution_count": 23,
   "id": "59806c10",
   "metadata": {},
   "outputs": [
    {
     "data": {
      "text/plain": [
       "'445 N. Clark St.'"
      ]
     },
     "execution_count": 23,
     "metadata": {},
     "output_type": "execute_result"
    }
   ],
   "source": [
    "address = Address[2]\n",
    "address = address[:-2]\n",
    "if address.startswith('.'):\n",
    "    address = address[1:]\n",
    "address = address.strip()\n",
    "address"
   ]
  },
  {
   "cell_type": "markdown",
   "id": "80651c17",
   "metadata": {},
   "source": [
    "### 가격과 주소정보를 수정보완"
   ]
  },
  {
   "cell_type": "code",
   "execution_count": 24,
   "id": "aaf5b384",
   "metadata": {},
   "outputs": [
    {
     "name": "stdout",
     "output_type": "stream",
     "text": [
      "1\n",
      "2\n",
      "3\n",
      "4\n",
      "5\n"
     ]
    }
   ],
   "source": [
    "Price    = []\n",
    "Address  = []\n",
    "Phone    = []\n",
    "Homepage = []\n",
    "\n",
    "for n in [1,2,3,4,5]:   \n",
    "    soup = get_read_web(df['URL'][n])\n",
    "    \n",
    "    taginfo = soup.find('p', 'addy').get_text()\n",
    "    taginfo = taginfo[taginfo.find('$'):]\n",
    "    \n",
    "    price = re.search('\\$\\d+\\.(\\d+)?', taginfo).group()\n",
    "    # price update\n",
    "    if price.endswith('.'):\n",
    "        price = price[:-1]\n",
    "        \n",
    "    address = '일단보류'    # Street, City\n",
    "    \n",
    "    phone = re.search('\\d{3}[-]\\d{3}[-]\\d{4}', taginfo)\n",
    "    if phone is not None:\n",
    "        phone = phone.group()    \n",
    "        \n",
    "    infolist = taginfo.split(', ')\n",
    "    if infolist[-1].endswith('.com') or infolist[-1].endswith('.net'):\n",
    "        homepage = infolist[-1]\n",
    "    else:\n",
    "        homepage = 'No Homepage'\n",
    "\n",
    "    start = len(price)\n",
    "    if phone is None:\n",
    "        phone = 'No Contact'\n",
    "        end = taginfo.find(homepage)\n",
    "    else:\n",
    "        end = taginfo.find(phone)\n",
    "\n",
    "    address = taginfo[start:end] \n",
    "    # address update\n",
    "    address = address[:-2]\n",
    "    if address.startswith('.'):\n",
    "        address = address[1:]\n",
    "    address = address.strip()\n",
    "    \n",
    "    Price.append(price)\n",
    "    Address.append(address)\n",
    "    Phone.append(phone)\n",
    "    Homepage.append(homepage)\n",
    "    \n",
    "    print(n)"
   ]
  },
  {
   "cell_type": "code",
   "execution_count": 25,
   "id": "4811438c",
   "metadata": {},
   "outputs": [
    {
     "data": {
      "text/plain": [
       "['$10', '$9', '$9.50', '$9.40', '$10']"
      ]
     },
     "execution_count": 25,
     "metadata": {},
     "output_type": "execute_result"
    }
   ],
   "source": [
    "Price"
   ]
  },
  {
   "cell_type": "code",
   "execution_count": 26,
   "id": "1a9025db",
   "metadata": {},
   "outputs": [
    {
     "data": {
      "text/plain": [
       "['2109 W. Chicago Ave.',\n",
       " '800 W. Randolph St.',\n",
       " '445 N. Clark St.',\n",
       " '914 Noyes St., Evanston',\n",
       " '825 W. Fulton Mkt.']"
      ]
     },
     "execution_count": 26,
     "metadata": {},
     "output_type": "execute_result"
    }
   ],
   "source": [
    "Address"
   ]
  },
  {
   "cell_type": "code",
   "execution_count": null,
   "id": "2c4d00d7",
   "metadata": {},
   "outputs": [],
   "source": []
  },
  {
   "cell_type": "markdown",
   "id": "aa5af20e",
   "metadata": {},
   "source": [
    "### 문제 없다면 정보 다 가져오기"
   ]
  },
  {
   "cell_type": "code",
   "execution_count": 27,
   "id": "97b3ee30",
   "metadata": {},
   "outputs": [
    {
     "name": "stdout",
     "output_type": "stream",
     "text": [
      "webpage crawling...1\n",
      "webpage crawling...2\n",
      "webpage crawling...3\n",
      "webpage crawling...4\n",
      "webpage crawling...5\n",
      "webpage crawling...6\n",
      "webpage crawling...7\n",
      "webpage crawling...8\n",
      "webpage crawling...9\n",
      "webpage crawling...10\n",
      "webpage crawling...11\n",
      "webpage crawling...12\n",
      "webpage crawling...13\n",
      "webpage crawling...14\n",
      "webpage crawling...15\n",
      "webpage crawling...16\n",
      "webpage crawling...17\n",
      "webpage crawling...18\n",
      "webpage crawling...19\n",
      "webpage crawling...20\n",
      "webpage crawling...21\n",
      "webpage crawling...22\n",
      "webpage crawling...23\n",
      "webpage crawling...24\n",
      "webpage crawling...25\n",
      "webpage crawling...26\n",
      "webpage crawling...27\n",
      "webpage crawling...28\n",
      "webpage crawling...29\n",
      "webpage crawling...30\n",
      "webpage crawling...31\n",
      "webpage crawling...32\n",
      "webpage crawling...33\n",
      "webpage crawling...34\n",
      "webpage crawling...35\n",
      "webpage crawling...36\n",
      "webpage crawling...37\n",
      "webpage crawling...38\n",
      "webpage crawling...39\n",
      "webpage crawling...40\n",
      "webpage crawling...41\n",
      "webpage crawling...42\n",
      "webpage crawling...43\n",
      "webpage crawling...44\n",
      "webpage crawling...45\n",
      "webpage crawling...46\n",
      "webpage crawling...47\n",
      "webpage crawling...48\n",
      "webpage crawling...49\n",
      "webpage crawling...50\n"
     ]
    }
   ],
   "source": [
    "Price    = []\n",
    "Address  = []\n",
    "Phone    = []\n",
    "Homepage = []\n",
    "\n",
    "for n in df.index:\n",
    "    soup = get_read_web(df['URL'][n])\n",
    "    \n",
    "    taginfo = soup.find('p', 'addy').get_text()\n",
    "    taginfo = taginfo[taginfo.find('$'):]\n",
    "    \n",
    "    price = re.search('\\$\\d+\\.(\\d+)?', taginfo).group()\n",
    "    # price update\n",
    "    if price.endswith('.'):\n",
    "        price = price[:-1]\n",
    "        \n",
    "    address = '일단보류'    # Street, City\n",
    "    \n",
    "    phone = re.search('\\d{3}[-]\\d{3}[-]\\d{4}', taginfo)\n",
    "    if phone is not None:\n",
    "        phone = phone.group()    \n",
    "        \n",
    "    infolist = taginfo.split(', ')\n",
    "    if infolist[-1].endswith('.com') or infolist[-1].endswith('.net'):\n",
    "        homepage = infolist[-1]\n",
    "    else:\n",
    "        homepage = 'No Homepage'\n",
    "\n",
    "    start = len(price)\n",
    "    if phone is None:\n",
    "        phone = 'No Contact'\n",
    "        end = taginfo.find(homepage)\n",
    "    else:\n",
    "        end = taginfo.find(phone)\n",
    "\n",
    "    address = taginfo[start:end] \n",
    "    # address update\n",
    "    address = address[:-2]\n",
    "    if address.startswith('.'):\n",
    "        address = address[1:]\n",
    "    address = address.strip()\n",
    "    \n",
    "    Price.append(price)\n",
    "    Address.append(address)\n",
    "    Phone.append(phone)\n",
    "    Homepage.append(homepage)\n",
    "    \n",
    "    print('webpage crawling...{}'.format(n))"
   ]
  },
  {
   "cell_type": "code",
   "execution_count": 28,
   "id": "92ff5d2d",
   "metadata": {},
   "outputs": [
    {
     "data": {
      "text/plain": [
       "['$10',\n",
       " '$9',\n",
       " '$9.50',\n",
       " '$9.40',\n",
       " '$10',\n",
       " '$7.25',\n",
       " '$16',\n",
       " '$10',\n",
       " '$9',\n",
       " '$17',\n",
       " '$11',\n",
       " '$5.49',\n",
       " '$14',\n",
       " '$10',\n",
       " '$13',\n",
       " '$4.50',\n",
       " '$11.95',\n",
       " '$11.50',\n",
       " '$6.25',\n",
       " '$15',\n",
       " '$5',\n",
       " '$6',\n",
       " '$8',\n",
       " '$5.99',\n",
       " '$7.52',\n",
       " '$11.95',\n",
       " '$7.50',\n",
       " '$12.95',\n",
       " '$7',\n",
       " '$21',\n",
       " '$9.79',\n",
       " '$9.75',\n",
       " '$13',\n",
       " '$7.95',\n",
       " '$9',\n",
       " '$9',\n",
       " '$8',\n",
       " '$8',\n",
       " '$7',\n",
       " '$6',\n",
       " '$7.25',\n",
       " '$11',\n",
       " '$6',\n",
       " '$9',\n",
       " '$5.49',\n",
       " '$8',\n",
       " '$6.50',\n",
       " '$7.50',\n",
       " '$8.75',\n",
       " '$6.85']"
      ]
     },
     "execution_count": 28,
     "metadata": {},
     "output_type": "execute_result"
    }
   ],
   "source": [
    "Price"
   ]
  },
  {
   "cell_type": "code",
   "execution_count": 29,
   "id": "69967e8d",
   "metadata": {},
   "outputs": [
    {
     "data": {
      "text/plain": [
       "['2109 W. Chicago Ave.',\n",
       " '800 W. Randolph St.',\n",
       " '445 N. Clark St.',\n",
       " '914 Noyes St., Evanston',\n",
       " '825 W. Fulton Mkt.',\n",
       " '100 E. Walton St.',\n",
       " '1639 S. Wabash Ave.',\n",
       " '2211 W. North Ave.',\n",
       " '3619 W. North Ave.',\n",
       " '3267 S. Halsted St.',\n",
       " '2537 N. Kedzie Blvd.',\n",
       " 'Multiple locations',\n",
       " '3124 N. Broadway',\n",
       " '3455 N. Southport Ave.',\n",
       " '2657 N. Kedzie Ave.',\n",
       " '1120 W. Grand Ave.',\n",
       " '1141 S. Jefferson St.',\n",
       " '333 E. Benton Pl.',\n",
       " '1411 N. Wells St.',\n",
       " '1747 N. Damen Ave.',\n",
       " '3209 W. Irving Park Rd.',\n",
       " 'Multiple locations',\n",
       " '5347 N. Clark St.',\n",
       " '2954 W. Irving Park Rd.',\n",
       " 'Multiple locations',\n",
       " '191 Skokie Valley Rd., Highland Park',\n",
       " 'Multiple locations',\n",
       " '1818 W. Wilson Ave.',\n",
       " '2517 W. Division St.',\n",
       " '218 W. Kinzie St.',\n",
       " 'Multiple locations',\n",
       " '1547 N. Wells St.',\n",
       " '415 N. Milwaukee Ave.',\n",
       " '1840 N. Damen Ave.',\n",
       " '1220 W. Webster Ave.',\n",
       " '5357 N. Ashland Ave.',\n",
       " '1834 W. Montrose Ave.',\n",
       " '615 N. State St.',\n",
       " 'Multiple locations',\n",
       " '241 N. York Rd., Elmhurst',\n",
       " '1323 E. 57th St.',\n",
       " '655 Forest Ave., Lake Forest',\n",
       " 'Hotel Lincoln, 1816 N. Clark St.',\n",
       " '100 S. Marion St., Oak Park',\n",
       " '26 E. Congress Pkwy.',\n",
       " '2018 W. Chicago Ave.',\n",
       " '25 E. Delaware Pl.',\n",
       " '416 N. York St., Elmhurst',\n",
       " '65 E. Washington St.',\n",
       " '3351 N. Broadway']"
      ]
     },
     "execution_count": 29,
     "metadata": {},
     "output_type": "execute_result"
    }
   ],
   "source": [
    "Address"
   ]
  },
  {
   "cell_type": "code",
   "execution_count": 30,
   "id": "4eb3fff4",
   "metadata": {},
   "outputs": [
    {
     "data": {
      "text/plain": [
       "['773-772-0406',\n",
       " '312-929-4580',\n",
       " '312-334-3688',\n",
       " '847-475-9400',\n",
       " '312-445-8977',\n",
       " '312-649-6717',\n",
       " '312-360-9500',\n",
       " '773-276-2100',\n",
       " '773-772-8435',\n",
       " '312-929-2486',\n",
       " '773-489-9554',\n",
       " 'No Contact',\n",
       " '773-661-9166',\n",
       " '773-883-2525',\n",
       " '773-276-7110',\n",
       " '312-666-0730',\n",
       " '312-939-2855',\n",
       " '773-234-3449',\n",
       " '312-944-0459',\n",
       " '773-489-1747',\n",
       " '773-539-8038',\n",
       " 'No Contact',\n",
       " '773-275-5725',\n",
       " '773-539-5321',\n",
       " 'No Contact',\n",
       " '847-831-0600',\n",
       " 'No Contact',\n",
       " '773-293-2489',\n",
       " '773-862-8313',\n",
       " '312-624-8154',\n",
       " 'No Contact',\n",
       " '312-624-9430',\n",
       " '312-829-6300',\n",
       " '773-681-9914',\n",
       " '773-883-1313',\n",
       " '773-275-4297',\n",
       " '773-334-5664',\n",
       " '312-265-0434',\n",
       " 'No Contact',\n",
       " '630-516-3354',\n",
       " '773-538-7372',\n",
       " '847-234-8800',\n",
       " '312-254-4665',\n",
       " '708-725-7200',\n",
       " '312-922-2233',\n",
       " '773-384-9930',\n",
       " '312-896-2600',\n",
       " '630-359-5234',\n",
       " '312-726-2020',\n",
       " '773-868-4000']"
      ]
     },
     "execution_count": 30,
     "metadata": {},
     "output_type": "execute_result"
    }
   ],
   "source": [
    "Phone"
   ]
  },
  {
   "cell_type": "code",
   "execution_count": 31,
   "id": "5192325f",
   "metadata": {},
   "outputs": [
    {
     "data": {
      "text/plain": [
       "['theoldoaktap.com',\n",
       " 'aucheval.tumblr.com',\n",
       " 'rickbayless.com',\n",
       " 'alsdeli.net',\n",
       " 'publicanqualitymeats.com',\n",
       " 'No Homepage',\n",
       " 'acadiachicago.com',\n",
       " 'birchwoodkitchen.com',\n",
       " 'cemitaspuebla.com',\n",
       " 'nanaorganic.com',\n",
       " 'lulacafe.com',\n",
       " 'ricobenespizza.com',\n",
       " 'frognsnail.com',\n",
       " 'crosbyskitchenchicago.com',\n",
       " 'longmanandeagle.com',\n",
       " 'bariitaliansubs.com',\n",
       " 'mannysdeli.com',\n",
       " 'eggysdiner.com',\n",
       " 'oldjerusalemchicago.com',\n",
       " 'hotchocolatechicago.com',\n",
       " 'No Homepage',\n",
       " 'dawalikitchen.com',\n",
       " 'bigjoneschicago.com',\n",
       " 'lapanechicago.com',\n",
       " 'pastoralartisan.com',\n",
       " 'maxs-deli.com',\n",
       " 'luckysandwich.com',\n",
       " 'cityprovisions.com',\n",
       " 'papascachesabroso.com',\n",
       " 'No Homepage',\n",
       " 'hannahsbretzel.com',\n",
       " 'lafournette.com',\n",
       " 'paramountroom.com',\n",
       " 'meltsandwichshoppechicago.com',\n",
       " 'floriole.com',\n",
       " 'No Homepage',\n",
       " 'troquetchicago.com',\n",
       " 'grahamwich.com',\n",
       " 'saigonsisters.com',\n",
       " 'rosaliasdeli.com',\n",
       " 'zhmarketcafe.com',\n",
       " 'themarkethouse.com',\n",
       " 'No Homepage',\n",
       " 'marionstreetcheesemarket.com',\n",
       " 'cafecitochicago.com',\n",
       " 'chickpeaonthego.com',\n",
       " 'goddessandgrocer.com',\n",
       " 'eatmyzenwich.com',\n",
       " 'tonipatisserie.com',\n",
       " 'phoebesbakery.com']"
      ]
     },
     "execution_count": 31,
     "metadata": {},
     "output_type": "execute_result"
    }
   ],
   "source": [
    "Homepage"
   ]
  },
  {
   "cell_type": "code",
   "execution_count": 32,
   "id": "1468e404",
   "metadata": {},
   "outputs": [
    {
     "data": {
      "text/plain": [
       "(50, 50, 50, 50, 50)"
      ]
     },
     "execution_count": 32,
     "metadata": {},
     "output_type": "execute_result"
    }
   ],
   "source": [
    "len(df), len(Price), len(Address), len(Phone), len(Homepage)"
   ]
  },
  {
   "cell_type": "code",
   "execution_count": null,
   "id": "ccfc9730",
   "metadata": {},
   "outputs": [],
   "source": []
  },
  {
   "cell_type": "markdown",
   "id": "fe039a7e",
   "metadata": {},
   "source": [
    "### # 기존 데이터에 칼럼(가격, 주소) 추가하기"
   ]
  },
  {
   "cell_type": "code",
   "execution_count": 33,
   "id": "107a7ba5",
   "metadata": {},
   "outputs": [
    {
     "data": {
      "text/html": [
       "<div>\n",
       "<style scoped>\n",
       "    .dataframe tbody tr th:only-of-type {\n",
       "        vertical-align: middle;\n",
       "    }\n",
       "\n",
       "    .dataframe tbody tr th {\n",
       "        vertical-align: top;\n",
       "    }\n",
       "\n",
       "    .dataframe thead th {\n",
       "        text-align: right;\n",
       "    }\n",
       "</style>\n",
       "<table border=\"1\" class=\"dataframe\">\n",
       "  <thead>\n",
       "    <tr style=\"text-align: right;\">\n",
       "      <th></th>\n",
       "      <th>Cafe</th>\n",
       "      <th>Menu</th>\n",
       "      <th>URL</th>\n",
       "      <th>Price</th>\n",
       "    </tr>\n",
       "    <tr>\n",
       "      <th>Rank</th>\n",
       "      <th></th>\n",
       "      <th></th>\n",
       "      <th></th>\n",
       "      <th></th>\n",
       "    </tr>\n",
       "  </thead>\n",
       "  <tbody>\n",
       "    <tr>\n",
       "      <th>1</th>\n",
       "      <td>Old Oak Tap</td>\n",
       "      <td>BLT</td>\n",
       "      <td>http://www.chicagomag.com/Chicago-Magazine/Nov...</td>\n",
       "      <td>$10</td>\n",
       "    </tr>\n",
       "    <tr>\n",
       "      <th>2</th>\n",
       "      <td>Au Cheval</td>\n",
       "      <td>Fried Bologna</td>\n",
       "      <td>http://www.chicagomag.com/Chicago-Magazine/Nov...</td>\n",
       "      <td>$9</td>\n",
       "    </tr>\n",
       "    <tr>\n",
       "      <th>3</th>\n",
       "      <td>Xoco</td>\n",
       "      <td>Woodland Mushroom</td>\n",
       "      <td>http://www.chicagomag.com/Chicago-Magazine/Nov...</td>\n",
       "      <td>$9.50</td>\n",
       "    </tr>\n",
       "    <tr>\n",
       "      <th>4</th>\n",
       "      <td>Al’s Deli</td>\n",
       "      <td>Roast Beef</td>\n",
       "      <td>http://www.chicagomag.com/Chicago-Magazine/Nov...</td>\n",
       "      <td>$9.40</td>\n",
       "    </tr>\n",
       "    <tr>\n",
       "      <th>5</th>\n",
       "      <td>Publican Quality Meats</td>\n",
       "      <td>PB&amp;L</td>\n",
       "      <td>http://www.chicagomag.com/Chicago-Magazine/Nov...</td>\n",
       "      <td>$10</td>\n",
       "    </tr>\n",
       "  </tbody>\n",
       "</table>\n",
       "</div>"
      ],
      "text/plain": [
       "                        Cafe               Menu  \\\n",
       "Rank                                              \n",
       "1                Old Oak Tap                BLT   \n",
       "2                  Au Cheval      Fried Bologna   \n",
       "3                       Xoco  Woodland Mushroom   \n",
       "4                  Al’s Deli         Roast Beef   \n",
       "5     Publican Quality Meats               PB&L   \n",
       "\n",
       "                                                    URL  Price  \n",
       "Rank                                                            \n",
       "1     http://www.chicagomag.com/Chicago-Magazine/Nov...    $10  \n",
       "2     http://www.chicagomag.com/Chicago-Magazine/Nov...     $9  \n",
       "3     http://www.chicagomag.com/Chicago-Magazine/Nov...  $9.50  \n",
       "4     http://www.chicagomag.com/Chicago-Magazine/Nov...  $9.40  \n",
       "5     http://www.chicagomag.com/Chicago-Magazine/Nov...    $10  "
      ]
     },
     "execution_count": 33,
     "metadata": {},
     "output_type": "execute_result"
    }
   ],
   "source": [
    "df['Price'] = Price\n",
    "df.head()"
   ]
  },
  {
   "cell_type": "code",
   "execution_count": 34,
   "id": "53194679",
   "metadata": {},
   "outputs": [
    {
     "data": {
      "text/html": [
       "<div>\n",
       "<style scoped>\n",
       "    .dataframe tbody tr th:only-of-type {\n",
       "        vertical-align: middle;\n",
       "    }\n",
       "\n",
       "    .dataframe tbody tr th {\n",
       "        vertical-align: top;\n",
       "    }\n",
       "\n",
       "    .dataframe thead th {\n",
       "        text-align: right;\n",
       "    }\n",
       "</style>\n",
       "<table border=\"1\" class=\"dataframe\">\n",
       "  <thead>\n",
       "    <tr style=\"text-align: right;\">\n",
       "      <th></th>\n",
       "      <th>Cafe</th>\n",
       "      <th>Menu</th>\n",
       "      <th>URL</th>\n",
       "      <th>Price</th>\n",
       "      <th>Address</th>\n",
       "    </tr>\n",
       "    <tr>\n",
       "      <th>Rank</th>\n",
       "      <th></th>\n",
       "      <th></th>\n",
       "      <th></th>\n",
       "      <th></th>\n",
       "      <th></th>\n",
       "    </tr>\n",
       "  </thead>\n",
       "  <tbody>\n",
       "    <tr>\n",
       "      <th>1</th>\n",
       "      <td>Old Oak Tap</td>\n",
       "      <td>BLT</td>\n",
       "      <td>http://www.chicagomag.com/Chicago-Magazine/Nov...</td>\n",
       "      <td>$10</td>\n",
       "      <td>2109 W. Chicago Ave.</td>\n",
       "    </tr>\n",
       "    <tr>\n",
       "      <th>2</th>\n",
       "      <td>Au Cheval</td>\n",
       "      <td>Fried Bologna</td>\n",
       "      <td>http://www.chicagomag.com/Chicago-Magazine/Nov...</td>\n",
       "      <td>$9</td>\n",
       "      <td>800 W. Randolph St.</td>\n",
       "    </tr>\n",
       "    <tr>\n",
       "      <th>3</th>\n",
       "      <td>Xoco</td>\n",
       "      <td>Woodland Mushroom</td>\n",
       "      <td>http://www.chicagomag.com/Chicago-Magazine/Nov...</td>\n",
       "      <td>$9.50</td>\n",
       "      <td>445 N. Clark St.</td>\n",
       "    </tr>\n",
       "    <tr>\n",
       "      <th>4</th>\n",
       "      <td>Al’s Deli</td>\n",
       "      <td>Roast Beef</td>\n",
       "      <td>http://www.chicagomag.com/Chicago-Magazine/Nov...</td>\n",
       "      <td>$9.40</td>\n",
       "      <td>914 Noyes St., Evanston</td>\n",
       "    </tr>\n",
       "    <tr>\n",
       "      <th>5</th>\n",
       "      <td>Publican Quality Meats</td>\n",
       "      <td>PB&amp;L</td>\n",
       "      <td>http://www.chicagomag.com/Chicago-Magazine/Nov...</td>\n",
       "      <td>$10</td>\n",
       "      <td>825 W. Fulton Mkt.</td>\n",
       "    </tr>\n",
       "  </tbody>\n",
       "</table>\n",
       "</div>"
      ],
      "text/plain": [
       "                        Cafe               Menu  \\\n",
       "Rank                                              \n",
       "1                Old Oak Tap                BLT   \n",
       "2                  Au Cheval      Fried Bologna   \n",
       "3                       Xoco  Woodland Mushroom   \n",
       "4                  Al’s Deli         Roast Beef   \n",
       "5     Publican Quality Meats               PB&L   \n",
       "\n",
       "                                                    URL  Price  \\\n",
       "Rank                                                             \n",
       "1     http://www.chicagomag.com/Chicago-Magazine/Nov...    $10   \n",
       "2     http://www.chicagomag.com/Chicago-Magazine/Nov...     $9   \n",
       "3     http://www.chicagomag.com/Chicago-Magazine/Nov...  $9.50   \n",
       "4     http://www.chicagomag.com/Chicago-Magazine/Nov...  $9.40   \n",
       "5     http://www.chicagomag.com/Chicago-Magazine/Nov...    $10   \n",
       "\n",
       "                      Address  \n",
       "Rank                           \n",
       "1        2109 W. Chicago Ave.  \n",
       "2         800 W. Randolph St.  \n",
       "3            445 N. Clark St.  \n",
       "4     914 Noyes St., Evanston  \n",
       "5          825 W. Fulton Mkt.  "
      ]
     },
     "execution_count": 34,
     "metadata": {},
     "output_type": "execute_result"
    }
   ],
   "source": [
    "df['Address'] = Address\n",
    "df.head()"
   ]
  },
  {
   "cell_type": "code",
   "execution_count": 35,
   "id": "69734b4b",
   "metadata": {},
   "outputs": [
    {
     "data": {
      "text/html": [
       "<div>\n",
       "<style scoped>\n",
       "    .dataframe tbody tr th:only-of-type {\n",
       "        vertical-align: middle;\n",
       "    }\n",
       "\n",
       "    .dataframe tbody tr th {\n",
       "        vertical-align: top;\n",
       "    }\n",
       "\n",
       "    .dataframe thead th {\n",
       "        text-align: right;\n",
       "    }\n",
       "</style>\n",
       "<table border=\"1\" class=\"dataframe\">\n",
       "  <thead>\n",
       "    <tr style=\"text-align: right;\">\n",
       "      <th></th>\n",
       "      <th>Cafe</th>\n",
       "      <th>Menu</th>\n",
       "      <th>URL</th>\n",
       "      <th>Price</th>\n",
       "      <th>Address</th>\n",
       "      <th>Phone</th>\n",
       "    </tr>\n",
       "    <tr>\n",
       "      <th>Rank</th>\n",
       "      <th></th>\n",
       "      <th></th>\n",
       "      <th></th>\n",
       "      <th></th>\n",
       "      <th></th>\n",
       "      <th></th>\n",
       "    </tr>\n",
       "  </thead>\n",
       "  <tbody>\n",
       "    <tr>\n",
       "      <th>1</th>\n",
       "      <td>Old Oak Tap</td>\n",
       "      <td>BLT</td>\n",
       "      <td>http://www.chicagomag.com/Chicago-Magazine/Nov...</td>\n",
       "      <td>$10</td>\n",
       "      <td>2109 W. Chicago Ave.</td>\n",
       "      <td>773-772-0406</td>\n",
       "    </tr>\n",
       "    <tr>\n",
       "      <th>2</th>\n",
       "      <td>Au Cheval</td>\n",
       "      <td>Fried Bologna</td>\n",
       "      <td>http://www.chicagomag.com/Chicago-Magazine/Nov...</td>\n",
       "      <td>$9</td>\n",
       "      <td>800 W. Randolph St.</td>\n",
       "      <td>312-929-4580</td>\n",
       "    </tr>\n",
       "    <tr>\n",
       "      <th>3</th>\n",
       "      <td>Xoco</td>\n",
       "      <td>Woodland Mushroom</td>\n",
       "      <td>http://www.chicagomag.com/Chicago-Magazine/Nov...</td>\n",
       "      <td>$9.50</td>\n",
       "      <td>445 N. Clark St.</td>\n",
       "      <td>312-334-3688</td>\n",
       "    </tr>\n",
       "    <tr>\n",
       "      <th>4</th>\n",
       "      <td>Al’s Deli</td>\n",
       "      <td>Roast Beef</td>\n",
       "      <td>http://www.chicagomag.com/Chicago-Magazine/Nov...</td>\n",
       "      <td>$9.40</td>\n",
       "      <td>914 Noyes St., Evanston</td>\n",
       "      <td>847-475-9400</td>\n",
       "    </tr>\n",
       "    <tr>\n",
       "      <th>5</th>\n",
       "      <td>Publican Quality Meats</td>\n",
       "      <td>PB&amp;L</td>\n",
       "      <td>http://www.chicagomag.com/Chicago-Magazine/Nov...</td>\n",
       "      <td>$10</td>\n",
       "      <td>825 W. Fulton Mkt.</td>\n",
       "      <td>312-445-8977</td>\n",
       "    </tr>\n",
       "  </tbody>\n",
       "</table>\n",
       "</div>"
      ],
      "text/plain": [
       "                        Cafe               Menu  \\\n",
       "Rank                                              \n",
       "1                Old Oak Tap                BLT   \n",
       "2                  Au Cheval      Fried Bologna   \n",
       "3                       Xoco  Woodland Mushroom   \n",
       "4                  Al’s Deli         Roast Beef   \n",
       "5     Publican Quality Meats               PB&L   \n",
       "\n",
       "                                                    URL  Price  \\\n",
       "Rank                                                             \n",
       "1     http://www.chicagomag.com/Chicago-Magazine/Nov...    $10   \n",
       "2     http://www.chicagomag.com/Chicago-Magazine/Nov...     $9   \n",
       "3     http://www.chicagomag.com/Chicago-Magazine/Nov...  $9.50   \n",
       "4     http://www.chicagomag.com/Chicago-Magazine/Nov...  $9.40   \n",
       "5     http://www.chicagomag.com/Chicago-Magazine/Nov...    $10   \n",
       "\n",
       "                      Address         Phone  \n",
       "Rank                                         \n",
       "1        2109 W. Chicago Ave.  773-772-0406  \n",
       "2         800 W. Randolph St.  312-929-4580  \n",
       "3            445 N. Clark St.  312-334-3688  \n",
       "4     914 Noyes St., Evanston  847-475-9400  \n",
       "5          825 W. Fulton Mkt.  312-445-8977  "
      ]
     },
     "execution_count": 35,
     "metadata": {},
     "output_type": "execute_result"
    }
   ],
   "source": [
    "df['Phone'] = Phone\n",
    "df.head()"
   ]
  },
  {
   "cell_type": "code",
   "execution_count": 36,
   "id": "07e169c5",
   "metadata": {},
   "outputs": [
    {
     "data": {
      "text/html": [
       "<div>\n",
       "<style scoped>\n",
       "    .dataframe tbody tr th:only-of-type {\n",
       "        vertical-align: middle;\n",
       "    }\n",
       "\n",
       "    .dataframe tbody tr th {\n",
       "        vertical-align: top;\n",
       "    }\n",
       "\n",
       "    .dataframe thead th {\n",
       "        text-align: right;\n",
       "    }\n",
       "</style>\n",
       "<table border=\"1\" class=\"dataframe\">\n",
       "  <thead>\n",
       "    <tr style=\"text-align: right;\">\n",
       "      <th></th>\n",
       "      <th>Cafe</th>\n",
       "      <th>Menu</th>\n",
       "      <th>URL</th>\n",
       "      <th>Price</th>\n",
       "      <th>Address</th>\n",
       "      <th>Phone</th>\n",
       "      <th>Homepage</th>\n",
       "    </tr>\n",
       "    <tr>\n",
       "      <th>Rank</th>\n",
       "      <th></th>\n",
       "      <th></th>\n",
       "      <th></th>\n",
       "      <th></th>\n",
       "      <th></th>\n",
       "      <th></th>\n",
       "      <th></th>\n",
       "    </tr>\n",
       "  </thead>\n",
       "  <tbody>\n",
       "    <tr>\n",
       "      <th>1</th>\n",
       "      <td>Old Oak Tap</td>\n",
       "      <td>BLT</td>\n",
       "      <td>http://www.chicagomag.com/Chicago-Magazine/Nov...</td>\n",
       "      <td>$10</td>\n",
       "      <td>2109 W. Chicago Ave.</td>\n",
       "      <td>773-772-0406</td>\n",
       "      <td>theoldoaktap.com</td>\n",
       "    </tr>\n",
       "    <tr>\n",
       "      <th>2</th>\n",
       "      <td>Au Cheval</td>\n",
       "      <td>Fried Bologna</td>\n",
       "      <td>http://www.chicagomag.com/Chicago-Magazine/Nov...</td>\n",
       "      <td>$9</td>\n",
       "      <td>800 W. Randolph St.</td>\n",
       "      <td>312-929-4580</td>\n",
       "      <td>aucheval.tumblr.com</td>\n",
       "    </tr>\n",
       "    <tr>\n",
       "      <th>3</th>\n",
       "      <td>Xoco</td>\n",
       "      <td>Woodland Mushroom</td>\n",
       "      <td>http://www.chicagomag.com/Chicago-Magazine/Nov...</td>\n",
       "      <td>$9.50</td>\n",
       "      <td>445 N. Clark St.</td>\n",
       "      <td>312-334-3688</td>\n",
       "      <td>rickbayless.com</td>\n",
       "    </tr>\n",
       "    <tr>\n",
       "      <th>4</th>\n",
       "      <td>Al’s Deli</td>\n",
       "      <td>Roast Beef</td>\n",
       "      <td>http://www.chicagomag.com/Chicago-Magazine/Nov...</td>\n",
       "      <td>$9.40</td>\n",
       "      <td>914 Noyes St., Evanston</td>\n",
       "      <td>847-475-9400</td>\n",
       "      <td>alsdeli.net</td>\n",
       "    </tr>\n",
       "    <tr>\n",
       "      <th>5</th>\n",
       "      <td>Publican Quality Meats</td>\n",
       "      <td>PB&amp;L</td>\n",
       "      <td>http://www.chicagomag.com/Chicago-Magazine/Nov...</td>\n",
       "      <td>$10</td>\n",
       "      <td>825 W. Fulton Mkt.</td>\n",
       "      <td>312-445-8977</td>\n",
       "      <td>publicanqualitymeats.com</td>\n",
       "    </tr>\n",
       "  </tbody>\n",
       "</table>\n",
       "</div>"
      ],
      "text/plain": [
       "                        Cafe               Menu  \\\n",
       "Rank                                              \n",
       "1                Old Oak Tap                BLT   \n",
       "2                  Au Cheval      Fried Bologna   \n",
       "3                       Xoco  Woodland Mushroom   \n",
       "4                  Al’s Deli         Roast Beef   \n",
       "5     Publican Quality Meats               PB&L   \n",
       "\n",
       "                                                    URL  Price  \\\n",
       "Rank                                                             \n",
       "1     http://www.chicagomag.com/Chicago-Magazine/Nov...    $10   \n",
       "2     http://www.chicagomag.com/Chicago-Magazine/Nov...     $9   \n",
       "3     http://www.chicagomag.com/Chicago-Magazine/Nov...  $9.50   \n",
       "4     http://www.chicagomag.com/Chicago-Magazine/Nov...  $9.40   \n",
       "5     http://www.chicagomag.com/Chicago-Magazine/Nov...    $10   \n",
       "\n",
       "                      Address         Phone                  Homepage  \n",
       "Rank                                                                   \n",
       "1        2109 W. Chicago Ave.  773-772-0406          theoldoaktap.com  \n",
       "2         800 W. Randolph St.  312-929-4580       aucheval.tumblr.com  \n",
       "3            445 N. Clark St.  312-334-3688           rickbayless.com  \n",
       "4     914 Noyes St., Evanston  847-475-9400               alsdeli.net  \n",
       "5          825 W. Fulton Mkt.  312-445-8977  publicanqualitymeats.com  "
      ]
     },
     "execution_count": 36,
     "metadata": {},
     "output_type": "execute_result"
    }
   ],
   "source": [
    "df['Homepage'] = Homepage\n",
    "df.head()"
   ]
  },
  {
   "cell_type": "code",
   "execution_count": 37,
   "id": "d22b507d",
   "metadata": {},
   "outputs": [
    {
     "data": {
      "text/plain": [
       "['Cafe', 'Menu', 'URL', 'Price', 'Address', 'Phone', 'Homepage']"
      ]
     },
     "execution_count": 37,
     "metadata": {},
     "output_type": "execute_result"
    }
   ],
   "source": [
    "cols = list(df)\n",
    "cols"
   ]
  },
  {
   "cell_type": "code",
   "execution_count": 38,
   "id": "07aceaa5",
   "metadata": {},
   "outputs": [
    {
     "data": {
      "text/plain": [
       "2"
      ]
     },
     "execution_count": 38,
     "metadata": {},
     "output_type": "execute_result"
    }
   ],
   "source": [
    "cols.index('URL')"
   ]
  },
  {
   "cell_type": "code",
   "execution_count": 39,
   "id": "98e80268",
   "metadata": {},
   "outputs": [
    {
     "data": {
      "text/plain": [
       "'Homepage'"
      ]
     },
     "execution_count": 39,
     "metadata": {},
     "output_type": "execute_result"
    }
   ],
   "source": [
    "cols[6]"
   ]
  },
  {
   "cell_type": "code",
   "execution_count": 40,
   "id": "b30e149f",
   "metadata": {},
   "outputs": [
    {
     "data": {
      "text/plain": [
       "['Cafe', 'Menu', 'Price', 'Address', 'Phone', 'Homepage', 'URL']"
      ]
     },
     "execution_count": 40,
     "metadata": {},
     "output_type": "execute_result"
    }
   ],
   "source": [
    "cols.append(cols.pop(cols.index('URL')))\n",
    "cols"
   ]
  },
  {
   "cell_type": "code",
   "execution_count": 41,
   "id": "7f5777e9",
   "metadata": {},
   "outputs": [
    {
     "data": {
      "text/html": [
       "<div>\n",
       "<style scoped>\n",
       "    .dataframe tbody tr th:only-of-type {\n",
       "        vertical-align: middle;\n",
       "    }\n",
       "\n",
       "    .dataframe tbody tr th {\n",
       "        vertical-align: top;\n",
       "    }\n",
       "\n",
       "    .dataframe thead th {\n",
       "        text-align: right;\n",
       "    }\n",
       "</style>\n",
       "<table border=\"1\" class=\"dataframe\">\n",
       "  <thead>\n",
       "    <tr style=\"text-align: right;\">\n",
       "      <th></th>\n",
       "      <th>Cafe</th>\n",
       "      <th>Menu</th>\n",
       "      <th>URL</th>\n",
       "      <th>Price</th>\n",
       "      <th>Address</th>\n",
       "      <th>Phone</th>\n",
       "      <th>Homepage</th>\n",
       "    </tr>\n",
       "    <tr>\n",
       "      <th>Rank</th>\n",
       "      <th></th>\n",
       "      <th></th>\n",
       "      <th></th>\n",
       "      <th></th>\n",
       "      <th></th>\n",
       "      <th></th>\n",
       "      <th></th>\n",
       "    </tr>\n",
       "  </thead>\n",
       "  <tbody>\n",
       "    <tr>\n",
       "      <th>1</th>\n",
       "      <td>Old Oak Tap</td>\n",
       "      <td>BLT</td>\n",
       "      <td>http://www.chicagomag.com/Chicago-Magazine/Nov...</td>\n",
       "      <td>$10</td>\n",
       "      <td>2109 W. Chicago Ave.</td>\n",
       "      <td>773-772-0406</td>\n",
       "      <td>theoldoaktap.com</td>\n",
       "    </tr>\n",
       "    <tr>\n",
       "      <th>2</th>\n",
       "      <td>Au Cheval</td>\n",
       "      <td>Fried Bologna</td>\n",
       "      <td>http://www.chicagomag.com/Chicago-Magazine/Nov...</td>\n",
       "      <td>$9</td>\n",
       "      <td>800 W. Randolph St.</td>\n",
       "      <td>312-929-4580</td>\n",
       "      <td>aucheval.tumblr.com</td>\n",
       "    </tr>\n",
       "    <tr>\n",
       "      <th>3</th>\n",
       "      <td>Xoco</td>\n",
       "      <td>Woodland Mushroom</td>\n",
       "      <td>http://www.chicagomag.com/Chicago-Magazine/Nov...</td>\n",
       "      <td>$9.50</td>\n",
       "      <td>445 N. Clark St.</td>\n",
       "      <td>312-334-3688</td>\n",
       "      <td>rickbayless.com</td>\n",
       "    </tr>\n",
       "    <tr>\n",
       "      <th>4</th>\n",
       "      <td>Al’s Deli</td>\n",
       "      <td>Roast Beef</td>\n",
       "      <td>http://www.chicagomag.com/Chicago-Magazine/Nov...</td>\n",
       "      <td>$9.40</td>\n",
       "      <td>914 Noyes St., Evanston</td>\n",
       "      <td>847-475-9400</td>\n",
       "      <td>alsdeli.net</td>\n",
       "    </tr>\n",
       "    <tr>\n",
       "      <th>5</th>\n",
       "      <td>Publican Quality Meats</td>\n",
       "      <td>PB&amp;L</td>\n",
       "      <td>http://www.chicagomag.com/Chicago-Magazine/Nov...</td>\n",
       "      <td>$10</td>\n",
       "      <td>825 W. Fulton Mkt.</td>\n",
       "      <td>312-445-8977</td>\n",
       "      <td>publicanqualitymeats.com</td>\n",
       "    </tr>\n",
       "  </tbody>\n",
       "</table>\n",
       "</div>"
      ],
      "text/plain": [
       "                        Cafe               Menu  \\\n",
       "Rank                                              \n",
       "1                Old Oak Tap                BLT   \n",
       "2                  Au Cheval      Fried Bologna   \n",
       "3                       Xoco  Woodland Mushroom   \n",
       "4                  Al’s Deli         Roast Beef   \n",
       "5     Publican Quality Meats               PB&L   \n",
       "\n",
       "                                                    URL  Price  \\\n",
       "Rank                                                             \n",
       "1     http://www.chicagomag.com/Chicago-Magazine/Nov...    $10   \n",
       "2     http://www.chicagomag.com/Chicago-Magazine/Nov...     $9   \n",
       "3     http://www.chicagomag.com/Chicago-Magazine/Nov...  $9.50   \n",
       "4     http://www.chicagomag.com/Chicago-Magazine/Nov...  $9.40   \n",
       "5     http://www.chicagomag.com/Chicago-Magazine/Nov...    $10   \n",
       "\n",
       "                      Address         Phone                  Homepage  \n",
       "Rank                                                                   \n",
       "1        2109 W. Chicago Ave.  773-772-0406          theoldoaktap.com  \n",
       "2         800 W. Randolph St.  312-929-4580       aucheval.tumblr.com  \n",
       "3            445 N. Clark St.  312-334-3688           rickbayless.com  \n",
       "4     914 Noyes St., Evanston  847-475-9400               alsdeli.net  \n",
       "5          825 W. Fulton Mkt.  312-445-8977  publicanqualitymeats.com  "
      ]
     },
     "execution_count": 41,
     "metadata": {},
     "output_type": "execute_result"
    }
   ],
   "source": [
    "df.head()"
   ]
  },
  {
   "cell_type": "markdown",
   "id": "09bdceed",
   "metadata": {},
   "source": [
    "### 컬럼 재정렬 후 데이터 최종 확인"
   ]
  },
  {
   "cell_type": "code",
   "execution_count": 42,
   "id": "46673076",
   "metadata": {},
   "outputs": [
    {
     "data": {
      "text/html": [
       "<div>\n",
       "<style scoped>\n",
       "    .dataframe tbody tr th:only-of-type {\n",
       "        vertical-align: middle;\n",
       "    }\n",
       "\n",
       "    .dataframe tbody tr th {\n",
       "        vertical-align: top;\n",
       "    }\n",
       "\n",
       "    .dataframe thead th {\n",
       "        text-align: right;\n",
       "    }\n",
       "</style>\n",
       "<table border=\"1\" class=\"dataframe\">\n",
       "  <thead>\n",
       "    <tr style=\"text-align: right;\">\n",
       "      <th></th>\n",
       "      <th>Cafe</th>\n",
       "      <th>Menu</th>\n",
       "      <th>Price</th>\n",
       "      <th>Address</th>\n",
       "      <th>Phone</th>\n",
       "      <th>Homepage</th>\n",
       "      <th>URL</th>\n",
       "    </tr>\n",
       "    <tr>\n",
       "      <th>Rank</th>\n",
       "      <th></th>\n",
       "      <th></th>\n",
       "      <th></th>\n",
       "      <th></th>\n",
       "      <th></th>\n",
       "      <th></th>\n",
       "      <th></th>\n",
       "    </tr>\n",
       "  </thead>\n",
       "  <tbody>\n",
       "    <tr>\n",
       "      <th>1</th>\n",
       "      <td>Old Oak Tap</td>\n",
       "      <td>BLT</td>\n",
       "      <td>$10</td>\n",
       "      <td>2109 W. Chicago Ave.</td>\n",
       "      <td>773-772-0406</td>\n",
       "      <td>theoldoaktap.com</td>\n",
       "      <td>http://www.chicagomag.com/Chicago-Magazine/Nov...</td>\n",
       "    </tr>\n",
       "    <tr>\n",
       "      <th>2</th>\n",
       "      <td>Au Cheval</td>\n",
       "      <td>Fried Bologna</td>\n",
       "      <td>$9</td>\n",
       "      <td>800 W. Randolph St.</td>\n",
       "      <td>312-929-4580</td>\n",
       "      <td>aucheval.tumblr.com</td>\n",
       "      <td>http://www.chicagomag.com/Chicago-Magazine/Nov...</td>\n",
       "    </tr>\n",
       "    <tr>\n",
       "      <th>3</th>\n",
       "      <td>Xoco</td>\n",
       "      <td>Woodland Mushroom</td>\n",
       "      <td>$9.50</td>\n",
       "      <td>445 N. Clark St.</td>\n",
       "      <td>312-334-3688</td>\n",
       "      <td>rickbayless.com</td>\n",
       "      <td>http://www.chicagomag.com/Chicago-Magazine/Nov...</td>\n",
       "    </tr>\n",
       "    <tr>\n",
       "      <th>4</th>\n",
       "      <td>Al’s Deli</td>\n",
       "      <td>Roast Beef</td>\n",
       "      <td>$9.40</td>\n",
       "      <td>914 Noyes St., Evanston</td>\n",
       "      <td>847-475-9400</td>\n",
       "      <td>alsdeli.net</td>\n",
       "      <td>http://www.chicagomag.com/Chicago-Magazine/Nov...</td>\n",
       "    </tr>\n",
       "    <tr>\n",
       "      <th>5</th>\n",
       "      <td>Publican Quality Meats</td>\n",
       "      <td>PB&amp;L</td>\n",
       "      <td>$10</td>\n",
       "      <td>825 W. Fulton Mkt.</td>\n",
       "      <td>312-445-8977</td>\n",
       "      <td>publicanqualitymeats.com</td>\n",
       "      <td>http://www.chicagomag.com/Chicago-Magazine/Nov...</td>\n",
       "    </tr>\n",
       "  </tbody>\n",
       "</table>\n",
       "</div>"
      ],
      "text/plain": [
       "                        Cafe               Menu  Price  \\\n",
       "Rank                                                     \n",
       "1                Old Oak Tap                BLT    $10   \n",
       "2                  Au Cheval      Fried Bologna     $9   \n",
       "3                       Xoco  Woodland Mushroom  $9.50   \n",
       "4                  Al’s Deli         Roast Beef  $9.40   \n",
       "5     Publican Quality Meats               PB&L    $10   \n",
       "\n",
       "                      Address         Phone                  Homepage  \\\n",
       "Rank                                                                    \n",
       "1        2109 W. Chicago Ave.  773-772-0406          theoldoaktap.com   \n",
       "2         800 W. Randolph St.  312-929-4580       aucheval.tumblr.com   \n",
       "3            445 N. Clark St.  312-334-3688           rickbayless.com   \n",
       "4     914 Noyes St., Evanston  847-475-9400               alsdeli.net   \n",
       "5          825 W. Fulton Mkt.  312-445-8977  publicanqualitymeats.com   \n",
       "\n",
       "                                                    URL  \n",
       "Rank                                                     \n",
       "1     http://www.chicagomag.com/Chicago-Magazine/Nov...  \n",
       "2     http://www.chicagomag.com/Chicago-Magazine/Nov...  \n",
       "3     http://www.chicagomag.com/Chicago-Magazine/Nov...  \n",
       "4     http://www.chicagomag.com/Chicago-Magazine/Nov...  \n",
       "5     http://www.chicagomag.com/Chicago-Magazine/Nov...  "
      ]
     },
     "execution_count": 42,
     "metadata": {},
     "output_type": "execute_result"
    }
   ],
   "source": [
    "df = df.loc[:, cols]\n",
    "df.head()"
   ]
  },
  {
   "cell_type": "code",
   "execution_count": 43,
   "id": "5813ea39",
   "metadata": {},
   "outputs": [
    {
     "name": "stdout",
     "output_type": "stream",
     "text": [
      "<class 'pandas.core.frame.DataFrame'>\n",
      "Int64Index: 50 entries, 1 to 50\n",
      "Data columns (total 7 columns):\n",
      " #   Column    Non-Null Count  Dtype \n",
      "---  ------    --------------  ----- \n",
      " 0   Cafe      50 non-null     object\n",
      " 1   Menu      50 non-null     object\n",
      " 2   Price     50 non-null     object\n",
      " 3   Address   50 non-null     object\n",
      " 4   Phone     50 non-null     object\n",
      " 5   Homepage  50 non-null     object\n",
      " 6   URL       50 non-null     object\n",
      "dtypes: object(7)\n",
      "memory usage: 5.2+ KB\n"
     ]
    }
   ],
   "source": [
    "df.info()"
   ]
  },
  {
   "cell_type": "markdown",
   "id": "56e5f4da",
   "metadata": {},
   "source": [
    "### 추가 변경작업한 데이터 -> 파일로 저장"
   ]
  },
  {
   "cell_type": "code",
   "execution_count": 44,
   "id": "4c0dbf4a",
   "metadata": {},
   "outputs": [],
   "source": [
    "df.to_csv('data/chicagomag_info_v2.csv', sep = ',', encoding = 'UTF-8')"
   ]
  },
  {
   "cell_type": "code",
   "execution_count": 46,
   "id": "ed3d50e8",
   "metadata": {},
   "outputs": [
    {
     "name": "stdout",
     "output_type": "stream",
     "text": [
      " C 드라이브의 볼륨에는 이름이 없습니다.\n",
      " 볼륨 일련 번호: 78D5-6279\n",
      "\n",
      " C:\\Users\\student\\Anaconda_src\\S11_웹크롤링\\data 디렉터리\n",
      "\n",
      "2022-06-08  오후 02:02             7,715 chicagomag_info.csv\n",
      "2022-06-08  오후 03:08            10,444 chicagomag_info_v2.csv\n",
      "               2개 파일              18,159 바이트\n",
      "               0개 디렉터리  204,807,356,416 바이트 남음\n"
     ]
    }
   ],
   "source": [
    "%ls data\\c*.csv"
   ]
  },
  {
   "cell_type": "code",
   "execution_count": null,
   "id": "82e52031",
   "metadata": {},
   "outputs": [],
   "source": []
  }
 ],
 "metadata": {
  "kernelspec": {
   "display_name": "Python 3 (ipykernel)",
   "language": "python",
   "name": "python3"
  },
  "language_info": {
   "codemirror_mode": {
    "name": "ipython",
    "version": 3
   },
   "file_extension": ".py",
   "mimetype": "text/x-python",
   "name": "python",
   "nbconvert_exporter": "python",
   "pygments_lexer": "ipython3",
   "version": "3.9.12"
  }
 },
 "nbformat": 4,
 "nbformat_minor": 5
}
