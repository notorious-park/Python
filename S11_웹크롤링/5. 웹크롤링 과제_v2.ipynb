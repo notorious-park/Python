{
 "cells": [
  {
   "cell_type": "markdown",
   "id": "baf5f8d0",
   "metadata": {},
   "source": [
    "# 웹 크롤링 1/2\n",
    "### 웹 페이지에서 필요한 정보 파싱\n",
    "- The 50 Best Sandwiches in Chicago\n",
    "- 리스트 가져오기\n",
    "- 각각에 연결된 가격과 주소정보 가져오기\n",
    "- 가게들의 주소를 지도에 맵핑"
   ]
  },
  {
   "cell_type": "markdown",
   "id": "821655e7",
   "metadata": {},
   "source": [
    "### Beautiful Soup : 웹페이지를 읽어오는 가장 보편적인 패키지"
   ]
  },
  {
   "cell_type": "code",
   "execution_count": 91,
   "id": "2ec0389e",
   "metadata": {},
   "outputs": [],
   "source": [
    "from bs4 import BeautifulSoup \n",
    "from urllib.request import Request, urlopen"
   ]
  },
  {
   "cell_type": "code",
   "execution_count": 92,
   "id": "a4c86573",
   "metadata": {},
   "outputs": [],
   "source": [
    "# 구글에서 '50 Best Sandwiches' 검색\n",
    "url = 'https://www.chicagomag.com/Chicago-Magazine/November-2012/Best-Sandwiches-Chicago/'\n",
    "# html = urlopen(url)\n",
    "# soup = BeautifulSoup(html, \"lxml\")"
   ]
  },
  {
   "cell_type": "code",
   "execution_count": 93,
   "id": "f9886487",
   "metadata": {},
   "outputs": [],
   "source": [
    "req = Request(url, headers={'User-Agent': 'Mozilla/5.0'})\n",
    "html = urlopen(req).read()\n",
    "soup = BeautifulSoup(html, \"lxml\")"
   ]
  },
  {
   "cell_type": "code",
   "execution_count": 94,
   "id": "15bb4931",
   "metadata": {},
   "outputs": [
    {
     "data": {
      "text/plain": [
       "<title>The 50 Best Sandwiches in Chicago – Chicago Magazine</title>"
      ]
     },
     "execution_count": 94,
     "metadata": {},
     "output_type": "execute_result"
    }
   ],
   "source": [
    "html_title = soup.title\n",
    "html_title"
   ]
  },
  {
   "cell_type": "code",
   "execution_count": 95,
   "id": "95c64a7f",
   "metadata": {},
   "outputs": [
    {
     "data": {
      "text/plain": [
       "'title'"
      ]
     },
     "execution_count": 95,
     "metadata": {},
     "output_type": "execute_result"
    }
   ],
   "source": [
    "tag_name = soup.title.name\n",
    "tag_name"
   ]
  },
  {
   "cell_type": "code",
   "execution_count": 96,
   "id": "6f610b64",
   "metadata": {},
   "outputs": [
    {
     "data": {
      "text/plain": [
       "'head'"
      ]
     },
     "execution_count": 96,
     "metadata": {},
     "output_type": "execute_result"
    }
   ],
   "source": [
    "p_tag_name = soup.title.parent.name\n",
    "p_tag_name"
   ]
  },
  {
   "cell_type": "code",
   "execution_count": 97,
   "id": "ee20b44e",
   "metadata": {},
   "outputs": [
    {
     "data": {
      "text/plain": [
       "'The 50 Best Sandwiches in Chicago – Chicago Magazine'"
      ]
     },
     "execution_count": 97,
     "metadata": {},
     "output_type": "execute_result"
    }
   ],
   "source": [
    "tag_text = soup.title.string\n",
    "tag_text"
   ]
  },
  {
   "cell_type": "code",
   "execution_count": 98,
   "id": "b7cfd082",
   "metadata": {},
   "outputs": [
    {
     "data": {
      "text/plain": [
       "'The 50 Best Sandwiches in Chicago – Chicago Magazine'"
      ]
     },
     "execution_count": 98,
     "metadata": {},
     "output_type": "execute_result"
    }
   ],
   "source": [
    "soup.title.getText()"
   ]
  },
  {
   "cell_type": "code",
   "execution_count": 99,
   "id": "6ae8161d",
   "metadata": {},
   "outputs": [
    {
     "data": {
      "text/plain": [
       "'The 50 Best Sandwiches in Chicago – Chicago Magazine'"
      ]
     },
     "execution_count": 99,
     "metadata": {},
     "output_type": "execute_result"
    }
   ],
   "source": [
    "soup.title.get_text()"
   ]
  },
  {
   "cell_type": "code",
   "execution_count": 100,
   "id": "5408fdd8",
   "metadata": {},
   "outputs": [
    {
     "name": "stdout",
     "output_type": "stream",
     "text": [
      "The 50 Best Sandwiches in Chicago – Chicago Magazine\n"
     ]
    }
   ],
   "source": [
    "print(tag_text)"
   ]
  },
  {
   "cell_type": "code",
   "execution_count": 101,
   "id": "aa79086e",
   "metadata": {},
   "outputs": [
    {
     "data": {
      "text/plain": [
       "<div class=\"grid-toggle-wrap\"><a class=\"grid-toggle\">.</a></div>"
      ]
     },
     "execution_count": 101,
     "metadata": {},
     "output_type": "execute_result"
    }
   ],
   "source": [
    "soup.div"
   ]
  },
  {
   "cell_type": "code",
   "execution_count": 102,
   "id": "c31bfafa",
   "metadata": {},
   "outputs": [],
   "source": [
    "div_tags = soup.find_all('div')"
   ]
  },
  {
   "cell_type": "code",
   "execution_count": 103,
   "id": "da218e34",
   "metadata": {},
   "outputs": [
    {
     "data": {
      "text/plain": [
       "258"
      ]
     },
     "execution_count": 103,
     "metadata": {},
     "output_type": "execute_result"
    }
   ],
   "source": [
    "len(div_tags)"
   ]
  },
  {
   "cell_type": "code",
   "execution_count": 104,
   "id": "b7d8b4ab",
   "metadata": {},
   "outputs": [
    {
     "data": {
      "text/plain": [
       "<div class=\"grid-toggle-wrap\"><a class=\"grid-toggle\">.</a></div>"
      ]
     },
     "execution_count": 104,
     "metadata": {},
     "output_type": "execute_result"
    }
   ],
   "source": [
    "div_tags[0]"
   ]
  },
  {
   "cell_type": "code",
   "execution_count": 105,
   "id": "7c5203cb",
   "metadata": {},
   "outputs": [
    {
     "data": {
      "text/plain": [
       "bs4.element.ResultSet"
      ]
     },
     "execution_count": 105,
     "metadata": {},
     "output_type": "execute_result"
    }
   ],
   "source": [
    "type(div_tags)"
   ]
  },
  {
   "cell_type": "code",
   "execution_count": 106,
   "id": "a9feeae1",
   "metadata": {},
   "outputs": [],
   "source": [
    "# print(soup.find_all('div', 'sammy'))"
   ]
  },
  {
   "cell_type": "code",
   "execution_count": 107,
   "id": "9457ad25",
   "metadata": {},
   "outputs": [
    {
     "data": {
      "text/plain": [
       "50"
      ]
     },
     "execution_count": 107,
     "metadata": {},
     "output_type": "execute_result"
    }
   ],
   "source": [
    "len(soup.find_all('div', 'sammy'))"
   ]
  },
  {
   "cell_type": "code",
   "execution_count": 108,
   "id": "0c362eaa",
   "metadata": {},
   "outputs": [],
   "source": [
    "# print(soup.find_all('div', 'sammyListing'))"
   ]
  },
  {
   "cell_type": "code",
   "execution_count": 109,
   "id": "1f9fb964",
   "metadata": {},
   "outputs": [],
   "source": [
    "# print(soup.find_all('div', 'sammyRank'))"
   ]
  },
  {
   "cell_type": "code",
   "execution_count": 110,
   "id": "572dc236",
   "metadata": {},
   "outputs": [
    {
     "data": {
      "text/plain": [
       "'1'"
      ]
     },
     "execution_count": 110,
     "metadata": {},
     "output_type": "execute_result"
    }
   ],
   "source": [
    "tmp = soup.find_all('div', 'sammyRank')\n",
    "tmp[0].get_text()"
   ]
  },
  {
   "cell_type": "code",
   "execution_count": 111,
   "id": "a7aaec4e",
   "metadata": {},
   "outputs": [
    {
     "data": {
      "text/plain": [
       "<div class=\"sammy\" style=\"position: relative;\">\n",
       "<div class=\"sammyRank\">1</div>\n",
       "<div class=\"sammyListing\"><a href=\"/Chicago-Magazine/November-2012/Best-Sandwiches-in-Chicago-Old-Oak-Tap-BLT/\"><b>BLT</b><br/>\n",
       "Old Oak Tap<br/>\n",
       "<em>Read more</em> </a></div>\n",
       "</div>"
      ]
     },
     "execution_count": 111,
     "metadata": {},
     "output_type": "execute_result"
    }
   ],
   "source": [
    "listOfsoup = soup.find_all('div', 'sammy')\n",
    "listOfsoup[0]"
   ]
  },
  {
   "cell_type": "code",
   "execution_count": 112,
   "id": "0cb11334",
   "metadata": {},
   "outputs": [
    {
     "data": {
      "text/plain": [
       "<div class=\"sammyRank\">50</div>"
      ]
     },
     "execution_count": 112,
     "metadata": {},
     "output_type": "execute_result"
    }
   ],
   "source": [
    "###\n",
    "item.find('div', 'sammyRank')"
   ]
  },
  {
   "cell_type": "code",
   "execution_count": 113,
   "id": "f0228ea5",
   "metadata": {},
   "outputs": [
    {
     "data": {
      "text/plain": [
       "['1', '2', '3', '4', '5', '6', '7', '8', '9', '10']"
      ]
     },
     "execution_count": 113,
     "metadata": {},
     "output_type": "execute_result"
    }
   ],
   "source": [
    "rank = []\n",
    "\n",
    "for item in listOfsoup:\n",
    "    rank.append(item.find('div', 'sammyRank').get_text())\n",
    "    \n",
    "rank[:10]"
   ]
  },
  {
   "cell_type": "code",
   "execution_count": 114,
   "id": "78ceb8e3",
   "metadata": {},
   "outputs": [
    {
     "data": {
      "text/plain": [
       "'Fried Bologna\\nAu Cheval\\nRead more '"
      ]
     },
     "execution_count": 114,
     "metadata": {},
     "output_type": "execute_result"
    }
   ],
   "source": [
    "listOfsoup[1].find(\"a\").get_text()"
   ]
  },
  {
   "cell_type": "code",
   "execution_count": 115,
   "id": "99582170",
   "metadata": {},
   "outputs": [
    {
     "data": {
      "text/plain": [
       "'/Chicago-Magazine/November-2012/Best-Sandwiches-in-Chicago-Old-Oak-Tap-BLT/'"
      ]
     },
     "execution_count": 115,
     "metadata": {},
     "output_type": "execute_result"
    }
   ],
   "source": [
    "listOfsoup[0].find(\"a\")['href']"
   ]
  },
  {
   "cell_type": "markdown",
   "id": "fab2fc24",
   "metadata": {},
   "source": [
    "### 정규식 : Regular Expresion 모듈"
   ]
  },
  {
   "cell_type": "code",
   "execution_count": 34,
   "id": "00d52a48",
   "metadata": {},
   "outputs": [],
   "source": [
    "import re"
   ]
  },
  {
   "cell_type": "code",
   "execution_count": 67,
   "id": "daad290d",
   "metadata": {},
   "outputs": [
    {
     "data": {
      "text/plain": [
       "'BLT\\nOld Oak Tap\\nRead more '"
      ]
     },
     "execution_count": 67,
     "metadata": {},
     "output_type": "execute_result"
    }
   ],
   "source": [
    "tmpString = str(listOfsoup[0].find(\"a\").get_text())\n",
    "tmpString"
   ]
  },
  {
   "cell_type": "markdown",
   "id": "7e9f068e",
   "metadata": {},
   "source": [
    "### # \\n or \\r\\n 으로 들어가는 부분을 구분"
   ]
  },
  {
   "cell_type": "code",
   "execution_count": 68,
   "id": "593e3f2d",
   "metadata": {},
   "outputs": [
    {
     "data": {
      "text/plain": [
       "['BLT', 'Old Oak Tap', 'Read more ']"
      ]
     },
     "execution_count": 68,
     "metadata": {},
     "output_type": "execute_result"
    }
   ],
   "source": [
    "re.split(('\\n|\\r\\n'), tmpString)"
   ]
  },
  {
   "cell_type": "code",
   "execution_count": 69,
   "id": "d607b44f",
   "metadata": {},
   "outputs": [
    {
     "data": {
      "text/plain": [
       "'BLT'"
      ]
     },
     "execution_count": 69,
     "metadata": {},
     "output_type": "execute_result"
    }
   ],
   "source": [
    "re.split(('\\n|\\r\\n'), tmpString)[0]"
   ]
  },
  {
   "cell_type": "code",
   "execution_count": 70,
   "id": "700c6c4a",
   "metadata": {},
   "outputs": [
    {
     "data": {
      "text/plain": [
       "'Old Oak Tap'"
      ]
     },
     "execution_count": 70,
     "metadata": {},
     "output_type": "execute_result"
    }
   ],
   "source": [
    "re.split(('\\n|\\r\\n'), tmpString)[1]"
   ]
  },
  {
   "cell_type": "code",
   "execution_count": 71,
   "id": "b622e492",
   "metadata": {},
   "outputs": [
    {
     "data": {
      "text/plain": [
       "'https://www.chicagomag.com/Chicago-Magazine/November-2012/Best-Sandwiches-in-Chicago-Lula-Cafe-Ham-and-Raclette-Panino/'"
      ]
     },
     "execution_count": 71,
     "metadata": {},
     "output_type": "execute_result"
    }
   ],
   "source": [
    "listOfsoup[10].find(\"a\")[\"href\"]"
   ]
  },
  {
   "cell_type": "code",
   "execution_count": 120,
   "id": "979bd0fa",
   "metadata": {},
   "outputs": [],
   "source": [
    "rank = []\n",
    "mainMenu = []\n",
    "cafeName = []\n",
    "urlAdd   = []\n",
    "\n",
    "for item in listOfsoup:\n",
    "    rank.append(item.find('div', 'sammyRank').get_text())\n",
    "    \n",
    "    tmpString = str(item.find(\"a\").get_text())\n",
    "#     print(tmpString)\n",
    "    mainMenu.append(re.split(('\\n|\\r\\n'), tmpString)[0])\n",
    "    cafeName.append(re.split(('\\n|\\r\\n'), tmpString)[1])\n",
    "    \n",
    "    urlAdd.append(item.find(\"a\")[\"href\"])"
   ]
  },
  {
   "cell_type": "code",
   "execution_count": 73,
   "id": "708f3565",
   "metadata": {},
   "outputs": [
    {
     "data": {
      "text/plain": [
       "['1', '2', '3', '4', '5']"
      ]
     },
     "execution_count": 73,
     "metadata": {},
     "output_type": "execute_result"
    }
   ],
   "source": [
    "rank[:5]"
   ]
  },
  {
   "cell_type": "code",
   "execution_count": 74,
   "id": "039b8641",
   "metadata": {},
   "outputs": [
    {
     "data": {
      "text/plain": [
       "['BLT', 'Fried Bologna', 'Woodland Mushroom', 'Roast Beef', 'PB&L']"
      ]
     },
     "execution_count": 74,
     "metadata": {},
     "output_type": "execute_result"
    }
   ],
   "source": [
    "mainMenu[:5]"
   ]
  },
  {
   "cell_type": "code",
   "execution_count": 75,
   "id": "8bcc0772",
   "metadata": {},
   "outputs": [
    {
     "data": {
      "text/plain": [
       "['Old Oak Tap', 'Au Cheval', 'Xoco', 'Al’s Deli', 'Publican Quality Meats']"
      ]
     },
     "execution_count": 75,
     "metadata": {},
     "output_type": "execute_result"
    }
   ],
   "source": [
    "cafeName[:5]"
   ]
  },
  {
   "cell_type": "code",
   "execution_count": 76,
   "id": "7b5df247",
   "metadata": {},
   "outputs": [
    {
     "data": {
      "text/plain": [
       "['/Chicago-Magazine/November-2012/Best-Sandwiches-in-Chicago-Old-Oak-Tap-BLT/',\n",
       " '/Chicago-Magazine/November-2012/Best-Sandwiches-in-Chicago-Au-Cheval-Fried-Bologna/',\n",
       " '/Chicago-Magazine/November-2012/Best-Sandwiches-in-Chicago-Xoco-Woodland-Mushroom/',\n",
       " '/Chicago-Magazine/November-2012/Best-Sandwiches-in-Chicago-Als-Deli-Roast-Beef/',\n",
       " '/Chicago-Magazine/November-2012/Best-Sandwiches-in-Chicago-Publican-Quality-Meats-PB-L/',\n",
       " 'https://www.chicagomag.com/Chicago-Magazine/November-2012/Best-Sandwiches-in-Chicago-Hendrickx-Belgian-Bread-Crafter-Belgian-Chicken-Curry-Salad/',\n",
       " '/Chicago-Magazine/November-2012/Best-Sandwiches-in-Chicago-Acadia-Lobster-Roll/',\n",
       " '/Chicago-Magazine/November-2012/Best-Sandwiches-in-Chicago-Birchwood-Kitchen-Smoked-Salmon-Salad/',\n",
       " '/Chicago-Magazine/November-2012/Best-Sandwiches-in-Chicago-Cemitas-Puebla-Atomica-Cemitas/',\n",
       " '/Chicago-Magazine/November-2012/Best-Sandwiches-in-Chicago-Nana-Grilled-Laughing-Bird-Shrimp-and-Fried-Oyster-Po-Boy/']"
      ]
     },
     "execution_count": 76,
     "metadata": {},
     "output_type": "execute_result"
    }
   ],
   "source": [
    "urlAdd[:10]"
   ]
  },
  {
   "cell_type": "code",
   "execution_count": 45,
   "id": "1fa9df6a",
   "metadata": {},
   "outputs": [
    {
     "data": {
      "text/plain": [
       "'http'"
      ]
     },
     "execution_count": 45,
     "metadata": {},
     "output_type": "execute_result"
    }
   ],
   "source": [
    "urlAdd[5][:4]"
   ]
  },
  {
   "cell_type": "code",
   "execution_count": 46,
   "id": "d184206f",
   "metadata": {},
   "outputs": [],
   "source": [
    "rank = []\n",
    "\n",
    "mainMenu = []\n",
    "cafeName = []\n",
    "urlAdd   = []\n",
    "\n",
    "for item in listOfsoup:\n",
    "    rank.append(item.find('div', 'sammyRank').get_text())\n",
    "    \n",
    "    tmpString = str(item.find(\"a\").get_text())\n",
    "    tmp = [tmpLine for tmpLine in re.split(('\\n|\\r\\n'), tmpString)]\n",
    "    mainMenu.append(tmp[0])\n",
    "    cafeName.append(tmp[1])\n",
    "    \n",
    "    tmp2 = item.find(\"a\")[\"href\"]\n",
    "    if tmp2[:4] != 'http':\n",
    "        urlAdd.append('http://www.chicagomag.com'+item.find(\"a\")[\"href\"])\n",
    "    else :\n",
    "        urlAdd.append(item.find(\"a\")[\"href\"])"
   ]
  },
  {
   "cell_type": "markdown",
   "id": "4b3b51a8",
   "metadata": {},
   "source": [
    "### # 가져온 데이터를 데이터프레임으로 정라한 후, 파일로 저장하기"
   ]
  },
  {
   "cell_type": "code",
   "execution_count": 47,
   "id": "47bc9256",
   "metadata": {},
   "outputs": [],
   "source": [
    "import pandas as pd\n",
    "\n",
    "data = {'Rank':rank, 'Menu':mainMenu, 'Cafe':cafeName, 'URL':urlAdd}\n",
    "df = pd.DataFrame(data)"
   ]
  },
  {
   "cell_type": "code",
   "execution_count": 48,
   "id": "be2ded75",
   "metadata": {},
   "outputs": [
    {
     "data": {
      "text/html": [
       "<div>\n",
       "<style scoped>\n",
       "    .dataframe tbody tr th:only-of-type {\n",
       "        vertical-align: middle;\n",
       "    }\n",
       "\n",
       "    .dataframe tbody tr th {\n",
       "        vertical-align: top;\n",
       "    }\n",
       "\n",
       "    .dataframe thead th {\n",
       "        text-align: right;\n",
       "    }\n",
       "</style>\n",
       "<table border=\"1\" class=\"dataframe\">\n",
       "  <thead>\n",
       "    <tr style=\"text-align: right;\">\n",
       "      <th></th>\n",
       "      <th>Rank</th>\n",
       "      <th>Menu</th>\n",
       "      <th>Cafe</th>\n",
       "      <th>URL</th>\n",
       "    </tr>\n",
       "  </thead>\n",
       "  <tbody>\n",
       "    <tr>\n",
       "      <th>0</th>\n",
       "      <td>1</td>\n",
       "      <td>BLT</td>\n",
       "      <td>Old Oak Tap</td>\n",
       "      <td>http://www.chicagomag.com/Chicago-Magazine/Nov...</td>\n",
       "    </tr>\n",
       "    <tr>\n",
       "      <th>1</th>\n",
       "      <td>2</td>\n",
       "      <td>Fried Bologna</td>\n",
       "      <td>Au Cheval</td>\n",
       "      <td>http://www.chicagomag.com/Chicago-Magazine/Nov...</td>\n",
       "    </tr>\n",
       "    <tr>\n",
       "      <th>2</th>\n",
       "      <td>3</td>\n",
       "      <td>Woodland Mushroom</td>\n",
       "      <td>Xoco</td>\n",
       "      <td>http://www.chicagomag.com/Chicago-Magazine/Nov...</td>\n",
       "    </tr>\n",
       "    <tr>\n",
       "      <th>3</th>\n",
       "      <td>4</td>\n",
       "      <td>Roast Beef</td>\n",
       "      <td>Al’s Deli</td>\n",
       "      <td>http://www.chicagomag.com/Chicago-Magazine/Nov...</td>\n",
       "    </tr>\n",
       "    <tr>\n",
       "      <th>4</th>\n",
       "      <td>5</td>\n",
       "      <td>PB&amp;L</td>\n",
       "      <td>Publican Quality Meats</td>\n",
       "      <td>http://www.chicagomag.com/Chicago-Magazine/Nov...</td>\n",
       "    </tr>\n",
       "    <tr>\n",
       "      <th>5</th>\n",
       "      <td>6</td>\n",
       "      <td>Belgian Chicken Curry Salad</td>\n",
       "      <td>Hendrickx Belgian Bread Crafter</td>\n",
       "      <td>https://www.chicagomag.com/Chicago-Magazine/No...</td>\n",
       "    </tr>\n",
       "    <tr>\n",
       "      <th>6</th>\n",
       "      <td>7</td>\n",
       "      <td>Lobster Roll</td>\n",
       "      <td>Acadia</td>\n",
       "      <td>http://www.chicagomag.com/Chicago-Magazine/Nov...</td>\n",
       "    </tr>\n",
       "    <tr>\n",
       "      <th>7</th>\n",
       "      <td>8</td>\n",
       "      <td>Smoked Salmon Salad</td>\n",
       "      <td>Birchwood Kitchen</td>\n",
       "      <td>http://www.chicagomag.com/Chicago-Magazine/Nov...</td>\n",
       "    </tr>\n",
       "    <tr>\n",
       "      <th>8</th>\n",
       "      <td>9</td>\n",
       "      <td>Atomica Cemitas</td>\n",
       "      <td>Cemitas Puebla</td>\n",
       "      <td>http://www.chicagomag.com/Chicago-Magazine/Nov...</td>\n",
       "    </tr>\n",
       "    <tr>\n",
       "      <th>9</th>\n",
       "      <td>10</td>\n",
       "      <td>Grilled Laughing Bird Shrimp and Fried Po’ Boy</td>\n",
       "      <td>Nana</td>\n",
       "      <td>http://www.chicagomag.com/Chicago-Magazine/Nov...</td>\n",
       "    </tr>\n",
       "  </tbody>\n",
       "</table>\n",
       "</div>"
      ],
      "text/plain": [
       "  Rank                                            Menu  \\\n",
       "0    1                                             BLT   \n",
       "1    2                                   Fried Bologna   \n",
       "2    3                               Woodland Mushroom   \n",
       "3    4                                      Roast Beef   \n",
       "4    5                                            PB&L   \n",
       "5    6                     Belgian Chicken Curry Salad   \n",
       "6    7                                    Lobster Roll   \n",
       "7    8                             Smoked Salmon Salad   \n",
       "8    9                                 Atomica Cemitas   \n",
       "9   10  Grilled Laughing Bird Shrimp and Fried Po’ Boy   \n",
       "\n",
       "                              Cafe  \\\n",
       "0                      Old Oak Tap   \n",
       "1                        Au Cheval   \n",
       "2                             Xoco   \n",
       "3                        Al’s Deli   \n",
       "4           Publican Quality Meats   \n",
       "5  Hendrickx Belgian Bread Crafter   \n",
       "6                           Acadia   \n",
       "7                Birchwood Kitchen   \n",
       "8                   Cemitas Puebla   \n",
       "9                             Nana   \n",
       "\n",
       "                                                 URL  \n",
       "0  http://www.chicagomag.com/Chicago-Magazine/Nov...  \n",
       "1  http://www.chicagomag.com/Chicago-Magazine/Nov...  \n",
       "2  http://www.chicagomag.com/Chicago-Magazine/Nov...  \n",
       "3  http://www.chicagomag.com/Chicago-Magazine/Nov...  \n",
       "4  http://www.chicagomag.com/Chicago-Magazine/Nov...  \n",
       "5  https://www.chicagomag.com/Chicago-Magazine/No...  \n",
       "6  http://www.chicagomag.com/Chicago-Magazine/Nov...  \n",
       "7  http://www.chicagomag.com/Chicago-Magazine/Nov...  \n",
       "8  http://www.chicagomag.com/Chicago-Magazine/Nov...  \n",
       "9  http://www.chicagomag.com/Chicago-Magazine/Nov...  "
      ]
     },
     "execution_count": 48,
     "metadata": {},
     "output_type": "execute_result"
    }
   ],
   "source": [
    "df.head(10)"
   ]
  },
  {
   "cell_type": "code",
   "execution_count": 49,
   "id": "73405a76",
   "metadata": {},
   "outputs": [
    {
     "data": {
      "text/html": [
       "<div>\n",
       "<style scoped>\n",
       "    .dataframe tbody tr th:only-of-type {\n",
       "        vertical-align: middle;\n",
       "    }\n",
       "\n",
       "    .dataframe tbody tr th {\n",
       "        vertical-align: top;\n",
       "    }\n",
       "\n",
       "    .dataframe thead th {\n",
       "        text-align: right;\n",
       "    }\n",
       "</style>\n",
       "<table border=\"1\" class=\"dataframe\">\n",
       "  <thead>\n",
       "    <tr style=\"text-align: right;\">\n",
       "      <th></th>\n",
       "      <th>Rank</th>\n",
       "      <th>Cafe</th>\n",
       "      <th>Menu</th>\n",
       "      <th>URL</th>\n",
       "    </tr>\n",
       "  </thead>\n",
       "  <tbody>\n",
       "    <tr>\n",
       "      <th>0</th>\n",
       "      <td>1</td>\n",
       "      <td>Old Oak Tap</td>\n",
       "      <td>BLT</td>\n",
       "      <td>http://www.chicagomag.com/Chicago-Magazine/Nov...</td>\n",
       "    </tr>\n",
       "    <tr>\n",
       "      <th>1</th>\n",
       "      <td>2</td>\n",
       "      <td>Au Cheval</td>\n",
       "      <td>Fried Bologna</td>\n",
       "      <td>http://www.chicagomag.com/Chicago-Magazine/Nov...</td>\n",
       "    </tr>\n",
       "    <tr>\n",
       "      <th>2</th>\n",
       "      <td>3</td>\n",
       "      <td>Xoco</td>\n",
       "      <td>Woodland Mushroom</td>\n",
       "      <td>http://www.chicagomag.com/Chicago-Magazine/Nov...</td>\n",
       "    </tr>\n",
       "    <tr>\n",
       "      <th>3</th>\n",
       "      <td>4</td>\n",
       "      <td>Al’s Deli</td>\n",
       "      <td>Roast Beef</td>\n",
       "      <td>http://www.chicagomag.com/Chicago-Magazine/Nov...</td>\n",
       "    </tr>\n",
       "    <tr>\n",
       "      <th>4</th>\n",
       "      <td>5</td>\n",
       "      <td>Publican Quality Meats</td>\n",
       "      <td>PB&amp;L</td>\n",
       "      <td>http://www.chicagomag.com/Chicago-Magazine/Nov...</td>\n",
       "    </tr>\n",
       "  </tbody>\n",
       "</table>\n",
       "</div>"
      ],
      "text/plain": [
       "  Rank                    Cafe               Menu  \\\n",
       "0    1             Old Oak Tap                BLT   \n",
       "1    2               Au Cheval      Fried Bologna   \n",
       "2    3                    Xoco  Woodland Mushroom   \n",
       "3    4               Al’s Deli         Roast Beef   \n",
       "4    5  Publican Quality Meats               PB&L   \n",
       "\n",
       "                                                 URL  \n",
       "0  http://www.chicagomag.com/Chicago-Magazine/Nov...  \n",
       "1  http://www.chicagomag.com/Chicago-Magazine/Nov...  \n",
       "2  http://www.chicagomag.com/Chicago-Magazine/Nov...  \n",
       "3  http://www.chicagomag.com/Chicago-Magazine/Nov...  \n",
       "4  http://www.chicagomag.com/Chicago-Magazine/Nov...  "
      ]
     },
     "execution_count": 49,
     "metadata": {},
     "output_type": "execute_result"
    }
   ],
   "source": [
    "df = pd.DataFrame(data, columns=['Rank','Cafe','Menu','URL'])\n",
    "df.head(5)"
   ]
  },
  {
   "cell_type": "code",
   "execution_count": 50,
   "id": "291c772e",
   "metadata": {},
   "outputs": [],
   "source": [
    "df.to_csv('data/chicagomag_info.csv', sep=',', encoding='UTF-8')"
   ]
  },
  {
   "cell_type": "code",
   "execution_count": 51,
   "id": "4583a314",
   "metadata": {},
   "outputs": [
    {
     "name": "stdout",
     "output_type": "stream",
     "text": [
      " C 드라이브의 볼륨에는 이름이 없습니다.\n",
      " 볼륨 일련 번호: 78D5-6279\n",
      "\n",
      " C:\\Users\\student\\Anaconda_src\\S11_웹크롤링\\data 디렉터리\n",
      "\n",
      "2022-06-09  오후 12:45             7,715 chicagomag_info.csv\n",
      "2022-06-08  오후 03:08            10,444 chicagomag_info_v2.csv\n",
      "               2개 파일              18,159 바이트\n",
      "               0개 디렉터리  204,804,837,376 바이트 남음\n"
     ]
    }
   ],
   "source": [
    "%ls data\\c*.csv"
   ]
  },
  {
   "cell_type": "code",
   "execution_count": null,
   "id": "96c083f5",
   "metadata": {},
   "outputs": [],
   "source": []
  },
  {
   "cell_type": "code",
   "execution_count": null,
   "id": "81aba0e3",
   "metadata": {},
   "outputs": [],
   "source": []
  },
  {
   "cell_type": "code",
   "execution_count": null,
   "id": "85c353da",
   "metadata": {},
   "outputs": [],
   "source": []
  },
  {
   "cell_type": "code",
   "execution_count": null,
   "id": "fac81cec",
   "metadata": {},
   "outputs": [],
   "source": []
  }
 ],
 "metadata": {
  "kernelspec": {
   "display_name": "Python 3 (ipykernel)",
   "language": "python",
   "name": "python3"
  },
  "language_info": {
   "codemirror_mode": {
    "name": "ipython",
    "version": 3
   },
   "file_extension": ".py",
   "mimetype": "text/x-python",
   "name": "python",
   "nbconvert_exporter": "python",
   "pygments_lexer": "ipython3",
   "version": "3.9.12"
  }
 },
 "nbformat": 4,
 "nbformat_minor": 5
}
